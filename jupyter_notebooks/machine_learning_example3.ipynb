{
 "cells": [
  {
   "cell_type": "code",
   "execution_count": null,
   "id": "83aa2f57",
   "metadata": {},
   "outputs": [],
   "source": [
    "import pandas as pd\n",
    "import tensorflow as tf\n",
    "from sklearn.preprocessing import LabelEncoder, StandardScaler\n",
    "from sklearn.model_selection import train_test_split\n",
    "\n",
    "# Load data\n",
    "data = pd.read_csv('crime_data.csv')\n",
    "\n",
    "# Select relevant features\n",
    "features = ['feature1', 'feature2', 'feature3', 'feature4', 'feature5']\n",
    "target = 'high_crime_area'\n",
    "data = data[features + [target]]\n",
    "\n",
    "# Preprocess data\n",
    "cat_cols = ['feature1']\n",
    "num_cols = ['feature2', 'feature3', 'feature4', 'feature5']\n",
    "\n",
    "# Encode categorical features\n",
    "encoder = LabelEncoder()\n",
    "data['feature1'] = encoder.fit_transform(data['feature1'])\n",
    "\n",
    "# Scale numerical features\n",
    "scaler = StandardScaler()\n",
    "data[num_cols] = scaler.fit_transform(data[num_cols])\n",
    "\n",
    "# Split data into training and testing sets\n",
    "X = data[features]\n",
    "y = data[target]\n",
    "X_train, X_test, y_train, y_test = train_test_split(X, y, test_size=0.2, random_state=42)\n",
    "\n",
    "# Define model architecture\n",
    "inputs = tf.keras.Input(shape=(len(features),))\n",
    "x = tf.keras.layers.Dense(64, activation='relu')(inputs)\n",
    "x = tf.keras.layers.Dense(32, activation='relu')(x)\n",
    "outputs = tf.keras.layers.Dense(1, activation='sigmoid')(x)\n",
    "model = tf.keras.Model(inputs=inputs, outputs=outputs)\n",
    "\n",
    "# Compile model\n",
    "model.compile(optimizer='adam', loss='binary_crossentropy', metrics=['accuracy'])\n",
    "\n",
    "# Train model\n",
    "history = model.fit(X_train, y_train, epochs=100, batch_size=32, validation_data=(X_test, y_test))\n",
    "\n",
    "# Evaluate model\n",
    "model.evaluate(X_test, y_test)\n",
    "\n",
    "# Make predictions\n",
    "X_new = pd.DataFrame(np.array([[<feature1>, <feature2>, <feature3>, <feature4>, <feature5>]]), columns=features)\n",
    "X_new['feature1'] = encoder.transform(X_new['feature1'])\n",
    "X_new[num_cols] = scaler.transform(X_new[num_cols])\n",
    "y_pred = model.predict(X_new)\n"
   ]
  }
 ],
 "metadata": {
  "kernelspec": {
   "display_name": "Python 3",
   "language": "python",
   "name": "python3"
  },
  "language_info": {
   "codemirror_mode": {
    "name": "ipython",
    "version": 3
   },
   "file_extension": ".py",
   "mimetype": "text/x-python",
   "name": "python",
   "nbconvert_exporter": "python",
   "pygments_lexer": "ipython3",
   "version": "3.8.8"
  }
 },
 "nbformat": 4,
 "nbformat_minor": 5
}
