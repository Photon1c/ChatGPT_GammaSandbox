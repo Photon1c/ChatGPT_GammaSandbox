{
 "cells": [
  {
   "cell_type": "code",
   "execution_count": 1,
   "id": "39e21d3d",
   "metadata": {},
   "outputs": [
    {
     "name": "stderr",
     "output_type": "stream",
     "text": [
      "<ipython-input-1-b9c8ae1004ca>:9: DeprecationWarning: executable_path has been deprecated, please pass in a Service object\n",
      "  driver = webdriver.Edge(executable_path=edge_driver_path)\n",
      "<ipython-input-1-b9c8ae1004ca>:15: DeprecationWarning: find_element_by_name is deprecated. Please use find_element(by=By.NAME, value=name) instead\n",
      "  search_box = driver.find_element_by_name('q')\n",
      "<ipython-input-1-b9c8ae1004ca>:25: DeprecationWarning: find_elements_by_css_selector is deprecated. Please use find_elements(by=By.CSS_SELECTOR, value=css_selector) instead\n",
      "  search_results = driver.find_elements_by_css_selector('div.g')\n",
      "<ipython-input-1-b9c8ae1004ca>:32: DeprecationWarning: find_element_by_css_selector is deprecated. Please use find_element(by=By.CSS_SELECTOR, value=css_selector) instead\n",
      "  title = result.find_element_by_css_selector('h3').text\n",
      "<ipython-input-1-b9c8ae1004ca>:33: DeprecationWarning: find_element_by_css_selector is deprecated. Please use find_element(by=By.CSS_SELECTOR, value=css_selector) instead\n",
      "  link = result.find_element_by_css_selector('a').get_attribute('href')\n",
      "<ipython-input-1-b9c8ae1004ca>:34: DeprecationWarning: find_element_by_css_selector is deprecated. Please use find_element(by=By.CSS_SELECTOR, value=css_selector) instead\n",
      "  description = result.find_element_by_css_selector('span.st').text\n"
     ]
    },
    {
     "ename": "NoSuchElementException",
     "evalue": "Message: no such element: Unable to locate element: {\"method\":\"css selector\",\"selector\":\"span.st\"}\n  (Session info: MicrosoftEdge=111.0.1661.54)\nStacktrace:\nBacktrace:\n\tMicrosoft::Applications::Events::EventProperties::unpack [0x005499C3+23139]\n\tMicrosoft::Applications::Events::time_ticks_t::time_ticks_t [0x0045BA01+329985]\n\tMicrosoft::Applications::Events::ILogConfiguration::operator* [0x002B93CE+3854]\n\tMicrosoft::Applications::Events::GUID_t::GUID_t [0x002E2F8B+96667]\n\tMicrosoft::Applications::Events::GUID_t::GUID_t [0x002E3119+97065]\n\tMicrosoft::Applications::Events::GUID_t::GUID_t [0x002DBDE1+67569]\n\tMicrosoft::Applications::Events::GUID_t::GUID_t [0x002F74A4+179892]\n\tMicrosoft::Applications::Events::GUID_t::GUID_t [0x002DBD73+67459]\n\tMicrosoft::Applications::Events::GUID_t::GUID_t [0x002DBCF0+67328]\n\tMicrosoft::Applications::Events::GUID_t::GUID_t [0x002F7814+180772]\n\tMicrosoft::Applications::Events::GUID_t::GUID_t [0x002DBD73+67459]\n\tMicrosoft::Applications::Events::GUID_t::GUID_t [0x00307EDA+248042]\n\tMicrosoft::Applications::Events::GUID_t::GUID_t [0x002F71B6+179142]\n\tMicrosoft::Applications::Events::GUID_t::GUID_t [0x002DB091+64161]\n\tMicrosoft::Applications::Events::GUID_t::GUID_t [0x002DA83B+62027]\n\tMicrosoft::Applications::Events::GUID_t::GUID_t [0x002DB78D+65949]\n\tGetHandleVerifier [0x00643CB5+872405]\n\tMicrosoft::Applications::Events::ILogManager::DispatchEventBroadcast [0x00716B47+122807]\n\tMicrosoft::Applications::Events::ILogManager::DispatchEventBroadcast [0x007163BD+120877]\n\tMicrosoft::Applications::Events::ILogManager::DispatchEventBroadcast [0x0071C87A+146666]\n\tMicrosoft::Applications::Events::ILogManager::DispatchEventBroadcast [0x00717543+125363]\n\tMicrosoft::Applications::Events::time_ticks_t::time_ticks_t [0x0046FD7B+412795]\n\tMicrosoft::Applications::Events::time_ticks_t::time_ticks_t [0x0047C648+464200]\n\tMicrosoft::Applications::Events::time_ticks_t::time_ticks_t [0x0047C760+464480]\n\tMicrosoft::Applications::Events::time_ticks_t::time_ticks_t [0x0048DB44+535108]\n\tBaseThreadInitThunk [0x770800F9+25]\n\tRtlGetAppContainerNamedObjectPath [0x77B87BBE+286]\n\tRtlGetAppContainerNamedObjectPath [0x77B87B8E+238]\n",
     "output_type": "error",
     "traceback": [
      "\u001b[1;31m---------------------------------------------------------------------------\u001b[0m",
      "\u001b[1;31mNoSuchElementException\u001b[0m                    Traceback (most recent call last)",
      "Cell \u001b[1;32mIn[1], line 34\u001b[0m\n\u001b[0;32m     32\u001b[0m     title \u001b[38;5;241m=\u001b[39m result\u001b[38;5;241m.\u001b[39mfind_element_by_css_selector(\u001b[38;5;124m'\u001b[39m\u001b[38;5;124mh3\u001b[39m\u001b[38;5;124m'\u001b[39m)\u001b[38;5;241m.\u001b[39mtext\n\u001b[0;32m     33\u001b[0m     link \u001b[38;5;241m=\u001b[39m result\u001b[38;5;241m.\u001b[39mfind_element_by_css_selector(\u001b[38;5;124m'\u001b[39m\u001b[38;5;124ma\u001b[39m\u001b[38;5;124m'\u001b[39m)\u001b[38;5;241m.\u001b[39mget_attribute(\u001b[38;5;124m'\u001b[39m\u001b[38;5;124mhref\u001b[39m\u001b[38;5;124m'\u001b[39m)\n\u001b[1;32m---> 34\u001b[0m     description \u001b[38;5;241m=\u001b[39m \u001b[43mresult\u001b[49m\u001b[38;5;241;43m.\u001b[39;49m\u001b[43mfind_element_by_css_selector\u001b[49m\u001b[43m(\u001b[49m\u001b[38;5;124;43m'\u001b[39;49m\u001b[38;5;124;43mspan.st\u001b[39;49m\u001b[38;5;124;43m'\u001b[39;49m\u001b[43m)\u001b[49m\u001b[38;5;241m.\u001b[39mtext\n\u001b[0;32m     35\u001b[0m     results\u001b[38;5;241m.\u001b[39mappend({\u001b[38;5;124m'\u001b[39m\u001b[38;5;124mTitle\u001b[39m\u001b[38;5;124m'\u001b[39m: title, \u001b[38;5;124m'\u001b[39m\u001b[38;5;124mLink\u001b[39m\u001b[38;5;124m'\u001b[39m: link, \u001b[38;5;124m'\u001b[39m\u001b[38;5;124mDescription\u001b[39m\u001b[38;5;124m'\u001b[39m: description})\n\u001b[0;32m     37\u001b[0m \u001b[38;5;66;03m# Convert the list of search results into a pandas DataFrame\u001b[39;00m\n",
      "File \u001b[1;32mD:\\Anaconda\\lib\\site-packages\\selenium\\webdriver\\remote\\webelement.py:542\u001b[0m, in \u001b[0;36mWebElement.find_element_by_css_selector\u001b[1;34m(self, css_selector)\u001b[0m\n\u001b[0;32m    522\u001b[0m \u001b[38;5;124;03m\"\"\"Finds element within this element's children by CSS selector.\u001b[39;00m\n\u001b[0;32m    523\u001b[0m \n\u001b[0;32m    524\u001b[0m \u001b[38;5;124;03m:Args:\u001b[39;00m\n\u001b[1;32m   (...)\u001b[0m\n\u001b[0;32m    536\u001b[0m \u001b[38;5;124;03m        element = element.find_element_by_css_selector('#foo')\u001b[39;00m\n\u001b[0;32m    537\u001b[0m \u001b[38;5;124;03m\"\"\"\u001b[39;00m\n\u001b[0;32m    538\u001b[0m warnings\u001b[38;5;241m.\u001b[39mwarn(\n\u001b[0;32m    539\u001b[0m     \u001b[38;5;124m\"\u001b[39m\u001b[38;5;124mfind_element_by_css_selector is deprecated. Please use find_element(by=By.CSS_SELECTOR, value=css_selector) instead\u001b[39m\u001b[38;5;124m\"\u001b[39m,\n\u001b[0;32m    540\u001b[0m     \u001b[38;5;167;01mDeprecationWarning\u001b[39;00m,\n\u001b[0;32m    541\u001b[0m     stacklevel\u001b[38;5;241m=\u001b[39m\u001b[38;5;241m2\u001b[39m)\n\u001b[1;32m--> 542\u001b[0m \u001b[38;5;28;01mreturn\u001b[39;00m \u001b[38;5;28;43mself\u001b[39;49m\u001b[38;5;241;43m.\u001b[39;49m\u001b[43mfind_element\u001b[49m\u001b[43m(\u001b[49m\u001b[43mby\u001b[49m\u001b[38;5;241;43m=\u001b[39;49m\u001b[43mBy\u001b[49m\u001b[38;5;241;43m.\u001b[39;49m\u001b[43mCSS_SELECTOR\u001b[49m\u001b[43m,\u001b[49m\u001b[43m \u001b[49m\u001b[43mvalue\u001b[49m\u001b[38;5;241;43m=\u001b[39;49m\u001b[43mcss_selector\u001b[49m\u001b[43m)\u001b[49m\n",
      "File \u001b[1;32mD:\\Anaconda\\lib\\site-packages\\selenium\\webdriver\\remote\\webelement.py:796\u001b[0m, in \u001b[0;36mWebElement.find_element\u001b[1;34m(self, by, value)\u001b[0m\n\u001b[0;32m    793\u001b[0m     by \u001b[38;5;241m=\u001b[39m By\u001b[38;5;241m.\u001b[39mCSS_SELECTOR\n\u001b[0;32m    794\u001b[0m     value \u001b[38;5;241m=\u001b[39m \u001b[38;5;124m'\u001b[39m\u001b[38;5;124m[name=\u001b[39m\u001b[38;5;124m\"\u001b[39m\u001b[38;5;132;01m%s\u001b[39;00m\u001b[38;5;124m\"\u001b[39m\u001b[38;5;124m]\u001b[39m\u001b[38;5;124m'\u001b[39m \u001b[38;5;241m%\u001b[39m value\n\u001b[1;32m--> 796\u001b[0m \u001b[38;5;28;01mreturn\u001b[39;00m \u001b[38;5;28;43mself\u001b[39;49m\u001b[38;5;241;43m.\u001b[39;49m\u001b[43m_execute\u001b[49m\u001b[43m(\u001b[49m\u001b[43mCommand\u001b[49m\u001b[38;5;241;43m.\u001b[39;49m\u001b[43mFIND_CHILD_ELEMENT\u001b[49m\u001b[43m,\u001b[49m\n\u001b[0;32m    797\u001b[0m \u001b[43m                     \u001b[49m\u001b[43m{\u001b[49m\u001b[38;5;124;43m\"\u001b[39;49m\u001b[38;5;124;43musing\u001b[39;49m\u001b[38;5;124;43m\"\u001b[39;49m\u001b[43m:\u001b[49m\u001b[43m \u001b[49m\u001b[43mby\u001b[49m\u001b[43m,\u001b[49m\u001b[43m \u001b[49m\u001b[38;5;124;43m\"\u001b[39;49m\u001b[38;5;124;43mvalue\u001b[39;49m\u001b[38;5;124;43m\"\u001b[39;49m\u001b[43m:\u001b[49m\u001b[43m \u001b[49m\u001b[43mvalue\u001b[49m\u001b[43m}\u001b[49m\u001b[43m)\u001b[49m[\u001b[38;5;124m'\u001b[39m\u001b[38;5;124mvalue\u001b[39m\u001b[38;5;124m'\u001b[39m]\n",
      "File \u001b[1;32mD:\\Anaconda\\lib\\site-packages\\selenium\\webdriver\\remote\\webelement.py:773\u001b[0m, in \u001b[0;36mWebElement._execute\u001b[1;34m(self, command, params)\u001b[0m\n\u001b[0;32m    771\u001b[0m     params \u001b[38;5;241m=\u001b[39m {}\n\u001b[0;32m    772\u001b[0m params[\u001b[38;5;124m'\u001b[39m\u001b[38;5;124mid\u001b[39m\u001b[38;5;124m'\u001b[39m] \u001b[38;5;241m=\u001b[39m \u001b[38;5;28mself\u001b[39m\u001b[38;5;241m.\u001b[39m_id\n\u001b[1;32m--> 773\u001b[0m \u001b[38;5;28;01mreturn\u001b[39;00m \u001b[38;5;28;43mself\u001b[39;49m\u001b[38;5;241;43m.\u001b[39;49m\u001b[43m_parent\u001b[49m\u001b[38;5;241;43m.\u001b[39;49m\u001b[43mexecute\u001b[49m\u001b[43m(\u001b[49m\u001b[43mcommand\u001b[49m\u001b[43m,\u001b[49m\u001b[43m \u001b[49m\u001b[43mparams\u001b[49m\u001b[43m)\u001b[49m\n",
      "File \u001b[1;32mD:\\Anaconda\\lib\\site-packages\\selenium\\webdriver\\remote\\webdriver.py:430\u001b[0m, in \u001b[0;36mWebDriver.execute\u001b[1;34m(self, driver_command, params)\u001b[0m\n\u001b[0;32m    428\u001b[0m response \u001b[38;5;241m=\u001b[39m \u001b[38;5;28mself\u001b[39m\u001b[38;5;241m.\u001b[39mcommand_executor\u001b[38;5;241m.\u001b[39mexecute(driver_command, params)\n\u001b[0;32m    429\u001b[0m \u001b[38;5;28;01mif\u001b[39;00m response:\n\u001b[1;32m--> 430\u001b[0m     \u001b[38;5;28;43mself\u001b[39;49m\u001b[38;5;241;43m.\u001b[39;49m\u001b[43merror_handler\u001b[49m\u001b[38;5;241;43m.\u001b[39;49m\u001b[43mcheck_response\u001b[49m\u001b[43m(\u001b[49m\u001b[43mresponse\u001b[49m\u001b[43m)\u001b[49m\n\u001b[0;32m    431\u001b[0m     response[\u001b[38;5;124m'\u001b[39m\u001b[38;5;124mvalue\u001b[39m\u001b[38;5;124m'\u001b[39m] \u001b[38;5;241m=\u001b[39m \u001b[38;5;28mself\u001b[39m\u001b[38;5;241m.\u001b[39m_unwrap_value(\n\u001b[0;32m    432\u001b[0m         response\u001b[38;5;241m.\u001b[39mget(\u001b[38;5;124m'\u001b[39m\u001b[38;5;124mvalue\u001b[39m\u001b[38;5;124m'\u001b[39m, \u001b[38;5;28;01mNone\u001b[39;00m))\n\u001b[0;32m    433\u001b[0m     \u001b[38;5;28;01mreturn\u001b[39;00m response\n",
      "File \u001b[1;32mD:\\Anaconda\\lib\\site-packages\\selenium\\webdriver\\remote\\errorhandler.py:247\u001b[0m, in \u001b[0;36mErrorHandler.check_response\u001b[1;34m(self, response)\u001b[0m\n\u001b[0;32m    245\u001b[0m         alert_text \u001b[38;5;241m=\u001b[39m value[\u001b[38;5;124m'\u001b[39m\u001b[38;5;124malert\u001b[39m\u001b[38;5;124m'\u001b[39m]\u001b[38;5;241m.\u001b[39mget(\u001b[38;5;124m'\u001b[39m\u001b[38;5;124mtext\u001b[39m\u001b[38;5;124m'\u001b[39m)\n\u001b[0;32m    246\u001b[0m     \u001b[38;5;28;01mraise\u001b[39;00m exception_class(message, screen, stacktrace, alert_text)  \u001b[38;5;66;03m# type: ignore[call-arg]  # mypy is not smart enough here\u001b[39;00m\n\u001b[1;32m--> 247\u001b[0m \u001b[38;5;28;01mraise\u001b[39;00m exception_class(message, screen, stacktrace)\n",
      "\u001b[1;31mNoSuchElementException\u001b[0m: Message: no such element: Unable to locate element: {\"method\":\"css selector\",\"selector\":\"span.st\"}\n  (Session info: MicrosoftEdge=111.0.1661.54)\nStacktrace:\nBacktrace:\n\tMicrosoft::Applications::Events::EventProperties::unpack [0x005499C3+23139]\n\tMicrosoft::Applications::Events::time_ticks_t::time_ticks_t [0x0045BA01+329985]\n\tMicrosoft::Applications::Events::ILogConfiguration::operator* [0x002B93CE+3854]\n\tMicrosoft::Applications::Events::GUID_t::GUID_t [0x002E2F8B+96667]\n\tMicrosoft::Applications::Events::GUID_t::GUID_t [0x002E3119+97065]\n\tMicrosoft::Applications::Events::GUID_t::GUID_t [0x002DBDE1+67569]\n\tMicrosoft::Applications::Events::GUID_t::GUID_t [0x002F74A4+179892]\n\tMicrosoft::Applications::Events::GUID_t::GUID_t [0x002DBD73+67459]\n\tMicrosoft::Applications::Events::GUID_t::GUID_t [0x002DBCF0+67328]\n\tMicrosoft::Applications::Events::GUID_t::GUID_t [0x002F7814+180772]\n\tMicrosoft::Applications::Events::GUID_t::GUID_t [0x002DBD73+67459]\n\tMicrosoft::Applications::Events::GUID_t::GUID_t [0x00307EDA+248042]\n\tMicrosoft::Applications::Events::GUID_t::GUID_t [0x002F71B6+179142]\n\tMicrosoft::Applications::Events::GUID_t::GUID_t [0x002DB091+64161]\n\tMicrosoft::Applications::Events::GUID_t::GUID_t [0x002DA83B+62027]\n\tMicrosoft::Applications::Events::GUID_t::GUID_t [0x002DB78D+65949]\n\tGetHandleVerifier [0x00643CB5+872405]\n\tMicrosoft::Applications::Events::ILogManager::DispatchEventBroadcast [0x00716B47+122807]\n\tMicrosoft::Applications::Events::ILogManager::DispatchEventBroadcast [0x007163BD+120877]\n\tMicrosoft::Applications::Events::ILogManager::DispatchEventBroadcast [0x0071C87A+146666]\n\tMicrosoft::Applications::Events::ILogManager::DispatchEventBroadcast [0x00717543+125363]\n\tMicrosoft::Applications::Events::time_ticks_t::time_ticks_t [0x0046FD7B+412795]\n\tMicrosoft::Applications::Events::time_ticks_t::time_ticks_t [0x0047C648+464200]\n\tMicrosoft::Applications::Events::time_ticks_t::time_ticks_t [0x0047C760+464480]\n\tMicrosoft::Applications::Events::time_ticks_t::time_ticks_t [0x0048DB44+535108]\n\tBaseThreadInitThunk [0x770800F9+25]\n\tRtlGetAppContainerNamedObjectPath [0x77B87BBE+286]\n\tRtlGetAppContainerNamedObjectPath [0x77B87B8E+238]\n"
     ]
    }
   ],
   "source": [
    "from selenium import webdriver\n",
    "import pandas as pd\n",
    "import time\n",
    "\n",
    "# Set the path to the Microsoft Edge driver executable\n",
    "edge_driver_path = 'D:/mainline/automationstation/msedgedriver.exe'\n",
    "\n",
    "# Initialize a new instance of the Microsoft Edge driver\n",
    "driver = webdriver.Edge(executable_path=edge_driver_path)\n",
    "\n",
    "# Navigate to Google.com\n",
    "driver.get('https://www.google.com/')\n",
    "\n",
    "# Find the search box and enter a query\n",
    "search_box = driver.find_element_by_name('q')\n",
    "search_box.send_keys('pandas')\n",
    "\n",
    "# Submit the search query\n",
    "search_box.submit()\n",
    "\n",
    "# Wait for the search results to load\n",
    "time.sleep(5)\n",
    "\n",
    "# Extract the search results\n",
    "search_results = driver.find_elements_by_css_selector('div.g')\n",
    "\n",
    "# Initialize an empty list to store the search results\n",
    "results = []\n",
    "\n",
    "# Loop over the search results and extract the data\n",
    "for result in search_results:\n",
    "    title = result.find_element_by_css_selector('h3').text\n",
    "    link = result.find_element_by_css_selector('a').get_attribute('href')\n",
    "    description = result.find_element_by_css_selector('span.st').text\n",
    "    results.append({'Title': title, 'Link': link, 'Description': description})\n",
    "\n",
    "# Convert the list of search results into a pandas DataFrame\n",
    "search_df = pd.DataFrame(results)\n",
    "\n",
    "# Print the resulting DataFrame\n",
    "print(search_df.to_string(index=False))\n"
   ]
  },
  {
   "cell_type": "code",
   "execution_count": null,
   "id": "684699bb",
   "metadata": {},
   "outputs": [],
   "source": []
  }
 ],
 "metadata": {
  "kernelspec": {
   "display_name": "Python 3",
   "language": "python",
   "name": "python3"
  },
  "language_info": {
   "codemirror_mode": {
    "name": "ipython",
    "version": 3
   },
   "file_extension": ".py",
   "mimetype": "text/x-python",
   "name": "python",
   "nbconvert_exporter": "python",
   "pygments_lexer": "ipython3",
   "version": "3.8.8"
  }
 },
 "nbformat": 4,
 "nbformat_minor": 5
}
