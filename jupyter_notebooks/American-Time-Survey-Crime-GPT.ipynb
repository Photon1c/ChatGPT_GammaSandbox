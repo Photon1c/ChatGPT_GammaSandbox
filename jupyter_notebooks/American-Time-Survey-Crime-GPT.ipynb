{
 "cells": [
  {
   "cell_type": "code",
   "execution_count": 5,
   "id": "549e417d",
   "metadata": {},
   "outputs": [
    {
     "ename": "BadZipFile",
     "evalue": "File is not a zip file",
     "output_type": "error",
     "traceback": [
      "\u001b[1;31m---------------------------------------------------------------------------\u001b[0m",
      "\u001b[1;31mBadZipFile\u001b[0m                                Traceback (most recent call last)",
      "Cell \u001b[1;32mIn[5], line 14\u001b[0m\n\u001b[0;32m     12\u001b[0m \u001b[38;5;66;03m# read the data into a pandas DataFrame\u001b[39;00m\n\u001b[0;32m     13\u001b[0m \u001b[38;5;28;01mwith\u001b[39;00m io\u001b[38;5;241m.\u001b[39mBytesIO(data) \u001b[38;5;28;01mas\u001b[39;00m f:\n\u001b[1;32m---> 14\u001b[0m     \u001b[38;5;28;01mwith\u001b[39;00m \u001b[43mzipfile\u001b[49m\u001b[38;5;241;43m.\u001b[39;49m\u001b[43mZipFile\u001b[49m\u001b[43m(\u001b[49m\u001b[43mf\u001b[49m\u001b[43m)\u001b[49m \u001b[38;5;28;01mas\u001b[39;00m zf:\n\u001b[0;32m     15\u001b[0m         \u001b[38;5;28;01mwith\u001b[39;00m zf\u001b[38;5;241m.\u001b[39mopen(\u001b[38;5;124m'\u001b[39m\u001b[38;5;124matussum_2021.zip\u001b[39m\u001b[38;5;124m'\u001b[39m) \u001b[38;5;28;01mas\u001b[39;00m infile:\n\u001b[0;32m     16\u001b[0m             df \u001b[38;5;241m=\u001b[39m pd\u001b[38;5;241m.\u001b[39mread_csv(infile)\n",
      "File \u001b[1;32mD:\\Anaconda\\lib\\zipfile.py:1269\u001b[0m, in \u001b[0;36mZipFile.__init__\u001b[1;34m(self, file, mode, compression, allowZip64, compresslevel, strict_timestamps)\u001b[0m\n\u001b[0;32m   1267\u001b[0m \u001b[38;5;28;01mtry\u001b[39;00m:\n\u001b[0;32m   1268\u001b[0m     \u001b[38;5;28;01mif\u001b[39;00m mode \u001b[38;5;241m==\u001b[39m \u001b[38;5;124m'\u001b[39m\u001b[38;5;124mr\u001b[39m\u001b[38;5;124m'\u001b[39m:\n\u001b[1;32m-> 1269\u001b[0m         \u001b[38;5;28;43mself\u001b[39;49m\u001b[38;5;241;43m.\u001b[39;49m\u001b[43m_RealGetContents\u001b[49m\u001b[43m(\u001b[49m\u001b[43m)\u001b[49m\n\u001b[0;32m   1270\u001b[0m     \u001b[38;5;28;01melif\u001b[39;00m mode \u001b[38;5;129;01min\u001b[39;00m (\u001b[38;5;124m'\u001b[39m\u001b[38;5;124mw\u001b[39m\u001b[38;5;124m'\u001b[39m, \u001b[38;5;124m'\u001b[39m\u001b[38;5;124mx\u001b[39m\u001b[38;5;124m'\u001b[39m):\n\u001b[0;32m   1271\u001b[0m         \u001b[38;5;66;03m# set the modified flag so central directory gets written\u001b[39;00m\n\u001b[0;32m   1272\u001b[0m         \u001b[38;5;66;03m# even if no files are added to the archive\u001b[39;00m\n\u001b[0;32m   1273\u001b[0m         \u001b[38;5;28mself\u001b[39m\u001b[38;5;241m.\u001b[39m_didModify \u001b[38;5;241m=\u001b[39m \u001b[38;5;28;01mTrue\u001b[39;00m\n",
      "File \u001b[1;32mD:\\Anaconda\\lib\\zipfile.py:1336\u001b[0m, in \u001b[0;36mZipFile._RealGetContents\u001b[1;34m(self)\u001b[0m\n\u001b[0;32m   1334\u001b[0m     \u001b[38;5;28;01mraise\u001b[39;00m BadZipFile(\u001b[38;5;124m\"\u001b[39m\u001b[38;5;124mFile is not a zip file\u001b[39m\u001b[38;5;124m\"\u001b[39m)\n\u001b[0;32m   1335\u001b[0m \u001b[38;5;28;01mif\u001b[39;00m \u001b[38;5;129;01mnot\u001b[39;00m endrec:\n\u001b[1;32m-> 1336\u001b[0m     \u001b[38;5;28;01mraise\u001b[39;00m BadZipFile(\u001b[38;5;124m\"\u001b[39m\u001b[38;5;124mFile is not a zip file\u001b[39m\u001b[38;5;124m\"\u001b[39m)\n\u001b[0;32m   1337\u001b[0m \u001b[38;5;28;01mif\u001b[39;00m \u001b[38;5;28mself\u001b[39m\u001b[38;5;241m.\u001b[39mdebug \u001b[38;5;241m>\u001b[39m \u001b[38;5;241m1\u001b[39m:\n\u001b[0;32m   1338\u001b[0m     \u001b[38;5;28mprint\u001b[39m(endrec)\n",
      "\u001b[1;31mBadZipFile\u001b[0m: File is not a zip file"
     ]
    }
   ],
   "source": [
    "import pandas as pd\n",
    "import matplotlib.pyplot as plt\n",
    "import requests\n",
    "import io\n",
    "import zipfile\n",
    "\n",
    "# download the 2021 ATUS CSV file from the BLS website\n",
    "url = \"https://www.bls.gov/tus/atuscsv/atussum-2021.zip\"\n",
    "response = requests.get(url)\n",
    "data = response.content\n",
    "\n",
    "# read the data into a pandas DataFrame\n",
    "with io.BytesIO(data) as f:\n",
    "    with zipfile.ZipFile(f) as zf:\n",
    "        with zf.open('atussum_2021.zip') as infile:\n",
    "            df = pd.read_csv(infile)\n",
    "\n",
    "# filter the DataFrame to include only relevant columns\n",
    "cols = ['tucaseid', 't010101', 't010102', 't010201', 't010299', 't010301', 't010399', 't020101', 't020102', 't020201', 't020202', 't020203', 't020301', 't020302', 't020303', 't020304', 't020399', 't020401', 't020402', 't020499', 't020501', 't020502', 't020599', 't020601', 't020602', 't020699', 't020701', 't020799', 't020801', 't020802', 't020899', 't020901', 't020902', 't020903', 't020999', 't029999']\n",
    "df = df[cols]\n",
    "\n",
    "# create a new column for discretionary time\n",
    "discretionary_cols = ['t010101', 't010102', 't010201', 't010299', 't010301', 't010399', 't020101', 't020102', 't020201', 't020202', 't020203', 't020301', 't020302', 't020303', 't020304', 't020399', 't020401', 't020402', 't020499', 't020501', 't020502', 't020599', 't020601', 't020602', 't020699', 't020701', 't020799', 't020801', 't020802', 't020899', 't020901', 't020902', 't020903', 't020999']\n",
    "df['discretionary'] = df[discretionary_cols].sum(axis=1)\n",
    "\n",
    "# create a bar graph for all activities\n",
    "activity_cols = [col for col in cols if col != 'tucaseid' and col != 'discretionary']\n",
    "activity_sums = df[activity_cols].sum(axis=0)\n",
    "activity_sums.plot(kind='bar', title='All Activities (2021)')\n",
    "plt.show()\n",
    "\n",
    "# create a bar graph for discretionary activities\n",
    "discretionary_sums = df['discretionary'].sum(axis=0)\n",
    "discretionary_sums.plot(kind='bar', title='Discretionary Activities (2021)')\n",
    "plt.show()\n"
   ]
  },
  {
   "cell_type": "code",
   "execution_count": null,
   "id": "b7101d62",
   "metadata": {},
   "outputs": [],
   "source": []
  }
 ],
 "metadata": {
  "kernelspec": {
   "display_name": "Python 3",
   "language": "python",
   "name": "python3"
  },
  "language_info": {
   "codemirror_mode": {
    "name": "ipython",
    "version": 3
   },
   "file_extension": ".py",
   "mimetype": "text/x-python",
   "name": "python",
   "nbconvert_exporter": "python",
   "pygments_lexer": "ipython3",
   "version": "3.8.8"
  }
 },
 "nbformat": 4,
 "nbformat_minor": 5
}
