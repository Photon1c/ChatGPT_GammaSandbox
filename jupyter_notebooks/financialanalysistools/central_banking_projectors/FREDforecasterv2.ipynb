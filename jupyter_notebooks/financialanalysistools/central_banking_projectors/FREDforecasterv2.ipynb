{
 "cells": [
  {
   "cell_type": "code",
   "execution_count": null,
   "id": "389b0009",
   "metadata": {},
   "outputs": [],
   "source": [
    "#get time series data from FRED and forecast\n",
    "#load environment variales\n",
    "from dotenv import load_dotenv\n",
    "import os\n",
    "\n",
    "load_dotenv(dotenv_path='../a.env')\n",
    "\n",
    "FED_API_KEY = os.environ['FED_API_KEY']\n"
   ]
  },
  {
   "cell_type": "code",
   "execution_count": null,
   "id": "4e6573f1",
   "metadata": {},
   "outputs": [],
   "source": [
    "#Construct chart from downloaded CSV file\n",
    "\n"
   ]
  }
 ],
 "metadata": {
  "kernelspec": {
   "display_name": "Python 3 (ipykernel)",
   "language": "python",
   "name": "python3"
  },
  "language_info": {
   "codemirror_mode": {
    "name": "ipython",
    "version": 3
   },
   "file_extension": ".py",
   "mimetype": "text/x-python",
   "name": "python",
   "nbconvert_exporter": "python",
   "pygments_lexer": "ipython3",
   "version": "3.10.9"
  }
 },
 "nbformat": 4,
 "nbformat_minor": 5
}
