{
 "cells": [
  {
   "cell_type": "code",
   "execution_count": null,
   "id": "ab2d42f6",
   "metadata": {},
   "outputs": [],
   "source": [
    "nbdime diff OptionPayoffVizMain.ipynb OptionPayoffViz2.ipynb OptionPayoffViz3.ipynb"
   ]
  },
  {
   "cell_type": "code",
   "execution_count": 2,
   "id": "d5a70684",
   "metadata": {},
   "outputs": [],
   "source": [
    "from td.client import TDClient\n",
    "import os\n",
    "from dotenv import load_dotenv\n",
    "\n",
    "\n",
    "# Get the current working directory\n",
    "current_dir = os.getcwd()\n",
    "\n",
    "# Construct the absolute path to the .env file three directories up\n",
    "dotenv_path = os.path.join(current_dir, '..', '..', '..', '..', 'a.env')\n",
    "\n",
    "# Load the environment variables from the .env file\n",
    "load_dotenv(dotenv_path=dotenv_path)\n",
    "\n",
    "CONSUMER_KEY = os.environ['CONSUMER_KEY']\n",
    "REDIRECT_URI = os.environ['REDIRECT_URI']\n",
    "JSON_PATH = os.environ['JSON_PATH']\n",
    "lesl = os.environ['td_account']\n",
    "\n",
    "#Create a new instance of the client\n",
    "TDSession = TDClient(\n",
    "    client_id= CONSUMER_KEY,\n",
    "    redirect_uri= REDIRECT_URI,\n",
    "    credentials_path= JSON_PATH\n",
    ")\n",
    "#Retrieve position data, export to iterable list in file\n",
    "Sell1 = TDSession.get_accounts(account=lesl, fields=['positions'])"
   ]
  },
  {
   "cell_type": "code",
   "execution_count": null,
   "id": "e962d6a9",
   "metadata": {},
   "outputs": [],
   "source": []
  }
 ],
 "metadata": {
  "kernelspec": {
   "display_name": "Python 3 (ipykernel)",
   "language": "python",
   "name": "python3"
  },
  "language_info": {
   "codemirror_mode": {
    "name": "ipython",
    "version": 3
   },
   "file_extension": ".py",
   "mimetype": "text/x-python",
   "name": "python",
   "nbconvert_exporter": "python",
   "pygments_lexer": "ipython3",
   "version": "3.10.9"
  }
 },
 "nbformat": 4,
 "nbformat_minor": 5
}
