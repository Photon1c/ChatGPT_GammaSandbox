{
 "cells": [
  {
   "cell_type": "code",
   "execution_count": 1,
   "id": "9069b007",
   "metadata": {},
   "outputs": [
    {
     "name": "stdout",
     "output_type": "stream",
     "text": [
      "Retrieving data for MMM\n",
      "[*********************100%***********************]  1 of 1 completed\n",
      "Retrieving data for CSCO\n",
      "[*********************100%***********************]  1 of 1 completed\n",
      "             Open       Close  Percent Change\n",
      "Ticker                                       \n",
      "CSCO    54.630001   55.040001        0.005664\n",
      "MMM     99.980003  100.010002       -0.017584\n"
     ]
    },
    {
     "name": "stderr",
     "output_type": "stream",
     "text": [
      "C:\\Users\\Spark\\AppData\\Local\\Temp\\ipykernel_26704\\1607428766.py:27: FutureWarning: The frame.append method is deprecated and will be removed from pandas in a future version. Use pandas.concat instead.\n",
      "  df = df.append(data)\n",
      "C:\\Users\\Spark\\AppData\\Local\\Temp\\ipykernel_26704\\1607428766.py:27: FutureWarning: The frame.append method is deprecated and will be removed from pandas in a future version. Use pandas.concat instead.\n",
      "  df = df.append(data)\n"
     ]
    }
   ],
   "source": [
    "#Quick script using chatgpt giving it the following prompt:\n",
    "#\"Write a script using pandas and yfinance to generate\n",
    "#a table showing the week's top 10 performing stocks.\"\n",
    "#Code debugged using ChatGPT too :)\n",
    "import pandas as pd\n",
    "import yfinance as yf\n",
    "import traceback\n",
    "\n",
    "# Define the start and end dates for the data\n",
    "start_date = pd.Timestamp.now().date() - pd.Timedelta(days=7)\n",
    "end_date = pd.Timestamp.now().date()\n",
    "\n",
    "# Define the ticker symbols to retrieve data for\n",
    "tickers = ['MMM', 'CSCO']\n",
    "\n",
    "# Create an empty DataFrame to store the stock data\n",
    "df = pd.DataFrame()\n",
    "\n",
    "# Retrieve the data for each ticker and append it to the DataFrame\n",
    "for ticker in tickers:\n",
    "    print(f\"Retrieving data for {ticker}\")\n",
    "    try:\n",
    "        data = yf.download(ticker, start=start_date, end=end_date)\n",
    "        #print(f\"Data for {ticker} retrieved successfully\")\n",
    "        data['Ticker'] = ticker\n",
    "        #print(f\"Data for {ticker} appended to DataFrame\")\n",
    "        df = df.append(data)\n",
    "    except:\n",
    "        #print(f\"Error retrieving data for {ticker}\")\n",
    "        traceback.print_exc()\n",
    "\n",
    "# Check the DataFrame for missing columns\n",
    "#print(df.head())\n",
    "\n",
    "# Check that the Ticker column was added to the DataFrame correctly\n",
    "#print(df[df['Ticker'] == 'AAPL'].head())\n",
    "\n",
    "# Calculate the percentage change for each ticker over the week\n",
    "df['Percent Change'] = df.groupby('Ticker')['Close'].pct_change()\n",
    "\n",
    "# Sort the DataFrame by percentage change and select the top 10 performing stocks\n",
    "top_10 = df.groupby('Ticker').last().sort_values('Percent Change', ascending=False).head(10)\n",
    "\n",
    "# Print the top 10 performing stocks\n",
    "print(top_10[['Open', 'Close', 'Percent Change']])\n"
   ]
  },
  {
   "cell_type": "code",
   "execution_count": null,
   "id": "5736f4c1",
   "metadata": {},
   "outputs": [],
   "source": []
  }
 ],
 "metadata": {
  "kernelspec": {
   "display_name": "Python 3 (ipykernel)",
   "language": "python",
   "name": "python3"
  },
  "language_info": {
   "codemirror_mode": {
    "name": "ipython",
    "version": 3
   },
   "file_extension": ".py",
   "mimetype": "text/x-python",
   "name": "python",
   "nbconvert_exporter": "python",
   "pygments_lexer": "ipython3",
   "version": "3.10.9"
  }
 },
 "nbformat": 4,
 "nbformat_minor": 5
}
