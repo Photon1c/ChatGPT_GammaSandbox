{
 "cells": [
  {
   "cell_type": "code",
   "execution_count": 12,
   "id": "9069b007",
   "metadata": {},
   "outputs": [
    {
     "name": "stdout",
     "output_type": "stream",
     "text": [
      "Retrieving data for BA\n",
      "[*********************100%***********************]  1 of 1 completed\n",
      "Retrieving data for MSFT\n",
      "[*********************100%***********************]  1 of 1 completed\n",
      "Retrieving data for AMZN\n"
     ]
    },
    {
     "name": "stderr",
     "output_type": "stream",
     "text": [
      "<ipython-input-12-8ebed27c98b3>:27: FutureWarning: The frame.append method is deprecated and will be removed from pandas in a future version. Use pandas.concat instead.\n",
      "  df = df.append(data)\n",
      "<ipython-input-12-8ebed27c98b3>:27: FutureWarning: The frame.append method is deprecated and will be removed from pandas in a future version. Use pandas.concat instead.\n",
      "  df = df.append(data)\n"
     ]
    },
    {
     "name": "stdout",
     "output_type": "stream",
     "text": [
      "[*********************100%***********************]  1 of 1 completed\n",
      "Retrieving data for GOOG\n",
      "[*********************100%***********************]  1 of 1 completed\n",
      "Retrieving data for META\n"
     ]
    },
    {
     "name": "stderr",
     "output_type": "stream",
     "text": [
      "<ipython-input-12-8ebed27c98b3>:27: FutureWarning: The frame.append method is deprecated and will be removed from pandas in a future version. Use pandas.concat instead.\n",
      "  df = df.append(data)\n",
      "<ipython-input-12-8ebed27c98b3>:27: FutureWarning: The frame.append method is deprecated and will be removed from pandas in a future version. Use pandas.concat instead.\n",
      "  df = df.append(data)\n"
     ]
    },
    {
     "name": "stdout",
     "output_type": "stream",
     "text": [
      "[*********************100%***********************]  1 of 1 completed\n",
      "Retrieving data for TSLA\n",
      "[*********************100%***********************]  1 of 1 completed\n",
      "Retrieving data for NVDA\n"
     ]
    },
    {
     "name": "stderr",
     "output_type": "stream",
     "text": [
      "<ipython-input-12-8ebed27c98b3>:27: FutureWarning: The frame.append method is deprecated and will be removed from pandas in a future version. Use pandas.concat instead.\n",
      "  df = df.append(data)\n",
      "<ipython-input-12-8ebed27c98b3>:27: FutureWarning: The frame.append method is deprecated and will be removed from pandas in a future version. Use pandas.concat instead.\n",
      "  df = df.append(data)\n"
     ]
    },
    {
     "name": "stdout",
     "output_type": "stream",
     "text": [
      "[*********************100%***********************]  1 of 1 completed\n",
      "Retrieving data for F\n",
      "[*********************100%***********************]  1 of 1 completed\n"
     ]
    },
    {
     "name": "stderr",
     "output_type": "stream",
     "text": [
      "<ipython-input-12-8ebed27c98b3>:27: FutureWarning: The frame.append method is deprecated and will be removed from pandas in a future version. Use pandas.concat instead.\n",
      "  df = df.append(data)\n",
      "<ipython-input-12-8ebed27c98b3>:27: FutureWarning: The frame.append method is deprecated and will be removed from pandas in a future version. Use pandas.concat instead.\n",
      "  df = df.append(data)\n"
     ]
    },
    {
     "name": "stdout",
     "output_type": "stream",
     "text": [
      "Retrieving data for IOVA\n",
      "[*********************100%***********************]  1 of 1 completed\n",
      "Retrieving data for JPM\n",
      "[*********************100%***********************]  1 of 1 completed\n",
      "              Open       Close  Percent Change\n",
      "Ticker                                        \n",
      "MSFT    277.239990  280.570007        0.010480\n",
      "META    205.179993  206.009995        0.008469\n",
      "F        11.320000   11.510000        0.007881\n",
      "BA      195.500000  197.529999       -0.001870\n",
      "GOOG    105.739998  106.059998       -0.001882\n",
      "AMZN     98.070000   98.129997       -0.005876\n",
      "TSLA    191.649994  190.410004       -0.009416\n",
      "NVDA    270.309998  267.790009       -0.015152\n",
      "JPM     125.629997  124.910004       -0.015216\n",
      "IOVA      5.750000    5.530000       -0.038261\n"
     ]
    },
    {
     "name": "stderr",
     "output_type": "stream",
     "text": [
      "<ipython-input-12-8ebed27c98b3>:27: FutureWarning: The frame.append method is deprecated and will be removed from pandas in a future version. Use pandas.concat instead.\n",
      "  df = df.append(data)\n",
      "<ipython-input-12-8ebed27c98b3>:27: FutureWarning: The frame.append method is deprecated and will be removed from pandas in a future version. Use pandas.concat instead.\n",
      "  df = df.append(data)\n"
     ]
    }
   ],
   "source": [
    "#Quick script using chatgpt giving it the following prompt:\n",
    "#\"Write a script using pandas and yfinance to generate\n",
    "#a table showing the week's top 10 performing stocks.\"\n",
    "#Code debugged using ChatGPT too :)\n",
    "import pandas as pd\n",
    "import yfinance as yf\n",
    "import traceback\n",
    "\n",
    "# Define the start and end dates for the data\n",
    "start_date = pd.Timestamp.now().date() - pd.Timedelta(days=7)\n",
    "end_date = pd.Timestamp.now().date()\n",
    "\n",
    "# Define the ticker symbols to retrieve data for\n",
    "tickers = ['BA', 'MSFT', 'AMZN', 'GOOG', 'META', 'TSLA', 'NVDA', 'F', 'IOVA', 'JPM']\n",
    "\n",
    "# Create an empty DataFrame to store the stock data\n",
    "df = pd.DataFrame()\n",
    "\n",
    "# Retrieve the data for each ticker and append it to the DataFrame\n",
    "for ticker in tickers:\n",
    "    print(f\"Retrieving data for {ticker}\")\n",
    "    try:\n",
    "        data = yf.download(ticker, start=start_date, end=end_date)\n",
    "        #print(f\"Data for {ticker} retrieved successfully\")\n",
    "        data['Ticker'] = ticker\n",
    "        #print(f\"Data for {ticker} appended to DataFrame\")\n",
    "        df = df.append(data)\n",
    "    except:\n",
    "        #print(f\"Error retrieving data for {ticker}\")\n",
    "        traceback.print_exc()\n",
    "\n",
    "# Check the DataFrame for missing columns\n",
    "#print(df.head())\n",
    "\n",
    "# Check that the Ticker column was added to the DataFrame correctly\n",
    "#print(df[df['Ticker'] == 'AAPL'].head())\n",
    "\n",
    "# Calculate the percentage change for each ticker over the week\n",
    "df['Percent Change'] = df.groupby('Ticker')['Close'].pct_change()\n",
    "\n",
    "# Sort the DataFrame by percentage change and select the top 10 performing stocks\n",
    "top_10 = df.groupby('Ticker').last().sort_values('Percent Change', ascending=False).head(10)\n",
    "\n",
    "# Print the top 10 performing stocks\n",
    "print(top_10[['Open', 'Close', 'Percent Change']])\n"
   ]
  },
  {
   "cell_type": "code",
   "execution_count": null,
   "id": "5736f4c1",
   "metadata": {},
   "outputs": [],
   "source": []
  }
 ],
 "metadata": {
  "kernelspec": {
   "display_name": "Python 3",
   "language": "python",
   "name": "python3"
  },
  "language_info": {
   "codemirror_mode": {
    "name": "ipython",
    "version": 3
   },
   "file_extension": ".py",
   "mimetype": "text/x-python",
   "name": "python",
   "nbconvert_exporter": "python",
   "pygments_lexer": "ipython3",
   "version": "3.8.8"
  }
 },
 "nbformat": 4,
 "nbformat_minor": 5
}
