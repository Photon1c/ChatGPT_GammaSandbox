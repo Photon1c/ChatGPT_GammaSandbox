{
 "cells": [
  {
   "cell_type": "markdown",
   "id": "ace38537",
   "metadata": {},
   "source": [
    "The geometric law of reflection famously used in pool is compared in these functions with option price projection modeling."
   ]
  },
  {
   "cell_type": "code",
   "execution_count": 5,
   "id": "e52cd337",
   "metadata": {},
   "outputs": [
    {
     "name": "stdout",
     "output_type": "stream",
     "text": [
      "Reflection Angle: 150.00 degrees\n",
      "Option Price: 2.75\n"
     ]
    }
   ],
   "source": [
    "import math\n",
    "\n",
    "# Function to calculate the reflection angle based on the geometric law of reflection\n",
    "def calculate_reflection_angle(incident_angle):\n",
    "    # Convert incident angle from degrees to radians\n",
    "    incident_angle_rad = math.radians(incident_angle)\n",
    "    \n",
    "    # Calculate the reflection angle using the geometric law of reflection\n",
    "    reflection_angle_rad = math.pi - incident_angle_rad\n",
    "    \n",
    "    # Convert the reflection angle back to degrees\n",
    "    reflection_angle = math.degrees(reflection_angle_rad)\n",
    "    \n",
    "    return reflection_angle\n",
    "\n",
    "# Function to project the option price using a mathematical model\n",
    "def project_option_price(current_price, strike_price, volatility, time_to_expiry, risk_free_rate, option_type):\n",
    "    if option_type == 'call':\n",
    "        option_type_value = 1\n",
    "    elif option_type == 'put':\n",
    "        option_type_value = -1\n",
    "    else:\n",
    "        raise ValueError(\"Invalid option type. Use 'call' or 'put'.\")\n",
    "    \n",
    "    d1 = (math.log(current_price / strike_price) + (risk_free_rate + (volatility**2) / 2) * time_to_expiry) / (volatility * math.sqrt(time_to_expiry))\n",
    "    d2 = d1 - volatility * math.sqrt(time_to_expiry)\n",
    "    \n",
    "    if option_type == 'call':\n",
    "        option_price = current_price * norm_cdf(d1) - option_type_value * math.exp(-risk_free_rate * time_to_expiry) * strike_price * norm_cdf(d2)\n",
    "    elif option_type == 'put':\n",
    "        option_price = option_type_value * (current_price * norm_cdf(-d1) - option_type_value * math.exp(-risk_free_rate * time_to_expiry) * strike_price * norm_cdf(-d2))\n",
    "    \n",
    "    return option_price\n",
    "\n",
    "# Function to calculate the cumulative distribution function for the standard normal distribution\n",
    "def norm_cdf(x):\n",
    "    return (1.0 + math.erf(x / math.sqrt(2.0)))/2.0\n",
    "\n",
    "# Example usage:\n",
    "incident_angle = 30  # Incident angle in degrees\n",
    "reflection_angle = calculate_reflection_angle(incident_angle)\n",
    "print(f\"Reflection Angle: {reflection_angle:.2f} degrees\")\n",
    "\n",
    "current_price = 72.6  # Current price of the underlying asset\n",
    "strike_price = 73  # Strike price of the option\n",
    "volatility = 0.20  # Volatility of the asset\n",
    "time_to_expiry = 0.2  # Time to option expiry in years\n",
    "risk_free_rate = 0.05  # Risk-free interest rate\n",
    "option_type = 'call'  # Option type, 'call' or 'put'\n",
    "\n",
    "option_price = project_option_price(current_price, strike_price, volatility, time_to_expiry, risk_free_rate, option_type)\n",
    "print(f\"Option Price: {option_price:.2f}\")\n"
   ]
  },
  {
   "cell_type": "code",
   "execution_count": null,
   "id": "d3b9ccc3",
   "metadata": {},
   "outputs": [],
   "source": [
    "import matplotlib.pyplot as plt\n",
    "import numpy as np\n",
    "\n",
    "# Simulated data for the option premium based on various factors\n",
    "underlying_price = np.linspace(90, 110, 50)\n",
    "strike_price = 73\n",
    "volatility = 0.2\n",
    "time_to_expiry = 0.25\n",
    "risk_free_rate = 0.05\n",
    "\n",
    "call_option_premium = np.maximum(underlying_price - strike_price, 0) - np.exp(-risk_free_rate * time_to_expiry) * np.maximum(underlying_price - strike_price, 0)\n",
    "\n",
    "plt.figure(figsize=(10, 6))\n",
    "plt.plot(underlying_price, call_option_premium, label='Option Premium (Call)')\n",
    "plt.xlabel('Underlying Asset Price')\n",
    "plt.ylabel('Option Premium')\n",
    "plt.title('Option Premium vs. Underlying Asset Price')\n",
    "plt.legend()\n",
    "plt.grid(True)\n",
    "plt.show()\n"
   ]
  }
 ],
 "metadata": {
  "kernelspec": {
   "display_name": "Python 3 (ipykernel)",
   "language": "python",
   "name": "python3"
  },
  "language_info": {
   "codemirror_mode": {
    "name": "ipython",
    "version": 3
   },
   "file_extension": ".py",
   "mimetype": "text/x-python",
   "name": "python",
   "nbconvert_exporter": "python",
   "pygments_lexer": "ipython3",
   "version": "3.10.9"
  }
 },
 "nbformat": 4,
 "nbformat_minor": 5
}
