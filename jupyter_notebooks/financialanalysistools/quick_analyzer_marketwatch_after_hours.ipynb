{
 "cells": [
  {
   "cell_type": "code",
   "execution_count": 1,
   "id": "9069b007",
   "metadata": {},
   "outputs": [
    {
     "name": "stdout",
     "output_type": "stream",
     "text": [
      "        Ticker                             Name Last Price  Change Volume\n",
      "  LULU\\n\\nLULU         lululemon athletica inc.    $362.00   2.58M  41.69\n",
      "    HPP\\n\\nHPP   Hudson Pacific Properties Inc.      $6.14  55.83K   0.26\n",
      "    NFE\\n\\nNFE     New Fortress Energy LLC Cl A     $29.00  20.78K   1.20\n",
      "    DAR\\n\\nDAR         Darling Ingredients Inc.     $57.50  68.86K   2.17\n",
      "  BMRN\\n\\nBMRN     BioMarin Pharmaceutical Inc.     $94.92  92.35K   3.48\n",
      "    TSP\\n\\nTSP           TuSimple Holdings Inc.      $1.40  21.29K   0.05\n",
      "  PAYX\\n\\nPAYX                     Paychex Inc.    $112.80 215.29K   3.82\n",
      "  JAMF\\n\\nJAMF               Jamf Holding Corp.     $19.19  19.61K   0.62\n",
      "    AEE\\n\\nAEE                     Ameren Corp.     $87.00  58.02K   2.43\n",
      "  NCNO\\n\\nNCNO                       nCino Inc.     $23.00 103.56K   0.64\n",
      "  SHLS\\n\\nSHLS   Shoals Technologies Group Inc.     $20.05  18.64K  -1.31\n",
      "    CHE\\n\\nCHE                     Chemed Corp.    $502.54   3.87K -26.45\n",
      "    SHC\\n\\nSHC                Sotera Health Co.     $16.38  33.19K  -0.84\n",
      "  SSNC\\n\\nSSNC  SS&C Technologies Holdings Inc.     $51.89   33.2K  -2.52\n",
      "    STT\\n\\nSTT               State Street Corp.     $70.42   47.6K  -3.20\n",
      "    FND\\n\\nFND Floor & Decor Holdings Inc. Cl A     $90.13  17.37K  -3.28\n",
      "      ZG\\n\\nZG           Zillow Group Inc. Cl A     $40.25  10.22K  -1.38\n",
      "    HUN\\n\\nHUN                   Huntsman Corp.     $26.00  37.21K  -0.87\n",
      "    WTW\\n\\nWTW         Willis Towers Watson PLC    $222.50  10.96K  -6.89\n",
      "  RARE\\n\\nRARE   Ultragenyx Pharmaceutical Inc.     $36.53  15.74K  -1.13\n",
      "  UBER\\n\\nUBER           Uber Technologies Inc.     $30.22   4.28M   0.15\n",
      "      MU\\n\\nMU           Micron Technology Inc.     $59.90   3.95M   0.70\n",
      "      KO\\n\\nKO                    Coca-Cola Co.     $61.50    3.2M   0.08\n",
      "    BAC\\n\\nBAC            Bank of America Corp.     $28.20   2.62M   0.08\n",
      "  LULU\\n\\nLULU         lululemon athletica inc.    $362.00   2.58M  41.69\n",
      "  AAPL\\n\\nAAPL                       Apple Inc.    $157.70   2.58M   0.05\n",
      "    SLM\\n\\nSLM                        SLM Corp.     $11.53   2.33M   0.00\n",
      "  INTC\\n\\nINTC                      Intel Corp.     $29.42   2.02M   0.13\n",
      "GOOGL\\n\\nGOOGL               Alphabet Inc. Cl A    $101.23   1.84M   0.20\n",
      "  PTON\\n\\nPTON         Peloton Interactive Inc.      $9.86   1.76M   0.05\n",
      "    FRC\\n\\nFRC              First Republic Bank     $13.73   1.72M   0.23\n",
      "  AMZN\\n\\nAMZN                  Amazon.com Inc.     $97.36   1.54M   0.12\n",
      "    MRK\\n\\nMRK                 Merck & Co. Inc.    $107.00   1.53M   1.47\n",
      "    MTG\\n\\nMTG            MGIC Investment Corp.     $13.00   1.49M   0.00\n",
      "      GM\\n\\nGM               General Motors Co.     $34.35   1.49M   0.13\n",
      "    WAL\\n\\nWAL        Western Alliance Bancorp.     $33.96   1.48M   0.13\n",
      "    PFE\\n\\nPFE                      Pfizer Inc.     $40.00   1.47M   0.01\n",
      "SIVBQ\\n\\nSIVBQ              SVB Financial Group      $0.40   1.43M   0.00\n",
      "  LYFT\\n\\nLYFT                   Lyft Inc. Cl A      $8.95   1.42M   0.08\n",
      "    AMD\\n\\nAMD      Advanced Micro Devices Inc.     $94.65   1.38M   0.09\n"
     ]
    }
   ],
   "source": [
    "import pandas as pd\n",
    "import requests\n",
    "from bs4 import BeautifulSoup\n",
    "\n",
    "# Define the URL to scrape for after-hours stock data\n",
    "url = 'https://www.marketwatch.com/tools/screener/after-hours'\n",
    "\n",
    "# Make a GET request to the URL and store the response object\n",
    "res = requests.get(url)\n",
    "\n",
    "# Parse the HTML content of the response object with BeautifulSoup\n",
    "soup = BeautifulSoup(res.text, 'html.parser')\n",
    "\n",
    "# Extract the table rows that contain the after-hours stock data\n",
    "rows = soup.select('.table__body tr')\n",
    "\n",
    "# Initialize an empty list to store the after-hours stock data\n",
    "after_hours_stocks = []\n",
    "\n",
    "# Loop over the table rows and extract the data for each after-hours stock\n",
    "for row in rows:\n",
    "    cells = row.select('td')\n",
    "    ticker = cells[0].text.strip()\n",
    "    name = cells[1].text.strip()\n",
    "    last_price = cells[2].text.strip()\n",
    "    change = cells[3].text.strip()\n",
    "    volume = cells[4].text.strip()\n",
    "    after_hours_stocks.append({'Ticker': ticker, 'Name': name, 'Last Price': last_price, 'Change': change, 'Volume': volume})\n",
    "\n",
    "# Convert the list of after-hours stock data into a pandas DataFrame\n",
    "after_hours_df = pd.DataFrame(after_hours_stocks)\n",
    "\n",
    "after_hours_df.sort_values(by=['Last Price'])\n",
    "\n",
    "# Print the table of after-hours stocks\n",
    "print(after_hours_df.to_string(index=False))\n"
   ]
  },
  {
   "cell_type": "code",
   "execution_count": null,
   "id": "5736f4c1",
   "metadata": {},
   "outputs": [],
   "source": []
  }
 ],
 "metadata": {
  "kernelspec": {
   "display_name": "Python 3",
   "language": "python",
   "name": "python3"
  },
  "language_info": {
   "codemirror_mode": {
    "name": "ipython",
    "version": 3
   },
   "file_extension": ".py",
   "mimetype": "text/x-python",
   "name": "python",
   "nbconvert_exporter": "python",
   "pygments_lexer": "ipython3",
   "version": "3.8.8"
  }
 },
 "nbformat": 4,
 "nbformat_minor": 5
}
