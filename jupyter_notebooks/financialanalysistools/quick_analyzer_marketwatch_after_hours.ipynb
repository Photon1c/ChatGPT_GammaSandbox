{
 "cells": [
  {
   "cell_type": "code",
   "execution_count": 1,
   "id": "9069b007",
   "metadata": {},
   "outputs": [
    {
     "name": "stdout",
     "output_type": "stream",
     "text": [
      "        Ticker                                             Name Last Price Change  Volume\n",
      "  ELAN\\n\\nELAN                        Elanco Animal Health Inc.     $12.28   0.63   1.24M\n",
      "    ABC\\n\\nABC                          AmerisourceBergen Corp.    $194.59   9.26   1.68M\n",
      "FWONK\\n\\nFWONK Liberty Media Corp. Series C Liberty Formula One     $77.83   3.70  10.57K\n",
      "  BEPC\\n\\nBEPC                       Brookfield Renewable Corp.     $29.75   1.07  14.09K\n",
      "  ALGM\\n\\nALGM                        Allegro MicroSystems Inc.     $44.05   1.54 112.64K\n",
      "    APD\\n\\nAPD                    Air Products & Chemicals Inc.    $294.43  10.00  60.52K\n",
      "        G\\n\\nG                                     Genpact Ltd.     $37.38   1.15  22.23K\n",
      "    SIX\\n\\nSIX                    Six Flags Entertainment Corp.     $24.28   0.69  22.49K\n",
      "LBRDA\\n\\nLBRDA                     Liberty Broadband Corp. Cl A     $93.75   2.59   2.57K\n",
      "  AIRC\\n\\nAIRC                      Apartment Income REIT Corp.     $35.26   0.93   14.2K\n",
      "    MMC\\n\\nMMC                            Marsh & McLennan Cos.    $164.57 -25.02  60.38K\n",
      "      BR\\n\\nBR              Broadridge Financial Solutions Inc.    $144.45 -21.27  26.21K\n",
      "  NDSN\\n\\nNDSN                                    Nordson Corp.    $218.31 -28.12   12.6K\n",
      "    IQV\\n\\nIQV                              IQVIA Holdings Inc.    $195.35 -21.59  21.32K\n",
      "  ATUS\\n\\nATUS                             Altice USA Inc. Cl A      $3.43  -0.21 658.76K\n",
      "  VRSK\\n\\nVRSK                            Verisk Analytics Inc.    $220.25  -9.51   11.6K\n",
      "  CVAC\\n\\nCVAC                                     CureVac N.V.      $8.55  -0.31   4.34K\n",
      "  JBGS\\n\\nJBGS                             JBG SMITH Properties     $16.26  -0.57  10.27K\n",
      "    AFL\\n\\nAFL                                       AFLAC Inc.     $74.38  -2.47 100.09K\n",
      "  NTNX\\n\\nNTNX                                Nutanix Inc. Cl A     $28.74  -0.84  31.83K\n",
      "  AAPL\\n\\nAAPL                                       Apple Inc.    $182.06   0.07   5.97M\n",
      "        T\\n\\nT                                        AT&T Inc.     $14.00   0.00   3.43M\n",
      "  AMZN\\n\\nAMZN                                  Amazon.com Inc.    $139.60   0.03    2.7M\n",
      "  VTRS\\n\\nVTRS                                     Viatris Inc.     $10.55  -0.04   1.88M\n",
      "  PLTR\\n\\nPLTR                       Palantir Technologies Inc.     $18.05  -0.15   1.73M\n",
      "    HPE\\n\\nHPE                   Hewlett Packard Enterprise Co.     $17.19  -0.31    1.7M\n",
      "    ABC\\n\\nABC                          AmerisourceBergen Corp.    $194.59   9.26   1.68M\n",
      "      VZ\\n\\nVZ                      Verizon Communications Inc.     $32.65   0.03   1.67M\n",
      "    BAC\\n\\nBAC                            Bank of America Corp.     $31.23  -0.07   1.63M\n",
      "GOOGL\\n\\nGOOGL                               Alphabet Inc. Cl A    $128.03  -0.09   1.46M\n",
      "  TSLA\\n\\nTSLA                                       Tesla Inc.    $253.77  -0.26   1.29M\n",
      "  ELAN\\n\\nELAN                        Elanco Animal Health Inc.     $12.28   0.63   1.24M\n",
      "  LYFT\\n\\nLYFT                                   Lyft Inc. Cl A     $10.85   0.00   1.12M\n",
      "    NRG\\n\\nNRG                                  NRG Energy Inc.     $37.37  -0.15 982.58K\n",
      "    FIS\\n\\nFIS      Fidelity National Information Services Inc.     $59.00   0.99  943.8K\n",
      "        F\\n\\nF                                   Ford Motor Co.     $12.89   0.00 923.47K\n",
      "        C\\n\\nC                                   Citigroup Inc.     $45.74   0.03 918.25K\n",
      "  MSFT\\n\\nMSFT                                  Microsoft Corp.    $327.78   0.00 889.01K\n",
      "CMCSA\\n\\nCMCSA                               Comcast Corp. Cl A     $44.94   0.10 861.77K\n",
      "  META\\n\\nMETA                              Meta Platforms Inc.    $310.79   0.06 839.43K\n"
     ]
    }
   ],
   "source": [
    "#this code could also be used in automation for other websites\n",
    "import pandas as pd\n",
    "import requests\n",
    "from bs4 import BeautifulSoup\n",
    "\n",
    "# Define the URL to scrape for after-hours stock data\n",
    "url = 'https://www.marketwatch.com/tools/screener/after-hours'\n",
    "\n",
    "# Make a GET request to the URL and store the response object\n",
    "res = requests.get(url)\n",
    "\n",
    "# Parse the HTML content of the response object with BeautifulSoup\n",
    "soup = BeautifulSoup(res.text, 'html.parser')\n",
    "\n",
    "# Extract the table rows that contain the after-hours stock data\n",
    "rows = soup.select('.table__body tr')\n",
    "\n",
    "# Initialize an empty list to store the after-hours stock data\n",
    "after_hours_stocks = []\n",
    "\n",
    "# Loop over the table rows and extract the data for each after-hours stock\n",
    "for row in rows:\n",
    "    cells = row.select('td')\n",
    "    ticker = cells[0].text.strip()\n",
    "    name = cells[1].text.strip()\n",
    "    last_price = cells[2].text.strip()\n",
    "    change = cells[3].text.strip()\n",
    "    volume = cells[4].text.strip()\n",
    "    after_hours_stocks.append({'Ticker': ticker, 'Name': name, 'Last Price': last_price, 'Change': volume, 'Volume': change})\n",
    "\n",
    "# Convert the list of after-hours stock data into a pandas DataFrame\n",
    "after_hours_df = pd.DataFrame(after_hours_stocks)\n",
    "\n",
    "after_hours_df.sort_values(by=['Last Price'])\n",
    "\n",
    "# Print the table of after-hours stocks\n",
    "print(after_hours_df.to_string(index=False))\n"
   ]
  },
  {
   "cell_type": "code",
   "execution_count": null,
   "id": "5736f4c1",
   "metadata": {},
   "outputs": [],
   "source": [
    "print(after_hours_df.sort_values(by=['Last Price']))"
   ]
  },
  {
   "cell_type": "code",
   "execution_count": null,
   "id": "6f748223",
   "metadata": {},
   "outputs": [],
   "source": []
  }
 ],
 "metadata": {
  "kernelspec": {
   "display_name": "Python 3 (ipykernel)",
   "language": "python",
   "name": "python3"
  },
  "language_info": {
   "codemirror_mode": {
    "name": "ipython",
    "version": 3
   },
   "file_extension": ".py",
   "mimetype": "text/x-python",
   "name": "python",
   "nbconvert_exporter": "python",
   "pygments_lexer": "ipython3",
   "version": "3.10.9"
  }
 },
 "nbformat": 4,
 "nbformat_minor": 5
}
