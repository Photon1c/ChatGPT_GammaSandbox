{
 "cells": [
  {
   "cell_type": "code",
   "execution_count": 2,
   "id": "de119ce1",
   "metadata": {},
   "outputs": [
    {
     "name": "stdout",
     "output_type": "stream",
     "text": [
      "Enter the claim amount: 4000\n",
      "Enter the deductible amount: 500\n",
      "Enter the coverage limit amount: 6000\n"
     ]
    },
    {
     "ename": "TypeError",
     "evalue": "'PolyCollection' object is not subscriptable",
     "output_type": "error",
     "traceback": [
      "\u001b[1;31m---------------------------------------------------------------------------\u001b[0m",
      "\u001b[1;31mTypeError\u001b[0m                                 Traceback (most recent call last)",
      "Cell \u001b[1;32mIn[2], line 44\u001b[0m\n\u001b[0;32m     42\u001b[0m ax\u001b[38;5;241m.\u001b[39maxhline(y\u001b[38;5;241m=\u001b[39m\u001b[38;5;241m0\u001b[39m, color\u001b[38;5;241m=\u001b[39m\u001b[38;5;124m'\u001b[39m\u001b[38;5;124mk\u001b[39m\u001b[38;5;124m'\u001b[39m)\n\u001b[0;32m     43\u001b[0m ax\u001b[38;5;241m.\u001b[39maxhline(y\u001b[38;5;241m=\u001b[39m\u001b[38;5;241m1\u001b[39m, color\u001b[38;5;241m=\u001b[39m\u001b[38;5;124m'\u001b[39m\u001b[38;5;124mk\u001b[39m\u001b[38;5;124m'\u001b[39m)\n\u001b[1;32m---> 44\u001b[0m fill_payout \u001b[38;5;241m=\u001b[39m \u001b[43max\u001b[49m\u001b[38;5;241;43m.\u001b[39;49m\u001b[43mfill_between\u001b[49m\u001b[43m(\u001b[49m\u001b[43m[\u001b[49m\u001b[43m]\u001b[49m\u001b[43m,\u001b[49m\u001b[43m \u001b[49m\u001b[43m[\u001b[49m\u001b[43m]\u001b[49m\u001b[43m,\u001b[49m\u001b[43m \u001b[49m\u001b[43mwhere\u001b[49m\u001b[38;5;241;43m=\u001b[39;49m\u001b[43m[\u001b[49m\u001b[43m]\u001b[49m\u001b[43m,\u001b[49m\u001b[43m \u001b[49m\u001b[43malpha\u001b[49m\u001b[38;5;241;43m=\u001b[39;49m\u001b[38;5;241;43m0.5\u001b[39;49m\u001b[43m,\u001b[49m\u001b[43m \u001b[49m\u001b[43mlabel\u001b[49m\u001b[38;5;241;43m=\u001b[39;49m\u001b[38;5;124;43m\"\u001b[39;49m\u001b[38;5;124;43mPayout\u001b[39;49m\u001b[38;5;124;43m\"\u001b[39;49m\u001b[43m)\u001b[49m\u001b[43m[\u001b[49m\u001b[38;5;241;43m0\u001b[39;49m\u001b[43m]\u001b[49m\n\u001b[0;32m     45\u001b[0m fill_no_payout \u001b[38;5;241m=\u001b[39m ax\u001b[38;5;241m.\u001b[39mfill_between([], [], where\u001b[38;5;241m=\u001b[39m[], alpha\u001b[38;5;241m=\u001b[39m\u001b[38;5;241m0.5\u001b[39m, label\u001b[38;5;241m=\u001b[39m\u001b[38;5;124m\"\u001b[39m\u001b[38;5;124mNo Payout\u001b[39m\u001b[38;5;124m\"\u001b[39m)[\u001b[38;5;241m0\u001b[39m]\n\u001b[0;32m     46\u001b[0m ax\u001b[38;5;241m.\u001b[39mset_xlabel(\u001b[38;5;124m\"\u001b[39m\u001b[38;5;124mClaim Amount\u001b[39m\u001b[38;5;124m\"\u001b[39m)\n",
      "\u001b[1;31mTypeError\u001b[0m: 'PolyCollection' object is not subscriptable"
     ]
    }
   ],
   "source": [
    "import matplotlib.pyplot as plt\n",
    "import numpy as np\n",
    "import matplotlib.animation as animation\n",
    "\n",
    "def calculate_insurance_payout(claim_amount, deductible, coverage_limit):\n",
    "    \"\"\"\n",
    "    Calculate if an insurance payout will be made based on the claim amount, deductible,\n",
    "    and coverage limit of an insurance policy.\n",
    "    \n",
    "    Parameters:\n",
    "        claim_amount (float): The amount the policyholder is claiming.\n",
    "        deductible (float): The amount the policyholder must pay before the insurance company\n",
    "            begins to cover the cost of the claim.\n",
    "        coverage_limit (float): The maximum amount the insurance company will pay for the claim.\n",
    "    \n",
    "    Returns:\n",
    "        bool: True if the insurance company will pay out for the claim, False otherwise.\n",
    "    \"\"\"\n",
    "    if claim_amount <= deductible:\n",
    "        return False\n",
    "    \n",
    "    if claim_amount > coverage_limit:\n",
    "        return False\n",
    "    \n",
    "    return True\n",
    "\n",
    "def update(num, possibilities, deductible, coverage_limit, line, fill_payout, fill_no_payout):\n",
    "    payouts = np.array([calculate_insurance_payout(amount, deductible, coverage_limit) for amount in possibilities[:num+1]])\n",
    "    line.set_data(possibilities[:num+1], payouts)\n",
    "    fill_payout.set_xy(np.column_stack([possibilities[:num+1], payouts]))\n",
    "    fill_no_payout.set_xy(np.column_stack([possibilities[:num+1], np.zeros(num+1)]))\n",
    "    return line, fill_payout, fill_no_payout\n",
    "\n",
    "if __name__ == '__main__':\n",
    "    claim_amount = float(input(\"Enter the claim amount: \"))\n",
    "    deductible = float(input(\"Enter the deductible amount: \"))\n",
    "    coverage_limit = float(input(\"Enter the coverage limit amount: \"))\n",
    "\n",
    "    possibilities = np.linspace(deductible, coverage_limit, num=100)\n",
    "    fig, ax = plt.subplots()\n",
    "    line, = ax.plot([], [], label=\"Payout\")\n",
    "    ax.axhline(y=0, color='k')\n",
    "    ax.axhline(y=1, color='k')\n",
    "    fill_payout = ax.fill_between([], [], where=[], alpha=0.5, label=\"Payout\")[0]\n",
    "    fill_no_payout = ax.fill_between([], [], where=[], alpha=0.5, label=\"No Payout\")[0]\n",
    "    ax.set_xlabel(\"Claim Amount\")\n",
    "    ax.set_ylabel(\"Payout\")\n",
    "    ax.set_title(\"Insurance Payout\")\n",
    "    ax.legend()\n",
    "\n",
    "    ani = animation.FuncAnimation(fig, update, frames=len(possibilities), fargs=(possibilities, deductible, coverage_limit, line, fill_payout, fill_no_payout), interval=50, blit=True)\n",
    "    plt.show()\n"
   ]
  },
  {
   "cell_type": "code",
   "execution_count": null,
   "id": "9961847c",
   "metadata": {},
   "outputs": [],
   "source": [
    "calculate_insurance_payout(10000, 500, 15000)"
   ]
  },
  {
   "cell_type": "code",
   "execution_count": null,
   "id": "a1ad6a01",
   "metadata": {},
   "outputs": [],
   "source": []
  }
 ],
 "metadata": {
  "kernelspec": {
   "display_name": "Python 3",
   "language": "python",
   "name": "python3"
  }
 },
 "nbformat": 4,
 "nbformat_minor": 5
}
