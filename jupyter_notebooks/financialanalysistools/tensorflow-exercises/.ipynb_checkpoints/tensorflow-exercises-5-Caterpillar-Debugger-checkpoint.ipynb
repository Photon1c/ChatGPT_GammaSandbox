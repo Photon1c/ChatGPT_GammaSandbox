{
 "cells": [
  {
   "cell_type": "code",
   "execution_count": null,
   "id": "efccef66",
   "metadata": {},
   "outputs": [],
   "source": [
    "#local system directory viewer\n",
    "import os\n",
    "import pandas as pd\n",
    "import matplotlib.pyplot as plt\n",
    "\n",
    "# Directory to scan\n",
    "dir_path = \"F:/\"\n",
    "\n",
    "# Initialize lists to store file sizes and types\n",
    "file_sizes = []\n",
    "file_types = []\n",
    "\n",
    "# Traverse the directory and its subdirectories\n",
    "for root, dirs, files in os.walk(dir_path):\n",
    "    for file in files:\n",
    "        # Append file size and type to lists\n",
    "        file_sizes.append(os.path.getsize(os.path.join(root, file)))\n",
    "        file_types.append(os.path.splitext(file)[1].lower())\n",
    "\n",
    "# Create pandas DataFrame with file sizes and types\n",
    "df = pd.DataFrame({\n",
    "    \"File Size\": file_sizes,\n",
    "    \"File Type\": file_types\n",
    "})\n",
    "\n",
    "# Group the DataFrame by file type and calculate the total size for each type\n",
    "grouped = df.groupby(\"File Type\").sum()\n",
    "\n",
    "# Create pie chart of file types by total size\n",
    "grouped.plot.pie(y=\"File Size\", legend=False)\n",
    "plt.title(\"File Types by Total Size\")\n",
    "plt.show()\n",
    "\n",
    "# Create bar chart of file types by count\n",
    "grouped_count = df.groupby(\"File Type\").count()\n",
    "grouped_count.plot.bar(y=\"File Size\", legend=False)\n",
    "plt.title(\"File Types by Count\")\n",
    "plt.show()\n"
   ]
  },
  {
   "cell_type": "code",
   "execution_count": null,
   "id": "cd164227",
   "metadata": {},
   "outputs": [],
   "source": []
  },
  {
   "cell_type": "code",
   "execution_count": null,
   "id": "45f7b801",
   "metadata": {},
   "outputs": [],
   "source": []
  },
  {
   "cell_type": "code",
   "execution_count": null,
   "id": "19aafb8a",
   "metadata": {},
   "outputs": [],
   "source": []
  },
  {
   "cell_type": "code",
   "execution_count": null,
   "id": "67e56c03",
   "metadata": {},
   "outputs": [],
   "source": []
  }
 ],
 "metadata": {
  "kernelspec": {
   "display_name": "Python 3 (ipykernel)",
   "language": "python",
   "name": "python3"
  },
  "language_info": {
   "codemirror_mode": {
    "name": "ipython",
    "version": 3
   },
   "file_extension": ".py",
   "mimetype": "text/x-python",
   "name": "python",
   "nbconvert_exporter": "python",
   "pygments_lexer": "ipython3",
   "version": "3.10.9"
  }
 },
 "nbformat": 4,
 "nbformat_minor": 5
}
