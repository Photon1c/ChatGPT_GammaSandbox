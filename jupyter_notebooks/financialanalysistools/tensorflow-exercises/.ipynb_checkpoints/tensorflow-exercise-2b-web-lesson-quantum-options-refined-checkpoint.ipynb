{
 "cells": [
  {
   "cell_type": "markdown",
   "id": "6997e388",
   "metadata": {},
   "source": [
    "# Pending Task: Fix VQQNN model"
   ]
  },
  {
   "cell_type": "code",
   "execution_count": 15,
   "id": "4170c0c1",
   "metadata": {},
   "outputs": [
    {
     "name": "stderr",
     "output_type": "stream",
     "text": [
      "C:\\Users\\Spark\\AppData\\Local\\Temp\\ipykernel_5208\\3711778132.py:16: DeprecationWarning: The package qiskit.providers.ibmq is being deprecated. Please see https://ibm.biz/provider_migration_guide to get instructions on how to migrate to qiskit-ibm-provider (https://github.com/Qiskit/qiskit-ibm-provider) and qiskit-ibm-runtime (https://github.com/Qiskit/qiskit-ibm-runtime).\n",
      "  from QuantumDense import VQNNModel\n"
     ]
    }
   ],
   "source": [
    "#Confirm successful import of packages\n",
    "import numpy as np\n",
    "import os\n",
    "import tensorflow as tf\n",
    "import pandas as pd\n",
    "import matplotlib.pyplot as plt\n",
    "import numpy as np\n",
    "import os\n",
    "import tensorflow as tf\n",
    "import pandas as pd\n",
    "import matplotlib.pyplot as plt\n",
    "import matplotlib.dates as plt_dates\n",
    "\n",
    "from sklearn.model_selection import train_test_split\n",
    "from sklearn.preprocessing import MinMaxScaler\n",
    "from QuantumDense import VQNNModel\n",
    "\n",
    "import matplotlib.dates as plt_dates\n",
    "\n",
    "from sklearn.model_selection import train_test_split\n",
    "from sklearn.preprocessing import MinMaxScaler\n",
    "from QuantumDense import VQNNModel"
   ]
  },
  {
   "cell_type": "code",
   "execution_count": 9,
   "id": "fab7ea39",
   "metadata": {},
   "outputs": [
    {
     "name": "stdout",
     "output_type": "stream",
     "text": [
      "            CLOSE     VOLUME   Open   HIGH    LOW  HL_DELTA   RETURNS  \\\n",
      "DATE                                                                    \n",
      "2021-11-29  47.59   791998.0  48.72  49.33  47.55      1.78       NaN   \n",
      "2021-11-30  46.04  1002997.0  47.30  47.58  46.00      1.58 -0.032570   \n",
      "2021-12-01  45.23   986125.0  46.76  47.15  45.10      2.05 -0.017593   \n",
      "2021-12-02  46.61   791671.0  45.25  47.01  45.00      2.01  0.030511   \n",
      "2021-12-03  46.90   909543.0  46.66  47.25  46.34      0.91  0.006222   \n",
      "...           ...        ...    ...    ...    ...       ...       ...   \n",
      "2022-11-21  55.86   379062.0  55.82  56.56  55.62      0.94 -0.002500   \n",
      "2022-11-22  56.72   441990.0  56.07  56.88  55.99      0.89  0.015396   \n",
      "2022-11-23  56.47   333914.0  56.66  56.89  56.16      0.73 -0.004408   \n",
      "2022-11-25  57.12   283691.0  56.89  57.56  56.56      1.00  0.011511   \n",
      "2022-11-28  56.17   401399.0  56.64  57.15  55.93      1.22 -0.016632   \n",
      "\n",
      "            PRX_MA_ND  VOLATILITY  TP1_RETURNS  \n",
      "DATE                                            \n",
      "2021-11-29        NaN         NaN    -0.032570  \n",
      "2021-11-30        NaN         NaN    -0.017593  \n",
      "2021-12-01        NaN         NaN     0.030511  \n",
      "2021-12-02        NaN         NaN     0.006222  \n",
      "2021-12-03     46.474    0.891813     0.039446  \n",
      "...               ...         ...          ...  \n",
      "2022-11-21     55.934    0.588795     0.015396  \n",
      "2022-11-22     55.902    0.525471    -0.004408  \n",
      "2022-11-23     56.074    0.546333     0.011511  \n",
      "2022-11-25     56.434    0.517571    -0.016632  \n",
      "2022-11-28     56.468    0.486590          NaN  \n",
      "\n",
      "[252 rows x 10 columns]\n"
     ]
    }
   ],
   "source": [
    "#Confirm successful import of input data\n",
    "import yfinance as yf\n",
    "import pandas as pd\n",
    "import datetime as date\n",
    "\n",
    "\n",
    "now = date.date.today()\n",
    "today = now.strftime('%Y-%m-%d')\n",
    "yesterday = (now - pd.Timedelta('1day')).strftime('%Y-%m-%d')\n",
    "ninedaysago = (now - pd.Timedelta('9day')).strftime('%Y-%m-%d')\n",
    "\n",
    "# read input data from CSV file\n",
    "df = pd.read_csv('datasets/test.csv')\n",
    "\n",
    "# convert date column to datetime and set as index\n",
    "df['DATE'] = pd.to_datetime(df['DATE'])\n",
    "df.set_index('DATE', inplace=True)\n",
    "df['HL_DELTA'] = df['HIGH'] - df['LOW']\n",
    "df['RETURNS'] = df['CLOSE'].pct_change()\n",
    "df['PRX_MA_ND'] = df['CLOSE'].rolling(window=5).mean()\n",
    "df['VOLATILITY'] = df['CLOSE'].rolling(window=5).std()\n",
    "df['TP1_RETURNS'] = df['RETURNS'].shift(-1)\n",
    "\n",
    "df.dropna(inplace=True)\n",
    "\n",
    "\n",
    "print(df)"
   ]
  },
  {
   "cell_type": "code",
   "execution_count": 12,
   "id": "39e1dc1b",
   "metadata": {},
   "outputs": [
    {
     "name": "stderr",
     "output_type": "stream",
     "text": [
      "C:\\Users\\Spark\\AppData\\Local\\Temp\\ipykernel_5208\\2700609018.py:3: SettingWithCopyWarning: \n",
      "A value is trying to be set on a copy of a slice from a DataFrame\n",
      "\n",
      "See the caveats in the documentation: https://pandas.pydata.org/pandas-docs/stable/user_guide/indexing.html#returning-a-view-versus-a-copy\n",
      "  df_x.dropna(inplace=True)\n"
     ]
    },
    {
     "data": {
      "text/html": [
       "<div>\n",
       "<style scoped>\n",
       "    .dataframe tbody tr th:only-of-type {\n",
       "        vertical-align: middle;\n",
       "    }\n",
       "\n",
       "    .dataframe tbody tr th {\n",
       "        vertical-align: top;\n",
       "    }\n",
       "\n",
       "    .dataframe thead th {\n",
       "        text-align: right;\n",
       "    }\n",
       "</style>\n",
       "<table border=\"1\" class=\"dataframe\">\n",
       "  <thead>\n",
       "    <tr style=\"text-align: right;\">\n",
       "      <th></th>\n",
       "      <th>RETURNS</th>\n",
       "      <th>VOLUME</th>\n",
       "      <th>PRX_MA_ND</th>\n",
       "      <th>VOLATILITY</th>\n",
       "    </tr>\n",
       "    <tr>\n",
       "      <th>DATE</th>\n",
       "      <th></th>\n",
       "      <th></th>\n",
       "      <th></th>\n",
       "      <th></th>\n",
       "    </tr>\n",
       "  </thead>\n",
       "  <tbody>\n",
       "    <tr>\n",
       "      <th>2021-12-03</th>\n",
       "      <td>0.006222</td>\n",
       "      <td>909543.0</td>\n",
       "      <td>46.474</td>\n",
       "      <td>0.891813</td>\n",
       "    </tr>\n",
       "    <tr>\n",
       "      <th>2021-12-06</th>\n",
       "      <td>0.039446</td>\n",
       "      <td>740776.0</td>\n",
       "      <td>46.706</td>\n",
       "      <td>1.308331</td>\n",
       "    </tr>\n",
       "    <tr>\n",
       "      <th>2021-12-07</th>\n",
       "      <td>0.016821</td>\n",
       "      <td>920421.0</td>\n",
       "      <td>47.412</td>\n",
       "      <td>1.740236</td>\n",
       "    </tr>\n",
       "    <tr>\n",
       "      <th>2021-12-08</th>\n",
       "      <td>0.005043</td>\n",
       "      <td>473157.0</td>\n",
       "      <td>48.330</td>\n",
       "      <td>1.494774</td>\n",
       "    </tr>\n",
       "    <tr>\n",
       "      <th>2021-12-09</th>\n",
       "      <td>-0.008631</td>\n",
       "      <td>1036663.0</td>\n",
       "      <td>48.886</td>\n",
       "      <td>1.178656</td>\n",
       "    </tr>\n",
       "    <tr>\n",
       "      <th>...</th>\n",
       "      <td>...</td>\n",
       "      <td>...</td>\n",
       "      <td>...</td>\n",
       "      <td>...</td>\n",
       "    </tr>\n",
       "    <tr>\n",
       "      <th>2022-11-21</th>\n",
       "      <td>-0.002500</td>\n",
       "      <td>379062.0</td>\n",
       "      <td>55.934</td>\n",
       "      <td>0.588795</td>\n",
       "    </tr>\n",
       "    <tr>\n",
       "      <th>2022-11-22</th>\n",
       "      <td>0.015396</td>\n",
       "      <td>441990.0</td>\n",
       "      <td>55.902</td>\n",
       "      <td>0.525471</td>\n",
       "    </tr>\n",
       "    <tr>\n",
       "      <th>2022-11-23</th>\n",
       "      <td>-0.004408</td>\n",
       "      <td>333914.0</td>\n",
       "      <td>56.074</td>\n",
       "      <td>0.546333</td>\n",
       "    </tr>\n",
       "    <tr>\n",
       "      <th>2022-11-25</th>\n",
       "      <td>0.011511</td>\n",
       "      <td>283691.0</td>\n",
       "      <td>56.434</td>\n",
       "      <td>0.517571</td>\n",
       "    </tr>\n",
       "    <tr>\n",
       "      <th>2022-11-28</th>\n",
       "      <td>-0.016632</td>\n",
       "      <td>401399.0</td>\n",
       "      <td>56.468</td>\n",
       "      <td>0.486590</td>\n",
       "    </tr>\n",
       "  </tbody>\n",
       "</table>\n",
       "<p>248 rows × 4 columns</p>\n",
       "</div>"
      ],
      "text/plain": [
       "             RETURNS     VOLUME  PRX_MA_ND  VOLATILITY\n",
       "DATE                                                  \n",
       "2021-12-03  0.006222   909543.0     46.474    0.891813\n",
       "2021-12-06  0.039446   740776.0     46.706    1.308331\n",
       "2021-12-07  0.016821   920421.0     47.412    1.740236\n",
       "2021-12-08  0.005043   473157.0     48.330    1.494774\n",
       "2021-12-09 -0.008631  1036663.0     48.886    1.178656\n",
       "...              ...        ...        ...         ...\n",
       "2022-11-21 -0.002500   379062.0     55.934    0.588795\n",
       "2022-11-22  0.015396   441990.0     55.902    0.525471\n",
       "2022-11-23 -0.004408   333914.0     56.074    0.546333\n",
       "2022-11-25  0.011511   283691.0     56.434    0.517571\n",
       "2022-11-28 -0.016632   401399.0     56.468    0.486590\n",
       "\n",
       "[248 rows x 4 columns]"
      ]
     },
     "execution_count": 12,
     "metadata": {},
     "output_type": "execute_result"
    }
   ],
   "source": [
    "#Create 3 dimensional Tensor\n",
    "df_x = df[['RETURNS', 'VOLUME', 'PRX_MA_ND', 'VOLATILITY']]\n",
    "df_y = df['TP1_RETURNS']\n",
    "df_x.dropna(inplace=True)\n",
    "df_x"
   ]
  },
  {
   "cell_type": "code",
   "execution_count": 13,
   "id": "4a32aaa5",
   "metadata": {},
   "outputs": [
    {
     "data": {
      "text/plain": [
       "DATE\n",
       "2021-11-29   -0.032570\n",
       "2021-11-30   -0.017593\n",
       "2021-12-01    0.030511\n",
       "2021-12-02    0.006222\n",
       "2021-12-03    0.039446\n",
       "                ...   \n",
       "2022-11-21    0.015396\n",
       "2022-11-22   -0.004408\n",
       "2022-11-23    0.011511\n",
       "2022-11-25   -0.016632\n",
       "2022-11-28         NaN\n",
       "Name: TP1_RETURNS, Length: 252, dtype: float64"
      ]
     },
     "execution_count": 13,
     "metadata": {},
     "output_type": "execute_result"
    }
   ],
   "source": [
    "df_y #check"
   ]
  },
  {
   "cell_type": "code",
   "execution_count": 17,
   "id": "1355067f",
   "metadata": {},
   "outputs": [
    {
     "ename": "ValueError",
     "evalue": "Found array with 0 sample(s) (shape=(0, 4)) while a minimum of 1 is required by MinMaxScaler.",
     "output_type": "error",
     "traceback": [
      "\u001b[1;31m---------------------------------------------------------------------------\u001b[0m",
      "\u001b[1;31mValueError\u001b[0m                                Traceback (most recent call last)",
      "Cell \u001b[1;32mIn[17], line 13\u001b[0m\n\u001b[0;32m     10\u001b[0m fdf_prx \u001b[38;5;241m=\u001b[39m df\u001b[38;5;241m.\u001b[39mloc[forward_test_date:][\u001b[38;5;124m'\u001b[39m\u001b[38;5;124mCLOSE\u001b[39m\u001b[38;5;124m'\u001b[39m]\n\u001b[0;32m     11\u001b[0m fdf_y_len \u001b[38;5;241m=\u001b[39m \u001b[38;5;28mlen\u001b[39m(fdf_y)\n\u001b[1;32m---> 13\u001b[0m df_x_scaled \u001b[38;5;241m=\u001b[39m pd\u001b[38;5;241m.\u001b[39mDataFrame(\u001b[43mdf_x_scaler\u001b[49m\u001b[38;5;241;43m.\u001b[39;49m\u001b[43mtransform\u001b[49m\u001b[43m(\u001b[49m\u001b[43mdf_x\u001b[49m\u001b[43m)\u001b[49m)\n\u001b[0;32m     14\u001b[0m fdf_x_scaled \u001b[38;5;241m=\u001b[39m pd\u001b[38;5;241m.\u001b[39mDataFrame(df_x_scaler\u001b[38;5;241m.\u001b[39mtransform(fdf_x))\n\u001b[0;32m     16\u001b[0m x_train, x_test, y_train, y_test \u001b[38;5;241m=\u001b[39m train_test_split(df_x_scaled,\n\u001b[0;32m     17\u001b[0m                                                     df_y,\n\u001b[0;32m     18\u001b[0m                                                     test_size\u001b[38;5;241m=\u001b[39m\u001b[38;5;241m0.25\u001b[39m,\n\u001b[0;32m     19\u001b[0m                                                     random_state\u001b[38;5;241m=\u001b[39m\u001b[38;5;241m42\u001b[39m)\n",
      "File \u001b[1;32mD:\\Anaconda\\lib\\site-packages\\sklearn\\utils\\_set_output.py:142\u001b[0m, in \u001b[0;36m_wrap_method_output.<locals>.wrapped\u001b[1;34m(self, X, *args, **kwargs)\u001b[0m\n\u001b[0;32m    140\u001b[0m \u001b[38;5;129m@wraps\u001b[39m(f)\n\u001b[0;32m    141\u001b[0m \u001b[38;5;28;01mdef\u001b[39;00m \u001b[38;5;21mwrapped\u001b[39m(\u001b[38;5;28mself\u001b[39m, X, \u001b[38;5;241m*\u001b[39margs, \u001b[38;5;241m*\u001b[39m\u001b[38;5;241m*\u001b[39mkwargs):\n\u001b[1;32m--> 142\u001b[0m     data_to_wrap \u001b[38;5;241m=\u001b[39m f(\u001b[38;5;28mself\u001b[39m, X, \u001b[38;5;241m*\u001b[39margs, \u001b[38;5;241m*\u001b[39m\u001b[38;5;241m*\u001b[39mkwargs)\n\u001b[0;32m    143\u001b[0m     \u001b[38;5;28;01mif\u001b[39;00m \u001b[38;5;28misinstance\u001b[39m(data_to_wrap, \u001b[38;5;28mtuple\u001b[39m):\n\u001b[0;32m    144\u001b[0m         \u001b[38;5;66;03m# only wrap the first output for cross decomposition\u001b[39;00m\n\u001b[0;32m    145\u001b[0m         \u001b[38;5;28;01mreturn\u001b[39;00m (\n\u001b[0;32m    146\u001b[0m             _wrap_data_with_container(method, data_to_wrap[\u001b[38;5;241m0\u001b[39m], X, \u001b[38;5;28mself\u001b[39m),\n\u001b[0;32m    147\u001b[0m             \u001b[38;5;241m*\u001b[39mdata_to_wrap[\u001b[38;5;241m1\u001b[39m:],\n\u001b[0;32m    148\u001b[0m         )\n",
      "File \u001b[1;32mD:\\Anaconda\\lib\\site-packages\\sklearn\\preprocessing\\_data.py:508\u001b[0m, in \u001b[0;36mMinMaxScaler.transform\u001b[1;34m(self, X)\u001b[0m\n\u001b[0;32m    494\u001b[0m \u001b[38;5;124;03m\"\"\"Scale features of X according to feature_range.\u001b[39;00m\n\u001b[0;32m    495\u001b[0m \n\u001b[0;32m    496\u001b[0m \u001b[38;5;124;03mParameters\u001b[39;00m\n\u001b[1;32m   (...)\u001b[0m\n\u001b[0;32m    504\u001b[0m \u001b[38;5;124;03m    Transformed data.\u001b[39;00m\n\u001b[0;32m    505\u001b[0m \u001b[38;5;124;03m\"\"\"\u001b[39;00m\n\u001b[0;32m    506\u001b[0m check_is_fitted(\u001b[38;5;28mself\u001b[39m)\n\u001b[1;32m--> 508\u001b[0m X \u001b[38;5;241m=\u001b[39m \u001b[38;5;28;43mself\u001b[39;49m\u001b[38;5;241;43m.\u001b[39;49m\u001b[43m_validate_data\u001b[49m\u001b[43m(\u001b[49m\n\u001b[0;32m    509\u001b[0m \u001b[43m    \u001b[49m\u001b[43mX\u001b[49m\u001b[43m,\u001b[49m\n\u001b[0;32m    510\u001b[0m \u001b[43m    \u001b[49m\u001b[43mcopy\u001b[49m\u001b[38;5;241;43m=\u001b[39;49m\u001b[38;5;28;43mself\u001b[39;49m\u001b[38;5;241;43m.\u001b[39;49m\u001b[43mcopy\u001b[49m\u001b[43m,\u001b[49m\n\u001b[0;32m    511\u001b[0m \u001b[43m    \u001b[49m\u001b[43mdtype\u001b[49m\u001b[38;5;241;43m=\u001b[39;49m\u001b[43mFLOAT_DTYPES\u001b[49m\u001b[43m,\u001b[49m\n\u001b[0;32m    512\u001b[0m \u001b[43m    \u001b[49m\u001b[43mforce_all_finite\u001b[49m\u001b[38;5;241;43m=\u001b[39;49m\u001b[38;5;124;43m\"\u001b[39;49m\u001b[38;5;124;43mallow-nan\u001b[39;49m\u001b[38;5;124;43m\"\u001b[39;49m\u001b[43m,\u001b[49m\n\u001b[0;32m    513\u001b[0m \u001b[43m    \u001b[49m\u001b[43mreset\u001b[49m\u001b[38;5;241;43m=\u001b[39;49m\u001b[38;5;28;43;01mFalse\u001b[39;49;00m\u001b[43m,\u001b[49m\n\u001b[0;32m    514\u001b[0m \u001b[43m\u001b[49m\u001b[43m)\u001b[49m\n\u001b[0;32m    516\u001b[0m X \u001b[38;5;241m*\u001b[39m\u001b[38;5;241m=\u001b[39m \u001b[38;5;28mself\u001b[39m\u001b[38;5;241m.\u001b[39mscale_\n\u001b[0;32m    517\u001b[0m X \u001b[38;5;241m+\u001b[39m\u001b[38;5;241m=\u001b[39m \u001b[38;5;28mself\u001b[39m\u001b[38;5;241m.\u001b[39mmin_\n",
      "File \u001b[1;32mD:\\Anaconda\\lib\\site-packages\\sklearn\\base.py:546\u001b[0m, in \u001b[0;36mBaseEstimator._validate_data\u001b[1;34m(self, X, y, reset, validate_separately, **check_params)\u001b[0m\n\u001b[0;32m    544\u001b[0m     \u001b[38;5;28;01mraise\u001b[39;00m \u001b[38;5;167;01mValueError\u001b[39;00m(\u001b[38;5;124m\"\u001b[39m\u001b[38;5;124mValidation should be done on X, y or both.\u001b[39m\u001b[38;5;124m\"\u001b[39m)\n\u001b[0;32m    545\u001b[0m \u001b[38;5;28;01melif\u001b[39;00m \u001b[38;5;129;01mnot\u001b[39;00m no_val_X \u001b[38;5;129;01mand\u001b[39;00m no_val_y:\n\u001b[1;32m--> 546\u001b[0m     X \u001b[38;5;241m=\u001b[39m check_array(X, input_name\u001b[38;5;241m=\u001b[39m\u001b[38;5;124m\"\u001b[39m\u001b[38;5;124mX\u001b[39m\u001b[38;5;124m\"\u001b[39m, \u001b[38;5;241m*\u001b[39m\u001b[38;5;241m*\u001b[39mcheck_params)\n\u001b[0;32m    547\u001b[0m     out \u001b[38;5;241m=\u001b[39m X\n\u001b[0;32m    548\u001b[0m \u001b[38;5;28;01melif\u001b[39;00m no_val_X \u001b[38;5;129;01mand\u001b[39;00m \u001b[38;5;129;01mnot\u001b[39;00m no_val_y:\n",
      "File \u001b[1;32mD:\\Anaconda\\lib\\site-packages\\sklearn\\utils\\validation.py:931\u001b[0m, in \u001b[0;36mcheck_array\u001b[1;34m(array, accept_sparse, accept_large_sparse, dtype, order, copy, force_all_finite, ensure_2d, allow_nd, ensure_min_samples, ensure_min_features, estimator, input_name)\u001b[0m\n\u001b[0;32m    929\u001b[0m     n_samples \u001b[38;5;241m=\u001b[39m _num_samples(array)\n\u001b[0;32m    930\u001b[0m     \u001b[38;5;28;01mif\u001b[39;00m n_samples \u001b[38;5;241m<\u001b[39m ensure_min_samples:\n\u001b[1;32m--> 931\u001b[0m         \u001b[38;5;28;01mraise\u001b[39;00m \u001b[38;5;167;01mValueError\u001b[39;00m(\n\u001b[0;32m    932\u001b[0m             \u001b[38;5;124m\"\u001b[39m\u001b[38;5;124mFound array with \u001b[39m\u001b[38;5;132;01m%d\u001b[39;00m\u001b[38;5;124m sample(s) (shape=\u001b[39m\u001b[38;5;132;01m%s\u001b[39;00m\u001b[38;5;124m) while a\u001b[39m\u001b[38;5;124m\"\u001b[39m\n\u001b[0;32m    933\u001b[0m             \u001b[38;5;124m\"\u001b[39m\u001b[38;5;124m minimum of \u001b[39m\u001b[38;5;132;01m%d\u001b[39;00m\u001b[38;5;124m is required\u001b[39m\u001b[38;5;132;01m%s\u001b[39;00m\u001b[38;5;124m.\u001b[39m\u001b[38;5;124m\"\u001b[39m\n\u001b[0;32m    934\u001b[0m             \u001b[38;5;241m%\u001b[39m (n_samples, array\u001b[38;5;241m.\u001b[39mshape, ensure_min_samples, context)\n\u001b[0;32m    935\u001b[0m         )\n\u001b[0;32m    937\u001b[0m \u001b[38;5;28;01mif\u001b[39;00m ensure_min_features \u001b[38;5;241m>\u001b[39m \u001b[38;5;241m0\u001b[39m \u001b[38;5;129;01mand\u001b[39;00m array\u001b[38;5;241m.\u001b[39mndim \u001b[38;5;241m==\u001b[39m \u001b[38;5;241m2\u001b[39m:\n\u001b[0;32m    938\u001b[0m     n_features \u001b[38;5;241m=\u001b[39m array\u001b[38;5;241m.\u001b[39mshape[\u001b[38;5;241m1\u001b[39m]\n",
      "\u001b[1;31mValueError\u001b[0m: Found array with 0 sample(s) (shape=(0, 4)) while a minimum of 1 is required by MinMaxScaler."
     ]
    }
   ],
   "source": [
    "df_x_scaler = MinMaxScaler().fit(df_x)\n",
    "\n",
    "forward_test_date = '2022-10-01'\n",
    "\n",
    "fdf_x = df_x.loc[forward_test_date:]\n",
    "fdf_y = df_y.loc[forward_test_date:]\n",
    "df_x = df_x.loc['2022-8-28':'2022-10-01']\n",
    "df_y = df_y.loc['2022-8-28':'2022-10-01']\n",
    "\n",
    "fdf_prx = df.loc[forward_test_date:]['CLOSE']\n",
    "fdf_y_len = len(fdf_y)\n",
    "\n",
    "df_x_scaled = pd.DataFrame(df_x_scaler.transform(df_x))\n",
    "fdf_x_scaled = pd.DataFrame(df_x_scaler.transform(fdf_x))\n",
    "\n",
    "x_train, x_test, y_train, y_test = train_test_split(df_x_scaled,\n",
    "                                                    df_y,\n",
    "                                                    test_size=0.25,\n",
    "                                                    random_state=42)\n",
    "\n",
    "x_train"
   ]
  },
  {
   "cell_type": "code",
   "execution_count": null,
   "id": "dc7d51a4",
   "metadata": {},
   "outputs": [],
   "source": []
  }
 ],
 "metadata": {
  "kernelspec": {
   "display_name": "Python 3 (ipykernel)",
   "language": "python",
   "name": "python3"
  },
  "language_info": {
   "codemirror_mode": {
    "name": "ipython",
    "version": 3
   },
   "file_extension": ".py",
   "mimetype": "text/x-python",
   "name": "python",
   "nbconvert_exporter": "python",
   "pygments_lexer": "ipython3",
   "version": "3.10.9"
  }
 },
 "nbformat": 4,
 "nbformat_minor": 5
}
