{
 "cells": [
  {
   "cell_type": "markdown",
   "id": "6997e388",
   "metadata": {},
   "source": [
    "# Pending Task: Fix VQQNN model"
   ]
  },
  {
   "cell_type": "code",
   "execution_count": null,
   "id": "4170c0c1",
   "metadata": {},
   "outputs": [],
   "source": [
    "#Confirm successful import of packages\n",
    "import numpy as np\n",
    "import os\n",
    "import tensorflow as tf\n",
    "import pandas as pd\n",
    "import matplotlib.pyplot as plt\n",
    "import numpy as np\n",
    "import os\n",
    "import tensorflow as tf\n",
    "import pandas as pd\n",
    "import matplotlib.pyplot as plt\n",
    "import matplotlib.dates as plt_dates\n",
    "\n",
    "from sklearn.model_selection import train_test_split\n",
    "from sklearn.preprocessing import MinMaxScaler\n",
    "from QuantumDense import VQNNModel\n",
    "\n",
    "import matplotlib.dates as plt_dates\n",
    "\n",
    "from sklearn.model_selection import train_test_split\n",
    "from sklearn.preprocessing import MinMaxScaler\n",
    "from QuantumDense import VQNNModel"
   ]
  },
  {
   "cell_type": "code",
   "execution_count": null,
   "id": "fab7ea39",
   "metadata": {},
   "outputs": [],
   "source": [
    "#Confirm successful import of input data\n",
    "import yfinance as yf\n",
    "import pandas as pd\n",
    "import datetime as date\n",
    "\n",
    "\n",
    "now = date.date.today()\n",
    "today = now.strftime('%Y-%m-%d')\n",
    "yesterday = (now - pd.Timedelta('1day')).strftime('%Y-%m-%d')\n",
    "ninedaysago = (now - pd.Timedelta('9day')).strftime('%Y-%m-%d')\n",
    "\n",
    "# read input data from CSV file\n",
    "df = pd.read_csv('datasets/test.csv')\n",
    "\n",
    "# convert date column to datetime and set as index\n",
    "df['DATE'] = pd.to_datetime(df['DATE'])\n",
    "df.set_index('DATE', inplace=True)\n",
    "df['HL_DELTA'] = df['HIGH'] - df['LOW']\n",
    "df['RETURNS'] = df['CLOSE'].pct_change()\n",
    "df['PRX_MA_ND'] = df['CLOSE'].rolling(window=5).mean()\n",
    "df['VOLATILITY'] = df['CLOSE'].rolling(window=5).std()\n",
    "df['TP1_RETURNS'] = df['RETURNS'].shift(-1)\n",
    "\n",
    "df.dropna(inplace=True)\n",
    "\n",
    "\n",
    "print(df)"
   ]
  },
  {
   "cell_type": "code",
   "execution_count": null,
   "id": "3dda8fc6",
   "metadata": {},
   "outputs": [],
   "source": [
    "#Create 3 dimensional Tensor\n",
    "df_x = df[['RETURNS', 'VOLUME', 'PRX_MA_ND', 'VOLATILITY']]\n",
    "df_y = df['TP1_RETURNS']\n",
    "df_x.dropna(inplace=True)\n",
    "df_x"
   ]
  },
  {
   "cell_type": "code",
   "execution_count": null,
   "id": "36696443",
   "metadata": {},
   "outputs": [],
   "source": [
    "df_y #check"
   ]
  },
  {
   "cell_type": "code",
   "execution_count": null,
   "id": "66d535db",
   "metadata": {},
   "outputs": [],
   "source": [
    "df_x_scaler = MinMaxScaler().fit(df_x)\n",
    "\n",
    "forward_test_date = '2022-10-01'\n",
    "\n",
    "fdf_x = df_x.loc[forward_test_date:]\n",
    "fdf_y = df_y.loc[forward_test_date:]\n",
    "df_x = df_x.loc[:forward_test_date]\n",
    "df_y = df_y.loc[:forward_test_date]\n",
    "\n",
    "fdf_prx = df.loc[forward_test_date:]['CLOSE']\n",
    "fdf_y_len = len(fdf_y)\n",
    "\n",
    "df_x_scaled = pd.DataFrame(df_x_scaler.transform(df_x))\n",
    "fdf_x_scaled = pd.DataFrame(df_x_scaler.transform(fdf_x))\n",
    "\n",
    "x_train, x_test, y_train, y_test = train_test_split(df_x_scaled,\n",
    "                                                    df_y,\n",
    "                                                    test_size=0.25,\n",
    "                                                    random_state=42)\n",
    "\n",
    "x_train"
   ]
  },
  {
   "cell_type": "code",
   "execution_count": null,
   "id": "8b6666f2",
   "metadata": {},
   "outputs": [],
   "source": []
  }
 ],
 "metadata": {
  "kernelspec": {
   "display_name": "Python 3 (ipykernel)",
   "language": "python",
   "name": "python3"
  },
  "language_info": {
   "codemirror_mode": {
    "name": "ipython",
    "version": 3
   },
   "file_extension": ".py",
   "mimetype": "text/x-python",
   "name": "python",
   "nbconvert_exporter": "python",
   "pygments_lexer": "ipython3",
   "version": "3.10.9"
  }
 },
 "nbformat": 4,
 "nbformat_minor": 5
}
