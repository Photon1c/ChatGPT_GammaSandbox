{
 "cells": [
  {
   "cell_type": "code",
   "execution_count": 1,
   "id": "9069b007",
   "metadata": {},
   "outputs": [
    {
     "name": "stdout",
     "output_type": "stream",
     "text": [
      "        Ticker                          Name Last Price Change  Volume\n",
      "      MU\\n\\nMU        Micron Technology Inc.     $61.40   2.84 509.25K\n",
      "      CE\\n\\nCE                Celanese Corp.    $110.53   4.50  27.26K\n",
      "    VMC\\n\\nVMC          Vulcan Materials Co.    $170.82   5.89  22.87K\n",
      "  AZEK\\n\\nAZEK                 AZEK Co. Inc.     $23.97   0.82  26.75K\n",
      "    WDC\\n\\nWDC         Western Digital Corp.     $36.30   1.15 424.58K\n",
      "    CXT\\n\\nCXT                 Crane NXT Co.     $45.20   1.37  14.74K\n",
      "    SPB\\n\\nSPB Spectrum Brands Holdings Inc.     $67.55   1.66  10.71K\n",
      "    DFS\\n\\nDFS   Discover Financial Services     $99.30   2.28  39.88K\n",
      "      ES\\n\\nES             Eversource Energy     $82.67   1.85 104.68K\n",
      "    SYF\\n\\nSYF           Synchrony Financial     $29.26   0.64 144.11K\n",
      "    PPG\\n\\nPPG           PPG Industries Inc.    $114.56 -23.51 145.16K\n",
      "  MRTX\\n\\nMRTX      Mirati Therapeutics Inc.     $36.73  -1.73  26.57K\n",
      "    EXR\\n\\nEXR      Extra Space Storage Inc.    $157.08  -5.71  37.75K\n",
      "    MHK\\n\\nMHK        Mohawk Industries Inc.     $90.12  -2.47  10.39K\n",
      "  CUBE\\n\\nCUBE                     CubeSmart     $46.69  -1.11 153.14K\n",
      "    TTC\\n\\nTTC                      Toro Co.     $98.85  -2.13  16.15K\n",
      "  CVAC\\n\\nCVAC                  CureVac N.V.      $7.11  -0.15  12.89K\n",
      "  COTY\\n\\nCOTY                Coty Inc. Cl A     $11.40  -0.24    1.8M\n",
      "  GOCO\\n\\nGOCO                 GoHealth Inc.     $14.00  -0.29      79\n",
      "  BIIB\\n\\nBIIB                   Biogen Inc.    $281.01  -5.79  32.88K\n",
      "  AAPL\\n\\nAAPL                    Apple Inc.    $164.57  -0.09   2.87M\n",
      "  NVDA\\n\\nNVDA                  NVIDIA Corp.    $270.56   0.19   2.49M\n",
      "  SCHW\\n\\nSCHW          Charles Schwab Corp.     $49.71   0.36    2.2M\n",
      "  COTY\\n\\nCOTY                Coty Inc. Cl A     $11.40  -0.24    1.8M\n",
      "  AMZN\\n\\nAMZN               Amazon.com Inc.    $101.89  -0.17   1.79M\n",
      "    KEY\\n\\nKEY                       KeyCorp     $11.96   0.05   1.64M\n",
      "CMCSA\\n\\nCMCSA            Comcast Corp. Cl A     $37.67   0.06   1.52M\n",
      "        T\\n\\nT                     AT&T Inc.     $19.61  -0.04   1.45M\n",
      "  MSFT\\n\\nMSFT               Microsoft Corp.    $291.60   0.00    1.4M\n",
      "GOOGL\\n\\nGOOGL            Alphabet Inc. Cl A    $108.40  -0.02    1.4M\n",
      "    XOM\\n\\nXOM             Exxon Mobil Corp.    $115.20   0.15   1.38M\n",
      "  TSLA\\n\\nTSLA                    Tesla Inc.    $185.00  -0.06   1.28M\n",
      "  INTC\\n\\nINTC                   Intel Corp.     $32.78  -0.03   1.19M\n",
      "  GOOG\\n\\nGOOG            Alphabet Inc. Cl C    $108.72  -0.18   1.18M\n",
      "    BSX\\n\\nBSX       Boston Scientific Corp.     $49.86  -0.22   1.07M\n",
      "  AMCR\\n\\nAMCR                     Amcor PLC     $11.30   0.05   1.06M\n",
      "  PYPL\\n\\nPYPL          PayPal Holdings Inc.     $75.00   0.04   1.04M\n",
      "    BAC\\n\\nBAC         Bank of America Corp.     $27.93   0.09 990.82K\n",
      "  CSCO\\n\\nCSCO            Cisco Systems Inc.     $51.44   0.17 976.12K\n",
      "    CVX\\n\\nCVX                 Chevron Corp.    $167.55  -0.10  924.8K\n"
     ]
    }
   ],
   "source": [
    "#this code could also be used in automation for other websites\n",
    "import pandas as pd\n",
    "import requests\n",
    "from bs4 import BeautifulSoup\n",
    "\n",
    "# Define the URL to scrape for after-hours stock data\n",
    "url = 'https://www.marketwatch.com/tools/screener/after-hours'\n",
    "\n",
    "# Make a GET request to the URL and store the response object\n",
    "res = requests.get(url)\n",
    "\n",
    "# Parse the HTML content of the response object with BeautifulSoup\n",
    "soup = BeautifulSoup(res.text, 'html.parser')\n",
    "\n",
    "# Extract the table rows that contain the after-hours stock data\n",
    "rows = soup.select('.table__body tr')\n",
    "\n",
    "# Initialize an empty list to store the after-hours stock data\n",
    "after_hours_stocks = []\n",
    "\n",
    "# Loop over the table rows and extract the data for each after-hours stock\n",
    "for row in rows:\n",
    "    cells = row.select('td')\n",
    "    ticker = cells[0].text.strip()\n",
    "    name = cells[1].text.strip()\n",
    "    last_price = cells[2].text.strip()\n",
    "    change = cells[3].text.strip()\n",
    "    volume = cells[4].text.strip()\n",
    "    after_hours_stocks.append({'Ticker': ticker, 'Name': name, 'Last Price': last_price, 'Change': volume, 'Volume': change})\n",
    "\n",
    "# Convert the list of after-hours stock data into a pandas DataFrame\n",
    "after_hours_df = pd.DataFrame(after_hours_stocks)\n",
    "\n",
    "after_hours_df.sort_values(by=['Last Price'])\n",
    "\n",
    "# Print the table of after-hours stocks\n",
    "print(after_hours_df.to_string(index=False))\n"
   ]
  },
  {
   "cell_type": "code",
   "execution_count": null,
   "id": "5736f4c1",
   "metadata": {},
   "outputs": [],
   "source": [
    "print(after_hours_df.sort_values(by=['Last Price']))"
   ]
  },
  {
   "cell_type": "code",
   "execution_count": null,
   "id": "6f748223",
   "metadata": {},
   "outputs": [],
   "source": []
  }
 ],
 "metadata": {
  "kernelspec": {
   "display_name": "Python 3 (ipykernel)",
   "language": "python",
   "name": "python3"
  },
  "language_info": {
   "codemirror_mode": {
    "name": "ipython",
    "version": 3
   },
   "file_extension": ".py",
   "mimetype": "text/x-python",
   "name": "python",
   "nbconvert_exporter": "python",
   "pygments_lexer": "ipython3",
   "version": "3.10.9"
  }
 },
 "nbformat": 4,
 "nbformat_minor": 5
}
