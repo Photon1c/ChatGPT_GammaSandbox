{
 "cells": [
  {
   "cell_type": "code",
   "execution_count": 1,
   "id": "36431a0a",
   "metadata": {},
   "outputs": [
    {
     "name": "stdout",
     "output_type": "stream",
     "text": [
      "Enter the expiration date (YYYY-MM-DD): 2023-03-31\n",
      "Enter the stock ticker: F\n",
      "Error: Could not retrieve last closing price for stock.\n"
     ]
    },
    {
     "ename": "TypeError",
     "evalue": "unsupported operand type(s) for *: 'float' and 'NoneType'",
     "output_type": "error",
     "traceback": [
      "\u001b[1;31m---------------------------------------------------------------------------\u001b[0m",
      "\u001b[1;31mTypeError\u001b[0m                                 Traceback (most recent call last)",
      "Cell \u001b[1;32mIn[1], line 27\u001b[0m\n\u001b[0;32m     24\u001b[0m     exit()\n\u001b[0;32m     26\u001b[0m \u001b[38;5;66;03m# Calculate the option payoff function for a range of stock prices\u001b[39;00m\n\u001b[1;32m---> 27\u001b[0m stock_price_range \u001b[38;5;241m=\u001b[39m \u001b[38;5;28mrange\u001b[39m(\u001b[38;5;28mint\u001b[39m(\u001b[38;5;241;43m0.8\u001b[39;49m\u001b[43m \u001b[49m\u001b[38;5;241;43m*\u001b[39;49m\u001b[43m \u001b[49m\u001b[43mlast_close_price\u001b[49m), \u001b[38;5;28mint\u001b[39m(\u001b[38;5;241m1.2\u001b[39m \u001b[38;5;241m*\u001b[39m last_close_price))\n\u001b[0;32m     28\u001b[0m option_payoff \u001b[38;5;241m=\u001b[39m [\u001b[38;5;28mmax\u001b[39m(stock_price \u001b[38;5;241m-\u001b[39m strike_price, \u001b[38;5;241m0\u001b[39m) \u001b[38;5;241m-\u001b[39m option_premium \u001b[38;5;28;01mfor\u001b[39;00m stock_price \u001b[38;5;129;01min\u001b[39;00m stock_price_range]\n\u001b[0;32m     30\u001b[0m \u001b[38;5;66;03m# Create a dataframe with the stock prices and option payoffs\u001b[39;00m\n",
      "\u001b[1;31mTypeError\u001b[0m: unsupported operand type(s) for *: 'float' and 'NoneType'"
     ]
    }
   ],
   "source": [
    "import pandas as pd\n",
    "import yfinance as yf\n",
    "import matplotlib.pyplot as plt\n",
    "import matplotlib.animation as animation\n",
    "from py_vollib.black_scholes.implied_volatility import implied_volatility\n",
    "\n",
    "# Request user input for expiration date and stock ticker\n",
    "expiration_date = input('Enter the expiration date (YYYY-MM-DD): ')\n",
    "stock_ticker = input('Enter the stock ticker: ')\n",
    "\n",
    "# Get the highest IV-HV divergence option contract from the option chain\n",
    "option_chain = yf.Ticker(stock_ticker).option_chain(expiration_date)\n",
    "highest_ivhv_contract = option_chain.calls.iloc[0]\n",
    "\n",
    "# Calculate the strike price and option premium for the highest IV-HV divergence contract\n",
    "strike_price = highest_ivhv_contract['strike']\n",
    "option_premium = highest_ivhv_contract['lastPrice']\n",
    "\n",
    "# Get the last closing price of the stock from Yahoo Finance\n",
    "stock_info = yf.Ticker(stock_ticker).info\n",
    "last_close_price = stock_info.get('regularMarketPrice')\n",
    "if last_close_price is None:\n",
    "    print('Error: Could not retrieve last closing price for stock.')\n",
    "    exit()\n",
    "\n",
    "# Calculate the option payoff function for a range of stock prices\n",
    "stock_price_range = range(int(0.8 * last_close_price), int(1.2 * last_close_price))\n",
    "option_payoff = [max(stock_price - strike_price, 0) - option_premium for stock_price in stock_price_range]\n",
    "\n",
    "# Create a dataframe with the stock prices and option payoffs\n",
    "df = pd.DataFrame({'Stock Price': stock_price_range, 'Option Payoff': option_payoff})\n",
    "\n",
    "# Set up the plot\n",
    "fig, ax = plt.subplots()\n",
    "line, = ax.plot(df['Stock Price'], df['Option Payoff'])\n",
    "\n",
    "# Define the animation function\n",
    "def animate(frame):\n",
    "    # Update the plot data\n",
    "    new_data = df.iloc[frame % len(df)]\n",
    "    line.set_data(new_data['Stock Price'], new_data['Option Payoff'])\n",
    "    \n",
    "    # Set the plot title and axis labels\n",
    "    ax.set_title(f'{stock_ticker} Option Payoff Function\\nExpiration Date: {expiration_date}')\n",
    "    ax.set_xlabel('Stock Price')\n",
    "    ax.set_ylabel('Option Payoff')\n",
    "    \n",
    "    return line,\n",
    "\n",
    "# Create the animation\n",
    "ani = animation.FuncAnimation(fig, animate, frames=len(df), interval=50, blit=True)\n",
    "\n",
    "# Show the plot\n",
    "plt.show()\n"
   ]
  },
  {
   "cell_type": "code",
   "execution_count": 2,
   "id": "f060d6c0",
   "metadata": {},
   "outputs": [
    {
     "data": {
      "text/plain": [
       "{'regularMarketPrice': None, 'preMarketPrice': None, 'logo_url': ''}"
      ]
     },
     "execution_count": 2,
     "metadata": {},
     "output_type": "execute_result"
    }
   ],
   "source": [
    "import yfinance as yf\n",
    "\n",
    "msft = yf.Ticker(\"MSFT\")\n",
    "\n",
    "# get all stock info (slow)\n",
    "msft.info"
   ]
  },
  {
   "cell_type": "code",
   "execution_count": 3,
   "id": "54d7c6a3",
   "metadata": {},
   "outputs": [
    {
     "ename": "TypeError",
     "evalue": "'dict' object is not callable",
     "output_type": "error",
     "traceback": [
      "\u001b[1;31m---------------------------------------------------------------------------\u001b[0m",
      "\u001b[1;31mTypeError\u001b[0m                                 Traceback (most recent call last)",
      "Cell \u001b[1;32mIn[3], line 1\u001b[0m\n\u001b[1;32m----> 1\u001b[0m \u001b[38;5;28mprint\u001b[39m(\u001b[43mmsft\u001b[49m\u001b[38;5;241;43m.\u001b[39;49m\u001b[43minfo\u001b[49m\u001b[43m(\u001b[49m\u001b[38;5;124;43m\"\u001b[39;49m\u001b[38;5;124;43mregularMarketPrice\u001b[39;49m\u001b[38;5;124;43m\"\u001b[39;49m\u001b[43m)\u001b[49m)\n",
      "\u001b[1;31mTypeError\u001b[0m: 'dict' object is not callable"
     ]
    }
   ],
   "source": [
    "print(msft.info(\"preMarketPrice\"))"
   ]
  },
  {
   "cell_type": "code",
   "execution_count": null,
   "id": "5c8212e8",
   "metadata": {},
   "outputs": [],
   "source": []
  }
 ],
 "metadata": {
  "kernelspec": {
   "display_name": "Python 3 (ipykernel)",
   "language": "python",
   "name": "python3"
  },
  "language_info": {
   "codemirror_mode": {
    "name": "ipython",
    "version": 3
   },
   "file_extension": ".py",
   "mimetype": "text/x-python",
   "name": "python",
   "nbconvert_exporter": "python",
   "pygments_lexer": "ipython3",
   "version": "3.10.9"
  }
 },
 "nbformat": 4,
 "nbformat_minor": 5
}
