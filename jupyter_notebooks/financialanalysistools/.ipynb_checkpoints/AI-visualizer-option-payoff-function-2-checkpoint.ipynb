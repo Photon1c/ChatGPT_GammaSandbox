{
 "cells": [
  {
   "cell_type": "code",
   "execution_count": null,
   "id": "36431a0a",
   "metadata": {},
   "outputs": [],
   "source": [
    "import pandas as pd\n",
    "import yfinance as yf\n",
    "import matplotlib.pyplot as plt\n",
    "import matplotlib.animation as animation\n",
    "import mlcyberpunk\n",
    "%matplotlib nbagg\n",
    "\n",
    "\n",
    "\n",
    "# Request user input for option parameters\n",
    "expiration_date = input('Enter the expiration date (YYYY-MM-DD): ')\n",
    "stock_ticker = input('Enter the stock ticker: ')\n",
    "strike_price = float(input('Enter the strike price: '))\n",
    "option_premium = float(input('Enter the option premium: '))\n",
    "\n",
    "# Get the last closing price of the stock from Yahoo Finance\n",
    "stock_info = yf.Ticker(stock_ticker).history(period='1d')\n",
    "current_price = stock_info['Close'][0]\n",
    "\n",
    "# Create a range of stock prices\n",
    "stock_prices = pd.Series(range(int(current_price*0.5), int(current_price*1.5)))\n",
    "\n",
    "# Define the option payoff function\n",
    "def option_payoff(stock_price, strike_price, option_premium):\n",
    "    if stock_price < strike_price:\n",
    "        return -option_premium\n",
    "    else:\n",
    "        return stock_price - strike_price - option_premium\n",
    "\n",
    "# Apply the option payoff function to the stock price range\n",
    "option_payoffs = stock_prices.apply(option_payoff, args=(strike_price, option_premium))\n",
    "\n",
    "# Create a dataframe with the stock prices and option payoffs\n",
    "df = pd.DataFrame({'Stock Price': stock_prices, 'Option Payoff': option_payoffs})\n",
    "\n",
    "# Create the figure and axis objects\n",
    "fig, ax = plt.subplots()\n",
    "\n",
    "# Set the axis limits\n",
    "ax.set_xlim([int(current_price*0.5), int(current_price*1.5)])\n",
    "ax.set_ylim([-10, max(df['Option Payoff'])*1.1])\n",
    "\n",
    "# Set the axis labels\n",
    "ax.set_xlabel('Stock Price')\n",
    "ax.set_ylabel('Option Payoff')\n",
    "\n",
    "# Set the title\n",
    "ax.set_title(f'Option Payoff for {stock_ticker} Call Option (Expiration: {expiration_date})')\n",
    "\n",
    "# Create the line object\n",
    "line, = ax.plot([], [])\n",
    "\n",
    "# Define the update function for the animation\n",
    "def update(frame):\n",
    "    x = df['Stock Price'][:frame+1]\n",
    "    y = df['Option Payoff'][:frame+1]\n",
    "    line.set_data(x, y)\n",
    "    return line,\n",
    "\n",
    "# Create the animation\n",
    "ani = animation.FuncAnimation(fig, update, frames=len(df), interval=100, blit=True)\n",
    "\n",
    "# Show the plot\n",
    "plt.figure(figsize=(20,20))\n",
    "plt.use.use('cyberpunk')\n",
    "plt.show()\n"
   ]
  },
  {
   "cell_type": "code",
   "execution_count": null,
   "id": "f060d6c0",
   "metadata": {},
   "outputs": [],
   "source": []
  },
  {
   "cell_type": "code",
   "execution_count": null,
   "id": "8fb1dbf8",
   "metadata": {},
   "outputs": [],
   "source": [
    "pip install mplcyberpunk"
   ]
  },
  {
   "cell_type": "code",
   "execution_count": null,
   "id": "9925954b",
   "metadata": {},
   "outputs": [],
   "source": []
  }
 ],
 "metadata": {
  "kernelspec": {
   "display_name": "Python 3 (ipykernel)",
   "language": "python",
   "name": "python3"
  },
  "language_info": {
   "codemirror_mode": {
    "name": "ipython",
    "version": 3
   },
   "file_extension": ".py",
   "mimetype": "text/x-python",
   "name": "python",
   "nbconvert_exporter": "python",
   "pygments_lexer": "ipython3",
   "version": "3.10.9"
  }
 },
 "nbformat": 4,
 "nbformat_minor": 5
}
