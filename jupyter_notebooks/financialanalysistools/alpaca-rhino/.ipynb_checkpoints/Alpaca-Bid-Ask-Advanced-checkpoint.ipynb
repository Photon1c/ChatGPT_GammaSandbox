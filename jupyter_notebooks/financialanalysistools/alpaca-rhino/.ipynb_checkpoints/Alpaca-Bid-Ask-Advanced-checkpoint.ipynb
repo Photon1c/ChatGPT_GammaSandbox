{
 "cells": [
  {
   "cell_type": "code",
   "execution_count": 2,
   "id": "6a916623",
   "metadata": {},
   "outputs": [
    {
     "name": "stdout",
     "output_type": "stream",
     "text": [
      "None\n"
     ]
    }
   ],
   "source": [
    "#Load environment variables, alternative way\n",
    "#Reference Alpaca API for Candles\n",
    "import plotly.graph_objects as go\n",
    "import plotly.express as px\n",
    "import alpaca_trade_api as api\n",
    "import os\n",
    "\n",
    "ALPACA_KEY_ID, ALPACA_SECRETS_KEY = \"\",\"\"\n",
    "\n",
    "def set_vars(secrets_file='a.env'):\n",
    "    global APCA_API_KEY_ID, APCA_API_SECRET_KEY\n",
    "    with open(f\"{secrets_file}\", 'r') as file:\n",
    "        contents = file.read()\n",
    "        env_vars = contents.replace('export ', '').split(\"\\n\")\n",
    "        ALPACA_KEY_ID = env_vars[0].split(\"=\")[1]\n",
    "        ALPACA_SECRETS_KEY = env_vars[1].split(\"=\")[1]\n",
    "        TEST_ENV_VAR = os.getenv('TEST_ENV_VAR')\n",
    "    print(TEST_ENV_VAR)\n",
    "set_vars()\n"
   ]
  },
  {
   "cell_type": "code",
   "execution_count": 6,
   "id": "2cd1a3f3",
   "metadata": {},
   "outputs": [
    {
     "name": "stdout",
     "output_type": "stream",
     "text": [
      "                            open    high     low  close    volume  \\\n",
      "timestamp                                                           \n",
      "2023-04-03 04:00:00+00:00  52.06  52.560  51.990  52.31  16885865   \n",
      "2023-04-04 04:00:00+00:00  52.03  52.120  51.430  51.82  13599929   \n",
      "2023-04-05 04:00:00+00:00  52.07  52.290  51.680  51.82  13802655   \n",
      "2023-04-06 04:00:00+00:00  50.92  51.564  50.725  51.27  14749037   \n",
      "2023-04-10 04:00:00+00:00  51.11  51.400  50.875  51.33  10178013   \n",
      "\n",
      "                           trade_count       vwap symbol  \n",
      "timestamp                                                 \n",
      "2023-04-03 04:00:00+00:00       101969  52.293869   CSCO  \n",
      "2023-04-04 04:00:00+00:00        98094  51.786810   CSCO  \n",
      "2023-04-05 04:00:00+00:00       112469  51.891115   CSCO  \n",
      "2023-04-06 04:00:00+00:00       113320  51.225480   CSCO  \n",
      "2023-04-10 04:00:00+00:00        81446  51.252209   CSCO  \n"
     ]
    },
    {
     "data": {
      "application/vnd.plotly.v1+json": {
       "config": {
        "plotlyServerURL": "https://plot.ly"
       },
       "data": [
        {
         "close": [
          52.31,
          51.82,
          51.82,
          51.27,
          51.33,
          50.62,
          50.11,
          50.8,
          50.54,
          50.28,
          50.31,
          48.04,
          46.58,
          47.03,
          47.39,
          47.09,
          46.54,
          46.56,
          47.25,
          47.34,
          46.36,
          45.96,
          45.7,
          46.24
         ],
         "high": [
          52.56,
          52.12,
          52.29,
          51.564,
          51.4,
          51.3,
          50.95,
          50.83,
          50.85,
          50.675,
          50.69,
          49.27,
          47.65,
          47.115,
          47.45,
          47.43,
          46.85,
          46.8,
          47.26,
          47.52,
          47.08,
          46.55,
          45.93,
          46.36
         ],
         "low": [
          51.99,
          51.43,
          51.68,
          50.725,
          50.875,
          50.52,
          50.05,
          50.09,
          50.205,
          50.05,
          50.07,
          47.99,
          46.36,
          46.24,
          47,
          46.805,
          46.425,
          45.97,
          46.61,
          47.125,
          46.06,
          45.86,
          45.555,
          45.92
         ],
         "open": [
          52.06,
          52.03,
          52.07,
          50.92,
          51.11,
          51.12,
          50.82,
          50.21,
          50.52,
          50.56,
          50.38,
          49.23,
          47.61,
          46.565,
          47.05,
          47.37,
          46.76,
          46.78,
          46.66,
          47.2,
          46.905,
          46.42,
          45.77,
          46.12
         ],
         "type": "candlestick",
         "x": [
          "2023-04-03T04:00:00+00:00",
          "2023-04-04T04:00:00+00:00",
          "2023-04-05T04:00:00+00:00",
          "2023-04-06T04:00:00+00:00",
          "2023-04-10T04:00:00+00:00",
          "2023-04-11T04:00:00+00:00",
          "2023-04-12T04:00:00+00:00",
          "2023-04-13T04:00:00+00:00",
          "2023-04-14T04:00:00+00:00",
          "2023-04-17T04:00:00+00:00",
          "2023-04-18T04:00:00+00:00",
          "2023-04-19T04:00:00+00:00",
          "2023-04-20T04:00:00+00:00",
          "2023-04-21T04:00:00+00:00",
          "2023-04-24T04:00:00+00:00",
          "2023-04-25T04:00:00+00:00",
          "2023-04-26T04:00:00+00:00",
          "2023-04-27T04:00:00+00:00",
          "2023-04-28T04:00:00+00:00",
          "2023-05-01T04:00:00+00:00",
          "2023-05-02T04:00:00+00:00",
          "2023-05-03T04:00:00+00:00",
          "2023-05-04T04:00:00+00:00",
          "2023-05-05T04:00:00+00:00"
         ]
        }
       ],
       "layout": {
        "template": {
         "data": {
          "bar": [
           {
            "error_x": {
             "color": "#2a3f5f"
            },
            "error_y": {
             "color": "#2a3f5f"
            },
            "marker": {
             "line": {
              "color": "#E5ECF6",
              "width": 0.5
             },
             "pattern": {
              "fillmode": "overlay",
              "size": 10,
              "solidity": 0.2
             }
            },
            "type": "bar"
           }
          ],
          "barpolar": [
           {
            "marker": {
             "line": {
              "color": "#E5ECF6",
              "width": 0.5
             },
             "pattern": {
              "fillmode": "overlay",
              "size": 10,
              "solidity": 0.2
             }
            },
            "type": "barpolar"
           }
          ],
          "carpet": [
           {
            "aaxis": {
             "endlinecolor": "#2a3f5f",
             "gridcolor": "white",
             "linecolor": "white",
             "minorgridcolor": "white",
             "startlinecolor": "#2a3f5f"
            },
            "baxis": {
             "endlinecolor": "#2a3f5f",
             "gridcolor": "white",
             "linecolor": "white",
             "minorgridcolor": "white",
             "startlinecolor": "#2a3f5f"
            },
            "type": "carpet"
           }
          ],
          "choropleth": [
           {
            "colorbar": {
             "outlinewidth": 0,
             "ticks": ""
            },
            "type": "choropleth"
           }
          ],
          "contour": [
           {
            "colorbar": {
             "outlinewidth": 0,
             "ticks": ""
            },
            "colorscale": [
             [
              0,
              "#0d0887"
             ],
             [
              0.1111111111111111,
              "#46039f"
             ],
             [
              0.2222222222222222,
              "#7201a8"
             ],
             [
              0.3333333333333333,
              "#9c179e"
             ],
             [
              0.4444444444444444,
              "#bd3786"
             ],
             [
              0.5555555555555556,
              "#d8576b"
             ],
             [
              0.6666666666666666,
              "#ed7953"
             ],
             [
              0.7777777777777778,
              "#fb9f3a"
             ],
             [
              0.8888888888888888,
              "#fdca26"
             ],
             [
              1,
              "#f0f921"
             ]
            ],
            "type": "contour"
           }
          ],
          "contourcarpet": [
           {
            "colorbar": {
             "outlinewidth": 0,
             "ticks": ""
            },
            "type": "contourcarpet"
           }
          ],
          "heatmap": [
           {
            "colorbar": {
             "outlinewidth": 0,
             "ticks": ""
            },
            "colorscale": [
             [
              0,
              "#0d0887"
             ],
             [
              0.1111111111111111,
              "#46039f"
             ],
             [
              0.2222222222222222,
              "#7201a8"
             ],
             [
              0.3333333333333333,
              "#9c179e"
             ],
             [
              0.4444444444444444,
              "#bd3786"
             ],
             [
              0.5555555555555556,
              "#d8576b"
             ],
             [
              0.6666666666666666,
              "#ed7953"
             ],
             [
              0.7777777777777778,
              "#fb9f3a"
             ],
             [
              0.8888888888888888,
              "#fdca26"
             ],
             [
              1,
              "#f0f921"
             ]
            ],
            "type": "heatmap"
           }
          ],
          "heatmapgl": [
           {
            "colorbar": {
             "outlinewidth": 0,
             "ticks": ""
            },
            "colorscale": [
             [
              0,
              "#0d0887"
             ],
             [
              0.1111111111111111,
              "#46039f"
             ],
             [
              0.2222222222222222,
              "#7201a8"
             ],
             [
              0.3333333333333333,
              "#9c179e"
             ],
             [
              0.4444444444444444,
              "#bd3786"
             ],
             [
              0.5555555555555556,
              "#d8576b"
             ],
             [
              0.6666666666666666,
              "#ed7953"
             ],
             [
              0.7777777777777778,
              "#fb9f3a"
             ],
             [
              0.8888888888888888,
              "#fdca26"
             ],
             [
              1,
              "#f0f921"
             ]
            ],
            "type": "heatmapgl"
           }
          ],
          "histogram": [
           {
            "marker": {
             "pattern": {
              "fillmode": "overlay",
              "size": 10,
              "solidity": 0.2
             }
            },
            "type": "histogram"
           }
          ],
          "histogram2d": [
           {
            "colorbar": {
             "outlinewidth": 0,
             "ticks": ""
            },
            "colorscale": [
             [
              0,
              "#0d0887"
             ],
             [
              0.1111111111111111,
              "#46039f"
             ],
             [
              0.2222222222222222,
              "#7201a8"
             ],
             [
              0.3333333333333333,
              "#9c179e"
             ],
             [
              0.4444444444444444,
              "#bd3786"
             ],
             [
              0.5555555555555556,
              "#d8576b"
             ],
             [
              0.6666666666666666,
              "#ed7953"
             ],
             [
              0.7777777777777778,
              "#fb9f3a"
             ],
             [
              0.8888888888888888,
              "#fdca26"
             ],
             [
              1,
              "#f0f921"
             ]
            ],
            "type": "histogram2d"
           }
          ],
          "histogram2dcontour": [
           {
            "colorbar": {
             "outlinewidth": 0,
             "ticks": ""
            },
            "colorscale": [
             [
              0,
              "#0d0887"
             ],
             [
              0.1111111111111111,
              "#46039f"
             ],
             [
              0.2222222222222222,
              "#7201a8"
             ],
             [
              0.3333333333333333,
              "#9c179e"
             ],
             [
              0.4444444444444444,
              "#bd3786"
             ],
             [
              0.5555555555555556,
              "#d8576b"
             ],
             [
              0.6666666666666666,
              "#ed7953"
             ],
             [
              0.7777777777777778,
              "#fb9f3a"
             ],
             [
              0.8888888888888888,
              "#fdca26"
             ],
             [
              1,
              "#f0f921"
             ]
            ],
            "type": "histogram2dcontour"
           }
          ],
          "mesh3d": [
           {
            "colorbar": {
             "outlinewidth": 0,
             "ticks": ""
            },
            "type": "mesh3d"
           }
          ],
          "parcoords": [
           {
            "line": {
             "colorbar": {
              "outlinewidth": 0,
              "ticks": ""
             }
            },
            "type": "parcoords"
           }
          ],
          "pie": [
           {
            "automargin": true,
            "type": "pie"
           }
          ],
          "scatter": [
           {
            "fillpattern": {
             "fillmode": "overlay",
             "size": 10,
             "solidity": 0.2
            },
            "type": "scatter"
           }
          ],
          "scatter3d": [
           {
            "line": {
             "colorbar": {
              "outlinewidth": 0,
              "ticks": ""
             }
            },
            "marker": {
             "colorbar": {
              "outlinewidth": 0,
              "ticks": ""
             }
            },
            "type": "scatter3d"
           }
          ],
          "scattercarpet": [
           {
            "marker": {
             "colorbar": {
              "outlinewidth": 0,
              "ticks": ""
             }
            },
            "type": "scattercarpet"
           }
          ],
          "scattergeo": [
           {
            "marker": {
             "colorbar": {
              "outlinewidth": 0,
              "ticks": ""
             }
            },
            "type": "scattergeo"
           }
          ],
          "scattergl": [
           {
            "marker": {
             "colorbar": {
              "outlinewidth": 0,
              "ticks": ""
             }
            },
            "type": "scattergl"
           }
          ],
          "scattermapbox": [
           {
            "marker": {
             "colorbar": {
              "outlinewidth": 0,
              "ticks": ""
             }
            },
            "type": "scattermapbox"
           }
          ],
          "scatterpolar": [
           {
            "marker": {
             "colorbar": {
              "outlinewidth": 0,
              "ticks": ""
             }
            },
            "type": "scatterpolar"
           }
          ],
          "scatterpolargl": [
           {
            "marker": {
             "colorbar": {
              "outlinewidth": 0,
              "ticks": ""
             }
            },
            "type": "scatterpolargl"
           }
          ],
          "scatterternary": [
           {
            "marker": {
             "colorbar": {
              "outlinewidth": 0,
              "ticks": ""
             }
            },
            "type": "scatterternary"
           }
          ],
          "surface": [
           {
            "colorbar": {
             "outlinewidth": 0,
             "ticks": ""
            },
            "colorscale": [
             [
              0,
              "#0d0887"
             ],
             [
              0.1111111111111111,
              "#46039f"
             ],
             [
              0.2222222222222222,
              "#7201a8"
             ],
             [
              0.3333333333333333,
              "#9c179e"
             ],
             [
              0.4444444444444444,
              "#bd3786"
             ],
             [
              0.5555555555555556,
              "#d8576b"
             ],
             [
              0.6666666666666666,
              "#ed7953"
             ],
             [
              0.7777777777777778,
              "#fb9f3a"
             ],
             [
              0.8888888888888888,
              "#fdca26"
             ],
             [
              1,
              "#f0f921"
             ]
            ],
            "type": "surface"
           }
          ],
          "table": [
           {
            "cells": {
             "fill": {
              "color": "#EBF0F8"
             },
             "line": {
              "color": "white"
             }
            },
            "header": {
             "fill": {
              "color": "#C8D4E3"
             },
             "line": {
              "color": "white"
             }
            },
            "type": "table"
           }
          ]
         },
         "layout": {
          "annotationdefaults": {
           "arrowcolor": "#2a3f5f",
           "arrowhead": 0,
           "arrowwidth": 1
          },
          "autotypenumbers": "strict",
          "coloraxis": {
           "colorbar": {
            "outlinewidth": 0,
            "ticks": ""
           }
          },
          "colorscale": {
           "diverging": [
            [
             0,
             "#8e0152"
            ],
            [
             0.1,
             "#c51b7d"
            ],
            [
             0.2,
             "#de77ae"
            ],
            [
             0.3,
             "#f1b6da"
            ],
            [
             0.4,
             "#fde0ef"
            ],
            [
             0.5,
             "#f7f7f7"
            ],
            [
             0.6,
             "#e6f5d0"
            ],
            [
             0.7,
             "#b8e186"
            ],
            [
             0.8,
             "#7fbc41"
            ],
            [
             0.9,
             "#4d9221"
            ],
            [
             1,
             "#276419"
            ]
           ],
           "sequential": [
            [
             0,
             "#0d0887"
            ],
            [
             0.1111111111111111,
             "#46039f"
            ],
            [
             0.2222222222222222,
             "#7201a8"
            ],
            [
             0.3333333333333333,
             "#9c179e"
            ],
            [
             0.4444444444444444,
             "#bd3786"
            ],
            [
             0.5555555555555556,
             "#d8576b"
            ],
            [
             0.6666666666666666,
             "#ed7953"
            ],
            [
             0.7777777777777778,
             "#fb9f3a"
            ],
            [
             0.8888888888888888,
             "#fdca26"
            ],
            [
             1,
             "#f0f921"
            ]
           ],
           "sequentialminus": [
            [
             0,
             "#0d0887"
            ],
            [
             0.1111111111111111,
             "#46039f"
            ],
            [
             0.2222222222222222,
             "#7201a8"
            ],
            [
             0.3333333333333333,
             "#9c179e"
            ],
            [
             0.4444444444444444,
             "#bd3786"
            ],
            [
             0.5555555555555556,
             "#d8576b"
            ],
            [
             0.6666666666666666,
             "#ed7953"
            ],
            [
             0.7777777777777778,
             "#fb9f3a"
            ],
            [
             0.8888888888888888,
             "#fdca26"
            ],
            [
             1,
             "#f0f921"
            ]
           ]
          },
          "colorway": [
           "#636efa",
           "#EF553B",
           "#00cc96",
           "#ab63fa",
           "#FFA15A",
           "#19d3f3",
           "#FF6692",
           "#B6E880",
           "#FF97FF",
           "#FECB52"
          ],
          "font": {
           "color": "#2a3f5f"
          },
          "geo": {
           "bgcolor": "white",
           "lakecolor": "white",
           "landcolor": "#E5ECF6",
           "showlakes": true,
           "showland": true,
           "subunitcolor": "white"
          },
          "hoverlabel": {
           "align": "left"
          },
          "hovermode": "closest",
          "mapbox": {
           "style": "light"
          },
          "paper_bgcolor": "white",
          "plot_bgcolor": "#E5ECF6",
          "polar": {
           "angularaxis": {
            "gridcolor": "white",
            "linecolor": "white",
            "ticks": ""
           },
           "bgcolor": "#E5ECF6",
           "radialaxis": {
            "gridcolor": "white",
            "linecolor": "white",
            "ticks": ""
           }
          },
          "scene": {
           "xaxis": {
            "backgroundcolor": "#E5ECF6",
            "gridcolor": "white",
            "gridwidth": 2,
            "linecolor": "white",
            "showbackground": true,
            "ticks": "",
            "zerolinecolor": "white"
           },
           "yaxis": {
            "backgroundcolor": "#E5ECF6",
            "gridcolor": "white",
            "gridwidth": 2,
            "linecolor": "white",
            "showbackground": true,
            "ticks": "",
            "zerolinecolor": "white"
           },
           "zaxis": {
            "backgroundcolor": "#E5ECF6",
            "gridcolor": "white",
            "gridwidth": 2,
            "linecolor": "white",
            "showbackground": true,
            "ticks": "",
            "zerolinecolor": "white"
           }
          },
          "shapedefaults": {
           "line": {
            "color": "#2a3f5f"
           }
          },
          "ternary": {
           "aaxis": {
            "gridcolor": "white",
            "linecolor": "white",
            "ticks": ""
           },
           "baxis": {
            "gridcolor": "white",
            "linecolor": "white",
            "ticks": ""
           },
           "bgcolor": "#E5ECF6",
           "caxis": {
            "gridcolor": "white",
            "linecolor": "white",
            "ticks": ""
           }
          },
          "title": {
           "x": 0.05
          },
          "xaxis": {
           "automargin": true,
           "gridcolor": "white",
           "linecolor": "white",
           "ticks": "",
           "title": {
            "standoff": 15
           },
           "zerolinecolor": "white",
           "zerolinewidth": 2
          },
          "yaxis": {
           "automargin": true,
           "gridcolor": "white",
           "linecolor": "white",
           "ticks": "",
           "title": {
            "standoff": 15
           },
           "zerolinecolor": "white",
           "zerolinewidth": 2
          }
         }
        },
        "title": {
         "text": "Candlestick chart for {symbol}"
        },
        "xaxis": {
         "title": {
          "text": "Date"
         }
        },
        "yaxis": {
         "title": {
          "text": "Price ($USD)"
         }
        }
       }
      },
      "text/html": [
       "<div>                            <div id=\"57ba5f3a-70f7-4c09-940a-63476c5f700c\" class=\"plotly-graph-div\" style=\"height:525px; width:100%;\"></div>            <script type=\"text/javascript\">                require([\"plotly\"], function(Plotly) {                    window.PLOTLYENV=window.PLOTLYENV || {};                                    if (document.getElementById(\"57ba5f3a-70f7-4c09-940a-63476c5f700c\")) {                    Plotly.newPlot(                        \"57ba5f3a-70f7-4c09-940a-63476c5f700c\",                        [{\"close\":[52.31,51.82,51.82,51.27,51.33,50.62,50.11,50.8,50.54,50.28,50.31,48.04,46.58,47.03,47.39,47.09,46.54,46.56,47.25,47.34,46.36,45.96,45.7,46.24],\"high\":[52.56,52.12,52.29,51.564,51.4,51.3,50.95,50.83,50.85,50.675,50.69,49.27,47.65,47.115,47.45,47.43,46.85,46.8,47.26,47.52,47.08,46.55,45.93,46.36],\"low\":[51.99,51.43,51.68,50.725,50.875,50.52,50.05,50.09,50.205,50.05,50.07,47.99,46.36,46.24,47.0,46.805,46.425,45.97,46.61,47.125,46.06,45.86,45.555,45.92],\"open\":[52.06,52.03,52.07,50.92,51.11,51.12,50.82,50.21,50.52,50.56,50.38,49.23,47.61,46.565,47.05,47.37,46.76,46.78,46.66,47.2,46.905,46.42,45.77,46.12],\"x\":[\"2023-04-03T04:00:00+00:00\",\"2023-04-04T04:00:00+00:00\",\"2023-04-05T04:00:00+00:00\",\"2023-04-06T04:00:00+00:00\",\"2023-04-10T04:00:00+00:00\",\"2023-04-11T04:00:00+00:00\",\"2023-04-12T04:00:00+00:00\",\"2023-04-13T04:00:00+00:00\",\"2023-04-14T04:00:00+00:00\",\"2023-04-17T04:00:00+00:00\",\"2023-04-18T04:00:00+00:00\",\"2023-04-19T04:00:00+00:00\",\"2023-04-20T04:00:00+00:00\",\"2023-04-21T04:00:00+00:00\",\"2023-04-24T04:00:00+00:00\",\"2023-04-25T04:00:00+00:00\",\"2023-04-26T04:00:00+00:00\",\"2023-04-27T04:00:00+00:00\",\"2023-04-28T04:00:00+00:00\",\"2023-05-01T04:00:00+00:00\",\"2023-05-02T04:00:00+00:00\",\"2023-05-03T04:00:00+00:00\",\"2023-05-04T04:00:00+00:00\",\"2023-05-05T04:00:00+00:00\"],\"type\":\"candlestick\"}],                        {\"template\":{\"data\":{\"histogram2dcontour\":[{\"type\":\"histogram2dcontour\",\"colorbar\":{\"outlinewidth\":0,\"ticks\":\"\"},\"colorscale\":[[0.0,\"#0d0887\"],[0.1111111111111111,\"#46039f\"],[0.2222222222222222,\"#7201a8\"],[0.3333333333333333,\"#9c179e\"],[0.4444444444444444,\"#bd3786\"],[0.5555555555555556,\"#d8576b\"],[0.6666666666666666,\"#ed7953\"],[0.7777777777777778,\"#fb9f3a\"],[0.8888888888888888,\"#fdca26\"],[1.0,\"#f0f921\"]]}],\"choropleth\":[{\"type\":\"choropleth\",\"colorbar\":{\"outlinewidth\":0,\"ticks\":\"\"}}],\"histogram2d\":[{\"type\":\"histogram2d\",\"colorbar\":{\"outlinewidth\":0,\"ticks\":\"\"},\"colorscale\":[[0.0,\"#0d0887\"],[0.1111111111111111,\"#46039f\"],[0.2222222222222222,\"#7201a8\"],[0.3333333333333333,\"#9c179e\"],[0.4444444444444444,\"#bd3786\"],[0.5555555555555556,\"#d8576b\"],[0.6666666666666666,\"#ed7953\"],[0.7777777777777778,\"#fb9f3a\"],[0.8888888888888888,\"#fdca26\"],[1.0,\"#f0f921\"]]}],\"heatmap\":[{\"type\":\"heatmap\",\"colorbar\":{\"outlinewidth\":0,\"ticks\":\"\"},\"colorscale\":[[0.0,\"#0d0887\"],[0.1111111111111111,\"#46039f\"],[0.2222222222222222,\"#7201a8\"],[0.3333333333333333,\"#9c179e\"],[0.4444444444444444,\"#bd3786\"],[0.5555555555555556,\"#d8576b\"],[0.6666666666666666,\"#ed7953\"],[0.7777777777777778,\"#fb9f3a\"],[0.8888888888888888,\"#fdca26\"],[1.0,\"#f0f921\"]]}],\"heatmapgl\":[{\"type\":\"heatmapgl\",\"colorbar\":{\"outlinewidth\":0,\"ticks\":\"\"},\"colorscale\":[[0.0,\"#0d0887\"],[0.1111111111111111,\"#46039f\"],[0.2222222222222222,\"#7201a8\"],[0.3333333333333333,\"#9c179e\"],[0.4444444444444444,\"#bd3786\"],[0.5555555555555556,\"#d8576b\"],[0.6666666666666666,\"#ed7953\"],[0.7777777777777778,\"#fb9f3a\"],[0.8888888888888888,\"#fdca26\"],[1.0,\"#f0f921\"]]}],\"contourcarpet\":[{\"type\":\"contourcarpet\",\"colorbar\":{\"outlinewidth\":0,\"ticks\":\"\"}}],\"contour\":[{\"type\":\"contour\",\"colorbar\":{\"outlinewidth\":0,\"ticks\":\"\"},\"colorscale\":[[0.0,\"#0d0887\"],[0.1111111111111111,\"#46039f\"],[0.2222222222222222,\"#7201a8\"],[0.3333333333333333,\"#9c179e\"],[0.4444444444444444,\"#bd3786\"],[0.5555555555555556,\"#d8576b\"],[0.6666666666666666,\"#ed7953\"],[0.7777777777777778,\"#fb9f3a\"],[0.8888888888888888,\"#fdca26\"],[1.0,\"#f0f921\"]]}],\"surface\":[{\"type\":\"surface\",\"colorbar\":{\"outlinewidth\":0,\"ticks\":\"\"},\"colorscale\":[[0.0,\"#0d0887\"],[0.1111111111111111,\"#46039f\"],[0.2222222222222222,\"#7201a8\"],[0.3333333333333333,\"#9c179e\"],[0.4444444444444444,\"#bd3786\"],[0.5555555555555556,\"#d8576b\"],[0.6666666666666666,\"#ed7953\"],[0.7777777777777778,\"#fb9f3a\"],[0.8888888888888888,\"#fdca26\"],[1.0,\"#f0f921\"]]}],\"mesh3d\":[{\"type\":\"mesh3d\",\"colorbar\":{\"outlinewidth\":0,\"ticks\":\"\"}}],\"scatter\":[{\"fillpattern\":{\"fillmode\":\"overlay\",\"size\":10,\"solidity\":0.2},\"type\":\"scatter\"}],\"parcoords\":[{\"type\":\"parcoords\",\"line\":{\"colorbar\":{\"outlinewidth\":0,\"ticks\":\"\"}}}],\"scatterpolargl\":[{\"type\":\"scatterpolargl\",\"marker\":{\"colorbar\":{\"outlinewidth\":0,\"ticks\":\"\"}}}],\"bar\":[{\"error_x\":{\"color\":\"#2a3f5f\"},\"error_y\":{\"color\":\"#2a3f5f\"},\"marker\":{\"line\":{\"color\":\"#E5ECF6\",\"width\":0.5},\"pattern\":{\"fillmode\":\"overlay\",\"size\":10,\"solidity\":0.2}},\"type\":\"bar\"}],\"scattergeo\":[{\"type\":\"scattergeo\",\"marker\":{\"colorbar\":{\"outlinewidth\":0,\"ticks\":\"\"}}}],\"scatterpolar\":[{\"type\":\"scatterpolar\",\"marker\":{\"colorbar\":{\"outlinewidth\":0,\"ticks\":\"\"}}}],\"histogram\":[{\"marker\":{\"pattern\":{\"fillmode\":\"overlay\",\"size\":10,\"solidity\":0.2}},\"type\":\"histogram\"}],\"scattergl\":[{\"type\":\"scattergl\",\"marker\":{\"colorbar\":{\"outlinewidth\":0,\"ticks\":\"\"}}}],\"scatter3d\":[{\"type\":\"scatter3d\",\"line\":{\"colorbar\":{\"outlinewidth\":0,\"ticks\":\"\"}},\"marker\":{\"colorbar\":{\"outlinewidth\":0,\"ticks\":\"\"}}}],\"scattermapbox\":[{\"type\":\"scattermapbox\",\"marker\":{\"colorbar\":{\"outlinewidth\":0,\"ticks\":\"\"}}}],\"scatterternary\":[{\"type\":\"scatterternary\",\"marker\":{\"colorbar\":{\"outlinewidth\":0,\"ticks\":\"\"}}}],\"scattercarpet\":[{\"type\":\"scattercarpet\",\"marker\":{\"colorbar\":{\"outlinewidth\":0,\"ticks\":\"\"}}}],\"carpet\":[{\"aaxis\":{\"endlinecolor\":\"#2a3f5f\",\"gridcolor\":\"white\",\"linecolor\":\"white\",\"minorgridcolor\":\"white\",\"startlinecolor\":\"#2a3f5f\"},\"baxis\":{\"endlinecolor\":\"#2a3f5f\",\"gridcolor\":\"white\",\"linecolor\":\"white\",\"minorgridcolor\":\"white\",\"startlinecolor\":\"#2a3f5f\"},\"type\":\"carpet\"}],\"table\":[{\"cells\":{\"fill\":{\"color\":\"#EBF0F8\"},\"line\":{\"color\":\"white\"}},\"header\":{\"fill\":{\"color\":\"#C8D4E3\"},\"line\":{\"color\":\"white\"}},\"type\":\"table\"}],\"barpolar\":[{\"marker\":{\"line\":{\"color\":\"#E5ECF6\",\"width\":0.5},\"pattern\":{\"fillmode\":\"overlay\",\"size\":10,\"solidity\":0.2}},\"type\":\"barpolar\"}],\"pie\":[{\"automargin\":true,\"type\":\"pie\"}]},\"layout\":{\"autotypenumbers\":\"strict\",\"colorway\":[\"#636efa\",\"#EF553B\",\"#00cc96\",\"#ab63fa\",\"#FFA15A\",\"#19d3f3\",\"#FF6692\",\"#B6E880\",\"#FF97FF\",\"#FECB52\"],\"font\":{\"color\":\"#2a3f5f\"},\"hovermode\":\"closest\",\"hoverlabel\":{\"align\":\"left\"},\"paper_bgcolor\":\"white\",\"plot_bgcolor\":\"#E5ECF6\",\"polar\":{\"bgcolor\":\"#E5ECF6\",\"angularaxis\":{\"gridcolor\":\"white\",\"linecolor\":\"white\",\"ticks\":\"\"},\"radialaxis\":{\"gridcolor\":\"white\",\"linecolor\":\"white\",\"ticks\":\"\"}},\"ternary\":{\"bgcolor\":\"#E5ECF6\",\"aaxis\":{\"gridcolor\":\"white\",\"linecolor\":\"white\",\"ticks\":\"\"},\"baxis\":{\"gridcolor\":\"white\",\"linecolor\":\"white\",\"ticks\":\"\"},\"caxis\":{\"gridcolor\":\"white\",\"linecolor\":\"white\",\"ticks\":\"\"}},\"coloraxis\":{\"colorbar\":{\"outlinewidth\":0,\"ticks\":\"\"}},\"colorscale\":{\"sequential\":[[0.0,\"#0d0887\"],[0.1111111111111111,\"#46039f\"],[0.2222222222222222,\"#7201a8\"],[0.3333333333333333,\"#9c179e\"],[0.4444444444444444,\"#bd3786\"],[0.5555555555555556,\"#d8576b\"],[0.6666666666666666,\"#ed7953\"],[0.7777777777777778,\"#fb9f3a\"],[0.8888888888888888,\"#fdca26\"],[1.0,\"#f0f921\"]],\"sequentialminus\":[[0.0,\"#0d0887\"],[0.1111111111111111,\"#46039f\"],[0.2222222222222222,\"#7201a8\"],[0.3333333333333333,\"#9c179e\"],[0.4444444444444444,\"#bd3786\"],[0.5555555555555556,\"#d8576b\"],[0.6666666666666666,\"#ed7953\"],[0.7777777777777778,\"#fb9f3a\"],[0.8888888888888888,\"#fdca26\"],[1.0,\"#f0f921\"]],\"diverging\":[[0,\"#8e0152\"],[0.1,\"#c51b7d\"],[0.2,\"#de77ae\"],[0.3,\"#f1b6da\"],[0.4,\"#fde0ef\"],[0.5,\"#f7f7f7\"],[0.6,\"#e6f5d0\"],[0.7,\"#b8e186\"],[0.8,\"#7fbc41\"],[0.9,\"#4d9221\"],[1,\"#276419\"]]},\"xaxis\":{\"gridcolor\":\"white\",\"linecolor\":\"white\",\"ticks\":\"\",\"title\":{\"standoff\":15},\"zerolinecolor\":\"white\",\"automargin\":true,\"zerolinewidth\":2},\"yaxis\":{\"gridcolor\":\"white\",\"linecolor\":\"white\",\"ticks\":\"\",\"title\":{\"standoff\":15},\"zerolinecolor\":\"white\",\"automargin\":true,\"zerolinewidth\":2},\"scene\":{\"xaxis\":{\"backgroundcolor\":\"#E5ECF6\",\"gridcolor\":\"white\",\"linecolor\":\"white\",\"showbackground\":true,\"ticks\":\"\",\"zerolinecolor\":\"white\",\"gridwidth\":2},\"yaxis\":{\"backgroundcolor\":\"#E5ECF6\",\"gridcolor\":\"white\",\"linecolor\":\"white\",\"showbackground\":true,\"ticks\":\"\",\"zerolinecolor\":\"white\",\"gridwidth\":2},\"zaxis\":{\"backgroundcolor\":\"#E5ECF6\",\"gridcolor\":\"white\",\"linecolor\":\"white\",\"showbackground\":true,\"ticks\":\"\",\"zerolinecolor\":\"white\",\"gridwidth\":2}},\"shapedefaults\":{\"line\":{\"color\":\"#2a3f5f\"}},\"annotationdefaults\":{\"arrowcolor\":\"#2a3f5f\",\"arrowhead\":0,\"arrowwidth\":1},\"geo\":{\"bgcolor\":\"white\",\"landcolor\":\"#E5ECF6\",\"subunitcolor\":\"white\",\"showland\":true,\"showlakes\":true,\"lakecolor\":\"white\"},\"title\":{\"x\":0.05},\"mapbox\":{\"style\":\"light\"}}},\"title\":{\"text\":\"Candlestick chart for {symbol}\"},\"xaxis\":{\"title\":{\"text\":\"Date\"}},\"yaxis\":{\"title\":{\"text\":\"Price ($USD)\"}}},                        {\"responsive\": true}                    ).then(function(){\n",
       "                            \n",
       "var gd = document.getElementById('57ba5f3a-70f7-4c09-940a-63476c5f700c');\n",
       "var x = new MutationObserver(function (mutations, observer) {{\n",
       "        var display = window.getComputedStyle(gd).display;\n",
       "        if (!display || display === 'none') {{\n",
       "            console.log([gd, 'removed!']);\n",
       "            Plotly.purge(gd);\n",
       "            observer.disconnect();\n",
       "        }}\n",
       "}});\n",
       "\n",
       "// Listen for the removal of the full notebook cells\n",
       "var notebookContainer = gd.closest('#notebook-container');\n",
       "if (notebookContainer) {{\n",
       "    x.observe(notebookContainer, {childList: true});\n",
       "}}\n",
       "\n",
       "// Listen for the clearing of the current output cell\n",
       "var outputEl = gd.closest('.output');\n",
       "if (outputEl) {{\n",
       "    x.observe(outputEl, {childList: true});\n",
       "}}\n",
       "\n",
       "                        })                };                });            </script>        </div>"
      ]
     },
     "metadata": {},
     "output_type": "display_data"
    }
   ],
   "source": [
    "#Reference Alpaca API and Create General Bid Ask Chart Structures\n",
    "#From https://alpaca.markets/learn/understanding-alpacas-market-data-api-with-pandas-and-plotly/\n",
    "from dotenv import load_dotenv\n",
    "import plotly.graph_objects as go\n",
    "import plotly.express as px\n",
    "import alpaca_trade_api as api\n",
    "import os\n",
    "\n",
    "ALPACA_KEY_ID, ALPACA_SECRETS_KEY = \"\",\"\"\n",
    "\n",
    "load_dotenv(dotenv_path='../a.env')\n",
    "\n",
    "FED_API_KEY = os.environ['FED_API_KEY']\n",
    "ALPACA_KEY_ID = os.environ['ALPACA_KEY_ID']\n",
    "ALPACA_SECRETS_KEY = os.environ['ALPACA_SECRETS_ID']\n",
    "\n",
    "def set_vars(secrets_file='a.env'):\n",
    "    global ALPACA_KEY_ID, ALPACA_SECRETS_KEY\n",
    "    with open(f\"{secrets_file}\", 'r') as file:\n",
    "        contents = file.read()\n",
    "        env_vars = contents.replace('export ', '').split(\"\\n\")\n",
    "        ALPACA_KEY_ID = env_vars[0].split(\"=\")[1]\n",
    "        ALPACA_SECRETS_KEY = env_vars[1].split(\"=\")[1]\n",
    "#set_vars()\n",
    "alpaca = api.REST(ALPACA_KEY_ID, ALPACA_SECRETS_KEY)\n",
    "\n",
    "# Setting parameters before calling method\n",
    "symbols = [\"RAD\"]\n",
    "timeframe = \"1Day\"\n",
    "start = \"2023-07-01\"\n",
    "end = \"2023-08-01\"\n",
    "# Retrieve daily bars for SPY in a dataframe and printing the first 5 rows\n",
    "spy_bars = alpaca.get_bars(symbols, timeframe, start, end).df\n",
    "print(spy_bars.head())\n",
    "\n",
    "# Bar data candlestick plot\n",
    "candlestick_fig = go.Figure(data=[go.Candlestick(x=spy_bars.index,\n",
    "               open=spy_bars['open'],\n",
    "               high=spy_bars['high'],\n",
    "               low=spy_bars['low'],\n",
    "               close=spy_bars['close'])])\n",
    "candlestick_fig.update_layout(\n",
    "    title=\"Candlestick chart for {symbol}\",\n",
    "    xaxis_title=\"Date\",\n",
    "    yaxis_title=\"Price ($USD)\")\n",
    "candlestick_fig.show()\n"
   ]
  },
  {
   "cell_type": "code",
   "execution_count": 17,
   "id": "7a7aa747",
   "metadata": {},
   "outputs": [
    {
     "name": "stdout",
     "output_type": "stream",
     "text": [
      "                            open   high    low  close    volume  trade_count  \\\n",
      "timestamp                                                                      \n",
      "2023-04-03 04:00:00+00:00  52.06  52.56  51.99  52.31  16885865       101969   \n",
      "2023-04-04 04:00:00+00:00  52.03  52.12  51.43  51.82  13599929        98094   \n",
      "\n",
      "                                vwap symbol  \n",
      "timestamp                                    \n",
      "2023-04-03 04:00:00+00:00  52.293869   CSCO  \n",
      "2023-04-04 04:00:00+00:00  51.786810   CSCO  \n"
     ]
    },
    {
     "data": {
      "application/vnd.plotly.v1+json": {
       "config": {
        "plotlyServerURL": "https://plot.ly"
       },
       "data": [
        {
         "close": [
          52.31,
          51.82,
          51.82,
          51.27,
          51.33,
          50.62,
          50.11,
          50.8,
          50.54,
          50.28,
          50.31,
          48.04,
          46.58,
          47.03,
          47.39,
          47.09,
          46.54,
          46.56,
          47.25,
          47.34,
          46.36,
          45.96,
          45.7,
          46.24
         ],
         "high": [
          52.56,
          52.12,
          52.29,
          51.564,
          51.4,
          51.3,
          50.95,
          50.83,
          50.85,
          50.675,
          50.69,
          49.27,
          47.65,
          47.115,
          47.45,
          47.43,
          46.85,
          46.8,
          47.26,
          47.52,
          47.08,
          46.55,
          45.93,
          46.36
         ],
         "low": [
          51.99,
          51.43,
          51.68,
          50.725,
          50.875,
          50.52,
          50.05,
          50.09,
          50.205,
          50.05,
          50.07,
          47.99,
          46.36,
          46.24,
          47,
          46.805,
          46.425,
          45.97,
          46.61,
          47.125,
          46.06,
          45.86,
          45.555,
          45.92
         ],
         "open": [
          52.06,
          52.03,
          52.07,
          50.92,
          51.11,
          51.12,
          50.82,
          50.21,
          50.52,
          50.56,
          50.38,
          49.23,
          47.61,
          46.565,
          47.05,
          47.37,
          46.76,
          46.78,
          46.66,
          47.2,
          46.905,
          46.42,
          45.77,
          46.12
         ],
         "type": "candlestick",
         "x": [
          "2023-04-03T04:00:00+00:00",
          "2023-04-04T04:00:00+00:00",
          "2023-04-05T04:00:00+00:00",
          "2023-04-06T04:00:00+00:00",
          "2023-04-10T04:00:00+00:00",
          "2023-04-11T04:00:00+00:00",
          "2023-04-12T04:00:00+00:00",
          "2023-04-13T04:00:00+00:00",
          "2023-04-14T04:00:00+00:00",
          "2023-04-17T04:00:00+00:00",
          "2023-04-18T04:00:00+00:00",
          "2023-04-19T04:00:00+00:00",
          "2023-04-20T04:00:00+00:00",
          "2023-04-21T04:00:00+00:00",
          "2023-04-24T04:00:00+00:00",
          "2023-04-25T04:00:00+00:00",
          "2023-04-26T04:00:00+00:00",
          "2023-04-27T04:00:00+00:00",
          "2023-04-28T04:00:00+00:00",
          "2023-05-01T04:00:00+00:00",
          "2023-05-02T04:00:00+00:00",
          "2023-05-03T04:00:00+00:00",
          "2023-05-04T04:00:00+00:00",
          "2023-05-05T04:00:00+00:00"
         ]
        }
       ],
       "layout": {
        "template": {
         "data": {
          "bar": [
           {
            "error_x": {
             "color": "#2a3f5f"
            },
            "error_y": {
             "color": "#2a3f5f"
            },
            "marker": {
             "line": {
              "color": "#E5ECF6",
              "width": 0.5
             },
             "pattern": {
              "fillmode": "overlay",
              "size": 10,
              "solidity": 0.2
             }
            },
            "type": "bar"
           }
          ],
          "barpolar": [
           {
            "marker": {
             "line": {
              "color": "#E5ECF6",
              "width": 0.5
             },
             "pattern": {
              "fillmode": "overlay",
              "size": 10,
              "solidity": 0.2
             }
            },
            "type": "barpolar"
           }
          ],
          "carpet": [
           {
            "aaxis": {
             "endlinecolor": "#2a3f5f",
             "gridcolor": "white",
             "linecolor": "white",
             "minorgridcolor": "white",
             "startlinecolor": "#2a3f5f"
            },
            "baxis": {
             "endlinecolor": "#2a3f5f",
             "gridcolor": "white",
             "linecolor": "white",
             "minorgridcolor": "white",
             "startlinecolor": "#2a3f5f"
            },
            "type": "carpet"
           }
          ],
          "choropleth": [
           {
            "colorbar": {
             "outlinewidth": 0,
             "ticks": ""
            },
            "type": "choropleth"
           }
          ],
          "contour": [
           {
            "colorbar": {
             "outlinewidth": 0,
             "ticks": ""
            },
            "colorscale": [
             [
              0,
              "#0d0887"
             ],
             [
              0.1111111111111111,
              "#46039f"
             ],
             [
              0.2222222222222222,
              "#7201a8"
             ],
             [
              0.3333333333333333,
              "#9c179e"
             ],
             [
              0.4444444444444444,
              "#bd3786"
             ],
             [
              0.5555555555555556,
              "#d8576b"
             ],
             [
              0.6666666666666666,
              "#ed7953"
             ],
             [
              0.7777777777777778,
              "#fb9f3a"
             ],
             [
              0.8888888888888888,
              "#fdca26"
             ],
             [
              1,
              "#f0f921"
             ]
            ],
            "type": "contour"
           }
          ],
          "contourcarpet": [
           {
            "colorbar": {
             "outlinewidth": 0,
             "ticks": ""
            },
            "type": "contourcarpet"
           }
          ],
          "heatmap": [
           {
            "colorbar": {
             "outlinewidth": 0,
             "ticks": ""
            },
            "colorscale": [
             [
              0,
              "#0d0887"
             ],
             [
              0.1111111111111111,
              "#46039f"
             ],
             [
              0.2222222222222222,
              "#7201a8"
             ],
             [
              0.3333333333333333,
              "#9c179e"
             ],
             [
              0.4444444444444444,
              "#bd3786"
             ],
             [
              0.5555555555555556,
              "#d8576b"
             ],
             [
              0.6666666666666666,
              "#ed7953"
             ],
             [
              0.7777777777777778,
              "#fb9f3a"
             ],
             [
              0.8888888888888888,
              "#fdca26"
             ],
             [
              1,
              "#f0f921"
             ]
            ],
            "type": "heatmap"
           }
          ],
          "heatmapgl": [
           {
            "colorbar": {
             "outlinewidth": 0,
             "ticks": ""
            },
            "colorscale": [
             [
              0,
              "#0d0887"
             ],
             [
              0.1111111111111111,
              "#46039f"
             ],
             [
              0.2222222222222222,
              "#7201a8"
             ],
             [
              0.3333333333333333,
              "#9c179e"
             ],
             [
              0.4444444444444444,
              "#bd3786"
             ],
             [
              0.5555555555555556,
              "#d8576b"
             ],
             [
              0.6666666666666666,
              "#ed7953"
             ],
             [
              0.7777777777777778,
              "#fb9f3a"
             ],
             [
              0.8888888888888888,
              "#fdca26"
             ],
             [
              1,
              "#f0f921"
             ]
            ],
            "type": "heatmapgl"
           }
          ],
          "histogram": [
           {
            "marker": {
             "pattern": {
              "fillmode": "overlay",
              "size": 10,
              "solidity": 0.2
             }
            },
            "type": "histogram"
           }
          ],
          "histogram2d": [
           {
            "colorbar": {
             "outlinewidth": 0,
             "ticks": ""
            },
            "colorscale": [
             [
              0,
              "#0d0887"
             ],
             [
              0.1111111111111111,
              "#46039f"
             ],
             [
              0.2222222222222222,
              "#7201a8"
             ],
             [
              0.3333333333333333,
              "#9c179e"
             ],
             [
              0.4444444444444444,
              "#bd3786"
             ],
             [
              0.5555555555555556,
              "#d8576b"
             ],
             [
              0.6666666666666666,
              "#ed7953"
             ],
             [
              0.7777777777777778,
              "#fb9f3a"
             ],
             [
              0.8888888888888888,
              "#fdca26"
             ],
             [
              1,
              "#f0f921"
             ]
            ],
            "type": "histogram2d"
           }
          ],
          "histogram2dcontour": [
           {
            "colorbar": {
             "outlinewidth": 0,
             "ticks": ""
            },
            "colorscale": [
             [
              0,
              "#0d0887"
             ],
             [
              0.1111111111111111,
              "#46039f"
             ],
             [
              0.2222222222222222,
              "#7201a8"
             ],
             [
              0.3333333333333333,
              "#9c179e"
             ],
             [
              0.4444444444444444,
              "#bd3786"
             ],
             [
              0.5555555555555556,
              "#d8576b"
             ],
             [
              0.6666666666666666,
              "#ed7953"
             ],
             [
              0.7777777777777778,
              "#fb9f3a"
             ],
             [
              0.8888888888888888,
              "#fdca26"
             ],
             [
              1,
              "#f0f921"
             ]
            ],
            "type": "histogram2dcontour"
           }
          ],
          "mesh3d": [
           {
            "colorbar": {
             "outlinewidth": 0,
             "ticks": ""
            },
            "type": "mesh3d"
           }
          ],
          "parcoords": [
           {
            "line": {
             "colorbar": {
              "outlinewidth": 0,
              "ticks": ""
             }
            },
            "type": "parcoords"
           }
          ],
          "pie": [
           {
            "automargin": true,
            "type": "pie"
           }
          ],
          "scatter": [
           {
            "fillpattern": {
             "fillmode": "overlay",
             "size": 10,
             "solidity": 0.2
            },
            "type": "scatter"
           }
          ],
          "scatter3d": [
           {
            "line": {
             "colorbar": {
              "outlinewidth": 0,
              "ticks": ""
             }
            },
            "marker": {
             "colorbar": {
              "outlinewidth": 0,
              "ticks": ""
             }
            },
            "type": "scatter3d"
           }
          ],
          "scattercarpet": [
           {
            "marker": {
             "colorbar": {
              "outlinewidth": 0,
              "ticks": ""
             }
            },
            "type": "scattercarpet"
           }
          ],
          "scattergeo": [
           {
            "marker": {
             "colorbar": {
              "outlinewidth": 0,
              "ticks": ""
             }
            },
            "type": "scattergeo"
           }
          ],
          "scattergl": [
           {
            "marker": {
             "colorbar": {
              "outlinewidth": 0,
              "ticks": ""
             }
            },
            "type": "scattergl"
           }
          ],
          "scattermapbox": [
           {
            "marker": {
             "colorbar": {
              "outlinewidth": 0,
              "ticks": ""
             }
            },
            "type": "scattermapbox"
           }
          ],
          "scatterpolar": [
           {
            "marker": {
             "colorbar": {
              "outlinewidth": 0,
              "ticks": ""
             }
            },
            "type": "scatterpolar"
           }
          ],
          "scatterpolargl": [
           {
            "marker": {
             "colorbar": {
              "outlinewidth": 0,
              "ticks": ""
             }
            },
            "type": "scatterpolargl"
           }
          ],
          "scatterternary": [
           {
            "marker": {
             "colorbar": {
              "outlinewidth": 0,
              "ticks": ""
             }
            },
            "type": "scatterternary"
           }
          ],
          "surface": [
           {
            "colorbar": {
             "outlinewidth": 0,
             "ticks": ""
            },
            "colorscale": [
             [
              0,
              "#0d0887"
             ],
             [
              0.1111111111111111,
              "#46039f"
             ],
             [
              0.2222222222222222,
              "#7201a8"
             ],
             [
              0.3333333333333333,
              "#9c179e"
             ],
             [
              0.4444444444444444,
              "#bd3786"
             ],
             [
              0.5555555555555556,
              "#d8576b"
             ],
             [
              0.6666666666666666,
              "#ed7953"
             ],
             [
              0.7777777777777778,
              "#fb9f3a"
             ],
             [
              0.8888888888888888,
              "#fdca26"
             ],
             [
              1,
              "#f0f921"
             ]
            ],
            "type": "surface"
           }
          ],
          "table": [
           {
            "cells": {
             "fill": {
              "color": "#EBF0F8"
             },
             "line": {
              "color": "white"
             }
            },
            "header": {
             "fill": {
              "color": "#C8D4E3"
             },
             "line": {
              "color": "white"
             }
            },
            "type": "table"
           }
          ]
         },
         "layout": {
          "annotationdefaults": {
           "arrowcolor": "#2a3f5f",
           "arrowhead": 0,
           "arrowwidth": 1
          },
          "autotypenumbers": "strict",
          "coloraxis": {
           "colorbar": {
            "outlinewidth": 0,
            "ticks": ""
           }
          },
          "colorscale": {
           "diverging": [
            [
             0,
             "#8e0152"
            ],
            [
             0.1,
             "#c51b7d"
            ],
            [
             0.2,
             "#de77ae"
            ],
            [
             0.3,
             "#f1b6da"
            ],
            [
             0.4,
             "#fde0ef"
            ],
            [
             0.5,
             "#f7f7f7"
            ],
            [
             0.6,
             "#e6f5d0"
            ],
            [
             0.7,
             "#b8e186"
            ],
            [
             0.8,
             "#7fbc41"
            ],
            [
             0.9,
             "#4d9221"
            ],
            [
             1,
             "#276419"
            ]
           ],
           "sequential": [
            [
             0,
             "#0d0887"
            ],
            [
             0.1111111111111111,
             "#46039f"
            ],
            [
             0.2222222222222222,
             "#7201a8"
            ],
            [
             0.3333333333333333,
             "#9c179e"
            ],
            [
             0.4444444444444444,
             "#bd3786"
            ],
            [
             0.5555555555555556,
             "#d8576b"
            ],
            [
             0.6666666666666666,
             "#ed7953"
            ],
            [
             0.7777777777777778,
             "#fb9f3a"
            ],
            [
             0.8888888888888888,
             "#fdca26"
            ],
            [
             1,
             "#f0f921"
            ]
           ],
           "sequentialminus": [
            [
             0,
             "#0d0887"
            ],
            [
             0.1111111111111111,
             "#46039f"
            ],
            [
             0.2222222222222222,
             "#7201a8"
            ],
            [
             0.3333333333333333,
             "#9c179e"
            ],
            [
             0.4444444444444444,
             "#bd3786"
            ],
            [
             0.5555555555555556,
             "#d8576b"
            ],
            [
             0.6666666666666666,
             "#ed7953"
            ],
            [
             0.7777777777777778,
             "#fb9f3a"
            ],
            [
             0.8888888888888888,
             "#fdca26"
            ],
            [
             1,
             "#f0f921"
            ]
           ]
          },
          "colorway": [
           "#636efa",
           "#EF553B",
           "#00cc96",
           "#ab63fa",
           "#FFA15A",
           "#19d3f3",
           "#FF6692",
           "#B6E880",
           "#FF97FF",
           "#FECB52"
          ],
          "font": {
           "color": "#2a3f5f"
          },
          "geo": {
           "bgcolor": "white",
           "lakecolor": "white",
           "landcolor": "#E5ECF6",
           "showlakes": true,
           "showland": true,
           "subunitcolor": "white"
          },
          "hoverlabel": {
           "align": "left"
          },
          "hovermode": "closest",
          "mapbox": {
           "style": "light"
          },
          "paper_bgcolor": "white",
          "plot_bgcolor": "#E5ECF6",
          "polar": {
           "angularaxis": {
            "gridcolor": "white",
            "linecolor": "white",
            "ticks": ""
           },
           "bgcolor": "#E5ECF6",
           "radialaxis": {
            "gridcolor": "white",
            "linecolor": "white",
            "ticks": ""
           }
          },
          "scene": {
           "xaxis": {
            "backgroundcolor": "#E5ECF6",
            "gridcolor": "white",
            "gridwidth": 2,
            "linecolor": "white",
            "showbackground": true,
            "ticks": "",
            "zerolinecolor": "white"
           },
           "yaxis": {
            "backgroundcolor": "#E5ECF6",
            "gridcolor": "white",
            "gridwidth": 2,
            "linecolor": "white",
            "showbackground": true,
            "ticks": "",
            "zerolinecolor": "white"
           },
           "zaxis": {
            "backgroundcolor": "#E5ECF6",
            "gridcolor": "white",
            "gridwidth": 2,
            "linecolor": "white",
            "showbackground": true,
            "ticks": "",
            "zerolinecolor": "white"
           }
          },
          "shapedefaults": {
           "line": {
            "color": "#2a3f5f"
           }
          },
          "ternary": {
           "aaxis": {
            "gridcolor": "white",
            "linecolor": "white",
            "ticks": ""
           },
           "baxis": {
            "gridcolor": "white",
            "linecolor": "white",
            "ticks": ""
           },
           "bgcolor": "#E5ECF6",
           "caxis": {
            "gridcolor": "white",
            "linecolor": "white",
            "ticks": ""
           }
          },
          "title": {
           "x": 0.05
          },
          "xaxis": {
           "automargin": true,
           "gridcolor": "white",
           "linecolor": "white",
           "ticks": "",
           "title": {
            "standoff": 15
           },
           "zerolinecolor": "white",
           "zerolinewidth": 2
          },
          "yaxis": {
           "automargin": true,
           "gridcolor": "white",
           "linecolor": "white",
           "ticks": "",
           "title": {
            "standoff": 15
           },
           "zerolinecolor": "white",
           "zerolinewidth": 2
          }
         }
        },
        "title": {
         "text": "Candlestick chart for {symbol}"
        },
        "xaxis": {
         "title": {
          "text": "Date"
         }
        },
        "yaxis": {
         "title": {
          "text": "Price ($USD)"
         }
        }
       }
      },
      "text/html": [
       "<div>                            <div id=\"c141a8ee-0dfa-4823-bbfc-a6cfa68828be\" class=\"plotly-graph-div\" style=\"height:525px; width:100%;\"></div>            <script type=\"text/javascript\">                require([\"plotly\"], function(Plotly) {                    window.PLOTLYENV=window.PLOTLYENV || {};                                    if (document.getElementById(\"c141a8ee-0dfa-4823-bbfc-a6cfa68828be\")) {                    Plotly.newPlot(                        \"c141a8ee-0dfa-4823-bbfc-a6cfa68828be\",                        [{\"close\":[52.31,51.82,51.82,51.27,51.33,50.62,50.11,50.8,50.54,50.28,50.31,48.04,46.58,47.03,47.39,47.09,46.54,46.56,47.25,47.34,46.36,45.96,45.7,46.24],\"high\":[52.56,52.12,52.29,51.564,51.4,51.3,50.95,50.83,50.85,50.675,50.69,49.27,47.65,47.115,47.45,47.43,46.85,46.8,47.26,47.52,47.08,46.55,45.93,46.36],\"low\":[51.99,51.43,51.68,50.725,50.875,50.52,50.05,50.09,50.205,50.05,50.07,47.99,46.36,46.24,47.0,46.805,46.425,45.97,46.61,47.125,46.06,45.86,45.555,45.92],\"open\":[52.06,52.03,52.07,50.92,51.11,51.12,50.82,50.21,50.52,50.56,50.38,49.23,47.61,46.565,47.05,47.37,46.76,46.78,46.66,47.2,46.905,46.42,45.77,46.12],\"x\":[\"2023-04-03T04:00:00+00:00\",\"2023-04-04T04:00:00+00:00\",\"2023-04-05T04:00:00+00:00\",\"2023-04-06T04:00:00+00:00\",\"2023-04-10T04:00:00+00:00\",\"2023-04-11T04:00:00+00:00\",\"2023-04-12T04:00:00+00:00\",\"2023-04-13T04:00:00+00:00\",\"2023-04-14T04:00:00+00:00\",\"2023-04-17T04:00:00+00:00\",\"2023-04-18T04:00:00+00:00\",\"2023-04-19T04:00:00+00:00\",\"2023-04-20T04:00:00+00:00\",\"2023-04-21T04:00:00+00:00\",\"2023-04-24T04:00:00+00:00\",\"2023-04-25T04:00:00+00:00\",\"2023-04-26T04:00:00+00:00\",\"2023-04-27T04:00:00+00:00\",\"2023-04-28T04:00:00+00:00\",\"2023-05-01T04:00:00+00:00\",\"2023-05-02T04:00:00+00:00\",\"2023-05-03T04:00:00+00:00\",\"2023-05-04T04:00:00+00:00\",\"2023-05-05T04:00:00+00:00\"],\"type\":\"candlestick\"}],                        {\"template\":{\"data\":{\"histogram2dcontour\":[{\"type\":\"histogram2dcontour\",\"colorbar\":{\"outlinewidth\":0,\"ticks\":\"\"},\"colorscale\":[[0.0,\"#0d0887\"],[0.1111111111111111,\"#46039f\"],[0.2222222222222222,\"#7201a8\"],[0.3333333333333333,\"#9c179e\"],[0.4444444444444444,\"#bd3786\"],[0.5555555555555556,\"#d8576b\"],[0.6666666666666666,\"#ed7953\"],[0.7777777777777778,\"#fb9f3a\"],[0.8888888888888888,\"#fdca26\"],[1.0,\"#f0f921\"]]}],\"choropleth\":[{\"type\":\"choropleth\",\"colorbar\":{\"outlinewidth\":0,\"ticks\":\"\"}}],\"histogram2d\":[{\"type\":\"histogram2d\",\"colorbar\":{\"outlinewidth\":0,\"ticks\":\"\"},\"colorscale\":[[0.0,\"#0d0887\"],[0.1111111111111111,\"#46039f\"],[0.2222222222222222,\"#7201a8\"],[0.3333333333333333,\"#9c179e\"],[0.4444444444444444,\"#bd3786\"],[0.5555555555555556,\"#d8576b\"],[0.6666666666666666,\"#ed7953\"],[0.7777777777777778,\"#fb9f3a\"],[0.8888888888888888,\"#fdca26\"],[1.0,\"#f0f921\"]]}],\"heatmap\":[{\"type\":\"heatmap\",\"colorbar\":{\"outlinewidth\":0,\"ticks\":\"\"},\"colorscale\":[[0.0,\"#0d0887\"],[0.1111111111111111,\"#46039f\"],[0.2222222222222222,\"#7201a8\"],[0.3333333333333333,\"#9c179e\"],[0.4444444444444444,\"#bd3786\"],[0.5555555555555556,\"#d8576b\"],[0.6666666666666666,\"#ed7953\"],[0.7777777777777778,\"#fb9f3a\"],[0.8888888888888888,\"#fdca26\"],[1.0,\"#f0f921\"]]}],\"heatmapgl\":[{\"type\":\"heatmapgl\",\"colorbar\":{\"outlinewidth\":0,\"ticks\":\"\"},\"colorscale\":[[0.0,\"#0d0887\"],[0.1111111111111111,\"#46039f\"],[0.2222222222222222,\"#7201a8\"],[0.3333333333333333,\"#9c179e\"],[0.4444444444444444,\"#bd3786\"],[0.5555555555555556,\"#d8576b\"],[0.6666666666666666,\"#ed7953\"],[0.7777777777777778,\"#fb9f3a\"],[0.8888888888888888,\"#fdca26\"],[1.0,\"#f0f921\"]]}],\"contourcarpet\":[{\"type\":\"contourcarpet\",\"colorbar\":{\"outlinewidth\":0,\"ticks\":\"\"}}],\"contour\":[{\"type\":\"contour\",\"colorbar\":{\"outlinewidth\":0,\"ticks\":\"\"},\"colorscale\":[[0.0,\"#0d0887\"],[0.1111111111111111,\"#46039f\"],[0.2222222222222222,\"#7201a8\"],[0.3333333333333333,\"#9c179e\"],[0.4444444444444444,\"#bd3786\"],[0.5555555555555556,\"#d8576b\"],[0.6666666666666666,\"#ed7953\"],[0.7777777777777778,\"#fb9f3a\"],[0.8888888888888888,\"#fdca26\"],[1.0,\"#f0f921\"]]}],\"surface\":[{\"type\":\"surface\",\"colorbar\":{\"outlinewidth\":0,\"ticks\":\"\"},\"colorscale\":[[0.0,\"#0d0887\"],[0.1111111111111111,\"#46039f\"],[0.2222222222222222,\"#7201a8\"],[0.3333333333333333,\"#9c179e\"],[0.4444444444444444,\"#bd3786\"],[0.5555555555555556,\"#d8576b\"],[0.6666666666666666,\"#ed7953\"],[0.7777777777777778,\"#fb9f3a\"],[0.8888888888888888,\"#fdca26\"],[1.0,\"#f0f921\"]]}],\"mesh3d\":[{\"type\":\"mesh3d\",\"colorbar\":{\"outlinewidth\":0,\"ticks\":\"\"}}],\"scatter\":[{\"fillpattern\":{\"fillmode\":\"overlay\",\"size\":10,\"solidity\":0.2},\"type\":\"scatter\"}],\"parcoords\":[{\"type\":\"parcoords\",\"line\":{\"colorbar\":{\"outlinewidth\":0,\"ticks\":\"\"}}}],\"scatterpolargl\":[{\"type\":\"scatterpolargl\",\"marker\":{\"colorbar\":{\"outlinewidth\":0,\"ticks\":\"\"}}}],\"bar\":[{\"error_x\":{\"color\":\"#2a3f5f\"},\"error_y\":{\"color\":\"#2a3f5f\"},\"marker\":{\"line\":{\"color\":\"#E5ECF6\",\"width\":0.5},\"pattern\":{\"fillmode\":\"overlay\",\"size\":10,\"solidity\":0.2}},\"type\":\"bar\"}],\"scattergeo\":[{\"type\":\"scattergeo\",\"marker\":{\"colorbar\":{\"outlinewidth\":0,\"ticks\":\"\"}}}],\"scatterpolar\":[{\"type\":\"scatterpolar\",\"marker\":{\"colorbar\":{\"outlinewidth\":0,\"ticks\":\"\"}}}],\"histogram\":[{\"marker\":{\"pattern\":{\"fillmode\":\"overlay\",\"size\":10,\"solidity\":0.2}},\"type\":\"histogram\"}],\"scattergl\":[{\"type\":\"scattergl\",\"marker\":{\"colorbar\":{\"outlinewidth\":0,\"ticks\":\"\"}}}],\"scatter3d\":[{\"type\":\"scatter3d\",\"line\":{\"colorbar\":{\"outlinewidth\":0,\"ticks\":\"\"}},\"marker\":{\"colorbar\":{\"outlinewidth\":0,\"ticks\":\"\"}}}],\"scattermapbox\":[{\"type\":\"scattermapbox\",\"marker\":{\"colorbar\":{\"outlinewidth\":0,\"ticks\":\"\"}}}],\"scatterternary\":[{\"type\":\"scatterternary\",\"marker\":{\"colorbar\":{\"outlinewidth\":0,\"ticks\":\"\"}}}],\"scattercarpet\":[{\"type\":\"scattercarpet\",\"marker\":{\"colorbar\":{\"outlinewidth\":0,\"ticks\":\"\"}}}],\"carpet\":[{\"aaxis\":{\"endlinecolor\":\"#2a3f5f\",\"gridcolor\":\"white\",\"linecolor\":\"white\",\"minorgridcolor\":\"white\",\"startlinecolor\":\"#2a3f5f\"},\"baxis\":{\"endlinecolor\":\"#2a3f5f\",\"gridcolor\":\"white\",\"linecolor\":\"white\",\"minorgridcolor\":\"white\",\"startlinecolor\":\"#2a3f5f\"},\"type\":\"carpet\"}],\"table\":[{\"cells\":{\"fill\":{\"color\":\"#EBF0F8\"},\"line\":{\"color\":\"white\"}},\"header\":{\"fill\":{\"color\":\"#C8D4E3\"},\"line\":{\"color\":\"white\"}},\"type\":\"table\"}],\"barpolar\":[{\"marker\":{\"line\":{\"color\":\"#E5ECF6\",\"width\":0.5},\"pattern\":{\"fillmode\":\"overlay\",\"size\":10,\"solidity\":0.2}},\"type\":\"barpolar\"}],\"pie\":[{\"automargin\":true,\"type\":\"pie\"}]},\"layout\":{\"autotypenumbers\":\"strict\",\"colorway\":[\"#636efa\",\"#EF553B\",\"#00cc96\",\"#ab63fa\",\"#FFA15A\",\"#19d3f3\",\"#FF6692\",\"#B6E880\",\"#FF97FF\",\"#FECB52\"],\"font\":{\"color\":\"#2a3f5f\"},\"hovermode\":\"closest\",\"hoverlabel\":{\"align\":\"left\"},\"paper_bgcolor\":\"white\",\"plot_bgcolor\":\"#E5ECF6\",\"polar\":{\"bgcolor\":\"#E5ECF6\",\"angularaxis\":{\"gridcolor\":\"white\",\"linecolor\":\"white\",\"ticks\":\"\"},\"radialaxis\":{\"gridcolor\":\"white\",\"linecolor\":\"white\",\"ticks\":\"\"}},\"ternary\":{\"bgcolor\":\"#E5ECF6\",\"aaxis\":{\"gridcolor\":\"white\",\"linecolor\":\"white\",\"ticks\":\"\"},\"baxis\":{\"gridcolor\":\"white\",\"linecolor\":\"white\",\"ticks\":\"\"},\"caxis\":{\"gridcolor\":\"white\",\"linecolor\":\"white\",\"ticks\":\"\"}},\"coloraxis\":{\"colorbar\":{\"outlinewidth\":0,\"ticks\":\"\"}},\"colorscale\":{\"sequential\":[[0.0,\"#0d0887\"],[0.1111111111111111,\"#46039f\"],[0.2222222222222222,\"#7201a8\"],[0.3333333333333333,\"#9c179e\"],[0.4444444444444444,\"#bd3786\"],[0.5555555555555556,\"#d8576b\"],[0.6666666666666666,\"#ed7953\"],[0.7777777777777778,\"#fb9f3a\"],[0.8888888888888888,\"#fdca26\"],[1.0,\"#f0f921\"]],\"sequentialminus\":[[0.0,\"#0d0887\"],[0.1111111111111111,\"#46039f\"],[0.2222222222222222,\"#7201a8\"],[0.3333333333333333,\"#9c179e\"],[0.4444444444444444,\"#bd3786\"],[0.5555555555555556,\"#d8576b\"],[0.6666666666666666,\"#ed7953\"],[0.7777777777777778,\"#fb9f3a\"],[0.8888888888888888,\"#fdca26\"],[1.0,\"#f0f921\"]],\"diverging\":[[0,\"#8e0152\"],[0.1,\"#c51b7d\"],[0.2,\"#de77ae\"],[0.3,\"#f1b6da\"],[0.4,\"#fde0ef\"],[0.5,\"#f7f7f7\"],[0.6,\"#e6f5d0\"],[0.7,\"#b8e186\"],[0.8,\"#7fbc41\"],[0.9,\"#4d9221\"],[1,\"#276419\"]]},\"xaxis\":{\"gridcolor\":\"white\",\"linecolor\":\"white\",\"ticks\":\"\",\"title\":{\"standoff\":15},\"zerolinecolor\":\"white\",\"automargin\":true,\"zerolinewidth\":2},\"yaxis\":{\"gridcolor\":\"white\",\"linecolor\":\"white\",\"ticks\":\"\",\"title\":{\"standoff\":15},\"zerolinecolor\":\"white\",\"automargin\":true,\"zerolinewidth\":2},\"scene\":{\"xaxis\":{\"backgroundcolor\":\"#E5ECF6\",\"gridcolor\":\"white\",\"linecolor\":\"white\",\"showbackground\":true,\"ticks\":\"\",\"zerolinecolor\":\"white\",\"gridwidth\":2},\"yaxis\":{\"backgroundcolor\":\"#E5ECF6\",\"gridcolor\":\"white\",\"linecolor\":\"white\",\"showbackground\":true,\"ticks\":\"\",\"zerolinecolor\":\"white\",\"gridwidth\":2},\"zaxis\":{\"backgroundcolor\":\"#E5ECF6\",\"gridcolor\":\"white\",\"linecolor\":\"white\",\"showbackground\":true,\"ticks\":\"\",\"zerolinecolor\":\"white\",\"gridwidth\":2}},\"shapedefaults\":{\"line\":{\"color\":\"#2a3f5f\"}},\"annotationdefaults\":{\"arrowcolor\":\"#2a3f5f\",\"arrowhead\":0,\"arrowwidth\":1},\"geo\":{\"bgcolor\":\"white\",\"landcolor\":\"#E5ECF6\",\"subunitcolor\":\"white\",\"showland\":true,\"showlakes\":true,\"lakecolor\":\"white\"},\"title\":{\"x\":0.05},\"mapbox\":{\"style\":\"light\"}}},\"title\":{\"text\":\"Candlestick chart for {symbol}\"},\"xaxis\":{\"title\":{\"text\":\"Date\"}},\"yaxis\":{\"title\":{\"text\":\"Price ($USD)\"}}},                        {\"responsive\": true}                    ).then(function(){\n",
       "                            \n",
       "var gd = document.getElementById('c141a8ee-0dfa-4823-bbfc-a6cfa68828be');\n",
       "var x = new MutationObserver(function (mutations, observer) {{\n",
       "        var display = window.getComputedStyle(gd).display;\n",
       "        if (!display || display === 'none') {{\n",
       "            console.log([gd, 'removed!']);\n",
       "            Plotly.purge(gd);\n",
       "            observer.disconnect();\n",
       "        }}\n",
       "}});\n",
       "\n",
       "// Listen for the removal of the full notebook cells\n",
       "var notebookContainer = gd.closest('#notebook-container');\n",
       "if (notebookContainer) {{\n",
       "    x.observe(notebookContainer, {childList: true});\n",
       "}}\n",
       "\n",
       "// Listen for the clearing of the current output cell\n",
       "var outputEl = gd.closest('.output');\n",
       "if (outputEl) {{\n",
       "    x.observe(outputEl, {childList: true});\n",
       "}}\n",
       "\n",
       "                        })                };                });            </script>        </div>"
      ]
     },
     "metadata": {},
     "output_type": "display_data"
    }
   ],
   "source": [
    "#Reference Alpaca API and Create General Bid Ask Chart Structures\n",
    "#From \n",
    "from dotenv import load_dotenv\n",
    "import plotly.graph_objects as go\n",
    "import plotly.express as px\n",
    "import alpaca_trade_api as api\n",
    "import os\n",
    "%matplotlib nbagg\n",
    "\n",
    "\n",
    "load_dotenv(dotenv_path='../a.env')\n",
    "\n",
    "FED_API_KEY = os.environ['FED_API_KEY']\n",
    "ALPACA_KEY_ID = os.environ['ALPACA_KEY_ID']\n",
    "ALPACA_SECRETS_KEY = os.environ['ALPACA_SECRETS_ID']\n",
    "alpaca = api.REST(ALPACA_KEY_ID, ALPACA_SECRETS_KEY)\n",
    "\n",
    "# Setting parameters before calling method\n",
    "symbols = [\"CSCO\"]\n",
    "timeframe = \"1Day\"\n",
    "start = \"2023-04-01\"\n",
    "end = \"2023-05-05\"\n",
    "# Retrieve daily bars for SPY in a dataframe and printing the first 5 rows\n",
    "\n",
    "# Retrieve daily bars for SPY, TSLA, and AAPL in a DataFrame\n",
    "bars = alpaca.get_bars(symbols, timeframe, start, end).df\n",
    "\n",
    "# Assigning new variables for each symbol contained in our response\n",
    "a_bars = bars.loc[bars[\"symbol\"] == \"CSCO\"]\n",
    "print(a_bars.head(2))\n",
    "\n",
    "\n",
    "\n",
    "# Bar data candlestick plot\n",
    "candlestick_fig = go.Figure(data=[go.Candlestick(x=spy_bars.index,\n",
    "               open=spy_bars['open'],\n",
    "               high=spy_bars['high'],\n",
    "               low=spy_bars['low'],\n",
    "               close=spy_bars['close'])])\n",
    "candlestick_fig.update_layout(\n",
    "    title=\"Candlestick chart for {symbol}\",\n",
    "    xaxis_title=\"Date\",\n",
    "    yaxis_title=\"Price ($USD)\")\n",
    "candlestick_fig.show()\n",
    "\n",
    "\n",
    "\n",
    "\n",
    "\n",
    "\n",
    "\n",
    "\n",
    "\n",
    "\n"
   ]
  },
  {
   "cell_type": "code",
   "execution_count": 20,
   "id": "a572db2f",
   "metadata": {},
   "outputs": [
    {
     "name": "stdout",
     "output_type": "stream",
     "text": [
      "Empty DataFrame\n",
      "Columns: []\n",
      "Index: []\n"
     ]
    },
    {
     "ename": "ValueError",
     "evalue": "Value of 'x' is not the name of a column in 'data_frame'. Expected one of [] but received: exchange",
     "output_type": "error",
     "traceback": [
      "\u001b[1;31m---------------------------------------------------------------------------\u001b[0m",
      "\u001b[1;31mValueError\u001b[0m                                Traceback (most recent call last)",
      "Cell \u001b[1;32mIn[20], line 29\u001b[0m\n\u001b[0;32m     25\u001b[0m \u001b[38;5;28mprint\u001b[39m(trades)\n\u001b[0;32m     27\u001b[0m \u001b[38;5;66;03m#Create Histogram\u001b[39;00m\n\u001b[0;32m     28\u001b[0m \u001b[38;5;66;03m# AAPL trade exchange histogram\u001b[39;00m\n\u001b[1;32m---> 29\u001b[0m exchange_histogram \u001b[38;5;241m=\u001b[39m \u001b[43mpx\u001b[49m\u001b[38;5;241;43m.\u001b[39;49m\u001b[43mhistogram\u001b[49m\u001b[43m(\u001b[49m\u001b[43mtrades\u001b[49m\u001b[43m,\u001b[49m\u001b[43m \u001b[49m\u001b[43mx\u001b[49m\u001b[38;5;241;43m=\u001b[39;49m\u001b[38;5;124;43m\"\u001b[39;49m\u001b[38;5;124;43mexchange\u001b[39;49m\u001b[38;5;124;43m\"\u001b[39;49m\u001b[43m)\u001b[49m\n\u001b[0;32m     30\u001b[0m exchange_histogram\u001b[38;5;241m.\u001b[39mupdate_layout(\n\u001b[0;32m     31\u001b[0m     title\u001b[38;5;241m=\u001b[39m\u001b[38;5;124m\"\u001b[39m\u001b[38;5;124mFrequency of exchanges in the first 10,000 trades of\u001b[39m\u001b[38;5;124m\"\u001b[39m \u001b[38;5;241m+\u001b[39m {symbol} \u001b[38;5;241m+\u001b[39m \u001b[38;5;124m\"\u001b[39m\u001b[38;5;124mon\u001b[39m\u001b[38;5;124m\"\u001b[39m \u001b[38;5;241m+\u001b[39m today,\n\u001b[0;32m     32\u001b[0m     yaxis_title\u001b[38;5;241m=\u001b[39m\u001b[38;5;124m\"\u001b[39m\u001b[38;5;124mNumber of trades\u001b[39m\u001b[38;5;124m\"\u001b[39m,\n\u001b[0;32m     33\u001b[0m     xaxis_title\u001b[38;5;241m=\u001b[39m\u001b[38;5;124m\"\u001b[39m\u001b[38;5;124mExchange\u001b[39m\u001b[38;5;124m\"\u001b[39m)\n\u001b[0;32m     34\u001b[0m exchange_histogram\u001b[38;5;241m.\u001b[39mshow()\n",
      "File \u001b[1;32mD:\\Anaconda\\lib\\site-packages\\plotly\\express\\_chart_types.py:480\u001b[0m, in \u001b[0;36mhistogram\u001b[1;34m(data_frame, x, y, color, pattern_shape, facet_row, facet_col, facet_col_wrap, facet_row_spacing, facet_col_spacing, hover_name, hover_data, animation_frame, animation_group, category_orders, labels, color_discrete_sequence, color_discrete_map, pattern_shape_sequence, pattern_shape_map, marginal, opacity, orientation, barmode, barnorm, histnorm, log_x, log_y, range_x, range_y, histfunc, cumulative, nbins, text_auto, title, template, width, height)\u001b[0m\n\u001b[0;32m    434\u001b[0m \u001b[38;5;28;01mdef\u001b[39;00m \u001b[38;5;21mhistogram\u001b[39m(\n\u001b[0;32m    435\u001b[0m     data_frame\u001b[38;5;241m=\u001b[39m\u001b[38;5;28;01mNone\u001b[39;00m,\n\u001b[0;32m    436\u001b[0m     x\u001b[38;5;241m=\u001b[39m\u001b[38;5;28;01mNone\u001b[39;00m,\n\u001b[1;32m   (...)\u001b[0m\n\u001b[0;32m    472\u001b[0m     height\u001b[38;5;241m=\u001b[39m\u001b[38;5;28;01mNone\u001b[39;00m,\n\u001b[0;32m    473\u001b[0m ) \u001b[38;5;241m-\u001b[39m\u001b[38;5;241m>\u001b[39m go\u001b[38;5;241m.\u001b[39mFigure:\n\u001b[0;32m    474\u001b[0m     \u001b[38;5;124;03m\"\"\"\u001b[39;00m\n\u001b[0;32m    475\u001b[0m \u001b[38;5;124;03m    In a histogram, rows of `data_frame` are grouped together into a\u001b[39;00m\n\u001b[0;32m    476\u001b[0m \u001b[38;5;124;03m    rectangular mark to visualize the 1D distribution of an aggregate\u001b[39;00m\n\u001b[0;32m    477\u001b[0m \u001b[38;5;124;03m    function `histfunc` (e.g. the count or sum) of the value `y` (or `x` if\u001b[39;00m\n\u001b[0;32m    478\u001b[0m \u001b[38;5;124;03m    `orientation` is `'h'`).\u001b[39;00m\n\u001b[0;32m    479\u001b[0m \u001b[38;5;124;03m    \"\"\"\u001b[39;00m\n\u001b[1;32m--> 480\u001b[0m     \u001b[38;5;28;01mreturn\u001b[39;00m \u001b[43mmake_figure\u001b[49m\u001b[43m(\u001b[49m\n\u001b[0;32m    481\u001b[0m \u001b[43m        \u001b[49m\u001b[43margs\u001b[49m\u001b[38;5;241;43m=\u001b[39;49m\u001b[38;5;28;43mlocals\u001b[39;49m\u001b[43m(\u001b[49m\u001b[43m)\u001b[49m\u001b[43m,\u001b[49m\n\u001b[0;32m    482\u001b[0m \u001b[43m        \u001b[49m\u001b[43mconstructor\u001b[49m\u001b[38;5;241;43m=\u001b[39;49m\u001b[43mgo\u001b[49m\u001b[38;5;241;43m.\u001b[39;49m\u001b[43mHistogram\u001b[49m\u001b[43m,\u001b[49m\n\u001b[0;32m    483\u001b[0m \u001b[43m        \u001b[49m\u001b[43mtrace_patch\u001b[49m\u001b[38;5;241;43m=\u001b[39;49m\u001b[38;5;28;43mdict\u001b[39;49m\u001b[43m(\u001b[49m\n\u001b[0;32m    484\u001b[0m \u001b[43m            \u001b[49m\u001b[43mhistnorm\u001b[49m\u001b[38;5;241;43m=\u001b[39;49m\u001b[43mhistnorm\u001b[49m\u001b[43m,\u001b[49m\n\u001b[0;32m    485\u001b[0m \u001b[43m            \u001b[49m\u001b[43mhistfunc\u001b[49m\u001b[38;5;241;43m=\u001b[39;49m\u001b[43mhistfunc\u001b[49m\u001b[43m,\u001b[49m\n\u001b[0;32m    486\u001b[0m \u001b[43m            \u001b[49m\u001b[43mcumulative\u001b[49m\u001b[38;5;241;43m=\u001b[39;49m\u001b[38;5;28;43mdict\u001b[39;49m\u001b[43m(\u001b[49m\u001b[43menabled\u001b[49m\u001b[38;5;241;43m=\u001b[39;49m\u001b[43mcumulative\u001b[49m\u001b[43m)\u001b[49m\u001b[43m,\u001b[49m\n\u001b[0;32m    487\u001b[0m \u001b[43m        \u001b[49m\u001b[43m)\u001b[49m\u001b[43m,\u001b[49m\n\u001b[0;32m    488\u001b[0m \u001b[43m        \u001b[49m\u001b[43mlayout_patch\u001b[49m\u001b[38;5;241;43m=\u001b[39;49m\u001b[38;5;28;43mdict\u001b[39;49m\u001b[43m(\u001b[49m\u001b[43mbarmode\u001b[49m\u001b[38;5;241;43m=\u001b[39;49m\u001b[43mbarmode\u001b[49m\u001b[43m,\u001b[49m\u001b[43m \u001b[49m\u001b[43mbarnorm\u001b[49m\u001b[38;5;241;43m=\u001b[39;49m\u001b[43mbarnorm\u001b[49m\u001b[43m)\u001b[49m\u001b[43m,\u001b[49m\n\u001b[0;32m    489\u001b[0m \u001b[43m    \u001b[49m\u001b[43m)\u001b[49m\n",
      "File \u001b[1;32mD:\\Anaconda\\lib\\site-packages\\plotly\\express\\_core.py:1990\u001b[0m, in \u001b[0;36mmake_figure\u001b[1;34m(args, constructor, trace_patch, layout_patch)\u001b[0m\n\u001b[0;32m   1987\u001b[0m layout_patch \u001b[38;5;241m=\u001b[39m layout_patch \u001b[38;5;129;01mor\u001b[39;00m {}\n\u001b[0;32m   1988\u001b[0m apply_default_cascade(args)\n\u001b[1;32m-> 1990\u001b[0m args \u001b[38;5;241m=\u001b[39m \u001b[43mbuild_dataframe\u001b[49m\u001b[43m(\u001b[49m\u001b[43margs\u001b[49m\u001b[43m,\u001b[49m\u001b[43m \u001b[49m\u001b[43mconstructor\u001b[49m\u001b[43m)\u001b[49m\n\u001b[0;32m   1991\u001b[0m \u001b[38;5;28;01mif\u001b[39;00m constructor \u001b[38;5;129;01min\u001b[39;00m [go\u001b[38;5;241m.\u001b[39mTreemap, go\u001b[38;5;241m.\u001b[39mSunburst, go\u001b[38;5;241m.\u001b[39mIcicle] \u001b[38;5;129;01mand\u001b[39;00m args[\u001b[38;5;124m\"\u001b[39m\u001b[38;5;124mpath\u001b[39m\u001b[38;5;124m\"\u001b[39m] \u001b[38;5;129;01mis\u001b[39;00m \u001b[38;5;129;01mnot\u001b[39;00m \u001b[38;5;28;01mNone\u001b[39;00m:\n\u001b[0;32m   1992\u001b[0m     args \u001b[38;5;241m=\u001b[39m process_dataframe_hierarchy(args)\n",
      "File \u001b[1;32mD:\\Anaconda\\lib\\site-packages\\plotly\\express\\_core.py:1405\u001b[0m, in \u001b[0;36mbuild_dataframe\u001b[1;34m(args, constructor)\u001b[0m\n\u001b[0;32m   1402\u001b[0m     args[\u001b[38;5;124m\"\u001b[39m\u001b[38;5;124mcolor\u001b[39m\u001b[38;5;124m\"\u001b[39m] \u001b[38;5;241m=\u001b[39m \u001b[38;5;28;01mNone\u001b[39;00m\n\u001b[0;32m   1403\u001b[0m \u001b[38;5;66;03m# now that things have been prepped, we do the systematic rewriting of `args`\u001b[39;00m\n\u001b[1;32m-> 1405\u001b[0m df_output, wide_id_vars \u001b[38;5;241m=\u001b[39m \u001b[43mprocess_args_into_dataframe\u001b[49m\u001b[43m(\u001b[49m\n\u001b[0;32m   1406\u001b[0m \u001b[43m    \u001b[49m\u001b[43margs\u001b[49m\u001b[43m,\u001b[49m\u001b[43m \u001b[49m\u001b[43mwide_mode\u001b[49m\u001b[43m,\u001b[49m\u001b[43m \u001b[49m\u001b[43mvar_name\u001b[49m\u001b[43m,\u001b[49m\u001b[43m \u001b[49m\u001b[43mvalue_name\u001b[49m\n\u001b[0;32m   1407\u001b[0m \u001b[43m\u001b[49m\u001b[43m)\u001b[49m\n\u001b[0;32m   1409\u001b[0m \u001b[38;5;66;03m# now that `df_output` exists and `args` contains only references, we complete\u001b[39;00m\n\u001b[0;32m   1410\u001b[0m \u001b[38;5;66;03m# the special-case and wide-mode handling by further rewriting args and/or mutating\u001b[39;00m\n\u001b[0;32m   1411\u001b[0m \u001b[38;5;66;03m# df_output\u001b[39;00m\n\u001b[0;32m   1413\u001b[0m count_name \u001b[38;5;241m=\u001b[39m _escape_col_name(df_output, \u001b[38;5;124m\"\u001b[39m\u001b[38;5;124mcount\u001b[39m\u001b[38;5;124m\"\u001b[39m, [var_name, value_name])\n",
      "File \u001b[1;32mD:\\Anaconda\\lib\\site-packages\\plotly\\express\\_core.py:1207\u001b[0m, in \u001b[0;36mprocess_args_into_dataframe\u001b[1;34m(args, wide_mode, var_name, value_name)\u001b[0m\n\u001b[0;32m   1205\u001b[0m         \u001b[38;5;28;01mif\u001b[39;00m argument \u001b[38;5;241m==\u001b[39m \u001b[38;5;124m\"\u001b[39m\u001b[38;5;124mindex\u001b[39m\u001b[38;5;124m\"\u001b[39m:\n\u001b[0;32m   1206\u001b[0m             err_msg \u001b[38;5;241m+\u001b[39m\u001b[38;5;241m=\u001b[39m \u001b[38;5;124m\"\u001b[39m\u001b[38;5;130;01m\\n\u001b[39;00m\u001b[38;5;124m To use the index, pass it in directly as `df.index`.\u001b[39m\u001b[38;5;124m\"\u001b[39m\n\u001b[1;32m-> 1207\u001b[0m         \u001b[38;5;28;01mraise\u001b[39;00m \u001b[38;5;167;01mValueError\u001b[39;00m(err_msg)\n\u001b[0;32m   1208\u001b[0m \u001b[38;5;28;01melif\u001b[39;00m length \u001b[38;5;129;01mand\u001b[39;00m \u001b[38;5;28mlen\u001b[39m(df_input[argument]) \u001b[38;5;241m!=\u001b[39m length:\n\u001b[0;32m   1209\u001b[0m     \u001b[38;5;28;01mraise\u001b[39;00m \u001b[38;5;167;01mValueError\u001b[39;00m(\n\u001b[0;32m   1210\u001b[0m         \u001b[38;5;124m\"\u001b[39m\u001b[38;5;124mAll arguments should have the same length. \u001b[39m\u001b[38;5;124m\"\u001b[39m\n\u001b[0;32m   1211\u001b[0m         \u001b[38;5;124m\"\u001b[39m\u001b[38;5;124mThe length of column argument `df[\u001b[39m\u001b[38;5;132;01m%s\u001b[39;00m\u001b[38;5;124m]` is \u001b[39m\u001b[38;5;132;01m%d\u001b[39;00m\u001b[38;5;124m, whereas the \u001b[39m\u001b[38;5;124m\"\u001b[39m\n\u001b[1;32m   (...)\u001b[0m\n\u001b[0;32m   1218\u001b[0m         )\n\u001b[0;32m   1219\u001b[0m     )\n",
      "\u001b[1;31mValueError\u001b[0m: Value of 'x' is not the name of a column in 'data_frame'. Expected one of [] but received: exchange"
     ]
    }
   ],
   "source": [
    "#Trade Analyzer\n",
    "#Reference Alpaca API and Create General Bid Ask Chart Structures\n",
    "#From \n",
    "from dotenv import load_dotenv\n",
    "import plotly.graph_objects as go\n",
    "import plotly.express as px\n",
    "import alpaca_trade_api as api\n",
    "import os\n",
    "import datetime as dt\n",
    "%matplotlib nbagg\n",
    "\n",
    "today = dt.datetime.today()\n",
    "\n",
    "load_dotenv(dotenv_path='../a.env')\n",
    "\n",
    "FED_API_KEY = os.environ['FED_API_KEY']\n",
    "ALPACA_KEY_ID = os.environ['ALPACA_KEY_ID']\n",
    "ALPACA_SECRETS_KEY = os.environ['ALPACA_SECRETS_ID']\n",
    "alpaca = api.REST(ALPACA_KEY_ID, ALPACA_SECRETS_KEY)\n",
    "# Setting parameters before calling method\n",
    "symbol = \"CSCO\"\n",
    "limit = 25\n",
    "# Retrieve trades for Apple in a dataframe and printing the first 5 rows\n",
    "trades = alpaca.get_trades(symbol, limit=limit).df\n",
    "print(trades)\n",
    "\n",
    "#Create Histogram\n",
    "# AAPL trade exchange histogram\n",
    "exchange_histogram = px.histogram(trades, x=\"exchange\")\n",
    "exchange_histogram.update_layout(\n",
    "    title=\"Frequency of exchanges in the first 10,000 trades of\" + {symbol} + \"on\" + today,\n",
    "    yaxis_title=\"Number of trades\",\n",
    "    xaxis_title=\"Exchange\")\n",
    "exchange_histogram.show()\n"
   ]
  },
  {
   "cell_type": "code",
   "execution_count": 2,
   "id": "f211678b",
   "metadata": {},
   "outputs": [
    {
     "name": "stdout",
     "output_type": "stream",
     "text": [
      "Enter stock tickers separated by a comma: CSCO\n",
      "CSCO :  \n",
      "                                      Bid Size  Ask Size\n",
      "timestamp                                              \n",
      "2023-04-03 08:00:00.003275264+00:00         1         0\n",
      "2023-04-03 08:00:00.036366940+00:00         1         3\n",
      "2023-04-03 08:00:00.036455622+00:00         1        57\n",
      "2023-04-03 08:00:00.057736581+00:00         1         2\n",
      "2023-04-03 08:00:08.234206628+00:00        57         2\n",
      "2023-04-03 08:00:08.234221029+00:00         1         2\n",
      "2023-04-03 08:00:20.880724079+00:00        57         2\n",
      "2023-04-03 08:00:20.880739578+00:00         1         2\n",
      "2023-04-03 08:00:20.880888349+00:00        57         2\n",
      "2023-04-03 08:00:20.880911171+00:00         1         2 \n",
      "\n"
     ]
    }
   ],
   "source": [
    "#Quote Analysis\n",
    "#Reference Alpaca API and Create General Bid Ask Chart Structures\n",
    "#From \n",
    "from dotenv import load_dotenv\n",
    "import plotly.graph_objects as go\n",
    "import plotly.express as px\n",
    "import alpaca_trade_api as api\n",
    "import os\n",
    "import datetime as dt\n",
    "import pandas as pd\n",
    "%matplotlib nbagg\n",
    "\n",
    "today = dt.datetime.today()\n",
    "\n",
    "load_dotenv(dotenv_path='../a.env')\n",
    "\n",
    "FED_API_KEY = os.environ['FED_API_KEY']\n",
    "ALPACA_KEY_ID = os.environ['ALPACA_KEY_ID']\n",
    "ALPACA_SECRETS_KEY = os.environ['ALPACA_SECRETS_ID']\n",
    "alpaca = api.REST(ALPACA_KEY_ID, ALPACA_SECRETS_KEY)\n",
    "# Setting parameters before calling method\n",
    "\n",
    "\n",
    "\n",
    "# Setting parameters for method call\n",
    "symbols = input(\"Enter stock tickers separated by a comma: \").split(\",\")\n",
    "start = \"2023-04-01T14:30:00Z\"\n",
    "end = \"2023-05-23T21:00:00Z\"\n",
    "limit = 50\n",
    "for symbol in symbols:\n",
    "    # Get Shopify quotes in a dataframe and print the first 5 rows\n",
    "    first_retrieve = alpaca.get_quotes(symbol, start, end, limit).df\n",
    "    retrieve_quotes = pd.DataFrame(index=first_retrieve.index)\n",
    "    retrieve_quotes[\"Bid Size\"] = first_retrieve[\"bid_size\"]\n",
    "    retrieve_quotes[\"Ask Size\"] = first_retrieve[\"ask_size\"]\n",
    "    print(symbol, \": \", \"\\n\", retrieve_quotes.head(10), \"\\n\")\n"
   ]
  },
  {
   "cell_type": "code",
   "execution_count": 9,
   "id": "82645932",
   "metadata": {},
   "outputs": [
    {
     "data": {
      "application/vnd.plotly.v1+json": {
       "config": {
        "plotlyServerURL": "https://plot.ly"
       },
       "data": [
        {
         "hovertemplate": "timestamp=%{x}<br>y=%{y}<extra></extra>",
         "legendgroup": "",
         "line": {
          "color": "#636efa",
          "dash": "solid"
         },
         "marker": {
          "symbol": "circle"
         },
         "mode": "lines",
         "name": "",
         "orientation": "v",
         "showlegend": false,
         "type": "scatter",
         "x": [
          "2022-01-03T09:00:00.023193+00:00",
          "2022-01-03T09:00:00.023193+00:00",
          "2022-01-03T09:00:00.023345+00:00",
          "2022-01-03T09:00:00.023400+00:00",
          "2022-01-03T09:00:00.023525+00:00",
          "2022-01-03T09:00:00.030384+00:00",
          "2022-01-03T09:00:00.058738+00:00",
          "2022-01-03T09:00:00.058943+00:00",
          "2022-01-03T09:00:00.099899+00:00",
          "2022-01-03T09:00:00.112006+00:00",
          "2022-01-03T09:00:00.112160+00:00",
          "2022-01-03T09:00:00.424523+00:00",
          "2022-01-03T09:00:00.424523+00:00",
          "2022-01-03T09:00:00.424606+00:00",
          "2022-01-03T09:00:00.428079+00:00",
          "2022-01-03T09:00:02.909580+00:00",
          "2022-01-03T09:00:02.909654+00:00",
          "2022-01-03T09:00:02.909711+00:00",
          "2022-01-03T09:00:03.630482+00:00",
          "2022-01-03T09:00:03.630588+00:00",
          "2022-01-03T09:00:03.630621+00:00",
          "2022-01-03T09:00:03.630678+00:00",
          "2022-01-03T09:00:04.390097+00:00",
          "2022-01-03T09:00:04.622134+00:00",
          "2022-01-03T09:00:05.755881+00:00",
          "2022-01-03T09:00:06.535293+00:00",
          "2022-01-03T09:00:06.535347+00:00",
          "2022-01-03T09:00:06.535352+00:00",
          "2022-01-03T09:00:06.649401+00:00",
          "2022-01-03T09:00:06.649405+00:00",
          "2022-01-03T09:00:06.758974+00:00",
          "2022-01-03T09:00:07.013516+00:00",
          "2022-01-03T09:00:07.447245+00:00",
          "2022-01-03T09:00:07.447254+00:00",
          "2022-01-03T09:00:07.447257+00:00",
          "2022-01-03T09:00:07.447269+00:00",
          "2022-01-03T09:00:07.447296+00:00",
          "2022-01-03T09:00:07.447324+00:00",
          "2022-01-03T09:00:07.447602+00:00",
          "2022-01-03T09:00:07.447653+00:00",
          "2022-01-03T09:00:07.552594+00:00",
          "2022-01-03T09:00:07.552746+00:00",
          "2022-01-03T09:00:07.831560+00:00",
          "2022-01-03T09:00:07.891497+00:00",
          "2022-01-03T09:00:09.812096+00:00",
          "2022-01-03T09:00:15.299288+00:00",
          "2022-01-03T09:02:20.175743+00:00",
          "2022-01-03T09:02:20.175750+00:00",
          "2022-01-03T09:02:20.192489+00:00",
          "2022-01-03T09:02:20.199462+00:00"
         ],
         "xaxis": "x",
         "y": [
          -1,
          0,
          38,
          38,
          80,
          265,
          263,
          418,
          151,
          109,
          0,
          253,
          0,
          267,
          0,
          0,
          169,
          0,
          169,
          42,
          169,
          211,
          211,
          42,
          464,
          633,
          633,
          464,
          295,
          464,
          464,
          731,
          253,
          900,
          731,
          -520,
          773,
          773,
          -56,
          -478,
          -253,
          -422,
          -380,
          -464,
          -466,
          -44,
          -380,
          -213,
          -267,
          -98
         ],
         "yaxis": "y"
        }
       ],
       "layout": {
        "legend": {
         "tracegroupgap": 0
        },
        "margin": {
         "t": 60
        },
        "template": {
         "data": {
          "bar": [
           {
            "error_x": {
             "color": "#2a3f5f"
            },
            "error_y": {
             "color": "#2a3f5f"
            },
            "marker": {
             "line": {
              "color": "#E5ECF6",
              "width": 0.5
             },
             "pattern": {
              "fillmode": "overlay",
              "size": 10,
              "solidity": 0.2
             }
            },
            "type": "bar"
           }
          ],
          "barpolar": [
           {
            "marker": {
             "line": {
              "color": "#E5ECF6",
              "width": 0.5
             },
             "pattern": {
              "fillmode": "overlay",
              "size": 10,
              "solidity": 0.2
             }
            },
            "type": "barpolar"
           }
          ],
          "carpet": [
           {
            "aaxis": {
             "endlinecolor": "#2a3f5f",
             "gridcolor": "white",
             "linecolor": "white",
             "minorgridcolor": "white",
             "startlinecolor": "#2a3f5f"
            },
            "baxis": {
             "endlinecolor": "#2a3f5f",
             "gridcolor": "white",
             "linecolor": "white",
             "minorgridcolor": "white",
             "startlinecolor": "#2a3f5f"
            },
            "type": "carpet"
           }
          ],
          "choropleth": [
           {
            "colorbar": {
             "outlinewidth": 0,
             "ticks": ""
            },
            "type": "choropleth"
           }
          ],
          "contour": [
           {
            "colorbar": {
             "outlinewidth": 0,
             "ticks": ""
            },
            "colorscale": [
             [
              0,
              "#0d0887"
             ],
             [
              0.1111111111111111,
              "#46039f"
             ],
             [
              0.2222222222222222,
              "#7201a8"
             ],
             [
              0.3333333333333333,
              "#9c179e"
             ],
             [
              0.4444444444444444,
              "#bd3786"
             ],
             [
              0.5555555555555556,
              "#d8576b"
             ],
             [
              0.6666666666666666,
              "#ed7953"
             ],
             [
              0.7777777777777778,
              "#fb9f3a"
             ],
             [
              0.8888888888888888,
              "#fdca26"
             ],
             [
              1,
              "#f0f921"
             ]
            ],
            "type": "contour"
           }
          ],
          "contourcarpet": [
           {
            "colorbar": {
             "outlinewidth": 0,
             "ticks": ""
            },
            "type": "contourcarpet"
           }
          ],
          "heatmap": [
           {
            "colorbar": {
             "outlinewidth": 0,
             "ticks": ""
            },
            "colorscale": [
             [
              0,
              "#0d0887"
             ],
             [
              0.1111111111111111,
              "#46039f"
             ],
             [
              0.2222222222222222,
              "#7201a8"
             ],
             [
              0.3333333333333333,
              "#9c179e"
             ],
             [
              0.4444444444444444,
              "#bd3786"
             ],
             [
              0.5555555555555556,
              "#d8576b"
             ],
             [
              0.6666666666666666,
              "#ed7953"
             ],
             [
              0.7777777777777778,
              "#fb9f3a"
             ],
             [
              0.8888888888888888,
              "#fdca26"
             ],
             [
              1,
              "#f0f921"
             ]
            ],
            "type": "heatmap"
           }
          ],
          "heatmapgl": [
           {
            "colorbar": {
             "outlinewidth": 0,
             "ticks": ""
            },
            "colorscale": [
             [
              0,
              "#0d0887"
             ],
             [
              0.1111111111111111,
              "#46039f"
             ],
             [
              0.2222222222222222,
              "#7201a8"
             ],
             [
              0.3333333333333333,
              "#9c179e"
             ],
             [
              0.4444444444444444,
              "#bd3786"
             ],
             [
              0.5555555555555556,
              "#d8576b"
             ],
             [
              0.6666666666666666,
              "#ed7953"
             ],
             [
              0.7777777777777778,
              "#fb9f3a"
             ],
             [
              0.8888888888888888,
              "#fdca26"
             ],
             [
              1,
              "#f0f921"
             ]
            ],
            "type": "heatmapgl"
           }
          ],
          "histogram": [
           {
            "marker": {
             "pattern": {
              "fillmode": "overlay",
              "size": 10,
              "solidity": 0.2
             }
            },
            "type": "histogram"
           }
          ],
          "histogram2d": [
           {
            "colorbar": {
             "outlinewidth": 0,
             "ticks": ""
            },
            "colorscale": [
             [
              0,
              "#0d0887"
             ],
             [
              0.1111111111111111,
              "#46039f"
             ],
             [
              0.2222222222222222,
              "#7201a8"
             ],
             [
              0.3333333333333333,
              "#9c179e"
             ],
             [
              0.4444444444444444,
              "#bd3786"
             ],
             [
              0.5555555555555556,
              "#d8576b"
             ],
             [
              0.6666666666666666,
              "#ed7953"
             ],
             [
              0.7777777777777778,
              "#fb9f3a"
             ],
             [
              0.8888888888888888,
              "#fdca26"
             ],
             [
              1,
              "#f0f921"
             ]
            ],
            "type": "histogram2d"
           }
          ],
          "histogram2dcontour": [
           {
            "colorbar": {
             "outlinewidth": 0,
             "ticks": ""
            },
            "colorscale": [
             [
              0,
              "#0d0887"
             ],
             [
              0.1111111111111111,
              "#46039f"
             ],
             [
              0.2222222222222222,
              "#7201a8"
             ],
             [
              0.3333333333333333,
              "#9c179e"
             ],
             [
              0.4444444444444444,
              "#bd3786"
             ],
             [
              0.5555555555555556,
              "#d8576b"
             ],
             [
              0.6666666666666666,
              "#ed7953"
             ],
             [
              0.7777777777777778,
              "#fb9f3a"
             ],
             [
              0.8888888888888888,
              "#fdca26"
             ],
             [
              1,
              "#f0f921"
             ]
            ],
            "type": "histogram2dcontour"
           }
          ],
          "mesh3d": [
           {
            "colorbar": {
             "outlinewidth": 0,
             "ticks": ""
            },
            "type": "mesh3d"
           }
          ],
          "parcoords": [
           {
            "line": {
             "colorbar": {
              "outlinewidth": 0,
              "ticks": ""
             }
            },
            "type": "parcoords"
           }
          ],
          "pie": [
           {
            "automargin": true,
            "type": "pie"
           }
          ],
          "scatter": [
           {
            "fillpattern": {
             "fillmode": "overlay",
             "size": 10,
             "solidity": 0.2
            },
            "type": "scatter"
           }
          ],
          "scatter3d": [
           {
            "line": {
             "colorbar": {
              "outlinewidth": 0,
              "ticks": ""
             }
            },
            "marker": {
             "colorbar": {
              "outlinewidth": 0,
              "ticks": ""
             }
            },
            "type": "scatter3d"
           }
          ],
          "scattercarpet": [
           {
            "marker": {
             "colorbar": {
              "outlinewidth": 0,
              "ticks": ""
             }
            },
            "type": "scattercarpet"
           }
          ],
          "scattergeo": [
           {
            "marker": {
             "colorbar": {
              "outlinewidth": 0,
              "ticks": ""
             }
            },
            "type": "scattergeo"
           }
          ],
          "scattergl": [
           {
            "marker": {
             "colorbar": {
              "outlinewidth": 0,
              "ticks": ""
             }
            },
            "type": "scattergl"
           }
          ],
          "scattermapbox": [
           {
            "marker": {
             "colorbar": {
              "outlinewidth": 0,
              "ticks": ""
             }
            },
            "type": "scattermapbox"
           }
          ],
          "scatterpolar": [
           {
            "marker": {
             "colorbar": {
              "outlinewidth": 0,
              "ticks": ""
             }
            },
            "type": "scatterpolar"
           }
          ],
          "scatterpolargl": [
           {
            "marker": {
             "colorbar": {
              "outlinewidth": 0,
              "ticks": ""
             }
            },
            "type": "scatterpolargl"
           }
          ],
          "scatterternary": [
           {
            "marker": {
             "colorbar": {
              "outlinewidth": 0,
              "ticks": ""
             }
            },
            "type": "scatterternary"
           }
          ],
          "surface": [
           {
            "colorbar": {
             "outlinewidth": 0,
             "ticks": ""
            },
            "colorscale": [
             [
              0,
              "#0d0887"
             ],
             [
              0.1111111111111111,
              "#46039f"
             ],
             [
              0.2222222222222222,
              "#7201a8"
             ],
             [
              0.3333333333333333,
              "#9c179e"
             ],
             [
              0.4444444444444444,
              "#bd3786"
             ],
             [
              0.5555555555555556,
              "#d8576b"
             ],
             [
              0.6666666666666666,
              "#ed7953"
             ],
             [
              0.7777777777777778,
              "#fb9f3a"
             ],
             [
              0.8888888888888888,
              "#fdca26"
             ],
             [
              1,
              "#f0f921"
             ]
            ],
            "type": "surface"
           }
          ],
          "table": [
           {
            "cells": {
             "fill": {
              "color": "#EBF0F8"
             },
             "line": {
              "color": "white"
             }
            },
            "header": {
             "fill": {
              "color": "#C8D4E3"
             },
             "line": {
              "color": "white"
             }
            },
            "type": "table"
           }
          ]
         },
         "layout": {
          "annotationdefaults": {
           "arrowcolor": "#2a3f5f",
           "arrowhead": 0,
           "arrowwidth": 1
          },
          "autotypenumbers": "strict",
          "coloraxis": {
           "colorbar": {
            "outlinewidth": 0,
            "ticks": ""
           }
          },
          "colorscale": {
           "diverging": [
            [
             0,
             "#8e0152"
            ],
            [
             0.1,
             "#c51b7d"
            ],
            [
             0.2,
             "#de77ae"
            ],
            [
             0.3,
             "#f1b6da"
            ],
            [
             0.4,
             "#fde0ef"
            ],
            [
             0.5,
             "#f7f7f7"
            ],
            [
             0.6,
             "#e6f5d0"
            ],
            [
             0.7,
             "#b8e186"
            ],
            [
             0.8,
             "#7fbc41"
            ],
            [
             0.9,
             "#4d9221"
            ],
            [
             1,
             "#276419"
            ]
           ],
           "sequential": [
            [
             0,
             "#0d0887"
            ],
            [
             0.1111111111111111,
             "#46039f"
            ],
            [
             0.2222222222222222,
             "#7201a8"
            ],
            [
             0.3333333333333333,
             "#9c179e"
            ],
            [
             0.4444444444444444,
             "#bd3786"
            ],
            [
             0.5555555555555556,
             "#d8576b"
            ],
            [
             0.6666666666666666,
             "#ed7953"
            ],
            [
             0.7777777777777778,
             "#fb9f3a"
            ],
            [
             0.8888888888888888,
             "#fdca26"
            ],
            [
             1,
             "#f0f921"
            ]
           ],
           "sequentialminus": [
            [
             0,
             "#0d0887"
            ],
            [
             0.1111111111111111,
             "#46039f"
            ],
            [
             0.2222222222222222,
             "#7201a8"
            ],
            [
             0.3333333333333333,
             "#9c179e"
            ],
            [
             0.4444444444444444,
             "#bd3786"
            ],
            [
             0.5555555555555556,
             "#d8576b"
            ],
            [
             0.6666666666666666,
             "#ed7953"
            ],
            [
             0.7777777777777778,
             "#fb9f3a"
            ],
            [
             0.8888888888888888,
             "#fdca26"
            ],
            [
             1,
             "#f0f921"
            ]
           ]
          },
          "colorway": [
           "#636efa",
           "#EF553B",
           "#00cc96",
           "#ab63fa",
           "#FFA15A",
           "#19d3f3",
           "#FF6692",
           "#B6E880",
           "#FF97FF",
           "#FECB52"
          ],
          "font": {
           "color": "#2a3f5f"
          },
          "geo": {
           "bgcolor": "white",
           "lakecolor": "white",
           "landcolor": "#E5ECF6",
           "showlakes": true,
           "showland": true,
           "subunitcolor": "white"
          },
          "hoverlabel": {
           "align": "left"
          },
          "hovermode": "closest",
          "mapbox": {
           "style": "light"
          },
          "paper_bgcolor": "white",
          "plot_bgcolor": "#E5ECF6",
          "polar": {
           "angularaxis": {
            "gridcolor": "white",
            "linecolor": "white",
            "ticks": ""
           },
           "bgcolor": "#E5ECF6",
           "radialaxis": {
            "gridcolor": "white",
            "linecolor": "white",
            "ticks": ""
           }
          },
          "scene": {
           "xaxis": {
            "backgroundcolor": "#E5ECF6",
            "gridcolor": "white",
            "gridwidth": 2,
            "linecolor": "white",
            "showbackground": true,
            "ticks": "",
            "zerolinecolor": "white"
           },
           "yaxis": {
            "backgroundcolor": "#E5ECF6",
            "gridcolor": "white",
            "gridwidth": 2,
            "linecolor": "white",
            "showbackground": true,
            "ticks": "",
            "zerolinecolor": "white"
           },
           "zaxis": {
            "backgroundcolor": "#E5ECF6",
            "gridcolor": "white",
            "gridwidth": 2,
            "linecolor": "white",
            "showbackground": true,
            "ticks": "",
            "zerolinecolor": "white"
           }
          },
          "shapedefaults": {
           "line": {
            "color": "#2a3f5f"
           }
          },
          "ternary": {
           "aaxis": {
            "gridcolor": "white",
            "linecolor": "white",
            "ticks": ""
           },
           "baxis": {
            "gridcolor": "white",
            "linecolor": "white",
            "ticks": ""
           },
           "bgcolor": "#E5ECF6",
           "caxis": {
            "gridcolor": "white",
            "linecolor": "white",
            "ticks": ""
           }
          },
          "title": {
           "x": 0.05
          },
          "xaxis": {
           "automargin": true,
           "gridcolor": "white",
           "linecolor": "white",
           "ticks": "",
           "title": {
            "standoff": 15
           },
           "zerolinecolor": "white",
           "zerolinewidth": 2
          },
          "yaxis": {
           "automargin": true,
           "gridcolor": "white",
           "linecolor": "white",
           "ticks": "",
           "title": {
            "standoff": 15
           },
           "zerolinecolor": "white",
           "zerolinewidth": 2
          }
         }
        },
        "title": {
         "text": "Bid-Ask Size Spread of SDS as a Function of Time"
        },
        "xaxis": {
         "anchor": "y",
         "domain": [
          0,
          1
         ],
         "title": {
          "text": "Time of Day"
         }
        },
        "yaxis": {
         "anchor": "x",
         "domain": [
          0,
          1
         ],
         "title": {
          "text": "Bid-ask Spread Size($USD)"
         }
        }
       }
      },
      "text/html": [
       "<div>                            <div id=\"0d6fa5a6-8036-46e8-955e-7e981e3c8c14\" class=\"plotly-graph-div\" style=\"height:525px; width:100%;\"></div>            <script type=\"text/javascript\">                require([\"plotly\"], function(Plotly) {                    window.PLOTLYENV=window.PLOTLYENV || {};                                    if (document.getElementById(\"0d6fa5a6-8036-46e8-955e-7e981e3c8c14\")) {                    Plotly.newPlot(                        \"0d6fa5a6-8036-46e8-955e-7e981e3c8c14\",                        [{\"hovertemplate\":\"timestamp=%{x}<br>y=%{y}<extra></extra>\",\"legendgroup\":\"\",\"line\":{\"color\":\"#636efa\",\"dash\":\"solid\"},\"marker\":{\"symbol\":\"circle\"},\"mode\":\"lines\",\"name\":\"\",\"orientation\":\"v\",\"showlegend\":false,\"x\":[\"2022-01-03T09:00:00.023193+00:00\",\"2022-01-03T09:00:00.023193+00:00\",\"2022-01-03T09:00:00.023345+00:00\",\"2022-01-03T09:00:00.023400+00:00\",\"2022-01-03T09:00:00.023525+00:00\",\"2022-01-03T09:00:00.030384+00:00\",\"2022-01-03T09:00:00.058738+00:00\",\"2022-01-03T09:00:00.058943+00:00\",\"2022-01-03T09:00:00.099899+00:00\",\"2022-01-03T09:00:00.112006+00:00\",\"2022-01-03T09:00:00.112160+00:00\",\"2022-01-03T09:00:00.424523+00:00\",\"2022-01-03T09:00:00.424523+00:00\",\"2022-01-03T09:00:00.424606+00:00\",\"2022-01-03T09:00:00.428079+00:00\",\"2022-01-03T09:00:02.909580+00:00\",\"2022-01-03T09:00:02.909654+00:00\",\"2022-01-03T09:00:02.909711+00:00\",\"2022-01-03T09:00:03.630482+00:00\",\"2022-01-03T09:00:03.630588+00:00\",\"2022-01-03T09:00:03.630621+00:00\",\"2022-01-03T09:00:03.630678+00:00\",\"2022-01-03T09:00:04.390097+00:00\",\"2022-01-03T09:00:04.622134+00:00\",\"2022-01-03T09:00:05.755881+00:00\",\"2022-01-03T09:00:06.535293+00:00\",\"2022-01-03T09:00:06.535347+00:00\",\"2022-01-03T09:00:06.535352+00:00\",\"2022-01-03T09:00:06.649401+00:00\",\"2022-01-03T09:00:06.649405+00:00\",\"2022-01-03T09:00:06.758974+00:00\",\"2022-01-03T09:00:07.013516+00:00\",\"2022-01-03T09:00:07.447245+00:00\",\"2022-01-03T09:00:07.447254+00:00\",\"2022-01-03T09:00:07.447257+00:00\",\"2022-01-03T09:00:07.447269+00:00\",\"2022-01-03T09:00:07.447296+00:00\",\"2022-01-03T09:00:07.447324+00:00\",\"2022-01-03T09:00:07.447602+00:00\",\"2022-01-03T09:00:07.447653+00:00\",\"2022-01-03T09:00:07.552594+00:00\",\"2022-01-03T09:00:07.552746+00:00\",\"2022-01-03T09:00:07.831560+00:00\",\"2022-01-03T09:00:07.891497+00:00\",\"2022-01-03T09:00:09.812096+00:00\",\"2022-01-03T09:00:15.299288+00:00\",\"2022-01-03T09:02:20.175743+00:00\",\"2022-01-03T09:02:20.175750+00:00\",\"2022-01-03T09:02:20.192489+00:00\",\"2022-01-03T09:02:20.199462+00:00\"],\"xaxis\":\"x\",\"y\":[-1,0,38,38,80,265,263,418,151,109,0,253,0,267,0,0,169,0,169,42,169,211,211,42,464,633,633,464,295,464,464,731,253,900,731,-520,773,773,-56,-478,-253,-422,-380,-464,-466,-44,-380,-213,-267,-98],\"yaxis\":\"y\",\"type\":\"scatter\"}],                        {\"template\":{\"data\":{\"histogram2dcontour\":[{\"type\":\"histogram2dcontour\",\"colorbar\":{\"outlinewidth\":0,\"ticks\":\"\"},\"colorscale\":[[0.0,\"#0d0887\"],[0.1111111111111111,\"#46039f\"],[0.2222222222222222,\"#7201a8\"],[0.3333333333333333,\"#9c179e\"],[0.4444444444444444,\"#bd3786\"],[0.5555555555555556,\"#d8576b\"],[0.6666666666666666,\"#ed7953\"],[0.7777777777777778,\"#fb9f3a\"],[0.8888888888888888,\"#fdca26\"],[1.0,\"#f0f921\"]]}],\"choropleth\":[{\"type\":\"choropleth\",\"colorbar\":{\"outlinewidth\":0,\"ticks\":\"\"}}],\"histogram2d\":[{\"type\":\"histogram2d\",\"colorbar\":{\"outlinewidth\":0,\"ticks\":\"\"},\"colorscale\":[[0.0,\"#0d0887\"],[0.1111111111111111,\"#46039f\"],[0.2222222222222222,\"#7201a8\"],[0.3333333333333333,\"#9c179e\"],[0.4444444444444444,\"#bd3786\"],[0.5555555555555556,\"#d8576b\"],[0.6666666666666666,\"#ed7953\"],[0.7777777777777778,\"#fb9f3a\"],[0.8888888888888888,\"#fdca26\"],[1.0,\"#f0f921\"]]}],\"heatmap\":[{\"type\":\"heatmap\",\"colorbar\":{\"outlinewidth\":0,\"ticks\":\"\"},\"colorscale\":[[0.0,\"#0d0887\"],[0.1111111111111111,\"#46039f\"],[0.2222222222222222,\"#7201a8\"],[0.3333333333333333,\"#9c179e\"],[0.4444444444444444,\"#bd3786\"],[0.5555555555555556,\"#d8576b\"],[0.6666666666666666,\"#ed7953\"],[0.7777777777777778,\"#fb9f3a\"],[0.8888888888888888,\"#fdca26\"],[1.0,\"#f0f921\"]]}],\"heatmapgl\":[{\"type\":\"heatmapgl\",\"colorbar\":{\"outlinewidth\":0,\"ticks\":\"\"},\"colorscale\":[[0.0,\"#0d0887\"],[0.1111111111111111,\"#46039f\"],[0.2222222222222222,\"#7201a8\"],[0.3333333333333333,\"#9c179e\"],[0.4444444444444444,\"#bd3786\"],[0.5555555555555556,\"#d8576b\"],[0.6666666666666666,\"#ed7953\"],[0.7777777777777778,\"#fb9f3a\"],[0.8888888888888888,\"#fdca26\"],[1.0,\"#f0f921\"]]}],\"contourcarpet\":[{\"type\":\"contourcarpet\",\"colorbar\":{\"outlinewidth\":0,\"ticks\":\"\"}}],\"contour\":[{\"type\":\"contour\",\"colorbar\":{\"outlinewidth\":0,\"ticks\":\"\"},\"colorscale\":[[0.0,\"#0d0887\"],[0.1111111111111111,\"#46039f\"],[0.2222222222222222,\"#7201a8\"],[0.3333333333333333,\"#9c179e\"],[0.4444444444444444,\"#bd3786\"],[0.5555555555555556,\"#d8576b\"],[0.6666666666666666,\"#ed7953\"],[0.7777777777777778,\"#fb9f3a\"],[0.8888888888888888,\"#fdca26\"],[1.0,\"#f0f921\"]]}],\"surface\":[{\"type\":\"surface\",\"colorbar\":{\"outlinewidth\":0,\"ticks\":\"\"},\"colorscale\":[[0.0,\"#0d0887\"],[0.1111111111111111,\"#46039f\"],[0.2222222222222222,\"#7201a8\"],[0.3333333333333333,\"#9c179e\"],[0.4444444444444444,\"#bd3786\"],[0.5555555555555556,\"#d8576b\"],[0.6666666666666666,\"#ed7953\"],[0.7777777777777778,\"#fb9f3a\"],[0.8888888888888888,\"#fdca26\"],[1.0,\"#f0f921\"]]}],\"mesh3d\":[{\"type\":\"mesh3d\",\"colorbar\":{\"outlinewidth\":0,\"ticks\":\"\"}}],\"scatter\":[{\"fillpattern\":{\"fillmode\":\"overlay\",\"size\":10,\"solidity\":0.2},\"type\":\"scatter\"}],\"parcoords\":[{\"type\":\"parcoords\",\"line\":{\"colorbar\":{\"outlinewidth\":0,\"ticks\":\"\"}}}],\"scatterpolargl\":[{\"type\":\"scatterpolargl\",\"marker\":{\"colorbar\":{\"outlinewidth\":0,\"ticks\":\"\"}}}],\"bar\":[{\"error_x\":{\"color\":\"#2a3f5f\"},\"error_y\":{\"color\":\"#2a3f5f\"},\"marker\":{\"line\":{\"color\":\"#E5ECF6\",\"width\":0.5},\"pattern\":{\"fillmode\":\"overlay\",\"size\":10,\"solidity\":0.2}},\"type\":\"bar\"}],\"scattergeo\":[{\"type\":\"scattergeo\",\"marker\":{\"colorbar\":{\"outlinewidth\":0,\"ticks\":\"\"}}}],\"scatterpolar\":[{\"type\":\"scatterpolar\",\"marker\":{\"colorbar\":{\"outlinewidth\":0,\"ticks\":\"\"}}}],\"histogram\":[{\"marker\":{\"pattern\":{\"fillmode\":\"overlay\",\"size\":10,\"solidity\":0.2}},\"type\":\"histogram\"}],\"scattergl\":[{\"type\":\"scattergl\",\"marker\":{\"colorbar\":{\"outlinewidth\":0,\"ticks\":\"\"}}}],\"scatter3d\":[{\"type\":\"scatter3d\",\"line\":{\"colorbar\":{\"outlinewidth\":0,\"ticks\":\"\"}},\"marker\":{\"colorbar\":{\"outlinewidth\":0,\"ticks\":\"\"}}}],\"scattermapbox\":[{\"type\":\"scattermapbox\",\"marker\":{\"colorbar\":{\"outlinewidth\":0,\"ticks\":\"\"}}}],\"scatterternary\":[{\"type\":\"scatterternary\",\"marker\":{\"colorbar\":{\"outlinewidth\":0,\"ticks\":\"\"}}}],\"scattercarpet\":[{\"type\":\"scattercarpet\",\"marker\":{\"colorbar\":{\"outlinewidth\":0,\"ticks\":\"\"}}}],\"carpet\":[{\"aaxis\":{\"endlinecolor\":\"#2a3f5f\",\"gridcolor\":\"white\",\"linecolor\":\"white\",\"minorgridcolor\":\"white\",\"startlinecolor\":\"#2a3f5f\"},\"baxis\":{\"endlinecolor\":\"#2a3f5f\",\"gridcolor\":\"white\",\"linecolor\":\"white\",\"minorgridcolor\":\"white\",\"startlinecolor\":\"#2a3f5f\"},\"type\":\"carpet\"}],\"table\":[{\"cells\":{\"fill\":{\"color\":\"#EBF0F8\"},\"line\":{\"color\":\"white\"}},\"header\":{\"fill\":{\"color\":\"#C8D4E3\"},\"line\":{\"color\":\"white\"}},\"type\":\"table\"}],\"barpolar\":[{\"marker\":{\"line\":{\"color\":\"#E5ECF6\",\"width\":0.5},\"pattern\":{\"fillmode\":\"overlay\",\"size\":10,\"solidity\":0.2}},\"type\":\"barpolar\"}],\"pie\":[{\"automargin\":true,\"type\":\"pie\"}]},\"layout\":{\"autotypenumbers\":\"strict\",\"colorway\":[\"#636efa\",\"#EF553B\",\"#00cc96\",\"#ab63fa\",\"#FFA15A\",\"#19d3f3\",\"#FF6692\",\"#B6E880\",\"#FF97FF\",\"#FECB52\"],\"font\":{\"color\":\"#2a3f5f\"},\"hovermode\":\"closest\",\"hoverlabel\":{\"align\":\"left\"},\"paper_bgcolor\":\"white\",\"plot_bgcolor\":\"#E5ECF6\",\"polar\":{\"bgcolor\":\"#E5ECF6\",\"angularaxis\":{\"gridcolor\":\"white\",\"linecolor\":\"white\",\"ticks\":\"\"},\"radialaxis\":{\"gridcolor\":\"white\",\"linecolor\":\"white\",\"ticks\":\"\"}},\"ternary\":{\"bgcolor\":\"#E5ECF6\",\"aaxis\":{\"gridcolor\":\"white\",\"linecolor\":\"white\",\"ticks\":\"\"},\"baxis\":{\"gridcolor\":\"white\",\"linecolor\":\"white\",\"ticks\":\"\"},\"caxis\":{\"gridcolor\":\"white\",\"linecolor\":\"white\",\"ticks\":\"\"}},\"coloraxis\":{\"colorbar\":{\"outlinewidth\":0,\"ticks\":\"\"}},\"colorscale\":{\"sequential\":[[0.0,\"#0d0887\"],[0.1111111111111111,\"#46039f\"],[0.2222222222222222,\"#7201a8\"],[0.3333333333333333,\"#9c179e\"],[0.4444444444444444,\"#bd3786\"],[0.5555555555555556,\"#d8576b\"],[0.6666666666666666,\"#ed7953\"],[0.7777777777777778,\"#fb9f3a\"],[0.8888888888888888,\"#fdca26\"],[1.0,\"#f0f921\"]],\"sequentialminus\":[[0.0,\"#0d0887\"],[0.1111111111111111,\"#46039f\"],[0.2222222222222222,\"#7201a8\"],[0.3333333333333333,\"#9c179e\"],[0.4444444444444444,\"#bd3786\"],[0.5555555555555556,\"#d8576b\"],[0.6666666666666666,\"#ed7953\"],[0.7777777777777778,\"#fb9f3a\"],[0.8888888888888888,\"#fdca26\"],[1.0,\"#f0f921\"]],\"diverging\":[[0,\"#8e0152\"],[0.1,\"#c51b7d\"],[0.2,\"#de77ae\"],[0.3,\"#f1b6da\"],[0.4,\"#fde0ef\"],[0.5,\"#f7f7f7\"],[0.6,\"#e6f5d0\"],[0.7,\"#b8e186\"],[0.8,\"#7fbc41\"],[0.9,\"#4d9221\"],[1,\"#276419\"]]},\"xaxis\":{\"gridcolor\":\"white\",\"linecolor\":\"white\",\"ticks\":\"\",\"title\":{\"standoff\":15},\"zerolinecolor\":\"white\",\"automargin\":true,\"zerolinewidth\":2},\"yaxis\":{\"gridcolor\":\"white\",\"linecolor\":\"white\",\"ticks\":\"\",\"title\":{\"standoff\":15},\"zerolinecolor\":\"white\",\"automargin\":true,\"zerolinewidth\":2},\"scene\":{\"xaxis\":{\"backgroundcolor\":\"#E5ECF6\",\"gridcolor\":\"white\",\"linecolor\":\"white\",\"showbackground\":true,\"ticks\":\"\",\"zerolinecolor\":\"white\",\"gridwidth\":2},\"yaxis\":{\"backgroundcolor\":\"#E5ECF6\",\"gridcolor\":\"white\",\"linecolor\":\"white\",\"showbackground\":true,\"ticks\":\"\",\"zerolinecolor\":\"white\",\"gridwidth\":2},\"zaxis\":{\"backgroundcolor\":\"#E5ECF6\",\"gridcolor\":\"white\",\"linecolor\":\"white\",\"showbackground\":true,\"ticks\":\"\",\"zerolinecolor\":\"white\",\"gridwidth\":2}},\"shapedefaults\":{\"line\":{\"color\":\"#2a3f5f\"}},\"annotationdefaults\":{\"arrowcolor\":\"#2a3f5f\",\"arrowhead\":0,\"arrowwidth\":1},\"geo\":{\"bgcolor\":\"white\",\"landcolor\":\"#E5ECF6\",\"subunitcolor\":\"white\",\"showland\":true,\"showlakes\":true,\"lakecolor\":\"white\"},\"title\":{\"x\":0.05},\"mapbox\":{\"style\":\"light\"}}},\"xaxis\":{\"anchor\":\"y\",\"domain\":[0.0,1.0],\"title\":{\"text\":\"Time of Day\"}},\"yaxis\":{\"anchor\":\"x\",\"domain\":[0.0,1.0],\"title\":{\"text\":\"Bid-ask Spread Size($USD)\"}},\"legend\":{\"tracegroupgap\":0},\"margin\":{\"t\":60},\"title\":{\"text\":\"Bid-Ask Size Spread of SDS as a Function of Time\"}},                        {\"responsive\": true}                    ).then(function(){\n",
       "                            \n",
       "var gd = document.getElementById('0d6fa5a6-8036-46e8-955e-7e981e3c8c14');\n",
       "var x = new MutationObserver(function (mutations, observer) {{\n",
       "        var display = window.getComputedStyle(gd).display;\n",
       "        if (!display || display === 'none') {{\n",
       "            console.log([gd, 'removed!']);\n",
       "            Plotly.purge(gd);\n",
       "            observer.disconnect();\n",
       "        }}\n",
       "}});\n",
       "\n",
       "// Listen for the removal of the full notebook cells\n",
       "var notebookContainer = gd.closest('#notebook-container');\n",
       "if (notebookContainer) {{\n",
       "    x.observe(notebookContainer, {childList: true});\n",
       "}}\n",
       "\n",
       "// Listen for the clearing of the current output cell\n",
       "var outputEl = gd.closest('.output');\n",
       "if (outputEl) {{\n",
       "    x.observe(outputEl, {childList: true});\n",
       "}}\n",
       "\n",
       "                        })                };                });            </script>        </div>"
      ]
     },
     "metadata": {},
     "output_type": "display_data"
    }
   ],
   "source": [
    "#Bid Ask Spread Analysis\n",
    "#Quote Analysis\n",
    "#Reference Alpaca API and Create General Bid Ask Chart Structures\n",
    "#Uses plotly express for a quick plot, x axis needs debugging\n",
    "from dotenv import load_dotenv\n",
    "import plotly.graph_objects as go\n",
    "import plotly.express as px\n",
    "import mplcyberpunk\n",
    "import matplotlib as plt\n",
    "import alpaca_trade_api as api\n",
    "import os\n",
    "import datetime as dt\n",
    "%matplotlib nbagg\n",
    "\n",
    "plt.style.use('cyberpunk')\n",
    "\n",
    "today = dt.datetime.today()\n",
    "\n",
    "load_dotenv(dotenv_path='../a.env')\n",
    "\n",
    "FED_API_KEY = os.environ['FED_API_KEY']\n",
    "ALPACA_KEY_ID = os.environ['ALPACA_KEY_ID']\n",
    "ALPACA_SECRETS_KEY = os.environ['ALPACA_SECRETS_ID']\n",
    "alpaca = api.REST(ALPACA_KEY_ID, ALPACA_SECRETS_KEY)\n",
    "# Setting parameters before calling method\n",
    "\n",
    "\n",
    "\n",
    "# Setting parameters for method call\n",
    "symbol = \"SDS\"\n",
    "start = \"2022-01-01T14:30:00Z\"\n",
    "end = \"2023-04-24T21:00:00Z\"\n",
    "limit = 50\n",
    "# Get Shopify quotes in a dataframe and print the first 5 rows\n",
    "get_values = alpaca.get_quotes(symbol, start, end, limit).df\n",
    "quotes_spread = get_values[\"ask_size\"] - get_values[\"bid_size\"]\n",
    "spread_plot = px.line(get_values, x=get_values.index, y=quotes_spread)\n",
    "spread_plot.update_layout(\n",
    "    title=\"Bid-Ask Size Spread of \" + symbol + \" as a Function of Time\",\n",
    "    xaxis_title=\"Time of Day\",\n",
    "    yaxis_title=\"Bid-ask Spread Size($USD)\"\n",
    ")\n",
    "spread_plot.show()"
   ]
  },
  {
   "cell_type": "code",
   "execution_count": 15,
   "id": "35d4c3f6",
   "metadata": {},
   "outputs": [
    {
     "data": {
      "application/javascript": [
       "/* Put everything inside the global mpl namespace */\n",
       "/* global mpl */\n",
       "window.mpl = {};\n",
       "\n",
       "mpl.get_websocket_type = function () {\n",
       "    if (typeof WebSocket !== 'undefined') {\n",
       "        return WebSocket;\n",
       "    } else if (typeof MozWebSocket !== 'undefined') {\n",
       "        return MozWebSocket;\n",
       "    } else {\n",
       "        alert(\n",
       "            'Your browser does not have WebSocket support. ' +\n",
       "                'Please try Chrome, Safari or Firefox ≥ 6. ' +\n",
       "                'Firefox 4 and 5 are also supported but you ' +\n",
       "                'have to enable WebSockets in about:config.'\n",
       "        );\n",
       "    }\n",
       "};\n",
       "\n",
       "mpl.figure = function (figure_id, websocket, ondownload, parent_element) {\n",
       "    this.id = figure_id;\n",
       "\n",
       "    this.ws = websocket;\n",
       "\n",
       "    this.supports_binary = this.ws.binaryType !== undefined;\n",
       "\n",
       "    if (!this.supports_binary) {\n",
       "        var warnings = document.getElementById('mpl-warnings');\n",
       "        if (warnings) {\n",
       "            warnings.style.display = 'block';\n",
       "            warnings.textContent =\n",
       "                'This browser does not support binary websocket messages. ' +\n",
       "                'Performance may be slow.';\n",
       "        }\n",
       "    }\n",
       "\n",
       "    this.imageObj = new Image();\n",
       "\n",
       "    this.context = undefined;\n",
       "    this.message = undefined;\n",
       "    this.canvas = undefined;\n",
       "    this.rubberband_canvas = undefined;\n",
       "    this.rubberband_context = undefined;\n",
       "    this.format_dropdown = undefined;\n",
       "\n",
       "    this.image_mode = 'full';\n",
       "\n",
       "    this.root = document.createElement('div');\n",
       "    this.root.setAttribute('style', 'display: inline-block');\n",
       "    this._root_extra_style(this.root);\n",
       "\n",
       "    parent_element.appendChild(this.root);\n",
       "\n",
       "    this._init_header(this);\n",
       "    this._init_canvas(this);\n",
       "    this._init_toolbar(this);\n",
       "\n",
       "    var fig = this;\n",
       "\n",
       "    this.waiting = false;\n",
       "\n",
       "    this.ws.onopen = function () {\n",
       "        fig.send_message('supports_binary', { value: fig.supports_binary });\n",
       "        fig.send_message('send_image_mode', {});\n",
       "        if (fig.ratio !== 1) {\n",
       "            fig.send_message('set_device_pixel_ratio', {\n",
       "                device_pixel_ratio: fig.ratio,\n",
       "            });\n",
       "        }\n",
       "        fig.send_message('refresh', {});\n",
       "    };\n",
       "\n",
       "    this.imageObj.onload = function () {\n",
       "        if (fig.image_mode === 'full') {\n",
       "            // Full images could contain transparency (where diff images\n",
       "            // almost always do), so we need to clear the canvas so that\n",
       "            // there is no ghosting.\n",
       "            fig.context.clearRect(0, 0, fig.canvas.width, fig.canvas.height);\n",
       "        }\n",
       "        fig.context.drawImage(fig.imageObj, 0, 0);\n",
       "    };\n",
       "\n",
       "    this.imageObj.onunload = function () {\n",
       "        fig.ws.close();\n",
       "    };\n",
       "\n",
       "    this.ws.onmessage = this._make_on_message_function(this);\n",
       "\n",
       "    this.ondownload = ondownload;\n",
       "};\n",
       "\n",
       "mpl.figure.prototype._init_header = function () {\n",
       "    var titlebar = document.createElement('div');\n",
       "    titlebar.classList =\n",
       "        'ui-dialog-titlebar ui-widget-header ui-corner-all ui-helper-clearfix';\n",
       "    var titletext = document.createElement('div');\n",
       "    titletext.classList = 'ui-dialog-title';\n",
       "    titletext.setAttribute(\n",
       "        'style',\n",
       "        'width: 100%; text-align: center; padding: 3px;'\n",
       "    );\n",
       "    titlebar.appendChild(titletext);\n",
       "    this.root.appendChild(titlebar);\n",
       "    this.header = titletext;\n",
       "};\n",
       "\n",
       "mpl.figure.prototype._canvas_extra_style = function (_canvas_div) {};\n",
       "\n",
       "mpl.figure.prototype._root_extra_style = function (_canvas_div) {};\n",
       "\n",
       "mpl.figure.prototype._init_canvas = function () {\n",
       "    var fig = this;\n",
       "\n",
       "    var canvas_div = (this.canvas_div = document.createElement('div'));\n",
       "    canvas_div.setAttribute('tabindex', '0');\n",
       "    canvas_div.setAttribute(\n",
       "        'style',\n",
       "        'border: 1px solid #ddd;' +\n",
       "            'box-sizing: content-box;' +\n",
       "            'clear: both;' +\n",
       "            'min-height: 1px;' +\n",
       "            'min-width: 1px;' +\n",
       "            'outline: 0;' +\n",
       "            'overflow: hidden;' +\n",
       "            'position: relative;' +\n",
       "            'resize: both;' +\n",
       "            'z-index: 2;'\n",
       "    );\n",
       "\n",
       "    function on_keyboard_event_closure(name) {\n",
       "        return function (event) {\n",
       "            return fig.key_event(event, name);\n",
       "        };\n",
       "    }\n",
       "\n",
       "    canvas_div.addEventListener(\n",
       "        'keydown',\n",
       "        on_keyboard_event_closure('key_press')\n",
       "    );\n",
       "    canvas_div.addEventListener(\n",
       "        'keyup',\n",
       "        on_keyboard_event_closure('key_release')\n",
       "    );\n",
       "\n",
       "    this._canvas_extra_style(canvas_div);\n",
       "    this.root.appendChild(canvas_div);\n",
       "\n",
       "    var canvas = (this.canvas = document.createElement('canvas'));\n",
       "    canvas.classList.add('mpl-canvas');\n",
       "    canvas.setAttribute(\n",
       "        'style',\n",
       "        'box-sizing: content-box;' +\n",
       "            'pointer-events: none;' +\n",
       "            'position: relative;' +\n",
       "            'z-index: 0;'\n",
       "    );\n",
       "\n",
       "    this.context = canvas.getContext('2d');\n",
       "\n",
       "    var backingStore =\n",
       "        this.context.backingStorePixelRatio ||\n",
       "        this.context.webkitBackingStorePixelRatio ||\n",
       "        this.context.mozBackingStorePixelRatio ||\n",
       "        this.context.msBackingStorePixelRatio ||\n",
       "        this.context.oBackingStorePixelRatio ||\n",
       "        this.context.backingStorePixelRatio ||\n",
       "        1;\n",
       "\n",
       "    this.ratio = (window.devicePixelRatio || 1) / backingStore;\n",
       "\n",
       "    var rubberband_canvas = (this.rubberband_canvas = document.createElement(\n",
       "        'canvas'\n",
       "    ));\n",
       "    rubberband_canvas.setAttribute(\n",
       "        'style',\n",
       "        'box-sizing: content-box;' +\n",
       "            'left: 0;' +\n",
       "            'pointer-events: none;' +\n",
       "            'position: absolute;' +\n",
       "            'top: 0;' +\n",
       "            'z-index: 1;'\n",
       "    );\n",
       "\n",
       "    // Apply a ponyfill if ResizeObserver is not implemented by browser.\n",
       "    if (this.ResizeObserver === undefined) {\n",
       "        if (window.ResizeObserver !== undefined) {\n",
       "            this.ResizeObserver = window.ResizeObserver;\n",
       "        } else {\n",
       "            var obs = _JSXTOOLS_RESIZE_OBSERVER({});\n",
       "            this.ResizeObserver = obs.ResizeObserver;\n",
       "        }\n",
       "    }\n",
       "\n",
       "    this.resizeObserverInstance = new this.ResizeObserver(function (entries) {\n",
       "        var nentries = entries.length;\n",
       "        for (var i = 0; i < nentries; i++) {\n",
       "            var entry = entries[i];\n",
       "            var width, height;\n",
       "            if (entry.contentBoxSize) {\n",
       "                if (entry.contentBoxSize instanceof Array) {\n",
       "                    // Chrome 84 implements new version of spec.\n",
       "                    width = entry.contentBoxSize[0].inlineSize;\n",
       "                    height = entry.contentBoxSize[0].blockSize;\n",
       "                } else {\n",
       "                    // Firefox implements old version of spec.\n",
       "                    width = entry.contentBoxSize.inlineSize;\n",
       "                    height = entry.contentBoxSize.blockSize;\n",
       "                }\n",
       "            } else {\n",
       "                // Chrome <84 implements even older version of spec.\n",
       "                width = entry.contentRect.width;\n",
       "                height = entry.contentRect.height;\n",
       "            }\n",
       "\n",
       "            // Keep the size of the canvas and rubber band canvas in sync with\n",
       "            // the canvas container.\n",
       "            if (entry.devicePixelContentBoxSize) {\n",
       "                // Chrome 84 implements new version of spec.\n",
       "                canvas.setAttribute(\n",
       "                    'width',\n",
       "                    entry.devicePixelContentBoxSize[0].inlineSize\n",
       "                );\n",
       "                canvas.setAttribute(\n",
       "                    'height',\n",
       "                    entry.devicePixelContentBoxSize[0].blockSize\n",
       "                );\n",
       "            } else {\n",
       "                canvas.setAttribute('width', width * fig.ratio);\n",
       "                canvas.setAttribute('height', height * fig.ratio);\n",
       "            }\n",
       "            /* This rescales the canvas back to display pixels, so that it\n",
       "             * appears correct on HiDPI screens. */\n",
       "            canvas.style.width = width + 'px';\n",
       "            canvas.style.height = height + 'px';\n",
       "\n",
       "            rubberband_canvas.setAttribute('width', width);\n",
       "            rubberband_canvas.setAttribute('height', height);\n",
       "\n",
       "            // And update the size in Python. We ignore the initial 0/0 size\n",
       "            // that occurs as the element is placed into the DOM, which should\n",
       "            // otherwise not happen due to the minimum size styling.\n",
       "            if (fig.ws.readyState == 1 && width != 0 && height != 0) {\n",
       "                fig.request_resize(width, height);\n",
       "            }\n",
       "        }\n",
       "    });\n",
       "    this.resizeObserverInstance.observe(canvas_div);\n",
       "\n",
       "    function on_mouse_event_closure(name) {\n",
       "        /* User Agent sniffing is bad, but WebKit is busted:\n",
       "         * https://bugs.webkit.org/show_bug.cgi?id=144526\n",
       "         * https://bugs.webkit.org/show_bug.cgi?id=181818\n",
       "         * The worst that happens here is that they get an extra browser\n",
       "         * selection when dragging, if this check fails to catch them.\n",
       "         */\n",
       "        var UA = navigator.userAgent;\n",
       "        var isWebKit = /AppleWebKit/.test(UA) && !/Chrome/.test(UA);\n",
       "        if(isWebKit) {\n",
       "            return function (event) {\n",
       "                /* This prevents the web browser from automatically changing to\n",
       "                 * the text insertion cursor when the button is pressed. We\n",
       "                 * want to control all of the cursor setting manually through\n",
       "                 * the 'cursor' event from matplotlib */\n",
       "                event.preventDefault()\n",
       "                return fig.mouse_event(event, name);\n",
       "            };\n",
       "        } else {\n",
       "            return function (event) {\n",
       "                return fig.mouse_event(event, name);\n",
       "            };\n",
       "        }\n",
       "    }\n",
       "\n",
       "    canvas_div.addEventListener(\n",
       "        'mousedown',\n",
       "        on_mouse_event_closure('button_press')\n",
       "    );\n",
       "    canvas_div.addEventListener(\n",
       "        'mouseup',\n",
       "        on_mouse_event_closure('button_release')\n",
       "    );\n",
       "    canvas_div.addEventListener(\n",
       "        'dblclick',\n",
       "        on_mouse_event_closure('dblclick')\n",
       "    );\n",
       "    // Throttle sequential mouse events to 1 every 20ms.\n",
       "    canvas_div.addEventListener(\n",
       "        'mousemove',\n",
       "        on_mouse_event_closure('motion_notify')\n",
       "    );\n",
       "\n",
       "    canvas_div.addEventListener(\n",
       "        'mouseenter',\n",
       "        on_mouse_event_closure('figure_enter')\n",
       "    );\n",
       "    canvas_div.addEventListener(\n",
       "        'mouseleave',\n",
       "        on_mouse_event_closure('figure_leave')\n",
       "    );\n",
       "\n",
       "    canvas_div.addEventListener('wheel', function (event) {\n",
       "        if (event.deltaY < 0) {\n",
       "            event.step = 1;\n",
       "        } else {\n",
       "            event.step = -1;\n",
       "        }\n",
       "        on_mouse_event_closure('scroll')(event);\n",
       "    });\n",
       "\n",
       "    canvas_div.appendChild(canvas);\n",
       "    canvas_div.appendChild(rubberband_canvas);\n",
       "\n",
       "    this.rubberband_context = rubberband_canvas.getContext('2d');\n",
       "    this.rubberband_context.strokeStyle = '#000000';\n",
       "\n",
       "    this._resize_canvas = function (width, height, forward) {\n",
       "        if (forward) {\n",
       "            canvas_div.style.width = width + 'px';\n",
       "            canvas_div.style.height = height + 'px';\n",
       "        }\n",
       "    };\n",
       "\n",
       "    // Disable right mouse context menu.\n",
       "    canvas_div.addEventListener('contextmenu', function (_e) {\n",
       "        event.preventDefault();\n",
       "        return false;\n",
       "    });\n",
       "\n",
       "    function set_focus() {\n",
       "        canvas.focus();\n",
       "        canvas_div.focus();\n",
       "    }\n",
       "\n",
       "    window.setTimeout(set_focus, 100);\n",
       "};\n",
       "\n",
       "mpl.figure.prototype._init_toolbar = function () {\n",
       "    var fig = this;\n",
       "\n",
       "    var toolbar = document.createElement('div');\n",
       "    toolbar.classList = 'mpl-toolbar';\n",
       "    this.root.appendChild(toolbar);\n",
       "\n",
       "    function on_click_closure(name) {\n",
       "        return function (_event) {\n",
       "            return fig.toolbar_button_onclick(name);\n",
       "        };\n",
       "    }\n",
       "\n",
       "    function on_mouseover_closure(tooltip) {\n",
       "        return function (event) {\n",
       "            if (!event.currentTarget.disabled) {\n",
       "                return fig.toolbar_button_onmouseover(tooltip);\n",
       "            }\n",
       "        };\n",
       "    }\n",
       "\n",
       "    fig.buttons = {};\n",
       "    var buttonGroup = document.createElement('div');\n",
       "    buttonGroup.classList = 'mpl-button-group';\n",
       "    for (var toolbar_ind in mpl.toolbar_items) {\n",
       "        var name = mpl.toolbar_items[toolbar_ind][0];\n",
       "        var tooltip = mpl.toolbar_items[toolbar_ind][1];\n",
       "        var image = mpl.toolbar_items[toolbar_ind][2];\n",
       "        var method_name = mpl.toolbar_items[toolbar_ind][3];\n",
       "\n",
       "        if (!name) {\n",
       "            /* Instead of a spacer, we start a new button group. */\n",
       "            if (buttonGroup.hasChildNodes()) {\n",
       "                toolbar.appendChild(buttonGroup);\n",
       "            }\n",
       "            buttonGroup = document.createElement('div');\n",
       "            buttonGroup.classList = 'mpl-button-group';\n",
       "            continue;\n",
       "        }\n",
       "\n",
       "        var button = (fig.buttons[name] = document.createElement('button'));\n",
       "        button.classList = 'mpl-widget';\n",
       "        button.setAttribute('role', 'button');\n",
       "        button.setAttribute('aria-disabled', 'false');\n",
       "        button.addEventListener('click', on_click_closure(method_name));\n",
       "        button.addEventListener('mouseover', on_mouseover_closure(tooltip));\n",
       "\n",
       "        var icon_img = document.createElement('img');\n",
       "        icon_img.src = '_images/' + image + '.png';\n",
       "        icon_img.srcset = '_images/' + image + '_large.png 2x';\n",
       "        icon_img.alt = tooltip;\n",
       "        button.appendChild(icon_img);\n",
       "\n",
       "        buttonGroup.appendChild(button);\n",
       "    }\n",
       "\n",
       "    if (buttonGroup.hasChildNodes()) {\n",
       "        toolbar.appendChild(buttonGroup);\n",
       "    }\n",
       "\n",
       "    var fmt_picker = document.createElement('select');\n",
       "    fmt_picker.classList = 'mpl-widget';\n",
       "    toolbar.appendChild(fmt_picker);\n",
       "    this.format_dropdown = fmt_picker;\n",
       "\n",
       "    for (var ind in mpl.extensions) {\n",
       "        var fmt = mpl.extensions[ind];\n",
       "        var option = document.createElement('option');\n",
       "        option.selected = fmt === mpl.default_extension;\n",
       "        option.innerHTML = fmt;\n",
       "        fmt_picker.appendChild(option);\n",
       "    }\n",
       "\n",
       "    var status_bar = document.createElement('span');\n",
       "    status_bar.classList = 'mpl-message';\n",
       "    toolbar.appendChild(status_bar);\n",
       "    this.message = status_bar;\n",
       "};\n",
       "\n",
       "mpl.figure.prototype.request_resize = function (x_pixels, y_pixels) {\n",
       "    // Request matplotlib to resize the figure. Matplotlib will then trigger a resize in the client,\n",
       "    // which will in turn request a refresh of the image.\n",
       "    this.send_message('resize', { width: x_pixels, height: y_pixels });\n",
       "};\n",
       "\n",
       "mpl.figure.prototype.send_message = function (type, properties) {\n",
       "    properties['type'] = type;\n",
       "    properties['figure_id'] = this.id;\n",
       "    this.ws.send(JSON.stringify(properties));\n",
       "};\n",
       "\n",
       "mpl.figure.prototype.send_draw_message = function () {\n",
       "    if (!this.waiting) {\n",
       "        this.waiting = true;\n",
       "        this.ws.send(JSON.stringify({ type: 'draw', figure_id: this.id }));\n",
       "    }\n",
       "};\n",
       "\n",
       "mpl.figure.prototype.handle_save = function (fig, _msg) {\n",
       "    var format_dropdown = fig.format_dropdown;\n",
       "    var format = format_dropdown.options[format_dropdown.selectedIndex].value;\n",
       "    fig.ondownload(fig, format);\n",
       "};\n",
       "\n",
       "mpl.figure.prototype.handle_resize = function (fig, msg) {\n",
       "    var size = msg['size'];\n",
       "    if (size[0] !== fig.canvas.width || size[1] !== fig.canvas.height) {\n",
       "        fig._resize_canvas(size[0], size[1], msg['forward']);\n",
       "        fig.send_message('refresh', {});\n",
       "    }\n",
       "};\n",
       "\n",
       "mpl.figure.prototype.handle_rubberband = function (fig, msg) {\n",
       "    var x0 = msg['x0'] / fig.ratio;\n",
       "    var y0 = (fig.canvas.height - msg['y0']) / fig.ratio;\n",
       "    var x1 = msg['x1'] / fig.ratio;\n",
       "    var y1 = (fig.canvas.height - msg['y1']) / fig.ratio;\n",
       "    x0 = Math.floor(x0) + 0.5;\n",
       "    y0 = Math.floor(y0) + 0.5;\n",
       "    x1 = Math.floor(x1) + 0.5;\n",
       "    y1 = Math.floor(y1) + 0.5;\n",
       "    var min_x = Math.min(x0, x1);\n",
       "    var min_y = Math.min(y0, y1);\n",
       "    var width = Math.abs(x1 - x0);\n",
       "    var height = Math.abs(y1 - y0);\n",
       "\n",
       "    fig.rubberband_context.clearRect(\n",
       "        0,\n",
       "        0,\n",
       "        fig.canvas.width / fig.ratio,\n",
       "        fig.canvas.height / fig.ratio\n",
       "    );\n",
       "\n",
       "    fig.rubberband_context.strokeRect(min_x, min_y, width, height);\n",
       "};\n",
       "\n",
       "mpl.figure.prototype.handle_figure_label = function (fig, msg) {\n",
       "    // Updates the figure title.\n",
       "    fig.header.textContent = msg['label'];\n",
       "};\n",
       "\n",
       "mpl.figure.prototype.handle_cursor = function (fig, msg) {\n",
       "    fig.canvas_div.style.cursor = msg['cursor'];\n",
       "};\n",
       "\n",
       "mpl.figure.prototype.handle_message = function (fig, msg) {\n",
       "    fig.message.textContent = msg['message'];\n",
       "};\n",
       "\n",
       "mpl.figure.prototype.handle_draw = function (fig, _msg) {\n",
       "    // Request the server to send over a new figure.\n",
       "    fig.send_draw_message();\n",
       "};\n",
       "\n",
       "mpl.figure.prototype.handle_image_mode = function (fig, msg) {\n",
       "    fig.image_mode = msg['mode'];\n",
       "};\n",
       "\n",
       "mpl.figure.prototype.handle_history_buttons = function (fig, msg) {\n",
       "    for (var key in msg) {\n",
       "        if (!(key in fig.buttons)) {\n",
       "            continue;\n",
       "        }\n",
       "        fig.buttons[key].disabled = !msg[key];\n",
       "        fig.buttons[key].setAttribute('aria-disabled', !msg[key]);\n",
       "    }\n",
       "};\n",
       "\n",
       "mpl.figure.prototype.handle_navigate_mode = function (fig, msg) {\n",
       "    if (msg['mode'] === 'PAN') {\n",
       "        fig.buttons['Pan'].classList.add('active');\n",
       "        fig.buttons['Zoom'].classList.remove('active');\n",
       "    } else if (msg['mode'] === 'ZOOM') {\n",
       "        fig.buttons['Pan'].classList.remove('active');\n",
       "        fig.buttons['Zoom'].classList.add('active');\n",
       "    } else {\n",
       "        fig.buttons['Pan'].classList.remove('active');\n",
       "        fig.buttons['Zoom'].classList.remove('active');\n",
       "    }\n",
       "};\n",
       "\n",
       "mpl.figure.prototype.updated_canvas_event = function () {\n",
       "    // Called whenever the canvas gets updated.\n",
       "    this.send_message('ack', {});\n",
       "};\n",
       "\n",
       "// A function to construct a web socket function for onmessage handling.\n",
       "// Called in the figure constructor.\n",
       "mpl.figure.prototype._make_on_message_function = function (fig) {\n",
       "    return function socket_on_message(evt) {\n",
       "        if (evt.data instanceof Blob) {\n",
       "            var img = evt.data;\n",
       "            if (img.type !== 'image/png') {\n",
       "                /* FIXME: We get \"Resource interpreted as Image but\n",
       "                 * transferred with MIME type text/plain:\" errors on\n",
       "                 * Chrome.  But how to set the MIME type?  It doesn't seem\n",
       "                 * to be part of the websocket stream */\n",
       "                img.type = 'image/png';\n",
       "            }\n",
       "\n",
       "            /* Free the memory for the previous frames */\n",
       "            if (fig.imageObj.src) {\n",
       "                (window.URL || window.webkitURL).revokeObjectURL(\n",
       "                    fig.imageObj.src\n",
       "                );\n",
       "            }\n",
       "\n",
       "            fig.imageObj.src = (window.URL || window.webkitURL).createObjectURL(\n",
       "                img\n",
       "            );\n",
       "            fig.updated_canvas_event();\n",
       "            fig.waiting = false;\n",
       "            return;\n",
       "        } else if (\n",
       "            typeof evt.data === 'string' &&\n",
       "            evt.data.slice(0, 21) === 'data:image/png;base64'\n",
       "        ) {\n",
       "            fig.imageObj.src = evt.data;\n",
       "            fig.updated_canvas_event();\n",
       "            fig.waiting = false;\n",
       "            return;\n",
       "        }\n",
       "\n",
       "        var msg = JSON.parse(evt.data);\n",
       "        var msg_type = msg['type'];\n",
       "\n",
       "        // Call the  \"handle_{type}\" callback, which takes\n",
       "        // the figure and JSON message as its only arguments.\n",
       "        try {\n",
       "            var callback = fig['handle_' + msg_type];\n",
       "        } catch (e) {\n",
       "            console.log(\n",
       "                \"No handler for the '\" + msg_type + \"' message type: \",\n",
       "                msg\n",
       "            );\n",
       "            return;\n",
       "        }\n",
       "\n",
       "        if (callback) {\n",
       "            try {\n",
       "                // console.log(\"Handling '\" + msg_type + \"' message: \", msg);\n",
       "                callback(fig, msg);\n",
       "            } catch (e) {\n",
       "                console.log(\n",
       "                    \"Exception inside the 'handler_\" + msg_type + \"' callback:\",\n",
       "                    e,\n",
       "                    e.stack,\n",
       "                    msg\n",
       "                );\n",
       "            }\n",
       "        }\n",
       "    };\n",
       "};\n",
       "\n",
       "function getModifiers(event) {\n",
       "    var mods = [];\n",
       "    if (event.ctrlKey) {\n",
       "        mods.push('ctrl');\n",
       "    }\n",
       "    if (event.altKey) {\n",
       "        mods.push('alt');\n",
       "    }\n",
       "    if (event.shiftKey) {\n",
       "        mods.push('shift');\n",
       "    }\n",
       "    if (event.metaKey) {\n",
       "        mods.push('meta');\n",
       "    }\n",
       "    return mods;\n",
       "}\n",
       "\n",
       "/*\n",
       " * return a copy of an object with only non-object keys\n",
       " * we need this to avoid circular references\n",
       " * https://stackoverflow.com/a/24161582/3208463\n",
       " */\n",
       "function simpleKeys(original) {\n",
       "    return Object.keys(original).reduce(function (obj, key) {\n",
       "        if (typeof original[key] !== 'object') {\n",
       "            obj[key] = original[key];\n",
       "        }\n",
       "        return obj;\n",
       "    }, {});\n",
       "}\n",
       "\n",
       "mpl.figure.prototype.mouse_event = function (event, name) {\n",
       "    if (name === 'button_press') {\n",
       "        this.canvas.focus();\n",
       "        this.canvas_div.focus();\n",
       "    }\n",
       "\n",
       "    // from https://stackoverflow.com/q/1114465\n",
       "    var boundingRect = this.canvas.getBoundingClientRect();\n",
       "    var x = (event.clientX - boundingRect.left) * this.ratio;\n",
       "    var y = (event.clientY - boundingRect.top) * this.ratio;\n",
       "\n",
       "    this.send_message(name, {\n",
       "        x: x,\n",
       "        y: y,\n",
       "        button: event.button,\n",
       "        step: event.step,\n",
       "        modifiers: getModifiers(event),\n",
       "        guiEvent: simpleKeys(event),\n",
       "    });\n",
       "\n",
       "    return false;\n",
       "};\n",
       "\n",
       "mpl.figure.prototype._key_event_extra = function (_event, _name) {\n",
       "    // Handle any extra behaviour associated with a key event\n",
       "};\n",
       "\n",
       "mpl.figure.prototype.key_event = function (event, name) {\n",
       "    // Prevent repeat events\n",
       "    if (name === 'key_press') {\n",
       "        if (event.key === this._key) {\n",
       "            return;\n",
       "        } else {\n",
       "            this._key = event.key;\n",
       "        }\n",
       "    }\n",
       "    if (name === 'key_release') {\n",
       "        this._key = null;\n",
       "    }\n",
       "\n",
       "    var value = '';\n",
       "    if (event.ctrlKey && event.key !== 'Control') {\n",
       "        value += 'ctrl+';\n",
       "    }\n",
       "    else if (event.altKey && event.key !== 'Alt') {\n",
       "        value += 'alt+';\n",
       "    }\n",
       "    else if (event.shiftKey && event.key !== 'Shift') {\n",
       "        value += 'shift+';\n",
       "    }\n",
       "\n",
       "    value += 'k' + event.key;\n",
       "\n",
       "    this._key_event_extra(event, name);\n",
       "\n",
       "    this.send_message(name, { key: value, guiEvent: simpleKeys(event) });\n",
       "    return false;\n",
       "};\n",
       "\n",
       "mpl.figure.prototype.toolbar_button_onclick = function (name) {\n",
       "    if (name === 'download') {\n",
       "        this.handle_save(this, null);\n",
       "    } else {\n",
       "        this.send_message('toolbar_button', { name: name });\n",
       "    }\n",
       "};\n",
       "\n",
       "mpl.figure.prototype.toolbar_button_onmouseover = function (tooltip) {\n",
       "    this.message.textContent = tooltip;\n",
       "};\n",
       "\n",
       "///////////////// REMAINING CONTENT GENERATED BY embed_js.py /////////////////\n",
       "// prettier-ignore\n",
       "var _JSXTOOLS_RESIZE_OBSERVER=function(A){var t,i=new WeakMap,n=new WeakMap,a=new WeakMap,r=new WeakMap,o=new Set;function s(e){if(!(this instanceof s))throw new TypeError(\"Constructor requires 'new' operator\");i.set(this,e)}function h(){throw new TypeError(\"Function is not a constructor\")}function c(e,t,i,n){e=0 in arguments?Number(arguments[0]):0,t=1 in arguments?Number(arguments[1]):0,i=2 in arguments?Number(arguments[2]):0,n=3 in arguments?Number(arguments[3]):0,this.right=(this.x=this.left=e)+(this.width=i),this.bottom=(this.y=this.top=t)+(this.height=n),Object.freeze(this)}function d(){t=requestAnimationFrame(d);var s=new WeakMap,p=new Set;o.forEach((function(t){r.get(t).forEach((function(i){var r=t instanceof window.SVGElement,o=a.get(t),d=r?0:parseFloat(o.paddingTop),f=r?0:parseFloat(o.paddingRight),l=r?0:parseFloat(o.paddingBottom),u=r?0:parseFloat(o.paddingLeft),g=r?0:parseFloat(o.borderTopWidth),m=r?0:parseFloat(o.borderRightWidth),w=r?0:parseFloat(o.borderBottomWidth),b=u+f,F=d+l,v=(r?0:parseFloat(o.borderLeftWidth))+m,W=g+w,y=r?0:t.offsetHeight-W-t.clientHeight,E=r?0:t.offsetWidth-v-t.clientWidth,R=b+v,z=F+W,M=r?t.width:parseFloat(o.width)-R-E,O=r?t.height:parseFloat(o.height)-z-y;if(n.has(t)){var k=n.get(t);if(k[0]===M&&k[1]===O)return}n.set(t,[M,O]);var S=Object.create(h.prototype);S.target=t,S.contentRect=new c(u,d,M,O),s.has(i)||(s.set(i,[]),p.add(i)),s.get(i).push(S)}))})),p.forEach((function(e){i.get(e).call(e,s.get(e),e)}))}return s.prototype.observe=function(i){if(i instanceof window.Element){r.has(i)||(r.set(i,new Set),o.add(i),a.set(i,window.getComputedStyle(i)));var n=r.get(i);n.has(this)||n.add(this),cancelAnimationFrame(t),t=requestAnimationFrame(d)}},s.prototype.unobserve=function(i){if(i instanceof window.Element&&r.has(i)){var n=r.get(i);n.has(this)&&(n.delete(this),n.size||(r.delete(i),o.delete(i))),n.size||r.delete(i),o.size||cancelAnimationFrame(t)}},A.DOMRectReadOnly=c,A.ResizeObserver=s,A.ResizeObserverEntry=h,A}; // eslint-disable-line\n",
       "mpl.toolbar_items = [[\"Home\", \"Reset original view\", \"fa fa-home\", \"home\"], [\"Back\", \"Back to previous view\", \"fa fa-arrow-left\", \"back\"], [\"Forward\", \"Forward to next view\", \"fa fa-arrow-right\", \"forward\"], [\"\", \"\", \"\", \"\"], [\"Pan\", \"Left button pans, Right button zooms\\nx/y fixes axis, CTRL fixes aspect\", \"fa fa-arrows\", \"pan\"], [\"Zoom\", \"Zoom to rectangle\\nx/y fixes axis\", \"fa fa-square-o\", \"zoom\"], [\"\", \"\", \"\", \"\"], [\"Download\", \"Download plot\", \"fa fa-floppy-o\", \"download\"]];\n",
       "\n",
       "mpl.extensions = [\"eps\", \"jpeg\", \"pgf\", \"pdf\", \"png\", \"ps\", \"raw\", \"svg\", \"tif\", \"webp\"];\n",
       "\n",
       "mpl.default_extension = \"png\";/* global mpl */\n",
       "\n",
       "var comm_websocket_adapter = function (comm) {\n",
       "    // Create a \"websocket\"-like object which calls the given IPython comm\n",
       "    // object with the appropriate methods. Currently this is a non binary\n",
       "    // socket, so there is still some room for performance tuning.\n",
       "    var ws = {};\n",
       "\n",
       "    ws.binaryType = comm.kernel.ws.binaryType;\n",
       "    ws.readyState = comm.kernel.ws.readyState;\n",
       "    function updateReadyState(_event) {\n",
       "        if (comm.kernel.ws) {\n",
       "            ws.readyState = comm.kernel.ws.readyState;\n",
       "        } else {\n",
       "            ws.readyState = 3; // Closed state.\n",
       "        }\n",
       "    }\n",
       "    comm.kernel.ws.addEventListener('open', updateReadyState);\n",
       "    comm.kernel.ws.addEventListener('close', updateReadyState);\n",
       "    comm.kernel.ws.addEventListener('error', updateReadyState);\n",
       "\n",
       "    ws.close = function () {\n",
       "        comm.close();\n",
       "    };\n",
       "    ws.send = function (m) {\n",
       "        //console.log('sending', m);\n",
       "        comm.send(m);\n",
       "    };\n",
       "    // Register the callback with on_msg.\n",
       "    comm.on_msg(function (msg) {\n",
       "        //console.log('receiving', msg['content']['data'], msg);\n",
       "        var data = msg['content']['data'];\n",
       "        if (data['blob'] !== undefined) {\n",
       "            data = {\n",
       "                data: new Blob(msg['buffers'], { type: data['blob'] }),\n",
       "            };\n",
       "        }\n",
       "        // Pass the mpl event to the overridden (by mpl) onmessage function.\n",
       "        ws.onmessage(data);\n",
       "    });\n",
       "    return ws;\n",
       "};\n",
       "\n",
       "mpl.mpl_figure_comm = function (comm, msg) {\n",
       "    // This is the function which gets called when the mpl process\n",
       "    // starts-up an IPython Comm through the \"matplotlib\" channel.\n",
       "\n",
       "    var id = msg.content.data.id;\n",
       "    // Get hold of the div created by the display call when the Comm\n",
       "    // socket was opened in Python.\n",
       "    var element = document.getElementById(id);\n",
       "    var ws_proxy = comm_websocket_adapter(comm);\n",
       "\n",
       "    function ondownload(figure, _format) {\n",
       "        window.open(figure.canvas.toDataURL());\n",
       "    }\n",
       "\n",
       "    var fig = new mpl.figure(id, ws_proxy, ondownload, element);\n",
       "\n",
       "    // Call onopen now - mpl needs it, as it is assuming we've passed it a real\n",
       "    // web socket which is closed, not our websocket->open comm proxy.\n",
       "    ws_proxy.onopen();\n",
       "\n",
       "    fig.parent_element = element;\n",
       "    fig.cell_info = mpl.find_output_cell(\"<div id='\" + id + \"'></div>\");\n",
       "    if (!fig.cell_info) {\n",
       "        console.error('Failed to find cell for figure', id, fig);\n",
       "        return;\n",
       "    }\n",
       "    fig.cell_info[0].output_area.element.on(\n",
       "        'cleared',\n",
       "        { fig: fig },\n",
       "        fig._remove_fig_handler\n",
       "    );\n",
       "};\n",
       "\n",
       "mpl.figure.prototype.handle_close = function (fig, msg) {\n",
       "    var width = fig.canvas.width / fig.ratio;\n",
       "    fig.cell_info[0].output_area.element.off(\n",
       "        'cleared',\n",
       "        fig._remove_fig_handler\n",
       "    );\n",
       "    fig.resizeObserverInstance.unobserve(fig.canvas_div);\n",
       "\n",
       "    // Update the output cell to use the data from the current canvas.\n",
       "    fig.push_to_output();\n",
       "    var dataURL = fig.canvas.toDataURL();\n",
       "    // Re-enable the keyboard manager in IPython - without this line, in FF,\n",
       "    // the notebook keyboard shortcuts fail.\n",
       "    IPython.keyboard_manager.enable();\n",
       "    fig.parent_element.innerHTML =\n",
       "        '<img src=\"' + dataURL + '\" width=\"' + width + '\">';\n",
       "    fig.close_ws(fig, msg);\n",
       "};\n",
       "\n",
       "mpl.figure.prototype.close_ws = function (fig, msg) {\n",
       "    fig.send_message('closing', msg);\n",
       "    // fig.ws.close()\n",
       "};\n",
       "\n",
       "mpl.figure.prototype.push_to_output = function (_remove_interactive) {\n",
       "    // Turn the data on the canvas into data in the output cell.\n",
       "    var width = this.canvas.width / this.ratio;\n",
       "    var dataURL = this.canvas.toDataURL();\n",
       "    this.cell_info[1]['text/html'] =\n",
       "        '<img src=\"' + dataURL + '\" width=\"' + width + '\">';\n",
       "};\n",
       "\n",
       "mpl.figure.prototype.updated_canvas_event = function () {\n",
       "    // Tell IPython that the notebook contents must change.\n",
       "    IPython.notebook.set_dirty(true);\n",
       "    this.send_message('ack', {});\n",
       "    var fig = this;\n",
       "    // Wait a second, then push the new image to the DOM so\n",
       "    // that it is saved nicely (might be nice to debounce this).\n",
       "    setTimeout(function () {\n",
       "        fig.push_to_output();\n",
       "    }, 1000);\n",
       "};\n",
       "\n",
       "mpl.figure.prototype._init_toolbar = function () {\n",
       "    var fig = this;\n",
       "\n",
       "    var toolbar = document.createElement('div');\n",
       "    toolbar.classList = 'btn-toolbar';\n",
       "    this.root.appendChild(toolbar);\n",
       "\n",
       "    function on_click_closure(name) {\n",
       "        return function (_event) {\n",
       "            return fig.toolbar_button_onclick(name);\n",
       "        };\n",
       "    }\n",
       "\n",
       "    function on_mouseover_closure(tooltip) {\n",
       "        return function (event) {\n",
       "            if (!event.currentTarget.disabled) {\n",
       "                return fig.toolbar_button_onmouseover(tooltip);\n",
       "            }\n",
       "        };\n",
       "    }\n",
       "\n",
       "    fig.buttons = {};\n",
       "    var buttonGroup = document.createElement('div');\n",
       "    buttonGroup.classList = 'btn-group';\n",
       "    var button;\n",
       "    for (var toolbar_ind in mpl.toolbar_items) {\n",
       "        var name = mpl.toolbar_items[toolbar_ind][0];\n",
       "        var tooltip = mpl.toolbar_items[toolbar_ind][1];\n",
       "        var image = mpl.toolbar_items[toolbar_ind][2];\n",
       "        var method_name = mpl.toolbar_items[toolbar_ind][3];\n",
       "\n",
       "        if (!name) {\n",
       "            /* Instead of a spacer, we start a new button group. */\n",
       "            if (buttonGroup.hasChildNodes()) {\n",
       "                toolbar.appendChild(buttonGroup);\n",
       "            }\n",
       "            buttonGroup = document.createElement('div');\n",
       "            buttonGroup.classList = 'btn-group';\n",
       "            continue;\n",
       "        }\n",
       "\n",
       "        button = fig.buttons[name] = document.createElement('button');\n",
       "        button.classList = 'btn btn-default';\n",
       "        button.href = '#';\n",
       "        button.title = name;\n",
       "        button.innerHTML = '<i class=\"fa ' + image + ' fa-lg\"></i>';\n",
       "        button.addEventListener('click', on_click_closure(method_name));\n",
       "        button.addEventListener('mouseover', on_mouseover_closure(tooltip));\n",
       "        buttonGroup.appendChild(button);\n",
       "    }\n",
       "\n",
       "    if (buttonGroup.hasChildNodes()) {\n",
       "        toolbar.appendChild(buttonGroup);\n",
       "    }\n",
       "\n",
       "    // Add the status bar.\n",
       "    var status_bar = document.createElement('span');\n",
       "    status_bar.classList = 'mpl-message pull-right';\n",
       "    toolbar.appendChild(status_bar);\n",
       "    this.message = status_bar;\n",
       "\n",
       "    // Add the close button to the window.\n",
       "    var buttongrp = document.createElement('div');\n",
       "    buttongrp.classList = 'btn-group inline pull-right';\n",
       "    button = document.createElement('button');\n",
       "    button.classList = 'btn btn-mini btn-primary';\n",
       "    button.href = '#';\n",
       "    button.title = 'Stop Interaction';\n",
       "    button.innerHTML = '<i class=\"fa fa-power-off icon-remove icon-large\"></i>';\n",
       "    button.addEventListener('click', function (_evt) {\n",
       "        fig.handle_close(fig, {});\n",
       "    });\n",
       "    button.addEventListener(\n",
       "        'mouseover',\n",
       "        on_mouseover_closure('Stop Interaction')\n",
       "    );\n",
       "    buttongrp.appendChild(button);\n",
       "    var titlebar = this.root.querySelector('.ui-dialog-titlebar');\n",
       "    titlebar.insertBefore(buttongrp, titlebar.firstChild);\n",
       "};\n",
       "\n",
       "mpl.figure.prototype._remove_fig_handler = function (event) {\n",
       "    var fig = event.data.fig;\n",
       "    if (event.target !== this) {\n",
       "        // Ignore bubbled events from children.\n",
       "        return;\n",
       "    }\n",
       "    fig.close_ws(fig, {});\n",
       "};\n",
       "\n",
       "mpl.figure.prototype._root_extra_style = function (el) {\n",
       "    el.style.boxSizing = 'content-box'; // override notebook setting of border-box.\n",
       "};\n",
       "\n",
       "mpl.figure.prototype._canvas_extra_style = function (el) {\n",
       "    // this is important to make the div 'focusable\n",
       "    el.setAttribute('tabindex', 0);\n",
       "    // reach out to IPython and tell the keyboard manager to turn it's self\n",
       "    // off when our div gets focus\n",
       "\n",
       "    // location in version 3\n",
       "    if (IPython.notebook.keyboard_manager) {\n",
       "        IPython.notebook.keyboard_manager.register_events(el);\n",
       "    } else {\n",
       "        // location in version 2\n",
       "        IPython.keyboard_manager.register_events(el);\n",
       "    }\n",
       "};\n",
       "\n",
       "mpl.figure.prototype._key_event_extra = function (event, _name) {\n",
       "    // Check for shift+enter\n",
       "    if (event.shiftKey && event.which === 13) {\n",
       "        this.canvas_div.blur();\n",
       "        // select the cell after this one\n",
       "        var index = IPython.notebook.find_cell_index(this.cell_info[0]);\n",
       "        IPython.notebook.select(index + 1);\n",
       "    }\n",
       "};\n",
       "\n",
       "mpl.figure.prototype.handle_save = function (fig, _msg) {\n",
       "    fig.ondownload(fig, null);\n",
       "};\n",
       "\n",
       "mpl.find_output_cell = function (html_output) {\n",
       "    // Return the cell and output element which can be found *uniquely* in the notebook.\n",
       "    // Note - this is a bit hacky, but it is done because the \"notebook_saving.Notebook\"\n",
       "    // IPython event is triggered only after the cells have been serialised, which for\n",
       "    // our purposes (turning an active figure into a static one), is too late.\n",
       "    var cells = IPython.notebook.get_cells();\n",
       "    var ncells = cells.length;\n",
       "    for (var i = 0; i < ncells; i++) {\n",
       "        var cell = cells[i];\n",
       "        if (cell.cell_type === 'code') {\n",
       "            for (var j = 0; j < cell.output_area.outputs.length; j++) {\n",
       "                var data = cell.output_area.outputs[j];\n",
       "                if (data.data) {\n",
       "                    // IPython >= 3 moved mimebundle to data attribute of output\n",
       "                    data = data.data;\n",
       "                }\n",
       "                if (data['text/html'] === html_output) {\n",
       "                    return [cell, data, j];\n",
       "                }\n",
       "            }\n",
       "        }\n",
       "    }\n",
       "};\n",
       "\n",
       "// Register the function which deals with the matplotlib target/channel.\n",
       "// The kernel may be null if the page has been refreshed.\n",
       "if (IPython.notebook.kernel !== null) {\n",
       "    IPython.notebook.kernel.comm_manager.register_target(\n",
       "        'matplotlib',\n",
       "        mpl.mpl_figure_comm\n",
       "    );\n",
       "}\n"
      ],
      "text/plain": [
       "<IPython.core.display.Javascript object>"
      ]
     },
     "metadata": {},
     "output_type": "display_data"
    },
    {
     "data": {
      "text/html": [
       "<img src=\"data:image/png;base64,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\" width=\"640\">"
      ],
      "text/plain": [
       "<IPython.core.display.HTML object>"
      ]
     },
     "metadata": {},
     "output_type": "display_data"
    }
   ],
   "source": [
    "#Get Bid Ask Sizes\n",
    "from dotenv import load_dotenv\n",
    "import matplotlib.pyplot as plt\n",
    "import mplcyberpunk\n",
    "import alpaca_trade_api as api\n",
    "from dotenv import load_dotenv\n",
    "import os\n",
    "import datetime as dt\n",
    "%matplotlib nbagg\n",
    "\n",
    "load_dotenv(dotenv_path='../a.env')\n",
    "\n",
    "FED_API_KEY = os.environ['FED_API_KEY']\n",
    "ALPACA_KEY_ID = os.environ['ALPACA_KEY_ID']\n",
    "ALPACA_SECRETS_KEY = os.environ['ALPACA_SECRETS_ID']\n",
    "\n",
    "\n",
    "plt.style.use('cyberpunk')\n",
    "\n",
    "# Set start and end dates as datetime objects\n",
    "start_date = pd.to_datetime(\"2023-01-01T14:30:00Z\", format=\"%Y-%m-%dT%H:%M:%SZ\")\n",
    "end_date = pd.to_datetime(\"2023-05-05T21:00:00Z\", format=\"%Y-%m-%dT%H:%M:%SZ\")\n",
    "\n",
    "# Convert datetime objects to string format\n",
    "start = start_date.strftime(\"%Y-%m-%dT%H:%M:%SZ\")\n",
    "end = end_date.strftime(\"%Y-%m-%dT%H:%M:%SZ\")\n",
    "\n",
    "#start = \"2022-01-01T14:30:00Z\"\n",
    "#end = \"2023-04-24T21:00:00Z\"\n",
    "\n",
    "\n",
    "def get_bidask_sizes(symbol, start, end, limit):\n",
    "    alpaca = api.REST(ALPACA_KEY_ID, ALPACA_SECRETS_KEY)\n",
    "    get_values = alpaca.get_quotes(symbol, start, end, limit).df\n",
    "    quotes_spread = get_values[\"ask_size\"] - get_values[\"bid_size\"]\n",
    "    plt.plot(get_values.index, quotes_spread)\n",
    "    plt.title(\"Bid-Ask Size Spread of \" + symbol + \" as a Function of Time\")\n",
    "    plt.xlabel(\"Time of Day\")\n",
    "    plt.ylabel(\"Bid-ask Spread Size($USD)\")\n",
    "    plt.show()\n",
    "\n",
    "\n",
    "get_bidask_sizes(\"SDS\", \"2023-02-01T14:30:00Z\", \"2023-04-24T21:00:00Z\", 40)\n"
   ]
  },
  {
   "cell_type": "code",
   "execution_count": 3,
   "id": "b759aa6f",
   "metadata": {},
   "outputs": [
    {
     "data": {
      "application/javascript": [
       "/* Put everything inside the global mpl namespace */\n",
       "/* global mpl */\n",
       "window.mpl = {};\n",
       "\n",
       "mpl.get_websocket_type = function () {\n",
       "    if (typeof WebSocket !== 'undefined') {\n",
       "        return WebSocket;\n",
       "    } else if (typeof MozWebSocket !== 'undefined') {\n",
       "        return MozWebSocket;\n",
       "    } else {\n",
       "        alert(\n",
       "            'Your browser does not have WebSocket support. ' +\n",
       "                'Please try Chrome, Safari or Firefox ≥ 6. ' +\n",
       "                'Firefox 4 and 5 are also supported but you ' +\n",
       "                'have to enable WebSockets in about:config.'\n",
       "        );\n",
       "    }\n",
       "};\n",
       "\n",
       "mpl.figure = function (figure_id, websocket, ondownload, parent_element) {\n",
       "    this.id = figure_id;\n",
       "\n",
       "    this.ws = websocket;\n",
       "\n",
       "    this.supports_binary = this.ws.binaryType !== undefined;\n",
       "\n",
       "    if (!this.supports_binary) {\n",
       "        var warnings = document.getElementById('mpl-warnings');\n",
       "        if (warnings) {\n",
       "            warnings.style.display = 'block';\n",
       "            warnings.textContent =\n",
       "                'This browser does not support binary websocket messages. ' +\n",
       "                'Performance may be slow.';\n",
       "        }\n",
       "    }\n",
       "\n",
       "    this.imageObj = new Image();\n",
       "\n",
       "    this.context = undefined;\n",
       "    this.message = undefined;\n",
       "    this.canvas = undefined;\n",
       "    this.rubberband_canvas = undefined;\n",
       "    this.rubberband_context = undefined;\n",
       "    this.format_dropdown = undefined;\n",
       "\n",
       "    this.image_mode = 'full';\n",
       "\n",
       "    this.root = document.createElement('div');\n",
       "    this.root.setAttribute('style', 'display: inline-block');\n",
       "    this._root_extra_style(this.root);\n",
       "\n",
       "    parent_element.appendChild(this.root);\n",
       "\n",
       "    this._init_header(this);\n",
       "    this._init_canvas(this);\n",
       "    this._init_toolbar(this);\n",
       "\n",
       "    var fig = this;\n",
       "\n",
       "    this.waiting = false;\n",
       "\n",
       "    this.ws.onopen = function () {\n",
       "        fig.send_message('supports_binary', { value: fig.supports_binary });\n",
       "        fig.send_message('send_image_mode', {});\n",
       "        if (fig.ratio !== 1) {\n",
       "            fig.send_message('set_device_pixel_ratio', {\n",
       "                device_pixel_ratio: fig.ratio,\n",
       "            });\n",
       "        }\n",
       "        fig.send_message('refresh', {});\n",
       "    };\n",
       "\n",
       "    this.imageObj.onload = function () {\n",
       "        if (fig.image_mode === 'full') {\n",
       "            // Full images could contain transparency (where diff images\n",
       "            // almost always do), so we need to clear the canvas so that\n",
       "            // there is no ghosting.\n",
       "            fig.context.clearRect(0, 0, fig.canvas.width, fig.canvas.height);\n",
       "        }\n",
       "        fig.context.drawImage(fig.imageObj, 0, 0);\n",
       "    };\n",
       "\n",
       "    this.imageObj.onunload = function () {\n",
       "        fig.ws.close();\n",
       "    };\n",
       "\n",
       "    this.ws.onmessage = this._make_on_message_function(this);\n",
       "\n",
       "    this.ondownload = ondownload;\n",
       "};\n",
       "\n",
       "mpl.figure.prototype._init_header = function () {\n",
       "    var titlebar = document.createElement('div');\n",
       "    titlebar.classList =\n",
       "        'ui-dialog-titlebar ui-widget-header ui-corner-all ui-helper-clearfix';\n",
       "    var titletext = document.createElement('div');\n",
       "    titletext.classList = 'ui-dialog-title';\n",
       "    titletext.setAttribute(\n",
       "        'style',\n",
       "        'width: 100%; text-align: center; padding: 3px;'\n",
       "    );\n",
       "    titlebar.appendChild(titletext);\n",
       "    this.root.appendChild(titlebar);\n",
       "    this.header = titletext;\n",
       "};\n",
       "\n",
       "mpl.figure.prototype._canvas_extra_style = function (_canvas_div) {};\n",
       "\n",
       "mpl.figure.prototype._root_extra_style = function (_canvas_div) {};\n",
       "\n",
       "mpl.figure.prototype._init_canvas = function () {\n",
       "    var fig = this;\n",
       "\n",
       "    var canvas_div = (this.canvas_div = document.createElement('div'));\n",
       "    canvas_div.setAttribute('tabindex', '0');\n",
       "    canvas_div.setAttribute(\n",
       "        'style',\n",
       "        'border: 1px solid #ddd;' +\n",
       "            'box-sizing: content-box;' +\n",
       "            'clear: both;' +\n",
       "            'min-height: 1px;' +\n",
       "            'min-width: 1px;' +\n",
       "            'outline: 0;' +\n",
       "            'overflow: hidden;' +\n",
       "            'position: relative;' +\n",
       "            'resize: both;' +\n",
       "            'z-index: 2;'\n",
       "    );\n",
       "\n",
       "    function on_keyboard_event_closure(name) {\n",
       "        return function (event) {\n",
       "            return fig.key_event(event, name);\n",
       "        };\n",
       "    }\n",
       "\n",
       "    canvas_div.addEventListener(\n",
       "        'keydown',\n",
       "        on_keyboard_event_closure('key_press')\n",
       "    );\n",
       "    canvas_div.addEventListener(\n",
       "        'keyup',\n",
       "        on_keyboard_event_closure('key_release')\n",
       "    );\n",
       "\n",
       "    this._canvas_extra_style(canvas_div);\n",
       "    this.root.appendChild(canvas_div);\n",
       "\n",
       "    var canvas = (this.canvas = document.createElement('canvas'));\n",
       "    canvas.classList.add('mpl-canvas');\n",
       "    canvas.setAttribute(\n",
       "        'style',\n",
       "        'box-sizing: content-box;' +\n",
       "            'pointer-events: none;' +\n",
       "            'position: relative;' +\n",
       "            'z-index: 0;'\n",
       "    );\n",
       "\n",
       "    this.context = canvas.getContext('2d');\n",
       "\n",
       "    var backingStore =\n",
       "        this.context.backingStorePixelRatio ||\n",
       "        this.context.webkitBackingStorePixelRatio ||\n",
       "        this.context.mozBackingStorePixelRatio ||\n",
       "        this.context.msBackingStorePixelRatio ||\n",
       "        this.context.oBackingStorePixelRatio ||\n",
       "        this.context.backingStorePixelRatio ||\n",
       "        1;\n",
       "\n",
       "    this.ratio = (window.devicePixelRatio || 1) / backingStore;\n",
       "\n",
       "    var rubberband_canvas = (this.rubberband_canvas = document.createElement(\n",
       "        'canvas'\n",
       "    ));\n",
       "    rubberband_canvas.setAttribute(\n",
       "        'style',\n",
       "        'box-sizing: content-box;' +\n",
       "            'left: 0;' +\n",
       "            'pointer-events: none;' +\n",
       "            'position: absolute;' +\n",
       "            'top: 0;' +\n",
       "            'z-index: 1;'\n",
       "    );\n",
       "\n",
       "    // Apply a ponyfill if ResizeObserver is not implemented by browser.\n",
       "    if (this.ResizeObserver === undefined) {\n",
       "        if (window.ResizeObserver !== undefined) {\n",
       "            this.ResizeObserver = window.ResizeObserver;\n",
       "        } else {\n",
       "            var obs = _JSXTOOLS_RESIZE_OBSERVER({});\n",
       "            this.ResizeObserver = obs.ResizeObserver;\n",
       "        }\n",
       "    }\n",
       "\n",
       "    this.resizeObserverInstance = new this.ResizeObserver(function (entries) {\n",
       "        var nentries = entries.length;\n",
       "        for (var i = 0; i < nentries; i++) {\n",
       "            var entry = entries[i];\n",
       "            var width, height;\n",
       "            if (entry.contentBoxSize) {\n",
       "                if (entry.contentBoxSize instanceof Array) {\n",
       "                    // Chrome 84 implements new version of spec.\n",
       "                    width = entry.contentBoxSize[0].inlineSize;\n",
       "                    height = entry.contentBoxSize[0].blockSize;\n",
       "                } else {\n",
       "                    // Firefox implements old version of spec.\n",
       "                    width = entry.contentBoxSize.inlineSize;\n",
       "                    height = entry.contentBoxSize.blockSize;\n",
       "                }\n",
       "            } else {\n",
       "                // Chrome <84 implements even older version of spec.\n",
       "                width = entry.contentRect.width;\n",
       "                height = entry.contentRect.height;\n",
       "            }\n",
       "\n",
       "            // Keep the size of the canvas and rubber band canvas in sync with\n",
       "            // the canvas container.\n",
       "            if (entry.devicePixelContentBoxSize) {\n",
       "                // Chrome 84 implements new version of spec.\n",
       "                canvas.setAttribute(\n",
       "                    'width',\n",
       "                    entry.devicePixelContentBoxSize[0].inlineSize\n",
       "                );\n",
       "                canvas.setAttribute(\n",
       "                    'height',\n",
       "                    entry.devicePixelContentBoxSize[0].blockSize\n",
       "                );\n",
       "            } else {\n",
       "                canvas.setAttribute('width', width * fig.ratio);\n",
       "                canvas.setAttribute('height', height * fig.ratio);\n",
       "            }\n",
       "            /* This rescales the canvas back to display pixels, so that it\n",
       "             * appears correct on HiDPI screens. */\n",
       "            canvas.style.width = width + 'px';\n",
       "            canvas.style.height = height + 'px';\n",
       "\n",
       "            rubberband_canvas.setAttribute('width', width);\n",
       "            rubberband_canvas.setAttribute('height', height);\n",
       "\n",
       "            // And update the size in Python. We ignore the initial 0/0 size\n",
       "            // that occurs as the element is placed into the DOM, which should\n",
       "            // otherwise not happen due to the minimum size styling.\n",
       "            if (fig.ws.readyState == 1 && width != 0 && height != 0) {\n",
       "                fig.request_resize(width, height);\n",
       "            }\n",
       "        }\n",
       "    });\n",
       "    this.resizeObserverInstance.observe(canvas_div);\n",
       "\n",
       "    function on_mouse_event_closure(name) {\n",
       "        /* User Agent sniffing is bad, but WebKit is busted:\n",
       "         * https://bugs.webkit.org/show_bug.cgi?id=144526\n",
       "         * https://bugs.webkit.org/show_bug.cgi?id=181818\n",
       "         * The worst that happens here is that they get an extra browser\n",
       "         * selection when dragging, if this check fails to catch them.\n",
       "         */\n",
       "        var UA = navigator.userAgent;\n",
       "        var isWebKit = /AppleWebKit/.test(UA) && !/Chrome/.test(UA);\n",
       "        if(isWebKit) {\n",
       "            return function (event) {\n",
       "                /* This prevents the web browser from automatically changing to\n",
       "                 * the text insertion cursor when the button is pressed. We\n",
       "                 * want to control all of the cursor setting manually through\n",
       "                 * the 'cursor' event from matplotlib */\n",
       "                event.preventDefault()\n",
       "                return fig.mouse_event(event, name);\n",
       "            };\n",
       "        } else {\n",
       "            return function (event) {\n",
       "                return fig.mouse_event(event, name);\n",
       "            };\n",
       "        }\n",
       "    }\n",
       "\n",
       "    canvas_div.addEventListener(\n",
       "        'mousedown',\n",
       "        on_mouse_event_closure('button_press')\n",
       "    );\n",
       "    canvas_div.addEventListener(\n",
       "        'mouseup',\n",
       "        on_mouse_event_closure('button_release')\n",
       "    );\n",
       "    canvas_div.addEventListener(\n",
       "        'dblclick',\n",
       "        on_mouse_event_closure('dblclick')\n",
       "    );\n",
       "    // Throttle sequential mouse events to 1 every 20ms.\n",
       "    canvas_div.addEventListener(\n",
       "        'mousemove',\n",
       "        on_mouse_event_closure('motion_notify')\n",
       "    );\n",
       "\n",
       "    canvas_div.addEventListener(\n",
       "        'mouseenter',\n",
       "        on_mouse_event_closure('figure_enter')\n",
       "    );\n",
       "    canvas_div.addEventListener(\n",
       "        'mouseleave',\n",
       "        on_mouse_event_closure('figure_leave')\n",
       "    );\n",
       "\n",
       "    canvas_div.addEventListener('wheel', function (event) {\n",
       "        if (event.deltaY < 0) {\n",
       "            event.step = 1;\n",
       "        } else {\n",
       "            event.step = -1;\n",
       "        }\n",
       "        on_mouse_event_closure('scroll')(event);\n",
       "    });\n",
       "\n",
       "    canvas_div.appendChild(canvas);\n",
       "    canvas_div.appendChild(rubberband_canvas);\n",
       "\n",
       "    this.rubberband_context = rubberband_canvas.getContext('2d');\n",
       "    this.rubberband_context.strokeStyle = '#000000';\n",
       "\n",
       "    this._resize_canvas = function (width, height, forward) {\n",
       "        if (forward) {\n",
       "            canvas_div.style.width = width + 'px';\n",
       "            canvas_div.style.height = height + 'px';\n",
       "        }\n",
       "    };\n",
       "\n",
       "    // Disable right mouse context menu.\n",
       "    canvas_div.addEventListener('contextmenu', function (_e) {\n",
       "        event.preventDefault();\n",
       "        return false;\n",
       "    });\n",
       "\n",
       "    function set_focus() {\n",
       "        canvas.focus();\n",
       "        canvas_div.focus();\n",
       "    }\n",
       "\n",
       "    window.setTimeout(set_focus, 100);\n",
       "};\n",
       "\n",
       "mpl.figure.prototype._init_toolbar = function () {\n",
       "    var fig = this;\n",
       "\n",
       "    var toolbar = document.createElement('div');\n",
       "    toolbar.classList = 'mpl-toolbar';\n",
       "    this.root.appendChild(toolbar);\n",
       "\n",
       "    function on_click_closure(name) {\n",
       "        return function (_event) {\n",
       "            return fig.toolbar_button_onclick(name);\n",
       "        };\n",
       "    }\n",
       "\n",
       "    function on_mouseover_closure(tooltip) {\n",
       "        return function (event) {\n",
       "            if (!event.currentTarget.disabled) {\n",
       "                return fig.toolbar_button_onmouseover(tooltip);\n",
       "            }\n",
       "        };\n",
       "    }\n",
       "\n",
       "    fig.buttons = {};\n",
       "    var buttonGroup = document.createElement('div');\n",
       "    buttonGroup.classList = 'mpl-button-group';\n",
       "    for (var toolbar_ind in mpl.toolbar_items) {\n",
       "        var name = mpl.toolbar_items[toolbar_ind][0];\n",
       "        var tooltip = mpl.toolbar_items[toolbar_ind][1];\n",
       "        var image = mpl.toolbar_items[toolbar_ind][2];\n",
       "        var method_name = mpl.toolbar_items[toolbar_ind][3];\n",
       "\n",
       "        if (!name) {\n",
       "            /* Instead of a spacer, we start a new button group. */\n",
       "            if (buttonGroup.hasChildNodes()) {\n",
       "                toolbar.appendChild(buttonGroup);\n",
       "            }\n",
       "            buttonGroup = document.createElement('div');\n",
       "            buttonGroup.classList = 'mpl-button-group';\n",
       "            continue;\n",
       "        }\n",
       "\n",
       "        var button = (fig.buttons[name] = document.createElement('button'));\n",
       "        button.classList = 'mpl-widget';\n",
       "        button.setAttribute('role', 'button');\n",
       "        button.setAttribute('aria-disabled', 'false');\n",
       "        button.addEventListener('click', on_click_closure(method_name));\n",
       "        button.addEventListener('mouseover', on_mouseover_closure(tooltip));\n",
       "\n",
       "        var icon_img = document.createElement('img');\n",
       "        icon_img.src = '_images/' + image + '.png';\n",
       "        icon_img.srcset = '_images/' + image + '_large.png 2x';\n",
       "        icon_img.alt = tooltip;\n",
       "        button.appendChild(icon_img);\n",
       "\n",
       "        buttonGroup.appendChild(button);\n",
       "    }\n",
       "\n",
       "    if (buttonGroup.hasChildNodes()) {\n",
       "        toolbar.appendChild(buttonGroup);\n",
       "    }\n",
       "\n",
       "    var fmt_picker = document.createElement('select');\n",
       "    fmt_picker.classList = 'mpl-widget';\n",
       "    toolbar.appendChild(fmt_picker);\n",
       "    this.format_dropdown = fmt_picker;\n",
       "\n",
       "    for (var ind in mpl.extensions) {\n",
       "        var fmt = mpl.extensions[ind];\n",
       "        var option = document.createElement('option');\n",
       "        option.selected = fmt === mpl.default_extension;\n",
       "        option.innerHTML = fmt;\n",
       "        fmt_picker.appendChild(option);\n",
       "    }\n",
       "\n",
       "    var status_bar = document.createElement('span');\n",
       "    status_bar.classList = 'mpl-message';\n",
       "    toolbar.appendChild(status_bar);\n",
       "    this.message = status_bar;\n",
       "};\n",
       "\n",
       "mpl.figure.prototype.request_resize = function (x_pixels, y_pixels) {\n",
       "    // Request matplotlib to resize the figure. Matplotlib will then trigger a resize in the client,\n",
       "    // which will in turn request a refresh of the image.\n",
       "    this.send_message('resize', { width: x_pixels, height: y_pixels });\n",
       "};\n",
       "\n",
       "mpl.figure.prototype.send_message = function (type, properties) {\n",
       "    properties['type'] = type;\n",
       "    properties['figure_id'] = this.id;\n",
       "    this.ws.send(JSON.stringify(properties));\n",
       "};\n",
       "\n",
       "mpl.figure.prototype.send_draw_message = function () {\n",
       "    if (!this.waiting) {\n",
       "        this.waiting = true;\n",
       "        this.ws.send(JSON.stringify({ type: 'draw', figure_id: this.id }));\n",
       "    }\n",
       "};\n",
       "\n",
       "mpl.figure.prototype.handle_save = function (fig, _msg) {\n",
       "    var format_dropdown = fig.format_dropdown;\n",
       "    var format = format_dropdown.options[format_dropdown.selectedIndex].value;\n",
       "    fig.ondownload(fig, format);\n",
       "};\n",
       "\n",
       "mpl.figure.prototype.handle_resize = function (fig, msg) {\n",
       "    var size = msg['size'];\n",
       "    if (size[0] !== fig.canvas.width || size[1] !== fig.canvas.height) {\n",
       "        fig._resize_canvas(size[0], size[1], msg['forward']);\n",
       "        fig.send_message('refresh', {});\n",
       "    }\n",
       "};\n",
       "\n",
       "mpl.figure.prototype.handle_rubberband = function (fig, msg) {\n",
       "    var x0 = msg['x0'] / fig.ratio;\n",
       "    var y0 = (fig.canvas.height - msg['y0']) / fig.ratio;\n",
       "    var x1 = msg['x1'] / fig.ratio;\n",
       "    var y1 = (fig.canvas.height - msg['y1']) / fig.ratio;\n",
       "    x0 = Math.floor(x0) + 0.5;\n",
       "    y0 = Math.floor(y0) + 0.5;\n",
       "    x1 = Math.floor(x1) + 0.5;\n",
       "    y1 = Math.floor(y1) + 0.5;\n",
       "    var min_x = Math.min(x0, x1);\n",
       "    var min_y = Math.min(y0, y1);\n",
       "    var width = Math.abs(x1 - x0);\n",
       "    var height = Math.abs(y1 - y0);\n",
       "\n",
       "    fig.rubberband_context.clearRect(\n",
       "        0,\n",
       "        0,\n",
       "        fig.canvas.width / fig.ratio,\n",
       "        fig.canvas.height / fig.ratio\n",
       "    );\n",
       "\n",
       "    fig.rubberband_context.strokeRect(min_x, min_y, width, height);\n",
       "};\n",
       "\n",
       "mpl.figure.prototype.handle_figure_label = function (fig, msg) {\n",
       "    // Updates the figure title.\n",
       "    fig.header.textContent = msg['label'];\n",
       "};\n",
       "\n",
       "mpl.figure.prototype.handle_cursor = function (fig, msg) {\n",
       "    fig.canvas_div.style.cursor = msg['cursor'];\n",
       "};\n",
       "\n",
       "mpl.figure.prototype.handle_message = function (fig, msg) {\n",
       "    fig.message.textContent = msg['message'];\n",
       "};\n",
       "\n",
       "mpl.figure.prototype.handle_draw = function (fig, _msg) {\n",
       "    // Request the server to send over a new figure.\n",
       "    fig.send_draw_message();\n",
       "};\n",
       "\n",
       "mpl.figure.prototype.handle_image_mode = function (fig, msg) {\n",
       "    fig.image_mode = msg['mode'];\n",
       "};\n",
       "\n",
       "mpl.figure.prototype.handle_history_buttons = function (fig, msg) {\n",
       "    for (var key in msg) {\n",
       "        if (!(key in fig.buttons)) {\n",
       "            continue;\n",
       "        }\n",
       "        fig.buttons[key].disabled = !msg[key];\n",
       "        fig.buttons[key].setAttribute('aria-disabled', !msg[key]);\n",
       "    }\n",
       "};\n",
       "\n",
       "mpl.figure.prototype.handle_navigate_mode = function (fig, msg) {\n",
       "    if (msg['mode'] === 'PAN') {\n",
       "        fig.buttons['Pan'].classList.add('active');\n",
       "        fig.buttons['Zoom'].classList.remove('active');\n",
       "    } else if (msg['mode'] === 'ZOOM') {\n",
       "        fig.buttons['Pan'].classList.remove('active');\n",
       "        fig.buttons['Zoom'].classList.add('active');\n",
       "    } else {\n",
       "        fig.buttons['Pan'].classList.remove('active');\n",
       "        fig.buttons['Zoom'].classList.remove('active');\n",
       "    }\n",
       "};\n",
       "\n",
       "mpl.figure.prototype.updated_canvas_event = function () {\n",
       "    // Called whenever the canvas gets updated.\n",
       "    this.send_message('ack', {});\n",
       "};\n",
       "\n",
       "// A function to construct a web socket function for onmessage handling.\n",
       "// Called in the figure constructor.\n",
       "mpl.figure.prototype._make_on_message_function = function (fig) {\n",
       "    return function socket_on_message(evt) {\n",
       "        if (evt.data instanceof Blob) {\n",
       "            var img = evt.data;\n",
       "            if (img.type !== 'image/png') {\n",
       "                /* FIXME: We get \"Resource interpreted as Image but\n",
       "                 * transferred with MIME type text/plain:\" errors on\n",
       "                 * Chrome.  But how to set the MIME type?  It doesn't seem\n",
       "                 * to be part of the websocket stream */\n",
       "                img.type = 'image/png';\n",
       "            }\n",
       "\n",
       "            /* Free the memory for the previous frames */\n",
       "            if (fig.imageObj.src) {\n",
       "                (window.URL || window.webkitURL).revokeObjectURL(\n",
       "                    fig.imageObj.src\n",
       "                );\n",
       "            }\n",
       "\n",
       "            fig.imageObj.src = (window.URL || window.webkitURL).createObjectURL(\n",
       "                img\n",
       "            );\n",
       "            fig.updated_canvas_event();\n",
       "            fig.waiting = false;\n",
       "            return;\n",
       "        } else if (\n",
       "            typeof evt.data === 'string' &&\n",
       "            evt.data.slice(0, 21) === 'data:image/png;base64'\n",
       "        ) {\n",
       "            fig.imageObj.src = evt.data;\n",
       "            fig.updated_canvas_event();\n",
       "            fig.waiting = false;\n",
       "            return;\n",
       "        }\n",
       "\n",
       "        var msg = JSON.parse(evt.data);\n",
       "        var msg_type = msg['type'];\n",
       "\n",
       "        // Call the  \"handle_{type}\" callback, which takes\n",
       "        // the figure and JSON message as its only arguments.\n",
       "        try {\n",
       "            var callback = fig['handle_' + msg_type];\n",
       "        } catch (e) {\n",
       "            console.log(\n",
       "                \"No handler for the '\" + msg_type + \"' message type: \",\n",
       "                msg\n",
       "            );\n",
       "            return;\n",
       "        }\n",
       "\n",
       "        if (callback) {\n",
       "            try {\n",
       "                // console.log(\"Handling '\" + msg_type + \"' message: \", msg);\n",
       "                callback(fig, msg);\n",
       "            } catch (e) {\n",
       "                console.log(\n",
       "                    \"Exception inside the 'handler_\" + msg_type + \"' callback:\",\n",
       "                    e,\n",
       "                    e.stack,\n",
       "                    msg\n",
       "                );\n",
       "            }\n",
       "        }\n",
       "    };\n",
       "};\n",
       "\n",
       "function getModifiers(event) {\n",
       "    var mods = [];\n",
       "    if (event.ctrlKey) {\n",
       "        mods.push('ctrl');\n",
       "    }\n",
       "    if (event.altKey) {\n",
       "        mods.push('alt');\n",
       "    }\n",
       "    if (event.shiftKey) {\n",
       "        mods.push('shift');\n",
       "    }\n",
       "    if (event.metaKey) {\n",
       "        mods.push('meta');\n",
       "    }\n",
       "    return mods;\n",
       "}\n",
       "\n",
       "/*\n",
       " * return a copy of an object with only non-object keys\n",
       " * we need this to avoid circular references\n",
       " * https://stackoverflow.com/a/24161582/3208463\n",
       " */\n",
       "function simpleKeys(original) {\n",
       "    return Object.keys(original).reduce(function (obj, key) {\n",
       "        if (typeof original[key] !== 'object') {\n",
       "            obj[key] = original[key];\n",
       "        }\n",
       "        return obj;\n",
       "    }, {});\n",
       "}\n",
       "\n",
       "mpl.figure.prototype.mouse_event = function (event, name) {\n",
       "    if (name === 'button_press') {\n",
       "        this.canvas.focus();\n",
       "        this.canvas_div.focus();\n",
       "    }\n",
       "\n",
       "    // from https://stackoverflow.com/q/1114465\n",
       "    var boundingRect = this.canvas.getBoundingClientRect();\n",
       "    var x = (event.clientX - boundingRect.left) * this.ratio;\n",
       "    var y = (event.clientY - boundingRect.top) * this.ratio;\n",
       "\n",
       "    this.send_message(name, {\n",
       "        x: x,\n",
       "        y: y,\n",
       "        button: event.button,\n",
       "        step: event.step,\n",
       "        modifiers: getModifiers(event),\n",
       "        guiEvent: simpleKeys(event),\n",
       "    });\n",
       "\n",
       "    return false;\n",
       "};\n",
       "\n",
       "mpl.figure.prototype._key_event_extra = function (_event, _name) {\n",
       "    // Handle any extra behaviour associated with a key event\n",
       "};\n",
       "\n",
       "mpl.figure.prototype.key_event = function (event, name) {\n",
       "    // Prevent repeat events\n",
       "    if (name === 'key_press') {\n",
       "        if (event.key === this._key) {\n",
       "            return;\n",
       "        } else {\n",
       "            this._key = event.key;\n",
       "        }\n",
       "    }\n",
       "    if (name === 'key_release') {\n",
       "        this._key = null;\n",
       "    }\n",
       "\n",
       "    var value = '';\n",
       "    if (event.ctrlKey && event.key !== 'Control') {\n",
       "        value += 'ctrl+';\n",
       "    }\n",
       "    else if (event.altKey && event.key !== 'Alt') {\n",
       "        value += 'alt+';\n",
       "    }\n",
       "    else if (event.shiftKey && event.key !== 'Shift') {\n",
       "        value += 'shift+';\n",
       "    }\n",
       "\n",
       "    value += 'k' + event.key;\n",
       "\n",
       "    this._key_event_extra(event, name);\n",
       "\n",
       "    this.send_message(name, { key: value, guiEvent: simpleKeys(event) });\n",
       "    return false;\n",
       "};\n",
       "\n",
       "mpl.figure.prototype.toolbar_button_onclick = function (name) {\n",
       "    if (name === 'download') {\n",
       "        this.handle_save(this, null);\n",
       "    } else {\n",
       "        this.send_message('toolbar_button', { name: name });\n",
       "    }\n",
       "};\n",
       "\n",
       "mpl.figure.prototype.toolbar_button_onmouseover = function (tooltip) {\n",
       "    this.message.textContent = tooltip;\n",
       "};\n",
       "\n",
       "///////////////// REMAINING CONTENT GENERATED BY embed_js.py /////////////////\n",
       "// prettier-ignore\n",
       "var _JSXTOOLS_RESIZE_OBSERVER=function(A){var t,i=new WeakMap,n=new WeakMap,a=new WeakMap,r=new WeakMap,o=new Set;function s(e){if(!(this instanceof s))throw new TypeError(\"Constructor requires 'new' operator\");i.set(this,e)}function h(){throw new TypeError(\"Function is not a constructor\")}function c(e,t,i,n){e=0 in arguments?Number(arguments[0]):0,t=1 in arguments?Number(arguments[1]):0,i=2 in arguments?Number(arguments[2]):0,n=3 in arguments?Number(arguments[3]):0,this.right=(this.x=this.left=e)+(this.width=i),this.bottom=(this.y=this.top=t)+(this.height=n),Object.freeze(this)}function d(){t=requestAnimationFrame(d);var s=new WeakMap,p=new Set;o.forEach((function(t){r.get(t).forEach((function(i){var r=t instanceof window.SVGElement,o=a.get(t),d=r?0:parseFloat(o.paddingTop),f=r?0:parseFloat(o.paddingRight),l=r?0:parseFloat(o.paddingBottom),u=r?0:parseFloat(o.paddingLeft),g=r?0:parseFloat(o.borderTopWidth),m=r?0:parseFloat(o.borderRightWidth),w=r?0:parseFloat(o.borderBottomWidth),b=u+f,F=d+l,v=(r?0:parseFloat(o.borderLeftWidth))+m,W=g+w,y=r?0:t.offsetHeight-W-t.clientHeight,E=r?0:t.offsetWidth-v-t.clientWidth,R=b+v,z=F+W,M=r?t.width:parseFloat(o.width)-R-E,O=r?t.height:parseFloat(o.height)-z-y;if(n.has(t)){var k=n.get(t);if(k[0]===M&&k[1]===O)return}n.set(t,[M,O]);var S=Object.create(h.prototype);S.target=t,S.contentRect=new c(u,d,M,O),s.has(i)||(s.set(i,[]),p.add(i)),s.get(i).push(S)}))})),p.forEach((function(e){i.get(e).call(e,s.get(e),e)}))}return s.prototype.observe=function(i){if(i instanceof window.Element){r.has(i)||(r.set(i,new Set),o.add(i),a.set(i,window.getComputedStyle(i)));var n=r.get(i);n.has(this)||n.add(this),cancelAnimationFrame(t),t=requestAnimationFrame(d)}},s.prototype.unobserve=function(i){if(i instanceof window.Element&&r.has(i)){var n=r.get(i);n.has(this)&&(n.delete(this),n.size||(r.delete(i),o.delete(i))),n.size||r.delete(i),o.size||cancelAnimationFrame(t)}},A.DOMRectReadOnly=c,A.ResizeObserver=s,A.ResizeObserverEntry=h,A}; // eslint-disable-line\n",
       "mpl.toolbar_items = [[\"Home\", \"Reset original view\", \"fa fa-home\", \"home\"], [\"Back\", \"Back to previous view\", \"fa fa-arrow-left\", \"back\"], [\"Forward\", \"Forward to next view\", \"fa fa-arrow-right\", \"forward\"], [\"\", \"\", \"\", \"\"], [\"Pan\", \"Left button pans, Right button zooms\\nx/y fixes axis, CTRL fixes aspect\", \"fa fa-arrows\", \"pan\"], [\"Zoom\", \"Zoom to rectangle\\nx/y fixes axis\", \"fa fa-square-o\", \"zoom\"], [\"\", \"\", \"\", \"\"], [\"Download\", \"Download plot\", \"fa fa-floppy-o\", \"download\"]];\n",
       "\n",
       "mpl.extensions = [\"eps\", \"jpeg\", \"pgf\", \"pdf\", \"png\", \"ps\", \"raw\", \"svg\", \"tif\", \"webp\"];\n",
       "\n",
       "mpl.default_extension = \"png\";/* global mpl */\n",
       "\n",
       "var comm_websocket_adapter = function (comm) {\n",
       "    // Create a \"websocket\"-like object which calls the given IPython comm\n",
       "    // object with the appropriate methods. Currently this is a non binary\n",
       "    // socket, so there is still some room for performance tuning.\n",
       "    var ws = {};\n",
       "\n",
       "    ws.binaryType = comm.kernel.ws.binaryType;\n",
       "    ws.readyState = comm.kernel.ws.readyState;\n",
       "    function updateReadyState(_event) {\n",
       "        if (comm.kernel.ws) {\n",
       "            ws.readyState = comm.kernel.ws.readyState;\n",
       "        } else {\n",
       "            ws.readyState = 3; // Closed state.\n",
       "        }\n",
       "    }\n",
       "    comm.kernel.ws.addEventListener('open', updateReadyState);\n",
       "    comm.kernel.ws.addEventListener('close', updateReadyState);\n",
       "    comm.kernel.ws.addEventListener('error', updateReadyState);\n",
       "\n",
       "    ws.close = function () {\n",
       "        comm.close();\n",
       "    };\n",
       "    ws.send = function (m) {\n",
       "        //console.log('sending', m);\n",
       "        comm.send(m);\n",
       "    };\n",
       "    // Register the callback with on_msg.\n",
       "    comm.on_msg(function (msg) {\n",
       "        //console.log('receiving', msg['content']['data'], msg);\n",
       "        var data = msg['content']['data'];\n",
       "        if (data['blob'] !== undefined) {\n",
       "            data = {\n",
       "                data: new Blob(msg['buffers'], { type: data['blob'] }),\n",
       "            };\n",
       "        }\n",
       "        // Pass the mpl event to the overridden (by mpl) onmessage function.\n",
       "        ws.onmessage(data);\n",
       "    });\n",
       "    return ws;\n",
       "};\n",
       "\n",
       "mpl.mpl_figure_comm = function (comm, msg) {\n",
       "    // This is the function which gets called when the mpl process\n",
       "    // starts-up an IPython Comm through the \"matplotlib\" channel.\n",
       "\n",
       "    var id = msg.content.data.id;\n",
       "    // Get hold of the div created by the display call when the Comm\n",
       "    // socket was opened in Python.\n",
       "    var element = document.getElementById(id);\n",
       "    var ws_proxy = comm_websocket_adapter(comm);\n",
       "\n",
       "    function ondownload(figure, _format) {\n",
       "        window.open(figure.canvas.toDataURL());\n",
       "    }\n",
       "\n",
       "    var fig = new mpl.figure(id, ws_proxy, ondownload, element);\n",
       "\n",
       "    // Call onopen now - mpl needs it, as it is assuming we've passed it a real\n",
       "    // web socket which is closed, not our websocket->open comm proxy.\n",
       "    ws_proxy.onopen();\n",
       "\n",
       "    fig.parent_element = element;\n",
       "    fig.cell_info = mpl.find_output_cell(\"<div id='\" + id + \"'></div>\");\n",
       "    if (!fig.cell_info) {\n",
       "        console.error('Failed to find cell for figure', id, fig);\n",
       "        return;\n",
       "    }\n",
       "    fig.cell_info[0].output_area.element.on(\n",
       "        'cleared',\n",
       "        { fig: fig },\n",
       "        fig._remove_fig_handler\n",
       "    );\n",
       "};\n",
       "\n",
       "mpl.figure.prototype.handle_close = function (fig, msg) {\n",
       "    var width = fig.canvas.width / fig.ratio;\n",
       "    fig.cell_info[0].output_area.element.off(\n",
       "        'cleared',\n",
       "        fig._remove_fig_handler\n",
       "    );\n",
       "    fig.resizeObserverInstance.unobserve(fig.canvas_div);\n",
       "\n",
       "    // Update the output cell to use the data from the current canvas.\n",
       "    fig.push_to_output();\n",
       "    var dataURL = fig.canvas.toDataURL();\n",
       "    // Re-enable the keyboard manager in IPython - without this line, in FF,\n",
       "    // the notebook keyboard shortcuts fail.\n",
       "    IPython.keyboard_manager.enable();\n",
       "    fig.parent_element.innerHTML =\n",
       "        '<img src=\"' + dataURL + '\" width=\"' + width + '\">';\n",
       "    fig.close_ws(fig, msg);\n",
       "};\n",
       "\n",
       "mpl.figure.prototype.close_ws = function (fig, msg) {\n",
       "    fig.send_message('closing', msg);\n",
       "    // fig.ws.close()\n",
       "};\n",
       "\n",
       "mpl.figure.prototype.push_to_output = function (_remove_interactive) {\n",
       "    // Turn the data on the canvas into data in the output cell.\n",
       "    var width = this.canvas.width / this.ratio;\n",
       "    var dataURL = this.canvas.toDataURL();\n",
       "    this.cell_info[1]['text/html'] =\n",
       "        '<img src=\"' + dataURL + '\" width=\"' + width + '\">';\n",
       "};\n",
       "\n",
       "mpl.figure.prototype.updated_canvas_event = function () {\n",
       "    // Tell IPython that the notebook contents must change.\n",
       "    IPython.notebook.set_dirty(true);\n",
       "    this.send_message('ack', {});\n",
       "    var fig = this;\n",
       "    // Wait a second, then push the new image to the DOM so\n",
       "    // that it is saved nicely (might be nice to debounce this).\n",
       "    setTimeout(function () {\n",
       "        fig.push_to_output();\n",
       "    }, 1000);\n",
       "};\n",
       "\n",
       "mpl.figure.prototype._init_toolbar = function () {\n",
       "    var fig = this;\n",
       "\n",
       "    var toolbar = document.createElement('div');\n",
       "    toolbar.classList = 'btn-toolbar';\n",
       "    this.root.appendChild(toolbar);\n",
       "\n",
       "    function on_click_closure(name) {\n",
       "        return function (_event) {\n",
       "            return fig.toolbar_button_onclick(name);\n",
       "        };\n",
       "    }\n",
       "\n",
       "    function on_mouseover_closure(tooltip) {\n",
       "        return function (event) {\n",
       "            if (!event.currentTarget.disabled) {\n",
       "                return fig.toolbar_button_onmouseover(tooltip);\n",
       "            }\n",
       "        };\n",
       "    }\n",
       "\n",
       "    fig.buttons = {};\n",
       "    var buttonGroup = document.createElement('div');\n",
       "    buttonGroup.classList = 'btn-group';\n",
       "    var button;\n",
       "    for (var toolbar_ind in mpl.toolbar_items) {\n",
       "        var name = mpl.toolbar_items[toolbar_ind][0];\n",
       "        var tooltip = mpl.toolbar_items[toolbar_ind][1];\n",
       "        var image = mpl.toolbar_items[toolbar_ind][2];\n",
       "        var method_name = mpl.toolbar_items[toolbar_ind][3];\n",
       "\n",
       "        if (!name) {\n",
       "            /* Instead of a spacer, we start a new button group. */\n",
       "            if (buttonGroup.hasChildNodes()) {\n",
       "                toolbar.appendChild(buttonGroup);\n",
       "            }\n",
       "            buttonGroup = document.createElement('div');\n",
       "            buttonGroup.classList = 'btn-group';\n",
       "            continue;\n",
       "        }\n",
       "\n",
       "        button = fig.buttons[name] = document.createElement('button');\n",
       "        button.classList = 'btn btn-default';\n",
       "        button.href = '#';\n",
       "        button.title = name;\n",
       "        button.innerHTML = '<i class=\"fa ' + image + ' fa-lg\"></i>';\n",
       "        button.addEventListener('click', on_click_closure(method_name));\n",
       "        button.addEventListener('mouseover', on_mouseover_closure(tooltip));\n",
       "        buttonGroup.appendChild(button);\n",
       "    }\n",
       "\n",
       "    if (buttonGroup.hasChildNodes()) {\n",
       "        toolbar.appendChild(buttonGroup);\n",
       "    }\n",
       "\n",
       "    // Add the status bar.\n",
       "    var status_bar = document.createElement('span');\n",
       "    status_bar.classList = 'mpl-message pull-right';\n",
       "    toolbar.appendChild(status_bar);\n",
       "    this.message = status_bar;\n",
       "\n",
       "    // Add the close button to the window.\n",
       "    var buttongrp = document.createElement('div');\n",
       "    buttongrp.classList = 'btn-group inline pull-right';\n",
       "    button = document.createElement('button');\n",
       "    button.classList = 'btn btn-mini btn-primary';\n",
       "    button.href = '#';\n",
       "    button.title = 'Stop Interaction';\n",
       "    button.innerHTML = '<i class=\"fa fa-power-off icon-remove icon-large\"></i>';\n",
       "    button.addEventListener('click', function (_evt) {\n",
       "        fig.handle_close(fig, {});\n",
       "    });\n",
       "    button.addEventListener(\n",
       "        'mouseover',\n",
       "        on_mouseover_closure('Stop Interaction')\n",
       "    );\n",
       "    buttongrp.appendChild(button);\n",
       "    var titlebar = this.root.querySelector('.ui-dialog-titlebar');\n",
       "    titlebar.insertBefore(buttongrp, titlebar.firstChild);\n",
       "};\n",
       "\n",
       "mpl.figure.prototype._remove_fig_handler = function (event) {\n",
       "    var fig = event.data.fig;\n",
       "    if (event.target !== this) {\n",
       "        // Ignore bubbled events from children.\n",
       "        return;\n",
       "    }\n",
       "    fig.close_ws(fig, {});\n",
       "};\n",
       "\n",
       "mpl.figure.prototype._root_extra_style = function (el) {\n",
       "    el.style.boxSizing = 'content-box'; // override notebook setting of border-box.\n",
       "};\n",
       "\n",
       "mpl.figure.prototype._canvas_extra_style = function (el) {\n",
       "    // this is important to make the div 'focusable\n",
       "    el.setAttribute('tabindex', 0);\n",
       "    // reach out to IPython and tell the keyboard manager to turn it's self\n",
       "    // off when our div gets focus\n",
       "\n",
       "    // location in version 3\n",
       "    if (IPython.notebook.keyboard_manager) {\n",
       "        IPython.notebook.keyboard_manager.register_events(el);\n",
       "    } else {\n",
       "        // location in version 2\n",
       "        IPython.keyboard_manager.register_events(el);\n",
       "    }\n",
       "};\n",
       "\n",
       "mpl.figure.prototype._key_event_extra = function (event, _name) {\n",
       "    // Check for shift+enter\n",
       "    if (event.shiftKey && event.which === 13) {\n",
       "        this.canvas_div.blur();\n",
       "        // select the cell after this one\n",
       "        var index = IPython.notebook.find_cell_index(this.cell_info[0]);\n",
       "        IPython.notebook.select(index + 1);\n",
       "    }\n",
       "};\n",
       "\n",
       "mpl.figure.prototype.handle_save = function (fig, _msg) {\n",
       "    fig.ondownload(fig, null);\n",
       "};\n",
       "\n",
       "mpl.find_output_cell = function (html_output) {\n",
       "    // Return the cell and output element which can be found *uniquely* in the notebook.\n",
       "    // Note - this is a bit hacky, but it is done because the \"notebook_saving.Notebook\"\n",
       "    // IPython event is triggered only after the cells have been serialised, which for\n",
       "    // our purposes (turning an active figure into a static one), is too late.\n",
       "    var cells = IPython.notebook.get_cells();\n",
       "    var ncells = cells.length;\n",
       "    for (var i = 0; i < ncells; i++) {\n",
       "        var cell = cells[i];\n",
       "        if (cell.cell_type === 'code') {\n",
       "            for (var j = 0; j < cell.output_area.outputs.length; j++) {\n",
       "                var data = cell.output_area.outputs[j];\n",
       "                if (data.data) {\n",
       "                    // IPython >= 3 moved mimebundle to data attribute of output\n",
       "                    data = data.data;\n",
       "                }\n",
       "                if (data['text/html'] === html_output) {\n",
       "                    return [cell, data, j];\n",
       "                }\n",
       "            }\n",
       "        }\n",
       "    }\n",
       "};\n",
       "\n",
       "// Register the function which deals with the matplotlib target/channel.\n",
       "// The kernel may be null if the page has been refreshed.\n",
       "if (IPython.notebook.kernel !== null) {\n",
       "    IPython.notebook.kernel.comm_manager.register_target(\n",
       "        'matplotlib',\n",
       "        mpl.mpl_figure_comm\n",
       "    );\n",
       "}\n"
      ],
      "text/plain": [
       "<IPython.core.display.Javascript object>"
      ]
     },
     "metadata": {},
     "output_type": "display_data"
    },
    {
     "data": {
      "text/html": [
       "<img src=\"data:image/png;base64,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\" width=\"640\">"
      ],
      "text/plain": [
       "<IPython.core.display.HTML object>"
      ]
     },
     "metadata": {},
     "output_type": "display_data"
    },
    {
     "name": "stdout",
     "output_type": "stream",
     "text": [
      "[ 0  8  8  8  7  7 10  4  4  4  4  4  4  4  5  4  4  4  5  4  5  5 13 12\n",
      " 13 12  4 12 13 12 13 12 13  8  9  8  5 13  8  5 13  8  1  8  5 13  8  5\n",
      " 13 12 13  8  1  8  1  8  1 12 13  5  4  1  4  5  5  5  5  5  1  1  1  5\n",
      "  5  5 13  1  1 13  1 13  1 13 12 13 12 13 12 13  1 13  1 13  1 13  1  1\n",
      "  1 13  1  8  1  8  8  8  8  8  8  8  8  1  8  8  8  8  1  8  8  1  1  8\n",
      "  8  8  1  8  5  8  1  8  8  8  1  8  5  8  8  5  8  1  8  8  5  8  8  5\n",
      "  8  8  4  8  8  5  8  8  5  8  8  5  8  8  5  8  8  5  8  8  8  8  8  8\n",
      "  5  4  5  8  8  8  8  5 13  8  8  8  5 13 12 13  8  8  5  8  8  8  8  4\n",
      "  4  4  7 13  8  5 13 12  4 12 13 12 13 12 13  1 13 12 13  5  5  4  5  4\n",
      "  5 13 12 13 12 13 12 13 12 13 12 13 12 13 13 13 12  4  4  4  4  4  4  5\n",
      "  4  5  4  5  4  5  4  4  4  4  4  4  4  4  4  4  4  4  4  4  4  4  4  4\n",
      "  4  4  4  4  5  4  4  4  4  4  4  4  4  4  4  4  4  4  4  4  4  4  4  4\n",
      "  4  4  4  4  4  4  4  4  4  4  4  4  4  4  4  4  4  4  4  4  4  4  4  4\n",
      "  4  4  4  4  4  4  4  4  4  4  4  4  4  4  4  4  4  4  4  4  4  4  4  4\n",
      "  4  4  4  4  4  4  4  4  4  4  4  4  4  4  4  1  1  5  4  4  4  4  4 18\n",
      " 19 19 18 19 18 19 18 18 18 18 18 18 18 18 18 18 18 18 18 18 19 19 18 18\n",
      " 18 18 18 18 18 18 18 18 18 18  1  1  1  1  1  1  2  1  1  1  1  1  1  2\n",
      "  1  1  1  2  1  1  1  1  1  1  1  1  1  1  2  3  3  3  3  8  2  8  2  8\n",
      "  2  1  2  1  1  3  3  8  1  8  1  8  1  2  1  1  1  1  1  1  1  1  1  1\n",
      "  1  1  1  8  1  8  1  8  1  3  1  1  1  8  1  1  1  1  1  8  1  8  5  2\n",
      "  8  1  8  1  8  1  1  1  1  1  1  8  1  8  1  8  1  1  2  1] [ 8  8 10  7  7 10 10 10  8 10  8 10  8 10 10 10  1 10 10 10 10  9  9  9\n",
      "  9  9  9  9  9  9  9  9  9  9  9  9  9  9  9  9  9  9  9  9  9  9  9  9\n",
      "  9  9  9  9  9  9  9  9  9  9  9  9  9  9  9  9  1 14  8  8  8  7  1  1\n",
      "  7  8  8  8  8  8  8  8  8  8  8  8  8  8  8  8  8  8  8  8  8  8  8  8\n",
      "  8  8  8  8  8  8  7  1  7  1  1  1  9  9  9  9 10 10 10 10  9  9  9  9\n",
      "  9  6  6  6  6  6  6  6  6  6  6  6  6  6  6  6  6  6  6  6  6  6  6  6\n",
      "  6  6  6  6  6  6  6  6  6  6  6  6  6  6  6  6  6  6  6  7  6  6  7  6\n",
      "  6  6  6  6  7  6  7  7  7  7  6  7  7  7  7  7  7  7  7  7  7  2  3  3\n",
      "  1  7  7  7  7  7  7  7  7  7  7  7  7  7  7  7  7  7  7  7  6  6  6  6\n",
      "  6  6  6  6  6  6  6  6  6  6  6  6  6  6  3  2  2  2  1  6  5  4  3  3\n",
      "  3  3  3  3  3  3  3  1  2  1  1  1  2  5  6  1  2  1  2  1  2  6  7  6\n",
      "  7  6  7  6  6  6  1  1  6  6  5  6  5  6  5  6  5  6  5  6  5  6  5  6\n",
      "  5  6  5  6  5  6  5  6  5  6  5  6  5  6  5  6  1  6  5  4  5  4  5  4\n",
      "  5  1  5  1  5  1  5  1  5  1  5  1  5  1  5  1  5  1  2  1  5  1  5  1\n",
      "  2  1  5  4  5  4  5  4  5  4  1  5  5  4  5  5  1  1  1  5  4  5  1  1\n",
      "  1  5  5  5  5  5  5  4  3  2  1  1  2  1  2  3  2  3  2  3  3  2  2  3\n",
      "  1  2  1  2  5  3  4  2  1  1  1  1  2  5  4  3  2  2  2  1  1  1  1  1\n",
      "  1  3  4  4  4  3  4  3  2  3  2  3  2  3  3  3  2  3  2  2  2  2  2  2\n",
      "  2  2  2  2  3  3  2  1  1  1  1  1  1  1  1  1  1  8  1  9  8  1  9  9\n",
      "  8  9  1  3  3  3  3  3  3  3  3  3  3  3  3  3  3  3  3  3  3  3  3  1\n",
      "  1  1  1  1  1  1  1  1  1  2  8  8  8  8  8  8  8  8  8  8]\n"
     ]
    }
   ],
   "source": [
    "#Chart of Bid Ask Spread Sizes\n",
    "from dotenv import load_dotenv\n",
    "import matplotlib.pyplot as plt\n",
    "import mplcyberpunk\n",
    "import alpaca_trade_api as api\n",
    "import os\n",
    "import pandas as pd\n",
    "%matplotlib nbagg\n",
    "\n",
    "load_dotenv(dotenv_path='../a.env')\n",
    "\n",
    "FED_API_KEY = os.environ['FED_API_KEY']\n",
    "ALPACA_KEY_ID = os.environ['ALPACA_KEY_ID']\n",
    "ALPACA_SECRETS_KEY = os.environ['ALPACA_SECRETS_ID']\n",
    "symbol = \"INTC\"\n",
    "\n",
    "limit = 500\n",
    "# Set start and end dates as datetime objects\n",
    "start_date = pd.to_datetime(\"2022-01-01T14:30:00Z\", format=\"%Y-%m-%dT%H:%M:%SZ\")\n",
    "end_date = pd.to_datetime(\"2023-04-24T21:00:00Z\", format=\"%Y-%m-%dT%H:%M:%SZ\")\n",
    "\n",
    "# Convert datetime objects to string format\n",
    "start = start_date.strftime(\"%Y-%m-%dT%H:%M:%SZ\")\n",
    "end = end_date.strftime(\"%Y-%m-%dT%H:%M:%SZ\")\n",
    "\n",
    "\n",
    "\n",
    "plt.style.use('cyberpunk')\n",
    "\n",
    "\n",
    "def get_bidask_sizes(symbol, start, end, limit):\n",
    "    alpaca = api.REST(ALPACA_KEY_ID, ALPACA_SECRETS_KEY)\n",
    "    get_values = alpaca.get_quotes(symbol, start, end, limit).df\n",
    "    quotes_spread = get_values[\"ask_size\"] - get_values[\"bid_size\"]\n",
    "    plt.plot(pd.to_datetime(get_values.index).strftime(\"%Y-%m-%dT%H:%M:%S\"), quotes_spread)\n",
    "    plt.title(\"Bid-ask Size Spread of \" + symbol + \" as a Function of Time\")\n",
    "    plt.xlabel(\"Time of Day\")\n",
    "    plt.ylabel(\"Bid-ask Spread Size($USD)\")\n",
    "    \n",
    "    # Format x-axis tick labels with start and end dates\n",
    "    \n",
    "    plt.xticks(rotation=90)\n",
    "    \n",
    "    \n",
    "    plt.xlim()\n",
    "    plt.show()\n",
    "    print(get_values[\"ask_size\"].values, get_values['bid_size'].values)\n",
    "    #plt.savefig(\"TSLA Bid Ask Spread\")\n",
    "    \n",
    "get_bidask_sizes(symbol, start, end, limit)\n"
   ]
  },
  {
   "cell_type": "code",
   "execution_count": null,
   "id": "806fe4a3",
   "metadata": {},
   "outputs": [],
   "source": [
    "#Chart of Bid Ask Spread Sizes\n",
    "from dotenv import load_dotenv\n",
    "import matplotlib.pyplot as plt\n",
    "import mplcyberpunk\n",
    "import alpaca_trade_api as api\n",
    "import os\n",
    "import pandas as pd\n",
    "\n",
    "\n",
    "symbol = \"SDS\"\n",
    "\n",
    "limit = 500\n",
    "# Set start and end dates as datetime objects\n",
    "start_date = pd.to_datetime(\"2022-01-01T14:30:00Z\", format=\"%Y-%m-%dT%H:%M:%SZ\")\n",
    "end_date = pd.to_datetime(\"2023-04-24T21:00:00Z\", format=\"%Y-%m-%dT%H:%M:%SZ\")\n",
    "\n",
    "# Convert datetime objects to string format\n",
    "start = start_date.strftime(\"%Y-%m-%d %H:%M:%S\")\n",
    "end = end_date.strftime(\"%Y-%m-%d %H:%M:%S\")\n",
    "\n",
    "\n",
    "\n",
    "plt.style.use('cyberpunk')\n",
    "\n",
    "ALPACA_KEY_ID, ALPACA_SECRETS_KEY = \"\",\"\"\n",
    "\n",
    "def set_vars(secrets_file='a.env'):\n",
    "    global ALPACA_KEY_ID, ALPACA_SECRETS_KEY\n",
    "    with open(f\"{secrets_file}\", 'r') as file:\n",
    "        contents = file.read()\n",
    "        env_vars = contents.replace('export ', '').split(\"\\n\")\n",
    "        ALPACA_KEY_ID = env_vars[0].split(\"=\")[1]\n",
    "        ALPACA_SECRETS_KEY = env_vars[1].split(\"=\")[1]\n",
    "\n",
    "def get_bidask_sizes(symbol, start, end, limit):\n",
    "    set_vars()\n",
    "    alpaca = api.REST(ALPACA_KEY_ID, ALPACA_SECRETS_KEY)\n",
    "\n",
    "    # Convert start and end to the correct format for the Alpaca API\n",
    "    start = pd.Timestamp(start, tz=\"America/New_York\").isoformat()\n",
    "    end = pd.Timestamp(end, tz=\"America/New_York\").isoformat()\n",
    "\n",
    "    get_values = alpaca.get_quotes(symbol, start, end, limit).df\n",
    "    quotes_spread = get_values[\"ask_size\"] - get_values[\"bid_size\"]\n",
    "    fig, ax = plt.subplots(figsize=(8, 8))\n",
    "    new_x = pd.to_datetime(get_values.index)\n",
    "    plt.plot(new_x, quotes_spread)\n",
    "    ax.xaxis.set_major_formatter(plt.FixedFormatter(new_x.strftime('%Y-%m')))\n",
    "    plt.xticks(rotation=90)\n",
    "\n",
    "    plt.show()\n",
    "\n",
    "\n",
    "    \n",
    "get_bidask_sizes(symbol, \"2022-04-01T14:30:00Z\", \"2023-04-24T21:00:00Z\", limit)\n"
   ]
  },
  {
   "cell_type": "code",
   "execution_count": null,
   "id": "ec4dc1e7",
   "metadata": {},
   "outputs": [],
   "source": [
    "#Chart of Bid Ask Spread Sizes\n",
    "from dotenv import load_dotenv\n",
    "import matplotlib.pyplot as plt\n",
    "import mplcyberpunk\n",
    "import alpaca_trade_api as api\n",
    "import os\n",
    "import pandas as pd\n",
    "\n",
    "\n",
    "symbol = \"SDS\"\n",
    "\n",
    "limit = 500\n",
    "# Set start and end dates as datetime objects\n",
    "start_date = pd.to_datetime(\"2022-01-01T14:30:00Z\", format=\"%Y-%m-%dT%H:%M:%SZ\")\n",
    "end_date = pd.to_datetime(\"2023-04-24T21:00:00Z\", format=\"%Y-%m-%dT%H:%M:%SZ\")\n",
    "\n",
    "# Convert datetime objects to string format\n",
    "start = start_date.strftime(\"%Y-%m-%d %H:%M:%S\")\n",
    "end = end_date.strftime(\"%Y-%m-%d %H:%M:%S\")\n",
    "\n",
    "\n",
    "\n",
    "plt.style.use('cyberpunk')\n",
    "\n",
    "ALPACA_KEY_ID, ALPACA_SECRETS_KEY = \"\",\"\"\n",
    "\n",
    "def set_vars(secrets_file='a.env'):\n",
    "    global ALPACA_KEY_ID, ALPACA_SECRETS_KEY\n",
    "    with open(f\"{secrets_file}\", 'r') as file:\n",
    "        contents = file.read()\n",
    "        env_vars = contents.replace('export ', '').split(\"\\n\")\n",
    "        ALPACA_KEY_ID = env_vars[0].split(\"=\")[1]\n",
    "        ALPACA_SECRETS_KEY = env_vars[1].split(\"=\")[1]\n",
    "\n",
    "def get_bidask_sizes(symbol, start, end, limit):\n",
    "    set_vars()\n",
    "    alpaca = api.REST(ALPACA_KEY_ID, ALPACA_SECRETS_KEY)\n",
    "\n",
    "    # Convert start and end to the correct format for the Alpaca API\n",
    "    start = pd.Timestamp(start, tz=\"America/New_York\").isoformat()\n",
    "    end = pd.Timestamp(end, tz=\"America/New_York\").isoformat()\n",
    "\n",
    "    get_values = alpaca.get_quotes(symbol, start, end, limit).df\n",
    "    quotes_spread = get_values[\"ask_size\"] - get_values[\"bid_size\"]\n",
    "    fig, ax = plt.subplots(figsize=(8, 8))\n",
    "    new_x = pd.to_datetime(get_values.index).timestamp()\n",
    "\n",
    "    plt.plot(new_x, quotes_spread)\n",
    "    plt.title(\"Bid-Ask Size Spread of \" + symbol + \" as a Function of Time\")\n",
    "    plt.xlabel(\"Time of Day\")\n",
    "    plt.ylabel(\"Bid-ask Spread Size($USD)\")\n",
    "\n",
    "    # Format the x-axis labels to display only month and year\n",
    "    ax.xaxis.set_major_formatter(mpl_dates.DateFormatter('%Y-%m'))\n",
    "   # Convert datetime index to list of datetime objects and then to Unix timestamps\n",
    "    # Convert datetime index to datetime array and then to Unix timestamps\n",
    "    new_x = pd.to_datetime(get_values.index).to_numpy().astype('datetime64[s]').astype('int')\n",
    "\n",
    "    # Plot the bid-ask spread as a function of time\n",
    "    plt.plot(new_x, quotes_spread)\n",
    "\n",
    "    # Set the x-axis ticks and labels to display only month and year\n",
    "    plt.xticks(new_x[::50], pd.to_datetime(get_values.index[::50]).strftime('%Y-%m'), rotation=90)\n",
    "\n",
    "\n",
    "    plt.show()\n",
    "\n",
    "\n",
    "\n",
    "    \n",
    "get_bidask_sizes(symbol, \"2022-04-01T14:30:00Z\", \"2023-04-24T21:00:00Z\", limit)\n"
   ]
  },
  {
   "cell_type": "code",
   "execution_count": null,
   "id": "f67b76df",
   "metadata": {},
   "outputs": [],
   "source": [
    "#Chart of Bid Ask Spread Sizes\n",
    "from dotenv import load_dotenv\n",
    "import matplotlib.pyplot as plt\n",
    "import mplcyberpunk\n",
    "import alpaca_trade_api as api\n",
    "import os\n",
    "import pandas as pd\n",
    "\n",
    "\n",
    "symbol = \"SDS\"\n",
    "\n",
    "limit = 500\n",
    "# Set start and end dates as datetime objects\n",
    "start_date = pd.to_datetime(\"2022-01-01T14:30:00Z\", format=\"%Y-%m-%dT%H:%M:%SZ\")\n",
    "end_date = pd.to_datetime(\"2023-04-24T21:00:00Z\", format=\"%Y-%m-%dT%H:%M:%SZ\")\n",
    "\n",
    "# Convert datetime objects to string format\n",
    "start = start_date.strftime(\"%Y-%m-%d %H:%M:%S\")\n",
    "end = end_date.strftime(\"%Y-%m-%d %H:%M:%S\")\n",
    "\n",
    "plt.style.use('cyberpunk')\n",
    "\n",
    "ALPACA_KEY_ID, ALPACA_SECRETS_KEY = \"\",\"\"\n",
    "\n",
    "def set_vars(secrets_file='a.env'):\n",
    "    global ALPACA_KEY_ID, ALPACA_SECRETS_KEY\n",
    "    with open(f\"{secrets_file}\", 'r') as file:\n",
    "        contents = file.read()\n",
    "        env_vars = contents.replace('export ', '').split(\"\\n\")\n",
    "        ALPACA_KEY_ID = env_vars[0].split(\"=\")[1]\n",
    "        ALPACA_SECRETS_KEY = env_vars[1].split(\"=\")[1]\n",
    "\n",
    "def get_bidask_sizes(symbol, start, end, limit):\n",
    "    set_vars()\n",
    "    alpaca = api.REST(ALPACA_KEY_ID, ALPACA_SECRETS_KEY)\n",
    "\n",
    "    # Convert start and end to the correct format for the Alpaca API\n",
    "    start = pd.Timestamp(start, tz=\"America/New_York\").isoformat()\n",
    "    end = pd.Timestamp(end, tz=\"America/New_York\").isoformat()\n",
    "\n",
    "    get_values = alpaca.get_quotes(symbol, start, end, limit).df\n",
    "    quotes_spread = get_values[\"ask_size\"] - get_values[\"bid_size\"]\n",
    "    fig, ax = plt.subplots(figsize=(40, 8))\n",
    "    new_x = get_values.index\n",
    "    plt.plot(new_x, quotes_spread)\n",
    "    ax.xaxis.set_major_formatter(plt.FixedFormatter(new_x.strftime('%Y-%m')))\n",
    "\n",
    "    plt.title(\"Bid-Ask Size Spread of \" + symbol + \" as a Function of Time\")\n",
    "    plt.xlabel(\"Time of Day\")\n",
    "    plt.ylabel(\"Bid-Ask Spread Size($USD)\")\n",
    "\n",
    "    \n",
    "        # Format the x-axis labels to display only quarter and year\n",
    "    ax.xaxis.set_major_locator(mpl.dates.MonthLocator(interval=4))\n",
    "    ax.xaxis.set_major_formatter(mpl.dates.DateFormatter('%Y-%m-d'))\n",
    "    \n",
    "    plt.xticks(rotation=90)\n",
    "    plt.xlim([start_date, end_date])\n",
    "    plt.show()\n",
    "\n",
    "\n",
    "\n",
    "    \n",
    "get_bidask_sizes(symbol, \"2022-03-01T14:30:00Z\", \"2023-04-24T21:00:00Z\", limit)\n"
   ]
  },
  {
   "cell_type": "code",
   "execution_count": null,
   "id": "6aca4efd",
   "metadata": {},
   "outputs": [],
   "source": [
    "from dotenv import load_dotenv\n",
    "import matplotlib as mpl\n",
    "import matplotlib.dates as dates\n",
    "\n",
    "import matplotlib.pyplot as plt\n",
    "import mplcyberpunk\n",
    "import alpaca_trade_api as api\n",
    "import os\n",
    "import pandas as pd\n",
    "from matplotlib.dates import MonthLocator, DateFormatter\n",
    "\n",
    "\n",
    "\n",
    "symbol = \"SDS\"\n",
    "\n",
    "limit = 500\n",
    "# Set start and end dates as datetime objects\n",
    "start_date = pd.to_datetime(\"2023-01-01T14:30:00Z\", format=\"%Y-%m-%dT%H:%M:%SZ\")\n",
    "end_date = pd.to_datetime(\"2023-04-24T21:00:00Z\", format=\"%Y-%m-%dT%H:%M:%SZ\")\n",
    "\n",
    "# Convert datetime objects to string format\n",
    "start = start_date.strftime(\"%Y-%m-%d\")\n",
    "end = end_date.strftime(\"%Y-%m-%d\")\n",
    "\n",
    "\n",
    "plt.style.use('cyberpunk')\n",
    "\n",
    "ALPACA_KEY_ID, ALPACA_SECRETS_KEY = \"\",\"\"\n",
    "\n",
    "def set_vars(secrets_file='a.env'):\n",
    "    global ALPACA_KEY_ID, ALPACA_SECRETS_KEY\n",
    "    with open(f\"{secrets_file}\", 'r') as file:\n",
    "        contents = file.read()\n",
    "        env_vars = contents.replace('export ', '').split(\"\\n\")\n",
    "        ALPACA_KEY_ID = env_vars[0].split(\"=\")[1]\n",
    "        ALPACA_SECRETS_KEY = env_vars[1].split(\"=\")[1]\n",
    "\n",
    "def get_bidask_sizes(symbol, start, end, limit):\n",
    "    set_vars()\n",
    "    alpaca = api.REST(ALPACA_KEY_ID, ALPACA_SECRETS_KEY)\n",
    "\n",
    "    # Convert start and end to the correct format for the Alpaca API\n",
    "    start = pd.Timestamp(start, tz=\"America/New_York\").isoformat()\n",
    "    end = pd.Timestamp(end, tz=\"America/New_York\").isoformat()\n",
    "\n",
    "    get_values = alpaca.get_quotes(symbol, start, end, limit).df\n",
    "    quotes_spread = get_values[\"ask_size\"] - get_values[\"bid_size\"]\n",
    "    fig, ax = plt.subplots(figsize=(20, 8))\n",
    "    plt.title(\"Bid-Ask Size Spread of \" + symbol + \" as a Function of Time\")\n",
    "    plt.xlabel(\"Time of Day\")\n",
    "    plt.ylabel(\"Bid-ask Spread Size($USD)\")\n",
    "\n",
    "    new_x = get_values.index\n",
    "    plt.plot(new_x, quotes_spread)\n",
    "    #ax.xaxis.set_major_locator(mpl.dates.MonthLocator(interval=2))\n",
    "    ax.xaxis.set_major_formatter(plt.FixedFormatter(new_x.strftime('%Y-%m')))\n",
    "    plt.xticks(rotation=90)\n",
    "    plt.xlim([start_date, end_date])\n",
    "    plt.show()\n",
    "\n",
    "\n",
    "    \n",
    "get_bidask_sizes(symbol, \"2023-01-01T14:30:00Z\", \"2023-04-24T21:00:00Z\", limit)\n",
    "\n"
   ]
  },
  {
   "cell_type": "code",
   "execution_count": null,
   "id": "c35bada9",
   "metadata": {},
   "outputs": [],
   "source": [
    "import os\n",
    "import pandas as pd\n",
    "import matplotlib.pyplot as plt\n",
    "import alpaca_trade_api as api\n",
    "from dotenv import load_dotenv\n",
    "\n",
    "ALPACA_KEY_ID, ALPACA_SECRETS_KEY = \"\",\"\"\n",
    "\n",
    "load_dotenv()\n",
    "\n",
    "def set_vars(secrets_file='a.env'):\n",
    "    global ALPACA_KEY_ID, ALPACA_SECRETS_KEY\n",
    "    with open(f\"{secrets_file}\", 'r') as file:\n",
    "        contents = file.read()\n",
    "        env_vars = contents.replace('export ', '').split(\"\\n\")\n",
    "        ALPACA_KEY_ID = env_vars[0].split(\"=\")[1]\n",
    "        ALPACA_SECRETS_ID = env_vars[1].split(\"=\")[1]\n",
    "set_vars()\n",
    "\n",
    "\n",
    "\n",
    "# Set Alpaca API key ID and secret key\n",
    "ALPACA_KEY_ID = os.environ.get('ALPACA_KEY_ID')\n",
    "ALPACA_SECRETS_ID = os.environ.get('ALPACA_SECRETS_ID')\n",
    "\n",
    "symbol = \"INTC\"\n",
    "limit = 500\n",
    "\n",
    "# Set start and end dates as datetime objects\n",
    "start_date = pd.to_datetime(\"2023-01-01T14:30:00Z\", format=\"%Y-%m-%d\")\n",
    "end_date = pd.to_datetime(\"2023-04-24T21:00:00Z\", format=\"%Y-%m-%d\")\n",
    "\n",
    "# Convert datetime objects to string format\n",
    "start = start_date.strftime(\"%Y-%m-%d %H:%M:%S\")\n",
    "end = end_date.strftime(\"%Y-%m-%d %H:%M:%S\")\n",
    "\n",
    "# Create Alpaca API object\n",
    "alpaca = api.REST(ALPACA_KEY_ID, ALPACA_SECRETS_ID)\n",
    "\n",
    "# Get historical price data from Alpaca API\n",
    "df = alpaca.get_barset(symbol, 'day', limit=limit, start=start, end=end).df[symbol]\n",
    "\n",
    "# Plot data using Matplotlib\n",
    "fig, ax = plt.subplots()\n",
    "ax.plot(df.index, df['close'], label='Close')\n",
    "\n",
    "# Set x-axis limits to start and end dates\n",
    "ax.set_xlim(start_date, end_date)\n",
    "\n",
    "# Format x-axis labels\n",
    "ax.xaxis.set_major_locator(mdates.MonthLocator())\n",
    "ax.xaxis.set_major_formatter(mdates.DateFormatter('%b %Y'))\n",
    "ax.xaxis.set_minor_locator(mdates.DayLocator())\n",
    "\n",
    "# Set chart title and axis labels\n",
    "plt.title(f\"{symbol} Price Data\")\n",
    "plt.xlabel(\"Date\")\n",
    "plt.ylabel(\"Price ($)\")\n",
    "\n",
    "# Add legend\n",
    "plt.legend()\n",
    "\n",
    "# Display chart\n",
    "plt.show()\n"
   ]
  },
  {
   "cell_type": "code",
   "execution_count": null,
   "id": "6eb3e4b4",
   "metadata": {},
   "outputs": [],
   "source": [
    "#Only use Plotly\n",
    "import alpaca_trade_api as api\n",
    "import os\n",
    "import pandas as pd\n",
    "import plotly.graph_objs as go\n",
    "from dotenv import load_dotenv\n",
    "\n",
    "load_dotenv()\n",
    "\n",
    "ALPACA_KEY_ID, ALPACA_SECRETS_KEY = \"\",\"\"\n",
    "\n",
    "def set_vars(secrets_file='a.env'):\n",
    "    global ALPACA_KEY_ID, ALPACA_SECRETS_KEY\n",
    "    with open(f\"{secrets_file}\", 'r') as file:\n",
    "        contents = file.read()\n",
    "        env_vars = contents.replace('export ', '').split(\"\\n\")\n",
    "        ALPACA_KEY_ID = env_vars[0].split(\"=\")[1]\n",
    "        ALPACA_SECRETS_KEY = env_vars[1].split(\"=\")[1]\n",
    "set_vars()\n",
    "\n",
    "\n",
    "\n",
    "\n",
    "\n",
    "symbol = \"INTC\"\n",
    "limit = 500\n",
    "\n",
    "# Set start and end dates as datetime objects\n",
    "start_date = pd.to_datetime(\"2023-01-01T14:30:00Z\", format=\"%Y-%m-%dT%H:%M:%SZ\")\n",
    "end_date = pd.to_datetime(\"2023-04-24T21:00:00Z\", format=\"%Y-%m-%dT%H:%M:%SZ\")\n",
    "\n",
    "alpaca = api.REST(ALPACA_KEY_ID, ALPACA_SECRETS_KEY)\n",
    "\n",
    "# Convert start and end to the correct format for the Alpaca API\n",
    "start = pd.Timestamp(start_date, tz=\"America/New_York\").isoformat()\n",
    "end = pd.Timestamp(end_date, tz=\"America/New_York\").isoformat()\n",
    "\n",
    "# Get bid-ask sizes data\n",
    "df = alpaca.get_quotes(symbol, start, end, limit).df\n",
    "quotes_spread = df['ask_size'] - df['bid_size']\n",
    "\n",
    "# Create plotly figure\n",
    "fig = go.Figure()\n",
    "fig.add_trace(go.Scatter(x=df.index, y=quotes_spread, mode='lines'))\n",
    "\n",
    "fig.update_layout(\n",
    "    title=\"Bid-ask Size Spread of SDS as a Function of Time\",\n",
    "    xaxis_title=\"Time of Day\",\n",
    "    yaxis_title=\"Bid-ask Spread Size($USD)\",\n",
    "    xaxis_tickformat=\"%Y-%m-%d\"\n",
    ")\n",
    "\n",
    "fig.show()\n"
   ]
  },
  {
   "cell_type": "code",
   "execution_count": 38,
   "id": "d2b166bc",
   "metadata": {},
   "outputs": [
    {
     "data": {
      "application/javascript": [
       "/* Put everything inside the global mpl namespace */\n",
       "/* global mpl */\n",
       "window.mpl = {};\n",
       "\n",
       "mpl.get_websocket_type = function () {\n",
       "    if (typeof WebSocket !== 'undefined') {\n",
       "        return WebSocket;\n",
       "    } else if (typeof MozWebSocket !== 'undefined') {\n",
       "        return MozWebSocket;\n",
       "    } else {\n",
       "        alert(\n",
       "            'Your browser does not have WebSocket support. ' +\n",
       "                'Please try Chrome, Safari or Firefox ≥ 6. ' +\n",
       "                'Firefox 4 and 5 are also supported but you ' +\n",
       "                'have to enable WebSockets in about:config.'\n",
       "        );\n",
       "    }\n",
       "};\n",
       "\n",
       "mpl.figure = function (figure_id, websocket, ondownload, parent_element) {\n",
       "    this.id = figure_id;\n",
       "\n",
       "    this.ws = websocket;\n",
       "\n",
       "    this.supports_binary = this.ws.binaryType !== undefined;\n",
       "\n",
       "    if (!this.supports_binary) {\n",
       "        var warnings = document.getElementById('mpl-warnings');\n",
       "        if (warnings) {\n",
       "            warnings.style.display = 'block';\n",
       "            warnings.textContent =\n",
       "                'This browser does not support binary websocket messages. ' +\n",
       "                'Performance may be slow.';\n",
       "        }\n",
       "    }\n",
       "\n",
       "    this.imageObj = new Image();\n",
       "\n",
       "    this.context = undefined;\n",
       "    this.message = undefined;\n",
       "    this.canvas = undefined;\n",
       "    this.rubberband_canvas = undefined;\n",
       "    this.rubberband_context = undefined;\n",
       "    this.format_dropdown = undefined;\n",
       "\n",
       "    this.image_mode = 'full';\n",
       "\n",
       "    this.root = document.createElement('div');\n",
       "    this.root.setAttribute('style', 'display: inline-block');\n",
       "    this._root_extra_style(this.root);\n",
       "\n",
       "    parent_element.appendChild(this.root);\n",
       "\n",
       "    this._init_header(this);\n",
       "    this._init_canvas(this);\n",
       "    this._init_toolbar(this);\n",
       "\n",
       "    var fig = this;\n",
       "\n",
       "    this.waiting = false;\n",
       "\n",
       "    this.ws.onopen = function () {\n",
       "        fig.send_message('supports_binary', { value: fig.supports_binary });\n",
       "        fig.send_message('send_image_mode', {});\n",
       "        if (fig.ratio !== 1) {\n",
       "            fig.send_message('set_device_pixel_ratio', {\n",
       "                device_pixel_ratio: fig.ratio,\n",
       "            });\n",
       "        }\n",
       "        fig.send_message('refresh', {});\n",
       "    };\n",
       "\n",
       "    this.imageObj.onload = function () {\n",
       "        if (fig.image_mode === 'full') {\n",
       "            // Full images could contain transparency (where diff images\n",
       "            // almost always do), so we need to clear the canvas so that\n",
       "            // there is no ghosting.\n",
       "            fig.context.clearRect(0, 0, fig.canvas.width, fig.canvas.height);\n",
       "        }\n",
       "        fig.context.drawImage(fig.imageObj, 0, 0);\n",
       "    };\n",
       "\n",
       "    this.imageObj.onunload = function () {\n",
       "        fig.ws.close();\n",
       "    };\n",
       "\n",
       "    this.ws.onmessage = this._make_on_message_function(this);\n",
       "\n",
       "    this.ondownload = ondownload;\n",
       "};\n",
       "\n",
       "mpl.figure.prototype._init_header = function () {\n",
       "    var titlebar = document.createElement('div');\n",
       "    titlebar.classList =\n",
       "        'ui-dialog-titlebar ui-widget-header ui-corner-all ui-helper-clearfix';\n",
       "    var titletext = document.createElement('div');\n",
       "    titletext.classList = 'ui-dialog-title';\n",
       "    titletext.setAttribute(\n",
       "        'style',\n",
       "        'width: 100%; text-align: center; padding: 3px;'\n",
       "    );\n",
       "    titlebar.appendChild(titletext);\n",
       "    this.root.appendChild(titlebar);\n",
       "    this.header = titletext;\n",
       "};\n",
       "\n",
       "mpl.figure.prototype._canvas_extra_style = function (_canvas_div) {};\n",
       "\n",
       "mpl.figure.prototype._root_extra_style = function (_canvas_div) {};\n",
       "\n",
       "mpl.figure.prototype._init_canvas = function () {\n",
       "    var fig = this;\n",
       "\n",
       "    var canvas_div = (this.canvas_div = document.createElement('div'));\n",
       "    canvas_div.setAttribute('tabindex', '0');\n",
       "    canvas_div.setAttribute(\n",
       "        'style',\n",
       "        'border: 1px solid #ddd;' +\n",
       "            'box-sizing: content-box;' +\n",
       "            'clear: both;' +\n",
       "            'min-height: 1px;' +\n",
       "            'min-width: 1px;' +\n",
       "            'outline: 0;' +\n",
       "            'overflow: hidden;' +\n",
       "            'position: relative;' +\n",
       "            'resize: both;' +\n",
       "            'z-index: 2;'\n",
       "    );\n",
       "\n",
       "    function on_keyboard_event_closure(name) {\n",
       "        return function (event) {\n",
       "            return fig.key_event(event, name);\n",
       "        };\n",
       "    }\n",
       "\n",
       "    canvas_div.addEventListener(\n",
       "        'keydown',\n",
       "        on_keyboard_event_closure('key_press')\n",
       "    );\n",
       "    canvas_div.addEventListener(\n",
       "        'keyup',\n",
       "        on_keyboard_event_closure('key_release')\n",
       "    );\n",
       "\n",
       "    this._canvas_extra_style(canvas_div);\n",
       "    this.root.appendChild(canvas_div);\n",
       "\n",
       "    var canvas = (this.canvas = document.createElement('canvas'));\n",
       "    canvas.classList.add('mpl-canvas');\n",
       "    canvas.setAttribute(\n",
       "        'style',\n",
       "        'box-sizing: content-box;' +\n",
       "            'pointer-events: none;' +\n",
       "            'position: relative;' +\n",
       "            'z-index: 0;'\n",
       "    );\n",
       "\n",
       "    this.context = canvas.getContext('2d');\n",
       "\n",
       "    var backingStore =\n",
       "        this.context.backingStorePixelRatio ||\n",
       "        this.context.webkitBackingStorePixelRatio ||\n",
       "        this.context.mozBackingStorePixelRatio ||\n",
       "        this.context.msBackingStorePixelRatio ||\n",
       "        this.context.oBackingStorePixelRatio ||\n",
       "        this.context.backingStorePixelRatio ||\n",
       "        1;\n",
       "\n",
       "    this.ratio = (window.devicePixelRatio || 1) / backingStore;\n",
       "\n",
       "    var rubberband_canvas = (this.rubberband_canvas = document.createElement(\n",
       "        'canvas'\n",
       "    ));\n",
       "    rubberband_canvas.setAttribute(\n",
       "        'style',\n",
       "        'box-sizing: content-box;' +\n",
       "            'left: 0;' +\n",
       "            'pointer-events: none;' +\n",
       "            'position: absolute;' +\n",
       "            'top: 0;' +\n",
       "            'z-index: 1;'\n",
       "    );\n",
       "\n",
       "    // Apply a ponyfill if ResizeObserver is not implemented by browser.\n",
       "    if (this.ResizeObserver === undefined) {\n",
       "        if (window.ResizeObserver !== undefined) {\n",
       "            this.ResizeObserver = window.ResizeObserver;\n",
       "        } else {\n",
       "            var obs = _JSXTOOLS_RESIZE_OBSERVER({});\n",
       "            this.ResizeObserver = obs.ResizeObserver;\n",
       "        }\n",
       "    }\n",
       "\n",
       "    this.resizeObserverInstance = new this.ResizeObserver(function (entries) {\n",
       "        var nentries = entries.length;\n",
       "        for (var i = 0; i < nentries; i++) {\n",
       "            var entry = entries[i];\n",
       "            var width, height;\n",
       "            if (entry.contentBoxSize) {\n",
       "                if (entry.contentBoxSize instanceof Array) {\n",
       "                    // Chrome 84 implements new version of spec.\n",
       "                    width = entry.contentBoxSize[0].inlineSize;\n",
       "                    height = entry.contentBoxSize[0].blockSize;\n",
       "                } else {\n",
       "                    // Firefox implements old version of spec.\n",
       "                    width = entry.contentBoxSize.inlineSize;\n",
       "                    height = entry.contentBoxSize.blockSize;\n",
       "                }\n",
       "            } else {\n",
       "                // Chrome <84 implements even older version of spec.\n",
       "                width = entry.contentRect.width;\n",
       "                height = entry.contentRect.height;\n",
       "            }\n",
       "\n",
       "            // Keep the size of the canvas and rubber band canvas in sync with\n",
       "            // the canvas container.\n",
       "            if (entry.devicePixelContentBoxSize) {\n",
       "                // Chrome 84 implements new version of spec.\n",
       "                canvas.setAttribute(\n",
       "                    'width',\n",
       "                    entry.devicePixelContentBoxSize[0].inlineSize\n",
       "                );\n",
       "                canvas.setAttribute(\n",
       "                    'height',\n",
       "                    entry.devicePixelContentBoxSize[0].blockSize\n",
       "                );\n",
       "            } else {\n",
       "                canvas.setAttribute('width', width * fig.ratio);\n",
       "                canvas.setAttribute('height', height * fig.ratio);\n",
       "            }\n",
       "            /* This rescales the canvas back to display pixels, so that it\n",
       "             * appears correct on HiDPI screens. */\n",
       "            canvas.style.width = width + 'px';\n",
       "            canvas.style.height = height + 'px';\n",
       "\n",
       "            rubberband_canvas.setAttribute('width', width);\n",
       "            rubberband_canvas.setAttribute('height', height);\n",
       "\n",
       "            // And update the size in Python. We ignore the initial 0/0 size\n",
       "            // that occurs as the element is placed into the DOM, which should\n",
       "            // otherwise not happen due to the minimum size styling.\n",
       "            if (fig.ws.readyState == 1 && width != 0 && height != 0) {\n",
       "                fig.request_resize(width, height);\n",
       "            }\n",
       "        }\n",
       "    });\n",
       "    this.resizeObserverInstance.observe(canvas_div);\n",
       "\n",
       "    function on_mouse_event_closure(name) {\n",
       "        /* User Agent sniffing is bad, but WebKit is busted:\n",
       "         * https://bugs.webkit.org/show_bug.cgi?id=144526\n",
       "         * https://bugs.webkit.org/show_bug.cgi?id=181818\n",
       "         * The worst that happens here is that they get an extra browser\n",
       "         * selection when dragging, if this check fails to catch them.\n",
       "         */\n",
       "        var UA = navigator.userAgent;\n",
       "        var isWebKit = /AppleWebKit/.test(UA) && !/Chrome/.test(UA);\n",
       "        if(isWebKit) {\n",
       "            return function (event) {\n",
       "                /* This prevents the web browser from automatically changing to\n",
       "                 * the text insertion cursor when the button is pressed. We\n",
       "                 * want to control all of the cursor setting manually through\n",
       "                 * the 'cursor' event from matplotlib */\n",
       "                event.preventDefault()\n",
       "                return fig.mouse_event(event, name);\n",
       "            };\n",
       "        } else {\n",
       "            return function (event) {\n",
       "                return fig.mouse_event(event, name);\n",
       "            };\n",
       "        }\n",
       "    }\n",
       "\n",
       "    canvas_div.addEventListener(\n",
       "        'mousedown',\n",
       "        on_mouse_event_closure('button_press')\n",
       "    );\n",
       "    canvas_div.addEventListener(\n",
       "        'mouseup',\n",
       "        on_mouse_event_closure('button_release')\n",
       "    );\n",
       "    canvas_div.addEventListener(\n",
       "        'dblclick',\n",
       "        on_mouse_event_closure('dblclick')\n",
       "    );\n",
       "    // Throttle sequential mouse events to 1 every 20ms.\n",
       "    canvas_div.addEventListener(\n",
       "        'mousemove',\n",
       "        on_mouse_event_closure('motion_notify')\n",
       "    );\n",
       "\n",
       "    canvas_div.addEventListener(\n",
       "        'mouseenter',\n",
       "        on_mouse_event_closure('figure_enter')\n",
       "    );\n",
       "    canvas_div.addEventListener(\n",
       "        'mouseleave',\n",
       "        on_mouse_event_closure('figure_leave')\n",
       "    );\n",
       "\n",
       "    canvas_div.addEventListener('wheel', function (event) {\n",
       "        if (event.deltaY < 0) {\n",
       "            event.step = 1;\n",
       "        } else {\n",
       "            event.step = -1;\n",
       "        }\n",
       "        on_mouse_event_closure('scroll')(event);\n",
       "    });\n",
       "\n",
       "    canvas_div.appendChild(canvas);\n",
       "    canvas_div.appendChild(rubberband_canvas);\n",
       "\n",
       "    this.rubberband_context = rubberband_canvas.getContext('2d');\n",
       "    this.rubberband_context.strokeStyle = '#000000';\n",
       "\n",
       "    this._resize_canvas = function (width, height, forward) {\n",
       "        if (forward) {\n",
       "            canvas_div.style.width = width + 'px';\n",
       "            canvas_div.style.height = height + 'px';\n",
       "        }\n",
       "    };\n",
       "\n",
       "    // Disable right mouse context menu.\n",
       "    canvas_div.addEventListener('contextmenu', function (_e) {\n",
       "        event.preventDefault();\n",
       "        return false;\n",
       "    });\n",
       "\n",
       "    function set_focus() {\n",
       "        canvas.focus();\n",
       "        canvas_div.focus();\n",
       "    }\n",
       "\n",
       "    window.setTimeout(set_focus, 100);\n",
       "};\n",
       "\n",
       "mpl.figure.prototype._init_toolbar = function () {\n",
       "    var fig = this;\n",
       "\n",
       "    var toolbar = document.createElement('div');\n",
       "    toolbar.classList = 'mpl-toolbar';\n",
       "    this.root.appendChild(toolbar);\n",
       "\n",
       "    function on_click_closure(name) {\n",
       "        return function (_event) {\n",
       "            return fig.toolbar_button_onclick(name);\n",
       "        };\n",
       "    }\n",
       "\n",
       "    function on_mouseover_closure(tooltip) {\n",
       "        return function (event) {\n",
       "            if (!event.currentTarget.disabled) {\n",
       "                return fig.toolbar_button_onmouseover(tooltip);\n",
       "            }\n",
       "        };\n",
       "    }\n",
       "\n",
       "    fig.buttons = {};\n",
       "    var buttonGroup = document.createElement('div');\n",
       "    buttonGroup.classList = 'mpl-button-group';\n",
       "    for (var toolbar_ind in mpl.toolbar_items) {\n",
       "        var name = mpl.toolbar_items[toolbar_ind][0];\n",
       "        var tooltip = mpl.toolbar_items[toolbar_ind][1];\n",
       "        var image = mpl.toolbar_items[toolbar_ind][2];\n",
       "        var method_name = mpl.toolbar_items[toolbar_ind][3];\n",
       "\n",
       "        if (!name) {\n",
       "            /* Instead of a spacer, we start a new button group. */\n",
       "            if (buttonGroup.hasChildNodes()) {\n",
       "                toolbar.appendChild(buttonGroup);\n",
       "            }\n",
       "            buttonGroup = document.createElement('div');\n",
       "            buttonGroup.classList = 'mpl-button-group';\n",
       "            continue;\n",
       "        }\n",
       "\n",
       "        var button = (fig.buttons[name] = document.createElement('button'));\n",
       "        button.classList = 'mpl-widget';\n",
       "        button.setAttribute('role', 'button');\n",
       "        button.setAttribute('aria-disabled', 'false');\n",
       "        button.addEventListener('click', on_click_closure(method_name));\n",
       "        button.addEventListener('mouseover', on_mouseover_closure(tooltip));\n",
       "\n",
       "        var icon_img = document.createElement('img');\n",
       "        icon_img.src = '_images/' + image + '.png';\n",
       "        icon_img.srcset = '_images/' + image + '_large.png 2x';\n",
       "        icon_img.alt = tooltip;\n",
       "        button.appendChild(icon_img);\n",
       "\n",
       "        buttonGroup.appendChild(button);\n",
       "    }\n",
       "\n",
       "    if (buttonGroup.hasChildNodes()) {\n",
       "        toolbar.appendChild(buttonGroup);\n",
       "    }\n",
       "\n",
       "    var fmt_picker = document.createElement('select');\n",
       "    fmt_picker.classList = 'mpl-widget';\n",
       "    toolbar.appendChild(fmt_picker);\n",
       "    this.format_dropdown = fmt_picker;\n",
       "\n",
       "    for (var ind in mpl.extensions) {\n",
       "        var fmt = mpl.extensions[ind];\n",
       "        var option = document.createElement('option');\n",
       "        option.selected = fmt === mpl.default_extension;\n",
       "        option.innerHTML = fmt;\n",
       "        fmt_picker.appendChild(option);\n",
       "    }\n",
       "\n",
       "    var status_bar = document.createElement('span');\n",
       "    status_bar.classList = 'mpl-message';\n",
       "    toolbar.appendChild(status_bar);\n",
       "    this.message = status_bar;\n",
       "};\n",
       "\n",
       "mpl.figure.prototype.request_resize = function (x_pixels, y_pixels) {\n",
       "    // Request matplotlib to resize the figure. Matplotlib will then trigger a resize in the client,\n",
       "    // which will in turn request a refresh of the image.\n",
       "    this.send_message('resize', { width: x_pixels, height: y_pixels });\n",
       "};\n",
       "\n",
       "mpl.figure.prototype.send_message = function (type, properties) {\n",
       "    properties['type'] = type;\n",
       "    properties['figure_id'] = this.id;\n",
       "    this.ws.send(JSON.stringify(properties));\n",
       "};\n",
       "\n",
       "mpl.figure.prototype.send_draw_message = function () {\n",
       "    if (!this.waiting) {\n",
       "        this.waiting = true;\n",
       "        this.ws.send(JSON.stringify({ type: 'draw', figure_id: this.id }));\n",
       "    }\n",
       "};\n",
       "\n",
       "mpl.figure.prototype.handle_save = function (fig, _msg) {\n",
       "    var format_dropdown = fig.format_dropdown;\n",
       "    var format = format_dropdown.options[format_dropdown.selectedIndex].value;\n",
       "    fig.ondownload(fig, format);\n",
       "};\n",
       "\n",
       "mpl.figure.prototype.handle_resize = function (fig, msg) {\n",
       "    var size = msg['size'];\n",
       "    if (size[0] !== fig.canvas.width || size[1] !== fig.canvas.height) {\n",
       "        fig._resize_canvas(size[0], size[1], msg['forward']);\n",
       "        fig.send_message('refresh', {});\n",
       "    }\n",
       "};\n",
       "\n",
       "mpl.figure.prototype.handle_rubberband = function (fig, msg) {\n",
       "    var x0 = msg['x0'] / fig.ratio;\n",
       "    var y0 = (fig.canvas.height - msg['y0']) / fig.ratio;\n",
       "    var x1 = msg['x1'] / fig.ratio;\n",
       "    var y1 = (fig.canvas.height - msg['y1']) / fig.ratio;\n",
       "    x0 = Math.floor(x0) + 0.5;\n",
       "    y0 = Math.floor(y0) + 0.5;\n",
       "    x1 = Math.floor(x1) + 0.5;\n",
       "    y1 = Math.floor(y1) + 0.5;\n",
       "    var min_x = Math.min(x0, x1);\n",
       "    var min_y = Math.min(y0, y1);\n",
       "    var width = Math.abs(x1 - x0);\n",
       "    var height = Math.abs(y1 - y0);\n",
       "\n",
       "    fig.rubberband_context.clearRect(\n",
       "        0,\n",
       "        0,\n",
       "        fig.canvas.width / fig.ratio,\n",
       "        fig.canvas.height / fig.ratio\n",
       "    );\n",
       "\n",
       "    fig.rubberband_context.strokeRect(min_x, min_y, width, height);\n",
       "};\n",
       "\n",
       "mpl.figure.prototype.handle_figure_label = function (fig, msg) {\n",
       "    // Updates the figure title.\n",
       "    fig.header.textContent = msg['label'];\n",
       "};\n",
       "\n",
       "mpl.figure.prototype.handle_cursor = function (fig, msg) {\n",
       "    fig.canvas_div.style.cursor = msg['cursor'];\n",
       "};\n",
       "\n",
       "mpl.figure.prototype.handle_message = function (fig, msg) {\n",
       "    fig.message.textContent = msg['message'];\n",
       "};\n",
       "\n",
       "mpl.figure.prototype.handle_draw = function (fig, _msg) {\n",
       "    // Request the server to send over a new figure.\n",
       "    fig.send_draw_message();\n",
       "};\n",
       "\n",
       "mpl.figure.prototype.handle_image_mode = function (fig, msg) {\n",
       "    fig.image_mode = msg['mode'];\n",
       "};\n",
       "\n",
       "mpl.figure.prototype.handle_history_buttons = function (fig, msg) {\n",
       "    for (var key in msg) {\n",
       "        if (!(key in fig.buttons)) {\n",
       "            continue;\n",
       "        }\n",
       "        fig.buttons[key].disabled = !msg[key];\n",
       "        fig.buttons[key].setAttribute('aria-disabled', !msg[key]);\n",
       "    }\n",
       "};\n",
       "\n",
       "mpl.figure.prototype.handle_navigate_mode = function (fig, msg) {\n",
       "    if (msg['mode'] === 'PAN') {\n",
       "        fig.buttons['Pan'].classList.add('active');\n",
       "        fig.buttons['Zoom'].classList.remove('active');\n",
       "    } else if (msg['mode'] === 'ZOOM') {\n",
       "        fig.buttons['Pan'].classList.remove('active');\n",
       "        fig.buttons['Zoom'].classList.add('active');\n",
       "    } else {\n",
       "        fig.buttons['Pan'].classList.remove('active');\n",
       "        fig.buttons['Zoom'].classList.remove('active');\n",
       "    }\n",
       "};\n",
       "\n",
       "mpl.figure.prototype.updated_canvas_event = function () {\n",
       "    // Called whenever the canvas gets updated.\n",
       "    this.send_message('ack', {});\n",
       "};\n",
       "\n",
       "// A function to construct a web socket function for onmessage handling.\n",
       "// Called in the figure constructor.\n",
       "mpl.figure.prototype._make_on_message_function = function (fig) {\n",
       "    return function socket_on_message(evt) {\n",
       "        if (evt.data instanceof Blob) {\n",
       "            var img = evt.data;\n",
       "            if (img.type !== 'image/png') {\n",
       "                /* FIXME: We get \"Resource interpreted as Image but\n",
       "                 * transferred with MIME type text/plain:\" errors on\n",
       "                 * Chrome.  But how to set the MIME type?  It doesn't seem\n",
       "                 * to be part of the websocket stream */\n",
       "                img.type = 'image/png';\n",
       "            }\n",
       "\n",
       "            /* Free the memory for the previous frames */\n",
       "            if (fig.imageObj.src) {\n",
       "                (window.URL || window.webkitURL).revokeObjectURL(\n",
       "                    fig.imageObj.src\n",
       "                );\n",
       "            }\n",
       "\n",
       "            fig.imageObj.src = (window.URL || window.webkitURL).createObjectURL(\n",
       "                img\n",
       "            );\n",
       "            fig.updated_canvas_event();\n",
       "            fig.waiting = false;\n",
       "            return;\n",
       "        } else if (\n",
       "            typeof evt.data === 'string' &&\n",
       "            evt.data.slice(0, 21) === 'data:image/png;base64'\n",
       "        ) {\n",
       "            fig.imageObj.src = evt.data;\n",
       "            fig.updated_canvas_event();\n",
       "            fig.waiting = false;\n",
       "            return;\n",
       "        }\n",
       "\n",
       "        var msg = JSON.parse(evt.data);\n",
       "        var msg_type = msg['type'];\n",
       "\n",
       "        // Call the  \"handle_{type}\" callback, which takes\n",
       "        // the figure and JSON message as its only arguments.\n",
       "        try {\n",
       "            var callback = fig['handle_' + msg_type];\n",
       "        } catch (e) {\n",
       "            console.log(\n",
       "                \"No handler for the '\" + msg_type + \"' message type: \",\n",
       "                msg\n",
       "            );\n",
       "            return;\n",
       "        }\n",
       "\n",
       "        if (callback) {\n",
       "            try {\n",
       "                // console.log(\"Handling '\" + msg_type + \"' message: \", msg);\n",
       "                callback(fig, msg);\n",
       "            } catch (e) {\n",
       "                console.log(\n",
       "                    \"Exception inside the 'handler_\" + msg_type + \"' callback:\",\n",
       "                    e,\n",
       "                    e.stack,\n",
       "                    msg\n",
       "                );\n",
       "            }\n",
       "        }\n",
       "    };\n",
       "};\n",
       "\n",
       "function getModifiers(event) {\n",
       "    var mods = [];\n",
       "    if (event.ctrlKey) {\n",
       "        mods.push('ctrl');\n",
       "    }\n",
       "    if (event.altKey) {\n",
       "        mods.push('alt');\n",
       "    }\n",
       "    if (event.shiftKey) {\n",
       "        mods.push('shift');\n",
       "    }\n",
       "    if (event.metaKey) {\n",
       "        mods.push('meta');\n",
       "    }\n",
       "    return mods;\n",
       "}\n",
       "\n",
       "/*\n",
       " * return a copy of an object with only non-object keys\n",
       " * we need this to avoid circular references\n",
       " * https://stackoverflow.com/a/24161582/3208463\n",
       " */\n",
       "function simpleKeys(original) {\n",
       "    return Object.keys(original).reduce(function (obj, key) {\n",
       "        if (typeof original[key] !== 'object') {\n",
       "            obj[key] = original[key];\n",
       "        }\n",
       "        return obj;\n",
       "    }, {});\n",
       "}\n",
       "\n",
       "mpl.figure.prototype.mouse_event = function (event, name) {\n",
       "    if (name === 'button_press') {\n",
       "        this.canvas.focus();\n",
       "        this.canvas_div.focus();\n",
       "    }\n",
       "\n",
       "    // from https://stackoverflow.com/q/1114465\n",
       "    var boundingRect = this.canvas.getBoundingClientRect();\n",
       "    var x = (event.clientX - boundingRect.left) * this.ratio;\n",
       "    var y = (event.clientY - boundingRect.top) * this.ratio;\n",
       "\n",
       "    this.send_message(name, {\n",
       "        x: x,\n",
       "        y: y,\n",
       "        button: event.button,\n",
       "        step: event.step,\n",
       "        modifiers: getModifiers(event),\n",
       "        guiEvent: simpleKeys(event),\n",
       "    });\n",
       "\n",
       "    return false;\n",
       "};\n",
       "\n",
       "mpl.figure.prototype._key_event_extra = function (_event, _name) {\n",
       "    // Handle any extra behaviour associated with a key event\n",
       "};\n",
       "\n",
       "mpl.figure.prototype.key_event = function (event, name) {\n",
       "    // Prevent repeat events\n",
       "    if (name === 'key_press') {\n",
       "        if (event.key === this._key) {\n",
       "            return;\n",
       "        } else {\n",
       "            this._key = event.key;\n",
       "        }\n",
       "    }\n",
       "    if (name === 'key_release') {\n",
       "        this._key = null;\n",
       "    }\n",
       "\n",
       "    var value = '';\n",
       "    if (event.ctrlKey && event.key !== 'Control') {\n",
       "        value += 'ctrl+';\n",
       "    }\n",
       "    else if (event.altKey && event.key !== 'Alt') {\n",
       "        value += 'alt+';\n",
       "    }\n",
       "    else if (event.shiftKey && event.key !== 'Shift') {\n",
       "        value += 'shift+';\n",
       "    }\n",
       "\n",
       "    value += 'k' + event.key;\n",
       "\n",
       "    this._key_event_extra(event, name);\n",
       "\n",
       "    this.send_message(name, { key: value, guiEvent: simpleKeys(event) });\n",
       "    return false;\n",
       "};\n",
       "\n",
       "mpl.figure.prototype.toolbar_button_onclick = function (name) {\n",
       "    if (name === 'download') {\n",
       "        this.handle_save(this, null);\n",
       "    } else {\n",
       "        this.send_message('toolbar_button', { name: name });\n",
       "    }\n",
       "};\n",
       "\n",
       "mpl.figure.prototype.toolbar_button_onmouseover = function (tooltip) {\n",
       "    this.message.textContent = tooltip;\n",
       "};\n",
       "\n",
       "///////////////// REMAINING CONTENT GENERATED BY embed_js.py /////////////////\n",
       "// prettier-ignore\n",
       "var _JSXTOOLS_RESIZE_OBSERVER=function(A){var t,i=new WeakMap,n=new WeakMap,a=new WeakMap,r=new WeakMap,o=new Set;function s(e){if(!(this instanceof s))throw new TypeError(\"Constructor requires 'new' operator\");i.set(this,e)}function h(){throw new TypeError(\"Function is not a constructor\")}function c(e,t,i,n){e=0 in arguments?Number(arguments[0]):0,t=1 in arguments?Number(arguments[1]):0,i=2 in arguments?Number(arguments[2]):0,n=3 in arguments?Number(arguments[3]):0,this.right=(this.x=this.left=e)+(this.width=i),this.bottom=(this.y=this.top=t)+(this.height=n),Object.freeze(this)}function d(){t=requestAnimationFrame(d);var s=new WeakMap,p=new Set;o.forEach((function(t){r.get(t).forEach((function(i){var r=t instanceof window.SVGElement,o=a.get(t),d=r?0:parseFloat(o.paddingTop),f=r?0:parseFloat(o.paddingRight),l=r?0:parseFloat(o.paddingBottom),u=r?0:parseFloat(o.paddingLeft),g=r?0:parseFloat(o.borderTopWidth),m=r?0:parseFloat(o.borderRightWidth),w=r?0:parseFloat(o.borderBottomWidth),b=u+f,F=d+l,v=(r?0:parseFloat(o.borderLeftWidth))+m,W=g+w,y=r?0:t.offsetHeight-W-t.clientHeight,E=r?0:t.offsetWidth-v-t.clientWidth,R=b+v,z=F+W,M=r?t.width:parseFloat(o.width)-R-E,O=r?t.height:parseFloat(o.height)-z-y;if(n.has(t)){var k=n.get(t);if(k[0]===M&&k[1]===O)return}n.set(t,[M,O]);var S=Object.create(h.prototype);S.target=t,S.contentRect=new c(u,d,M,O),s.has(i)||(s.set(i,[]),p.add(i)),s.get(i).push(S)}))})),p.forEach((function(e){i.get(e).call(e,s.get(e),e)}))}return s.prototype.observe=function(i){if(i instanceof window.Element){r.has(i)||(r.set(i,new Set),o.add(i),a.set(i,window.getComputedStyle(i)));var n=r.get(i);n.has(this)||n.add(this),cancelAnimationFrame(t),t=requestAnimationFrame(d)}},s.prototype.unobserve=function(i){if(i instanceof window.Element&&r.has(i)){var n=r.get(i);n.has(this)&&(n.delete(this),n.size||(r.delete(i),o.delete(i))),n.size||r.delete(i),o.size||cancelAnimationFrame(t)}},A.DOMRectReadOnly=c,A.ResizeObserver=s,A.ResizeObserverEntry=h,A}; // eslint-disable-line\n",
       "mpl.toolbar_items = [[\"Home\", \"Reset original view\", \"fa fa-home\", \"home\"], [\"Back\", \"Back to previous view\", \"fa fa-arrow-left\", \"back\"], [\"Forward\", \"Forward to next view\", \"fa fa-arrow-right\", \"forward\"], [\"\", \"\", \"\", \"\"], [\"Pan\", \"Left button pans, Right button zooms\\nx/y fixes axis, CTRL fixes aspect\", \"fa fa-arrows\", \"pan\"], [\"Zoom\", \"Zoom to rectangle\\nx/y fixes axis\", \"fa fa-square-o\", \"zoom\"], [\"\", \"\", \"\", \"\"], [\"Download\", \"Download plot\", \"fa fa-floppy-o\", \"download\"]];\n",
       "\n",
       "mpl.extensions = [\"eps\", \"jpeg\", \"pgf\", \"pdf\", \"png\", \"ps\", \"raw\", \"svg\", \"tif\", \"webp\"];\n",
       "\n",
       "mpl.default_extension = \"png\";/* global mpl */\n",
       "\n",
       "var comm_websocket_adapter = function (comm) {\n",
       "    // Create a \"websocket\"-like object which calls the given IPython comm\n",
       "    // object with the appropriate methods. Currently this is a non binary\n",
       "    // socket, so there is still some room for performance tuning.\n",
       "    var ws = {};\n",
       "\n",
       "    ws.binaryType = comm.kernel.ws.binaryType;\n",
       "    ws.readyState = comm.kernel.ws.readyState;\n",
       "    function updateReadyState(_event) {\n",
       "        if (comm.kernel.ws) {\n",
       "            ws.readyState = comm.kernel.ws.readyState;\n",
       "        } else {\n",
       "            ws.readyState = 3; // Closed state.\n",
       "        }\n",
       "    }\n",
       "    comm.kernel.ws.addEventListener('open', updateReadyState);\n",
       "    comm.kernel.ws.addEventListener('close', updateReadyState);\n",
       "    comm.kernel.ws.addEventListener('error', updateReadyState);\n",
       "\n",
       "    ws.close = function () {\n",
       "        comm.close();\n",
       "    };\n",
       "    ws.send = function (m) {\n",
       "        //console.log('sending', m);\n",
       "        comm.send(m);\n",
       "    };\n",
       "    // Register the callback with on_msg.\n",
       "    comm.on_msg(function (msg) {\n",
       "        //console.log('receiving', msg['content']['data'], msg);\n",
       "        var data = msg['content']['data'];\n",
       "        if (data['blob'] !== undefined) {\n",
       "            data = {\n",
       "                data: new Blob(msg['buffers'], { type: data['blob'] }),\n",
       "            };\n",
       "        }\n",
       "        // Pass the mpl event to the overridden (by mpl) onmessage function.\n",
       "        ws.onmessage(data);\n",
       "    });\n",
       "    return ws;\n",
       "};\n",
       "\n",
       "mpl.mpl_figure_comm = function (comm, msg) {\n",
       "    // This is the function which gets called when the mpl process\n",
       "    // starts-up an IPython Comm through the \"matplotlib\" channel.\n",
       "\n",
       "    var id = msg.content.data.id;\n",
       "    // Get hold of the div created by the display call when the Comm\n",
       "    // socket was opened in Python.\n",
       "    var element = document.getElementById(id);\n",
       "    var ws_proxy = comm_websocket_adapter(comm);\n",
       "\n",
       "    function ondownload(figure, _format) {\n",
       "        window.open(figure.canvas.toDataURL());\n",
       "    }\n",
       "\n",
       "    var fig = new mpl.figure(id, ws_proxy, ondownload, element);\n",
       "\n",
       "    // Call onopen now - mpl needs it, as it is assuming we've passed it a real\n",
       "    // web socket which is closed, not our websocket->open comm proxy.\n",
       "    ws_proxy.onopen();\n",
       "\n",
       "    fig.parent_element = element;\n",
       "    fig.cell_info = mpl.find_output_cell(\"<div id='\" + id + \"'></div>\");\n",
       "    if (!fig.cell_info) {\n",
       "        console.error('Failed to find cell for figure', id, fig);\n",
       "        return;\n",
       "    }\n",
       "    fig.cell_info[0].output_area.element.on(\n",
       "        'cleared',\n",
       "        { fig: fig },\n",
       "        fig._remove_fig_handler\n",
       "    );\n",
       "};\n",
       "\n",
       "mpl.figure.prototype.handle_close = function (fig, msg) {\n",
       "    var width = fig.canvas.width / fig.ratio;\n",
       "    fig.cell_info[0].output_area.element.off(\n",
       "        'cleared',\n",
       "        fig._remove_fig_handler\n",
       "    );\n",
       "    fig.resizeObserverInstance.unobserve(fig.canvas_div);\n",
       "\n",
       "    // Update the output cell to use the data from the current canvas.\n",
       "    fig.push_to_output();\n",
       "    var dataURL = fig.canvas.toDataURL();\n",
       "    // Re-enable the keyboard manager in IPython - without this line, in FF,\n",
       "    // the notebook keyboard shortcuts fail.\n",
       "    IPython.keyboard_manager.enable();\n",
       "    fig.parent_element.innerHTML =\n",
       "        '<img src=\"' + dataURL + '\" width=\"' + width + '\">';\n",
       "    fig.close_ws(fig, msg);\n",
       "};\n",
       "\n",
       "mpl.figure.prototype.close_ws = function (fig, msg) {\n",
       "    fig.send_message('closing', msg);\n",
       "    // fig.ws.close()\n",
       "};\n",
       "\n",
       "mpl.figure.prototype.push_to_output = function (_remove_interactive) {\n",
       "    // Turn the data on the canvas into data in the output cell.\n",
       "    var width = this.canvas.width / this.ratio;\n",
       "    var dataURL = this.canvas.toDataURL();\n",
       "    this.cell_info[1]['text/html'] =\n",
       "        '<img src=\"' + dataURL + '\" width=\"' + width + '\">';\n",
       "};\n",
       "\n",
       "mpl.figure.prototype.updated_canvas_event = function () {\n",
       "    // Tell IPython that the notebook contents must change.\n",
       "    IPython.notebook.set_dirty(true);\n",
       "    this.send_message('ack', {});\n",
       "    var fig = this;\n",
       "    // Wait a second, then push the new image to the DOM so\n",
       "    // that it is saved nicely (might be nice to debounce this).\n",
       "    setTimeout(function () {\n",
       "        fig.push_to_output();\n",
       "    }, 1000);\n",
       "};\n",
       "\n",
       "mpl.figure.prototype._init_toolbar = function () {\n",
       "    var fig = this;\n",
       "\n",
       "    var toolbar = document.createElement('div');\n",
       "    toolbar.classList = 'btn-toolbar';\n",
       "    this.root.appendChild(toolbar);\n",
       "\n",
       "    function on_click_closure(name) {\n",
       "        return function (_event) {\n",
       "            return fig.toolbar_button_onclick(name);\n",
       "        };\n",
       "    }\n",
       "\n",
       "    function on_mouseover_closure(tooltip) {\n",
       "        return function (event) {\n",
       "            if (!event.currentTarget.disabled) {\n",
       "                return fig.toolbar_button_onmouseover(tooltip);\n",
       "            }\n",
       "        };\n",
       "    }\n",
       "\n",
       "    fig.buttons = {};\n",
       "    var buttonGroup = document.createElement('div');\n",
       "    buttonGroup.classList = 'btn-group';\n",
       "    var button;\n",
       "    for (var toolbar_ind in mpl.toolbar_items) {\n",
       "        var name = mpl.toolbar_items[toolbar_ind][0];\n",
       "        var tooltip = mpl.toolbar_items[toolbar_ind][1];\n",
       "        var image = mpl.toolbar_items[toolbar_ind][2];\n",
       "        var method_name = mpl.toolbar_items[toolbar_ind][3];\n",
       "\n",
       "        if (!name) {\n",
       "            /* Instead of a spacer, we start a new button group. */\n",
       "            if (buttonGroup.hasChildNodes()) {\n",
       "                toolbar.appendChild(buttonGroup);\n",
       "            }\n",
       "            buttonGroup = document.createElement('div');\n",
       "            buttonGroup.classList = 'btn-group';\n",
       "            continue;\n",
       "        }\n",
       "\n",
       "        button = fig.buttons[name] = document.createElement('button');\n",
       "        button.classList = 'btn btn-default';\n",
       "        button.href = '#';\n",
       "        button.title = name;\n",
       "        button.innerHTML = '<i class=\"fa ' + image + ' fa-lg\"></i>';\n",
       "        button.addEventListener('click', on_click_closure(method_name));\n",
       "        button.addEventListener('mouseover', on_mouseover_closure(tooltip));\n",
       "        buttonGroup.appendChild(button);\n",
       "    }\n",
       "\n",
       "    if (buttonGroup.hasChildNodes()) {\n",
       "        toolbar.appendChild(buttonGroup);\n",
       "    }\n",
       "\n",
       "    // Add the status bar.\n",
       "    var status_bar = document.createElement('span');\n",
       "    status_bar.classList = 'mpl-message pull-right';\n",
       "    toolbar.appendChild(status_bar);\n",
       "    this.message = status_bar;\n",
       "\n",
       "    // Add the close button to the window.\n",
       "    var buttongrp = document.createElement('div');\n",
       "    buttongrp.classList = 'btn-group inline pull-right';\n",
       "    button = document.createElement('button');\n",
       "    button.classList = 'btn btn-mini btn-primary';\n",
       "    button.href = '#';\n",
       "    button.title = 'Stop Interaction';\n",
       "    button.innerHTML = '<i class=\"fa fa-power-off icon-remove icon-large\"></i>';\n",
       "    button.addEventListener('click', function (_evt) {\n",
       "        fig.handle_close(fig, {});\n",
       "    });\n",
       "    button.addEventListener(\n",
       "        'mouseover',\n",
       "        on_mouseover_closure('Stop Interaction')\n",
       "    );\n",
       "    buttongrp.appendChild(button);\n",
       "    var titlebar = this.root.querySelector('.ui-dialog-titlebar');\n",
       "    titlebar.insertBefore(buttongrp, titlebar.firstChild);\n",
       "};\n",
       "\n",
       "mpl.figure.prototype._remove_fig_handler = function (event) {\n",
       "    var fig = event.data.fig;\n",
       "    if (event.target !== this) {\n",
       "        // Ignore bubbled events from children.\n",
       "        return;\n",
       "    }\n",
       "    fig.close_ws(fig, {});\n",
       "};\n",
       "\n",
       "mpl.figure.prototype._root_extra_style = function (el) {\n",
       "    el.style.boxSizing = 'content-box'; // override notebook setting of border-box.\n",
       "};\n",
       "\n",
       "mpl.figure.prototype._canvas_extra_style = function (el) {\n",
       "    // this is important to make the div 'focusable\n",
       "    el.setAttribute('tabindex', 0);\n",
       "    // reach out to IPython and tell the keyboard manager to turn it's self\n",
       "    // off when our div gets focus\n",
       "\n",
       "    // location in version 3\n",
       "    if (IPython.notebook.keyboard_manager) {\n",
       "        IPython.notebook.keyboard_manager.register_events(el);\n",
       "    } else {\n",
       "        // location in version 2\n",
       "        IPython.keyboard_manager.register_events(el);\n",
       "    }\n",
       "};\n",
       "\n",
       "mpl.figure.prototype._key_event_extra = function (event, _name) {\n",
       "    // Check for shift+enter\n",
       "    if (event.shiftKey && event.which === 13) {\n",
       "        this.canvas_div.blur();\n",
       "        // select the cell after this one\n",
       "        var index = IPython.notebook.find_cell_index(this.cell_info[0]);\n",
       "        IPython.notebook.select(index + 1);\n",
       "    }\n",
       "};\n",
       "\n",
       "mpl.figure.prototype.handle_save = function (fig, _msg) {\n",
       "    fig.ondownload(fig, null);\n",
       "};\n",
       "\n",
       "mpl.find_output_cell = function (html_output) {\n",
       "    // Return the cell and output element which can be found *uniquely* in the notebook.\n",
       "    // Note - this is a bit hacky, but it is done because the \"notebook_saving.Notebook\"\n",
       "    // IPython event is triggered only after the cells have been serialised, which for\n",
       "    // our purposes (turning an active figure into a static one), is too late.\n",
       "    var cells = IPython.notebook.get_cells();\n",
       "    var ncells = cells.length;\n",
       "    for (var i = 0; i < ncells; i++) {\n",
       "        var cell = cells[i];\n",
       "        if (cell.cell_type === 'code') {\n",
       "            for (var j = 0; j < cell.output_area.outputs.length; j++) {\n",
       "                var data = cell.output_area.outputs[j];\n",
       "                if (data.data) {\n",
       "                    // IPython >= 3 moved mimebundle to data attribute of output\n",
       "                    data = data.data;\n",
       "                }\n",
       "                if (data['text/html'] === html_output) {\n",
       "                    return [cell, data, j];\n",
       "                }\n",
       "            }\n",
       "        }\n",
       "    }\n",
       "};\n",
       "\n",
       "// Register the function which deals with the matplotlib target/channel.\n",
       "// The kernel may be null if the page has been refreshed.\n",
       "if (IPython.notebook.kernel !== null) {\n",
       "    IPython.notebook.kernel.comm_manager.register_target(\n",
       "        'matplotlib',\n",
       "        mpl.mpl_figure_comm\n",
       "    );\n",
       "}\n"
      ],
      "text/plain": [
       "<IPython.core.display.Javascript object>"
      ]
     },
     "metadata": {},
     "output_type": "display_data"
    },
    {
     "data": {
      "text/html": [
       "<img src=\"data:image/png;base64,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\" width=\"1000\">"
      ],
      "text/plain": [
       "<IPython.core.display.HTML object>"
      ]
     },
     "metadata": {},
     "output_type": "display_data"
    }
   ],
   "source": [
    "#Use Matplotlib\n",
    "from dotenv import load_dotenv\n",
    "import matplotlib.pyplot as plt\n",
    "import alpaca_trade_api as api\n",
    "import os\n",
    "import pandas as pd\n",
    "import mplcyberpunk\n",
    "import datetime as dt\n",
    "\n",
    "\n",
    "plt.style.use('cyberpunk')\n",
    "\n",
    "\n",
    "\n",
    "\n",
    "symbol = \"SDS\"\n",
    "limit = 500\n",
    "\n",
    "# Set start and end dates as datetime objects\n",
    "start_date = pd.to_datetime(\"2022-01-01T14:30:00Z\", format=\"%Y-%m-%dT%H:%M:%SZ\")\n",
    "end_date = pd.to_datetime(\"2022-04-25T21:00:00Z\", format=\"%Y-%m-%dT%H:%M:%SZ\")\n",
    "\n",
    "# Convert datetime objects to string format\n",
    "start = start_date.strftime(\"%Y-%m-%dT%H:%M:%SZ\")\n",
    "end = end_date.strftime(\"%Y-%m-%dT%H:%M:%SZ\")\n",
    "\n",
    "# Authenticate with the Alpaca API\n",
    "load_dotenv(dotenv_path='../a.env')\n",
    "\n",
    "FED_API_KEY = os.environ['FED_API_KEY']\n",
    "ALPACA_KEY_ID = os.environ['ALPACA_KEY_ID']\n",
    "ALPACA_SECRETS_KEY = os.environ['ALPACA_SECRETS_ID']\n",
    "alpaca = api.REST(ALPACA_KEY_ID, ALPACA_SECRETS_KEY)\n",
    "\n",
    "# Get bid-ask sizes for the given symbol and time period\n",
    "data = alpaca.get_quotes(symbol, start=start, end=end, limit=limit).df\n",
    "data[\"spread\"] = data[\"ask_size\"] - data[\"bid_size\"]\n",
    "#Create Series for Date Column\n",
    "dates = pd.to_datetime(data.index).strftime('%Y-%m-%d')\n",
    "\n",
    "# Plot the bid-ask spread over time\n",
    "fig, ax = plt.subplots(figsize=(10, 5))\n",
    "ax.plot(dates, data[\"spread\"])\n",
    "\n",
    "# Format the plot\n",
    "ax.set_title(\"Bid-Ask Size Spread for {}\".format(symbol))\n",
    "ax.set_xlabel(\"Time\")\n",
    "ax.set_ylabel(\"Spread ($)\")\n",
    "ax.set_xlim(start, end)\n",
    "\n",
    "plt.show()\n"
   ]
  },
  {
   "cell_type": "code",
   "execution_count": 61,
   "id": "83787235",
   "metadata": {},
   "outputs": [
    {
     "name": "stdout",
     "output_type": "stream",
     "text": [
      "timestamp\n",
      "2022-01-03 09:00:00.023193+00:00        -1\n",
      "2022-01-03 09:00:00.023193+00:00         0\n",
      "2022-01-03 09:00:00.023345+00:00        38\n",
      "2022-01-03 09:00:00.023400+00:00        38\n",
      "2022-01-03 09:00:00.023525+00:00        80\n",
      "                                      ... \n",
      "2022-01-03 11:01:23.740016896+00:00    460\n",
      "2022-01-03 11:02:07.984456448+00:00     38\n",
      "2022-01-03 11:02:11.880620800+00:00    -42\n",
      "2022-01-03 11:03:33.017894912+00:00     38\n",
      "2022-01-03 11:04:17.944487424+00:00    -42\n",
      "Name: spread, Length: 500, dtype: int64\n"
     ]
    },
    {
     "data": {
      "image/png": "[encoded data removed]",
      "text/plain": [
       "<Figure size 3500x500 with 1 Axes>"
      ]
     },
     "metadata": {},
     "output_type": "display_data"
    }
   ],
   "source": [
    "from dotenv import load_dotenv\n",
    "import matplotlib.pyplot as plt\n",
    "import alpaca_trade_api as api\n",
    "import os\n",
    "import pandas as pd\n",
    "import mplcyberpunk\n",
    "import datetime as dt\n",
    "%matplotlib inline\n",
    "\n",
    "plt.style.use('cyberpunk')\n",
    "\n",
    "\n",
    "\n",
    "symbol = \"SDS\"\n",
    "limit = 500\n",
    "\n",
    "start_date = pd.to_datetime(\"2022-01-01T14:30:00Z\", format=\"%Y-%m-%dT%H:%M:%SZ\")\n",
    "end_date = pd.to_datetime(\"2022-04-25T21:00:00Z\", format=\"%Y-%m-%dT%H:%M:%SZ\")\n",
    "\n",
    "start = start_date.strftime(\"%Y-%m-%dT%H:%M:%SZ\")\n",
    "end = end_date.strftime(\"%Y-%m-%dT%H:%M:%SZ\")\n",
    "\n",
    "load_dotenv(dotenv_path='../a.env')\n",
    "\n",
    "FED_API_KEY = os.environ['FED_API_KEY']\n",
    "ALPACA_KEY_ID = os.environ['ALPACA_KEY_ID']\n",
    "ALPACA_SECRETS_KEY = os.environ['ALPACA_SECRETS_ID']\n",
    "alpaca = api.REST(ALPACA_KEY_ID, ALPACA_SECRETS_KEY)\n",
    "\n",
    "data = alpaca.get_quotes(symbol, start=start, end=end, limit=limit).df\n",
    "data[\"spread\"] = data[\"ask_size\"] - data[\"bid_size\"]\n",
    "\n",
    "fig, ax = plt.subplots(figsize=(35, 5))\n",
    "ax.plot(data.index, data[\"spread\"])\n",
    "\n",
    "ax.set_title(\"Bid-Ask Size Spread for {}\".format(symbol))\n",
    "ax.set_xlabel(\"Time\")\n",
    "ax.set_ylabel(\"Spread ($)\")\n",
    "\n",
    "# Format the x-axis tick labels\n",
    "ax.set_xticks(data.index)\n",
    "ax.set_xticklabels(pd.to_datetime(data.index).strftime('%Y-%m-%d'), rotation=90, ha='right')\n",
    "\n",
    "plt.show()"
   ]
  },
  {
   "cell_type": "code",
   "execution_count": 16,
   "id": "3526a824",
   "metadata": {},
   "outputs": [
    {
     "name": "stdout",
     "output_type": "stream",
     "text": [
      "timestamp\n",
      "2023-01-03 09:00:00.002133309+00:00   -1\n",
      "2023-01-03 09:00:00.002203603+00:00    0\n",
      "2023-01-03 09:00:00.024315400+00:00    0\n",
      "2023-01-03 09:00:00.177328943+00:00    0\n",
      "2023-01-03 09:00:01.667018799+00:00    0\n",
      "                                      ..\n",
      "2023-01-03 09:11:25.358616444+00:00    0\n",
      "2023-01-03 09:11:34.330413209+00:00    0\n",
      "2023-01-03 09:11:34.372672731+00:00    0\n",
      "2023-01-03 09:11:35.139577965+00:00    0\n",
      "2023-01-03 09:11:35.181187073+00:00    0\n",
      "Name: spread, Length: 500, dtype: int64\n"
     ]
    },
    {
     "data": {
      "application/javascript": [
       "/* Put everything inside the global mpl namespace */\n",
       "/* global mpl */\n",
       "window.mpl = {};\n",
       "\n",
       "mpl.get_websocket_type = function () {\n",
       "    if (typeof WebSocket !== 'undefined') {\n",
       "        return WebSocket;\n",
       "    } else if (typeof MozWebSocket !== 'undefined') {\n",
       "        return MozWebSocket;\n",
       "    } else {\n",
       "        alert(\n",
       "            'Your browser does not have WebSocket support. ' +\n",
       "                'Please try Chrome, Safari or Firefox ≥ 6. ' +\n",
       "                'Firefox 4 and 5 are also supported but you ' +\n",
       "                'have to enable WebSockets in about:config.'\n",
       "        );\n",
       "    }\n",
       "};\n",
       "\n",
       "mpl.figure = function (figure_id, websocket, ondownload, parent_element) {\n",
       "    this.id = figure_id;\n",
       "\n",
       "    this.ws = websocket;\n",
       "\n",
       "    this.supports_binary = this.ws.binaryType !== undefined;\n",
       "\n",
       "    if (!this.supports_binary) {\n",
       "        var warnings = document.getElementById('mpl-warnings');\n",
       "        if (warnings) {\n",
       "            warnings.style.display = 'block';\n",
       "            warnings.textContent =\n",
       "                'This browser does not support binary websocket messages. ' +\n",
       "                'Performance may be slow.';\n",
       "        }\n",
       "    }\n",
       "\n",
       "    this.imageObj = new Image();\n",
       "\n",
       "    this.context = undefined;\n",
       "    this.message = undefined;\n",
       "    this.canvas = undefined;\n",
       "    this.rubberband_canvas = undefined;\n",
       "    this.rubberband_context = undefined;\n",
       "    this.format_dropdown = undefined;\n",
       "\n",
       "    this.image_mode = 'full';\n",
       "\n",
       "    this.root = document.createElement('div');\n",
       "    this.root.setAttribute('style', 'display: inline-block');\n",
       "    this._root_extra_style(this.root);\n",
       "\n",
       "    parent_element.appendChild(this.root);\n",
       "\n",
       "    this._init_header(this);\n",
       "    this._init_canvas(this);\n",
       "    this._init_toolbar(this);\n",
       "\n",
       "    var fig = this;\n",
       "\n",
       "    this.waiting = false;\n",
       "\n",
       "    this.ws.onopen = function () {\n",
       "        fig.send_message('supports_binary', { value: fig.supports_binary });\n",
       "        fig.send_message('send_image_mode', {});\n",
       "        if (fig.ratio !== 1) {\n",
       "            fig.send_message('set_device_pixel_ratio', {\n",
       "                device_pixel_ratio: fig.ratio,\n",
       "            });\n",
       "        }\n",
       "        fig.send_message('refresh', {});\n",
       "    };\n",
       "\n",
       "    this.imageObj.onload = function () {\n",
       "        if (fig.image_mode === 'full') {\n",
       "            // Full images could contain transparency (where diff images\n",
       "            // almost always do), so we need to clear the canvas so that\n",
       "            // there is no ghosting.\n",
       "            fig.context.clearRect(0, 0, fig.canvas.width, fig.canvas.height);\n",
       "        }\n",
       "        fig.context.drawImage(fig.imageObj, 0, 0);\n",
       "    };\n",
       "\n",
       "    this.imageObj.onunload = function () {\n",
       "        fig.ws.close();\n",
       "    };\n",
       "\n",
       "    this.ws.onmessage = this._make_on_message_function(this);\n",
       "\n",
       "    this.ondownload = ondownload;\n",
       "};\n",
       "\n",
       "mpl.figure.prototype._init_header = function () {\n",
       "    var titlebar = document.createElement('div');\n",
       "    titlebar.classList =\n",
       "        'ui-dialog-titlebar ui-widget-header ui-corner-all ui-helper-clearfix';\n",
       "    var titletext = document.createElement('div');\n",
       "    titletext.classList = 'ui-dialog-title';\n",
       "    titletext.setAttribute(\n",
       "        'style',\n",
       "        'width: 100%; text-align: center; padding: 3px;'\n",
       "    );\n",
       "    titlebar.appendChild(titletext);\n",
       "    this.root.appendChild(titlebar);\n",
       "    this.header = titletext;\n",
       "};\n",
       "\n",
       "mpl.figure.prototype._canvas_extra_style = function (_canvas_div) {};\n",
       "\n",
       "mpl.figure.prototype._root_extra_style = function (_canvas_div) {};\n",
       "\n",
       "mpl.figure.prototype._init_canvas = function () {\n",
       "    var fig = this;\n",
       "\n",
       "    var canvas_div = (this.canvas_div = document.createElement('div'));\n",
       "    canvas_div.setAttribute('tabindex', '0');\n",
       "    canvas_div.setAttribute(\n",
       "        'style',\n",
       "        'border: 1px solid #ddd;' +\n",
       "            'box-sizing: content-box;' +\n",
       "            'clear: both;' +\n",
       "            'min-height: 1px;' +\n",
       "            'min-width: 1px;' +\n",
       "            'outline: 0;' +\n",
       "            'overflow: hidden;' +\n",
       "            'position: relative;' +\n",
       "            'resize: both;' +\n",
       "            'z-index: 2;'\n",
       "    );\n",
       "\n",
       "    function on_keyboard_event_closure(name) {\n",
       "        return function (event) {\n",
       "            return fig.key_event(event, name);\n",
       "        };\n",
       "    }\n",
       "\n",
       "    canvas_div.addEventListener(\n",
       "        'keydown',\n",
       "        on_keyboard_event_closure('key_press')\n",
       "    );\n",
       "    canvas_div.addEventListener(\n",
       "        'keyup',\n",
       "        on_keyboard_event_closure('key_release')\n",
       "    );\n",
       "\n",
       "    this._canvas_extra_style(canvas_div);\n",
       "    this.root.appendChild(canvas_div);\n",
       "\n",
       "    var canvas = (this.canvas = document.createElement('canvas'));\n",
       "    canvas.classList.add('mpl-canvas');\n",
       "    canvas.setAttribute(\n",
       "        'style',\n",
       "        'box-sizing: content-box;' +\n",
       "            'pointer-events: none;' +\n",
       "            'position: relative;' +\n",
       "            'z-index: 0;'\n",
       "    );\n",
       "\n",
       "    this.context = canvas.getContext('2d');\n",
       "\n",
       "    var backingStore =\n",
       "        this.context.backingStorePixelRatio ||\n",
       "        this.context.webkitBackingStorePixelRatio ||\n",
       "        this.context.mozBackingStorePixelRatio ||\n",
       "        this.context.msBackingStorePixelRatio ||\n",
       "        this.context.oBackingStorePixelRatio ||\n",
       "        this.context.backingStorePixelRatio ||\n",
       "        1;\n",
       "\n",
       "    this.ratio = (window.devicePixelRatio || 1) / backingStore;\n",
       "\n",
       "    var rubberband_canvas = (this.rubberband_canvas = document.createElement(\n",
       "        'canvas'\n",
       "    ));\n",
       "    rubberband_canvas.setAttribute(\n",
       "        'style',\n",
       "        'box-sizing: content-box;' +\n",
       "            'left: 0;' +\n",
       "            'pointer-events: none;' +\n",
       "            'position: absolute;' +\n",
       "            'top: 0;' +\n",
       "            'z-index: 1;'\n",
       "    );\n",
       "\n",
       "    // Apply a ponyfill if ResizeObserver is not implemented by browser.\n",
       "    if (this.ResizeObserver === undefined) {\n",
       "        if (window.ResizeObserver !== undefined) {\n",
       "            this.ResizeObserver = window.ResizeObserver;\n",
       "        } else {\n",
       "            var obs = _JSXTOOLS_RESIZE_OBSERVER({});\n",
       "            this.ResizeObserver = obs.ResizeObserver;\n",
       "        }\n",
       "    }\n",
       "\n",
       "    this.resizeObserverInstance = new this.ResizeObserver(function (entries) {\n",
       "        var nentries = entries.length;\n",
       "        for (var i = 0; i < nentries; i++) {\n",
       "            var entry = entries[i];\n",
       "            var width, height;\n",
       "            if (entry.contentBoxSize) {\n",
       "                if (entry.contentBoxSize instanceof Array) {\n",
       "                    // Chrome 84 implements new version of spec.\n",
       "                    width = entry.contentBoxSize[0].inlineSize;\n",
       "                    height = entry.contentBoxSize[0].blockSize;\n",
       "                } else {\n",
       "                    // Firefox implements old version of spec.\n",
       "                    width = entry.contentBoxSize.inlineSize;\n",
       "                    height = entry.contentBoxSize.blockSize;\n",
       "                }\n",
       "            } else {\n",
       "                // Chrome <84 implements even older version of spec.\n",
       "                width = entry.contentRect.width;\n",
       "                height = entry.contentRect.height;\n",
       "            }\n",
       "\n",
       "            // Keep the size of the canvas and rubber band canvas in sync with\n",
       "            // the canvas container.\n",
       "            if (entry.devicePixelContentBoxSize) {\n",
       "                // Chrome 84 implements new version of spec.\n",
       "                canvas.setAttribute(\n",
       "                    'width',\n",
       "                    entry.devicePixelContentBoxSize[0].inlineSize\n",
       "                );\n",
       "                canvas.setAttribute(\n",
       "                    'height',\n",
       "                    entry.devicePixelContentBoxSize[0].blockSize\n",
       "                );\n",
       "            } else {\n",
       "                canvas.setAttribute('width', width * fig.ratio);\n",
       "                canvas.setAttribute('height', height * fig.ratio);\n",
       "            }\n",
       "            /* This rescales the canvas back to display pixels, so that it\n",
       "             * appears correct on HiDPI screens. */\n",
       "            canvas.style.width = width + 'px';\n",
       "            canvas.style.height = height + 'px';\n",
       "\n",
       "            rubberband_canvas.setAttribute('width', width);\n",
       "            rubberband_canvas.setAttribute('height', height);\n",
       "\n",
       "            // And update the size in Python. We ignore the initial 0/0 size\n",
       "            // that occurs as the element is placed into the DOM, which should\n",
       "            // otherwise not happen due to the minimum size styling.\n",
       "            if (fig.ws.readyState == 1 && width != 0 && height != 0) {\n",
       "                fig.request_resize(width, height);\n",
       "            }\n",
       "        }\n",
       "    });\n",
       "    this.resizeObserverInstance.observe(canvas_div);\n",
       "\n",
       "    function on_mouse_event_closure(name) {\n",
       "        /* User Agent sniffing is bad, but WebKit is busted:\n",
       "         * https://bugs.webkit.org/show_bug.cgi?id=144526\n",
       "         * https://bugs.webkit.org/show_bug.cgi?id=181818\n",
       "         * The worst that happens here is that they get an extra browser\n",
       "         * selection when dragging, if this check fails to catch them.\n",
       "         */\n",
       "        var UA = navigator.userAgent;\n",
       "        var isWebKit = /AppleWebKit/.test(UA) && !/Chrome/.test(UA);\n",
       "        if(isWebKit) {\n",
       "            return function (event) {\n",
       "                /* This prevents the web browser from automatically changing to\n",
       "                 * the text insertion cursor when the button is pressed. We\n",
       "                 * want to control all of the cursor setting manually through\n",
       "                 * the 'cursor' event from matplotlib */\n",
       "                event.preventDefault()\n",
       "                return fig.mouse_event(event, name);\n",
       "            };\n",
       "        } else {\n",
       "            return function (event) {\n",
       "                return fig.mouse_event(event, name);\n",
       "            };\n",
       "        }\n",
       "    }\n",
       "\n",
       "    canvas_div.addEventListener(\n",
       "        'mousedown',\n",
       "        on_mouse_event_closure('button_press')\n",
       "    );\n",
       "    canvas_div.addEventListener(\n",
       "        'mouseup',\n",
       "        on_mouse_event_closure('button_release')\n",
       "    );\n",
       "    canvas_div.addEventListener(\n",
       "        'dblclick',\n",
       "        on_mouse_event_closure('dblclick')\n",
       "    );\n",
       "    // Throttle sequential mouse events to 1 every 20ms.\n",
       "    canvas_div.addEventListener(\n",
       "        'mousemove',\n",
       "        on_mouse_event_closure('motion_notify')\n",
       "    );\n",
       "\n",
       "    canvas_div.addEventListener(\n",
       "        'mouseenter',\n",
       "        on_mouse_event_closure('figure_enter')\n",
       "    );\n",
       "    canvas_div.addEventListener(\n",
       "        'mouseleave',\n",
       "        on_mouse_event_closure('figure_leave')\n",
       "    );\n",
       "\n",
       "    canvas_div.addEventListener('wheel', function (event) {\n",
       "        if (event.deltaY < 0) {\n",
       "            event.step = 1;\n",
       "        } else {\n",
       "            event.step = -1;\n",
       "        }\n",
       "        on_mouse_event_closure('scroll')(event);\n",
       "    });\n",
       "\n",
       "    canvas_div.appendChild(canvas);\n",
       "    canvas_div.appendChild(rubberband_canvas);\n",
       "\n",
       "    this.rubberband_context = rubberband_canvas.getContext('2d');\n",
       "    this.rubberband_context.strokeStyle = '#000000';\n",
       "\n",
       "    this._resize_canvas = function (width, height, forward) {\n",
       "        if (forward) {\n",
       "            canvas_div.style.width = width + 'px';\n",
       "            canvas_div.style.height = height + 'px';\n",
       "        }\n",
       "    };\n",
       "\n",
       "    // Disable right mouse context menu.\n",
       "    canvas_div.addEventListener('contextmenu', function (_e) {\n",
       "        event.preventDefault();\n",
       "        return false;\n",
       "    });\n",
       "\n",
       "    function set_focus() {\n",
       "        canvas.focus();\n",
       "        canvas_div.focus();\n",
       "    }\n",
       "\n",
       "    window.setTimeout(set_focus, 100);\n",
       "};\n",
       "\n",
       "mpl.figure.prototype._init_toolbar = function () {\n",
       "    var fig = this;\n",
       "\n",
       "    var toolbar = document.createElement('div');\n",
       "    toolbar.classList = 'mpl-toolbar';\n",
       "    this.root.appendChild(toolbar);\n",
       "\n",
       "    function on_click_closure(name) {\n",
       "        return function (_event) {\n",
       "            return fig.toolbar_button_onclick(name);\n",
       "        };\n",
       "    }\n",
       "\n",
       "    function on_mouseover_closure(tooltip) {\n",
       "        return function (event) {\n",
       "            if (!event.currentTarget.disabled) {\n",
       "                return fig.toolbar_button_onmouseover(tooltip);\n",
       "            }\n",
       "        };\n",
       "    }\n",
       "\n",
       "    fig.buttons = {};\n",
       "    var buttonGroup = document.createElement('div');\n",
       "    buttonGroup.classList = 'mpl-button-group';\n",
       "    for (var toolbar_ind in mpl.toolbar_items) {\n",
       "        var name = mpl.toolbar_items[toolbar_ind][0];\n",
       "        var tooltip = mpl.toolbar_items[toolbar_ind][1];\n",
       "        var image = mpl.toolbar_items[toolbar_ind][2];\n",
       "        var method_name = mpl.toolbar_items[toolbar_ind][3];\n",
       "\n",
       "        if (!name) {\n",
       "            /* Instead of a spacer, we start a new button group. */\n",
       "            if (buttonGroup.hasChildNodes()) {\n",
       "                toolbar.appendChild(buttonGroup);\n",
       "            }\n",
       "            buttonGroup = document.createElement('div');\n",
       "            buttonGroup.classList = 'mpl-button-group';\n",
       "            continue;\n",
       "        }\n",
       "\n",
       "        var button = (fig.buttons[name] = document.createElement('button'));\n",
       "        button.classList = 'mpl-widget';\n",
       "        button.setAttribute('role', 'button');\n",
       "        button.setAttribute('aria-disabled', 'false');\n",
       "        button.addEventListener('click', on_click_closure(method_name));\n",
       "        button.addEventListener('mouseover', on_mouseover_closure(tooltip));\n",
       "\n",
       "        var icon_img = document.createElement('img');\n",
       "        icon_img.src = '_images/' + image + '.png';\n",
       "        icon_img.srcset = '_images/' + image + '_large.png 2x';\n",
       "        icon_img.alt = tooltip;\n",
       "        button.appendChild(icon_img);\n",
       "\n",
       "        buttonGroup.appendChild(button);\n",
       "    }\n",
       "\n",
       "    if (buttonGroup.hasChildNodes()) {\n",
       "        toolbar.appendChild(buttonGroup);\n",
       "    }\n",
       "\n",
       "    var fmt_picker = document.createElement('select');\n",
       "    fmt_picker.classList = 'mpl-widget';\n",
       "    toolbar.appendChild(fmt_picker);\n",
       "    this.format_dropdown = fmt_picker;\n",
       "\n",
       "    for (var ind in mpl.extensions) {\n",
       "        var fmt = mpl.extensions[ind];\n",
       "        var option = document.createElement('option');\n",
       "        option.selected = fmt === mpl.default_extension;\n",
       "        option.innerHTML = fmt;\n",
       "        fmt_picker.appendChild(option);\n",
       "    }\n",
       "\n",
       "    var status_bar = document.createElement('span');\n",
       "    status_bar.classList = 'mpl-message';\n",
       "    toolbar.appendChild(status_bar);\n",
       "    this.message = status_bar;\n",
       "};\n",
       "\n",
       "mpl.figure.prototype.request_resize = function (x_pixels, y_pixels) {\n",
       "    // Request matplotlib to resize the figure. Matplotlib will then trigger a resize in the client,\n",
       "    // which will in turn request a refresh of the image.\n",
       "    this.send_message('resize', { width: x_pixels, height: y_pixels });\n",
       "};\n",
       "\n",
       "mpl.figure.prototype.send_message = function (type, properties) {\n",
       "    properties['type'] = type;\n",
       "    properties['figure_id'] = this.id;\n",
       "    this.ws.send(JSON.stringify(properties));\n",
       "};\n",
       "\n",
       "mpl.figure.prototype.send_draw_message = function () {\n",
       "    if (!this.waiting) {\n",
       "        this.waiting = true;\n",
       "        this.ws.send(JSON.stringify({ type: 'draw', figure_id: this.id }));\n",
       "    }\n",
       "};\n",
       "\n",
       "mpl.figure.prototype.handle_save = function (fig, _msg) {\n",
       "    var format_dropdown = fig.format_dropdown;\n",
       "    var format = format_dropdown.options[format_dropdown.selectedIndex].value;\n",
       "    fig.ondownload(fig, format);\n",
       "};\n",
       "\n",
       "mpl.figure.prototype.handle_resize = function (fig, msg) {\n",
       "    var size = msg['size'];\n",
       "    if (size[0] !== fig.canvas.width || size[1] !== fig.canvas.height) {\n",
       "        fig._resize_canvas(size[0], size[1], msg['forward']);\n",
       "        fig.send_message('refresh', {});\n",
       "    }\n",
       "};\n",
       "\n",
       "mpl.figure.prototype.handle_rubberband = function (fig, msg) {\n",
       "    var x0 = msg['x0'] / fig.ratio;\n",
       "    var y0 = (fig.canvas.height - msg['y0']) / fig.ratio;\n",
       "    var x1 = msg['x1'] / fig.ratio;\n",
       "    var y1 = (fig.canvas.height - msg['y1']) / fig.ratio;\n",
       "    x0 = Math.floor(x0) + 0.5;\n",
       "    y0 = Math.floor(y0) + 0.5;\n",
       "    x1 = Math.floor(x1) + 0.5;\n",
       "    y1 = Math.floor(y1) + 0.5;\n",
       "    var min_x = Math.min(x0, x1);\n",
       "    var min_y = Math.min(y0, y1);\n",
       "    var width = Math.abs(x1 - x0);\n",
       "    var height = Math.abs(y1 - y0);\n",
       "\n",
       "    fig.rubberband_context.clearRect(\n",
       "        0,\n",
       "        0,\n",
       "        fig.canvas.width / fig.ratio,\n",
       "        fig.canvas.height / fig.ratio\n",
       "    );\n",
       "\n",
       "    fig.rubberband_context.strokeRect(min_x, min_y, width, height);\n",
       "};\n",
       "\n",
       "mpl.figure.prototype.handle_figure_label = function (fig, msg) {\n",
       "    // Updates the figure title.\n",
       "    fig.header.textContent = msg['label'];\n",
       "};\n",
       "\n",
       "mpl.figure.prototype.handle_cursor = function (fig, msg) {\n",
       "    fig.canvas_div.style.cursor = msg['cursor'];\n",
       "};\n",
       "\n",
       "mpl.figure.prototype.handle_message = function (fig, msg) {\n",
       "    fig.message.textContent = msg['message'];\n",
       "};\n",
       "\n",
       "mpl.figure.prototype.handle_draw = function (fig, _msg) {\n",
       "    // Request the server to send over a new figure.\n",
       "    fig.send_draw_message();\n",
       "};\n",
       "\n",
       "mpl.figure.prototype.handle_image_mode = function (fig, msg) {\n",
       "    fig.image_mode = msg['mode'];\n",
       "};\n",
       "\n",
       "mpl.figure.prototype.handle_history_buttons = function (fig, msg) {\n",
       "    for (var key in msg) {\n",
       "        if (!(key in fig.buttons)) {\n",
       "            continue;\n",
       "        }\n",
       "        fig.buttons[key].disabled = !msg[key];\n",
       "        fig.buttons[key].setAttribute('aria-disabled', !msg[key]);\n",
       "    }\n",
       "};\n",
       "\n",
       "mpl.figure.prototype.handle_navigate_mode = function (fig, msg) {\n",
       "    if (msg['mode'] === 'PAN') {\n",
       "        fig.buttons['Pan'].classList.add('active');\n",
       "        fig.buttons['Zoom'].classList.remove('active');\n",
       "    } else if (msg['mode'] === 'ZOOM') {\n",
       "        fig.buttons['Pan'].classList.remove('active');\n",
       "        fig.buttons['Zoom'].classList.add('active');\n",
       "    } else {\n",
       "        fig.buttons['Pan'].classList.remove('active');\n",
       "        fig.buttons['Zoom'].classList.remove('active');\n",
       "    }\n",
       "};\n",
       "\n",
       "mpl.figure.prototype.updated_canvas_event = function () {\n",
       "    // Called whenever the canvas gets updated.\n",
       "    this.send_message('ack', {});\n",
       "};\n",
       "\n",
       "// A function to construct a web socket function for onmessage handling.\n",
       "// Called in the figure constructor.\n",
       "mpl.figure.prototype._make_on_message_function = function (fig) {\n",
       "    return function socket_on_message(evt) {\n",
       "        if (evt.data instanceof Blob) {\n",
       "            var img = evt.data;\n",
       "            if (img.type !== 'image/png') {\n",
       "                /* FIXME: We get \"Resource interpreted as Image but\n",
       "                 * transferred with MIME type text/plain:\" errors on\n",
       "                 * Chrome.  But how to set the MIME type?  It doesn't seem\n",
       "                 * to be part of the websocket stream */\n",
       "                img.type = 'image/png';\n",
       "            }\n",
       "\n",
       "            /* Free the memory for the previous frames */\n",
       "            if (fig.imageObj.src) {\n",
       "                (window.URL || window.webkitURL).revokeObjectURL(\n",
       "                    fig.imageObj.src\n",
       "                );\n",
       "            }\n",
       "\n",
       "            fig.imageObj.src = (window.URL || window.webkitURL).createObjectURL(\n",
       "                img\n",
       "            );\n",
       "            fig.updated_canvas_event();\n",
       "            fig.waiting = false;\n",
       "            return;\n",
       "        } else if (\n",
       "            typeof evt.data === 'string' &&\n",
       "            evt.data.slice(0, 21) === 'data:image/png;base64'\n",
       "        ) {\n",
       "            fig.imageObj.src = evt.data;\n",
       "            fig.updated_canvas_event();\n",
       "            fig.waiting = false;\n",
       "            return;\n",
       "        }\n",
       "\n",
       "        var msg = JSON.parse(evt.data);\n",
       "        var msg_type = msg['type'];\n",
       "\n",
       "        // Call the  \"handle_{type}\" callback, which takes\n",
       "        // the figure and JSON message as its only arguments.\n",
       "        try {\n",
       "            var callback = fig['handle_' + msg_type];\n",
       "        } catch (e) {\n",
       "            console.log(\n",
       "                \"No handler for the '\" + msg_type + \"' message type: \",\n",
       "                msg\n",
       "            );\n",
       "            return;\n",
       "        }\n",
       "\n",
       "        if (callback) {\n",
       "            try {\n",
       "                // console.log(\"Handling '\" + msg_type + \"' message: \", msg);\n",
       "                callback(fig, msg);\n",
       "            } catch (e) {\n",
       "                console.log(\n",
       "                    \"Exception inside the 'handler_\" + msg_type + \"' callback:\",\n",
       "                    e,\n",
       "                    e.stack,\n",
       "                    msg\n",
       "                );\n",
       "            }\n",
       "        }\n",
       "    };\n",
       "};\n",
       "\n",
       "function getModifiers(event) {\n",
       "    var mods = [];\n",
       "    if (event.ctrlKey) {\n",
       "        mods.push('ctrl');\n",
       "    }\n",
       "    if (event.altKey) {\n",
       "        mods.push('alt');\n",
       "    }\n",
       "    if (event.shiftKey) {\n",
       "        mods.push('shift');\n",
       "    }\n",
       "    if (event.metaKey) {\n",
       "        mods.push('meta');\n",
       "    }\n",
       "    return mods;\n",
       "}\n",
       "\n",
       "/*\n",
       " * return a copy of an object with only non-object keys\n",
       " * we need this to avoid circular references\n",
       " * https://stackoverflow.com/a/24161582/3208463\n",
       " */\n",
       "function simpleKeys(original) {\n",
       "    return Object.keys(original).reduce(function (obj, key) {\n",
       "        if (typeof original[key] !== 'object') {\n",
       "            obj[key] = original[key];\n",
       "        }\n",
       "        return obj;\n",
       "    }, {});\n",
       "}\n",
       "\n",
       "mpl.figure.prototype.mouse_event = function (event, name) {\n",
       "    if (name === 'button_press') {\n",
       "        this.canvas.focus();\n",
       "        this.canvas_div.focus();\n",
       "    }\n",
       "\n",
       "    // from https://stackoverflow.com/q/1114465\n",
       "    var boundingRect = this.canvas.getBoundingClientRect();\n",
       "    var x = (event.clientX - boundingRect.left) * this.ratio;\n",
       "    var y = (event.clientY - boundingRect.top) * this.ratio;\n",
       "\n",
       "    this.send_message(name, {\n",
       "        x: x,\n",
       "        y: y,\n",
       "        button: event.button,\n",
       "        step: event.step,\n",
       "        modifiers: getModifiers(event),\n",
       "        guiEvent: simpleKeys(event),\n",
       "    });\n",
       "\n",
       "    return false;\n",
       "};\n",
       "\n",
       "mpl.figure.prototype._key_event_extra = function (_event, _name) {\n",
       "    // Handle any extra behaviour associated with a key event\n",
       "};\n",
       "\n",
       "mpl.figure.prototype.key_event = function (event, name) {\n",
       "    // Prevent repeat events\n",
       "    if (name === 'key_press') {\n",
       "        if (event.key === this._key) {\n",
       "            return;\n",
       "        } else {\n",
       "            this._key = event.key;\n",
       "        }\n",
       "    }\n",
       "    if (name === 'key_release') {\n",
       "        this._key = null;\n",
       "    }\n",
       "\n",
       "    var value = '';\n",
       "    if (event.ctrlKey && event.key !== 'Control') {\n",
       "        value += 'ctrl+';\n",
       "    }\n",
       "    else if (event.altKey && event.key !== 'Alt') {\n",
       "        value += 'alt+';\n",
       "    }\n",
       "    else if (event.shiftKey && event.key !== 'Shift') {\n",
       "        value += 'shift+';\n",
       "    }\n",
       "\n",
       "    value += 'k' + event.key;\n",
       "\n",
       "    this._key_event_extra(event, name);\n",
       "\n",
       "    this.send_message(name, { key: value, guiEvent: simpleKeys(event) });\n",
       "    return false;\n",
       "};\n",
       "\n",
       "mpl.figure.prototype.toolbar_button_onclick = function (name) {\n",
       "    if (name === 'download') {\n",
       "        this.handle_save(this, null);\n",
       "    } else {\n",
       "        this.send_message('toolbar_button', { name: name });\n",
       "    }\n",
       "};\n",
       "\n",
       "mpl.figure.prototype.toolbar_button_onmouseover = function (tooltip) {\n",
       "    this.message.textContent = tooltip;\n",
       "};\n",
       "\n",
       "///////////////// REMAINING CONTENT GENERATED BY embed_js.py /////////////////\n",
       "// prettier-ignore\n",
       "var _JSXTOOLS_RESIZE_OBSERVER=function(A){var t,i=new WeakMap,n=new WeakMap,a=new WeakMap,r=new WeakMap,o=new Set;function s(e){if(!(this instanceof s))throw new TypeError(\"Constructor requires 'new' operator\");i.set(this,e)}function h(){throw new TypeError(\"Function is not a constructor\")}function c(e,t,i,n){e=0 in arguments?Number(arguments[0]):0,t=1 in arguments?Number(arguments[1]):0,i=2 in arguments?Number(arguments[2]):0,n=3 in arguments?Number(arguments[3]):0,this.right=(this.x=this.left=e)+(this.width=i),this.bottom=(this.y=this.top=t)+(this.height=n),Object.freeze(this)}function d(){t=requestAnimationFrame(d);var s=new WeakMap,p=new Set;o.forEach((function(t){r.get(t).forEach((function(i){var r=t instanceof window.SVGElement,o=a.get(t),d=r?0:parseFloat(o.paddingTop),f=r?0:parseFloat(o.paddingRight),l=r?0:parseFloat(o.paddingBottom),u=r?0:parseFloat(o.paddingLeft),g=r?0:parseFloat(o.borderTopWidth),m=r?0:parseFloat(o.borderRightWidth),w=r?0:parseFloat(o.borderBottomWidth),b=u+f,F=d+l,v=(r?0:parseFloat(o.borderLeftWidth))+m,W=g+w,y=r?0:t.offsetHeight-W-t.clientHeight,E=r?0:t.offsetWidth-v-t.clientWidth,R=b+v,z=F+W,M=r?t.width:parseFloat(o.width)-R-E,O=r?t.height:parseFloat(o.height)-z-y;if(n.has(t)){var k=n.get(t);if(k[0]===M&&k[1]===O)return}n.set(t,[M,O]);var S=Object.create(h.prototype);S.target=t,S.contentRect=new c(u,d,M,O),s.has(i)||(s.set(i,[]),p.add(i)),s.get(i).push(S)}))})),p.forEach((function(e){i.get(e).call(e,s.get(e),e)}))}return s.prototype.observe=function(i){if(i instanceof window.Element){r.has(i)||(r.set(i,new Set),o.add(i),a.set(i,window.getComputedStyle(i)));var n=r.get(i);n.has(this)||n.add(this),cancelAnimationFrame(t),t=requestAnimationFrame(d)}},s.prototype.unobserve=function(i){if(i instanceof window.Element&&r.has(i)){var n=r.get(i);n.has(this)&&(n.delete(this),n.size||(r.delete(i),o.delete(i))),n.size||r.delete(i),o.size||cancelAnimationFrame(t)}},A.DOMRectReadOnly=c,A.ResizeObserver=s,A.ResizeObserverEntry=h,A}; // eslint-disable-line\n",
       "mpl.toolbar_items = [[\"Home\", \"Reset original view\", \"fa fa-home\", \"home\"], [\"Back\", \"Back to previous view\", \"fa fa-arrow-left\", \"back\"], [\"Forward\", \"Forward to next view\", \"fa fa-arrow-right\", \"forward\"], [\"\", \"\", \"\", \"\"], [\"Pan\", \"Left button pans, Right button zooms\\nx/y fixes axis, CTRL fixes aspect\", \"fa fa-arrows\", \"pan\"], [\"Zoom\", \"Zoom to rectangle\\nx/y fixes axis\", \"fa fa-square-o\", \"zoom\"], [\"\", \"\", \"\", \"\"], [\"Download\", \"Download plot\", \"fa fa-floppy-o\", \"download\"]];\n",
       "\n",
       "mpl.extensions = [\"eps\", \"jpeg\", \"pgf\", \"pdf\", \"png\", \"ps\", \"raw\", \"svg\", \"tif\", \"webp\"];\n",
       "\n",
       "mpl.default_extension = \"png\";/* global mpl */\n",
       "\n",
       "var comm_websocket_adapter = function (comm) {\n",
       "    // Create a \"websocket\"-like object which calls the given IPython comm\n",
       "    // object with the appropriate methods. Currently this is a non binary\n",
       "    // socket, so there is still some room for performance tuning.\n",
       "    var ws = {};\n",
       "\n",
       "    ws.binaryType = comm.kernel.ws.binaryType;\n",
       "    ws.readyState = comm.kernel.ws.readyState;\n",
       "    function updateReadyState(_event) {\n",
       "        if (comm.kernel.ws) {\n",
       "            ws.readyState = comm.kernel.ws.readyState;\n",
       "        } else {\n",
       "            ws.readyState = 3; // Closed state.\n",
       "        }\n",
       "    }\n",
       "    comm.kernel.ws.addEventListener('open', updateReadyState);\n",
       "    comm.kernel.ws.addEventListener('close', updateReadyState);\n",
       "    comm.kernel.ws.addEventListener('error', updateReadyState);\n",
       "\n",
       "    ws.close = function () {\n",
       "        comm.close();\n",
       "    };\n",
       "    ws.send = function (m) {\n",
       "        //console.log('sending', m);\n",
       "        comm.send(m);\n",
       "    };\n",
       "    // Register the callback with on_msg.\n",
       "    comm.on_msg(function (msg) {\n",
       "        //console.log('receiving', msg['content']['data'], msg);\n",
       "        var data = msg['content']['data'];\n",
       "        if (data['blob'] !== undefined) {\n",
       "            data = {\n",
       "                data: new Blob(msg['buffers'], { type: data['blob'] }),\n",
       "            };\n",
       "        }\n",
       "        // Pass the mpl event to the overridden (by mpl) onmessage function.\n",
       "        ws.onmessage(data);\n",
       "    });\n",
       "    return ws;\n",
       "};\n",
       "\n",
       "mpl.mpl_figure_comm = function (comm, msg) {\n",
       "    // This is the function which gets called when the mpl process\n",
       "    // starts-up an IPython Comm through the \"matplotlib\" channel.\n",
       "\n",
       "    var id = msg.content.data.id;\n",
       "    // Get hold of the div created by the display call when the Comm\n",
       "    // socket was opened in Python.\n",
       "    var element = document.getElementById(id);\n",
       "    var ws_proxy = comm_websocket_adapter(comm);\n",
       "\n",
       "    function ondownload(figure, _format) {\n",
       "        window.open(figure.canvas.toDataURL());\n",
       "    }\n",
       "\n",
       "    var fig = new mpl.figure(id, ws_proxy, ondownload, element);\n",
       "\n",
       "    // Call onopen now - mpl needs it, as it is assuming we've passed it a real\n",
       "    // web socket which is closed, not our websocket->open comm proxy.\n",
       "    ws_proxy.onopen();\n",
       "\n",
       "    fig.parent_element = element;\n",
       "    fig.cell_info = mpl.find_output_cell(\"<div id='\" + id + \"'></div>\");\n",
       "    if (!fig.cell_info) {\n",
       "        console.error('Failed to find cell for figure', id, fig);\n",
       "        return;\n",
       "    }\n",
       "    fig.cell_info[0].output_area.element.on(\n",
       "        'cleared',\n",
       "        { fig: fig },\n",
       "        fig._remove_fig_handler\n",
       "    );\n",
       "};\n",
       "\n",
       "mpl.figure.prototype.handle_close = function (fig, msg) {\n",
       "    var width = fig.canvas.width / fig.ratio;\n",
       "    fig.cell_info[0].output_area.element.off(\n",
       "        'cleared',\n",
       "        fig._remove_fig_handler\n",
       "    );\n",
       "    fig.resizeObserverInstance.unobserve(fig.canvas_div);\n",
       "\n",
       "    // Update the output cell to use the data from the current canvas.\n",
       "    fig.push_to_output();\n",
       "    var dataURL = fig.canvas.toDataURL();\n",
       "    // Re-enable the keyboard manager in IPython - without this line, in FF,\n",
       "    // the notebook keyboard shortcuts fail.\n",
       "    IPython.keyboard_manager.enable();\n",
       "    fig.parent_element.innerHTML =\n",
       "        '<img src=\"' + dataURL + '\" width=\"' + width + '\">';\n",
       "    fig.close_ws(fig, msg);\n",
       "};\n",
       "\n",
       "mpl.figure.prototype.close_ws = function (fig, msg) {\n",
       "    fig.send_message('closing', msg);\n",
       "    // fig.ws.close()\n",
       "};\n",
       "\n",
       "mpl.figure.prototype.push_to_output = function (_remove_interactive) {\n",
       "    // Turn the data on the canvas into data in the output cell.\n",
       "    var width = this.canvas.width / this.ratio;\n",
       "    var dataURL = this.canvas.toDataURL();\n",
       "    this.cell_info[1]['text/html'] =\n",
       "        '<img src=\"' + dataURL + '\" width=\"' + width + '\">';\n",
       "};\n",
       "\n",
       "mpl.figure.prototype.updated_canvas_event = function () {\n",
       "    // Tell IPython that the notebook contents must change.\n",
       "    IPython.notebook.set_dirty(true);\n",
       "    this.send_message('ack', {});\n",
       "    var fig = this;\n",
       "    // Wait a second, then push the new image to the DOM so\n",
       "    // that it is saved nicely (might be nice to debounce this).\n",
       "    setTimeout(function () {\n",
       "        fig.push_to_output();\n",
       "    }, 1000);\n",
       "};\n",
       "\n",
       "mpl.figure.prototype._init_toolbar = function () {\n",
       "    var fig = this;\n",
       "\n",
       "    var toolbar = document.createElement('div');\n",
       "    toolbar.classList = 'btn-toolbar';\n",
       "    this.root.appendChild(toolbar);\n",
       "\n",
       "    function on_click_closure(name) {\n",
       "        return function (_event) {\n",
       "            return fig.toolbar_button_onclick(name);\n",
       "        };\n",
       "    }\n",
       "\n",
       "    function on_mouseover_closure(tooltip) {\n",
       "        return function (event) {\n",
       "            if (!event.currentTarget.disabled) {\n",
       "                return fig.toolbar_button_onmouseover(tooltip);\n",
       "            }\n",
       "        };\n",
       "    }\n",
       "\n",
       "    fig.buttons = {};\n",
       "    var buttonGroup = document.createElement('div');\n",
       "    buttonGroup.classList = 'btn-group';\n",
       "    var button;\n",
       "    for (var toolbar_ind in mpl.toolbar_items) {\n",
       "        var name = mpl.toolbar_items[toolbar_ind][0];\n",
       "        var tooltip = mpl.toolbar_items[toolbar_ind][1];\n",
       "        var image = mpl.toolbar_items[toolbar_ind][2];\n",
       "        var method_name = mpl.toolbar_items[toolbar_ind][3];\n",
       "\n",
       "        if (!name) {\n",
       "            /* Instead of a spacer, we start a new button group. */\n",
       "            if (buttonGroup.hasChildNodes()) {\n",
       "                toolbar.appendChild(buttonGroup);\n",
       "            }\n",
       "            buttonGroup = document.createElement('div');\n",
       "            buttonGroup.classList = 'btn-group';\n",
       "            continue;\n",
       "        }\n",
       "\n",
       "        button = fig.buttons[name] = document.createElement('button');\n",
       "        button.classList = 'btn btn-default';\n",
       "        button.href = '#';\n",
       "        button.title = name;\n",
       "        button.innerHTML = '<i class=\"fa ' + image + ' fa-lg\"></i>';\n",
       "        button.addEventListener('click', on_click_closure(method_name));\n",
       "        button.addEventListener('mouseover', on_mouseover_closure(tooltip));\n",
       "        buttonGroup.appendChild(button);\n",
       "    }\n",
       "\n",
       "    if (buttonGroup.hasChildNodes()) {\n",
       "        toolbar.appendChild(buttonGroup);\n",
       "    }\n",
       "\n",
       "    // Add the status bar.\n",
       "    var status_bar = document.createElement('span');\n",
       "    status_bar.classList = 'mpl-message pull-right';\n",
       "    toolbar.appendChild(status_bar);\n",
       "    this.message = status_bar;\n",
       "\n",
       "    // Add the close button to the window.\n",
       "    var buttongrp = document.createElement('div');\n",
       "    buttongrp.classList = 'btn-group inline pull-right';\n",
       "    button = document.createElement('button');\n",
       "    button.classList = 'btn btn-mini btn-primary';\n",
       "    button.href = '#';\n",
       "    button.title = 'Stop Interaction';\n",
       "    button.innerHTML = '<i class=\"fa fa-power-off icon-remove icon-large\"></i>';\n",
       "    button.addEventListener('click', function (_evt) {\n",
       "        fig.handle_close(fig, {});\n",
       "    });\n",
       "    button.addEventListener(\n",
       "        'mouseover',\n",
       "        on_mouseover_closure('Stop Interaction')\n",
       "    );\n",
       "    buttongrp.appendChild(button);\n",
       "    var titlebar = this.root.querySelector('.ui-dialog-titlebar');\n",
       "    titlebar.insertBefore(buttongrp, titlebar.firstChild);\n",
       "};\n",
       "\n",
       "mpl.figure.prototype._remove_fig_handler = function (event) {\n",
       "    var fig = event.data.fig;\n",
       "    if (event.target !== this) {\n",
       "        // Ignore bubbled events from children.\n",
       "        return;\n",
       "    }\n",
       "    fig.close_ws(fig, {});\n",
       "};\n",
       "\n",
       "mpl.figure.prototype._root_extra_style = function (el) {\n",
       "    el.style.boxSizing = 'content-box'; // override notebook setting of border-box.\n",
       "};\n",
       "\n",
       "mpl.figure.prototype._canvas_extra_style = function (el) {\n",
       "    // this is important to make the div 'focusable\n",
       "    el.setAttribute('tabindex', 0);\n",
       "    // reach out to IPython and tell the keyboard manager to turn it's self\n",
       "    // off when our div gets focus\n",
       "\n",
       "    // location in version 3\n",
       "    if (IPython.notebook.keyboard_manager) {\n",
       "        IPython.notebook.keyboard_manager.register_events(el);\n",
       "    } else {\n",
       "        // location in version 2\n",
       "        IPython.keyboard_manager.register_events(el);\n",
       "    }\n",
       "};\n",
       "\n",
       "mpl.figure.prototype._key_event_extra = function (event, _name) {\n",
       "    // Check for shift+enter\n",
       "    if (event.shiftKey && event.which === 13) {\n",
       "        this.canvas_div.blur();\n",
       "        // select the cell after this one\n",
       "        var index = IPython.notebook.find_cell_index(this.cell_info[0]);\n",
       "        IPython.notebook.select(index + 1);\n",
       "    }\n",
       "};\n",
       "\n",
       "mpl.figure.prototype.handle_save = function (fig, _msg) {\n",
       "    fig.ondownload(fig, null);\n",
       "};\n",
       "\n",
       "mpl.find_output_cell = function (html_output) {\n",
       "    // Return the cell and output element which can be found *uniquely* in the notebook.\n",
       "    // Note - this is a bit hacky, but it is done because the \"notebook_saving.Notebook\"\n",
       "    // IPython event is triggered only after the cells have been serialised, which for\n",
       "    // our purposes (turning an active figure into a static one), is too late.\n",
       "    var cells = IPython.notebook.get_cells();\n",
       "    var ncells = cells.length;\n",
       "    for (var i = 0; i < ncells; i++) {\n",
       "        var cell = cells[i];\n",
       "        if (cell.cell_type === 'code') {\n",
       "            for (var j = 0; j < cell.output_area.outputs.length; j++) {\n",
       "                var data = cell.output_area.outputs[j];\n",
       "                if (data.data) {\n",
       "                    // IPython >= 3 moved mimebundle to data attribute of output\n",
       "                    data = data.data;\n",
       "                }\n",
       "                if (data['text/html'] === html_output) {\n",
       "                    return [cell, data, j];\n",
       "                }\n",
       "            }\n",
       "        }\n",
       "    }\n",
       "};\n",
       "\n",
       "// Register the function which deals with the matplotlib target/channel.\n",
       "// The kernel may be null if the page has been refreshed.\n",
       "if (IPython.notebook.kernel !== null) {\n",
       "    IPython.notebook.kernel.comm_manager.register_target(\n",
       "        'matplotlib',\n",
       "        mpl.mpl_figure_comm\n",
       "    );\n",
       "}\n"
      ],
      "text/plain": [
       "<IPython.core.display.Javascript object>"
      ]
     },
     "metadata": {},
     "output_type": "display_data"
    },
    {
     "data": {
      "text/html": [
       "<img src=\"data:image/png;base64,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\" width=\"640\">"
      ],
      "text/plain": [
       "<IPython.core.display.HTML object>"
      ]
     },
     "metadata": {},
     "output_type": "display_data"
    },
    {
     "data": {
      "image/png": "[encoded data removed]",
      "text/plain": [
       "<Figure size 1000x500 with 1 Axes>"
      ]
     },
     "metadata": {},
     "output_type": "display_data"
    }
   ],
   "source": [
    "from dotenv import load_dotenv\n",
    "import matplotlib.pyplot as plt\n",
    "import alpaca_trade_api as api\n",
    "import os\n",
    "import pandas as pd\n",
    "import mplcyberpunk\n",
    "import datetime as dt\n",
    "%matplotlib inline\n",
    "\n",
    "plt.style.use('cyberpunk')\n",
    "\n",
    "symbol = \"CSCO\"\n",
    "limit = 500\n",
    "\n",
    "start_date = pd.to_datetime(\"2023-01-01T14:30:00Z\", format=\"%Y-%m-%dT%H:%M:%SZ\")\n",
    "end_date = pd.to_datetime(\"2023-05-05T21:00:00Z\", format=\"%Y-%m-%dT%H:%M:%SZ\")\n",
    "\n",
    "start = start_date.strftime(\"%Y-%m-%dT%H:%M:%SZ\")\n",
    "end = end_date.strftime(\"%Y-%m-%dT%H:%M:%SZ\")\n",
    "\n",
    "load_dotenv(dotenv_path='../a.env')\n",
    "\n",
    "FED_API_KEY = os.environ['FED_API_KEY']\n",
    "ALPACA_KEY_ID = os.environ['ALPACA_KEY_ID']\n",
    "ALPACA_SECRETS_KEY = os.environ['ALPACA_SECRETS_ID']\n",
    "alpaca = api.REST(ALPACA_KEY_ID, ALPACA_SECRETS_KEY)\n",
    "\n",
    "data = alpaca.get_quotes(symbol, start=start, end=end, limit=limit).df\n",
    "data[\"spread\"] = data[\"ask_size\"] - data[\"bid_size\"]\n",
    "\n",
    "dates = pd.to_datetime(data.index).strftime('%Y-%m-%d')\n",
    "\n",
    "fig, ax = plt.subplots(figsize=(10, 5))\n",
    "ax.plot(data.index, data[\"spread\"])\n",
    "\n",
    "ax.set_title(\"Bid-Ask Size Spread for {}\".format(symbol))\n",
    "ax.set_xlabel(\"Time\")\n",
    "ax.set_ylabel(\"Spread ($)\")\n",
    "print(data['spread'])\n",
    "\n",
    "plt.show()"
   ]
  },
  {
   "cell_type": "code",
   "execution_count": null,
   "id": "6715b5d4",
   "metadata": {},
   "outputs": [],
   "source": []
  }
 ],
 "metadata": {
  "kernelspec": {
   "display_name": "Python 3 (ipykernel)",
   "language": "python",
   "name": "python3"
  },
  "language_info": {
   "codemirror_mode": {
    "name": "ipython",
    "version": 3
   },
   "file_extension": ".py",
   "mimetype": "text/x-python",
   "name": "python",
   "nbconvert_exporter": "python",
   "pygments_lexer": "ipython3",
   "version": "3.10.9"
  }
 },
 "nbformat": 4,
 "nbformat_minor": 5
}
