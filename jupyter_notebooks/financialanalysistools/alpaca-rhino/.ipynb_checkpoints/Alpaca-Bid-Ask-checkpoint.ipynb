{
 "cells": [
  {
   "cell_type": "code",
   "execution_count": null,
   "id": "1addc395",
   "metadata": {},
   "outputs": [],
   "source": [
    "#Load environment variables\n",
    "#Reference Alpaca API for Candles\n",
    "#From \n",
    "from dotenv import load_dotenv\n",
    "import plotly.graph_objects as go\n",
    "import plotly.express as px\n",
    "import alpaca_trade_api as api\n",
    "import os\n",
    "\n",
    "\n",
    "ALPACA_KEY_ID, ALPACA_SECRETS_KEY = \"\",\"\"\n",
    "\n",
    "\n",
    "\n",
    "def set_vars(secrets_file='a.env'):\n",
    "    global APCA_API_KEY_ID, APCA_API_SECRET_KEY\n",
    "    with open(f\"{secrets_file}\", 'r') as file:\n",
    "        contents = file.read()\n",
    "        env_vars = contents.replace('export ', '').split(\"\\n\")\n",
    "        ALPACA_KEY_ID = env_vars[0].split(\"=\")[1]\n",
    "        ALPACA_SECRETS_KEY = env_vars[1].split(\"=\")[1]\n",
    "\n",
    "set_vars()\n"
   ]
  },
  {
   "cell_type": "code",
   "execution_count": null,
   "id": "2cd1a3f3",
   "metadata": {},
   "outputs": [],
   "source": [
    "#Reference Alpaca API and Create General Bid Ask Chart Structures\n",
    "#From \n",
    "from dotenv import load_dotenv\n",
    "import plotly.graph_objects as go\n",
    "import plotly.express as px\n",
    "import alpaca_trade_api as api\n",
    "import os\n",
    "\n",
    "ALPACA_KEY_ID, ALPACA_SECRETS_KEY = \"\",\"\"\n",
    "\n",
    "\n",
    "\n",
    "\n",
    "def set_vars(secrets_file='a.env'):\n",
    "    global ALPACA_KEY_ID, ALPACA_SECRETS_KEY\n",
    "    with open(f\"{secrets_file}\", 'r') as file:\n",
    "        contents = file.read()\n",
    "        env_vars = contents.replace('export ', '').split(\"\\n\")\n",
    "        ALPACA_KEY_ID = env_vars[0].split(\"=\")[1]\n",
    "        ALPACA_SECRETS_KEY = env_vars[1].split(\"=\")[1]\n",
    "set_vars()\n",
    "alpaca = api.REST(ALPACA_KEY_ID, ALPACA_SECRETS_KEY)\n",
    "\n",
    "# Setting parameters before calling method\n",
    "symbols = [\"F\", \"INTC\", \"SDS\"]\n",
    "timeframe = \"1Day\"\n",
    "start = \"2023-04-20\"\n",
    "end = \"2023-04-21\"\n",
    "# Retrieve daily bars for SPY in a dataframe and printing the first 5 rows\n",
    "spy_bars = alpaca.get_bars(symbols, timeframe, start, end).df\n",
    "print(spy_bars.head())\n",
    "\n",
    "# Bar data candlestick plot\n",
    "candlestick_fig = go.Figure(data=[go.Candlestick(x=spy_bars.index,\n",
    "               open=spy_bars['open'],\n",
    "               high=spy_bars['high'],\n",
    "               low=spy_bars['low'],\n",
    "               close=spy_bars['close'])])\n",
    "candlestick_fig.update_layout(\n",
    "    title=\"Candlestick chart for {symbol}\",\n",
    "    xaxis_title=\"Date\",\n",
    "    yaxis_title=\"Price ($USD)\")\n",
    "candlestick_fig.show()\n"
   ]
  },
  {
   "cell_type": "code",
   "execution_count": null,
   "id": "7a7aa747",
   "metadata": {},
   "outputs": [],
   "source": [
    "#Reference Alpaca API and Create General Bid Ask Chart Structures\n",
    "#From \n",
    "from dotenv import load_dotenv\n",
    "import plotly.graph_objects as go\n",
    "import plotly.express as px\n",
    "import alpaca_trade_api as api\n",
    "import os\n",
    "%matplotlib nbagg\n",
    "\n",
    "ALPACA_KEY_ID, ALPACA_SECRETS_KEY = \"\",\"\"\n",
    "\n",
    "def set_vars(secrets_file='a.env'):\n",
    "    global ALPACA_KEY_ID, ALPACA_SECRETS_KEY\n",
    "    with open(f\"{secrets_file}\", 'r') as file:\n",
    "        contents = file.read()\n",
    "        env_vars = contents.replace('export ', '').split(\"\\n\")\n",
    "        ALPACA_KEY_ID = env_vars[0].split(\"=\")[1]\n",
    "        ALPACA_SECRETS_KEY = env_vars[1].split(\"=\")[1]\n",
    "set_vars()\n",
    "alpaca = api.REST(ALPACA_KEY_ID, ALPACA_SECRETS_KEY)\n",
    "\n",
    "# Setting parameters before calling method\n",
    "symbols = [\"F\", \"META\", \"V\"]\n",
    "timeframe = \"1Day\"\n",
    "start = \"2023-04-20\"\n",
    "end = \"2023-04-21\"\n",
    "# Retrieve daily bars for SPY in a dataframe and printing the first 5 rows\n",
    "\n",
    "# Retrieve daily bars for SPY, TSLA, and AAPL in a DataFrame\n",
    "bars = alpaca.get_bars(symbols, timeframe, start, end).df\n",
    "\n",
    "# Assigning new variables for each symbol contained in our response\n",
    "a_bars = bars.loc[bars[\"symbol\"] == \"F\"]\n",
    "b_bars = bars.loc[bars[\"symbol\"] == \"META\"]\n",
    "c_bars = bars.loc[bars[\"symbol\"] == \"V\"]\n",
    "print(a_bars.head(2))\n",
    "print(b_bars.head(2))\n",
    "print(c_bars.head(2))"
   ]
  },
  {
   "cell_type": "code",
   "execution_count": null,
   "id": "a572db2f",
   "metadata": {},
   "outputs": [],
   "source": [
    "#Trade Analyzer\n",
    "#Reference Alpaca API and Create General Bid Ask Chart Structures\n",
    "#From \n",
    "from dotenv import load_dotenv\n",
    "import plotly.graph_objects as go\n",
    "import plotly.express as px\n",
    "import alpaca_trade_api as api\n",
    "import os\n",
    "import datetime as dt\n",
    "%matplotlib nbagg\n",
    "today = dt.datetime.today()\n",
    "\n",
    "\n",
    "\n",
    "ALPACA_KEY_ID, ALPACA_SECRETS_KEY = \"\",\"\"\n",
    "\n",
    "def set_vars(secrets_file='a.env'):\n",
    "    global ALPACA_KEY_ID, ALPACA_SECRETS_KEY\n",
    "    with open(f\"{secrets_file}\", 'r') as file:\n",
    "        contents = file.read()\n",
    "        env_vars = contents.replace('export ', '').split(\"\\n\")\n",
    "        ALPACA_KEY_ID = env_vars[0].split(\"=\")[1]\n",
    "        ALPACA_SECRETS_KEY = env_vars[1].split(\"=\")[1]\n",
    "set_vars()\n",
    "alpaca = api.REST(ALPACA_KEY_ID, ALPACA_SECRETS_KEY)\n",
    "# Setting parameters before calling method\n",
    "symbol = \"SDS\"\n",
    "limit = 25\n",
    "# Retrieve trades for Apple in a dataframe and printing the first 5 rows\n",
    "trades = alpaca.get_trades(symbol, limit=limit).df\n",
    "print(aapl_trades)\n",
    "\n",
    "#Create Histogram\n",
    "# AAPL trade exchange histogram\n",
    "exchange_histogram = px.histogram(aapl_trades, x=\"exchange\")\n",
    "exchange_histogram.update_layout(\n",
    "    title=\"Frequency of exchanges in the first 10,000 trades of\" + {symbol} + \"on\" + today,\n",
    "    yaxis_title=\"Number of trades\",\n",
    "    xaxis_title=\"Exchange\")\n",
    "exchange_histogram.show()\n"
   ]
  },
  {
   "cell_type": "code",
   "execution_count": 19,
   "id": "f211678b",
   "metadata": {},
   "outputs": [
    {
     "name": "stdout",
     "output_type": "stream",
     "text": [
      "Enter stock tickers separated by a comma: F,META\n"
     ]
    },
    {
     "name": "stderr",
     "output_type": "stream",
     "text": [
      "C:\\Users\\Spark\\AppData\\Local\\Temp\\ipykernel_34344\\1081852886.py:37: FutureWarning: reindexing with a non-unique Index is deprecated and will raise in a future version.\n",
      "  retrieve_quotes[\"Bid Size\"] = first_retrieve[\"bid_size\"]\n"
     ]
    },
    {
     "ename": "ValueError",
     "evalue": "cannot reindex on an axis with duplicate labels",
     "output_type": "error",
     "traceback": [
      "\u001b[1;31m---------------------------------------------------------------------------\u001b[0m",
      "\u001b[1;31mValueError\u001b[0m                                Traceback (most recent call last)",
      "Cell \u001b[1;32mIn[19], line 37\u001b[0m\n\u001b[0;32m     35\u001b[0m retrieve_quotes \u001b[38;5;241m=\u001b[39m pd\u001b[38;5;241m.\u001b[39mDataFrame(index\u001b[38;5;241m=\u001b[39m\u001b[38;5;28;01mNone\u001b[39;00m)\n\u001b[0;32m     36\u001b[0m retrieve_quotes[\u001b[38;5;124m\"\u001b[39m\u001b[38;5;124mDate\u001b[39m\u001b[38;5;124m\"\u001b[39m] \u001b[38;5;241m=\u001b[39m pd\u001b[38;5;241m.\u001b[39mto_datetime((first_retrieve\u001b[38;5;241m.\u001b[39mindex), \u001b[38;5;28mformat\u001b[39m\u001b[38;5;241m=\u001b[39m\u001b[38;5;124m\"\u001b[39m\u001b[38;5;124m%\u001b[39m\u001b[38;5;124mY-\u001b[39m\u001b[38;5;124m%\u001b[39m\u001b[38;5;124mm-\u001b[39m\u001b[38;5;132;01m%d\u001b[39;00m\u001b[38;5;124m\"\u001b[39m)\n\u001b[1;32m---> 37\u001b[0m retrieve_quotes[\u001b[38;5;124m\"\u001b[39m\u001b[38;5;124mBid Size\u001b[39m\u001b[38;5;124m\"\u001b[39m] \u001b[38;5;241m=\u001b[39m first_retrieve[\u001b[38;5;124m\"\u001b[39m\u001b[38;5;124mbid_size\u001b[39m\u001b[38;5;124m\"\u001b[39m]\n\u001b[0;32m     38\u001b[0m retrieve_quotes[\u001b[38;5;124m\"\u001b[39m\u001b[38;5;124mAsk Size\u001b[39m\u001b[38;5;124m\"\u001b[39m] \u001b[38;5;241m=\u001b[39m first_retrieve[\u001b[38;5;124m\"\u001b[39m\u001b[38;5;124mask_size\u001b[39m\u001b[38;5;124m\"\u001b[39m]\n\u001b[0;32m     39\u001b[0m \u001b[38;5;28mprint\u001b[39m(symbol, \u001b[38;5;124m\"\u001b[39m\u001b[38;5;124m: \u001b[39m\u001b[38;5;124m\"\u001b[39m, \u001b[38;5;124m\"\u001b[39m\u001b[38;5;130;01m\\n\u001b[39;00m\u001b[38;5;124m\"\u001b[39m, retrieve_quotes\u001b[38;5;241m.\u001b[39mhead(), \u001b[38;5;124m\"\u001b[39m\u001b[38;5;130;01m\\n\u001b[39;00m\u001b[38;5;124m\"\u001b[39m)\n",
      "File \u001b[1;32mD:\\Anaconda\\lib\\site-packages\\pandas\\core\\frame.py:3980\u001b[0m, in \u001b[0;36mDataFrame.__setitem__\u001b[1;34m(self, key, value)\u001b[0m\n\u001b[0;32m   3977\u001b[0m     \u001b[38;5;28mself\u001b[39m\u001b[38;5;241m.\u001b[39m_setitem_array([key], value)\n\u001b[0;32m   3978\u001b[0m \u001b[38;5;28;01melse\u001b[39;00m:\n\u001b[0;32m   3979\u001b[0m     \u001b[38;5;66;03m# set column\u001b[39;00m\n\u001b[1;32m-> 3980\u001b[0m     \u001b[38;5;28;43mself\u001b[39;49m\u001b[38;5;241;43m.\u001b[39;49m\u001b[43m_set_item\u001b[49m\u001b[43m(\u001b[49m\u001b[43mkey\u001b[49m\u001b[43m,\u001b[49m\u001b[43m \u001b[49m\u001b[43mvalue\u001b[49m\u001b[43m)\u001b[49m\n",
      "File \u001b[1;32mD:\\Anaconda\\lib\\site-packages\\pandas\\core\\frame.py:4174\u001b[0m, in \u001b[0;36mDataFrame._set_item\u001b[1;34m(self, key, value)\u001b[0m\n\u001b[0;32m   4164\u001b[0m \u001b[38;5;28;01mdef\u001b[39;00m \u001b[38;5;21m_set_item\u001b[39m(\u001b[38;5;28mself\u001b[39m, key, value) \u001b[38;5;241m-\u001b[39m\u001b[38;5;241m>\u001b[39m \u001b[38;5;28;01mNone\u001b[39;00m:\n\u001b[0;32m   4165\u001b[0m     \u001b[38;5;124;03m\"\"\"\u001b[39;00m\n\u001b[0;32m   4166\u001b[0m \u001b[38;5;124;03m    Add series to DataFrame in specified column.\u001b[39;00m\n\u001b[0;32m   4167\u001b[0m \n\u001b[1;32m   (...)\u001b[0m\n\u001b[0;32m   4172\u001b[0m \u001b[38;5;124;03m    ensure homogeneity.\u001b[39;00m\n\u001b[0;32m   4173\u001b[0m \u001b[38;5;124;03m    \"\"\"\u001b[39;00m\n\u001b[1;32m-> 4174\u001b[0m     value \u001b[38;5;241m=\u001b[39m \u001b[38;5;28;43mself\u001b[39;49m\u001b[38;5;241;43m.\u001b[39;49m\u001b[43m_sanitize_column\u001b[49m\u001b[43m(\u001b[49m\u001b[43mvalue\u001b[49m\u001b[43m)\u001b[49m\n\u001b[0;32m   4176\u001b[0m     \u001b[38;5;28;01mif\u001b[39;00m (\n\u001b[0;32m   4177\u001b[0m         key \u001b[38;5;129;01min\u001b[39;00m \u001b[38;5;28mself\u001b[39m\u001b[38;5;241m.\u001b[39mcolumns\n\u001b[0;32m   4178\u001b[0m         \u001b[38;5;129;01mand\u001b[39;00m value\u001b[38;5;241m.\u001b[39mndim \u001b[38;5;241m==\u001b[39m \u001b[38;5;241m1\u001b[39m\n\u001b[0;32m   4179\u001b[0m         \u001b[38;5;129;01mand\u001b[39;00m \u001b[38;5;129;01mnot\u001b[39;00m is_extension_array_dtype(value)\n\u001b[0;32m   4180\u001b[0m     ):\n\u001b[0;32m   4181\u001b[0m         \u001b[38;5;66;03m# broadcast across multiple columns if necessary\u001b[39;00m\n\u001b[0;32m   4182\u001b[0m         \u001b[38;5;28;01mif\u001b[39;00m \u001b[38;5;129;01mnot\u001b[39;00m \u001b[38;5;28mself\u001b[39m\u001b[38;5;241m.\u001b[39mcolumns\u001b[38;5;241m.\u001b[39mis_unique \u001b[38;5;129;01mor\u001b[39;00m \u001b[38;5;28misinstance\u001b[39m(\u001b[38;5;28mself\u001b[39m\u001b[38;5;241m.\u001b[39mcolumns, MultiIndex):\n",
      "File \u001b[1;32mD:\\Anaconda\\lib\\site-packages\\pandas\\core\\frame.py:4912\u001b[0m, in \u001b[0;36mDataFrame._sanitize_column\u001b[1;34m(self, value)\u001b[0m\n\u001b[0;32m   4910\u001b[0m     \u001b[38;5;28;01mreturn\u001b[39;00m _reindex_for_setitem(value, \u001b[38;5;28mself\u001b[39m\u001b[38;5;241m.\u001b[39mindex)\n\u001b[0;32m   4911\u001b[0m \u001b[38;5;28;01melif\u001b[39;00m is_dict_like(value):\n\u001b[1;32m-> 4912\u001b[0m     \u001b[38;5;28;01mreturn\u001b[39;00m \u001b[43m_reindex_for_setitem\u001b[49m\u001b[43m(\u001b[49m\u001b[43mSeries\u001b[49m\u001b[43m(\u001b[49m\u001b[43mvalue\u001b[49m\u001b[43m)\u001b[49m\u001b[43m,\u001b[49m\u001b[43m \u001b[49m\u001b[38;5;28;43mself\u001b[39;49m\u001b[38;5;241;43m.\u001b[39;49m\u001b[43mindex\u001b[49m\u001b[43m)\u001b[49m\n\u001b[0;32m   4914\u001b[0m \u001b[38;5;28;01mif\u001b[39;00m is_list_like(value):\n\u001b[0;32m   4915\u001b[0m     com\u001b[38;5;241m.\u001b[39mrequire_length_match(value, \u001b[38;5;28mself\u001b[39m\u001b[38;5;241m.\u001b[39mindex)\n",
      "File \u001b[1;32mD:\\Anaconda\\lib\\site-packages\\pandas\\core\\frame.py:12025\u001b[0m, in \u001b[0;36m_reindex_for_setitem\u001b[1;34m(value, index)\u001b[0m\n\u001b[0;32m  12021\u001b[0m \u001b[38;5;28;01mexcept\u001b[39;00m \u001b[38;5;167;01mValueError\u001b[39;00m \u001b[38;5;28;01mas\u001b[39;00m err:\n\u001b[0;32m  12022\u001b[0m     \u001b[38;5;66;03m# raised in MultiIndex.from_tuples, see test_insert_error_msmgs\u001b[39;00m\n\u001b[0;32m  12023\u001b[0m     \u001b[38;5;28;01mif\u001b[39;00m \u001b[38;5;129;01mnot\u001b[39;00m value\u001b[38;5;241m.\u001b[39mindex\u001b[38;5;241m.\u001b[39mis_unique:\n\u001b[0;32m  12024\u001b[0m         \u001b[38;5;66;03m# duplicate axis\u001b[39;00m\n\u001b[1;32m> 12025\u001b[0m         \u001b[38;5;28;01mraise\u001b[39;00m err\n\u001b[0;32m  12027\u001b[0m     \u001b[38;5;28;01mraise\u001b[39;00m \u001b[38;5;167;01mTypeError\u001b[39;00m(\n\u001b[0;32m  12028\u001b[0m         \u001b[38;5;124m\"\u001b[39m\u001b[38;5;124mincompatible index of inserted column with frame index\u001b[39m\u001b[38;5;124m\"\u001b[39m\n\u001b[0;32m  12029\u001b[0m     ) \u001b[38;5;28;01mfrom\u001b[39;00m \u001b[38;5;21;01merr\u001b[39;00m\n\u001b[0;32m  12030\u001b[0m \u001b[38;5;28;01mreturn\u001b[39;00m reindexed_value\n",
      "File \u001b[1;32mD:\\Anaconda\\lib\\site-packages\\pandas\\core\\frame.py:12020\u001b[0m, in \u001b[0;36m_reindex_for_setitem\u001b[1;34m(value, index)\u001b[0m\n\u001b[0;32m  12018\u001b[0m \u001b[38;5;66;03m# GH#4107\u001b[39;00m\n\u001b[0;32m  12019\u001b[0m \u001b[38;5;28;01mtry\u001b[39;00m:\n\u001b[1;32m> 12020\u001b[0m     reindexed_value \u001b[38;5;241m=\u001b[39m \u001b[43mvalue\u001b[49m\u001b[38;5;241;43m.\u001b[39;49m\u001b[43mreindex\u001b[49m\u001b[43m(\u001b[49m\u001b[43mindex\u001b[49m\u001b[43m)\u001b[49m\u001b[38;5;241m.\u001b[39m_values\n\u001b[0;32m  12021\u001b[0m \u001b[38;5;28;01mexcept\u001b[39;00m \u001b[38;5;167;01mValueError\u001b[39;00m \u001b[38;5;28;01mas\u001b[39;00m err:\n\u001b[0;32m  12022\u001b[0m     \u001b[38;5;66;03m# raised in MultiIndex.from_tuples, see test_insert_error_msmgs\u001b[39;00m\n\u001b[0;32m  12023\u001b[0m     \u001b[38;5;28;01mif\u001b[39;00m \u001b[38;5;129;01mnot\u001b[39;00m value\u001b[38;5;241m.\u001b[39mindex\u001b[38;5;241m.\u001b[39mis_unique:\n\u001b[0;32m  12024\u001b[0m         \u001b[38;5;66;03m# duplicate axis\u001b[39;00m\n",
      "File \u001b[1;32mD:\\Anaconda\\lib\\site-packages\\pandas\\core\\series.py:5094\u001b[0m, in \u001b[0;36mSeries.reindex\u001b[1;34m(self, *args, **kwargs)\u001b[0m\n\u001b[0;32m   5090\u001b[0m         \u001b[38;5;28;01mraise\u001b[39;00m \u001b[38;5;167;01mTypeError\u001b[39;00m(\n\u001b[0;32m   5091\u001b[0m             \u001b[38;5;124m\"\u001b[39m\u001b[38;5;124m'\u001b[39m\u001b[38;5;124mindex\u001b[39m\u001b[38;5;124m'\u001b[39m\u001b[38;5;124m passed as both positional and keyword argument\u001b[39m\u001b[38;5;124m\"\u001b[39m\n\u001b[0;32m   5092\u001b[0m         )\n\u001b[0;32m   5093\u001b[0m     kwargs\u001b[38;5;241m.\u001b[39mupdate({\u001b[38;5;124m\"\u001b[39m\u001b[38;5;124mindex\u001b[39m\u001b[38;5;124m\"\u001b[39m: index})\n\u001b[1;32m-> 5094\u001b[0m \u001b[38;5;28;01mreturn\u001b[39;00m \u001b[38;5;28msuper\u001b[39m()\u001b[38;5;241m.\u001b[39mreindex(\u001b[38;5;241m*\u001b[39m\u001b[38;5;241m*\u001b[39mkwargs)\n",
      "File \u001b[1;32mD:\\Anaconda\\lib\\site-packages\\pandas\\core\\generic.py:5289\u001b[0m, in \u001b[0;36mNDFrame.reindex\u001b[1;34m(self, *args, **kwargs)\u001b[0m\n\u001b[0;32m   5286\u001b[0m     \u001b[38;5;28;01mreturn\u001b[39;00m \u001b[38;5;28mself\u001b[39m\u001b[38;5;241m.\u001b[39m_reindex_multi(axes, copy, fill_value)\n\u001b[0;32m   5288\u001b[0m \u001b[38;5;66;03m# perform the reindex on the axes\u001b[39;00m\n\u001b[1;32m-> 5289\u001b[0m \u001b[38;5;28;01mreturn\u001b[39;00m \u001b[38;5;28;43mself\u001b[39;49m\u001b[38;5;241;43m.\u001b[39;49m\u001b[43m_reindex_axes\u001b[49m\u001b[43m(\u001b[49m\n\u001b[0;32m   5290\u001b[0m \u001b[43m    \u001b[49m\u001b[43maxes\u001b[49m\u001b[43m,\u001b[49m\u001b[43m \u001b[49m\u001b[43mlevel\u001b[49m\u001b[43m,\u001b[49m\u001b[43m \u001b[49m\u001b[43mlimit\u001b[49m\u001b[43m,\u001b[49m\u001b[43m \u001b[49m\u001b[43mtolerance\u001b[49m\u001b[43m,\u001b[49m\u001b[43m \u001b[49m\u001b[43mmethod\u001b[49m\u001b[43m,\u001b[49m\u001b[43m \u001b[49m\u001b[43mfill_value\u001b[49m\u001b[43m,\u001b[49m\u001b[43m \u001b[49m\u001b[43mcopy\u001b[49m\n\u001b[0;32m   5291\u001b[0m \u001b[43m\u001b[49m\u001b[43m)\u001b[49m\u001b[38;5;241m.\u001b[39m__finalize__(\u001b[38;5;28mself\u001b[39m, method\u001b[38;5;241m=\u001b[39m\u001b[38;5;124m\"\u001b[39m\u001b[38;5;124mreindex\u001b[39m\u001b[38;5;124m\"\u001b[39m)\n",
      "File \u001b[1;32mD:\\Anaconda\\lib\\site-packages\\pandas\\core\\generic.py:5309\u001b[0m, in \u001b[0;36mNDFrame._reindex_axes\u001b[1;34m(self, axes, level, limit, tolerance, method, fill_value, copy)\u001b[0m\n\u001b[0;32m   5304\u001b[0m new_index, indexer \u001b[38;5;241m=\u001b[39m ax\u001b[38;5;241m.\u001b[39mreindex(\n\u001b[0;32m   5305\u001b[0m     labels, level\u001b[38;5;241m=\u001b[39mlevel, limit\u001b[38;5;241m=\u001b[39mlimit, tolerance\u001b[38;5;241m=\u001b[39mtolerance, method\u001b[38;5;241m=\u001b[39mmethod\n\u001b[0;32m   5306\u001b[0m )\n\u001b[0;32m   5308\u001b[0m axis \u001b[38;5;241m=\u001b[39m \u001b[38;5;28mself\u001b[39m\u001b[38;5;241m.\u001b[39m_get_axis_number(a)\n\u001b[1;32m-> 5309\u001b[0m obj \u001b[38;5;241m=\u001b[39m \u001b[43mobj\u001b[49m\u001b[38;5;241;43m.\u001b[39;49m\u001b[43m_reindex_with_indexers\u001b[49m\u001b[43m(\u001b[49m\n\u001b[0;32m   5310\u001b[0m \u001b[43m    \u001b[49m\u001b[43m{\u001b[49m\u001b[43maxis\u001b[49m\u001b[43m:\u001b[49m\u001b[43m \u001b[49m\u001b[43m[\u001b[49m\u001b[43mnew_index\u001b[49m\u001b[43m,\u001b[49m\u001b[43m \u001b[49m\u001b[43mindexer\u001b[49m\u001b[43m]\u001b[49m\u001b[43m}\u001b[49m\u001b[43m,\u001b[49m\n\u001b[0;32m   5311\u001b[0m \u001b[43m    \u001b[49m\u001b[43mfill_value\u001b[49m\u001b[38;5;241;43m=\u001b[39;49m\u001b[43mfill_value\u001b[49m\u001b[43m,\u001b[49m\n\u001b[0;32m   5312\u001b[0m \u001b[43m    \u001b[49m\u001b[43mcopy\u001b[49m\u001b[38;5;241;43m=\u001b[39;49m\u001b[43mcopy\u001b[49m\u001b[43m,\u001b[49m\n\u001b[0;32m   5313\u001b[0m \u001b[43m    \u001b[49m\u001b[43mallow_dups\u001b[49m\u001b[38;5;241;43m=\u001b[39;49m\u001b[38;5;28;43;01mFalse\u001b[39;49;00m\u001b[43m,\u001b[49m\n\u001b[0;32m   5314\u001b[0m \u001b[43m\u001b[49m\u001b[43m)\u001b[49m\n\u001b[0;32m   5315\u001b[0m \u001b[38;5;66;03m# If we've made a copy once, no need to make another one\u001b[39;00m\n\u001b[0;32m   5316\u001b[0m copy \u001b[38;5;241m=\u001b[39m \u001b[38;5;28;01mFalse\u001b[39;00m\n",
      "File \u001b[1;32mD:\\Anaconda\\lib\\site-packages\\pandas\\core\\generic.py:5355\u001b[0m, in \u001b[0;36mNDFrame._reindex_with_indexers\u001b[1;34m(self, reindexers, fill_value, copy, allow_dups)\u001b[0m\n\u001b[0;32m   5352\u001b[0m     indexer \u001b[38;5;241m=\u001b[39m ensure_platform_int(indexer)\n\u001b[0;32m   5354\u001b[0m \u001b[38;5;66;03m# TODO: speed up on homogeneous DataFrame objects (see _reindex_multi)\u001b[39;00m\n\u001b[1;32m-> 5355\u001b[0m new_data \u001b[38;5;241m=\u001b[39m \u001b[43mnew_data\u001b[49m\u001b[38;5;241;43m.\u001b[39;49m\u001b[43mreindex_indexer\u001b[49m\u001b[43m(\u001b[49m\n\u001b[0;32m   5356\u001b[0m \u001b[43m    \u001b[49m\u001b[43mindex\u001b[49m\u001b[43m,\u001b[49m\n\u001b[0;32m   5357\u001b[0m \u001b[43m    \u001b[49m\u001b[43mindexer\u001b[49m\u001b[43m,\u001b[49m\n\u001b[0;32m   5358\u001b[0m \u001b[43m    \u001b[49m\u001b[43maxis\u001b[49m\u001b[38;5;241;43m=\u001b[39;49m\u001b[43mbaxis\u001b[49m\u001b[43m,\u001b[49m\n\u001b[0;32m   5359\u001b[0m \u001b[43m    \u001b[49m\u001b[43mfill_value\u001b[49m\u001b[38;5;241;43m=\u001b[39;49m\u001b[43mfill_value\u001b[49m\u001b[43m,\u001b[49m\n\u001b[0;32m   5360\u001b[0m \u001b[43m    \u001b[49m\u001b[43mallow_dups\u001b[49m\u001b[38;5;241;43m=\u001b[39;49m\u001b[43mallow_dups\u001b[49m\u001b[43m,\u001b[49m\n\u001b[0;32m   5361\u001b[0m \u001b[43m    \u001b[49m\u001b[43mcopy\u001b[49m\u001b[38;5;241;43m=\u001b[39;49m\u001b[43mcopy\u001b[49m\u001b[43m,\u001b[49m\n\u001b[0;32m   5362\u001b[0m \u001b[43m\u001b[49m\u001b[43m)\u001b[49m\n\u001b[0;32m   5363\u001b[0m \u001b[38;5;66;03m# If we've made a copy once, no need to make another one\u001b[39;00m\n\u001b[0;32m   5364\u001b[0m copy \u001b[38;5;241m=\u001b[39m \u001b[38;5;28;01mFalse\u001b[39;00m\n",
      "File \u001b[1;32mD:\\Anaconda\\lib\\site-packages\\pandas\\core\\internals\\managers.py:737\u001b[0m, in \u001b[0;36mBaseBlockManager.reindex_indexer\u001b[1;34m(self, new_axis, indexer, axis, fill_value, allow_dups, copy, only_slice, use_na_proxy)\u001b[0m\n\u001b[0;32m    735\u001b[0m \u001b[38;5;66;03m# some axes don't allow reindexing with dups\u001b[39;00m\n\u001b[0;32m    736\u001b[0m \u001b[38;5;28;01mif\u001b[39;00m \u001b[38;5;129;01mnot\u001b[39;00m allow_dups:\n\u001b[1;32m--> 737\u001b[0m     \u001b[38;5;28;43mself\u001b[39;49m\u001b[38;5;241;43m.\u001b[39;49m\u001b[43maxes\u001b[49m\u001b[43m[\u001b[49m\u001b[43maxis\u001b[49m\u001b[43m]\u001b[49m\u001b[38;5;241;43m.\u001b[39;49m\u001b[43m_validate_can_reindex\u001b[49m\u001b[43m(\u001b[49m\u001b[43mindexer\u001b[49m\u001b[43m)\u001b[49m\n\u001b[0;32m    739\u001b[0m \u001b[38;5;28;01mif\u001b[39;00m axis \u001b[38;5;241m>\u001b[39m\u001b[38;5;241m=\u001b[39m \u001b[38;5;28mself\u001b[39m\u001b[38;5;241m.\u001b[39mndim:\n\u001b[0;32m    740\u001b[0m     \u001b[38;5;28;01mraise\u001b[39;00m \u001b[38;5;167;01mIndexError\u001b[39;00m(\u001b[38;5;124m\"\u001b[39m\u001b[38;5;124mRequested axis not found in manager\u001b[39m\u001b[38;5;124m\"\u001b[39m)\n",
      "File \u001b[1;32mD:\\Anaconda\\lib\\site-packages\\pandas\\core\\indexes\\base.py:4316\u001b[0m, in \u001b[0;36mIndex._validate_can_reindex\u001b[1;34m(self, indexer)\u001b[0m\n\u001b[0;32m   4314\u001b[0m \u001b[38;5;66;03m# trying to reindex on an axis with duplicates\u001b[39;00m\n\u001b[0;32m   4315\u001b[0m \u001b[38;5;28;01mif\u001b[39;00m \u001b[38;5;129;01mnot\u001b[39;00m \u001b[38;5;28mself\u001b[39m\u001b[38;5;241m.\u001b[39m_index_as_unique \u001b[38;5;129;01mand\u001b[39;00m \u001b[38;5;28mlen\u001b[39m(indexer):\n\u001b[1;32m-> 4316\u001b[0m     \u001b[38;5;28;01mraise\u001b[39;00m \u001b[38;5;167;01mValueError\u001b[39;00m(\u001b[38;5;124m\"\u001b[39m\u001b[38;5;124mcannot reindex on an axis with duplicate labels\u001b[39m\u001b[38;5;124m\"\u001b[39m)\n",
      "\u001b[1;31mValueError\u001b[0m: cannot reindex on an axis with duplicate labels"
     ]
    }
   ],
   "source": [
    "#Quote Analysis\n",
    "#Reference Alpaca API and Create General Bid Ask Chart Structures\n",
    "#From \n",
    "from dotenv import load_dotenv\n",
    "import plotly.graph_objects as go\n",
    "import plotly.express as px\n",
    "import alpaca_trade_api as api\n",
    "import os\n",
    "import pandas as pd\n",
    "%matplotlib nbagg\n",
    "\n",
    "ALPACA_KEY_ID, ALPACA_SECRETS_KEY = \"\",\"\"\n",
    "\n",
    "def set_vars(secrets_file='a.env'):\n",
    "    global ALPACA_KEY_ID, ALPACA_SECRETS_KEY\n",
    "    with open(f\"{secrets_file}\", 'r') as file:\n",
    "        contents = file.read()\n",
    "        env_vars = contents.replace('export ', '').split(\"\\n\")\n",
    "        ALPACA_KEY_ID = env_vars[0].split(\"=\")[1]\n",
    "        ALPACA_SECRETS_KEY = env_vars[1].split(\"=\")[1]\n",
    "set_vars()\n",
    "alpaca = api.REST(ALPACA_KEY_ID, ALPACA_SECRETS_KEY)\n",
    "# Setting parameters before calling method\n",
    "\n",
    "\n",
    "\n",
    "# Setting parameters for method call\n",
    "symbols = input(\"Enter stock tickers separated by a comma: \").split(\",\")\n",
    "start = \"2021-03-01T14:30:00Z\"\n",
    "end = \"2021-04-24T21:00:00Z\"\n",
    "limit = 50\n",
    "for symbol in symbols:\n",
    "    # Get Shopify quotes in a dataframe and print the first 5 rows\n",
    "    first_retrieve = alpaca.get_quotes(symbol, start, end, limit).df\n",
    "    retrieve_quotes = pd.DataFrame(index=None)\n",
    "    retrieve_quotes[\"Date\"] = pd.to_datetime((first_retrieve.index), format=\"%Y-%m-%d\")\n",
    "    retrieve_quotes[\"Bid Size\"] = first_retrieve[\"bid_size\"]\n",
    "    retrieve_quotes[\"Ask Size\"] = first_retrieve[\"ask_size\"]\n",
    "    print(symbol, \": \", \"\\n\", retrieve_quotes.head(), \"\\n\")\n"
   ]
  },
  {
   "cell_type": "code",
   "execution_count": 29,
   "id": "82645932",
   "metadata": {},
   "outputs": [
    {
     "data": {
      "application/vnd.plotly.v1+json": {
       "config": {
        "plotlyServerURL": "https://plot.ly"
       },
       "data": [
        {
         "hovertemplate": "timestamp=%{x}<br>y=%{y}<extra></extra>",
         "legendgroup": "",
         "line": {
          "color": "#636efa",
          "dash": "solid"
         },
         "marker": {
          "symbol": "circle"
         },
         "mode": "lines",
         "name": "",
         "orientation": "v",
         "showlegend": false,
         "type": "scatter",
         "x": [
          "2022-01-03T09:00:00.023193+00:00",
          "2022-01-03T09:00:00.023193+00:00",
          "2022-01-03T09:00:00.023345+00:00",
          "2022-01-03T09:00:00.023400+00:00",
          "2022-01-03T09:00:00.023525+00:00",
          "2022-01-03T09:00:00.030384+00:00",
          "2022-01-03T09:00:00.058738+00:00",
          "2022-01-03T09:00:00.058943+00:00",
          "2022-01-03T09:00:00.099899+00:00",
          "2022-01-03T09:00:00.112006+00:00",
          "2022-01-03T09:00:00.112160+00:00",
          "2022-01-03T09:00:00.424523+00:00",
          "2022-01-03T09:00:00.424523+00:00",
          "2022-01-03T09:00:00.424606+00:00",
          "2022-01-03T09:00:00.428079+00:00",
          "2022-01-03T09:00:02.909580+00:00",
          "2022-01-03T09:00:02.909654+00:00",
          "2022-01-03T09:00:02.909711+00:00",
          "2022-01-03T09:00:03.630482+00:00",
          "2022-01-03T09:00:03.630588+00:00",
          "2022-01-03T09:00:03.630621+00:00",
          "2022-01-03T09:00:03.630678+00:00",
          "2022-01-03T09:00:04.390097+00:00",
          "2022-01-03T09:00:04.622134+00:00",
          "2022-01-03T09:00:05.755881+00:00",
          "2022-01-03T09:00:06.535293+00:00",
          "2022-01-03T09:00:06.535347+00:00",
          "2022-01-03T09:00:06.535352+00:00",
          "2022-01-03T09:00:06.649401+00:00",
          "2022-01-03T09:00:06.649405+00:00",
          "2022-01-03T09:00:06.758974+00:00",
          "2022-01-03T09:00:07.013516+00:00",
          "2022-01-03T09:00:07.447245+00:00",
          "2022-01-03T09:00:07.447254+00:00",
          "2022-01-03T09:00:07.447257+00:00",
          "2022-01-03T09:00:07.447269+00:00",
          "2022-01-03T09:00:07.447296+00:00",
          "2022-01-03T09:00:07.447324+00:00",
          "2022-01-03T09:00:07.447602+00:00",
          "2022-01-03T09:00:07.447653+00:00",
          "2022-01-03T09:00:07.552594+00:00",
          "2022-01-03T09:00:07.552746+00:00",
          "2022-01-03T09:00:07.831560+00:00",
          "2022-01-03T09:00:07.891497+00:00",
          "2022-01-03T09:00:09.812096+00:00",
          "2022-01-03T09:00:15.299288+00:00",
          "2022-01-03T09:02:20.175743+00:00",
          "2022-01-03T09:02:20.175750+00:00",
          "2022-01-03T09:02:20.192489+00:00",
          "2022-01-03T09:02:20.199462+00:00"
         ],
         "xaxis": "x",
         "y": [
          -1,
          0,
          38,
          38,
          80,
          265,
          263,
          418,
          151,
          109,
          0,
          253,
          0,
          267,
          0,
          0,
          169,
          0,
          169,
          42,
          169,
          211,
          211,
          42,
          464,
          633,
          633,
          464,
          295,
          464,
          464,
          731,
          253,
          900,
          731,
          -520,
          773,
          773,
          -56,
          -478,
          -253,
          -422,
          -380,
          -464,
          -466,
          -44,
          -380,
          -213,
          -267,
          -98
         ],
         "yaxis": "y"
        }
       ],
       "layout": {
        "legend": {
         "tracegroupgap": 0
        },
        "margin": {
         "t": 60
        },
        "template": {
         "data": {
          "bar": [
           {
            "error_x": {
             "color": "#2a3f5f"
            },
            "error_y": {
             "color": "#2a3f5f"
            },
            "marker": {
             "line": {
              "color": "#E5ECF6",
              "width": 0.5
             },
             "pattern": {
              "fillmode": "overlay",
              "size": 10,
              "solidity": 0.2
             }
            },
            "type": "bar"
           }
          ],
          "barpolar": [
           {
            "marker": {
             "line": {
              "color": "#E5ECF6",
              "width": 0.5
             },
             "pattern": {
              "fillmode": "overlay",
              "size": 10,
              "solidity": 0.2
             }
            },
            "type": "barpolar"
           }
          ],
          "carpet": [
           {
            "aaxis": {
             "endlinecolor": "#2a3f5f",
             "gridcolor": "white",
             "linecolor": "white",
             "minorgridcolor": "white",
             "startlinecolor": "#2a3f5f"
            },
            "baxis": {
             "endlinecolor": "#2a3f5f",
             "gridcolor": "white",
             "linecolor": "white",
             "minorgridcolor": "white",
             "startlinecolor": "#2a3f5f"
            },
            "type": "carpet"
           }
          ],
          "choropleth": [
           {
            "colorbar": {
             "outlinewidth": 0,
             "ticks": ""
            },
            "type": "choropleth"
           }
          ],
          "contour": [
           {
            "colorbar": {
             "outlinewidth": 0,
             "ticks": ""
            },
            "colorscale": [
             [
              0,
              "#0d0887"
             ],
             [
              0.1111111111111111,
              "#46039f"
             ],
             [
              0.2222222222222222,
              "#7201a8"
             ],
             [
              0.3333333333333333,
              "#9c179e"
             ],
             [
              0.4444444444444444,
              "#bd3786"
             ],
             [
              0.5555555555555556,
              "#d8576b"
             ],
             [
              0.6666666666666666,
              "#ed7953"
             ],
             [
              0.7777777777777778,
              "#fb9f3a"
             ],
             [
              0.8888888888888888,
              "#fdca26"
             ],
             [
              1,
              "#f0f921"
             ]
            ],
            "type": "contour"
           }
          ],
          "contourcarpet": [
           {
            "colorbar": {
             "outlinewidth": 0,
             "ticks": ""
            },
            "type": "contourcarpet"
           }
          ],
          "heatmap": [
           {
            "colorbar": {
             "outlinewidth": 0,
             "ticks": ""
            },
            "colorscale": [
             [
              0,
              "#0d0887"
             ],
             [
              0.1111111111111111,
              "#46039f"
             ],
             [
              0.2222222222222222,
              "#7201a8"
             ],
             [
              0.3333333333333333,
              "#9c179e"
             ],
             [
              0.4444444444444444,
              "#bd3786"
             ],
             [
              0.5555555555555556,
              "#d8576b"
             ],
             [
              0.6666666666666666,
              "#ed7953"
             ],
             [
              0.7777777777777778,
              "#fb9f3a"
             ],
             [
              0.8888888888888888,
              "#fdca26"
             ],
             [
              1,
              "#f0f921"
             ]
            ],
            "type": "heatmap"
           }
          ],
          "heatmapgl": [
           {
            "colorbar": {
             "outlinewidth": 0,
             "ticks": ""
            },
            "colorscale": [
             [
              0,
              "#0d0887"
             ],
             [
              0.1111111111111111,
              "#46039f"
             ],
             [
              0.2222222222222222,
              "#7201a8"
             ],
             [
              0.3333333333333333,
              "#9c179e"
             ],
             [
              0.4444444444444444,
              "#bd3786"
             ],
             [
              0.5555555555555556,
              "#d8576b"
             ],
             [
              0.6666666666666666,
              "#ed7953"
             ],
             [
              0.7777777777777778,
              "#fb9f3a"
             ],
             [
              0.8888888888888888,
              "#fdca26"
             ],
             [
              1,
              "#f0f921"
             ]
            ],
            "type": "heatmapgl"
           }
          ],
          "histogram": [
           {
            "marker": {
             "pattern": {
              "fillmode": "overlay",
              "size": 10,
              "solidity": 0.2
             }
            },
            "type": "histogram"
           }
          ],
          "histogram2d": [
           {
            "colorbar": {
             "outlinewidth": 0,
             "ticks": ""
            },
            "colorscale": [
             [
              0,
              "#0d0887"
             ],
             [
              0.1111111111111111,
              "#46039f"
             ],
             [
              0.2222222222222222,
              "#7201a8"
             ],
             [
              0.3333333333333333,
              "#9c179e"
             ],
             [
              0.4444444444444444,
              "#bd3786"
             ],
             [
              0.5555555555555556,
              "#d8576b"
             ],
             [
              0.6666666666666666,
              "#ed7953"
             ],
             [
              0.7777777777777778,
              "#fb9f3a"
             ],
             [
              0.8888888888888888,
              "#fdca26"
             ],
             [
              1,
              "#f0f921"
             ]
            ],
            "type": "histogram2d"
           }
          ],
          "histogram2dcontour": [
           {
            "colorbar": {
             "outlinewidth": 0,
             "ticks": ""
            },
            "colorscale": [
             [
              0,
              "#0d0887"
             ],
             [
              0.1111111111111111,
              "#46039f"
             ],
             [
              0.2222222222222222,
              "#7201a8"
             ],
             [
              0.3333333333333333,
              "#9c179e"
             ],
             [
              0.4444444444444444,
              "#bd3786"
             ],
             [
              0.5555555555555556,
              "#d8576b"
             ],
             [
              0.6666666666666666,
              "#ed7953"
             ],
             [
              0.7777777777777778,
              "#fb9f3a"
             ],
             [
              0.8888888888888888,
              "#fdca26"
             ],
             [
              1,
              "#f0f921"
             ]
            ],
            "type": "histogram2dcontour"
           }
          ],
          "mesh3d": [
           {
            "colorbar": {
             "outlinewidth": 0,
             "ticks": ""
            },
            "type": "mesh3d"
           }
          ],
          "parcoords": [
           {
            "line": {
             "colorbar": {
              "outlinewidth": 0,
              "ticks": ""
             }
            },
            "type": "parcoords"
           }
          ],
          "pie": [
           {
            "automargin": true,
            "type": "pie"
           }
          ],
          "scatter": [
           {
            "fillpattern": {
             "fillmode": "overlay",
             "size": 10,
             "solidity": 0.2
            },
            "type": "scatter"
           }
          ],
          "scatter3d": [
           {
            "line": {
             "colorbar": {
              "outlinewidth": 0,
              "ticks": ""
             }
            },
            "marker": {
             "colorbar": {
              "outlinewidth": 0,
              "ticks": ""
             }
            },
            "type": "scatter3d"
           }
          ],
          "scattercarpet": [
           {
            "marker": {
             "colorbar": {
              "outlinewidth": 0,
              "ticks": ""
             }
            },
            "type": "scattercarpet"
           }
          ],
          "scattergeo": [
           {
            "marker": {
             "colorbar": {
              "outlinewidth": 0,
              "ticks": ""
             }
            },
            "type": "scattergeo"
           }
          ],
          "scattergl": [
           {
            "marker": {
             "colorbar": {
              "outlinewidth": 0,
              "ticks": ""
             }
            },
            "type": "scattergl"
           }
          ],
          "scattermapbox": [
           {
            "marker": {
             "colorbar": {
              "outlinewidth": 0,
              "ticks": ""
             }
            },
            "type": "scattermapbox"
           }
          ],
          "scatterpolar": [
           {
            "marker": {
             "colorbar": {
              "outlinewidth": 0,
              "ticks": ""
             }
            },
            "type": "scatterpolar"
           }
          ],
          "scatterpolargl": [
           {
            "marker": {
             "colorbar": {
              "outlinewidth": 0,
              "ticks": ""
             }
            },
            "type": "scatterpolargl"
           }
          ],
          "scatterternary": [
           {
            "marker": {
             "colorbar": {
              "outlinewidth": 0,
              "ticks": ""
             }
            },
            "type": "scatterternary"
           }
          ],
          "surface": [
           {
            "colorbar": {
             "outlinewidth": 0,
             "ticks": ""
            },
            "colorscale": [
             [
              0,
              "#0d0887"
             ],
             [
              0.1111111111111111,
              "#46039f"
             ],
             [
              0.2222222222222222,
              "#7201a8"
             ],
             [
              0.3333333333333333,
              "#9c179e"
             ],
             [
              0.4444444444444444,
              "#bd3786"
             ],
             [
              0.5555555555555556,
              "#d8576b"
             ],
             [
              0.6666666666666666,
              "#ed7953"
             ],
             [
              0.7777777777777778,
              "#fb9f3a"
             ],
             [
              0.8888888888888888,
              "#fdca26"
             ],
             [
              1,
              "#f0f921"
             ]
            ],
            "type": "surface"
           }
          ],
          "table": [
           {
            "cells": {
             "fill": {
              "color": "#EBF0F8"
             },
             "line": {
              "color": "white"
             }
            },
            "header": {
             "fill": {
              "color": "#C8D4E3"
             },
             "line": {
              "color": "white"
             }
            },
            "type": "table"
           }
          ]
         },
         "layout": {
          "annotationdefaults": {
           "arrowcolor": "#2a3f5f",
           "arrowhead": 0,
           "arrowwidth": 1
          },
          "autotypenumbers": "strict",
          "coloraxis": {
           "colorbar": {
            "outlinewidth": 0,
            "ticks": ""
           }
          },
          "colorscale": {
           "diverging": [
            [
             0,
             "#8e0152"
            ],
            [
             0.1,
             "#c51b7d"
            ],
            [
             0.2,
             "#de77ae"
            ],
            [
             0.3,
             "#f1b6da"
            ],
            [
             0.4,
             "#fde0ef"
            ],
            [
             0.5,
             "#f7f7f7"
            ],
            [
             0.6,
             "#e6f5d0"
            ],
            [
             0.7,
             "#b8e186"
            ],
            [
             0.8,
             "#7fbc41"
            ],
            [
             0.9,
             "#4d9221"
            ],
            [
             1,
             "#276419"
            ]
           ],
           "sequential": [
            [
             0,
             "#0d0887"
            ],
            [
             0.1111111111111111,
             "#46039f"
            ],
            [
             0.2222222222222222,
             "#7201a8"
            ],
            [
             0.3333333333333333,
             "#9c179e"
            ],
            [
             0.4444444444444444,
             "#bd3786"
            ],
            [
             0.5555555555555556,
             "#d8576b"
            ],
            [
             0.6666666666666666,
             "#ed7953"
            ],
            [
             0.7777777777777778,
             "#fb9f3a"
            ],
            [
             0.8888888888888888,
             "#fdca26"
            ],
            [
             1,
             "#f0f921"
            ]
           ],
           "sequentialminus": [
            [
             0,
             "#0d0887"
            ],
            [
             0.1111111111111111,
             "#46039f"
            ],
            [
             0.2222222222222222,
             "#7201a8"
            ],
            [
             0.3333333333333333,
             "#9c179e"
            ],
            [
             0.4444444444444444,
             "#bd3786"
            ],
            [
             0.5555555555555556,
             "#d8576b"
            ],
            [
             0.6666666666666666,
             "#ed7953"
            ],
            [
             0.7777777777777778,
             "#fb9f3a"
            ],
            [
             0.8888888888888888,
             "#fdca26"
            ],
            [
             1,
             "#f0f921"
            ]
           ]
          },
          "colorway": [
           "#636efa",
           "#EF553B",
           "#00cc96",
           "#ab63fa",
           "#FFA15A",
           "#19d3f3",
           "#FF6692",
           "#B6E880",
           "#FF97FF",
           "#FECB52"
          ],
          "font": {
           "color": "#2a3f5f"
          },
          "geo": {
           "bgcolor": "white",
           "lakecolor": "white",
           "landcolor": "#E5ECF6",
           "showlakes": true,
           "showland": true,
           "subunitcolor": "white"
          },
          "hoverlabel": {
           "align": "left"
          },
          "hovermode": "closest",
          "mapbox": {
           "style": "light"
          },
          "paper_bgcolor": "white",
          "plot_bgcolor": "#E5ECF6",
          "polar": {
           "angularaxis": {
            "gridcolor": "white",
            "linecolor": "white",
            "ticks": ""
           },
           "bgcolor": "#E5ECF6",
           "radialaxis": {
            "gridcolor": "white",
            "linecolor": "white",
            "ticks": ""
           }
          },
          "scene": {
           "xaxis": {
            "backgroundcolor": "#E5ECF6",
            "gridcolor": "white",
            "gridwidth": 2,
            "linecolor": "white",
            "showbackground": true,
            "ticks": "",
            "zerolinecolor": "white"
           },
           "yaxis": {
            "backgroundcolor": "#E5ECF6",
            "gridcolor": "white",
            "gridwidth": 2,
            "linecolor": "white",
            "showbackground": true,
            "ticks": "",
            "zerolinecolor": "white"
           },
           "zaxis": {
            "backgroundcolor": "#E5ECF6",
            "gridcolor": "white",
            "gridwidth": 2,
            "linecolor": "white",
            "showbackground": true,
            "ticks": "",
            "zerolinecolor": "white"
           }
          },
          "shapedefaults": {
           "line": {
            "color": "#2a3f5f"
           }
          },
          "ternary": {
           "aaxis": {
            "gridcolor": "white",
            "linecolor": "white",
            "ticks": ""
           },
           "baxis": {
            "gridcolor": "white",
            "linecolor": "white",
            "ticks": ""
           },
           "bgcolor": "#E5ECF6",
           "caxis": {
            "gridcolor": "white",
            "linecolor": "white",
            "ticks": ""
           }
          },
          "title": {
           "x": 0.05
          },
          "xaxis": {
           "automargin": true,
           "gridcolor": "white",
           "linecolor": "white",
           "ticks": "",
           "title": {
            "standoff": 15
           },
           "zerolinecolor": "white",
           "zerolinewidth": 2
          },
          "yaxis": {
           "automargin": true,
           "gridcolor": "white",
           "linecolor": "white",
           "ticks": "",
           "title": {
            "standoff": 15
           },
           "zerolinecolor": "white",
           "zerolinewidth": 2
          }
         }
        },
        "title": {
         "text": "Bid-Ask Size Spread of SDS as a Function of Time"
        },
        "xaxis": {
         "anchor": "y",
         "domain": [
          0,
          1
         ],
         "title": {
          "text": "Time of Day"
         }
        },
        "yaxis": {
         "anchor": "x",
         "domain": [
          0,
          1
         ],
         "title": {
          "text": "Bid-ask Spread Size($USD)"
         }
        }
       }
      },
      "text/html": [
       "<div>                            <div id=\"411be4a9-44ef-4930-abbf-fde1b7cd2cae\" class=\"plotly-graph-div\" style=\"height:525px; width:100%;\"></div>            <script type=\"text/javascript\">                require([\"plotly\"], function(Plotly) {                    window.PLOTLYENV=window.PLOTLYENV || {};                                    if (document.getElementById(\"411be4a9-44ef-4930-abbf-fde1b7cd2cae\")) {                    Plotly.newPlot(                        \"411be4a9-44ef-4930-abbf-fde1b7cd2cae\",                        [{\"hovertemplate\":\"timestamp=%{x}<br>y=%{y}<extra></extra>\",\"legendgroup\":\"\",\"line\":{\"color\":\"#636efa\",\"dash\":\"solid\"},\"marker\":{\"symbol\":\"circle\"},\"mode\":\"lines\",\"name\":\"\",\"orientation\":\"v\",\"showlegend\":false,\"x\":[\"2022-01-03T09:00:00.023193+00:00\",\"2022-01-03T09:00:00.023193+00:00\",\"2022-01-03T09:00:00.023345+00:00\",\"2022-01-03T09:00:00.023400+00:00\",\"2022-01-03T09:00:00.023525+00:00\",\"2022-01-03T09:00:00.030384+00:00\",\"2022-01-03T09:00:00.058738+00:00\",\"2022-01-03T09:00:00.058943+00:00\",\"2022-01-03T09:00:00.099899+00:00\",\"2022-01-03T09:00:00.112006+00:00\",\"2022-01-03T09:00:00.112160+00:00\",\"2022-01-03T09:00:00.424523+00:00\",\"2022-01-03T09:00:00.424523+00:00\",\"2022-01-03T09:00:00.424606+00:00\",\"2022-01-03T09:00:00.428079+00:00\",\"2022-01-03T09:00:02.909580+00:00\",\"2022-01-03T09:00:02.909654+00:00\",\"2022-01-03T09:00:02.909711+00:00\",\"2022-01-03T09:00:03.630482+00:00\",\"2022-01-03T09:00:03.630588+00:00\",\"2022-01-03T09:00:03.630621+00:00\",\"2022-01-03T09:00:03.630678+00:00\",\"2022-01-03T09:00:04.390097+00:00\",\"2022-01-03T09:00:04.622134+00:00\",\"2022-01-03T09:00:05.755881+00:00\",\"2022-01-03T09:00:06.535293+00:00\",\"2022-01-03T09:00:06.535347+00:00\",\"2022-01-03T09:00:06.535352+00:00\",\"2022-01-03T09:00:06.649401+00:00\",\"2022-01-03T09:00:06.649405+00:00\",\"2022-01-03T09:00:06.758974+00:00\",\"2022-01-03T09:00:07.013516+00:00\",\"2022-01-03T09:00:07.447245+00:00\",\"2022-01-03T09:00:07.447254+00:00\",\"2022-01-03T09:00:07.447257+00:00\",\"2022-01-03T09:00:07.447269+00:00\",\"2022-01-03T09:00:07.447296+00:00\",\"2022-01-03T09:00:07.447324+00:00\",\"2022-01-03T09:00:07.447602+00:00\",\"2022-01-03T09:00:07.447653+00:00\",\"2022-01-03T09:00:07.552594+00:00\",\"2022-01-03T09:00:07.552746+00:00\",\"2022-01-03T09:00:07.831560+00:00\",\"2022-01-03T09:00:07.891497+00:00\",\"2022-01-03T09:00:09.812096+00:00\",\"2022-01-03T09:00:15.299288+00:00\",\"2022-01-03T09:02:20.175743+00:00\",\"2022-01-03T09:02:20.175750+00:00\",\"2022-01-03T09:02:20.192489+00:00\",\"2022-01-03T09:02:20.199462+00:00\"],\"xaxis\":\"x\",\"y\":[-1,0,38,38,80,265,263,418,151,109,0,253,0,267,0,0,169,0,169,42,169,211,211,42,464,633,633,464,295,464,464,731,253,900,731,-520,773,773,-56,-478,-253,-422,-380,-464,-466,-44,-380,-213,-267,-98],\"yaxis\":\"y\",\"type\":\"scatter\"}],                        {\"template\":{\"data\":{\"histogram2dcontour\":[{\"type\":\"histogram2dcontour\",\"colorbar\":{\"outlinewidth\":0,\"ticks\":\"\"},\"colorscale\":[[0.0,\"#0d0887\"],[0.1111111111111111,\"#46039f\"],[0.2222222222222222,\"#7201a8\"],[0.3333333333333333,\"#9c179e\"],[0.4444444444444444,\"#bd3786\"],[0.5555555555555556,\"#d8576b\"],[0.6666666666666666,\"#ed7953\"],[0.7777777777777778,\"#fb9f3a\"],[0.8888888888888888,\"#fdca26\"],[1.0,\"#f0f921\"]]}],\"choropleth\":[{\"type\":\"choropleth\",\"colorbar\":{\"outlinewidth\":0,\"ticks\":\"\"}}],\"histogram2d\":[{\"type\":\"histogram2d\",\"colorbar\":{\"outlinewidth\":0,\"ticks\":\"\"},\"colorscale\":[[0.0,\"#0d0887\"],[0.1111111111111111,\"#46039f\"],[0.2222222222222222,\"#7201a8\"],[0.3333333333333333,\"#9c179e\"],[0.4444444444444444,\"#bd3786\"],[0.5555555555555556,\"#d8576b\"],[0.6666666666666666,\"#ed7953\"],[0.7777777777777778,\"#fb9f3a\"],[0.8888888888888888,\"#fdca26\"],[1.0,\"#f0f921\"]]}],\"heatmap\":[{\"type\":\"heatmap\",\"colorbar\":{\"outlinewidth\":0,\"ticks\":\"\"},\"colorscale\":[[0.0,\"#0d0887\"],[0.1111111111111111,\"#46039f\"],[0.2222222222222222,\"#7201a8\"],[0.3333333333333333,\"#9c179e\"],[0.4444444444444444,\"#bd3786\"],[0.5555555555555556,\"#d8576b\"],[0.6666666666666666,\"#ed7953\"],[0.7777777777777778,\"#fb9f3a\"],[0.8888888888888888,\"#fdca26\"],[1.0,\"#f0f921\"]]}],\"heatmapgl\":[{\"type\":\"heatmapgl\",\"colorbar\":{\"outlinewidth\":0,\"ticks\":\"\"},\"colorscale\":[[0.0,\"#0d0887\"],[0.1111111111111111,\"#46039f\"],[0.2222222222222222,\"#7201a8\"],[0.3333333333333333,\"#9c179e\"],[0.4444444444444444,\"#bd3786\"],[0.5555555555555556,\"#d8576b\"],[0.6666666666666666,\"#ed7953\"],[0.7777777777777778,\"#fb9f3a\"],[0.8888888888888888,\"#fdca26\"],[1.0,\"#f0f921\"]]}],\"contourcarpet\":[{\"type\":\"contourcarpet\",\"colorbar\":{\"outlinewidth\":0,\"ticks\":\"\"}}],\"contour\":[{\"type\":\"contour\",\"colorbar\":{\"outlinewidth\":0,\"ticks\":\"\"},\"colorscale\":[[0.0,\"#0d0887\"],[0.1111111111111111,\"#46039f\"],[0.2222222222222222,\"#7201a8\"],[0.3333333333333333,\"#9c179e\"],[0.4444444444444444,\"#bd3786\"],[0.5555555555555556,\"#d8576b\"],[0.6666666666666666,\"#ed7953\"],[0.7777777777777778,\"#fb9f3a\"],[0.8888888888888888,\"#fdca26\"],[1.0,\"#f0f921\"]]}],\"surface\":[{\"type\":\"surface\",\"colorbar\":{\"outlinewidth\":0,\"ticks\":\"\"},\"colorscale\":[[0.0,\"#0d0887\"],[0.1111111111111111,\"#46039f\"],[0.2222222222222222,\"#7201a8\"],[0.3333333333333333,\"#9c179e\"],[0.4444444444444444,\"#bd3786\"],[0.5555555555555556,\"#d8576b\"],[0.6666666666666666,\"#ed7953\"],[0.7777777777777778,\"#fb9f3a\"],[0.8888888888888888,\"#fdca26\"],[1.0,\"#f0f921\"]]}],\"mesh3d\":[{\"type\":\"mesh3d\",\"colorbar\":{\"outlinewidth\":0,\"ticks\":\"\"}}],\"scatter\":[{\"fillpattern\":{\"fillmode\":\"overlay\",\"size\":10,\"solidity\":0.2},\"type\":\"scatter\"}],\"parcoords\":[{\"type\":\"parcoords\",\"line\":{\"colorbar\":{\"outlinewidth\":0,\"ticks\":\"\"}}}],\"scatterpolargl\":[{\"type\":\"scatterpolargl\",\"marker\":{\"colorbar\":{\"outlinewidth\":0,\"ticks\":\"\"}}}],\"bar\":[{\"error_x\":{\"color\":\"#2a3f5f\"},\"error_y\":{\"color\":\"#2a3f5f\"},\"marker\":{\"line\":{\"color\":\"#E5ECF6\",\"width\":0.5},\"pattern\":{\"fillmode\":\"overlay\",\"size\":10,\"solidity\":0.2}},\"type\":\"bar\"}],\"scattergeo\":[{\"type\":\"scattergeo\",\"marker\":{\"colorbar\":{\"outlinewidth\":0,\"ticks\":\"\"}}}],\"scatterpolar\":[{\"type\":\"scatterpolar\",\"marker\":{\"colorbar\":{\"outlinewidth\":0,\"ticks\":\"\"}}}],\"histogram\":[{\"marker\":{\"pattern\":{\"fillmode\":\"overlay\",\"size\":10,\"solidity\":0.2}},\"type\":\"histogram\"}],\"scattergl\":[{\"type\":\"scattergl\",\"marker\":{\"colorbar\":{\"outlinewidth\":0,\"ticks\":\"\"}}}],\"scatter3d\":[{\"type\":\"scatter3d\",\"line\":{\"colorbar\":{\"outlinewidth\":0,\"ticks\":\"\"}},\"marker\":{\"colorbar\":{\"outlinewidth\":0,\"ticks\":\"\"}}}],\"scattermapbox\":[{\"type\":\"scattermapbox\",\"marker\":{\"colorbar\":{\"outlinewidth\":0,\"ticks\":\"\"}}}],\"scatterternary\":[{\"type\":\"scatterternary\",\"marker\":{\"colorbar\":{\"outlinewidth\":0,\"ticks\":\"\"}}}],\"scattercarpet\":[{\"type\":\"scattercarpet\",\"marker\":{\"colorbar\":{\"outlinewidth\":0,\"ticks\":\"\"}}}],\"carpet\":[{\"aaxis\":{\"endlinecolor\":\"#2a3f5f\",\"gridcolor\":\"white\",\"linecolor\":\"white\",\"minorgridcolor\":\"white\",\"startlinecolor\":\"#2a3f5f\"},\"baxis\":{\"endlinecolor\":\"#2a3f5f\",\"gridcolor\":\"white\",\"linecolor\":\"white\",\"minorgridcolor\":\"white\",\"startlinecolor\":\"#2a3f5f\"},\"type\":\"carpet\"}],\"table\":[{\"cells\":{\"fill\":{\"color\":\"#EBF0F8\"},\"line\":{\"color\":\"white\"}},\"header\":{\"fill\":{\"color\":\"#C8D4E3\"},\"line\":{\"color\":\"white\"}},\"type\":\"table\"}],\"barpolar\":[{\"marker\":{\"line\":{\"color\":\"#E5ECF6\",\"width\":0.5},\"pattern\":{\"fillmode\":\"overlay\",\"size\":10,\"solidity\":0.2}},\"type\":\"barpolar\"}],\"pie\":[{\"automargin\":true,\"type\":\"pie\"}]},\"layout\":{\"autotypenumbers\":\"strict\",\"colorway\":[\"#636efa\",\"#EF553B\",\"#00cc96\",\"#ab63fa\",\"#FFA15A\",\"#19d3f3\",\"#FF6692\",\"#B6E880\",\"#FF97FF\",\"#FECB52\"],\"font\":{\"color\":\"#2a3f5f\"},\"hovermode\":\"closest\",\"hoverlabel\":{\"align\":\"left\"},\"paper_bgcolor\":\"white\",\"plot_bgcolor\":\"#E5ECF6\",\"polar\":{\"bgcolor\":\"#E5ECF6\",\"angularaxis\":{\"gridcolor\":\"white\",\"linecolor\":\"white\",\"ticks\":\"\"},\"radialaxis\":{\"gridcolor\":\"white\",\"linecolor\":\"white\",\"ticks\":\"\"}},\"ternary\":{\"bgcolor\":\"#E5ECF6\",\"aaxis\":{\"gridcolor\":\"white\",\"linecolor\":\"white\",\"ticks\":\"\"},\"baxis\":{\"gridcolor\":\"white\",\"linecolor\":\"white\",\"ticks\":\"\"},\"caxis\":{\"gridcolor\":\"white\",\"linecolor\":\"white\",\"ticks\":\"\"}},\"coloraxis\":{\"colorbar\":{\"outlinewidth\":0,\"ticks\":\"\"}},\"colorscale\":{\"sequential\":[[0.0,\"#0d0887\"],[0.1111111111111111,\"#46039f\"],[0.2222222222222222,\"#7201a8\"],[0.3333333333333333,\"#9c179e\"],[0.4444444444444444,\"#bd3786\"],[0.5555555555555556,\"#d8576b\"],[0.6666666666666666,\"#ed7953\"],[0.7777777777777778,\"#fb9f3a\"],[0.8888888888888888,\"#fdca26\"],[1.0,\"#f0f921\"]],\"sequentialminus\":[[0.0,\"#0d0887\"],[0.1111111111111111,\"#46039f\"],[0.2222222222222222,\"#7201a8\"],[0.3333333333333333,\"#9c179e\"],[0.4444444444444444,\"#bd3786\"],[0.5555555555555556,\"#d8576b\"],[0.6666666666666666,\"#ed7953\"],[0.7777777777777778,\"#fb9f3a\"],[0.8888888888888888,\"#fdca26\"],[1.0,\"#f0f921\"]],\"diverging\":[[0,\"#8e0152\"],[0.1,\"#c51b7d\"],[0.2,\"#de77ae\"],[0.3,\"#f1b6da\"],[0.4,\"#fde0ef\"],[0.5,\"#f7f7f7\"],[0.6,\"#e6f5d0\"],[0.7,\"#b8e186\"],[0.8,\"#7fbc41\"],[0.9,\"#4d9221\"],[1,\"#276419\"]]},\"xaxis\":{\"gridcolor\":\"white\",\"linecolor\":\"white\",\"ticks\":\"\",\"title\":{\"standoff\":15},\"zerolinecolor\":\"white\",\"automargin\":true,\"zerolinewidth\":2},\"yaxis\":{\"gridcolor\":\"white\",\"linecolor\":\"white\",\"ticks\":\"\",\"title\":{\"standoff\":15},\"zerolinecolor\":\"white\",\"automargin\":true,\"zerolinewidth\":2},\"scene\":{\"xaxis\":{\"backgroundcolor\":\"#E5ECF6\",\"gridcolor\":\"white\",\"linecolor\":\"white\",\"showbackground\":true,\"ticks\":\"\",\"zerolinecolor\":\"white\",\"gridwidth\":2},\"yaxis\":{\"backgroundcolor\":\"#E5ECF6\",\"gridcolor\":\"white\",\"linecolor\":\"white\",\"showbackground\":true,\"ticks\":\"\",\"zerolinecolor\":\"white\",\"gridwidth\":2},\"zaxis\":{\"backgroundcolor\":\"#E5ECF6\",\"gridcolor\":\"white\",\"linecolor\":\"white\",\"showbackground\":true,\"ticks\":\"\",\"zerolinecolor\":\"white\",\"gridwidth\":2}},\"shapedefaults\":{\"line\":{\"color\":\"#2a3f5f\"}},\"annotationdefaults\":{\"arrowcolor\":\"#2a3f5f\",\"arrowhead\":0,\"arrowwidth\":1},\"geo\":{\"bgcolor\":\"white\",\"landcolor\":\"#E5ECF6\",\"subunitcolor\":\"white\",\"showland\":true,\"showlakes\":true,\"lakecolor\":\"white\"},\"title\":{\"x\":0.05},\"mapbox\":{\"style\":\"light\"}}},\"xaxis\":{\"anchor\":\"y\",\"domain\":[0.0,1.0],\"title\":{\"text\":\"Time of Day\"}},\"yaxis\":{\"anchor\":\"x\",\"domain\":[0.0,1.0],\"title\":{\"text\":\"Bid-ask Spread Size($USD)\"}},\"legend\":{\"tracegroupgap\":0},\"margin\":{\"t\":60},\"title\":{\"text\":\"Bid-Ask Size Spread of SDS as a Function of Time\"}},                        {\"responsive\": true}                    ).then(function(){\n",
       "                            \n",
       "var gd = document.getElementById('411be4a9-44ef-4930-abbf-fde1b7cd2cae');\n",
       "var x = new MutationObserver(function (mutations, observer) {{\n",
       "        var display = window.getComputedStyle(gd).display;\n",
       "        if (!display || display === 'none') {{\n",
       "            console.log([gd, 'removed!']);\n",
       "            Plotly.purge(gd);\n",
       "            observer.disconnect();\n",
       "        }}\n",
       "}});\n",
       "\n",
       "// Listen for the removal of the full notebook cells\n",
       "var notebookContainer = gd.closest('#notebook-container');\n",
       "if (notebookContainer) {{\n",
       "    x.observe(notebookContainer, {childList: true});\n",
       "}}\n",
       "\n",
       "// Listen for the clearing of the current output cell\n",
       "var outputEl = gd.closest('.output');\n",
       "if (outputEl) {{\n",
       "    x.observe(outputEl, {childList: true});\n",
       "}}\n",
       "\n",
       "                        })                };                });            </script>        </div>"
      ]
     },
     "metadata": {},
     "output_type": "display_data"
    }
   ],
   "source": [
    "#Bid Ask Spread Analysis\n",
    "#Quote Analysis\n",
    "#Reference Alpaca API and Create General Bid Ask Chart Structures\n",
    "#Uses plotly express for a quick plot, x axis needs debugging\n",
    "from dotenv import load_dotenv\n",
    "import plotly.graph_objects as go\n",
    "import plotly.express as px\n",
    "import mplcyberpunk\n",
    "import matplotlib as plt\n",
    "import alpaca_trade_api as api\n",
    "import os\n",
    "%matplotlib nbagg\n",
    "\n",
    "plt.style.use('cyberpunk')\n",
    "\n",
    "ALPACA_KEY_ID, ALPACA_SECRETS_KEY = \"\",\"\"\n",
    "\n",
    "def set_vars(secrets_file='a.env'):\n",
    "    global ALPACA_KEY_ID, ALPACA_SECRETS_KEY\n",
    "    with open(f\"{secrets_file}\", 'r') as file:\n",
    "        contents = file.read()\n",
    "        env_vars = contents.replace('export ', '').split(\"\\n\")\n",
    "        ALPACA_KEY_ID = env_vars[0].split(\"=\")[1]\n",
    "        ALPACA_SECRETS_KEY = env_vars[1].split(\"=\")[1]\n",
    "set_vars()\n",
    "alpaca = api.REST(ALPACA_KEY_ID, ALPACA_SECRETS_KEY)\n",
    "# Setting parameters before calling method\n",
    "\n",
    "\n",
    "\n",
    "# Setting parameters for method call\n",
    "symbol = \"SDS\"\n",
    "start = \"2022-01-01T14:30:00Z\"\n",
    "end = \"2023-04-24T21:00:00Z\"\n",
    "limit = 50\n",
    "# Get Shopify quotes in a dataframe and print the first 5 rows\n",
    "get_values = alpaca.get_quotes(symbol, start, end, limit).df\n",
    "quotes_spread = get_values[\"ask_size\"] - get_values[\"bid_size\"]\n",
    "spread_plot = px.line(get_values, x=get_values.index, y=quotes_spread)\n",
    "spread_plot.update_layout(\n",
    "    title=\"Bid-Ask Size Spread of \" + symbol + \" as a Function of Time\",\n",
    "    xaxis_title=\"Time of Day\",\n",
    "    yaxis_title=\"Bid-ask Spread Size($USD)\"\n",
    ")\n",
    "spread_plot.show()"
   ]
  },
  {
   "cell_type": "code",
   "execution_count": null,
   "id": "35d4c3f6",
   "metadata": {},
   "outputs": [],
   "source": [
    "#Get Bid Ask Sizes\n",
    "from dotenv import load_dotenv\n",
    "import matplotlib.pyplot as plt\n",
    "import mplcyberpunk\n",
    "import alpaca_trade_api as api\n",
    "import os\n",
    "\n",
    "plt.style.use('cyberpunk')\n",
    "\n",
    "# Set start and end dates as datetime objects\n",
    "start_date = pd.to_datetime(\"2022-01-01T14:30:00Z\", format=\"%Y-%m-%dT%H:%M:%SZ\")\n",
    "end_date = pd.to_datetime(\"2023-04-24T21:00:00Z\", format=\"%Y-%m-%dT%H:%M:%SZ\")\n",
    "\n",
    "# Convert datetime objects to string format\n",
    "start = start_date.strftime(\"%Y-%m-%dT%H:%M:%SZ\")\n",
    "end = end_date.strftime(\"%Y-%m-%dT%H:%M:%SZ\")\n",
    "\n",
    "#start = \"2022-01-01T14:30:00Z\"\n",
    "#end = \"2023-04-24T21:00:00Z\"\n",
    "\n",
    "ALPACA_KEY_ID, ALPACA_SECRETS_KEY = \"\",\"\"\n",
    "\n",
    "def set_vars(secrets_file='a.env'):\n",
    "    global ALPACA_KEY_ID, ALPACA_SECRETS_KEY\n",
    "    with open(f\"{secrets_file}\", 'r') as file:\n",
    "        contents = file.read()\n",
    "        env_vars = contents.replace('export ', '').split(\"\\n\")\n",
    "        ALPACA_KEY_ID = env_vars[0].split(\"=\")[1]\n",
    "        ALPACA_SECRETS_KEY = env_vars[1].split(\"=\")[1]\n",
    "\n",
    "def get_bidask_sizes(symbol, start, end, limit):\n",
    "    set_vars()\n",
    "    alpaca = api.REST(ALPACA_KEY_ID, ALPACA_SECRETS_KEY)\n",
    "    get_values = alpaca.get_quotes(symbol, start, end, limit).df\n",
    "    quotes_spread = get_values[\"ask_size\"] - get_values[\"bid_size\"]\n",
    "    plt.plot(get_values.index, quotes_spread)\n",
    "    plt.title(\"Bid-Ask Size Spread of \" + symbol + \" as a Function of Time\")\n",
    "    plt.xlabel(\"Time of Day\")\n",
    "    plt.ylabel(\"Bid-ask Spread Size($USD)\")\n",
    "    plt.show()\n",
    "\n",
    "\n",
    "get_bidask_sizes(\"SDS\", \"2023-02-01T14:30:00Z\", \"2023-04-24T21:00:00Z\", 40)\n",
    "print(type(start_date))"
   ]
  },
  {
   "cell_type": "code",
   "execution_count": 43,
   "id": "25a397c3",
   "metadata": {},
   "outputs": [
    {
     "data": {
      "application/javascript": [
       "/* Put everything inside the global mpl namespace */\n",
       "/* global mpl */\n",
       "window.mpl = {};\n",
       "\n",
       "mpl.get_websocket_type = function () {\n",
       "    if (typeof WebSocket !== 'undefined') {\n",
       "        return WebSocket;\n",
       "    } else if (typeof MozWebSocket !== 'undefined') {\n",
       "        return MozWebSocket;\n",
       "    } else {\n",
       "        alert(\n",
       "            'Your browser does not have WebSocket support. ' +\n",
       "                'Please try Chrome, Safari or Firefox ≥ 6. ' +\n",
       "                'Firefox 4 and 5 are also supported but you ' +\n",
       "                'have to enable WebSockets in about:config.'\n",
       "        );\n",
       "    }\n",
       "};\n",
       "\n",
       "mpl.figure = function (figure_id, websocket, ondownload, parent_element) {\n",
       "    this.id = figure_id;\n",
       "\n",
       "    this.ws = websocket;\n",
       "\n",
       "    this.supports_binary = this.ws.binaryType !== undefined;\n",
       "\n",
       "    if (!this.supports_binary) {\n",
       "        var warnings = document.getElementById('mpl-warnings');\n",
       "        if (warnings) {\n",
       "            warnings.style.display = 'block';\n",
       "            warnings.textContent =\n",
       "                'This browser does not support binary websocket messages. ' +\n",
       "                'Performance may be slow.';\n",
       "        }\n",
       "    }\n",
       "\n",
       "    this.imageObj = new Image();\n",
       "\n",
       "    this.context = undefined;\n",
       "    this.message = undefined;\n",
       "    this.canvas = undefined;\n",
       "    this.rubberband_canvas = undefined;\n",
       "    this.rubberband_context = undefined;\n",
       "    this.format_dropdown = undefined;\n",
       "\n",
       "    this.image_mode = 'full';\n",
       "\n",
       "    this.root = document.createElement('div');\n",
       "    this.root.setAttribute('style', 'display: inline-block');\n",
       "    this._root_extra_style(this.root);\n",
       "\n",
       "    parent_element.appendChild(this.root);\n",
       "\n",
       "    this._init_header(this);\n",
       "    this._init_canvas(this);\n",
       "    this._init_toolbar(this);\n",
       "\n",
       "    var fig = this;\n",
       "\n",
       "    this.waiting = false;\n",
       "\n",
       "    this.ws.onopen = function () {\n",
       "        fig.send_message('supports_binary', { value: fig.supports_binary });\n",
       "        fig.send_message('send_image_mode', {});\n",
       "        if (fig.ratio !== 1) {\n",
       "            fig.send_message('set_device_pixel_ratio', {\n",
       "                device_pixel_ratio: fig.ratio,\n",
       "            });\n",
       "        }\n",
       "        fig.send_message('refresh', {});\n",
       "    };\n",
       "\n",
       "    this.imageObj.onload = function () {\n",
       "        if (fig.image_mode === 'full') {\n",
       "            // Full images could contain transparency (where diff images\n",
       "            // almost always do), so we need to clear the canvas so that\n",
       "            // there is no ghosting.\n",
       "            fig.context.clearRect(0, 0, fig.canvas.width, fig.canvas.height);\n",
       "        }\n",
       "        fig.context.drawImage(fig.imageObj, 0, 0);\n",
       "    };\n",
       "\n",
       "    this.imageObj.onunload = function () {\n",
       "        fig.ws.close();\n",
       "    };\n",
       "\n",
       "    this.ws.onmessage = this._make_on_message_function(this);\n",
       "\n",
       "    this.ondownload = ondownload;\n",
       "};\n",
       "\n",
       "mpl.figure.prototype._init_header = function () {\n",
       "    var titlebar = document.createElement('div');\n",
       "    titlebar.classList =\n",
       "        'ui-dialog-titlebar ui-widget-header ui-corner-all ui-helper-clearfix';\n",
       "    var titletext = document.createElement('div');\n",
       "    titletext.classList = 'ui-dialog-title';\n",
       "    titletext.setAttribute(\n",
       "        'style',\n",
       "        'width: 100%; text-align: center; padding: 3px;'\n",
       "    );\n",
       "    titlebar.appendChild(titletext);\n",
       "    this.root.appendChild(titlebar);\n",
       "    this.header = titletext;\n",
       "};\n",
       "\n",
       "mpl.figure.prototype._canvas_extra_style = function (_canvas_div) {};\n",
       "\n",
       "mpl.figure.prototype._root_extra_style = function (_canvas_div) {};\n",
       "\n",
       "mpl.figure.prototype._init_canvas = function () {\n",
       "    var fig = this;\n",
       "\n",
       "    var canvas_div = (this.canvas_div = document.createElement('div'));\n",
       "    canvas_div.setAttribute('tabindex', '0');\n",
       "    canvas_div.setAttribute(\n",
       "        'style',\n",
       "        'border: 1px solid #ddd;' +\n",
       "            'box-sizing: content-box;' +\n",
       "            'clear: both;' +\n",
       "            'min-height: 1px;' +\n",
       "            'min-width: 1px;' +\n",
       "            'outline: 0;' +\n",
       "            'overflow: hidden;' +\n",
       "            'position: relative;' +\n",
       "            'resize: both;' +\n",
       "            'z-index: 2;'\n",
       "    );\n",
       "\n",
       "    function on_keyboard_event_closure(name) {\n",
       "        return function (event) {\n",
       "            return fig.key_event(event, name);\n",
       "        };\n",
       "    }\n",
       "\n",
       "    canvas_div.addEventListener(\n",
       "        'keydown',\n",
       "        on_keyboard_event_closure('key_press')\n",
       "    );\n",
       "    canvas_div.addEventListener(\n",
       "        'keyup',\n",
       "        on_keyboard_event_closure('key_release')\n",
       "    );\n",
       "\n",
       "    this._canvas_extra_style(canvas_div);\n",
       "    this.root.appendChild(canvas_div);\n",
       "\n",
       "    var canvas = (this.canvas = document.createElement('canvas'));\n",
       "    canvas.classList.add('mpl-canvas');\n",
       "    canvas.setAttribute(\n",
       "        'style',\n",
       "        'box-sizing: content-box;' +\n",
       "            'pointer-events: none;' +\n",
       "            'position: relative;' +\n",
       "            'z-index: 0;'\n",
       "    );\n",
       "\n",
       "    this.context = canvas.getContext('2d');\n",
       "\n",
       "    var backingStore =\n",
       "        this.context.backingStorePixelRatio ||\n",
       "        this.context.webkitBackingStorePixelRatio ||\n",
       "        this.context.mozBackingStorePixelRatio ||\n",
       "        this.context.msBackingStorePixelRatio ||\n",
       "        this.context.oBackingStorePixelRatio ||\n",
       "        this.context.backingStorePixelRatio ||\n",
       "        1;\n",
       "\n",
       "    this.ratio = (window.devicePixelRatio || 1) / backingStore;\n",
       "\n",
       "    var rubberband_canvas = (this.rubberband_canvas = document.createElement(\n",
       "        'canvas'\n",
       "    ));\n",
       "    rubberband_canvas.setAttribute(\n",
       "        'style',\n",
       "        'box-sizing: content-box;' +\n",
       "            'left: 0;' +\n",
       "            'pointer-events: none;' +\n",
       "            'position: absolute;' +\n",
       "            'top: 0;' +\n",
       "            'z-index: 1;'\n",
       "    );\n",
       "\n",
       "    // Apply a ponyfill if ResizeObserver is not implemented by browser.\n",
       "    if (this.ResizeObserver === undefined) {\n",
       "        if (window.ResizeObserver !== undefined) {\n",
       "            this.ResizeObserver = window.ResizeObserver;\n",
       "        } else {\n",
       "            var obs = _JSXTOOLS_RESIZE_OBSERVER({});\n",
       "            this.ResizeObserver = obs.ResizeObserver;\n",
       "        }\n",
       "    }\n",
       "\n",
       "    this.resizeObserverInstance = new this.ResizeObserver(function (entries) {\n",
       "        var nentries = entries.length;\n",
       "        for (var i = 0; i < nentries; i++) {\n",
       "            var entry = entries[i];\n",
       "            var width, height;\n",
       "            if (entry.contentBoxSize) {\n",
       "                if (entry.contentBoxSize instanceof Array) {\n",
       "                    // Chrome 84 implements new version of spec.\n",
       "                    width = entry.contentBoxSize[0].inlineSize;\n",
       "                    height = entry.contentBoxSize[0].blockSize;\n",
       "                } else {\n",
       "                    // Firefox implements old version of spec.\n",
       "                    width = entry.contentBoxSize.inlineSize;\n",
       "                    height = entry.contentBoxSize.blockSize;\n",
       "                }\n",
       "            } else {\n",
       "                // Chrome <84 implements even older version of spec.\n",
       "                width = entry.contentRect.width;\n",
       "                height = entry.contentRect.height;\n",
       "            }\n",
       "\n",
       "            // Keep the size of the canvas and rubber band canvas in sync with\n",
       "            // the canvas container.\n",
       "            if (entry.devicePixelContentBoxSize) {\n",
       "                // Chrome 84 implements new version of spec.\n",
       "                canvas.setAttribute(\n",
       "                    'width',\n",
       "                    entry.devicePixelContentBoxSize[0].inlineSize\n",
       "                );\n",
       "                canvas.setAttribute(\n",
       "                    'height',\n",
       "                    entry.devicePixelContentBoxSize[0].blockSize\n",
       "                );\n",
       "            } else {\n",
       "                canvas.setAttribute('width', width * fig.ratio);\n",
       "                canvas.setAttribute('height', height * fig.ratio);\n",
       "            }\n",
       "            /* This rescales the canvas back to display pixels, so that it\n",
       "             * appears correct on HiDPI screens. */\n",
       "            canvas.style.width = width + 'px';\n",
       "            canvas.style.height = height + 'px';\n",
       "\n",
       "            rubberband_canvas.setAttribute('width', width);\n",
       "            rubberband_canvas.setAttribute('height', height);\n",
       "\n",
       "            // And update the size in Python. We ignore the initial 0/0 size\n",
       "            // that occurs as the element is placed into the DOM, which should\n",
       "            // otherwise not happen due to the minimum size styling.\n",
       "            if (fig.ws.readyState == 1 && width != 0 && height != 0) {\n",
       "                fig.request_resize(width, height);\n",
       "            }\n",
       "        }\n",
       "    });\n",
       "    this.resizeObserverInstance.observe(canvas_div);\n",
       "\n",
       "    function on_mouse_event_closure(name) {\n",
       "        /* User Agent sniffing is bad, but WebKit is busted:\n",
       "         * https://bugs.webkit.org/show_bug.cgi?id=144526\n",
       "         * https://bugs.webkit.org/show_bug.cgi?id=181818\n",
       "         * The worst that happens here is that they get an extra browser\n",
       "         * selection when dragging, if this check fails to catch them.\n",
       "         */\n",
       "        var UA = navigator.userAgent;\n",
       "        var isWebKit = /AppleWebKit/.test(UA) && !/Chrome/.test(UA);\n",
       "        if(isWebKit) {\n",
       "            return function (event) {\n",
       "                /* This prevents the web browser from automatically changing to\n",
       "                 * the text insertion cursor when the button is pressed. We\n",
       "                 * want to control all of the cursor setting manually through\n",
       "                 * the 'cursor' event from matplotlib */\n",
       "                event.preventDefault()\n",
       "                return fig.mouse_event(event, name);\n",
       "            };\n",
       "        } else {\n",
       "            return function (event) {\n",
       "                return fig.mouse_event(event, name);\n",
       "            };\n",
       "        }\n",
       "    }\n",
       "\n",
       "    canvas_div.addEventListener(\n",
       "        'mousedown',\n",
       "        on_mouse_event_closure('button_press')\n",
       "    );\n",
       "    canvas_div.addEventListener(\n",
       "        'mouseup',\n",
       "        on_mouse_event_closure('button_release')\n",
       "    );\n",
       "    canvas_div.addEventListener(\n",
       "        'dblclick',\n",
       "        on_mouse_event_closure('dblclick')\n",
       "    );\n",
       "    // Throttle sequential mouse events to 1 every 20ms.\n",
       "    canvas_div.addEventListener(\n",
       "        'mousemove',\n",
       "        on_mouse_event_closure('motion_notify')\n",
       "    );\n",
       "\n",
       "    canvas_div.addEventListener(\n",
       "        'mouseenter',\n",
       "        on_mouse_event_closure('figure_enter')\n",
       "    );\n",
       "    canvas_div.addEventListener(\n",
       "        'mouseleave',\n",
       "        on_mouse_event_closure('figure_leave')\n",
       "    );\n",
       "\n",
       "    canvas_div.addEventListener('wheel', function (event) {\n",
       "        if (event.deltaY < 0) {\n",
       "            event.step = 1;\n",
       "        } else {\n",
       "            event.step = -1;\n",
       "        }\n",
       "        on_mouse_event_closure('scroll')(event);\n",
       "    });\n",
       "\n",
       "    canvas_div.appendChild(canvas);\n",
       "    canvas_div.appendChild(rubberband_canvas);\n",
       "\n",
       "    this.rubberband_context = rubberband_canvas.getContext('2d');\n",
       "    this.rubberband_context.strokeStyle = '#000000';\n",
       "\n",
       "    this._resize_canvas = function (width, height, forward) {\n",
       "        if (forward) {\n",
       "            canvas_div.style.width = width + 'px';\n",
       "            canvas_div.style.height = height + 'px';\n",
       "        }\n",
       "    };\n",
       "\n",
       "    // Disable right mouse context menu.\n",
       "    canvas_div.addEventListener('contextmenu', function (_e) {\n",
       "        event.preventDefault();\n",
       "        return false;\n",
       "    });\n",
       "\n",
       "    function set_focus() {\n",
       "        canvas.focus();\n",
       "        canvas_div.focus();\n",
       "    }\n",
       "\n",
       "    window.setTimeout(set_focus, 100);\n",
       "};\n",
       "\n",
       "mpl.figure.prototype._init_toolbar = function () {\n",
       "    var fig = this;\n",
       "\n",
       "    var toolbar = document.createElement('div');\n",
       "    toolbar.classList = 'mpl-toolbar';\n",
       "    this.root.appendChild(toolbar);\n",
       "\n",
       "    function on_click_closure(name) {\n",
       "        return function (_event) {\n",
       "            return fig.toolbar_button_onclick(name);\n",
       "        };\n",
       "    }\n",
       "\n",
       "    function on_mouseover_closure(tooltip) {\n",
       "        return function (event) {\n",
       "            if (!event.currentTarget.disabled) {\n",
       "                return fig.toolbar_button_onmouseover(tooltip);\n",
       "            }\n",
       "        };\n",
       "    }\n",
       "\n",
       "    fig.buttons = {};\n",
       "    var buttonGroup = document.createElement('div');\n",
       "    buttonGroup.classList = 'mpl-button-group';\n",
       "    for (var toolbar_ind in mpl.toolbar_items) {\n",
       "        var name = mpl.toolbar_items[toolbar_ind][0];\n",
       "        var tooltip = mpl.toolbar_items[toolbar_ind][1];\n",
       "        var image = mpl.toolbar_items[toolbar_ind][2];\n",
       "        var method_name = mpl.toolbar_items[toolbar_ind][3];\n",
       "\n",
       "        if (!name) {\n",
       "            /* Instead of a spacer, we start a new button group. */\n",
       "            if (buttonGroup.hasChildNodes()) {\n",
       "                toolbar.appendChild(buttonGroup);\n",
       "            }\n",
       "            buttonGroup = document.createElement('div');\n",
       "            buttonGroup.classList = 'mpl-button-group';\n",
       "            continue;\n",
       "        }\n",
       "\n",
       "        var button = (fig.buttons[name] = document.createElement('button'));\n",
       "        button.classList = 'mpl-widget';\n",
       "        button.setAttribute('role', 'button');\n",
       "        button.setAttribute('aria-disabled', 'false');\n",
       "        button.addEventListener('click', on_click_closure(method_name));\n",
       "        button.addEventListener('mouseover', on_mouseover_closure(tooltip));\n",
       "\n",
       "        var icon_img = document.createElement('img');\n",
       "        icon_img.src = '_images/' + image + '.png';\n",
       "        icon_img.srcset = '_images/' + image + '_large.png 2x';\n",
       "        icon_img.alt = tooltip;\n",
       "        button.appendChild(icon_img);\n",
       "\n",
       "        buttonGroup.appendChild(button);\n",
       "    }\n",
       "\n",
       "    if (buttonGroup.hasChildNodes()) {\n",
       "        toolbar.appendChild(buttonGroup);\n",
       "    }\n",
       "\n",
       "    var fmt_picker = document.createElement('select');\n",
       "    fmt_picker.classList = 'mpl-widget';\n",
       "    toolbar.appendChild(fmt_picker);\n",
       "    this.format_dropdown = fmt_picker;\n",
       "\n",
       "    for (var ind in mpl.extensions) {\n",
       "        var fmt = mpl.extensions[ind];\n",
       "        var option = document.createElement('option');\n",
       "        option.selected = fmt === mpl.default_extension;\n",
       "        option.innerHTML = fmt;\n",
       "        fmt_picker.appendChild(option);\n",
       "    }\n",
       "\n",
       "    var status_bar = document.createElement('span');\n",
       "    status_bar.classList = 'mpl-message';\n",
       "    toolbar.appendChild(status_bar);\n",
       "    this.message = status_bar;\n",
       "};\n",
       "\n",
       "mpl.figure.prototype.request_resize = function (x_pixels, y_pixels) {\n",
       "    // Request matplotlib to resize the figure. Matplotlib will then trigger a resize in the client,\n",
       "    // which will in turn request a refresh of the image.\n",
       "    this.send_message('resize', { width: x_pixels, height: y_pixels });\n",
       "};\n",
       "\n",
       "mpl.figure.prototype.send_message = function (type, properties) {\n",
       "    properties['type'] = type;\n",
       "    properties['figure_id'] = this.id;\n",
       "    this.ws.send(JSON.stringify(properties));\n",
       "};\n",
       "\n",
       "mpl.figure.prototype.send_draw_message = function () {\n",
       "    if (!this.waiting) {\n",
       "        this.waiting = true;\n",
       "        this.ws.send(JSON.stringify({ type: 'draw', figure_id: this.id }));\n",
       "    }\n",
       "};\n",
       "\n",
       "mpl.figure.prototype.handle_save = function (fig, _msg) {\n",
       "    var format_dropdown = fig.format_dropdown;\n",
       "    var format = format_dropdown.options[format_dropdown.selectedIndex].value;\n",
       "    fig.ondownload(fig, format);\n",
       "};\n",
       "\n",
       "mpl.figure.prototype.handle_resize = function (fig, msg) {\n",
       "    var size = msg['size'];\n",
       "    if (size[0] !== fig.canvas.width || size[1] !== fig.canvas.height) {\n",
       "        fig._resize_canvas(size[0], size[1], msg['forward']);\n",
       "        fig.send_message('refresh', {});\n",
       "    }\n",
       "};\n",
       "\n",
       "mpl.figure.prototype.handle_rubberband = function (fig, msg) {\n",
       "    var x0 = msg['x0'] / fig.ratio;\n",
       "    var y0 = (fig.canvas.height - msg['y0']) / fig.ratio;\n",
       "    var x1 = msg['x1'] / fig.ratio;\n",
       "    var y1 = (fig.canvas.height - msg['y1']) / fig.ratio;\n",
       "    x0 = Math.floor(x0) + 0.5;\n",
       "    y0 = Math.floor(y0) + 0.5;\n",
       "    x1 = Math.floor(x1) + 0.5;\n",
       "    y1 = Math.floor(y1) + 0.5;\n",
       "    var min_x = Math.min(x0, x1);\n",
       "    var min_y = Math.min(y0, y1);\n",
       "    var width = Math.abs(x1 - x0);\n",
       "    var height = Math.abs(y1 - y0);\n",
       "\n",
       "    fig.rubberband_context.clearRect(\n",
       "        0,\n",
       "        0,\n",
       "        fig.canvas.width / fig.ratio,\n",
       "        fig.canvas.height / fig.ratio\n",
       "    );\n",
       "\n",
       "    fig.rubberband_context.strokeRect(min_x, min_y, width, height);\n",
       "};\n",
       "\n",
       "mpl.figure.prototype.handle_figure_label = function (fig, msg) {\n",
       "    // Updates the figure title.\n",
       "    fig.header.textContent = msg['label'];\n",
       "};\n",
       "\n",
       "mpl.figure.prototype.handle_cursor = function (fig, msg) {\n",
       "    fig.canvas_div.style.cursor = msg['cursor'];\n",
       "};\n",
       "\n",
       "mpl.figure.prototype.handle_message = function (fig, msg) {\n",
       "    fig.message.textContent = msg['message'];\n",
       "};\n",
       "\n",
       "mpl.figure.prototype.handle_draw = function (fig, _msg) {\n",
       "    // Request the server to send over a new figure.\n",
       "    fig.send_draw_message();\n",
       "};\n",
       "\n",
       "mpl.figure.prototype.handle_image_mode = function (fig, msg) {\n",
       "    fig.image_mode = msg['mode'];\n",
       "};\n",
       "\n",
       "mpl.figure.prototype.handle_history_buttons = function (fig, msg) {\n",
       "    for (var key in msg) {\n",
       "        if (!(key in fig.buttons)) {\n",
       "            continue;\n",
       "        }\n",
       "        fig.buttons[key].disabled = !msg[key];\n",
       "        fig.buttons[key].setAttribute('aria-disabled', !msg[key]);\n",
       "    }\n",
       "};\n",
       "\n",
       "mpl.figure.prototype.handle_navigate_mode = function (fig, msg) {\n",
       "    if (msg['mode'] === 'PAN') {\n",
       "        fig.buttons['Pan'].classList.add('active');\n",
       "        fig.buttons['Zoom'].classList.remove('active');\n",
       "    } else if (msg['mode'] === 'ZOOM') {\n",
       "        fig.buttons['Pan'].classList.remove('active');\n",
       "        fig.buttons['Zoom'].classList.add('active');\n",
       "    } else {\n",
       "        fig.buttons['Pan'].classList.remove('active');\n",
       "        fig.buttons['Zoom'].classList.remove('active');\n",
       "    }\n",
       "};\n",
       "\n",
       "mpl.figure.prototype.updated_canvas_event = function () {\n",
       "    // Called whenever the canvas gets updated.\n",
       "    this.send_message('ack', {});\n",
       "};\n",
       "\n",
       "// A function to construct a web socket function for onmessage handling.\n",
       "// Called in the figure constructor.\n",
       "mpl.figure.prototype._make_on_message_function = function (fig) {\n",
       "    return function socket_on_message(evt) {\n",
       "        if (evt.data instanceof Blob) {\n",
       "            var img = evt.data;\n",
       "            if (img.type !== 'image/png') {\n",
       "                /* FIXME: We get \"Resource interpreted as Image but\n",
       "                 * transferred with MIME type text/plain:\" errors on\n",
       "                 * Chrome.  But how to set the MIME type?  It doesn't seem\n",
       "                 * to be part of the websocket stream */\n",
       "                img.type = 'image/png';\n",
       "            }\n",
       "\n",
       "            /* Free the memory for the previous frames */\n",
       "            if (fig.imageObj.src) {\n",
       "                (window.URL || window.webkitURL).revokeObjectURL(\n",
       "                    fig.imageObj.src\n",
       "                );\n",
       "            }\n",
       "\n",
       "            fig.imageObj.src = (window.URL || window.webkitURL).createObjectURL(\n",
       "                img\n",
       "            );\n",
       "            fig.updated_canvas_event();\n",
       "            fig.waiting = false;\n",
       "            return;\n",
       "        } else if (\n",
       "            typeof evt.data === 'string' &&\n",
       "            evt.data.slice(0, 21) === 'data:image/png;base64'\n",
       "        ) {\n",
       "            fig.imageObj.src = evt.data;\n",
       "            fig.updated_canvas_event();\n",
       "            fig.waiting = false;\n",
       "            return;\n",
       "        }\n",
       "\n",
       "        var msg = JSON.parse(evt.data);\n",
       "        var msg_type = msg['type'];\n",
       "\n",
       "        // Call the  \"handle_{type}\" callback, which takes\n",
       "        // the figure and JSON message as its only arguments.\n",
       "        try {\n",
       "            var callback = fig['handle_' + msg_type];\n",
       "        } catch (e) {\n",
       "            console.log(\n",
       "                \"No handler for the '\" + msg_type + \"' message type: \",\n",
       "                msg\n",
       "            );\n",
       "            return;\n",
       "        }\n",
       "\n",
       "        if (callback) {\n",
       "            try {\n",
       "                // console.log(\"Handling '\" + msg_type + \"' message: \", msg);\n",
       "                callback(fig, msg);\n",
       "            } catch (e) {\n",
       "                console.log(\n",
       "                    \"Exception inside the 'handler_\" + msg_type + \"' callback:\",\n",
       "                    e,\n",
       "                    e.stack,\n",
       "                    msg\n",
       "                );\n",
       "            }\n",
       "        }\n",
       "    };\n",
       "};\n",
       "\n",
       "function getModifiers(event) {\n",
       "    var mods = [];\n",
       "    if (event.ctrlKey) {\n",
       "        mods.push('ctrl');\n",
       "    }\n",
       "    if (event.altKey) {\n",
       "        mods.push('alt');\n",
       "    }\n",
       "    if (event.shiftKey) {\n",
       "        mods.push('shift');\n",
       "    }\n",
       "    if (event.metaKey) {\n",
       "        mods.push('meta');\n",
       "    }\n",
       "    return mods;\n",
       "}\n",
       "\n",
       "/*\n",
       " * return a copy of an object with only non-object keys\n",
       " * we need this to avoid circular references\n",
       " * https://stackoverflow.com/a/24161582/3208463\n",
       " */\n",
       "function simpleKeys(original) {\n",
       "    return Object.keys(original).reduce(function (obj, key) {\n",
       "        if (typeof original[key] !== 'object') {\n",
       "            obj[key] = original[key];\n",
       "        }\n",
       "        return obj;\n",
       "    }, {});\n",
       "}\n",
       "\n",
       "mpl.figure.prototype.mouse_event = function (event, name) {\n",
       "    if (name === 'button_press') {\n",
       "        this.canvas.focus();\n",
       "        this.canvas_div.focus();\n",
       "    }\n",
       "\n",
       "    // from https://stackoverflow.com/q/1114465\n",
       "    var boundingRect = this.canvas.getBoundingClientRect();\n",
       "    var x = (event.clientX - boundingRect.left) * this.ratio;\n",
       "    var y = (event.clientY - boundingRect.top) * this.ratio;\n",
       "\n",
       "    this.send_message(name, {\n",
       "        x: x,\n",
       "        y: y,\n",
       "        button: event.button,\n",
       "        step: event.step,\n",
       "        modifiers: getModifiers(event),\n",
       "        guiEvent: simpleKeys(event),\n",
       "    });\n",
       "\n",
       "    return false;\n",
       "};\n",
       "\n",
       "mpl.figure.prototype._key_event_extra = function (_event, _name) {\n",
       "    // Handle any extra behaviour associated with a key event\n",
       "};\n",
       "\n",
       "mpl.figure.prototype.key_event = function (event, name) {\n",
       "    // Prevent repeat events\n",
       "    if (name === 'key_press') {\n",
       "        if (event.key === this._key) {\n",
       "            return;\n",
       "        } else {\n",
       "            this._key = event.key;\n",
       "        }\n",
       "    }\n",
       "    if (name === 'key_release') {\n",
       "        this._key = null;\n",
       "    }\n",
       "\n",
       "    var value = '';\n",
       "    if (event.ctrlKey && event.key !== 'Control') {\n",
       "        value += 'ctrl+';\n",
       "    }\n",
       "    else if (event.altKey && event.key !== 'Alt') {\n",
       "        value += 'alt+';\n",
       "    }\n",
       "    else if (event.shiftKey && event.key !== 'Shift') {\n",
       "        value += 'shift+';\n",
       "    }\n",
       "\n",
       "    value += 'k' + event.key;\n",
       "\n",
       "    this._key_event_extra(event, name);\n",
       "\n",
       "    this.send_message(name, { key: value, guiEvent: simpleKeys(event) });\n",
       "    return false;\n",
       "};\n",
       "\n",
       "mpl.figure.prototype.toolbar_button_onclick = function (name) {\n",
       "    if (name === 'download') {\n",
       "        this.handle_save(this, null);\n",
       "    } else {\n",
       "        this.send_message('toolbar_button', { name: name });\n",
       "    }\n",
       "};\n",
       "\n",
       "mpl.figure.prototype.toolbar_button_onmouseover = function (tooltip) {\n",
       "    this.message.textContent = tooltip;\n",
       "};\n",
       "\n",
       "///////////////// REMAINING CONTENT GENERATED BY embed_js.py /////////////////\n",
       "// prettier-ignore\n",
       "var _JSXTOOLS_RESIZE_OBSERVER=function(A){var t,i=new WeakMap,n=new WeakMap,a=new WeakMap,r=new WeakMap,o=new Set;function s(e){if(!(this instanceof s))throw new TypeError(\"Constructor requires 'new' operator\");i.set(this,e)}function h(){throw new TypeError(\"Function is not a constructor\")}function c(e,t,i,n){e=0 in arguments?Number(arguments[0]):0,t=1 in arguments?Number(arguments[1]):0,i=2 in arguments?Number(arguments[2]):0,n=3 in arguments?Number(arguments[3]):0,this.right=(this.x=this.left=e)+(this.width=i),this.bottom=(this.y=this.top=t)+(this.height=n),Object.freeze(this)}function d(){t=requestAnimationFrame(d);var s=new WeakMap,p=new Set;o.forEach((function(t){r.get(t).forEach((function(i){var r=t instanceof window.SVGElement,o=a.get(t),d=r?0:parseFloat(o.paddingTop),f=r?0:parseFloat(o.paddingRight),l=r?0:parseFloat(o.paddingBottom),u=r?0:parseFloat(o.paddingLeft),g=r?0:parseFloat(o.borderTopWidth),m=r?0:parseFloat(o.borderRightWidth),w=r?0:parseFloat(o.borderBottomWidth),b=u+f,F=d+l,v=(r?0:parseFloat(o.borderLeftWidth))+m,W=g+w,y=r?0:t.offsetHeight-W-t.clientHeight,E=r?0:t.offsetWidth-v-t.clientWidth,R=b+v,z=F+W,M=r?t.width:parseFloat(o.width)-R-E,O=r?t.height:parseFloat(o.height)-z-y;if(n.has(t)){var k=n.get(t);if(k[0]===M&&k[1]===O)return}n.set(t,[M,O]);var S=Object.create(h.prototype);S.target=t,S.contentRect=new c(u,d,M,O),s.has(i)||(s.set(i,[]),p.add(i)),s.get(i).push(S)}))})),p.forEach((function(e){i.get(e).call(e,s.get(e),e)}))}return s.prototype.observe=function(i){if(i instanceof window.Element){r.has(i)||(r.set(i,new Set),o.add(i),a.set(i,window.getComputedStyle(i)));var n=r.get(i);n.has(this)||n.add(this),cancelAnimationFrame(t),t=requestAnimationFrame(d)}},s.prototype.unobserve=function(i){if(i instanceof window.Element&&r.has(i)){var n=r.get(i);n.has(this)&&(n.delete(this),n.size||(r.delete(i),o.delete(i))),n.size||r.delete(i),o.size||cancelAnimationFrame(t)}},A.DOMRectReadOnly=c,A.ResizeObserver=s,A.ResizeObserverEntry=h,A}; // eslint-disable-line\n",
       "mpl.toolbar_items = [[\"Home\", \"Reset original view\", \"fa fa-home\", \"home\"], [\"Back\", \"Back to previous view\", \"fa fa-arrow-left\", \"back\"], [\"Forward\", \"Forward to next view\", \"fa fa-arrow-right\", \"forward\"], [\"\", \"\", \"\", \"\"], [\"Pan\", \"Left button pans, Right button zooms\\nx/y fixes axis, CTRL fixes aspect\", \"fa fa-arrows\", \"pan\"], [\"Zoom\", \"Zoom to rectangle\\nx/y fixes axis\", \"fa fa-square-o\", \"zoom\"], [\"\", \"\", \"\", \"\"], [\"Download\", \"Download plot\", \"fa fa-floppy-o\", \"download\"]];\n",
       "\n",
       "mpl.extensions = [\"eps\", \"jpeg\", \"pgf\", \"pdf\", \"png\", \"ps\", \"raw\", \"svg\", \"tif\", \"webp\"];\n",
       "\n",
       "mpl.default_extension = \"png\";/* global mpl */\n",
       "\n",
       "var comm_websocket_adapter = function (comm) {\n",
       "    // Create a \"websocket\"-like object which calls the given IPython comm\n",
       "    // object with the appropriate methods. Currently this is a non binary\n",
       "    // socket, so there is still some room for performance tuning.\n",
       "    var ws = {};\n",
       "\n",
       "    ws.binaryType = comm.kernel.ws.binaryType;\n",
       "    ws.readyState = comm.kernel.ws.readyState;\n",
       "    function updateReadyState(_event) {\n",
       "        if (comm.kernel.ws) {\n",
       "            ws.readyState = comm.kernel.ws.readyState;\n",
       "        } else {\n",
       "            ws.readyState = 3; // Closed state.\n",
       "        }\n",
       "    }\n",
       "    comm.kernel.ws.addEventListener('open', updateReadyState);\n",
       "    comm.kernel.ws.addEventListener('close', updateReadyState);\n",
       "    comm.kernel.ws.addEventListener('error', updateReadyState);\n",
       "\n",
       "    ws.close = function () {\n",
       "        comm.close();\n",
       "    };\n",
       "    ws.send = function (m) {\n",
       "        //console.log('sending', m);\n",
       "        comm.send(m);\n",
       "    };\n",
       "    // Register the callback with on_msg.\n",
       "    comm.on_msg(function (msg) {\n",
       "        //console.log('receiving', msg['content']['data'], msg);\n",
       "        var data = msg['content']['data'];\n",
       "        if (data['blob'] !== undefined) {\n",
       "            data = {\n",
       "                data: new Blob(msg['buffers'], { type: data['blob'] }),\n",
       "            };\n",
       "        }\n",
       "        // Pass the mpl event to the overridden (by mpl) onmessage function.\n",
       "        ws.onmessage(data);\n",
       "    });\n",
       "    return ws;\n",
       "};\n",
       "\n",
       "mpl.mpl_figure_comm = function (comm, msg) {\n",
       "    // This is the function which gets called when the mpl process\n",
       "    // starts-up an IPython Comm through the \"matplotlib\" channel.\n",
       "\n",
       "    var id = msg.content.data.id;\n",
       "    // Get hold of the div created by the display call when the Comm\n",
       "    // socket was opened in Python.\n",
       "    var element = document.getElementById(id);\n",
       "    var ws_proxy = comm_websocket_adapter(comm);\n",
       "\n",
       "    function ondownload(figure, _format) {\n",
       "        window.open(figure.canvas.toDataURL());\n",
       "    }\n",
       "\n",
       "    var fig = new mpl.figure(id, ws_proxy, ondownload, element);\n",
       "\n",
       "    // Call onopen now - mpl needs it, as it is assuming we've passed it a real\n",
       "    // web socket which is closed, not our websocket->open comm proxy.\n",
       "    ws_proxy.onopen();\n",
       "\n",
       "    fig.parent_element = element;\n",
       "    fig.cell_info = mpl.find_output_cell(\"<div id='\" + id + \"'></div>\");\n",
       "    if (!fig.cell_info) {\n",
       "        console.error('Failed to find cell for figure', id, fig);\n",
       "        return;\n",
       "    }\n",
       "    fig.cell_info[0].output_area.element.on(\n",
       "        'cleared',\n",
       "        { fig: fig },\n",
       "        fig._remove_fig_handler\n",
       "    );\n",
       "};\n",
       "\n",
       "mpl.figure.prototype.handle_close = function (fig, msg) {\n",
       "    var width = fig.canvas.width / fig.ratio;\n",
       "    fig.cell_info[0].output_area.element.off(\n",
       "        'cleared',\n",
       "        fig._remove_fig_handler\n",
       "    );\n",
       "    fig.resizeObserverInstance.unobserve(fig.canvas_div);\n",
       "\n",
       "    // Update the output cell to use the data from the current canvas.\n",
       "    fig.push_to_output();\n",
       "    var dataURL = fig.canvas.toDataURL();\n",
       "    // Re-enable the keyboard manager in IPython - without this line, in FF,\n",
       "    // the notebook keyboard shortcuts fail.\n",
       "    IPython.keyboard_manager.enable();\n",
       "    fig.parent_element.innerHTML =\n",
       "        '<img src=\"' + dataURL + '\" width=\"' + width + '\">';\n",
       "    fig.close_ws(fig, msg);\n",
       "};\n",
       "\n",
       "mpl.figure.prototype.close_ws = function (fig, msg) {\n",
       "    fig.send_message('closing', msg);\n",
       "    // fig.ws.close()\n",
       "};\n",
       "\n",
       "mpl.figure.prototype.push_to_output = function (_remove_interactive) {\n",
       "    // Turn the data on the canvas into data in the output cell.\n",
       "    var width = this.canvas.width / this.ratio;\n",
       "    var dataURL = this.canvas.toDataURL();\n",
       "    this.cell_info[1]['text/html'] =\n",
       "        '<img src=\"' + dataURL + '\" width=\"' + width + '\">';\n",
       "};\n",
       "\n",
       "mpl.figure.prototype.updated_canvas_event = function () {\n",
       "    // Tell IPython that the notebook contents must change.\n",
       "    IPython.notebook.set_dirty(true);\n",
       "    this.send_message('ack', {});\n",
       "    var fig = this;\n",
       "    // Wait a second, then push the new image to the DOM so\n",
       "    // that it is saved nicely (might be nice to debounce this).\n",
       "    setTimeout(function () {\n",
       "        fig.push_to_output();\n",
       "    }, 1000);\n",
       "};\n",
       "\n",
       "mpl.figure.prototype._init_toolbar = function () {\n",
       "    var fig = this;\n",
       "\n",
       "    var toolbar = document.createElement('div');\n",
       "    toolbar.classList = 'btn-toolbar';\n",
       "    this.root.appendChild(toolbar);\n",
       "\n",
       "    function on_click_closure(name) {\n",
       "        return function (_event) {\n",
       "            return fig.toolbar_button_onclick(name);\n",
       "        };\n",
       "    }\n",
       "\n",
       "    function on_mouseover_closure(tooltip) {\n",
       "        return function (event) {\n",
       "            if (!event.currentTarget.disabled) {\n",
       "                return fig.toolbar_button_onmouseover(tooltip);\n",
       "            }\n",
       "        };\n",
       "    }\n",
       "\n",
       "    fig.buttons = {};\n",
       "    var buttonGroup = document.createElement('div');\n",
       "    buttonGroup.classList = 'btn-group';\n",
       "    var button;\n",
       "    for (var toolbar_ind in mpl.toolbar_items) {\n",
       "        var name = mpl.toolbar_items[toolbar_ind][0];\n",
       "        var tooltip = mpl.toolbar_items[toolbar_ind][1];\n",
       "        var image = mpl.toolbar_items[toolbar_ind][2];\n",
       "        var method_name = mpl.toolbar_items[toolbar_ind][3];\n",
       "\n",
       "        if (!name) {\n",
       "            /* Instead of a spacer, we start a new button group. */\n",
       "            if (buttonGroup.hasChildNodes()) {\n",
       "                toolbar.appendChild(buttonGroup);\n",
       "            }\n",
       "            buttonGroup = document.createElement('div');\n",
       "            buttonGroup.classList = 'btn-group';\n",
       "            continue;\n",
       "        }\n",
       "\n",
       "        button = fig.buttons[name] = document.createElement('button');\n",
       "        button.classList = 'btn btn-default';\n",
       "        button.href = '#';\n",
       "        button.title = name;\n",
       "        button.innerHTML = '<i class=\"fa ' + image + ' fa-lg\"></i>';\n",
       "        button.addEventListener('click', on_click_closure(method_name));\n",
       "        button.addEventListener('mouseover', on_mouseover_closure(tooltip));\n",
       "        buttonGroup.appendChild(button);\n",
       "    }\n",
       "\n",
       "    if (buttonGroup.hasChildNodes()) {\n",
       "        toolbar.appendChild(buttonGroup);\n",
       "    }\n",
       "\n",
       "    // Add the status bar.\n",
       "    var status_bar = document.createElement('span');\n",
       "    status_bar.classList = 'mpl-message pull-right';\n",
       "    toolbar.appendChild(status_bar);\n",
       "    this.message = status_bar;\n",
       "\n",
       "    // Add the close button to the window.\n",
       "    var buttongrp = document.createElement('div');\n",
       "    buttongrp.classList = 'btn-group inline pull-right';\n",
       "    button = document.createElement('button');\n",
       "    button.classList = 'btn btn-mini btn-primary';\n",
       "    button.href = '#';\n",
       "    button.title = 'Stop Interaction';\n",
       "    button.innerHTML = '<i class=\"fa fa-power-off icon-remove icon-large\"></i>';\n",
       "    button.addEventListener('click', function (_evt) {\n",
       "        fig.handle_close(fig, {});\n",
       "    });\n",
       "    button.addEventListener(\n",
       "        'mouseover',\n",
       "        on_mouseover_closure('Stop Interaction')\n",
       "    );\n",
       "    buttongrp.appendChild(button);\n",
       "    var titlebar = this.root.querySelector('.ui-dialog-titlebar');\n",
       "    titlebar.insertBefore(buttongrp, titlebar.firstChild);\n",
       "};\n",
       "\n",
       "mpl.figure.prototype._remove_fig_handler = function (event) {\n",
       "    var fig = event.data.fig;\n",
       "    if (event.target !== this) {\n",
       "        // Ignore bubbled events from children.\n",
       "        return;\n",
       "    }\n",
       "    fig.close_ws(fig, {});\n",
       "};\n",
       "\n",
       "mpl.figure.prototype._root_extra_style = function (el) {\n",
       "    el.style.boxSizing = 'content-box'; // override notebook setting of border-box.\n",
       "};\n",
       "\n",
       "mpl.figure.prototype._canvas_extra_style = function (el) {\n",
       "    // this is important to make the div 'focusable\n",
       "    el.setAttribute('tabindex', 0);\n",
       "    // reach out to IPython and tell the keyboard manager to turn it's self\n",
       "    // off when our div gets focus\n",
       "\n",
       "    // location in version 3\n",
       "    if (IPython.notebook.keyboard_manager) {\n",
       "        IPython.notebook.keyboard_manager.register_events(el);\n",
       "    } else {\n",
       "        // location in version 2\n",
       "        IPython.keyboard_manager.register_events(el);\n",
       "    }\n",
       "};\n",
       "\n",
       "mpl.figure.prototype._key_event_extra = function (event, _name) {\n",
       "    // Check for shift+enter\n",
       "    if (event.shiftKey && event.which === 13) {\n",
       "        this.canvas_div.blur();\n",
       "        // select the cell after this one\n",
       "        var index = IPython.notebook.find_cell_index(this.cell_info[0]);\n",
       "        IPython.notebook.select(index + 1);\n",
       "    }\n",
       "};\n",
       "\n",
       "mpl.figure.prototype.handle_save = function (fig, _msg) {\n",
       "    fig.ondownload(fig, null);\n",
       "};\n",
       "\n",
       "mpl.find_output_cell = function (html_output) {\n",
       "    // Return the cell and output element which can be found *uniquely* in the notebook.\n",
       "    // Note - this is a bit hacky, but it is done because the \"notebook_saving.Notebook\"\n",
       "    // IPython event is triggered only after the cells have been serialised, which for\n",
       "    // our purposes (turning an active figure into a static one), is too late.\n",
       "    var cells = IPython.notebook.get_cells();\n",
       "    var ncells = cells.length;\n",
       "    for (var i = 0; i < ncells; i++) {\n",
       "        var cell = cells[i];\n",
       "        if (cell.cell_type === 'code') {\n",
       "            for (var j = 0; j < cell.output_area.outputs.length; j++) {\n",
       "                var data = cell.output_area.outputs[j];\n",
       "                if (data.data) {\n",
       "                    // IPython >= 3 moved mimebundle to data attribute of output\n",
       "                    data = data.data;\n",
       "                }\n",
       "                if (data['text/html'] === html_output) {\n",
       "                    return [cell, data, j];\n",
       "                }\n",
       "            }\n",
       "        }\n",
       "    }\n",
       "};\n",
       "\n",
       "// Register the function which deals with the matplotlib target/channel.\n",
       "// The kernel may be null if the page has been refreshed.\n",
       "if (IPython.notebook.kernel !== null) {\n",
       "    IPython.notebook.kernel.comm_manager.register_target(\n",
       "        'matplotlib',\n",
       "        mpl.mpl_figure_comm\n",
       "    );\n",
       "}\n"
      ],
      "text/plain": [
       "<IPython.core.display.Javascript object>"
      ]
     },
     "metadata": {},
     "output_type": "display_data"
    },
    {
     "data": {
      "text/html": [
       "<img src=\"data:image/png;base64,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\" width=\"640\">"
      ],
      "text/plain": [
       "<IPython.core.display.HTML object>"
      ]
     },
     "metadata": {},
     "output_type": "display_data"
    },
    {
     "name": "stdout",
     "output_type": "stream",
     "text": [
      "timestamp\n",
      "2022-01-03 09:00:00.004107395+00:00     0\n",
      "2022-01-03 09:00:00.004336696+00:00     1\n",
      "2022-01-03 09:00:00.013666+00:00       13\n",
      "2022-01-03 09:00:00.013666+00:00        5\n",
      "2022-01-03 09:00:00.013666+00:00        1\n",
      "                                       ..\n",
      "2022-01-03 09:00:26.149632418+00:00     1\n",
      "2022-01-03 09:00:26.150048543+00:00     1\n",
      "2022-01-03 09:00:26.424920619+00:00     1\n",
      "2022-01-03 09:00:26.425142866+00:00     1\n",
      "2022-01-03 09:00:26.490393948+00:00     1\n",
      "Name: ask_size, Length: 500, dtype: int64 timestamp\n",
      "2022-01-03 09:00:00.004107395+00:00    1\n",
      "2022-01-03 09:00:00.004336696+00:00    1\n",
      "2022-01-03 09:00:00.013666+00:00       1\n",
      "2022-01-03 09:00:00.013666+00:00       1\n",
      "2022-01-03 09:00:00.013666+00:00       1\n",
      "                                      ..\n",
      "2022-01-03 09:00:26.149632418+00:00    1\n",
      "2022-01-03 09:00:26.150048543+00:00    1\n",
      "2022-01-03 09:00:26.424920619+00:00    1\n",
      "2022-01-03 09:00:26.425142866+00:00    1\n",
      "2022-01-03 09:00:26.490393948+00:00    1\n",
      "Name: bid_size, Length: 500, dtype: int64\n"
     ]
    }
   ],
   "source": [
    "#Chart of Bid Ask Spread Sizes\n",
    "from dotenv import load_dotenv\n",
    "import matplotlib.pyplot as plt\n",
    "import mplcyberpunk\n",
    "import alpaca_trade_api as api\n",
    "import os\n",
    "import pandas as pd\n",
    "%matplotlib nbagg\n",
    "\n",
    "symbol = \"TSLA\"\n",
    "\n",
    "limit = 500\n",
    "# Set start and end dates as datetime objects\n",
    "start_date = pd.to_datetime(\"2022-01-01T14:30:00Z\", format=\"%Y-%m-%dT%H:%M:%SZ\")\n",
    "end_date = pd.to_datetime(\"2023-04-24T21:00:00Z\", format=\"%Y-%m-%dT%H:%M:%SZ\")\n",
    "\n",
    "# Convert datetime objects to string format\n",
    "start = start_date.strftime(\"%Y-%m-%dT%H:%M:%SZ\")\n",
    "end = end_date.strftime(\"%Y-%m-%dT%H:%M:%SZ\")\n",
    "\n",
    "\n",
    "\n",
    "plt.style.use('cyberpunk')\n",
    "\n",
    "ALPACA_KEY_ID, ALPACA_SECRETS_KEY = \"\",\"\"\n",
    "\n",
    "def set_vars(secrets_file='a.env'):\n",
    "    global ALPACA_KEY_ID, ALPACA_SECRETS_KEY\n",
    "    with open(f\"{secrets_file}\", 'r') as file:\n",
    "        contents = file.read()\n",
    "        env_vars = contents.replace('export ', '').split(\"\\n\")\n",
    "        ALPACA_KEY_ID = env_vars[0].split(\"=\")[1]\n",
    "        ALPACA_SECRETS_KEY = env_vars[1].split(\"=\")[1]\n",
    "\n",
    "def get_bidask_sizes(symbol, start, end, limit):\n",
    "    set_vars()\n",
    "    alpaca = api.REST(ALPACA_KEY_ID, ALPACA_SECRETS_KEY)\n",
    "    get_values = alpaca.get_quotes(symbol, start, end, limit).df\n",
    "    quotes_spread = get_values[\"ask_size\"] - get_values[\"bid_size\"]\n",
    "    plt.plot(pd.to_datetime(get_values.index).strftime(\"%Y-%m-%dT%H:%M:%S\"), quotes_spread)\n",
    "    plt.title(\"Bid-ask Size Spread of \" + symbol + \" as a Function of Time\")\n",
    "    plt.xlabel(\"Time of Day\")\n",
    "    plt.ylabel(\"Bid-ask Spread Size($USD)\")\n",
    "    \n",
    "    # Format x-axis tick labels with start and end dates\n",
    "    \n",
    "    plt.xticks(rotation=90)\n",
    "    \n",
    "    \n",
    "    plt.xlim()\n",
    "    plt.show()\n",
    "    print(get_values[\"ask_size\"].values, get_values['bid_size'].values)\n",
    "    #plt.savefig(\"TSLA Bid Ask Spread\")\n",
    "    \n",
    "get_bidask_sizes(symbol, start, end, limit)\n"
   ]
  },
  {
   "cell_type": "code",
   "execution_count": null,
   "id": "c122b063",
   "metadata": {},
   "outputs": [],
   "source": [
    "#Chart of Bid Ask Spread Sizes\n",
    "from dotenv import load_dotenv\n",
    "import matplotlib.pyplot as plt\n",
    "import mplcyberpunk\n",
    "import alpaca_trade_api as api\n",
    "import os\n",
    "import pandas as pd\n",
    "\n",
    "\n",
    "symbol = \"SDS\"\n",
    "\n",
    "limit = 500\n",
    "# Set start and end dates as datetime objects\n",
    "start_date = pd.to_datetime(\"2022-01-01T14:30:00Z\", format=\"%Y-%m-%dT%H:%M:%SZ\")\n",
    "end_date = pd.to_datetime(\"2023-04-24T21:00:00Z\", format=\"%Y-%m-%dT%H:%M:%SZ\")\n",
    "\n",
    "# Convert datetime objects to string format\n",
    "start = start_date.strftime(\"%Y-%m-%d %H:%M:%S\")\n",
    "end = end_date.strftime(\"%Y-%m-%d %H:%M:%S\")\n",
    "\n",
    "\n",
    "\n",
    "plt.style.use('cyberpunk')\n",
    "\n",
    "ALPACA_KEY_ID, ALPACA_SECRETS_KEY = \"\",\"\"\n",
    "\n",
    "def set_vars(secrets_file='a.env'):\n",
    "    global ALPACA_KEY_ID, ALPACA_SECRETS_KEY\n",
    "    with open(f\"{secrets_file}\", 'r') as file:\n",
    "        contents = file.read()\n",
    "        env_vars = contents.replace('export ', '').split(\"\\n\")\n",
    "        ALPACA_KEY_ID = env_vars[0].split(\"=\")[1]\n",
    "        ALPACA_SECRETS_KEY = env_vars[1].split(\"=\")[1]\n",
    "\n",
    "def get_bidask_sizes(symbol, start, end, limit):\n",
    "    set_vars()\n",
    "    alpaca = api.REST(ALPACA_KEY_ID, ALPACA_SECRETS_KEY)\n",
    "\n",
    "    # Convert start and end to the correct format for the Alpaca API\n",
    "    start = pd.Timestamp(start, tz=\"America/New_York\").isoformat()\n",
    "    end = pd.Timestamp(end, tz=\"America/New_York\").isoformat()\n",
    "\n",
    "    get_values = alpaca.get_quotes(symbol, start, end, limit).df\n",
    "    quotes_spread = get_values[\"ask_size\"] - get_values[\"bid_size\"]\n",
    "    fig, ax = plt.subplots(figsize=(8, 8))\n",
    "    new_x = pd.to_datetime(get_values.index)\n",
    "    plt.plot(new_x, quotes_spread)\n",
    "    ax.xaxis.set_major_formatter(plt.FixedFormatter(new_x.strftime('%Y-%m')))\n",
    "    plt.xticks(rotation=90)\n",
    "\n",
    "    plt.show()\n",
    "\n",
    "\n",
    "    \n",
    "get_bidask_sizes(symbol, \"2022-04-01T14:30:00Z\", \"2023-04-24T21:00:00Z\", limit)\n"
   ]
  },
  {
   "cell_type": "code",
   "execution_count": null,
   "id": "52a5cb4d",
   "metadata": {},
   "outputs": [],
   "source": [
    "#Chart of Bid Ask Spread Sizes\n",
    "from dotenv import load_dotenv\n",
    "import matplotlib.pyplot as plt\n",
    "import mplcyberpunk\n",
    "import alpaca_trade_api as api\n",
    "import os\n",
    "import pandas as pd\n",
    "\n",
    "\n",
    "symbol = \"SDS\"\n",
    "\n",
    "limit = 500\n",
    "# Set start and end dates as datetime objects\n",
    "start_date = pd.to_datetime(\"2022-01-01T14:30:00Z\", format=\"%Y-%m-%dT%H:%M:%SZ\")\n",
    "end_date = pd.to_datetime(\"2023-04-24T21:00:00Z\", format=\"%Y-%m-%dT%H:%M:%SZ\")\n",
    "\n",
    "# Convert datetime objects to string format\n",
    "start = start_date.strftime(\"%Y-%m-%d %H:%M:%S\")\n",
    "end = end_date.strftime(\"%Y-%m-%d %H:%M:%S\")\n",
    "\n",
    "\n",
    "\n",
    "plt.style.use('cyberpunk')\n",
    "\n",
    "ALPACA_KEY_ID, ALPACA_SECRETS_KEY = \"\",\"\"\n",
    "\n",
    "def set_vars(secrets_file='a.env'):\n",
    "    global ALPACA_KEY_ID, ALPACA_SECRETS_KEY\n",
    "    with open(f\"{secrets_file}\", 'r') as file:\n",
    "        contents = file.read()\n",
    "        env_vars = contents.replace('export ', '').split(\"\\n\")\n",
    "        ALPACA_KEY_ID = env_vars[0].split(\"=\")[1]\n",
    "        ALPACA_SECRETS_KEY = env_vars[1].split(\"=\")[1]\n",
    "\n",
    "def get_bidask_sizes(symbol, start, end, limit):\n",
    "    set_vars()\n",
    "    alpaca = api.REST(ALPACA_KEY_ID, ALPACA_SECRETS_KEY)\n",
    "\n",
    "    # Convert start and end to the correct format for the Alpaca API\n",
    "    start = pd.Timestamp(start, tz=\"America/New_York\").isoformat()\n",
    "    end = pd.Timestamp(end, tz=\"America/New_York\").isoformat()\n",
    "\n",
    "    get_values = alpaca.get_quotes(symbol, start, end, limit).df\n",
    "    quotes_spread = get_values[\"ask_size\"] - get_values[\"bid_size\"]\n",
    "    fig, ax = plt.subplots(figsize=(8, 8))\n",
    "    new_x = pd.to_datetime(get_values.index).timestamp()\n",
    "\n",
    "    plt.plot(new_x, quotes_spread)\n",
    "    plt.title(\"Bid-Ask Size Spread of \" + symbol + \" as a Function of Time\")\n",
    "    plt.xlabel(\"Time of Day\")\n",
    "    plt.ylabel(\"Bid-ask Spread Size($USD)\")\n",
    "\n",
    "    # Format the x-axis labels to display only month and year\n",
    "    ax.xaxis.set_major_formatter(mpl_dates.DateFormatter('%Y-%m'))\n",
    "   # Convert datetime index to list of datetime objects and then to Unix timestamps\n",
    "    # Convert datetime index to datetime array and then to Unix timestamps\n",
    "    new_x = pd.to_datetime(get_values.index).to_numpy().astype('datetime64[s]').astype('int')\n",
    "\n",
    "    # Plot the bid-ask spread as a function of time\n",
    "    plt.plot(new_x, quotes_spread)\n",
    "\n",
    "    # Set the x-axis ticks and labels to display only month and year\n",
    "    plt.xticks(new_x[::50], pd.to_datetime(get_values.index[::50]).strftime('%Y-%m'), rotation=90)\n",
    "\n",
    "\n",
    "    plt.show()\n",
    "\n",
    "\n",
    "\n",
    "    \n",
    "get_bidask_sizes(symbol, \"2022-04-01T14:30:00Z\", \"2023-04-24T21:00:00Z\", limit)\n"
   ]
  },
  {
   "cell_type": "code",
   "execution_count": null,
   "id": "ca5ba061",
   "metadata": {},
   "outputs": [],
   "source": [
    "#Chart of Bid Ask Spread Sizes\n",
    "from dotenv import load_dotenv\n",
    "import matplotlib.pyplot as plt\n",
    "import mplcyberpunk\n",
    "import alpaca_trade_api as api\n",
    "import os\n",
    "import pandas as pd\n",
    "\n",
    "\n",
    "symbol = \"SDS\"\n",
    "\n",
    "limit = 500\n",
    "# Set start and end dates as datetime objects\n",
    "start_date = pd.to_datetime(\"2022-01-01T14:30:00Z\", format=\"%Y-%m-%dT%H:%M:%SZ\")\n",
    "end_date = pd.to_datetime(\"2023-04-24T21:00:00Z\", format=\"%Y-%m-%dT%H:%M:%SZ\")\n",
    "\n",
    "# Convert datetime objects to string format\n",
    "start = start_date.strftime(\"%Y-%m-%d %H:%M:%S\")\n",
    "end = end_date.strftime(\"%Y-%m-%d %H:%M:%S\")\n",
    "\n",
    "plt.style.use('cyberpunk')\n",
    "\n",
    "ALPACA_KEY_ID, ALPACA_SECRETS_KEY = \"\",\"\"\n",
    "\n",
    "def set_vars(secrets_file='a.env'):\n",
    "    global ALPACA_KEY_ID, ALPACA_SECRETS_KEY\n",
    "    with open(f\"{secrets_file}\", 'r') as file:\n",
    "        contents = file.read()\n",
    "        env_vars = contents.replace('export ', '').split(\"\\n\")\n",
    "        ALPACA_KEY_ID = env_vars[0].split(\"=\")[1]\n",
    "        ALPACA_SECRETS_KEY = env_vars[1].split(\"=\")[1]\n",
    "\n",
    "def get_bidask_sizes(symbol, start, end, limit):\n",
    "    set_vars()\n",
    "    alpaca = api.REST(ALPACA_KEY_ID, ALPACA_SECRETS_KEY)\n",
    "\n",
    "    # Convert start and end to the correct format for the Alpaca API\n",
    "    start = pd.Timestamp(start, tz=\"America/New_York\").isoformat()\n",
    "    end = pd.Timestamp(end, tz=\"America/New_York\").isoformat()\n",
    "\n",
    "    get_values = alpaca.get_quotes(symbol, start, end, limit).df\n",
    "    quotes_spread = get_values[\"ask_size\"] - get_values[\"bid_size\"]\n",
    "    fig, ax = plt.subplots(figsize=(40, 8))\n",
    "    new_x = get_values.index\n",
    "    plt.plot(new_x, quotes_spread)\n",
    "    ax.xaxis.set_major_formatter(plt.FixedFormatter(new_x.strftime('%Y-%m')))\n",
    "\n",
    "    plt.title(\"Bid-Ask Size Spread of \" + symbol + \" as a Function of Time\")\n",
    "    plt.xlabel(\"Time of Day\")\n",
    "    plt.ylabel(\"Bid-Ask Spread Size($USD)\")\n",
    "\n",
    "    \n",
    "        # Format the x-axis labels to display only quarter and year\n",
    "    ax.xaxis.set_major_locator(mpl.dates.MonthLocator(interval=4))\n",
    "    ax.xaxis.set_major_formatter(mpl.dates.DateFormatter('%Y-%m-d'))\n",
    "    \n",
    "    plt.xticks(rotation=90)\n",
    "    plt.xlim([start_date, end_date])\n",
    "    plt.show()\n",
    "\n",
    "\n",
    "\n",
    "    \n",
    "get_bidask_sizes(symbol, \"2022-03-01T14:30:00Z\", \"2023-04-24T21:00:00Z\", limit)\n"
   ]
  },
  {
   "cell_type": "code",
   "execution_count": null,
   "id": "d73e7bb3",
   "metadata": {},
   "outputs": [],
   "source": [
    "from dotenv import load_dotenv\n",
    "import matplotlib as mpl\n",
    "import matplotlib.dates as dates\n",
    "\n",
    "import matplotlib.pyplot as plt\n",
    "import mplcyberpunk\n",
    "import alpaca_trade_api as api\n",
    "import os\n",
    "import pandas as pd\n",
    "from matplotlib.dates import MonthLocator, DateFormatter\n",
    "\n",
    "\n",
    "\n",
    "symbol = \"SDS\"\n",
    "\n",
    "limit = 500\n",
    "# Set start and end dates as datetime objects\n",
    "start_date = pd.to_datetime(\"2023-01-01T14:30:00Z\", format=\"%Y-%m-%dT%H:%M:%SZ\")\n",
    "end_date = pd.to_datetime(\"2023-04-24T21:00:00Z\", format=\"%Y-%m-%dT%H:%M:%SZ\")\n",
    "\n",
    "# Convert datetime objects to string format\n",
    "start = start_date.strftime(\"%Y-%m-%d\")\n",
    "end = end_date.strftime(\"%Y-%m-%d\")\n",
    "\n",
    "\n",
    "plt.style.use('cyberpunk')\n",
    "\n",
    "ALPACA_KEY_ID, ALPACA_SECRETS_KEY = \"\",\"\"\n",
    "\n",
    "def set_vars(secrets_file='a.env'):\n",
    "    global ALPACA_KEY_ID, ALPACA_SECRETS_KEY\n",
    "    with open(f\"{secrets_file}\", 'r') as file:\n",
    "        contents = file.read()\n",
    "        env_vars = contents.replace('export ', '').split(\"\\n\")\n",
    "        ALPACA_KEY_ID = env_vars[0].split(\"=\")[1]\n",
    "        ALPACA_SECRETS_KEY = env_vars[1].split(\"=\")[1]\n",
    "\n",
    "def get_bidask_sizes(symbol, start, end, limit):\n",
    "    set_vars()\n",
    "    alpaca = api.REST(ALPACA_KEY_ID, ALPACA_SECRETS_KEY)\n",
    "\n",
    "    # Convert start and end to the correct format for the Alpaca API\n",
    "    start = pd.Timestamp(start, tz=\"America/New_York\").isoformat()\n",
    "    end = pd.Timestamp(end, tz=\"America/New_York\").isoformat()\n",
    "\n",
    "    get_values = alpaca.get_quotes(symbol, start, end, limit).df\n",
    "    quotes_spread = get_values[\"ask_size\"] - get_values[\"bid_size\"]\n",
    "    fig, ax = plt.subplots(figsize=(20, 8))\n",
    "    plt.title(\"Bid-Ask Size Spread of \" + symbol + \" as a Function of Time\")\n",
    "    plt.xlabel(\"Time of Day\")\n",
    "    plt.ylabel(\"Bid-ask Spread Size($USD)\")\n",
    "\n",
    "    new_x = get_values.index\n",
    "    plt.plot(new_x, quotes_spread)\n",
    "    #ax.xaxis.set_major_locator(mpl.dates.MonthLocator(interval=2))\n",
    "    ax.xaxis.set_major_formatter(plt.FixedFormatter(new_x.strftime('%Y-%m')))\n",
    "    plt.xticks(rotation=90)\n",
    "    plt.xlim([start_date, end_date])\n",
    "    plt.show()\n",
    "\n",
    "\n",
    "    \n",
    "get_bidask_sizes(symbol, \"2023-01-01T14:30:00Z\", \"2023-04-24T21:00:00Z\", limit)\n",
    "\n"
   ]
  },
  {
   "cell_type": "code",
   "execution_count": null,
   "id": "d51013f3",
   "metadata": {},
   "outputs": [],
   "source": [
    "import os\n",
    "import pandas as pd\n",
    "import matplotlib.pyplot as plt\n",
    "import alpaca_trade_api as api\n",
    "from dotenv import load_dotenv\n",
    "\n",
    "ALPACA_KEY_ID, ALPACA_SECRETS_KEY = \"\",\"\"\n",
    "\n",
    "load_dotenv()\n",
    "\n",
    "def set_vars(secrets_file='a.env'):\n",
    "    global ALPACA_KEY_ID, ALPACA_SECRETS_KEY\n",
    "    with open(f\"{secrets_file}\", 'r') as file:\n",
    "        contents = file.read()\n",
    "        env_vars = contents.replace('export ', '').split(\"\\n\")\n",
    "        ALPACA_KEY_ID = env_vars[0].split(\"=\")[1]\n",
    "        ALPACA_SECRETS_ID = env_vars[1].split(\"=\")[1]\n",
    "set_vars()\n",
    "\n",
    "\n",
    "\n",
    "# Set Alpaca API key ID and secret key\n",
    "ALPACA_KEY_ID = os.environ.get('ALPACA_KEY_ID')\n",
    "ALPACA_SECRETS_ID = os.environ.get('ALPACA_SECRETS_ID')\n",
    "\n",
    "symbol = \"INTC\"\n",
    "limit = 500\n",
    "\n",
    "# Set start and end dates as datetime objects\n",
    "start_date = pd.to_datetime(\"2023-01-01T14:30:00Z\", format=\"%Y-%m-%d\")\n",
    "end_date = pd.to_datetime(\"2023-04-24T21:00:00Z\", format=\"%Y-%m-%d\")\n",
    "\n",
    "# Convert datetime objects to string format\n",
    "start = start_date.strftime(\"%Y-%m-%d %H:%M:%S\")\n",
    "end = end_date.strftime(\"%Y-%m-%d %H:%M:%S\")\n",
    "\n",
    "# Create Alpaca API object\n",
    "alpaca = api.REST(ALPACA_KEY_ID, ALPACA_SECRETS_ID)\n",
    "\n",
    "# Get historical price data from Alpaca API\n",
    "df = alpaca.get_barset(symbol, 'day', limit=limit, start=start, end=end).df[symbol]\n",
    "\n",
    "# Plot data using Matplotlib\n",
    "fig, ax = plt.subplots()\n",
    "ax.plot(df.index, df['close'], label='Close')\n",
    "\n",
    "# Set x-axis limits to start and end dates\n",
    "ax.set_xlim(start_date, end_date)\n",
    "\n",
    "# Format x-axis labels\n",
    "ax.xaxis.set_major_locator(mdates.MonthLocator())\n",
    "ax.xaxis.set_major_formatter(mdates.DateFormatter('%b %Y'))\n",
    "ax.xaxis.set_minor_locator(mdates.DayLocator())\n",
    "\n",
    "# Set chart title and axis labels\n",
    "plt.title(f\"{symbol} Price Data\")\n",
    "plt.xlabel(\"Date\")\n",
    "plt.ylabel(\"Price ($)\")\n",
    "\n",
    "# Add legend\n",
    "plt.legend()\n",
    "\n",
    "# Display chart\n",
    "plt.show()\n"
   ]
  },
  {
   "cell_type": "code",
   "execution_count": null,
   "id": "e4171c4d",
   "metadata": {},
   "outputs": [],
   "source": [
    "#Only use Plotly\n",
    "import alpaca_trade_api as api\n",
    "import os\n",
    "import pandas as pd\n",
    "import plotly.graph_objs as go\n",
    "from dotenv import load_dotenv\n",
    "\n",
    "load_dotenv()\n",
    "\n",
    "ALPACA_KEY_ID, ALPACA_SECRETS_KEY = \"\",\"\"\n",
    "\n",
    "def set_vars(secrets_file='a.env'):\n",
    "    global ALPACA_KEY_ID, ALPACA_SECRETS_KEY\n",
    "    with open(f\"{secrets_file}\", 'r') as file:\n",
    "        contents = file.read()\n",
    "        env_vars = contents.replace('export ', '').split(\"\\n\")\n",
    "        ALPACA_KEY_ID = env_vars[0].split(\"=\")[1]\n",
    "        ALPACA_SECRETS_KEY = env_vars[1].split(\"=\")[1]\n",
    "set_vars()\n",
    "\n",
    "\n",
    "\n",
    "\n",
    "\n",
    "symbol = \"INTC\"\n",
    "limit = 500\n",
    "\n",
    "# Set start and end dates as datetime objects\n",
    "start_date = pd.to_datetime(\"2023-01-01T14:30:00Z\", format=\"%Y-%m-%dT%H:%M:%SZ\")\n",
    "end_date = pd.to_datetime(\"2023-04-24T21:00:00Z\", format=\"%Y-%m-%dT%H:%M:%SZ\")\n",
    "\n",
    "alpaca = api.REST(ALPACA_KEY_ID, ALPACA_SECRETS_KEY)\n",
    "\n",
    "# Convert start and end to the correct format for the Alpaca API\n",
    "start = pd.Timestamp(start_date, tz=\"America/New_York\").isoformat()\n",
    "end = pd.Timestamp(end_date, tz=\"America/New_York\").isoformat()\n",
    "\n",
    "# Get bid-ask sizes data\n",
    "df = alpaca.get_quotes(symbol, start, end, limit).df\n",
    "quotes_spread = df['ask_size'] - df['bid_size']\n",
    "\n",
    "# Create plotly figure\n",
    "fig = go.Figure()\n",
    "fig.add_trace(go.Scatter(x=df.index, y=quotes_spread, mode='lines'))\n",
    "\n",
    "fig.update_layout(\n",
    "    title=\"Bid-ask Size Spread of SDS as a Function of Time\",\n",
    "    xaxis_title=\"Time of Day\",\n",
    "    yaxis_title=\"Bid-ask Spread Size($USD)\",\n",
    "    xaxis_tickformat=\"%Y-%m-%d\"\n",
    ")\n",
    "\n",
    "fig.show()\n"
   ]
  },
  {
   "cell_type": "code",
   "execution_count": null,
   "id": "2cf49a2a",
   "metadata": {},
   "outputs": [],
   "source": [
    "#Use Matplotlib\n",
    "from dotenv import load_dotenv\n",
    "import matplotlib.pyplot as plt\n",
    "import alpaca_trade_api as api\n",
    "import os\n",
    "import pandas as pd\n",
    "\n",
    "load_dotenv()\n",
    "\n",
    "ALPACA_KEY_ID, ALPACA_SECRETS_KEY = \"\",\"\"\n",
    "\n",
    "def set_vars(secrets_file='a.env'):\n",
    "    global ALPACA_KEY_ID, ALPACA_SECRETS_KEY\n",
    "    with open(f\"{secrets_file}\", 'r') as file:\n",
    "        contents = file.read()\n",
    "        env_vars = contents.replace('export ', '').split(\"\\n\")\n",
    "        ALPACA_KEY_ID = env_vars[0].split(\"=\")[1]\n",
    "        ALPACA_SECRETS_KEY = env_vars[1].split(\"=\")[1]\n",
    "set_vars()\n",
    "\n",
    "symbol = \"AAPL\"\n",
    "limit = 500\n",
    "\n",
    "# Set start and end dates as datetime objects\n",
    "start_date = pd.to_datetime(\"2022-01-01T14:30:00Z\", format=\"%Y-%m-%dT%H:%M:%SZ\")\n",
    "end_date = pd.to_datetime(\"2022-04-25T21:00:00Z\", format=\"%Y-%m-%dT%H:%M:%SZ\")\n",
    "\n",
    "# Convert datetime objects to string format\n",
    "start = start_date.strftime(\"%Y-%m-%dT%H:%M:%SZ\")\n",
    "end = end_date.strftime(\"%Y-%m-%dT%H:%M:%SZ\")\n",
    "\n",
    "# Authenticate with the Alpaca API\n",
    "ALPACA_API_KEY = os.getenv(\"ALPACA_KEY_ID\")\n",
    "ALPACA_SECRET_KEY = os.getenv(\"ALPACA_SECRETS_KEY\")\n",
    "alpaca = api.REST(ALPACA_KEY_ID, ALPACA_SECRETS_KEY)\n",
    "\n",
    "# Get bid-ask sizes for the given symbol and time period\n",
    "data = alpaca.get_quotes(symbol, start=start, end=end, limit=limit).df\n",
    "data[\"spread\"] = data[\"ask_size\"] - data[\"bid_size\"]\n",
    "\n",
    "# Plot the bid-ask spread over time\n",
    "fig, ax = plt.subplots(figsize=(10, 5))\n",
    "ax.plot(data.index, data[\"spread\"])\n",
    "\n",
    "# Format the plot\n",
    "ax.set_title(\"Bid-Ask Size Spread for {}\".format(symbol))\n",
    "ax.set_xlabel(\"Time\")\n",
    "ax.set_ylabel(\"Spread ($)\")\n",
    "ax.xaxis.set_major_locator(plt.MaxNLocator(6))\n",
    "plt.xlim(pd.to_datetime(start_date), pd.to_datetime(end_date))\n",
    "plt.show()\n"
   ]
  },
  {
   "cell_type": "code",
   "execution_count": null,
   "id": "10ae43f7",
   "metadata": {},
   "outputs": [],
   "source": []
  }
 ],
 "metadata": {
  "kernelspec": {
   "display_name": "Python 3 (ipykernel)",
   "language": "python",
   "name": "python3"
  },
  "language_info": {
   "codemirror_mode": {
    "name": "ipython",
    "version": 3
   },
   "file_extension": ".py",
   "mimetype": "text/x-python",
   "name": "python",
   "nbconvert_exporter": "python",
   "pygments_lexer": "ipython3",
   "version": "3.10.9"
  }
 },
 "nbformat": 4,
 "nbformat_minor": 5
}
