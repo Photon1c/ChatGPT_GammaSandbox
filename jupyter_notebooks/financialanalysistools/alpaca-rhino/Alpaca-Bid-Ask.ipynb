{
 "cells": [
  {
   "cell_type": "code",
   "execution_count": 13,
   "id": "2cd1a3f3",
   "metadata": {},
   "outputs": [
    {
     "name": "stdout",
     "output_type": "stream",
     "text": [
      "                             open     high     low   close    volume  \\\n",
      "timestamp                                                              \n",
      "2023-04-20 04:00:00+00:00   11.81   11.930   11.55   11.87  79562705   \n",
      "2023-04-21 04:00:00+00:00   11.90   11.917   11.66   11.81  46214104   \n",
      "2023-04-20 04:00:00+00:00  213.48  216.750  212.77  213.07  16475443   \n",
      "2023-04-21 04:00:00+00:00  210.21  213.410  209.58  212.93  16528732   \n",
      "2023-04-20 04:00:00+00:00  232.46  234.670  231.50  234.60   4925659   \n",
      "\n",
      "                           trade_count        vwap symbol  \n",
      "timestamp                                                  \n",
      "2023-04-20 04:00:00+00:00       204083   11.771457      F  \n",
      "2023-04-21 04:00:00+00:00       120074   11.789667      F  \n",
      "2023-04-20 04:00:00+00:00       200685  214.440003   META  \n",
      "2023-04-21 04:00:00+00:00       201231  211.902695   META  \n",
      "2023-04-20 04:00:00+00:00        76217  233.817971      V  \n"
     ]
    },
    {
     "data": {
      "application/vnd.plotly.v1+json": {
       "config": {
        "plotlyServerURL": "https://plot.ly"
       },
       "data": [
        {
         "close": [
          11.87,
          11.81,
          213.07,
          212.93,
          234.6,
          234.05
         ],
         "high": [
          11.93,
          11.917,
          216.75,
          213.41,
          234.67,
          235.568
         ],
         "low": [
          11.55,
          11.66,
          212.77,
          209.58,
          231.5,
          233.38
         ],
         "open": [
          11.81,
          11.9,
          213.48,
          210.21,
          232.46,
          235
         ],
         "type": "candlestick",
         "x": [
          "2023-04-20T04:00:00+00:00",
          "2023-04-21T04:00:00+00:00",
          "2023-04-20T04:00:00+00:00",
          "2023-04-21T04:00:00+00:00",
          "2023-04-20T04:00:00+00:00",
          "2023-04-21T04:00:00+00:00"
         ]
        }
       ],
       "layout": {
        "template": {
         "data": {
          "bar": [
           {
            "error_x": {
             "color": "#2a3f5f"
            },
            "error_y": {
             "color": "#2a3f5f"
            },
            "marker": {
             "line": {
              "color": "#E5ECF6",
              "width": 0.5
             },
             "pattern": {
              "fillmode": "overlay",
              "size": 10,
              "solidity": 0.2
             }
            },
            "type": "bar"
           }
          ],
          "barpolar": [
           {
            "marker": {
             "line": {
              "color": "#E5ECF6",
              "width": 0.5
             },
             "pattern": {
              "fillmode": "overlay",
              "size": 10,
              "solidity": 0.2
             }
            },
            "type": "barpolar"
           }
          ],
          "carpet": [
           {
            "aaxis": {
             "endlinecolor": "#2a3f5f",
             "gridcolor": "white",
             "linecolor": "white",
             "minorgridcolor": "white",
             "startlinecolor": "#2a3f5f"
            },
            "baxis": {
             "endlinecolor": "#2a3f5f",
             "gridcolor": "white",
             "linecolor": "white",
             "minorgridcolor": "white",
             "startlinecolor": "#2a3f5f"
            },
            "type": "carpet"
           }
          ],
          "choropleth": [
           {
            "colorbar": {
             "outlinewidth": 0,
             "ticks": ""
            },
            "type": "choropleth"
           }
          ],
          "contour": [
           {
            "colorbar": {
             "outlinewidth": 0,
             "ticks": ""
            },
            "colorscale": [
             [
              0,
              "#0d0887"
             ],
             [
              0.1111111111111111,
              "#46039f"
             ],
             [
              0.2222222222222222,
              "#7201a8"
             ],
             [
              0.3333333333333333,
              "#9c179e"
             ],
             [
              0.4444444444444444,
              "#bd3786"
             ],
             [
              0.5555555555555556,
              "#d8576b"
             ],
             [
              0.6666666666666666,
              "#ed7953"
             ],
             [
              0.7777777777777778,
              "#fb9f3a"
             ],
             [
              0.8888888888888888,
              "#fdca26"
             ],
             [
              1,
              "#f0f921"
             ]
            ],
            "type": "contour"
           }
          ],
          "contourcarpet": [
           {
            "colorbar": {
             "outlinewidth": 0,
             "ticks": ""
            },
            "type": "contourcarpet"
           }
          ],
          "heatmap": [
           {
            "colorbar": {
             "outlinewidth": 0,
             "ticks": ""
            },
            "colorscale": [
             [
              0,
              "#0d0887"
             ],
             [
              0.1111111111111111,
              "#46039f"
             ],
             [
              0.2222222222222222,
              "#7201a8"
             ],
             [
              0.3333333333333333,
              "#9c179e"
             ],
             [
              0.4444444444444444,
              "#bd3786"
             ],
             [
              0.5555555555555556,
              "#d8576b"
             ],
             [
              0.6666666666666666,
              "#ed7953"
             ],
             [
              0.7777777777777778,
              "#fb9f3a"
             ],
             [
              0.8888888888888888,
              "#fdca26"
             ],
             [
              1,
              "#f0f921"
             ]
            ],
            "type": "heatmap"
           }
          ],
          "heatmapgl": [
           {
            "colorbar": {
             "outlinewidth": 0,
             "ticks": ""
            },
            "colorscale": [
             [
              0,
              "#0d0887"
             ],
             [
              0.1111111111111111,
              "#46039f"
             ],
             [
              0.2222222222222222,
              "#7201a8"
             ],
             [
              0.3333333333333333,
              "#9c179e"
             ],
             [
              0.4444444444444444,
              "#bd3786"
             ],
             [
              0.5555555555555556,
              "#d8576b"
             ],
             [
              0.6666666666666666,
              "#ed7953"
             ],
             [
              0.7777777777777778,
              "#fb9f3a"
             ],
             [
              0.8888888888888888,
              "#fdca26"
             ],
             [
              1,
              "#f0f921"
             ]
            ],
            "type": "heatmapgl"
           }
          ],
          "histogram": [
           {
            "marker": {
             "pattern": {
              "fillmode": "overlay",
              "size": 10,
              "solidity": 0.2
             }
            },
            "type": "histogram"
           }
          ],
          "histogram2d": [
           {
            "colorbar": {
             "outlinewidth": 0,
             "ticks": ""
            },
            "colorscale": [
             [
              0,
              "#0d0887"
             ],
             [
              0.1111111111111111,
              "#46039f"
             ],
             [
              0.2222222222222222,
              "#7201a8"
             ],
             [
              0.3333333333333333,
              "#9c179e"
             ],
             [
              0.4444444444444444,
              "#bd3786"
             ],
             [
              0.5555555555555556,
              "#d8576b"
             ],
             [
              0.6666666666666666,
              "#ed7953"
             ],
             [
              0.7777777777777778,
              "#fb9f3a"
             ],
             [
              0.8888888888888888,
              "#fdca26"
             ],
             [
              1,
              "#f0f921"
             ]
            ],
            "type": "histogram2d"
           }
          ],
          "histogram2dcontour": [
           {
            "colorbar": {
             "outlinewidth": 0,
             "ticks": ""
            },
            "colorscale": [
             [
              0,
              "#0d0887"
             ],
             [
              0.1111111111111111,
              "#46039f"
             ],
             [
              0.2222222222222222,
              "#7201a8"
             ],
             [
              0.3333333333333333,
              "#9c179e"
             ],
             [
              0.4444444444444444,
              "#bd3786"
             ],
             [
              0.5555555555555556,
              "#d8576b"
             ],
             [
              0.6666666666666666,
              "#ed7953"
             ],
             [
              0.7777777777777778,
              "#fb9f3a"
             ],
             [
              0.8888888888888888,
              "#fdca26"
             ],
             [
              1,
              "#f0f921"
             ]
            ],
            "type": "histogram2dcontour"
           }
          ],
          "mesh3d": [
           {
            "colorbar": {
             "outlinewidth": 0,
             "ticks": ""
            },
            "type": "mesh3d"
           }
          ],
          "parcoords": [
           {
            "line": {
             "colorbar": {
              "outlinewidth": 0,
              "ticks": ""
             }
            },
            "type": "parcoords"
           }
          ],
          "pie": [
           {
            "automargin": true,
            "type": "pie"
           }
          ],
          "scatter": [
           {
            "fillpattern": {
             "fillmode": "overlay",
             "size": 10,
             "solidity": 0.2
            },
            "type": "scatter"
           }
          ],
          "scatter3d": [
           {
            "line": {
             "colorbar": {
              "outlinewidth": 0,
              "ticks": ""
             }
            },
            "marker": {
             "colorbar": {
              "outlinewidth": 0,
              "ticks": ""
             }
            },
            "type": "scatter3d"
           }
          ],
          "scattercarpet": [
           {
            "marker": {
             "colorbar": {
              "outlinewidth": 0,
              "ticks": ""
             }
            },
            "type": "scattercarpet"
           }
          ],
          "scattergeo": [
           {
            "marker": {
             "colorbar": {
              "outlinewidth": 0,
              "ticks": ""
             }
            },
            "type": "scattergeo"
           }
          ],
          "scattergl": [
           {
            "marker": {
             "colorbar": {
              "outlinewidth": 0,
              "ticks": ""
             }
            },
            "type": "scattergl"
           }
          ],
          "scattermapbox": [
           {
            "marker": {
             "colorbar": {
              "outlinewidth": 0,
              "ticks": ""
             }
            },
            "type": "scattermapbox"
           }
          ],
          "scatterpolar": [
           {
            "marker": {
             "colorbar": {
              "outlinewidth": 0,
              "ticks": ""
             }
            },
            "type": "scatterpolar"
           }
          ],
          "scatterpolargl": [
           {
            "marker": {
             "colorbar": {
              "outlinewidth": 0,
              "ticks": ""
             }
            },
            "type": "scatterpolargl"
           }
          ],
          "scatterternary": [
           {
            "marker": {
             "colorbar": {
              "outlinewidth": 0,
              "ticks": ""
             }
            },
            "type": "scatterternary"
           }
          ],
          "surface": [
           {
            "colorbar": {
             "outlinewidth": 0,
             "ticks": ""
            },
            "colorscale": [
             [
              0,
              "#0d0887"
             ],
             [
              0.1111111111111111,
              "#46039f"
             ],
             [
              0.2222222222222222,
              "#7201a8"
             ],
             [
              0.3333333333333333,
              "#9c179e"
             ],
             [
              0.4444444444444444,
              "#bd3786"
             ],
             [
              0.5555555555555556,
              "#d8576b"
             ],
             [
              0.6666666666666666,
              "#ed7953"
             ],
             [
              0.7777777777777778,
              "#fb9f3a"
             ],
             [
              0.8888888888888888,
              "#fdca26"
             ],
             [
              1,
              "#f0f921"
             ]
            ],
            "type": "surface"
           }
          ],
          "table": [
           {
            "cells": {
             "fill": {
              "color": "#EBF0F8"
             },
             "line": {
              "color": "white"
             }
            },
            "header": {
             "fill": {
              "color": "#C8D4E3"
             },
             "line": {
              "color": "white"
             }
            },
            "type": "table"
           }
          ]
         },
         "layout": {
          "annotationdefaults": {
           "arrowcolor": "#2a3f5f",
           "arrowhead": 0,
           "arrowwidth": 1
          },
          "autotypenumbers": "strict",
          "coloraxis": {
           "colorbar": {
            "outlinewidth": 0,
            "ticks": ""
           }
          },
          "colorscale": {
           "diverging": [
            [
             0,
             "#8e0152"
            ],
            [
             0.1,
             "#c51b7d"
            ],
            [
             0.2,
             "#de77ae"
            ],
            [
             0.3,
             "#f1b6da"
            ],
            [
             0.4,
             "#fde0ef"
            ],
            [
             0.5,
             "#f7f7f7"
            ],
            [
             0.6,
             "#e6f5d0"
            ],
            [
             0.7,
             "#b8e186"
            ],
            [
             0.8,
             "#7fbc41"
            ],
            [
             0.9,
             "#4d9221"
            ],
            [
             1,
             "#276419"
            ]
           ],
           "sequential": [
            [
             0,
             "#0d0887"
            ],
            [
             0.1111111111111111,
             "#46039f"
            ],
            [
             0.2222222222222222,
             "#7201a8"
            ],
            [
             0.3333333333333333,
             "#9c179e"
            ],
            [
             0.4444444444444444,
             "#bd3786"
            ],
            [
             0.5555555555555556,
             "#d8576b"
            ],
            [
             0.6666666666666666,
             "#ed7953"
            ],
            [
             0.7777777777777778,
             "#fb9f3a"
            ],
            [
             0.8888888888888888,
             "#fdca26"
            ],
            [
             1,
             "#f0f921"
            ]
           ],
           "sequentialminus": [
            [
             0,
             "#0d0887"
            ],
            [
             0.1111111111111111,
             "#46039f"
            ],
            [
             0.2222222222222222,
             "#7201a8"
            ],
            [
             0.3333333333333333,
             "#9c179e"
            ],
            [
             0.4444444444444444,
             "#bd3786"
            ],
            [
             0.5555555555555556,
             "#d8576b"
            ],
            [
             0.6666666666666666,
             "#ed7953"
            ],
            [
             0.7777777777777778,
             "#fb9f3a"
            ],
            [
             0.8888888888888888,
             "#fdca26"
            ],
            [
             1,
             "#f0f921"
            ]
           ]
          },
          "colorway": [
           "#636efa",
           "#EF553B",
           "#00cc96",
           "#ab63fa",
           "#FFA15A",
           "#19d3f3",
           "#FF6692",
           "#B6E880",
           "#FF97FF",
           "#FECB52"
          ],
          "font": {
           "color": "#2a3f5f"
          },
          "geo": {
           "bgcolor": "white",
           "lakecolor": "white",
           "landcolor": "#E5ECF6",
           "showlakes": true,
           "showland": true,
           "subunitcolor": "white"
          },
          "hoverlabel": {
           "align": "left"
          },
          "hovermode": "closest",
          "mapbox": {
           "style": "light"
          },
          "paper_bgcolor": "white",
          "plot_bgcolor": "#E5ECF6",
          "polar": {
           "angularaxis": {
            "gridcolor": "white",
            "linecolor": "white",
            "ticks": ""
           },
           "bgcolor": "#E5ECF6",
           "radialaxis": {
            "gridcolor": "white",
            "linecolor": "white",
            "ticks": ""
           }
          },
          "scene": {
           "xaxis": {
            "backgroundcolor": "#E5ECF6",
            "gridcolor": "white",
            "gridwidth": 2,
            "linecolor": "white",
            "showbackground": true,
            "ticks": "",
            "zerolinecolor": "white"
           },
           "yaxis": {
            "backgroundcolor": "#E5ECF6",
            "gridcolor": "white",
            "gridwidth": 2,
            "linecolor": "white",
            "showbackground": true,
            "ticks": "",
            "zerolinecolor": "white"
           },
           "zaxis": {
            "backgroundcolor": "#E5ECF6",
            "gridcolor": "white",
            "gridwidth": 2,
            "linecolor": "white",
            "showbackground": true,
            "ticks": "",
            "zerolinecolor": "white"
           }
          },
          "shapedefaults": {
           "line": {
            "color": "#2a3f5f"
           }
          },
          "ternary": {
           "aaxis": {
            "gridcolor": "white",
            "linecolor": "white",
            "ticks": ""
           },
           "baxis": {
            "gridcolor": "white",
            "linecolor": "white",
            "ticks": ""
           },
           "bgcolor": "#E5ECF6",
           "caxis": {
            "gridcolor": "white",
            "linecolor": "white",
            "ticks": ""
           }
          },
          "title": {
           "x": 0.05
          },
          "xaxis": {
           "automargin": true,
           "gridcolor": "white",
           "linecolor": "white",
           "ticks": "",
           "title": {
            "standoff": 15
           },
           "zerolinecolor": "white",
           "zerolinewidth": 2
          },
          "yaxis": {
           "automargin": true,
           "gridcolor": "white",
           "linecolor": "white",
           "ticks": "",
           "title": {
            "standoff": 15
           },
           "zerolinecolor": "white",
           "zerolinewidth": 2
          }
         }
        },
        "title": {
         "text": "Candlestick chart for $SPY"
        },
        "xaxis": {
         "title": {
          "text": "Date"
         }
        },
        "yaxis": {
         "title": {
          "text": "Price ($USD)"
         }
        }
       }
      },
      "text/html": [
       "<div>                            <div id=\"4d0595ce-6b07-4fb1-91d1-900e7797ece7\" class=\"plotly-graph-div\" style=\"height:525px; width:100%;\"></div>            <script type=\"text/javascript\">                require([\"plotly\"], function(Plotly) {                    window.PLOTLYENV=window.PLOTLYENV || {};                                    if (document.getElementById(\"4d0595ce-6b07-4fb1-91d1-900e7797ece7\")) {                    Plotly.newPlot(                        \"4d0595ce-6b07-4fb1-91d1-900e7797ece7\",                        [{\"close\":[11.87,11.81,213.07,212.93,234.6,234.05],\"high\":[11.93,11.917,216.75,213.41,234.67,235.568],\"low\":[11.55,11.66,212.77,209.58,231.5,233.38],\"open\":[11.81,11.9,213.48,210.21,232.46,235.0],\"x\":[\"2023-04-20T04:00:00+00:00\",\"2023-04-21T04:00:00+00:00\",\"2023-04-20T04:00:00+00:00\",\"2023-04-21T04:00:00+00:00\",\"2023-04-20T04:00:00+00:00\",\"2023-04-21T04:00:00+00:00\"],\"type\":\"candlestick\"}],                        {\"template\":{\"data\":{\"histogram2dcontour\":[{\"type\":\"histogram2dcontour\",\"colorbar\":{\"outlinewidth\":0,\"ticks\":\"\"},\"colorscale\":[[0.0,\"#0d0887\"],[0.1111111111111111,\"#46039f\"],[0.2222222222222222,\"#7201a8\"],[0.3333333333333333,\"#9c179e\"],[0.4444444444444444,\"#bd3786\"],[0.5555555555555556,\"#d8576b\"],[0.6666666666666666,\"#ed7953\"],[0.7777777777777778,\"#fb9f3a\"],[0.8888888888888888,\"#fdca26\"],[1.0,\"#f0f921\"]]}],\"choropleth\":[{\"type\":\"choropleth\",\"colorbar\":{\"outlinewidth\":0,\"ticks\":\"\"}}],\"histogram2d\":[{\"type\":\"histogram2d\",\"colorbar\":{\"outlinewidth\":0,\"ticks\":\"\"},\"colorscale\":[[0.0,\"#0d0887\"],[0.1111111111111111,\"#46039f\"],[0.2222222222222222,\"#7201a8\"],[0.3333333333333333,\"#9c179e\"],[0.4444444444444444,\"#bd3786\"],[0.5555555555555556,\"#d8576b\"],[0.6666666666666666,\"#ed7953\"],[0.7777777777777778,\"#fb9f3a\"],[0.8888888888888888,\"#fdca26\"],[1.0,\"#f0f921\"]]}],\"heatmap\":[{\"type\":\"heatmap\",\"colorbar\":{\"outlinewidth\":0,\"ticks\":\"\"},\"colorscale\":[[0.0,\"#0d0887\"],[0.1111111111111111,\"#46039f\"],[0.2222222222222222,\"#7201a8\"],[0.3333333333333333,\"#9c179e\"],[0.4444444444444444,\"#bd3786\"],[0.5555555555555556,\"#d8576b\"],[0.6666666666666666,\"#ed7953\"],[0.7777777777777778,\"#fb9f3a\"],[0.8888888888888888,\"#fdca26\"],[1.0,\"#f0f921\"]]}],\"heatmapgl\":[{\"type\":\"heatmapgl\",\"colorbar\":{\"outlinewidth\":0,\"ticks\":\"\"},\"colorscale\":[[0.0,\"#0d0887\"],[0.1111111111111111,\"#46039f\"],[0.2222222222222222,\"#7201a8\"],[0.3333333333333333,\"#9c179e\"],[0.4444444444444444,\"#bd3786\"],[0.5555555555555556,\"#d8576b\"],[0.6666666666666666,\"#ed7953\"],[0.7777777777777778,\"#fb9f3a\"],[0.8888888888888888,\"#fdca26\"],[1.0,\"#f0f921\"]]}],\"contourcarpet\":[{\"type\":\"contourcarpet\",\"colorbar\":{\"outlinewidth\":0,\"ticks\":\"\"}}],\"contour\":[{\"type\":\"contour\",\"colorbar\":{\"outlinewidth\":0,\"ticks\":\"\"},\"colorscale\":[[0.0,\"#0d0887\"],[0.1111111111111111,\"#46039f\"],[0.2222222222222222,\"#7201a8\"],[0.3333333333333333,\"#9c179e\"],[0.4444444444444444,\"#bd3786\"],[0.5555555555555556,\"#d8576b\"],[0.6666666666666666,\"#ed7953\"],[0.7777777777777778,\"#fb9f3a\"],[0.8888888888888888,\"#fdca26\"],[1.0,\"#f0f921\"]]}],\"surface\":[{\"type\":\"surface\",\"colorbar\":{\"outlinewidth\":0,\"ticks\":\"\"},\"colorscale\":[[0.0,\"#0d0887\"],[0.1111111111111111,\"#46039f\"],[0.2222222222222222,\"#7201a8\"],[0.3333333333333333,\"#9c179e\"],[0.4444444444444444,\"#bd3786\"],[0.5555555555555556,\"#d8576b\"],[0.6666666666666666,\"#ed7953\"],[0.7777777777777778,\"#fb9f3a\"],[0.8888888888888888,\"#fdca26\"],[1.0,\"#f0f921\"]]}],\"mesh3d\":[{\"type\":\"mesh3d\",\"colorbar\":{\"outlinewidth\":0,\"ticks\":\"\"}}],\"scatter\":[{\"fillpattern\":{\"fillmode\":\"overlay\",\"size\":10,\"solidity\":0.2},\"type\":\"scatter\"}],\"parcoords\":[{\"type\":\"parcoords\",\"line\":{\"colorbar\":{\"outlinewidth\":0,\"ticks\":\"\"}}}],\"scatterpolargl\":[{\"type\":\"scatterpolargl\",\"marker\":{\"colorbar\":{\"outlinewidth\":0,\"ticks\":\"\"}}}],\"bar\":[{\"error_x\":{\"color\":\"#2a3f5f\"},\"error_y\":{\"color\":\"#2a3f5f\"},\"marker\":{\"line\":{\"color\":\"#E5ECF6\",\"width\":0.5},\"pattern\":{\"fillmode\":\"overlay\",\"size\":10,\"solidity\":0.2}},\"type\":\"bar\"}],\"scattergeo\":[{\"type\":\"scattergeo\",\"marker\":{\"colorbar\":{\"outlinewidth\":0,\"ticks\":\"\"}}}],\"scatterpolar\":[{\"type\":\"scatterpolar\",\"marker\":{\"colorbar\":{\"outlinewidth\":0,\"ticks\":\"\"}}}],\"histogram\":[{\"marker\":{\"pattern\":{\"fillmode\":\"overlay\",\"size\":10,\"solidity\":0.2}},\"type\":\"histogram\"}],\"scattergl\":[{\"type\":\"scattergl\",\"marker\":{\"colorbar\":{\"outlinewidth\":0,\"ticks\":\"\"}}}],\"scatter3d\":[{\"type\":\"scatter3d\",\"line\":{\"colorbar\":{\"outlinewidth\":0,\"ticks\":\"\"}},\"marker\":{\"colorbar\":{\"outlinewidth\":0,\"ticks\":\"\"}}}],\"scattermapbox\":[{\"type\":\"scattermapbox\",\"marker\":{\"colorbar\":{\"outlinewidth\":0,\"ticks\":\"\"}}}],\"scatterternary\":[{\"type\":\"scatterternary\",\"marker\":{\"colorbar\":{\"outlinewidth\":0,\"ticks\":\"\"}}}],\"scattercarpet\":[{\"type\":\"scattercarpet\",\"marker\":{\"colorbar\":{\"outlinewidth\":0,\"ticks\":\"\"}}}],\"carpet\":[{\"aaxis\":{\"endlinecolor\":\"#2a3f5f\",\"gridcolor\":\"white\",\"linecolor\":\"white\",\"minorgridcolor\":\"white\",\"startlinecolor\":\"#2a3f5f\"},\"baxis\":{\"endlinecolor\":\"#2a3f5f\",\"gridcolor\":\"white\",\"linecolor\":\"white\",\"minorgridcolor\":\"white\",\"startlinecolor\":\"#2a3f5f\"},\"type\":\"carpet\"}],\"table\":[{\"cells\":{\"fill\":{\"color\":\"#EBF0F8\"},\"line\":{\"color\":\"white\"}},\"header\":{\"fill\":{\"color\":\"#C8D4E3\"},\"line\":{\"color\":\"white\"}},\"type\":\"table\"}],\"barpolar\":[{\"marker\":{\"line\":{\"color\":\"#E5ECF6\",\"width\":0.5},\"pattern\":{\"fillmode\":\"overlay\",\"size\":10,\"solidity\":0.2}},\"type\":\"barpolar\"}],\"pie\":[{\"automargin\":true,\"type\":\"pie\"}]},\"layout\":{\"autotypenumbers\":\"strict\",\"colorway\":[\"#636efa\",\"#EF553B\",\"#00cc96\",\"#ab63fa\",\"#FFA15A\",\"#19d3f3\",\"#FF6692\",\"#B6E880\",\"#FF97FF\",\"#FECB52\"],\"font\":{\"color\":\"#2a3f5f\"},\"hovermode\":\"closest\",\"hoverlabel\":{\"align\":\"left\"},\"paper_bgcolor\":\"white\",\"plot_bgcolor\":\"#E5ECF6\",\"polar\":{\"bgcolor\":\"#E5ECF6\",\"angularaxis\":{\"gridcolor\":\"white\",\"linecolor\":\"white\",\"ticks\":\"\"},\"radialaxis\":{\"gridcolor\":\"white\",\"linecolor\":\"white\",\"ticks\":\"\"}},\"ternary\":{\"bgcolor\":\"#E5ECF6\",\"aaxis\":{\"gridcolor\":\"white\",\"linecolor\":\"white\",\"ticks\":\"\"},\"baxis\":{\"gridcolor\":\"white\",\"linecolor\":\"white\",\"ticks\":\"\"},\"caxis\":{\"gridcolor\":\"white\",\"linecolor\":\"white\",\"ticks\":\"\"}},\"coloraxis\":{\"colorbar\":{\"outlinewidth\":0,\"ticks\":\"\"}},\"colorscale\":{\"sequential\":[[0.0,\"#0d0887\"],[0.1111111111111111,\"#46039f\"],[0.2222222222222222,\"#7201a8\"],[0.3333333333333333,\"#9c179e\"],[0.4444444444444444,\"#bd3786\"],[0.5555555555555556,\"#d8576b\"],[0.6666666666666666,\"#ed7953\"],[0.7777777777777778,\"#fb9f3a\"],[0.8888888888888888,\"#fdca26\"],[1.0,\"#f0f921\"]],\"sequentialminus\":[[0.0,\"#0d0887\"],[0.1111111111111111,\"#46039f\"],[0.2222222222222222,\"#7201a8\"],[0.3333333333333333,\"#9c179e\"],[0.4444444444444444,\"#bd3786\"],[0.5555555555555556,\"#d8576b\"],[0.6666666666666666,\"#ed7953\"],[0.7777777777777778,\"#fb9f3a\"],[0.8888888888888888,\"#fdca26\"],[1.0,\"#f0f921\"]],\"diverging\":[[0,\"#8e0152\"],[0.1,\"#c51b7d\"],[0.2,\"#de77ae\"],[0.3,\"#f1b6da\"],[0.4,\"#fde0ef\"],[0.5,\"#f7f7f7\"],[0.6,\"#e6f5d0\"],[0.7,\"#b8e186\"],[0.8,\"#7fbc41\"],[0.9,\"#4d9221\"],[1,\"#276419\"]]},\"xaxis\":{\"gridcolor\":\"white\",\"linecolor\":\"white\",\"ticks\":\"\",\"title\":{\"standoff\":15},\"zerolinecolor\":\"white\",\"automargin\":true,\"zerolinewidth\":2},\"yaxis\":{\"gridcolor\":\"white\",\"linecolor\":\"white\",\"ticks\":\"\",\"title\":{\"standoff\":15},\"zerolinecolor\":\"white\",\"automargin\":true,\"zerolinewidth\":2},\"scene\":{\"xaxis\":{\"backgroundcolor\":\"#E5ECF6\",\"gridcolor\":\"white\",\"linecolor\":\"white\",\"showbackground\":true,\"ticks\":\"\",\"zerolinecolor\":\"white\",\"gridwidth\":2},\"yaxis\":{\"backgroundcolor\":\"#E5ECF6\",\"gridcolor\":\"white\",\"linecolor\":\"white\",\"showbackground\":true,\"ticks\":\"\",\"zerolinecolor\":\"white\",\"gridwidth\":2},\"zaxis\":{\"backgroundcolor\":\"#E5ECF6\",\"gridcolor\":\"white\",\"linecolor\":\"white\",\"showbackground\":true,\"ticks\":\"\",\"zerolinecolor\":\"white\",\"gridwidth\":2}},\"shapedefaults\":{\"line\":{\"color\":\"#2a3f5f\"}},\"annotationdefaults\":{\"arrowcolor\":\"#2a3f5f\",\"arrowhead\":0,\"arrowwidth\":1},\"geo\":{\"bgcolor\":\"white\",\"landcolor\":\"#E5ECF6\",\"subunitcolor\":\"white\",\"showland\":true,\"showlakes\":true,\"lakecolor\":\"white\"},\"title\":{\"x\":0.05},\"mapbox\":{\"style\":\"light\"}}},\"title\":{\"text\":\"Candlestick chart for $SPY\"},\"xaxis\":{\"title\":{\"text\":\"Date\"}},\"yaxis\":{\"title\":{\"text\":\"Price ($USD)\"}}},                        {\"responsive\": true}                    ).then(function(){\n",
       "                            \n",
       "var gd = document.getElementById('4d0595ce-6b07-4fb1-91d1-900e7797ece7');\n",
       "var x = new MutationObserver(function (mutations, observer) {{\n",
       "        var display = window.getComputedStyle(gd).display;\n",
       "        if (!display || display === 'none') {{\n",
       "            console.log([gd, 'removed!']);\n",
       "            Plotly.purge(gd);\n",
       "            observer.disconnect();\n",
       "        }}\n",
       "}});\n",
       "\n",
       "// Listen for the removal of the full notebook cells\n",
       "var notebookContainer = gd.closest('#notebook-container');\n",
       "if (notebookContainer) {{\n",
       "    x.observe(notebookContainer, {childList: true});\n",
       "}}\n",
       "\n",
       "// Listen for the clearing of the current output cell\n",
       "var outputEl = gd.closest('.output');\n",
       "if (outputEl) {{\n",
       "    x.observe(outputEl, {childList: true});\n",
       "}}\n",
       "\n",
       "                        })                };                });            </script>        </div>"
      ]
     },
     "metadata": {},
     "output_type": "display_data"
    },
    {
     "ename": "NameError",
     "evalue": "name 'bars' is not defined",
     "output_type": "error",
     "traceback": [
      "\u001b[1;31m---------------------------------------------------------------------------\u001b[0m",
      "\u001b[1;31mNameError\u001b[0m                                 Traceback (most recent call last)",
      "Cell \u001b[1;32mIn[13], line 40\u001b[0m\n\u001b[0;32m     37\u001b[0m candlestick_fig\u001b[38;5;241m.\u001b[39mshow()\n\u001b[0;32m     39\u001b[0m \u001b[38;5;66;03m# Assigning new variables for each symbol contained in our response\u001b[39;00m\n\u001b[1;32m---> 40\u001b[0m a_bars \u001b[38;5;241m=\u001b[39m \u001b[43mbars\u001b[49m\u001b[38;5;241m.\u001b[39mloc[bars[\u001b[38;5;124m\"\u001b[39m\u001b[38;5;124msymbol\u001b[39m\u001b[38;5;124m\"\u001b[39m] \u001b[38;5;241m==\u001b[39m \u001b[38;5;124m\"\u001b[39m\u001b[38;5;124mF\u001b[39m\u001b[38;5;124m\"\u001b[39m]\n\u001b[0;32m     41\u001b[0m b_bars \u001b[38;5;241m=\u001b[39m bars\u001b[38;5;241m.\u001b[39mloc[bars[\u001b[38;5;124m\"\u001b[39m\u001b[38;5;124msymbol\u001b[39m\u001b[38;5;124m\"\u001b[39m] \u001b[38;5;241m==\u001b[39m \u001b[38;5;124m\"\u001b[39m\u001b[38;5;124mMETA\u001b[39m\u001b[38;5;124m\"\u001b[39m]\n\u001b[0;32m     42\u001b[0m c_bars \u001b[38;5;241m=\u001b[39m bars\u001b[38;5;241m.\u001b[39mloc[bars[\u001b[38;5;124m\"\u001b[39m\u001b[38;5;124msymbol\u001b[39m\u001b[38;5;124m\"\u001b[39m] \u001b[38;5;241m==\u001b[39m \u001b[38;5;124m\"\u001b[39m\u001b[38;5;124mV\u001b[39m\u001b[38;5;124m\"\u001b[39m]\n",
      "\u001b[1;31mNameError\u001b[0m: name 'bars' is not defined"
     ]
    }
   ],
   "source": [
    "#Reference Alpaca API and Create General Bid Ask Chart Structures\n",
    "#From \n",
    "from dotenv import load_dotenv\n",
    "import plotly.graph_objects as go\n",
    "import plotly.express as px\n",
    "import alpaca_trade_api as api\n",
    "import os\n",
    "\n",
    "# First get the values of any environment variables we need\n",
    "load_dotenv('a.env')\n",
    "os.environ.get('ALPACA_KEY_ID')\n",
    "os.environ.get('ALPACA_SECRETS_ID')\n",
    "\n",
    "API_KEY = ALPACA_KEY_ID\n",
    "API_SECRET = ALPACA_SECRETS_ID\n",
    "alpaca = api.REST(API_KEY, API_SECRET)\n",
    "\n",
    "# Setting parameters before calling method\n",
    "symbols = [\"F\", \"META\", \"V\"]\n",
    "timeframe = \"1Day\"\n",
    "start = \"2023-04-20\"\n",
    "end = \"2023-04-21\"\n",
    "# Retrieve daily bars for SPY in a dataframe and printing the first 5 rows\n",
    "spy_bars = alpaca.get_bars(symbols, timeframe, start, end).df\n",
    "print(spy_bars.head())\n",
    "\n",
    "# Bar data candlestick plot\n",
    "candlestick_fig = go.Figure(data=[go.Candlestick(x=spy_bars.index,\n",
    "               open=spy_bars['open'],\n",
    "               high=spy_bars['high'],\n",
    "               low=spy_bars['low'],\n",
    "               close=spy_bars['close'])])\n",
    "candlestick_fig.update_layout(\n",
    "    title=\"Candlestick chart for {symbol}\",\n",
    "    xaxis_title=\"Date\",\n",
    "    yaxis_title=\"Price ($USD)\")\n",
    "candlestick_fig.show()\n"
   ]
  },
  {
   "cell_type": "code",
   "execution_count": 14,
   "id": "7a7aa747",
   "metadata": {},
   "outputs": [
    {
     "name": "stdout",
     "output_type": "stream",
     "text": [
      "                            open    high    low  close    volume  trade_count  \\\n",
      "timestamp                                                                       \n",
      "2023-04-20 04:00:00+00:00  11.81  11.930  11.55  11.87  79562705       204083   \n",
      "2023-04-21 04:00:00+00:00  11.90  11.917  11.66  11.81  46214104       120074   \n",
      "\n",
      "                                vwap symbol  \n",
      "timestamp                                    \n",
      "2023-04-20 04:00:00+00:00  11.771457      F  \n",
      "2023-04-21 04:00:00+00:00  11.789667      F  \n",
      "                             open    high     low   close    volume  \\\n",
      "timestamp                                                             \n",
      "2023-04-20 04:00:00+00:00  213.48  216.75  212.77  213.07  16475443   \n",
      "2023-04-21 04:00:00+00:00  210.21  213.41  209.58  212.93  16528732   \n",
      "\n",
      "                           trade_count        vwap symbol  \n",
      "timestamp                                                  \n",
      "2023-04-20 04:00:00+00:00       200685  214.440003   META  \n",
      "2023-04-21 04:00:00+00:00       201231  211.902695   META  \n",
      "                             open     high     low   close   volume  \\\n",
      "timestamp                                                             \n",
      "2023-04-20 04:00:00+00:00  232.46  234.670  231.50  234.60  4925659   \n",
      "2023-04-21 04:00:00+00:00  235.00  235.568  233.38  234.05  6673831   \n",
      "\n",
      "                           trade_count        vwap symbol  \n",
      "timestamp                                                  \n",
      "2023-04-20 04:00:00+00:00        76217  233.817971      V  \n",
      "2023-04-21 04:00:00+00:00        79530  234.489485      V  \n"
     ]
    }
   ],
   "source": [
    "#Reference Alpaca API and Create General Bid Ask Chart Structures\n",
    "#From \n",
    "from dotenv import load_dotenv\n",
    "import plotly.graph_objects as go\n",
    "import plotly.express as px\n",
    "import alpaca_trade_api as api\n",
    "import os\n",
    "\n",
    "# First get the values of any environment variables we need\n",
    "load_dotenv('a.env')\n",
    "os.environ.get('ALPACA_KEY_ID')\n",
    "os.environ.get('ALPACA_SECRETS_ID')\n",
    "\n",
    "API_KEY = ALPACA_KEY_ID\n",
    "API_SECRET = ALPACA_SECRETS_ID\n",
    "alpaca = api.REST(API_KEY, API_SECRET)\n",
    "\n",
    "# Setting parameters before calling method\n",
    "symbols = [\"F\", \"META\", \"V\"]\n",
    "timeframe = \"1Day\"\n",
    "start = \"2023-04-20\"\n",
    "end = \"2023-04-21\"\n",
    "# Retrieve daily bars for SPY in a dataframe and printing the first 5 rows\n",
    "\n",
    "# Retrieve daily bars for SPY, TSLA, and AAPL in a DataFrame\n",
    "bars = alpaca.get_bars(symbols, timeframe, start, end).df\n",
    "\n",
    "# Assigning new variables for each symbol contained in our response\n",
    "a_bars = bars.loc[bars[\"symbol\"] == \"F\"]\n",
    "b_bars = bars.loc[bars[\"symbol\"] == \"META\"]\n",
    "c_bars = bars.loc[bars[\"symbol\"] == \"V\"]\n",
    "print(a_bars.head(2))\n",
    "print(b_bars.head(2))\n",
    "print(c_bars.head(2))"
   ]
  },
  {
   "cell_type": "code",
   "execution_count": 17,
   "id": "a572db2f",
   "metadata": {},
   "outputs": [
    {
     "name": "stdout",
     "output_type": "stream",
     "text": [
      "Empty DataFrame\n",
      "Columns: []\n",
      "Index: []\n"
     ]
    },
    {
     "ename": "ValueError",
     "evalue": "Value of 'x' is not the name of a column in 'data_frame'. Expected one of [] but received: exchange",
     "output_type": "error",
     "traceback": [
      "\u001b[1;31m---------------------------------------------------------------------------\u001b[0m",
      "\u001b[1;31mValueError\u001b[0m                                Traceback (most recent call last)",
      "Cell \u001b[1;32mIn[17], line 27\u001b[0m\n\u001b[0;32m     23\u001b[0m \u001b[38;5;28mprint\u001b[39m(aapl_trades)\n\u001b[0;32m     25\u001b[0m \u001b[38;5;66;03m#Create Histogram\u001b[39;00m\n\u001b[0;32m     26\u001b[0m \u001b[38;5;66;03m# AAPL trade exchange histogram\u001b[39;00m\n\u001b[1;32m---> 27\u001b[0m exchange_histogram \u001b[38;5;241m=\u001b[39m \u001b[43mpx\u001b[49m\u001b[38;5;241;43m.\u001b[39;49m\u001b[43mhistogram\u001b[49m\u001b[43m(\u001b[49m\u001b[43maapl_trades\u001b[49m\u001b[43m,\u001b[49m\u001b[43m \u001b[49m\u001b[43mx\u001b[49m\u001b[38;5;241;43m=\u001b[39;49m\u001b[38;5;124;43m\"\u001b[39;49m\u001b[38;5;124;43mexchange\u001b[39;49m\u001b[38;5;124;43m\"\u001b[39;49m\u001b[43m)\u001b[49m\n\u001b[0;32m     28\u001b[0m exchange_histogram\u001b[38;5;241m.\u001b[39mupdate_layout(\n\u001b[0;32m     29\u001b[0m     title\u001b[38;5;241m=\u001b[39m\u001b[38;5;124m\"\u001b[39m\u001b[38;5;124mFrequency of exchanges in the first 10,000 trades of $AAPL on January 19, 2022\u001b[39m\u001b[38;5;124m\"\u001b[39m,\n\u001b[0;32m     30\u001b[0m     yaxis_title\u001b[38;5;241m=\u001b[39m\u001b[38;5;124m\"\u001b[39m\u001b[38;5;124mNumber of trades\u001b[39m\u001b[38;5;124m\"\u001b[39m,\n\u001b[0;32m     31\u001b[0m     xaxis_title\u001b[38;5;241m=\u001b[39m\u001b[38;5;124m\"\u001b[39m\u001b[38;5;124mExchange\u001b[39m\u001b[38;5;124m\"\u001b[39m)\n\u001b[0;32m     32\u001b[0m exchange_histogram\u001b[38;5;241m.\u001b[39mshow()\n",
      "File \u001b[1;32mD:\\Anaconda\\lib\\site-packages\\plotly\\express\\_chart_types.py:480\u001b[0m, in \u001b[0;36mhistogram\u001b[1;34m(data_frame, x, y, color, pattern_shape, facet_row, facet_col, facet_col_wrap, facet_row_spacing, facet_col_spacing, hover_name, hover_data, animation_frame, animation_group, category_orders, labels, color_discrete_sequence, color_discrete_map, pattern_shape_sequence, pattern_shape_map, marginal, opacity, orientation, barmode, barnorm, histnorm, log_x, log_y, range_x, range_y, histfunc, cumulative, nbins, text_auto, title, template, width, height)\u001b[0m\n\u001b[0;32m    434\u001b[0m \u001b[38;5;28;01mdef\u001b[39;00m \u001b[38;5;21mhistogram\u001b[39m(\n\u001b[0;32m    435\u001b[0m     data_frame\u001b[38;5;241m=\u001b[39m\u001b[38;5;28;01mNone\u001b[39;00m,\n\u001b[0;32m    436\u001b[0m     x\u001b[38;5;241m=\u001b[39m\u001b[38;5;28;01mNone\u001b[39;00m,\n\u001b[1;32m   (...)\u001b[0m\n\u001b[0;32m    472\u001b[0m     height\u001b[38;5;241m=\u001b[39m\u001b[38;5;28;01mNone\u001b[39;00m,\n\u001b[0;32m    473\u001b[0m ) \u001b[38;5;241m-\u001b[39m\u001b[38;5;241m>\u001b[39m go\u001b[38;5;241m.\u001b[39mFigure:\n\u001b[0;32m    474\u001b[0m     \u001b[38;5;124;03m\"\"\"\u001b[39;00m\n\u001b[0;32m    475\u001b[0m \u001b[38;5;124;03m    In a histogram, rows of `data_frame` are grouped together into a\u001b[39;00m\n\u001b[0;32m    476\u001b[0m \u001b[38;5;124;03m    rectangular mark to visualize the 1D distribution of an aggregate\u001b[39;00m\n\u001b[0;32m    477\u001b[0m \u001b[38;5;124;03m    function `histfunc` (e.g. the count or sum) of the value `y` (or `x` if\u001b[39;00m\n\u001b[0;32m    478\u001b[0m \u001b[38;5;124;03m    `orientation` is `'h'`).\u001b[39;00m\n\u001b[0;32m    479\u001b[0m \u001b[38;5;124;03m    \"\"\"\u001b[39;00m\n\u001b[1;32m--> 480\u001b[0m     \u001b[38;5;28;01mreturn\u001b[39;00m \u001b[43mmake_figure\u001b[49m\u001b[43m(\u001b[49m\n\u001b[0;32m    481\u001b[0m \u001b[43m        \u001b[49m\u001b[43margs\u001b[49m\u001b[38;5;241;43m=\u001b[39;49m\u001b[38;5;28;43mlocals\u001b[39;49m\u001b[43m(\u001b[49m\u001b[43m)\u001b[49m\u001b[43m,\u001b[49m\n\u001b[0;32m    482\u001b[0m \u001b[43m        \u001b[49m\u001b[43mconstructor\u001b[49m\u001b[38;5;241;43m=\u001b[39;49m\u001b[43mgo\u001b[49m\u001b[38;5;241;43m.\u001b[39;49m\u001b[43mHistogram\u001b[49m\u001b[43m,\u001b[49m\n\u001b[0;32m    483\u001b[0m \u001b[43m        \u001b[49m\u001b[43mtrace_patch\u001b[49m\u001b[38;5;241;43m=\u001b[39;49m\u001b[38;5;28;43mdict\u001b[39;49m\u001b[43m(\u001b[49m\n\u001b[0;32m    484\u001b[0m \u001b[43m            \u001b[49m\u001b[43mhistnorm\u001b[49m\u001b[38;5;241;43m=\u001b[39;49m\u001b[43mhistnorm\u001b[49m\u001b[43m,\u001b[49m\n\u001b[0;32m    485\u001b[0m \u001b[43m            \u001b[49m\u001b[43mhistfunc\u001b[49m\u001b[38;5;241;43m=\u001b[39;49m\u001b[43mhistfunc\u001b[49m\u001b[43m,\u001b[49m\n\u001b[0;32m    486\u001b[0m \u001b[43m            \u001b[49m\u001b[43mcumulative\u001b[49m\u001b[38;5;241;43m=\u001b[39;49m\u001b[38;5;28;43mdict\u001b[39;49m\u001b[43m(\u001b[49m\u001b[43menabled\u001b[49m\u001b[38;5;241;43m=\u001b[39;49m\u001b[43mcumulative\u001b[49m\u001b[43m)\u001b[49m\u001b[43m,\u001b[49m\n\u001b[0;32m    487\u001b[0m \u001b[43m        \u001b[49m\u001b[43m)\u001b[49m\u001b[43m,\u001b[49m\n\u001b[0;32m    488\u001b[0m \u001b[43m        \u001b[49m\u001b[43mlayout_patch\u001b[49m\u001b[38;5;241;43m=\u001b[39;49m\u001b[38;5;28;43mdict\u001b[39;49m\u001b[43m(\u001b[49m\u001b[43mbarmode\u001b[49m\u001b[38;5;241;43m=\u001b[39;49m\u001b[43mbarmode\u001b[49m\u001b[43m,\u001b[49m\u001b[43m \u001b[49m\u001b[43mbarnorm\u001b[49m\u001b[38;5;241;43m=\u001b[39;49m\u001b[43mbarnorm\u001b[49m\u001b[43m)\u001b[49m\u001b[43m,\u001b[49m\n\u001b[0;32m    489\u001b[0m \u001b[43m    \u001b[49m\u001b[43m)\u001b[49m\n",
      "File \u001b[1;32mD:\\Anaconda\\lib\\site-packages\\plotly\\express\\_core.py:1990\u001b[0m, in \u001b[0;36mmake_figure\u001b[1;34m(args, constructor, trace_patch, layout_patch)\u001b[0m\n\u001b[0;32m   1987\u001b[0m layout_patch \u001b[38;5;241m=\u001b[39m layout_patch \u001b[38;5;129;01mor\u001b[39;00m {}\n\u001b[0;32m   1988\u001b[0m apply_default_cascade(args)\n\u001b[1;32m-> 1990\u001b[0m args \u001b[38;5;241m=\u001b[39m \u001b[43mbuild_dataframe\u001b[49m\u001b[43m(\u001b[49m\u001b[43margs\u001b[49m\u001b[43m,\u001b[49m\u001b[43m \u001b[49m\u001b[43mconstructor\u001b[49m\u001b[43m)\u001b[49m\n\u001b[0;32m   1991\u001b[0m \u001b[38;5;28;01mif\u001b[39;00m constructor \u001b[38;5;129;01min\u001b[39;00m [go\u001b[38;5;241m.\u001b[39mTreemap, go\u001b[38;5;241m.\u001b[39mSunburst, go\u001b[38;5;241m.\u001b[39mIcicle] \u001b[38;5;129;01mand\u001b[39;00m args[\u001b[38;5;124m\"\u001b[39m\u001b[38;5;124mpath\u001b[39m\u001b[38;5;124m\"\u001b[39m] \u001b[38;5;129;01mis\u001b[39;00m \u001b[38;5;129;01mnot\u001b[39;00m \u001b[38;5;28;01mNone\u001b[39;00m:\n\u001b[0;32m   1992\u001b[0m     args \u001b[38;5;241m=\u001b[39m process_dataframe_hierarchy(args)\n",
      "File \u001b[1;32mD:\\Anaconda\\lib\\site-packages\\plotly\\express\\_core.py:1405\u001b[0m, in \u001b[0;36mbuild_dataframe\u001b[1;34m(args, constructor)\u001b[0m\n\u001b[0;32m   1402\u001b[0m     args[\u001b[38;5;124m\"\u001b[39m\u001b[38;5;124mcolor\u001b[39m\u001b[38;5;124m\"\u001b[39m] \u001b[38;5;241m=\u001b[39m \u001b[38;5;28;01mNone\u001b[39;00m\n\u001b[0;32m   1403\u001b[0m \u001b[38;5;66;03m# now that things have been prepped, we do the systematic rewriting of `args`\u001b[39;00m\n\u001b[1;32m-> 1405\u001b[0m df_output, wide_id_vars \u001b[38;5;241m=\u001b[39m \u001b[43mprocess_args_into_dataframe\u001b[49m\u001b[43m(\u001b[49m\n\u001b[0;32m   1406\u001b[0m \u001b[43m    \u001b[49m\u001b[43margs\u001b[49m\u001b[43m,\u001b[49m\u001b[43m \u001b[49m\u001b[43mwide_mode\u001b[49m\u001b[43m,\u001b[49m\u001b[43m \u001b[49m\u001b[43mvar_name\u001b[49m\u001b[43m,\u001b[49m\u001b[43m \u001b[49m\u001b[43mvalue_name\u001b[49m\n\u001b[0;32m   1407\u001b[0m \u001b[43m\u001b[49m\u001b[43m)\u001b[49m\n\u001b[0;32m   1409\u001b[0m \u001b[38;5;66;03m# now that `df_output` exists and `args` contains only references, we complete\u001b[39;00m\n\u001b[0;32m   1410\u001b[0m \u001b[38;5;66;03m# the special-case and wide-mode handling by further rewriting args and/or mutating\u001b[39;00m\n\u001b[0;32m   1411\u001b[0m \u001b[38;5;66;03m# df_output\u001b[39;00m\n\u001b[0;32m   1413\u001b[0m count_name \u001b[38;5;241m=\u001b[39m _escape_col_name(df_output, \u001b[38;5;124m\"\u001b[39m\u001b[38;5;124mcount\u001b[39m\u001b[38;5;124m\"\u001b[39m, [var_name, value_name])\n",
      "File \u001b[1;32mD:\\Anaconda\\lib\\site-packages\\plotly\\express\\_core.py:1207\u001b[0m, in \u001b[0;36mprocess_args_into_dataframe\u001b[1;34m(args, wide_mode, var_name, value_name)\u001b[0m\n\u001b[0;32m   1205\u001b[0m         \u001b[38;5;28;01mif\u001b[39;00m argument \u001b[38;5;241m==\u001b[39m \u001b[38;5;124m\"\u001b[39m\u001b[38;5;124mindex\u001b[39m\u001b[38;5;124m\"\u001b[39m:\n\u001b[0;32m   1206\u001b[0m             err_msg \u001b[38;5;241m+\u001b[39m\u001b[38;5;241m=\u001b[39m \u001b[38;5;124m\"\u001b[39m\u001b[38;5;130;01m\\n\u001b[39;00m\u001b[38;5;124m To use the index, pass it in directly as `df.index`.\u001b[39m\u001b[38;5;124m\"\u001b[39m\n\u001b[1;32m-> 1207\u001b[0m         \u001b[38;5;28;01mraise\u001b[39;00m \u001b[38;5;167;01mValueError\u001b[39;00m(err_msg)\n\u001b[0;32m   1208\u001b[0m \u001b[38;5;28;01melif\u001b[39;00m length \u001b[38;5;129;01mand\u001b[39;00m \u001b[38;5;28mlen\u001b[39m(df_input[argument]) \u001b[38;5;241m!=\u001b[39m length:\n\u001b[0;32m   1209\u001b[0m     \u001b[38;5;28;01mraise\u001b[39;00m \u001b[38;5;167;01mValueError\u001b[39;00m(\n\u001b[0;32m   1210\u001b[0m         \u001b[38;5;124m\"\u001b[39m\u001b[38;5;124mAll arguments should have the same length. \u001b[39m\u001b[38;5;124m\"\u001b[39m\n\u001b[0;32m   1211\u001b[0m         \u001b[38;5;124m\"\u001b[39m\u001b[38;5;124mThe length of column argument `df[\u001b[39m\u001b[38;5;132;01m%s\u001b[39;00m\u001b[38;5;124m]` is \u001b[39m\u001b[38;5;132;01m%d\u001b[39;00m\u001b[38;5;124m, whereas the \u001b[39m\u001b[38;5;124m\"\u001b[39m\n\u001b[1;32m   (...)\u001b[0m\n\u001b[0;32m   1218\u001b[0m         )\n\u001b[0;32m   1219\u001b[0m     )\n",
      "\u001b[1;31mValueError\u001b[0m: Value of 'x' is not the name of a column in 'data_frame'. Expected one of [] but received: exchange"
     ]
    }
   ],
   "source": [
    "#Trade Analyzer\n",
    "#Reference Alpaca API and Create General Bid Ask Chart Structures\n",
    "#From \n",
    "from dotenv import load_dotenv\n",
    "import plotly.graph_objects as go\n",
    "import plotly.express as px\n",
    "import alpaca_trade_api as api\n",
    "import os\n",
    "\n",
    "# First get the values of any environment variables we need\n",
    "load_dotenv('a.env')\n",
    "os.environ.get('ALPACA_KEY_ID')\n",
    "os.environ.get('ALPACA_SECRETS_ID')\n",
    "\n",
    "API_KEY = ALPACA_KEY_ID\n",
    "API_SECRET = ALPACA_SECRETS_ID\n",
    "alpaca = api.REST(API_KEY, API_SECRET)\n",
    "# Setting parameters before calling method\n",
    "symbol = \"V\"\n",
    "limit = 25\n",
    "# Retrieve trades for Apple in a dataframe and printing the first 5 rows\n",
    "aapl_trades = alpaca.get_trades(symbol, limit=limit).df\n",
    "print(aapl_trades)\n",
    "\n",
    "#Create Histogram\n",
    "# AAPL trade exchange histogram\n",
    "exchange_histogram = px.histogram(aapl_trades, x=\"exchange\")\n",
    "exchange_histogram.update_layout(\n",
    "    title=\"Frequency of exchanges in the first 10,000 trades of $AAPL on January 19, 2022\",\n",
    "    yaxis_title=\"Number of trades\",\n",
    "    xaxis_title=\"Exchange\")\n",
    "exchange_histogram.show()\n"
   ]
  },
  {
   "cell_type": "code",
   "execution_count": null,
   "id": "f211678b",
   "metadata": {},
   "outputs": [],
   "source": [
    "#Quote Analysis\n",
    "#Reference Alpaca API and Create General Bid Ask Chart Structures\n",
    "#From \n",
    "from dotenv import load_dotenv\n",
    "import plotly.graph_objects as go\n",
    "import plotly.express as px\n",
    "import alpaca_trade_api as api\n",
    "import os\n",
    "\n",
    "# First get the values of any environment variables we need\n",
    "load_dotenv('a.env')\n",
    "os.environ.get('ALPACA_KEY_ID')\n",
    "os.environ.get('ALPACA_SECRETS_ID')\n",
    "\n",
    "API_KEY = ALPACA_KEY_ID\n",
    "API_SECRET = ALPACA_SECRETS_ID\n",
    "alpaca = api.REST(API_KEY, API_SECRET)\n",
    "# Setting parameters before calling method\n",
    "\n",
    "\n",
    "\n",
    "# Setting parameters for method call\n",
    "symbol = \"SHOP\"\n",
    "start = \"2021-01-04T14:30:00Z\"\n",
    "end = \"2021-01-04T21:00:00Z\"\n",
    "limit = 1000\n",
    "# Get Shopify quotes in a dataframe and print the first 5 rows\n",
    "shop_quotes = alpaca.get_quotes(symbol, start, end, limit).df\n",
    "print(shop_quotes.head())\n"
   ]
  },
  {
   "cell_type": "code",
   "execution_count": 19,
   "id": "82645932",
   "metadata": {},
   "outputs": [
    {
     "data": {
      "application/vnd.plotly.v1+json": {
       "config": {
        "plotlyServerURL": "https://plot.ly"
       },
       "data": [
        {
         "hovertemplate": "timestamp=%{x}<br>y=%{y}<extra></extra>",
         "legendgroup": "",
         "line": {
          "color": "#636efa",
          "dash": "solid"
         },
         "marker": {
          "symbol": "circle"
         },
         "mode": "lines",
         "name": "",
         "orientation": "v",
         "showlegend": false,
         "type": "scatter",
         "x": [
          "2023-04-04T14:30:00.007710+00:00",
          "2023-04-04T14:30:00.007742+00:00",
          "2023-04-04T14:30:00.008409+00:00",
          "2023-04-04T14:30:00.024230+00:00",
          "2023-04-04T14:30:00.024762+00:00",
          "2023-04-04T14:30:00.024841+00:00",
          "2023-04-04T14:30:00.024843+00:00",
          "2023-04-04T14:30:00.024932+00:00",
          "2023-04-04T14:30:00.025065+00:00",
          "2023-04-04T14:30:00.025320+00:00",
          "2023-04-04T14:30:00.026172+00:00",
          "2023-04-04T14:30:00.027901+00:00",
          "2023-04-04T14:30:00.027910+00:00",
          "2023-04-04T14:30:00.039905+00:00",
          "2023-04-04T14:30:00.104685+00:00",
          "2023-04-04T14:30:00.114095+00:00",
          "2023-04-04T14:30:00.146442+00:00",
          "2023-04-04T14:30:00.146478+00:00",
          "2023-04-04T14:30:00.146814+00:00",
          "2023-04-04T14:30:00.147441+00:00",
          "2023-04-04T14:30:00.148964+00:00",
          "2023-04-04T14:30:00.151694+00:00",
          "2023-04-04T14:30:00.152002+00:00",
          "2023-04-04T14:30:00.152033+00:00",
          "2023-04-04T14:30:00.152154+00:00",
          "2023-04-04T14:30:00.153566+00:00",
          "2023-04-04T14:30:00.155091+00:00",
          "2023-04-04T14:30:00.165361+00:00",
          "2023-04-04T14:30:00.216896+00:00",
          "2023-04-04T14:30:00.227331+00:00",
          "2023-04-04T14:30:00.256836+00:00",
          "2023-04-04T14:30:00.256869+00:00",
          "2023-04-04T14:30:00.257853+00:00",
          "2023-04-04T14:30:00.257933+00:00",
          "2023-04-04T14:30:00.257966+00:00",
          "2023-04-04T14:30:00.258505+00:00",
          "2023-04-04T14:30:00.261306+00:00",
          "2023-04-04T14:30:00.261337+00:00",
          "2023-04-04T14:30:00.261380+00:00",
          "2023-04-04T14:30:00.266273+00:00",
          "2023-04-04T14:30:00.267476+00:00",
          "2023-04-04T14:30:00.269037+00:00",
          "2023-04-04T14:30:00.398233+00:00",
          "2023-04-04T14:30:00.398889+00:00",
          "2023-04-04T14:30:00.399003+00:00",
          "2023-04-04T14:30:00.399036+00:00",
          "2023-04-04T14:30:00.399376+00:00",
          "2023-04-04T14:30:00.399397+00:00",
          "2023-04-04T14:30:00.399477+00:00",
          "2023-04-04T14:30:00.399489+00:00",
          "2023-04-04T14:30:00.399758+00:00",
          "2023-04-04T14:30:00.399855+00:00",
          "2023-04-04T14:30:00.399965+00:00",
          "2023-04-04T14:30:00.400558+00:00",
          "2023-04-04T14:30:00.420265+00:00",
          "2023-04-04T14:30:00.420574+00:00",
          "2023-04-04T14:30:00.420583+00:00",
          "2023-04-04T14:30:00.420611+00:00",
          "2023-04-04T14:30:00.432083+00:00",
          "2023-04-04T14:30:00.432267+00:00",
          "2023-04-04T14:30:00.500126+00:00",
          "2023-04-04T14:30:00.500158+00:00",
          "2023-04-04T14:30:00.532537+00:00",
          "2023-04-04T14:30:00.532570+00:00",
          "2023-04-04T14:30:00.533296+00:00",
          "2023-04-04T14:30:00.642444+00:00",
          "2023-04-04T14:30:00.642523+00:00",
          "2023-04-04T14:30:00.642671+00:00",
          "2023-04-04T14:30:00.642985+00:00",
          "2023-04-04T14:30:00.643041+00:00",
          "2023-04-04T14:30:00.643241+00:00",
          "2023-04-04T14:30:00.669439+00:00",
          "2023-04-04T14:30:00.671056+00:00",
          "2023-04-04T14:30:00.671245+00:00",
          "2023-04-04T14:30:00.716823+00:00",
          "2023-04-04T14:30:00.757748+00:00",
          "2023-04-04T14:30:00.799786+00:00",
          "2023-04-04T14:30:00.806693+00:00",
          "2023-04-04T14:30:00.819377+00:00",
          "2023-04-04T14:30:00.858828+00:00",
          "2023-04-04T14:30:00.867867+00:00",
          "2023-04-04T14:30:00.881823+00:00",
          "2023-04-04T14:30:00.889439+00:00",
          "2023-04-04T14:30:00.965966+00:00",
          "2023-04-04T14:30:00.966047+00:00",
          "2023-04-04T14:30:00.967895+00:00",
          "2023-04-04T14:30:00.967925+00:00",
          "2023-04-04T14:30:00.967959+00:00",
          "2023-04-04T14:30:00.968203+00:00",
          "2023-04-04T14:30:00.973999+00:00",
          "2023-04-04T14:30:00.978845+00:00",
          "2023-04-04T14:30:00.978883+00:00",
          "2023-04-04T14:30:00.979099+00:00",
          "2023-04-04T14:30:00.979132+00:00",
          "2023-04-04T14:30:00.979493+00:00",
          "2023-04-04T14:30:00.980069+00:00",
          "2023-04-04T14:30:00.980397+00:00",
          "2023-04-04T14:30:00.980451+00:00",
          "2023-04-04T14:30:00.980471+00:00",
          "2023-04-04T14:30:00.985407+00:00",
          "2023-04-04T14:30:01.121175+00:00",
          "2023-04-04T14:30:01.476129+00:00",
          "2023-04-04T14:30:01.499446+00:00",
          "2023-04-04T14:30:01.565383+00:00",
          "2023-04-04T14:30:01.931061+00:00",
          "2023-04-04T14:30:01.941225+00:00",
          "2023-04-04T14:30:02.112289+00:00",
          "2023-04-04T14:30:02.122123+00:00",
          "2023-04-04T14:30:02.317363+00:00",
          "2023-04-04T14:30:02.346180+00:00",
          "2023-04-04T14:30:02.444636+00:00",
          "2023-04-04T14:30:02.445649+00:00",
          "2023-04-04T14:30:02.528877+00:00",
          "2023-04-04T14:30:02.639489+00:00",
          "2023-04-04T14:30:02.791296+00:00",
          "2023-04-04T14:30:02.893853+00:00",
          "2023-04-04T14:30:02.895079+00:00",
          "2023-04-04T14:30:02.902127+00:00",
          "2023-04-04T14:30:03.011170+00:00",
          "2023-04-04T14:30:03.017046+00:00",
          "2023-04-04T14:30:03.017075+00:00",
          "2023-04-04T14:30:03.036611+00:00",
          "2023-04-04T14:30:03.037174+00:00",
          "2023-04-04T14:30:03.046352+00:00",
          "2023-04-04T14:30:03.046387+00:00",
          "2023-04-04T14:30:03.047567+00:00",
          "2023-04-04T14:30:03.091789+00:00",
          "2023-04-04T14:30:03.684572+00:00",
          "2023-04-04T14:30:03.684624+00:00",
          "2023-04-04T14:30:03.684632+00:00",
          "2023-04-04T14:30:03.684664+00:00",
          "2023-04-04T14:30:03.685496+00:00",
          "2023-04-04T14:30:03.685751+00:00",
          "2023-04-04T14:30:03.698837+00:00",
          "2023-04-04T14:30:03.905467+00:00",
          "2023-04-04T14:30:03.907487+00:00",
          "2023-04-04T14:30:03.913272+00:00",
          "2023-04-04T14:30:03.921293+00:00",
          "2023-04-04T14:30:03.952034+00:00",
          "2023-04-04T14:30:04.029106+00:00",
          "2023-04-04T14:30:04.041458+00:00",
          "2023-04-04T14:30:04.050200+00:00",
          "2023-04-04T14:30:04.151333+00:00",
          "2023-04-04T14:30:04.176375+00:00",
          "2023-04-04T14:30:04.457176+00:00",
          "2023-04-04T14:30:04.479637+00:00",
          "2023-04-04T14:30:04.628550+00:00",
          "2023-04-04T14:30:04.629234+00:00",
          "2023-04-04T14:30:04.645836+00:00",
          "2023-04-04T14:30:04.825585+00:00",
          "2023-04-04T14:30:04.836497+00:00",
          "2023-04-04T14:30:04.839221+00:00",
          "2023-04-04T14:30:05.018983+00:00",
          "2023-04-04T14:30:05.030146+00:00",
          "2023-04-04T14:30:05.030179+00:00",
          "2023-04-04T14:30:05.030255+00:00",
          "2023-04-04T14:30:05.030295+00:00",
          "2023-04-04T14:30:05.030707+00:00",
          "2023-04-04T14:30:05.054444+00:00",
          "2023-04-04T14:30:05.055088+00:00",
          "2023-04-04T14:30:05.055377+00:00",
          "2023-04-04T14:30:05.109279+00:00",
          "2023-04-04T14:30:05.142430+00:00",
          "2023-04-04T14:30:05.298623+00:00",
          "2023-04-04T14:30:05.491126+00:00",
          "2023-04-04T14:30:05.568996+00:00",
          "2023-04-04T14:30:05.753035+00:00",
          "2023-04-04T14:30:05.753355+00:00",
          "2023-04-04T14:30:05.755466+00:00",
          "2023-04-04T14:30:05.859010+00:00",
          "2023-04-04T14:30:06.078752+00:00",
          "2023-04-04T14:30:06.078822+00:00",
          "2023-04-04T14:30:06.078824+00:00",
          "2023-04-04T14:30:06.078836+00:00",
          "2023-04-04T14:30:06.078887+00:00",
          "2023-04-04T14:30:06.078921+00:00",
          "2023-04-04T14:30:06.078923+00:00",
          "2023-04-04T14:30:06.078926+00:00",
          "2023-04-04T14:30:06.078962+00:00",
          "2023-04-04T14:30:06.078962+00:00",
          "2023-04-04T14:30:06.078996+00:00",
          "2023-04-04T14:30:06.079020+00:00",
          "2023-04-04T14:30:06.079104+00:00",
          "2023-04-04T14:30:06.079330+00:00",
          "2023-04-04T14:30:06.079450+00:00",
          "2023-04-04T14:30:06.079630+00:00",
          "2023-04-04T14:30:06.079634+00:00",
          "2023-04-04T14:30:06.079634+00:00",
          "2023-04-04T14:30:06.079639+00:00",
          "2023-04-04T14:30:06.079639+00:00",
          "2023-04-04T14:30:06.079646+00:00",
          "2023-04-04T14:30:06.079649+00:00",
          "2023-04-04T14:30:06.079652+00:00",
          "2023-04-04T14:30:06.079657+00:00",
          "2023-04-04T14:30:06.079659+00:00",
          "2023-04-04T14:30:06.079664+00:00",
          "2023-04-04T14:30:06.079666+00:00",
          "2023-04-04T14:30:06.079673+00:00",
          "2023-04-04T14:30:06.079673+00:00",
          "2023-04-04T14:30:06.079678+00:00",
          "2023-04-04T14:30:06.079682+00:00",
          "2023-04-04T14:30:06.079682+00:00",
          "2023-04-04T14:30:06.079684+00:00",
          "2023-04-04T14:30:06.079687+00:00",
          "2023-04-04T14:30:06.079695+00:00",
          "2023-04-04T14:30:06.079695+00:00",
          "2023-04-04T14:30:06.079695+00:00",
          "2023-04-04T14:30:06.079699+00:00",
          "2023-04-04T14:30:06.079710+00:00",
          "2023-04-04T14:30:06.079717+00:00",
          "2023-04-04T14:30:06.079717+00:00",
          "2023-04-04T14:30:06.079743+00:00",
          "2023-04-04T14:30:06.079745+00:00",
          "2023-04-04T14:30:06.079825+00:00",
          "2023-04-04T14:30:06.079838+00:00",
          "2023-04-04T14:30:06.080132+00:00",
          "2023-04-04T14:30:06.082799+00:00",
          "2023-04-04T14:30:06.082832+00:00",
          "2023-04-04T14:30:06.084485+00:00",
          "2023-04-04T14:30:06.084486+00:00",
          "2023-04-04T14:30:06.084488+00:00",
          "2023-04-04T14:30:06.084490+00:00",
          "2023-04-04T14:30:06.084495+00:00",
          "2023-04-04T14:30:06.084495+00:00",
          "2023-04-04T14:30:06.084506+00:00",
          "2023-04-04T14:30:06.084506+00:00",
          "2023-04-04T14:30:06.084509+00:00",
          "2023-04-04T14:30:06.084509+00:00",
          "2023-04-04T14:30:06.084516+00:00",
          "2023-04-04T14:30:06.084516+00:00",
          "2023-04-04T14:30:06.084519+00:00",
          "2023-04-04T14:30:06.084519+00:00",
          "2023-04-04T14:30:06.084525+00:00",
          "2023-04-04T14:30:06.084529+00:00",
          "2023-04-04T14:30:06.084529+00:00",
          "2023-04-04T14:30:06.084529+00:00",
          "2023-04-04T14:30:06.084532+00:00",
          "2023-04-04T14:30:06.084539+00:00",
          "2023-04-04T14:30:06.084539+00:00",
          "2023-04-04T14:30:06.084541+00:00",
          "2023-04-04T14:30:06.084560+00:00",
          "2023-04-04T14:30:06.084560+00:00",
          "2023-04-04T14:30:06.084560+00:00",
          "2023-04-04T14:30:06.084560+00:00",
          "2023-04-04T14:30:06.084573+00:00",
          "2023-04-04T14:30:06.084741+00:00",
          "2023-04-04T14:30:06.084741+00:00",
          "2023-04-04T14:30:06.084744+00:00",
          "2023-04-04T14:30:06.084780+00:00",
          "2023-04-04T14:30:06.084782+00:00",
          "2023-04-04T14:30:06.084786+00:00",
          "2023-04-04T14:30:06.084786+00:00",
          "2023-04-04T14:30:06.084788+00:00",
          "2023-04-04T14:30:06.084790+00:00",
          "2023-04-04T14:30:06.084825+00:00",
          "2023-04-04T14:30:06.084829+00:00",
          "2023-04-04T14:30:06.084829+00:00",
          "2023-04-04T14:30:06.084845+00:00",
          "2023-04-04T14:30:06.084859+00:00",
          "2023-04-04T14:30:06.084864+00:00",
          "2023-04-04T14:30:06.084869+00:00",
          "2023-04-04T14:30:06.084869+00:00",
          "2023-04-04T14:30:06.084869+00:00",
          "2023-04-04T14:30:06.084875+00:00",
          "2023-04-04T14:30:06.084879+00:00",
          "2023-04-04T14:30:06.084879+00:00",
          "2023-04-04T14:30:06.084879+00:00",
          "2023-04-04T14:30:06.084882+00:00",
          "2023-04-04T14:30:06.084889+00:00",
          "2023-04-04T14:30:06.084889+00:00",
          "2023-04-04T14:30:06.084890+00:00",
          "2023-04-04T14:30:06.084894+00:00",
          "2023-04-04T14:30:06.084936+00:00",
          "2023-04-04T14:30:06.084937+00:00",
          "2023-04-04T14:30:06.084989+00:00",
          "2023-04-04T14:30:06.085019+00:00",
          "2023-04-04T14:30:06.085176+00:00",
          "2023-04-04T14:30:06.085181+00:00",
          "2023-04-04T14:30:06.085202+00:00",
          "2023-04-04T14:30:06.085645+00:00",
          "2023-04-04T14:30:06.085692+00:00",
          "2023-04-04T14:30:06.085722+00:00",
          "2023-04-04T14:30:06.086293+00:00",
          "2023-04-04T14:30:06.086620+00:00",
          "2023-04-04T14:30:06.086630+00:00",
          "2023-04-04T14:30:06.088588+00:00",
          "2023-04-04T14:30:06.091476+00:00",
          "2023-04-04T14:30:06.095558+00:00",
          "2023-04-04T14:30:06.095560+00:00",
          "2023-04-04T14:30:06.099799+00:00",
          "2023-04-04T14:30:06.139895+00:00",
          "2023-04-04T14:30:06.151688+00:00",
          "2023-04-04T14:30:06.151701+00:00",
          "2023-04-04T14:30:06.151713+00:00",
          "2023-04-04T14:30:06.151714+00:00",
          "2023-04-04T14:30:06.151743+00:00",
          "2023-04-04T14:30:06.151887+00:00",
          "2023-04-04T14:30:06.151914+00:00",
          "2023-04-04T14:30:06.166229+00:00",
          "2023-04-04T14:30:06.180006+00:00",
          "2023-04-04T14:30:06.209373+00:00",
          "2023-04-04T14:30:06.209597+00:00",
          "2023-04-04T14:30:06.232053+00:00",
          "2023-04-04T14:30:06.232313+00:00",
          "2023-04-04T14:30:06.462185+00:00",
          "2023-04-04T14:30:06.462463+00:00",
          "2023-04-04T14:30:06.462554+00:00",
          "2023-04-04T14:30:06.508981+00:00",
          "2023-04-04T14:30:06.508982+00:00",
          "2023-04-04T14:30:06.508984+00:00",
          "2023-04-04T14:30:06.509000+00:00",
          "2023-04-04T14:30:06.509009+00:00",
          "2023-04-04T14:30:06.509012+00:00",
          "2023-04-04T14:30:06.509019+00:00",
          "2023-04-04T14:30:06.509031+00:00",
          "2023-04-04T14:30:06.509049+00:00",
          "2023-04-04T14:30:06.509051+00:00",
          "2023-04-04T14:30:06.509053+00:00",
          "2023-04-04T14:30:06.509057+00:00",
          "2023-04-04T14:30:06.509057+00:00",
          "2023-04-04T14:30:06.509065+00:00",
          "2023-04-04T14:30:06.509065+00:00",
          "2023-04-04T14:30:06.509068+00:00",
          "2023-04-04T14:30:06.509068+00:00",
          "2023-04-04T14:30:06.509074+00:00",
          "2023-04-04T14:30:06.509077+00:00",
          "2023-04-04T14:30:06.509077+00:00",
          "2023-04-04T14:30:06.509078+00:00",
          "2023-04-04T14:30:06.509082+00:00",
          "2023-04-04T14:30:06.509087+00:00",
          "2023-04-04T14:30:06.509107+00:00",
          "2023-04-04T14:30:06.509110+00:00",
          "2023-04-04T14:30:06.509110+00:00",
          "2023-04-04T14:30:06.509112+00:00",
          "2023-04-04T14:30:06.509115+00:00",
          "2023-04-04T14:30:06.509118+00:00",
          "2023-04-04T14:30:06.509123+00:00",
          "2023-04-04T14:30:06.509123+00:00",
          "2023-04-04T14:30:06.509123+00:00",
          "2023-04-04T14:30:06.509126+00:00",
          "2023-04-04T14:30:06.509133+00:00",
          "2023-04-04T14:30:06.509133+00:00",
          "2023-04-04T14:30:06.509157+00:00",
          "2023-04-04T14:30:06.509159+00:00",
          "2023-04-04T14:30:06.509160+00:00",
          "2023-04-04T14:30:06.509204+00:00",
          "2023-04-04T14:30:06.509226+00:00",
          "2023-04-04T14:30:06.509260+00:00",
          "2023-04-04T14:30:06.509283+00:00",
          "2023-04-04T14:30:06.509952+00:00",
          "2023-04-04T14:30:06.510352+00:00",
          "2023-04-04T14:30:06.511033+00:00",
          "2023-04-04T14:30:06.512313+00:00",
          "2023-04-04T14:30:06.513005+00:00",
          "2023-04-04T14:30:06.513009+00:00",
          "2023-04-04T14:30:06.513806+00:00",
          "2023-04-04T14:30:06.514140+00:00",
          "2023-04-04T14:30:06.514372+00:00",
          "2023-04-04T14:30:06.514714+00:00",
          "2023-04-04T14:30:06.525504+00:00",
          "2023-04-04T14:30:06.539341+00:00",
          "2023-04-04T14:30:06.546483+00:00",
          "2023-04-04T14:30:06.548864+00:00",
          "2023-04-04T14:30:06.609113+00:00",
          "2023-04-04T14:30:06.682796+00:00",
          "2023-04-04T14:30:06.682938+00:00",
          "2023-04-04T14:30:06.682993+00:00",
          "2023-04-04T14:30:06.683007+00:00",
          "2023-04-04T14:30:06.683059+00:00",
          "2023-04-04T14:30:06.683102+00:00",
          "2023-04-04T14:30:06.683132+00:00",
          "2023-04-04T14:30:06.683134+00:00",
          "2023-04-04T14:30:06.683175+00:00",
          "2023-04-04T14:30:06.683185+00:00",
          "2023-04-04T14:30:06.683687+00:00",
          "2023-04-04T14:30:06.684121+00:00",
          "2023-04-04T14:30:06.684131+00:00",
          "2023-04-04T14:30:06.684421+00:00",
          "2023-04-04T14:30:06.688822+00:00",
          "2023-04-04T14:30:06.690306+00:00",
          "2023-04-04T14:30:06.696673+00:00",
          "2023-04-04T14:30:06.696690+00:00",
          "2023-04-04T14:30:06.696698+00:00",
          "2023-04-04T14:30:06.696700+00:00",
          "2023-04-04T14:30:06.696708+00:00",
          "2023-04-04T14:30:06.696710+00:00",
          "2023-04-04T14:30:06.696712+00:00",
          "2023-04-04T14:30:06.696714+00:00",
          "2023-04-04T14:30:06.696742+00:00",
          "2023-04-04T14:30:06.696750+00:00",
          "2023-04-04T14:30:06.697079+00:00",
          "2023-04-04T14:30:06.697235+00:00",
          "2023-04-04T14:30:06.698422+00:00",
          "2023-04-04T14:30:06.699708+00:00",
          "2023-04-04T14:30:06.699713+00:00",
          "2023-04-04T14:30:06.699759+00:00",
          "2023-04-04T14:30:06.700922+00:00",
          "2023-04-04T14:30:06.701489+00:00",
          "2023-04-04T14:30:06.702844+00:00",
          "2023-04-04T14:30:06.742667+00:00",
          "2023-04-04T14:30:06.842378+00:00",
          "2023-04-04T14:30:06.842386+00:00",
          "2023-04-04T14:30:06.884813+00:00",
          "2023-04-04T14:30:06.884848+00:00",
          "2023-04-04T14:30:06.884874+00:00",
          "2023-04-04T14:30:06.884880+00:00",
          "2023-04-04T14:30:06.884912+00:00",
          "2023-04-04T14:30:06.887735+00:00",
          "2023-04-04T14:30:06.992872+00:00",
          "2023-04-04T14:30:06.992894+00:00",
          "2023-04-04T14:30:07.542968+00:00",
          "2023-04-04T14:30:07.597499+00:00",
          "2023-04-04T14:30:07.684485+00:00",
          "2023-04-04T14:30:08.013860+00:00",
          "2023-04-04T14:30:08.013886+00:00",
          "2023-04-04T14:30:08.013928+00:00",
          "2023-04-04T14:30:08.014444+00:00",
          "2023-04-04T14:30:08.123135+00:00",
          "2023-04-04T14:30:08.124012+00:00",
          "2023-04-04T14:30:08.379998+00:00",
          "2023-04-04T14:30:08.393659+00:00",
          "2023-04-04T14:30:08.416229+00:00",
          "2023-04-04T14:30:09.010203+00:00",
          "2023-04-04T14:30:09.010381+00:00",
          "2023-04-04T14:30:09.010393+00:00",
          "2023-04-04T14:30:09.056126+00:00",
          "2023-04-04T14:30:09.657351+00:00",
          "2023-04-04T14:30:10.013409+00:00",
          "2023-04-04T14:30:10.013859+00:00",
          "2023-04-04T14:30:10.013933+00:00",
          "2023-04-04T14:30:10.015437+00:00",
          "2023-04-04T14:30:10.025163+00:00",
          "2023-04-04T14:30:10.032421+00:00",
          "2023-04-04T14:30:10.032455+00:00",
          "2023-04-04T14:30:10.169529+00:00",
          "2023-04-04T14:30:10.310272+00:00",
          "2023-04-04T14:30:10.313811+00:00",
          "2023-04-04T14:30:10.383698+00:00",
          "2023-04-04T14:30:10.411193+00:00",
          "2023-04-04T14:30:10.411546+00:00",
          "2023-04-04T14:30:10.412412+00:00",
          "2023-04-04T14:30:10.412422+00:00",
          "2023-04-04T14:30:10.413452+00:00",
          "2023-04-04T14:30:10.413482+00:00",
          "2023-04-04T14:30:10.773848+00:00",
          "2023-04-04T14:30:11.020467+00:00",
          "2023-04-04T14:30:11.190854+00:00",
          "2023-04-04T14:30:11.190887+00:00",
          "2023-04-04T14:30:11.195563+00:00",
          "2023-04-04T14:30:11.232397+00:00",
          "2023-04-04T14:30:11.444090+00:00",
          "2023-04-04T14:30:11.444298+00:00",
          "2023-04-04T14:30:11.480504+00:00",
          "2023-04-04T14:30:11.976810+00:00",
          "2023-04-04T14:30:12.021185+00:00",
          "2023-04-04T14:30:12.278770+00:00",
          "2023-04-04T14:30:12.278772+00:00",
          "2023-04-04T14:30:12.278774+00:00",
          "2023-04-04T14:30:12.278787+00:00",
          "2023-04-04T14:30:12.278806+00:00",
          "2023-04-04T14:30:12.278809+00:00",
          "2023-04-04T14:30:12.278809+00:00",
          "2023-04-04T14:30:12.278840+00:00",
          "2023-04-04T14:30:12.279016+00:00",
          "2023-04-04T14:30:12.279067+00:00",
          "2023-04-04T14:30:12.279074+00:00",
          "2023-04-04T14:30:12.279076+00:00",
          "2023-04-04T14:30:12.279079+00:00",
          "2023-04-04T14:30:12.279079+00:00",
          "2023-04-04T14:30:12.279085+00:00",
          "2023-04-04T14:30:12.279085+00:00",
          "2023-04-04T14:30:12.279089+00:00",
          "2023-04-04T14:30:12.279089+00:00",
          "2023-04-04T14:30:12.279096+00:00",
          "2023-04-04T14:30:12.279096+00:00",
          "2023-04-04T14:30:12.279098+00:00",
          "2023-04-04T14:30:12.279101+00:00",
          "2023-04-04T14:30:12.279110+00:00",
          "2023-04-04T14:30:12.279113+00:00",
          "2023-04-04T14:30:12.279113+00:00",
          "2023-04-04T14:30:12.279118+00:00",
          "2023-04-04T14:30:12.279122+00:00",
          "2023-04-04T14:30:12.279122+00:00",
          "2023-04-04T14:30:12.279125+00:00",
          "2023-04-04T14:30:12.279153+00:00",
          "2023-04-04T14:30:12.279175+00:00",
          "2023-04-04T14:30:12.279341+00:00",
          "2023-04-04T14:30:12.279358+00:00",
          "2023-04-04T14:30:12.279584+00:00",
          "2023-04-04T14:30:12.279760+00:00",
          "2023-04-04T14:30:12.279919+00:00",
          "2023-04-04T14:30:12.280273+00:00",
          "2023-04-04T14:30:12.280283+00:00",
          "2023-04-04T14:30:12.280301+00:00",
          "2023-04-04T14:30:12.283435+00:00",
          "2023-04-04T14:30:12.283436+00:00",
          "2023-04-04T14:30:12.283757+00:00",
          "2023-04-04T14:30:12.284309+00:00",
          "2023-04-04T14:30:12.300775+00:00",
          "2023-04-04T14:30:12.321502+00:00",
          "2023-04-04T14:30:12.357314+00:00",
          "2023-04-04T14:30:12.380681+00:00",
          "2023-04-04T14:30:12.492131+00:00",
          "2023-04-04T14:30:12.499463+00:00",
          "2023-04-04T14:30:12.500193+00:00",
          "2023-04-04T14:30:12.514868+00:00",
          "2023-04-04T14:30:12.549355+00:00",
          "2023-04-04T14:30:12.762817+00:00",
          "2023-04-04T14:30:13.007507+00:00",
          "2023-04-04T14:30:13.015847+00:00",
          "2023-04-04T14:30:13.015911+00:00",
          "2023-04-04T14:30:13.018783+00:00",
          "2023-04-04T14:30:13.018917+00:00",
          "2023-04-04T14:30:13.018917+00:00",
          "2023-04-04T14:30:13.018918+00:00",
          "2023-04-04T14:30:13.018929+00:00",
          "2023-04-04T14:30:13.018933+00:00",
          "2023-04-04T14:30:13.018937+00:00",
          "2023-04-04T14:30:13.018937+00:00",
          "2023-04-04T14:30:13.018940+00:00",
          "2023-04-04T14:30:13.018943+00:00",
          "2023-04-04T14:30:13.018950+00:00",
          "2023-04-04T14:30:13.018950+00:00",
          "2023-04-04T14:30:13.018950+00:00",
          "2023-04-04T14:30:13.018953+00:00",
          "2023-04-04T14:30:13.018959+00:00",
          "2023-04-04T14:30:13.018963+00:00",
          "2023-04-04T14:30:13.018963+00:00",
          "2023-04-04T14:30:13.018963+00:00",
          "2023-04-04T14:30:13.018968+00:00",
          "2023-04-04T14:30:13.018973+00:00",
          "2023-04-04T14:30:13.018977+00:00",
          "2023-04-04T14:30:13.018977+00:00",
          "2023-04-04T14:30:13.018977+00:00",
          "2023-04-04T14:30:13.018980+00:00",
          "2023-04-04T14:30:13.018992+00:00",
          "2023-04-04T14:30:13.018995+00:00",
          "2023-04-04T14:30:13.018995+00:00",
          "2023-04-04T14:30:13.018998+00:00",
          "2023-04-04T14:30:13.019001+00:00",
          "2023-04-04T14:30:13.019005+00:00",
          "2023-04-04T14:30:13.019011+00:00",
          "2023-04-04T14:30:13.019011+00:00",
          "2023-04-04T14:30:13.019011+00:00",
          "2023-04-04T14:30:13.019014+00:00",
          "2023-04-04T14:30:13.019025+00:00",
          "2023-04-04T14:30:13.019025+00:00",
          "2023-04-04T14:30:13.019025+00:00",
          "2023-04-04T14:30:13.019025+00:00",
          "2023-04-04T14:30:13.019036+00:00",
          "2023-04-04T14:30:13.019040+00:00",
          "2023-04-04T14:30:13.019049+00:00",
          "2023-04-04T14:30:13.019050+00:00",
          "2023-04-04T14:30:13.019064+00:00",
          "2023-04-04T14:30:13.019064+00:00",
          "2023-04-04T14:30:13.019067+00:00",
          "2023-04-04T14:30:13.019094+00:00",
          "2023-04-04T14:30:13.019095+00:00",
          "2023-04-04T14:30:13.019109+00:00",
          "2023-04-04T14:30:13.019109+00:00",
          "2023-04-04T14:30:13.019109+00:00",
          "2023-04-04T14:30:13.019192+00:00",
          "2023-04-04T14:30:13.019865+00:00",
          "2023-04-04T14:30:13.019965+00:00",
          "2023-04-04T14:30:13.019968+00:00",
          "2023-04-04T14:30:13.019981+00:00",
          "2023-04-04T14:30:13.020006+00:00",
          "2023-04-04T14:30:13.021513+00:00",
          "2023-04-04T14:30:13.022201+00:00",
          "2023-04-04T14:30:13.022693+00:00",
          "2023-04-04T14:30:13.023076+00:00",
          "2023-04-04T14:30:13.025508+00:00",
          "2023-04-04T14:30:13.028694+00:00",
          "2023-04-04T14:30:13.029068+00:00",
          "2023-04-04T14:30:13.049434+00:00",
          "2023-04-04T14:30:13.056381+00:00",
          "2023-04-04T14:30:13.119625+00:00",
          "2023-04-04T14:30:13.119663+00:00",
          "2023-04-04T14:30:13.119693+00:00",
          "2023-04-04T14:30:13.134984+00:00",
          "2023-04-04T14:30:13.254044+00:00",
          "2023-04-04T14:30:13.257661+00:00",
          "2023-04-04T14:30:13.289210+00:00",
          "2023-04-04T14:30:13.289296+00:00",
          "2023-04-04T14:30:13.289498+00:00",
          "2023-04-04T14:30:13.358045+00:00",
          "2023-04-04T14:30:13.691742+00:00",
          "2023-04-04T14:30:13.707412+00:00",
          "2023-04-04T14:30:13.999419+00:00",
          "2023-04-04T14:30:14.105455+00:00",
          "2023-04-04T14:30:14.105988+00:00",
          "2023-04-04T14:30:14.105996+00:00",
          "2023-04-04T14:30:14.107485+00:00",
          "2023-04-04T14:30:14.107860+00:00",
          "2023-04-04T14:30:14.109235+00:00",
          "2023-04-04T14:30:14.124627+00:00",
          "2023-04-04T14:30:14.125299+00:00",
          "2023-04-04T14:30:14.125329+00:00",
          "2023-04-04T14:30:14.144134+00:00",
          "2023-04-04T14:30:14.207551+00:00",
          "2023-04-04T14:30:14.208346+00:00",
          "2023-04-04T14:30:14.235232+00:00",
          "2023-04-04T14:30:14.235263+00:00",
          "2023-04-04T14:30:14.235947+00:00",
          "2023-04-04T14:30:14.236006+00:00",
          "2023-04-04T14:30:14.499370+00:00",
          "2023-04-04T14:30:14.500335+00:00",
          "2023-04-04T14:30:14.565632+00:00",
          "2023-04-04T14:30:14.565664+00:00",
          "2023-04-04T14:30:14.566373+00:00",
          "2023-04-04T14:30:14.583803+00:00",
          "2023-04-04T14:30:14.592482+00:00",
          "2023-04-04T14:30:14.643451+00:00",
          "2023-04-04T14:30:14.643954+00:00",
          "2023-04-04T14:30:14.644269+00:00",
          "2023-04-04T14:30:14.644318+00:00",
          "2023-04-04T14:30:14.645910+00:00",
          "2023-04-04T14:30:14.655178+00:00",
          "2023-04-04T14:30:14.660594+00:00",
          "2023-04-04T14:30:14.676251+00:00",
          "2023-04-04T14:30:14.712242+00:00",
          "2023-04-04T14:30:14.713015+00:00",
          "2023-04-04T14:30:14.713409+00:00",
          "2023-04-04T14:30:14.713439+00:00",
          "2023-04-04T14:30:14.722900+00:00",
          "2023-04-04T14:30:14.729776+00:00",
          "2023-04-04T14:30:14.846493+00:00",
          "2023-04-04T14:30:14.846524+00:00",
          "2023-04-04T14:30:15.500238+00:00",
          "2023-04-04T14:30:15.938052+00:00",
          "2023-04-04T14:30:15.938346+00:00",
          "2023-04-04T14:30:15.938963+00:00",
          "2023-04-04T14:30:15.939382+00:00",
          "2023-04-04T14:30:15.939382+00:00",
          "2023-04-04T14:30:15.939429+00:00",
          "2023-04-04T14:30:15.939512+00:00",
          "2023-04-04T14:30:15.939586+00:00",
          "2023-04-04T14:30:15.939659+00:00",
          "2023-04-04T14:30:15.939668+00:00",
          "2023-04-04T14:30:15.939734+00:00",
          "2023-04-04T14:30:15.939744+00:00",
          "2023-04-04T14:30:15.939744+00:00",
          "2023-04-04T14:30:15.939748+00:00",
          "2023-04-04T14:30:15.939749+00:00",
          "2023-04-04T14:30:15.939775+00:00",
          "2023-04-04T14:30:15.939783+00:00",
          "2023-04-04T14:30:15.939786+00:00",
          "2023-04-04T14:30:15.939786+00:00",
          "2023-04-04T14:30:15.939837+00:00",
          "2023-04-04T14:30:15.939837+00:00",
          "2023-04-04T14:30:15.939865+00:00",
          "2023-04-04T14:30:15.939865+00:00",
          "2023-04-04T14:30:15.939884+00:00",
          "2023-04-04T14:30:15.939932+00:00",
          "2023-04-04T14:30:15.939935+00:00",
          "2023-04-04T14:30:15.940046+00:00",
          "2023-04-04T14:30:15.940052+00:00",
          "2023-04-04T14:30:15.940072+00:00",
          "2023-04-04T14:30:15.940090+00:00",
          "2023-04-04T14:30:15.940125+00:00",
          "2023-04-04T14:30:15.940130+00:00",
          "2023-04-04T14:30:15.940133+00:00",
          "2023-04-04T14:30:15.940155+00:00",
          "2023-04-04T14:30:15.940331+00:00",
          "2023-04-04T14:30:15.940368+00:00",
          "2023-04-04T14:30:15.940537+00:00",
          "2023-04-04T14:30:15.940724+00:00",
          "2023-04-04T14:30:15.941247+00:00",
          "2023-04-04T14:30:15.941264+00:00",
          "2023-04-04T14:30:15.941295+00:00",
          "2023-04-04T14:30:15.941320+00:00",
          "2023-04-04T14:30:15.941386+00:00",
          "2023-04-04T14:30:15.941413+00:00",
          "2023-04-04T14:30:15.941442+00:00",
          "2023-04-04T14:30:15.941567+00:00",
          "2023-04-04T14:30:15.941806+00:00",
          "2023-04-04T14:30:15.941905+00:00",
          "2023-04-04T14:30:15.942436+00:00",
          "2023-04-04T14:30:15.942535+00:00",
          "2023-04-04T14:30:15.942799+00:00",
          "2023-04-04T14:30:15.942849+00:00",
          "2023-04-04T14:30:15.943509+00:00",
          "2023-04-04T14:30:15.944464+00:00",
          "2023-04-04T14:30:15.946582+00:00",
          "2023-04-04T14:30:15.946745+00:00",
          "2023-04-04T14:30:15.948531+00:00",
          "2023-04-04T14:30:15.948568+00:00",
          "2023-04-04T14:30:15.950630+00:00",
          "2023-04-04T14:30:15.953541+00:00",
          "2023-04-04T14:30:15.956659+00:00",
          "2023-04-04T14:30:15.956690+00:00",
          "2023-04-04T14:30:15.957228+00:00",
          "2023-04-04T14:30:15.978086+00:00",
          "2023-04-04T14:30:16.057138+00:00",
          "2023-04-04T14:30:16.057138+00:00",
          "2023-04-04T14:30:16.058752+00:00",
          "2023-04-04T14:30:16.065642+00:00",
          "2023-04-04T14:30:16.065882+00:00",
          "2023-04-04T14:30:16.065884+00:00",
          "2023-04-04T14:30:16.065957+00:00",
          "2023-04-04T14:30:16.066079+00:00",
          "2023-04-04T14:30:16.066735+00:00",
          "2023-04-04T14:30:16.069662+00:00",
          "2023-04-04T14:30:16.074012+00:00",
          "2023-04-04T14:30:16.074035+00:00",
          "2023-04-04T14:30:16.074071+00:00",
          "2023-04-04T14:30:16.074071+00:00",
          "2023-04-04T14:30:16.074075+00:00",
          "2023-04-04T14:30:16.074075+00:00",
          "2023-04-04T14:30:16.074083+00:00",
          "2023-04-04T14:30:16.074083+00:00",
          "2023-04-04T14:30:16.074089+00:00",
          "2023-04-04T14:30:16.074089+00:00",
          "2023-04-04T14:30:16.074093+00:00",
          "2023-04-04T14:30:16.074098+00:00",
          "2023-04-04T14:30:16.074098+00:00",
          "2023-04-04T14:30:16.074103+00:00",
          "2023-04-04T14:30:16.074103+00:00",
          "2023-04-04T14:30:16.074106+00:00",
          "2023-04-04T14:30:16.074112+00:00",
          "2023-04-04T14:30:16.074115+00:00",
          "2023-04-04T14:30:16.074119+00:00",
          "2023-04-04T14:30:16.074135+00:00",
          "2023-04-04T14:30:16.074336+00:00",
          "2023-04-04T14:30:16.074359+00:00",
          "2023-04-04T14:30:16.074531+00:00",
          "2023-04-04T14:30:16.074531+00:00",
          "2023-04-04T14:30:16.074614+00:00",
          "2023-04-04T14:30:16.074621+00:00",
          "2023-04-04T14:30:16.074626+00:00",
          "2023-04-04T14:30:16.074633+00:00",
          "2023-04-04T14:30:16.074635+00:00",
          "2023-04-04T14:30:16.074640+00:00",
          "2023-04-04T14:30:16.074667+00:00",
          "2023-04-04T14:30:16.074701+00:00",
          "2023-04-04T14:30:16.074705+00:00",
          "2023-04-04T14:30:16.074708+00:00",
          "2023-04-04T14:30:16.074708+00:00",
          "2023-04-04T14:30:16.074715+00:00",
          "2023-04-04T14:30:16.074715+00:00",
          "2023-04-04T14:30:16.074719+00:00",
          "2023-04-04T14:30:16.074719+00:00",
          "2023-04-04T14:30:16.074726+00:00",
          "2023-04-04T14:30:16.074726+00:00",
          "2023-04-04T14:30:16.074732+00:00",
          "2023-04-04T14:30:16.074732+00:00",
          "2023-04-04T14:30:16.074738+00:00",
          "2023-04-04T14:30:16.074738+00:00",
          "2023-04-04T14:30:16.074746+00:00",
          "2023-04-04T14:30:16.074776+00:00",
          "2023-04-04T14:30:16.074815+00:00",
          "2023-04-04T14:30:16.074847+00:00",
          "2023-04-04T14:30:16.074847+00:00",
          "2023-04-04T14:30:16.074847+00:00",
          "2023-04-04T14:30:16.074885+00:00",
          "2023-04-04T14:30:16.074979+00:00",
          "2023-04-04T14:30:16.075026+00:00",
          "2023-04-04T14:30:16.075209+00:00",
          "2023-04-04T14:30:16.075544+00:00",
          "2023-04-04T14:30:16.075769+00:00",
          "2023-04-04T14:30:16.076404+00:00",
          "2023-04-04T14:30:16.077665+00:00",
          "2023-04-04T14:30:16.077969+00:00",
          "2023-04-04T14:30:16.077974+00:00",
          "2023-04-04T14:30:16.078398+00:00",
          "2023-04-04T14:30:16.078400+00:00",
          "2023-04-04T14:30:16.078411+00:00",
          "2023-04-04T14:30:16.078873+00:00",
          "2023-04-04T14:30:16.078933+00:00",
          "2023-04-04T14:30:16.078985+00:00",
          "2023-04-04T14:30:16.079214+00:00",
          "2023-04-04T14:30:16.081178+00:00",
          "2023-04-04T14:30:16.081829+00:00",
          "2023-04-04T14:30:16.081829+00:00",
          "2023-04-04T14:30:16.087456+00:00",
          "2023-04-04T14:30:16.094247+00:00",
          "2023-04-04T14:30:16.094290+00:00",
          "2023-04-04T14:30:16.096955+00:00",
          "2023-04-04T14:30:16.096986+00:00",
          "2023-04-04T14:30:16.098664+00:00",
          "2023-04-04T14:30:16.107585+00:00",
          "2023-04-04T14:30:16.108645+00:00",
          "2023-04-04T14:30:16.110511+00:00",
          "2023-04-04T14:30:16.175866+00:00",
          "2023-04-04T14:30:16.176339+00:00",
          "2023-04-04T14:30:16.632086+00:00",
          "2023-04-04T14:30:16.719217+00:00",
          "2023-04-04T14:30:16.773454+00:00",
          "2023-04-04T14:30:16.773485+00:00",
          "2023-04-04T14:30:16.774038+00:00",
          "2023-04-04T14:30:16.774425+00:00",
          "2023-04-04T14:30:16.774522+00:00",
          "2023-04-04T14:30:16.775652+00:00",
          "2023-04-04T14:30:16.776111+00:00",
          "2023-04-04T14:30:16.776994+00:00",
          "2023-04-04T14:30:16.777354+00:00",
          "2023-04-04T14:30:16.777383+00:00",
          "2023-04-04T14:30:16.777590+00:00",
          "2023-04-04T14:30:16.794046+00:00",
          "2023-04-04T14:30:16.834922+00:00",
          "2023-04-04T14:30:16.834983+00:00",
          "2023-04-04T14:30:16.835013+00:00",
          "2023-04-04T14:30:16.835416+00:00",
          "2023-04-04T14:30:16.836715+00:00",
          "2023-04-04T14:30:16.852048+00:00",
          "2023-04-04T14:30:17.439171+00:00",
          "2023-04-04T14:30:17.449697+00:00",
          "2023-04-04T14:30:17.449760+00:00",
          "2023-04-04T14:30:17.452189+00:00",
          "2023-04-04T14:30:17.452257+00:00",
          "2023-04-04T14:30:17.452316+00:00",
          "2023-04-04T14:30:17.453530+00:00",
          "2023-04-04T14:30:17.453779+00:00",
          "2023-04-04T14:30:17.833976+00:00",
          "2023-04-04T14:30:18.047817+00:00",
          "2023-04-04T14:30:18.795927+00:00",
          "2023-04-04T14:30:18.795986+00:00",
          "2023-04-04T14:30:18.796120+00:00",
          "2023-04-04T14:30:18.796152+00:00",
          "2023-04-04T14:30:18.796165+00:00",
          "2023-04-04T14:30:18.796165+00:00",
          "2023-04-04T14:30:18.797338+00:00",
          "2023-04-04T14:30:18.797367+00:00",
          "2023-04-04T14:30:18.797919+00:00",
          "2023-04-04T14:30:18.801783+00:00",
          "2023-04-04T14:30:18.811944+00:00",
          "2023-04-04T14:30:18.874655+00:00",
          "2023-04-04T14:30:18.874914+00:00",
          "2023-04-04T14:30:18.875054+00:00",
          "2023-04-04T14:30:19.742504+00:00",
          "2023-04-04T14:30:19.742534+00:00",
          "2023-04-04T14:30:19.742566+00:00",
          "2023-04-04T14:30:19.742790+00:00",
          "2023-04-04T14:30:19.747132+00:00",
          "2023-04-04T14:30:19.747236+00:00",
          "2023-04-04T14:30:19.749927+00:00",
          "2023-04-04T14:30:19.750136+00:00",
          "2023-04-04T14:30:19.751035+00:00",
          "2023-04-04T14:30:19.787387+00:00",
          "2023-04-04T14:30:19.821504+00:00",
          "2023-04-04T14:30:19.821546+00:00",
          "2023-04-04T14:30:19.822295+00:00",
          "2023-04-04T14:30:19.822676+00:00",
          "2023-04-04T14:30:19.860626+00:00",
          "2023-04-04T14:30:19.860628+00:00",
          "2023-04-04T14:30:19.860631+00:00",
          "2023-04-04T14:30:19.860647+00:00",
          "2023-04-04T14:30:19.860649+00:00",
          "2023-04-04T14:30:19.860651+00:00",
          "2023-04-04T14:30:19.860677+00:00",
          "2023-04-04T14:30:19.860684+00:00",
          "2023-04-04T14:30:19.860684+00:00",
          "2023-04-04T14:30:19.860702+00:00",
          "2023-04-04T14:30:19.860964+00:00",
          "2023-04-04T14:30:19.861930+00:00",
          "2023-04-04T14:30:19.862816+00:00",
          "2023-04-04T14:30:19.862901+00:00",
          "2023-04-04T14:30:19.863011+00:00",
          "2023-04-04T14:30:19.863738+00:00",
          "2023-04-04T14:30:19.870475+00:00",
          "2023-04-04T14:30:19.870739+00:00",
          "2023-04-04T14:30:19.880355+00:00",
          "2023-04-04T14:30:19.880392+00:00",
          "2023-04-04T14:30:19.916569+00:00",
          "2023-04-04T14:30:19.982350+00:00",
          "2023-04-04T14:30:20.223325+00:00",
          "2023-04-04T14:30:20.232872+00:00",
          "2023-04-04T14:30:20.233336+00:00",
          "2023-04-04T14:30:20.234571+00:00",
          "2023-04-04T14:30:20.239579+00:00",
          "2023-04-04T14:30:20.240203+00:00",
          "2023-04-04T14:30:20.292526+00:00",
          "2023-04-04T14:30:20.298398+00:00",
          "2023-04-04T14:30:20.515331+00:00",
          "2023-04-04T14:30:20.618154+00:00",
          "2023-04-04T14:30:20.784501+00:00",
          "2023-04-04T14:30:20.809963+00:00",
          "2023-04-04T14:30:20.918104+00:00",
          "2023-04-04T14:30:21.050659+00:00",
          "2023-04-04T14:30:21.096621+00:00",
          "2023-04-04T14:30:21.096873+00:00",
          "2023-04-04T14:30:21.097479+00:00",
          "2023-04-04T14:30:21.121995+00:00",
          "2023-04-04T14:30:21.280677+00:00",
          "2023-04-04T14:30:21.513204+00:00",
          "2023-04-04T14:30:21.513204+00:00",
          "2023-04-04T14:30:21.513211+00:00",
          "2023-04-04T14:30:21.513214+00:00",
          "2023-04-04T14:30:21.513218+00:00",
          "2023-04-04T14:30:21.513218+00:00",
          "2023-04-04T14:30:21.513220+00:00",
          "2023-04-04T14:30:21.513224+00:00",
          "2023-04-04T14:30:21.513228+00:00",
          "2023-04-04T14:30:21.513231+00:00",
          "2023-04-04T14:30:21.513233+00:00",
          "2023-04-04T14:30:21.513240+00:00",
          "2023-04-04T14:30:21.513240+00:00",
          "2023-04-04T14:30:21.513240+00:00",
          "2023-04-04T14:30:21.513244+00:00",
          "2023-04-04T14:30:21.513249+00:00",
          "2023-04-04T14:30:21.513251+00:00",
          "2023-04-04T14:30:21.513251+00:00",
          "2023-04-04T14:30:21.513253+00:00",
          "2023-04-04T14:30:21.513257+00:00",
          "2023-04-04T14:30:21.513265+00:00",
          "2023-04-04T14:30:21.513265+00:00",
          "2023-04-04T14:30:21.513265+00:00",
          "2023-04-04T14:30:21.513274+00:00",
          "2023-04-04T14:30:21.513276+00:00",
          "2023-04-04T14:30:21.513300+00:00",
          "2023-04-04T14:30:21.513300+00:00",
          "2023-04-04T14:30:21.513306+00:00",
          "2023-04-04T14:30:21.513306+00:00",
          "2023-04-04T14:30:21.513310+00:00",
          "2023-04-04T14:30:21.513310+00:00",
          "2023-04-04T14:30:21.513315+00:00",
          "2023-04-04T14:30:21.513319+00:00",
          "2023-04-04T14:30:21.513319+00:00",
          "2023-04-04T14:30:21.513320+00:00",
          "2023-04-04T14:30:21.513323+00:00",
          "2023-04-04T14:30:21.513329+00:00",
          "2023-04-04T14:30:21.513330+00:00",
          "2023-04-04T14:30:21.513330+00:00",
          "2023-04-04T14:30:21.513332+00:00",
          "2023-04-04T14:30:21.513344+00:00",
          "2023-04-04T14:30:21.513345+00:00",
          "2023-04-04T14:30:21.513345+00:00",
          "2023-04-04T14:30:21.513345+00:00",
          "2023-04-04T14:30:21.513346+00:00",
          "2023-04-04T14:30:21.513355+00:00",
          "2023-04-04T14:30:21.513360+00:00",
          "2023-04-04T14:30:21.513365+00:00",
          "2023-04-04T14:30:21.513365+00:00",
          "2023-04-04T14:30:21.513368+00:00",
          "2023-04-04T14:30:21.513368+00:00",
          "2023-04-04T14:30:21.513385+00:00",
          "2023-04-04T14:30:21.513424+00:00",
          "2023-04-04T14:30:21.513451+00:00",
          "2023-04-04T14:30:21.513516+00:00",
          "2023-04-04T14:30:21.513573+00:00",
          "2023-04-04T14:30:21.513580+00:00",
          "2023-04-04T14:30:21.513584+00:00",
          "2023-04-04T14:30:21.514059+00:00",
          "2023-04-04T14:30:21.514204+00:00",
          "2023-04-04T14:30:21.514871+00:00",
          "2023-04-04T14:30:21.514894+00:00",
          "2023-04-04T14:30:21.514908+00:00",
          "2023-04-04T14:30:21.515303+00:00",
          "2023-04-04T14:30:21.515464+00:00",
          "2023-04-04T14:30:21.515665+00:00",
          "2023-04-04T14:30:21.515698+00:00",
          "2023-04-04T14:30:21.515766+00:00",
          "2023-04-04T14:30:21.517382+00:00",
          "2023-04-04T14:30:21.521182+00:00",
          "2023-04-04T14:30:21.538413+00:00",
          "2023-04-04T14:30:21.543820+00:00",
          "2023-04-04T14:30:21.543835+00:00",
          "2023-04-04T14:30:21.550661+00:00",
          "2023-04-04T14:30:21.580549+00:00",
          "2023-04-04T14:30:21.580580+00:00",
          "2023-04-04T14:30:21.665585+00:00",
          "2023-04-04T14:30:21.723276+00:00",
          "2023-04-04T14:30:21.725630+00:00",
          "2023-04-04T14:30:21.726005+00:00",
          "2023-04-04T14:30:21.726005+00:00",
          "2023-04-04T14:30:21.726382+00:00",
          "2023-04-04T14:30:21.726382+00:00",
          "2023-04-04T14:30:21.729660+00:00",
          "2023-04-04T14:30:21.731411+00:00",
          "2023-04-04T14:30:21.731971+00:00",
          "2023-04-04T14:30:21.732585+00:00",
          "2023-04-04T14:30:21.733487+00:00",
          "2023-04-04T14:30:21.734479+00:00",
          "2023-04-04T14:30:21.734479+00:00",
          "2023-04-04T14:30:21.734481+00:00",
          "2023-04-04T14:30:21.734519+00:00",
          "2023-04-04T14:30:21.734522+00:00",
          "2023-04-04T14:30:21.734522+00:00",
          "2023-04-04T14:30:21.734560+00:00",
          "2023-04-04T14:30:21.735947+00:00",
          "2023-04-04T14:30:21.740253+00:00",
          "2023-04-04T14:30:21.740996+00:00",
          "2023-04-04T14:30:21.745013+00:00",
          "2023-04-04T14:30:21.822121+00:00",
          "2023-04-04T14:30:21.859774+00:00",
          "2023-04-04T14:30:22.173103+00:00",
          "2023-04-04T14:30:22.173107+00:00",
          "2023-04-04T14:30:22.173108+00:00",
          "2023-04-04T14:30:22.173121+00:00",
          "2023-04-04T14:30:22.173132+00:00",
          "2023-04-04T14:30:22.173136+00:00",
          "2023-04-04T14:30:22.173136+00:00",
          "2023-04-04T14:30:22.173147+00:00",
          "2023-04-04T14:30:22.173560+00:00",
          "2023-04-04T14:30:22.174731+00:00",
          "2023-04-04T14:30:22.179981+00:00",
          "2023-04-04T14:30:22.661095+00:00",
          "2023-04-04T14:30:22.761682+00:00",
          "2023-04-04T14:30:22.761734+00:00",
          "2023-04-04T14:30:22.950980+00:00"
         ],
         "xaxis": "x",
         "y": [
          0.00999999999999801,
          0.00999999999999801,
          0.00999999999999801,
          0.00999999999999801,
          0.00999999999999801,
          0.00999999999999801,
          0.00999999999999801,
          0.00999999999999801,
          0.00999999999999801,
          0.00999999999999801,
          0.00999999999999801,
          0.00999999999999801,
          0.00999999999999801,
          0.00999999999999801,
          0.00999999999999801,
          0.00999999999999801,
          0.00999999999999801,
          0.00999999999999801,
          0.00999999999999801,
          0.00999999999999801,
          0.00999999999999801,
          0.00999999999999801,
          0.00999999999999801,
          0.00999999999999801,
          0.00999999999999801,
          0.00999999999999801,
          0.00999999999999801,
          0.00999999999999801,
          0.00999999999999801,
          0.00999999999999801,
          0.00999999999999801,
          0.00999999999999801,
          0.00999999999999801,
          0.00999999999999801,
          0.00999999999999801,
          0.00999999999999801,
          0.00999999999999801,
          0.00999999999999801,
          0.00999999999999801,
          0.00999999999999801,
          0.00999999999999801,
          0.00999999999999801,
          0.00999999999999801,
          0.00999999999999801,
          0.00999999999999801,
          0.00999999999999801,
          0.00999999999999801,
          0.00999999999999801,
          0.00999999999999801,
          0.00999999999999801,
          0.00999999999999801,
          0.00999999999999801,
          0.00999999999999801,
          0.00999999999999801,
          0.00999999999999801,
          0.00999999999999801,
          0.00999999999999801,
          0.00999999999999801,
          0.00999999999999801,
          0.00999999999999801,
          0.00999999999999801,
          0.00999999999999801,
          0.00999999999999801,
          0.00999999999999801,
          0.00999999999999801,
          0.00999999999999801,
          0.00999999999999801,
          0.00999999999999801,
          0.00999999999999801,
          0.00999999999999801,
          0.00999999999999801,
          0.00999999999999801,
          0.00999999999999801,
          0.00999999999999801,
          0.00999999999999801,
          0.00999999999999801,
          0.00999999999999801,
          0.00999999999999801,
          0.00999999999999801,
          0.00999999999999801,
          0.00999999999999801,
          0.00999999999999801,
          0.00999999999999801,
          0.00999999999999801,
          0.00999999999999801,
          0.00999999999999801,
          0.00999999999999801,
          0.00999999999999801,
          0.00999999999999801,
          0.00999999999999801,
          0.00999999999999801,
          0.00999999999999801,
          0.00999999999999801,
          0.00999999999999801,
          0.00999999999999801,
          0.00999999999999801,
          0.00999999999999801,
          0.00999999999999801,
          0.00999999999999801,
          0.00999999999999801,
          0.00999999999999801,
          0.00999999999999801,
          0.00999999999999801,
          0.00999999999999801,
          0.00999999999999801,
          0.00999999999999801,
          0.00999999999999801,
          0.00999999999999801,
          0.00999999999999801,
          0.00999999999999801,
          0.00999999999999801,
          0.00999999999999801,
          0.00999999999999801,
          0.00999999999999801,
          0.00999999999999801,
          0.00999999999999801,
          0.00999999999999801,
          0.00999999999999801,
          0.00999999999999801,
          0.00999999999999801,
          0.00999999999999801,
          0.00999999999999801,
          0.00999999999999801,
          0.00999999999999801,
          0.00999999999999801,
          0.00999999999999801,
          0.00999999999999801,
          0.00999999999999801,
          0.00999999999999801,
          0.00999999999999801,
          0.00999999999999801,
          0.00999999999999801,
          0.00999999999999801,
          0.00999999999999801,
          0.00999999999999801,
          0.00999999999999801,
          0.00999999999999801,
          0.00999999999999801,
          0.00999999999999801,
          0.00999999999999801,
          0.00999999999999801,
          0.00999999999999801,
          0.00999999999999801,
          0.00999999999999801,
          0.00999999999999801,
          0.00999999999999801,
          0.00999999999999801,
          0.00999999999999801,
          0.00999999999999801,
          0.00999999999999801,
          0.00999999999999801,
          0.00999999999999801,
          0.00999999999999801,
          0.00999999999999801,
          0.00999999999999801,
          0.00999999999999801,
          0.00999999999999801,
          0.00999999999999801,
          0.00999999999999801,
          0.00999999999999801,
          0.00999999999999801,
          0.00999999999999801,
          0.00999999999999801,
          0.00999999999999801,
          0.00999999999999801,
          0.00999999999999801,
          0.00999999999999801,
          0.00999999999999801,
          0.00999999999999801,
          0.00999999999999801,
          0.00999999999999801,
          0.00999999999999801,
          0.00999999999999801,
          0.00999999999999801,
          0.00999999999999801,
          0.00999999999999801,
          0.00999999999999801,
          0.00999999999999801,
          0.00999999999999801,
          0.00999999999999801,
          0.00999999999999801,
          0.00999999999999801,
          0.00999999999999801,
          0.00999999999999801,
          0.00999999999999801,
          0.00999999999999801,
          0.00999999999999801,
          0.00999999999999801,
          0.00999999999999801,
          0.00999999999999801,
          0.00999999999999801,
          0.00999999999999801,
          0.00999999999999801,
          0.00999999999999801,
          0.00999999999999801,
          0.00999999999999801,
          0.00999999999999801,
          0.00999999999999801,
          0.00999999999999801,
          0.00999999999999801,
          0.00999999999999801,
          0.00999999999999801,
          0.00999999999999801,
          0.00999999999999801,
          0.00999999999999801,
          0.00999999999999801,
          0.00999999999999801,
          0.00999999999999801,
          0.00999999999999801,
          0.00999999999999801,
          0.00999999999999801,
          0.00999999999999801,
          0.00999999999999801,
          0.00999999999999801,
          0.00999999999999801,
          0.00999999999999801,
          0.00999999999999801,
          0.00999999999999801,
          0.00999999999999801,
          0.00999999999999801,
          0.00999999999999801,
          0.00999999999999801,
          0.00999999999999801,
          0.00999999999999801,
          0.00999999999999801,
          0.00999999999999801,
          0.00999999999999801,
          0.00999999999999801,
          0.00999999999999801,
          0.00999999999999801,
          0.00999999999999801,
          0.00999999999999801,
          0.00999999999999801,
          0.00999999999999801,
          0.00999999999999801,
          0.00999999999999801,
          0.00999999999999801,
          0.00999999999999801,
          0.00999999999999801,
          0.00999999999999801,
          0.00999999999999801,
          0.00999999999999801,
          0.00999999999999801,
          0.00999999999999801,
          0.00999999999999801,
          0.00999999999999801,
          0.00999999999999801,
          0.00999999999999801,
          0.00999999999999801,
          0.00999999999999801,
          0.00999999999999801,
          0.00999999999999801,
          0.00999999999999801,
          0.00999999999999801,
          0.00999999999999801,
          0.00999999999999801,
          0.00999999999999801,
          0,
          0,
          0,
          0,
          0,
          0,
          0,
          0,
          0,
          0,
          0,
          0,
          0,
          0,
          0,
          0,
          0,
          0,
          0.00999999999999801,
          0.00999999999999801,
          0.00999999999999801,
          0.00999999999999801,
          0.00999999999999801,
          0.00999999999999801,
          0.00999999999999801,
          0.00999999999999801,
          0.00999999999999801,
          0.00999999999999801,
          0.00999999999999801,
          0.00999999999999801,
          0.00999999999999801,
          0.00999999999999801,
          0.00999999999999801,
          0.00999999999999801,
          0.00999999999999801,
          0.00999999999999801,
          0.00999999999999801,
          0.00999999999999801,
          0.00999999999999801,
          0.00999999999999801,
          0.00999999999999801,
          0.00999999999999801,
          0.00999999999999801,
          0.00999999999999801,
          0.00999999999999801,
          0.00999999999999801,
          0.00999999999999801,
          0.00999999999999801,
          0.00999999999999801,
          0.00999999999999801,
          0.00999999999999801,
          0.00999999999999801,
          0.00999999999999801,
          0.00999999999999801,
          0.00999999999999801,
          0.00999999999999801,
          0.00999999999999801,
          0.00999999999999801,
          0.00999999999999801,
          0.00999999999999801,
          0.00999999999999801,
          0.00999999999999801,
          0.00999999999999801,
          0.00999999999999801,
          0.00999999999999801,
          0.00999999999999801,
          0.00999999999999801,
          0.00999999999999801,
          0.00999999999999801,
          0.00999999999999801,
          0.00999999999999801,
          0.00999999999999801,
          0,
          0,
          0,
          0,
          0,
          0,
          0,
          0,
          0,
          0,
          0,
          0,
          0,
          0,
          0,
          0,
          0,
          0.00999999999999801,
          0.00999999999999801,
          0.00999999999999801,
          0.00999999999999801,
          0.00999999999999801,
          0.00999999999999801,
          0.00999999999999801,
          0.00999999999999801,
          0.00999999999999801,
          0.00999999999999801,
          0.00999999999999801,
          0.00999999999999801,
          0.00999999999999801,
          0.00999999999999801,
          0.00999999999999801,
          0.00999999999999801,
          0.00999999999999801,
          0.00999999999999801,
          0.00999999999999801,
          0.00999999999999801,
          0.00999999999999801,
          0.00999999999999801,
          0.00999999999999801,
          0.00999999999999801,
          0.00999999999999801,
          0.00999999999999801,
          0.00999999999999801,
          0.00999999999999801,
          0.00999999999999801,
          0.00999999999999801,
          0.00999999999999801,
          0.00999999999999801,
          0.00999999999999801,
          0.00999999999999801,
          0.00999999999999801,
          0.00999999999999801,
          0.00999999999999801,
          0.00999999999999801,
          0.00999999999999801,
          0.00999999999999801,
          0.00999999999999801,
          0.00999999999999801,
          0.00999999999999801,
          0.00999999999999801,
          0.00999999999999801,
          0.00999999999999801,
          0.00999999999999801,
          0.00999999999999801,
          0.00999999999999801,
          0.00999999999999801,
          0.00999999999999801,
          0.00999999999999801,
          0.00999999999999801,
          0.00999999999999801,
          0.00999999999999801,
          0.00999999999999801,
          0.00999999999999801,
          0.00999999999999801,
          0.00999999999999801,
          0.00999999999999801,
          0.00999999999999801,
          0.00999999999999801,
          0.00999999999999801,
          0.00999999999999801,
          0.00999999999999801,
          0.00999999999999801,
          0.00999999999999801,
          0.00999999999999801,
          0.00999999999999801,
          0.00999999999999801,
          0.00999999999999801,
          0.00999999999999801,
          0.00999999999999801,
          0.00999999999999801,
          0.00999999999999801,
          0.00999999999999801,
          0.00999999999999801,
          0.00999999999999801,
          0.00999999999999801,
          0.00999999999999801,
          0.00999999999999801,
          0.00999999999999801,
          0.00999999999999801,
          0.00999999999999801,
          0.00999999999999801,
          0.00999999999999801,
          0.00999999999999801,
          0.00999999999999801,
          0.00999999999999801,
          0.00999999999999801,
          0.00999999999999801,
          0.00999999999999801,
          0.00999999999999801,
          0.00999999999999801,
          0.00999999999999801,
          0.00999999999999801,
          0.00999999999999801,
          0.00999999999999801,
          0.00999999999999801,
          0.00999999999999801,
          0.00999999999999801,
          0.00999999999999801,
          0.00999999999999801,
          0.00999999999999801,
          0.00999999999999801,
          0.00999999999999801,
          0.00999999999999801,
          0.00999999999999801,
          0.00999999999999801,
          0.00999999999999801,
          0.00999999999999801,
          0.00999999999999801,
          0.00999999999999801,
          0.00999999999999801,
          0.00999999999999801,
          0.00999999999999801,
          0.00999999999999801,
          0.01999999999999602,
          0.00999999999999801,
          0.00999999999999801,
          0.00999999999999801,
          0.00999999999999801,
          0.00999999999999801,
          0.00999999999999801,
          0.00999999999999801,
          0.00999999999999801,
          0.00999999999999801,
          0.00999999999999801,
          0.00999999999999801,
          0.00999999999999801,
          0.00999999999999801,
          0.00999999999999801,
          0.00999999999999801,
          0.00999999999999801,
          0.00999999999999801,
          0.00999999999999801,
          0.00999999999999801,
          0.00999999999999801,
          0.00999999999999801,
          0.00999999999999801,
          0.00999999999999801,
          0.00999999999999801,
          0.00999999999999801,
          0.00999999999999801,
          0.00999999999999801,
          0.00999999999999801,
          0.00999999999999801,
          0.00999999999999801,
          0.00999999999999801,
          0.00999999999999801,
          0.00999999999999801,
          0.00999999999999801,
          0.00999999999999801,
          0.00999999999999801,
          0.00999999999999801,
          0.00999999999999801,
          0.00999999999999801,
          0.00999999999999801,
          0.00999999999999801,
          0.00999999999999801,
          0.00999999999999801,
          0.00999999999999801,
          0.00999999999999801,
          0.00999999999999801,
          0.00999999999999801,
          0.00999999999999801,
          0.00999999999999801,
          0.00999999999999801,
          0.00999999999999801,
          0.00999999999999801,
          0.00999999999999801,
          0.00999999999999801,
          0.00999999999999801,
          0.00999999999999801,
          0.00999999999999801,
          0.00999999999999801,
          0.00999999999999801,
          0.00999999999999801,
          0.00999999999999801,
          0.00999999999999801,
          0.00999999999999801,
          0.00999999999999801,
          0.00999999999999801,
          0.00999999999999801,
          0.00999999999999801,
          0.00999999999999801,
          0,
          0,
          0,
          0,
          0,
          0,
          0,
          0,
          0,
          0,
          0,
          0,
          0,
          0,
          0,
          0,
          0,
          0,
          0,
          0,
          0,
          0,
          0,
          0,
          0.00999999999999801,
          0.00999999999999801,
          0.00999999999999801,
          0.00999999999999801,
          0.00999999999999801,
          0.00999999999999801,
          0.00999999999999801,
          0.00999999999999801,
          0.00999999999999801,
          0.00999999999999801,
          0.00999999999999801,
          0.00999999999999801,
          0.00999999999999801,
          0.00999999999999801,
          0.00999999999999801,
          0.00999999999999801,
          0.00999999999999801,
          0.00999999999999801,
          0.00999999999999801,
          0.00999999999999801,
          0.00999999999999801,
          0.00999999999999801,
          0.00999999999999801,
          0.00999999999999801,
          0.00999999999999801,
          0.00999999999999801,
          0.00999999999999801,
          0.00999999999999801,
          0.00999999999999801,
          0.00999999999999801,
          0.00999999999999801,
          0.00999999999999801,
          0.00999999999999801,
          0.00999999999999801,
          0.00999999999999801,
          0.00999999999999801,
          0.00999999999999801,
          0.00999999999999801,
          0.00999999999999801,
          0.00999999999999801,
          0.00999999999999801,
          0.00999999999999801,
          0.00999999999999801,
          0.00999999999999801,
          0.00999999999999801,
          0.00999999999999801,
          0.00999999999999801,
          0.00999999999999801,
          0.00999999999999801,
          0.00999999999999801,
          0.00999999999999801,
          0.00999999999999801,
          0.00999999999999801,
          0.00999999999999801,
          0.00999999999999801,
          0.00999999999999801,
          0.00999999999999801,
          0.00999999999999801,
          0.00999999999999801,
          0.00999999999999801,
          0.00999999999999801,
          0.00999999999999801,
          0.00999999999999801,
          0.00999999999999801,
          0.00999999999999801,
          0.00999999999999801,
          0.00999999999999801,
          0.00999999999999801,
          0.00999999999999801,
          0.00999999999999801,
          0.00999999999999801,
          0.00999999999999801,
          0.00999999999999801,
          0.00999999999999801,
          0.00999999999999801,
          0.00999999999999801,
          0.00999999999999801,
          0.00999999999999801,
          0.00999999999999801,
          0.00999999999999801,
          0.00999999999999801,
          0.00999999999999801,
          0.020000000000003126,
          0.00999999999999801,
          0.00999999999999801,
          0.00999999999999801,
          0.00999999999999801,
          0.00999999999999801,
          0.00999999999999801,
          0.00999999999999801,
          0.00999999999999801,
          0.00999999999999801,
          0.00999999999999801,
          0.00999999999999801,
          0.00999999999999801,
          0,
          0,
          0,
          0,
          0,
          0,
          0,
          0,
          0,
          0,
          0,
          0,
          0,
          0,
          0.010000000000005116,
          0.010000000000005116,
          0.010000000000005116,
          0.010000000000005116,
          0.010000000000005116,
          0.010000000000005116,
          0.010000000000005116,
          0.010000000000005116,
          0.010000000000005116,
          0.010000000000005116,
          0.010000000000005116,
          0.010000000000005116,
          0.010000000000005116,
          0.010000000000005116,
          0.010000000000005116,
          0.010000000000005116,
          0.010000000000005116,
          0.010000000000005116,
          0.010000000000005116,
          0.010000000000005116,
          0.010000000000005116,
          0.010000000000005116,
          0.010000000000005116,
          0.010000000000005116,
          0.010000000000005116,
          0.010000000000005116,
          0.010000000000005116,
          0.010000000000005116,
          0.010000000000005116,
          0.010000000000005116,
          0.010000000000005116,
          0.010000000000005116,
          0.010000000000005116,
          0.010000000000005116,
          0.010000000000005116,
          0.010000000000005116,
          0.010000000000005116,
          0.010000000000005116,
          0.010000000000005116,
          0.010000000000005116,
          0.010000000000005116,
          0.010000000000005116,
          0.010000000000005116,
          0.010000000000005116,
          0.010000000000005116,
          0.010000000000005116,
          0.010000000000005116,
          0.010000000000005116,
          0.010000000000005116,
          0.010000000000005116,
          0.010000000000005116,
          0.010000000000005116,
          0.010000000000005116,
          0.010000000000005116,
          0.010000000000005116,
          0.010000000000005116,
          0.010000000000005116,
          0.010000000000005116,
          0.010000000000005116,
          0.010000000000005116,
          0.010000000000005116,
          0.010000000000005116,
          0.010000000000005116,
          0,
          0,
          0,
          0,
          0,
          0.00999999999999801,
          0.00999999999999801,
          0.00999999999999801,
          0.00999999999999801,
          0.00999999999999801,
          0.00999999999999801,
          0.00999999999999801,
          0.00999999999999801,
          0.00999999999999801,
          0.00999999999999801,
          0.00999999999999801,
          0.00999999999999801,
          0.00999999999999801,
          0.00999999999999801,
          0.00999999999999801,
          0.00999999999999801,
          0.00999999999999801,
          0.00999999999999801,
          0.00999999999999801,
          0.00999999999999801,
          0.00999999999999801,
          0.00999999999999801,
          0.00999999999999801,
          0.00999999999999801,
          0.00999999999999801,
          0.00999999999999801,
          0.00999999999999801,
          0.00999999999999801,
          0.00999999999999801,
          0.00999999999999801,
          0.00999999999999801,
          0.00999999999999801,
          0.00999999999999801,
          0.00999999999999801,
          0.00999999999999801,
          0.00999999999999801,
          0.00999999999999801,
          0.00999999999999801,
          0.00999999999999801,
          0.00999999999999801,
          0.00999999999999801,
          0.00999999999999801,
          0.00999999999999801,
          0.00999999999999801,
          0.00999999999999801,
          0.00999999999999801,
          0.00999999999999801,
          0.00999999999999801,
          0.00999999999999801,
          0.00999999999999801,
          0.00999999999999801,
          0.00999999999999801,
          0.00999999999999801,
          0.00999999999999801,
          0.00999999999999801,
          0.00999999999999801,
          0.00999999999999801,
          0.00999999999999801,
          0.00999999999999801,
          0.00999999999999801,
          0.00999999999999801,
          0.00999999999999801,
          0.00999999999999801,
          0.00999999999999801,
          0.00999999999999801,
          0.00999999999999801,
          0.00999999999999801,
          0.00999999999999801,
          0.00999999999999801,
          0.00999999999999801,
          0.00999999999999801,
          0.00999999999999801,
          0.00999999999999801,
          0.00999999999999801,
          0.00999999999999801,
          0.00999999999999801,
          0.00999999999999801,
          0.00999999999999801,
          0.00999999999999801,
          0.00999999999999801,
          0.00999999999999801,
          0.00999999999999801,
          0.00999999999999801,
          0.00999999999999801,
          0.00999999999999801,
          0.00999999999999801,
          0.00999999999999801,
          0.00999999999999801,
          0.00999999999999801,
          0.00999999999999801,
          0.00999999999999801,
          0.00999999999999801,
          0.00999999999999801,
          0.00999999999999801,
          0.00999999999999801,
          0.00999999999999801,
          0.00999999999999801,
          0.00999999999999801,
          0.00999999999999801,
          0.00999999999999801,
          0.00999999999999801,
          0.00999999999999801,
          0.00999999999999801,
          0.00999999999999801,
          0.00999999999999801,
          0.00999999999999801,
          0.00999999999999801,
          0.00999999999999801,
          0.00999999999999801,
          0.00999999999999801,
          0.00999999999999801,
          0.00999999999999801,
          0.00999999999999801,
          0.00999999999999801,
          0.00999999999999801,
          0.00999999999999801,
          0.00999999999999801,
          0.00999999999999801,
          0.00999999999999801,
          0.00999999999999801,
          0.00999999999999801,
          0.00999999999999801,
          0.00999999999999801,
          0.00999999999999801,
          0.00999999999999801,
          0.00999999999999801,
          0.00999999999999801,
          0.00999999999999801,
          0.00999999999999801,
          0.00999999999999801,
          0.00999999999999801,
          0.00999999999999801,
          0.00999999999999801,
          0.00999999999999801,
          0.00999999999999801,
          0.00999999999999801,
          0.00999999999999801,
          0.00999999999999801,
          0.00999999999999801,
          0.00999999999999801,
          0.00999999999999801,
          0.00999999999999801,
          0.00999999999999801,
          0.00999999999999801,
          0.00999999999999801,
          0.00999999999999801,
          0.00999999999999801,
          0.00999999999999801,
          0.00999999999999801,
          0.00999999999999801,
          0.00999999999999801,
          0.00999999999999801,
          0.00999999999999801,
          0.00999999999999801,
          0.00999999999999801,
          0.00999999999999801,
          0.00999999999999801,
          0.00999999999999801,
          0.00999999999999801,
          0.00999999999999801,
          0.00999999999999801,
          0.00999999999999801,
          0.00999999999999801,
          0.00999999999999801,
          0.00999999999999801,
          0.00999999999999801,
          0.00999999999999801,
          0.00999999999999801,
          0.00999999999999801,
          0.00999999999999801,
          0.00999999999999801,
          0.00999999999999801,
          0.00999999999999801,
          0.00999999999999801,
          0,
          0,
          0,
          0,
          0,
          0,
          0,
          0,
          0,
          0,
          0,
          0,
          0,
          0,
          0,
          0,
          0,
          0,
          0,
          0,
          0,
          0,
          0,
          0,
          0,
          0,
          0,
          0,
          0,
          0,
          0,
          0,
          0,
          0.00999999999999801,
          0.00999999999999801,
          0.00999999999999801,
          0.00999999999999801,
          0.00999999999999801,
          0.00999999999999801,
          0.00999999999999801,
          0.00999999999999801,
          0.00999999999999801,
          0.00999999999999801,
          0.00999999999999801,
          0.00999999999999801,
          0.00999999999999801,
          0.00999999999999801,
          0.00999999999999801,
          0.00999999999999801,
          0.00999999999999801,
          0.00999999999999801,
          0.00999999999999801,
          0.00999999999999801,
          0.00999999999999801,
          0.00999999999999801,
          0.00999999999999801,
          0.00999999999999801,
          0.00999999999999801,
          0.00999999999999801,
          0.00999999999999801,
          0.00999999999999801,
          0.00999999999999801,
          0.00999999999999801,
          0.00999999999999801,
          0.00999999999999801,
          0.00999999999999801,
          0.00999999999999801,
          0.00999999999999801,
          0.00999999999999801,
          0.00999999999999801,
          0.00999999999999801,
          0.00999999999999801,
          0.00999999999999801,
          0.00999999999999801,
          0.00999999999999801,
          0.00999999999999801,
          0.00999999999999801,
          0.00999999999999801,
          0.00999999999999801,
          0.00999999999999801,
          0.00999999999999801,
          0.00999999999999801,
          0.00999999999999801,
          0.00999999999999801,
          0.00999999999999801,
          0.00999999999999801,
          0.00999999999999801,
          0.00999999999999801,
          0.00999999999999801,
          0.00999999999999801,
          0.00999999999999801,
          0.00999999999999801,
          0.00999999999999801
         ],
         "yaxis": "y"
        }
       ],
       "layout": {
        "legend": {
         "tracegroupgap": 0
        },
        "margin": {
         "t": 60
        },
        "template": {
         "data": {
          "bar": [
           {
            "error_x": {
             "color": "#2a3f5f"
            },
            "error_y": {
             "color": "#2a3f5f"
            },
            "marker": {
             "line": {
              "color": "#E5ECF6",
              "width": 0.5
             },
             "pattern": {
              "fillmode": "overlay",
              "size": 10,
              "solidity": 0.2
             }
            },
            "type": "bar"
           }
          ],
          "barpolar": [
           {
            "marker": {
             "line": {
              "color": "#E5ECF6",
              "width": 0.5
             },
             "pattern": {
              "fillmode": "overlay",
              "size": 10,
              "solidity": 0.2
             }
            },
            "type": "barpolar"
           }
          ],
          "carpet": [
           {
            "aaxis": {
             "endlinecolor": "#2a3f5f",
             "gridcolor": "white",
             "linecolor": "white",
             "minorgridcolor": "white",
             "startlinecolor": "#2a3f5f"
            },
            "baxis": {
             "endlinecolor": "#2a3f5f",
             "gridcolor": "white",
             "linecolor": "white",
             "minorgridcolor": "white",
             "startlinecolor": "#2a3f5f"
            },
            "type": "carpet"
           }
          ],
          "choropleth": [
           {
            "colorbar": {
             "outlinewidth": 0,
             "ticks": ""
            },
            "type": "choropleth"
           }
          ],
          "contour": [
           {
            "colorbar": {
             "outlinewidth": 0,
             "ticks": ""
            },
            "colorscale": [
             [
              0,
              "#0d0887"
             ],
             [
              0.1111111111111111,
              "#46039f"
             ],
             [
              0.2222222222222222,
              "#7201a8"
             ],
             [
              0.3333333333333333,
              "#9c179e"
             ],
             [
              0.4444444444444444,
              "#bd3786"
             ],
             [
              0.5555555555555556,
              "#d8576b"
             ],
             [
              0.6666666666666666,
              "#ed7953"
             ],
             [
              0.7777777777777778,
              "#fb9f3a"
             ],
             [
              0.8888888888888888,
              "#fdca26"
             ],
             [
              1,
              "#f0f921"
             ]
            ],
            "type": "contour"
           }
          ],
          "contourcarpet": [
           {
            "colorbar": {
             "outlinewidth": 0,
             "ticks": ""
            },
            "type": "contourcarpet"
           }
          ],
          "heatmap": [
           {
            "colorbar": {
             "outlinewidth": 0,
             "ticks": ""
            },
            "colorscale": [
             [
              0,
              "#0d0887"
             ],
             [
              0.1111111111111111,
              "#46039f"
             ],
             [
              0.2222222222222222,
              "#7201a8"
             ],
             [
              0.3333333333333333,
              "#9c179e"
             ],
             [
              0.4444444444444444,
              "#bd3786"
             ],
             [
              0.5555555555555556,
              "#d8576b"
             ],
             [
              0.6666666666666666,
              "#ed7953"
             ],
             [
              0.7777777777777778,
              "#fb9f3a"
             ],
             [
              0.8888888888888888,
              "#fdca26"
             ],
             [
              1,
              "#f0f921"
             ]
            ],
            "type": "heatmap"
           }
          ],
          "heatmapgl": [
           {
            "colorbar": {
             "outlinewidth": 0,
             "ticks": ""
            },
            "colorscale": [
             [
              0,
              "#0d0887"
             ],
             [
              0.1111111111111111,
              "#46039f"
             ],
             [
              0.2222222222222222,
              "#7201a8"
             ],
             [
              0.3333333333333333,
              "#9c179e"
             ],
             [
              0.4444444444444444,
              "#bd3786"
             ],
             [
              0.5555555555555556,
              "#d8576b"
             ],
             [
              0.6666666666666666,
              "#ed7953"
             ],
             [
              0.7777777777777778,
              "#fb9f3a"
             ],
             [
              0.8888888888888888,
              "#fdca26"
             ],
             [
              1,
              "#f0f921"
             ]
            ],
            "type": "heatmapgl"
           }
          ],
          "histogram": [
           {
            "marker": {
             "pattern": {
              "fillmode": "overlay",
              "size": 10,
              "solidity": 0.2
             }
            },
            "type": "histogram"
           }
          ],
          "histogram2d": [
           {
            "colorbar": {
             "outlinewidth": 0,
             "ticks": ""
            },
            "colorscale": [
             [
              0,
              "#0d0887"
             ],
             [
              0.1111111111111111,
              "#46039f"
             ],
             [
              0.2222222222222222,
              "#7201a8"
             ],
             [
              0.3333333333333333,
              "#9c179e"
             ],
             [
              0.4444444444444444,
              "#bd3786"
             ],
             [
              0.5555555555555556,
              "#d8576b"
             ],
             [
              0.6666666666666666,
              "#ed7953"
             ],
             [
              0.7777777777777778,
              "#fb9f3a"
             ],
             [
              0.8888888888888888,
              "#fdca26"
             ],
             [
              1,
              "#f0f921"
             ]
            ],
            "type": "histogram2d"
           }
          ],
          "histogram2dcontour": [
           {
            "colorbar": {
             "outlinewidth": 0,
             "ticks": ""
            },
            "colorscale": [
             [
              0,
              "#0d0887"
             ],
             [
              0.1111111111111111,
              "#46039f"
             ],
             [
              0.2222222222222222,
              "#7201a8"
             ],
             [
              0.3333333333333333,
              "#9c179e"
             ],
             [
              0.4444444444444444,
              "#bd3786"
             ],
             [
              0.5555555555555556,
              "#d8576b"
             ],
             [
              0.6666666666666666,
              "#ed7953"
             ],
             [
              0.7777777777777778,
              "#fb9f3a"
             ],
             [
              0.8888888888888888,
              "#fdca26"
             ],
             [
              1,
              "#f0f921"
             ]
            ],
            "type": "histogram2dcontour"
           }
          ],
          "mesh3d": [
           {
            "colorbar": {
             "outlinewidth": 0,
             "ticks": ""
            },
            "type": "mesh3d"
           }
          ],
          "parcoords": [
           {
            "line": {
             "colorbar": {
              "outlinewidth": 0,
              "ticks": ""
             }
            },
            "type": "parcoords"
           }
          ],
          "pie": [
           {
            "automargin": true,
            "type": "pie"
           }
          ],
          "scatter": [
           {
            "fillpattern": {
             "fillmode": "overlay",
             "size": 10,
             "solidity": 0.2
            },
            "type": "scatter"
           }
          ],
          "scatter3d": [
           {
            "line": {
             "colorbar": {
              "outlinewidth": 0,
              "ticks": ""
             }
            },
            "marker": {
             "colorbar": {
              "outlinewidth": 0,
              "ticks": ""
             }
            },
            "type": "scatter3d"
           }
          ],
          "scattercarpet": [
           {
            "marker": {
             "colorbar": {
              "outlinewidth": 0,
              "ticks": ""
             }
            },
            "type": "scattercarpet"
           }
          ],
          "scattergeo": [
           {
            "marker": {
             "colorbar": {
              "outlinewidth": 0,
              "ticks": ""
             }
            },
            "type": "scattergeo"
           }
          ],
          "scattergl": [
           {
            "marker": {
             "colorbar": {
              "outlinewidth": 0,
              "ticks": ""
             }
            },
            "type": "scattergl"
           }
          ],
          "scattermapbox": [
           {
            "marker": {
             "colorbar": {
              "outlinewidth": 0,
              "ticks": ""
             }
            },
            "type": "scattermapbox"
           }
          ],
          "scatterpolar": [
           {
            "marker": {
             "colorbar": {
              "outlinewidth": 0,
              "ticks": ""
             }
            },
            "type": "scatterpolar"
           }
          ],
          "scatterpolargl": [
           {
            "marker": {
             "colorbar": {
              "outlinewidth": 0,
              "ticks": ""
             }
            },
            "type": "scatterpolargl"
           }
          ],
          "scatterternary": [
           {
            "marker": {
             "colorbar": {
              "outlinewidth": 0,
              "ticks": ""
             }
            },
            "type": "scatterternary"
           }
          ],
          "surface": [
           {
            "colorbar": {
             "outlinewidth": 0,
             "ticks": ""
            },
            "colorscale": [
             [
              0,
              "#0d0887"
             ],
             [
              0.1111111111111111,
              "#46039f"
             ],
             [
              0.2222222222222222,
              "#7201a8"
             ],
             [
              0.3333333333333333,
              "#9c179e"
             ],
             [
              0.4444444444444444,
              "#bd3786"
             ],
             [
              0.5555555555555556,
              "#d8576b"
             ],
             [
              0.6666666666666666,
              "#ed7953"
             ],
             [
              0.7777777777777778,
              "#fb9f3a"
             ],
             [
              0.8888888888888888,
              "#fdca26"
             ],
             [
              1,
              "#f0f921"
             ]
            ],
            "type": "surface"
           }
          ],
          "table": [
           {
            "cells": {
             "fill": {
              "color": "#EBF0F8"
             },
             "line": {
              "color": "white"
             }
            },
            "header": {
             "fill": {
              "color": "#C8D4E3"
             },
             "line": {
              "color": "white"
             }
            },
            "type": "table"
           }
          ]
         },
         "layout": {
          "annotationdefaults": {
           "arrowcolor": "#2a3f5f",
           "arrowhead": 0,
           "arrowwidth": 1
          },
          "autotypenumbers": "strict",
          "coloraxis": {
           "colorbar": {
            "outlinewidth": 0,
            "ticks": ""
           }
          },
          "colorscale": {
           "diverging": [
            [
             0,
             "#8e0152"
            ],
            [
             0.1,
             "#c51b7d"
            ],
            [
             0.2,
             "#de77ae"
            ],
            [
             0.3,
             "#f1b6da"
            ],
            [
             0.4,
             "#fde0ef"
            ],
            [
             0.5,
             "#f7f7f7"
            ],
            [
             0.6,
             "#e6f5d0"
            ],
            [
             0.7,
             "#b8e186"
            ],
            [
             0.8,
             "#7fbc41"
            ],
            [
             0.9,
             "#4d9221"
            ],
            [
             1,
             "#276419"
            ]
           ],
           "sequential": [
            [
             0,
             "#0d0887"
            ],
            [
             0.1111111111111111,
             "#46039f"
            ],
            [
             0.2222222222222222,
             "#7201a8"
            ],
            [
             0.3333333333333333,
             "#9c179e"
            ],
            [
             0.4444444444444444,
             "#bd3786"
            ],
            [
             0.5555555555555556,
             "#d8576b"
            ],
            [
             0.6666666666666666,
             "#ed7953"
            ],
            [
             0.7777777777777778,
             "#fb9f3a"
            ],
            [
             0.8888888888888888,
             "#fdca26"
            ],
            [
             1,
             "#f0f921"
            ]
           ],
           "sequentialminus": [
            [
             0,
             "#0d0887"
            ],
            [
             0.1111111111111111,
             "#46039f"
            ],
            [
             0.2222222222222222,
             "#7201a8"
            ],
            [
             0.3333333333333333,
             "#9c179e"
            ],
            [
             0.4444444444444444,
             "#bd3786"
            ],
            [
             0.5555555555555556,
             "#d8576b"
            ],
            [
             0.6666666666666666,
             "#ed7953"
            ],
            [
             0.7777777777777778,
             "#fb9f3a"
            ],
            [
             0.8888888888888888,
             "#fdca26"
            ],
            [
             1,
             "#f0f921"
            ]
           ]
          },
          "colorway": [
           "#636efa",
           "#EF553B",
           "#00cc96",
           "#ab63fa",
           "#FFA15A",
           "#19d3f3",
           "#FF6692",
           "#B6E880",
           "#FF97FF",
           "#FECB52"
          ],
          "font": {
           "color": "#2a3f5f"
          },
          "geo": {
           "bgcolor": "white",
           "lakecolor": "white",
           "landcolor": "#E5ECF6",
           "showlakes": true,
           "showland": true,
           "subunitcolor": "white"
          },
          "hoverlabel": {
           "align": "left"
          },
          "hovermode": "closest",
          "mapbox": {
           "style": "light"
          },
          "paper_bgcolor": "white",
          "plot_bgcolor": "#E5ECF6",
          "polar": {
           "angularaxis": {
            "gridcolor": "white",
            "linecolor": "white",
            "ticks": ""
           },
           "bgcolor": "#E5ECF6",
           "radialaxis": {
            "gridcolor": "white",
            "linecolor": "white",
            "ticks": ""
           }
          },
          "scene": {
           "xaxis": {
            "backgroundcolor": "#E5ECF6",
            "gridcolor": "white",
            "gridwidth": 2,
            "linecolor": "white",
            "showbackground": true,
            "ticks": "",
            "zerolinecolor": "white"
           },
           "yaxis": {
            "backgroundcolor": "#E5ECF6",
            "gridcolor": "white",
            "gridwidth": 2,
            "linecolor": "white",
            "showbackground": true,
            "ticks": "",
            "zerolinecolor": "white"
           },
           "zaxis": {
            "backgroundcolor": "#E5ECF6",
            "gridcolor": "white",
            "gridwidth": 2,
            "linecolor": "white",
            "showbackground": true,
            "ticks": "",
            "zerolinecolor": "white"
           }
          },
          "shapedefaults": {
           "line": {
            "color": "#2a3f5f"
           }
          },
          "ternary": {
           "aaxis": {
            "gridcolor": "white",
            "linecolor": "white",
            "ticks": ""
           },
           "baxis": {
            "gridcolor": "white",
            "linecolor": "white",
            "ticks": ""
           },
           "bgcolor": "#E5ECF6",
           "caxis": {
            "gridcolor": "white",
            "linecolor": "white",
            "ticks": ""
           }
          },
          "title": {
           "x": 0.05
          },
          "xaxis": {
           "automargin": true,
           "gridcolor": "white",
           "linecolor": "white",
           "ticks": "",
           "title": {
            "standoff": 15
           },
           "zerolinecolor": "white",
           "zerolinewidth": 2
          },
          "yaxis": {
           "automargin": true,
           "gridcolor": "white",
           "linecolor": "white",
           "ticks": "",
           "title": {
            "standoff": 15
           },
           "zerolinecolor": "white",
           "zerolinewidth": 2
          }
         }
        },
        "title": {
         "text": "Bid-ask spread of $SHOP as a function of time"
        },
        "xaxis": {
         "anchor": "y",
         "domain": [
          0,
          1
         ],
         "title": {
          "text": "Time of day"
         }
        },
        "yaxis": {
         "anchor": "x",
         "domain": [
          0,
          1
         ],
         "title": {
          "text": "Bid-ask spread ($USD)"
         }
        }
       }
      },
      "text/html": [
       "<div>                            <div id=\"9fd88de5-cb7f-4920-bafb-87202cdfdd93\" class=\"plotly-graph-div\" style=\"height:525px; width:100%;\"></div>            <script type=\"text/javascript\">                require([\"plotly\"], function(Plotly) {                    window.PLOTLYENV=window.PLOTLYENV || {};                                    if (document.getElementById(\"9fd88de5-cb7f-4920-bafb-87202cdfdd93\")) {                    Plotly.newPlot(                        \"9fd88de5-cb7f-4920-bafb-87202cdfdd93\",                        [{\"hovertemplate\":\"timestamp=%{x}<br>y=%{y}<extra></extra>\",\"legendgroup\":\"\",\"line\":{\"color\":\"#636efa\",\"dash\":\"solid\"},\"marker\":{\"symbol\":\"circle\"},\"mode\":\"lines\",\"name\":\"\",\"orientation\":\"v\",\"showlegend\":false,\"x\":[\"2023-04-04T14:30:00.007710+00:00\",\"2023-04-04T14:30:00.007742+00:00\",\"2023-04-04T14:30:00.008409+00:00\",\"2023-04-04T14:30:00.024230+00:00\",\"2023-04-04T14:30:00.024762+00:00\",\"2023-04-04T14:30:00.024841+00:00\",\"2023-04-04T14:30:00.024843+00:00\",\"2023-04-04T14:30:00.024932+00:00\",\"2023-04-04T14:30:00.025065+00:00\",\"2023-04-04T14:30:00.025320+00:00\",\"2023-04-04T14:30:00.026172+00:00\",\"2023-04-04T14:30:00.027901+00:00\",\"2023-04-04T14:30:00.027910+00:00\",\"2023-04-04T14:30:00.039905+00:00\",\"2023-04-04T14:30:00.104685+00:00\",\"2023-04-04T14:30:00.114095+00:00\",\"2023-04-04T14:30:00.146442+00:00\",\"2023-04-04T14:30:00.146478+00:00\",\"2023-04-04T14:30:00.146814+00:00\",\"2023-04-04T14:30:00.147441+00:00\",\"2023-04-04T14:30:00.148964+00:00\",\"2023-04-04T14:30:00.151694+00:00\",\"2023-04-04T14:30:00.152002+00:00\",\"2023-04-04T14:30:00.152033+00:00\",\"2023-04-04T14:30:00.152154+00:00\",\"2023-04-04T14:30:00.153566+00:00\",\"2023-04-04T14:30:00.155091+00:00\",\"2023-04-04T14:30:00.165361+00:00\",\"2023-04-04T14:30:00.216896+00:00\",\"2023-04-04T14:30:00.227331+00:00\",\"2023-04-04T14:30:00.256836+00:00\",\"2023-04-04T14:30:00.256869+00:00\",\"2023-04-04T14:30:00.257853+00:00\",\"2023-04-04T14:30:00.257933+00:00\",\"2023-04-04T14:30:00.257966+00:00\",\"2023-04-04T14:30:00.258505+00:00\",\"2023-04-04T14:30:00.261306+00:00\",\"2023-04-04T14:30:00.261337+00:00\",\"2023-04-04T14:30:00.261380+00:00\",\"2023-04-04T14:30:00.266273+00:00\",\"2023-04-04T14:30:00.267476+00:00\",\"2023-04-04T14:30:00.269037+00:00\",\"2023-04-04T14:30:00.398233+00:00\",\"2023-04-04T14:30:00.398889+00:00\",\"2023-04-04T14:30:00.399003+00:00\",\"2023-04-04T14:30:00.399036+00:00\",\"2023-04-04T14:30:00.399376+00:00\",\"2023-04-04T14:30:00.399397+00:00\",\"2023-04-04T14:30:00.399477+00:00\",\"2023-04-04T14:30:00.399489+00:00\",\"2023-04-04T14:30:00.399758+00:00\",\"2023-04-04T14:30:00.399855+00:00\",\"2023-04-04T14:30:00.399965+00:00\",\"2023-04-04T14:30:00.400558+00:00\",\"2023-04-04T14:30:00.420265+00:00\",\"2023-04-04T14:30:00.420574+00:00\",\"2023-04-04T14:30:00.420583+00:00\",\"2023-04-04T14:30:00.420611+00:00\",\"2023-04-04T14:30:00.432083+00:00\",\"2023-04-04T14:30:00.432267+00:00\",\"2023-04-04T14:30:00.500126+00:00\",\"2023-04-04T14:30:00.500158+00:00\",\"2023-04-04T14:30:00.532537+00:00\",\"2023-04-04T14:30:00.532570+00:00\",\"2023-04-04T14:30:00.533296+00:00\",\"2023-04-04T14:30:00.642444+00:00\",\"2023-04-04T14:30:00.642523+00:00\",\"2023-04-04T14:30:00.642671+00:00\",\"2023-04-04T14:30:00.642985+00:00\",\"2023-04-04T14:30:00.643041+00:00\",\"2023-04-04T14:30:00.643241+00:00\",\"2023-04-04T14:30:00.669439+00:00\",\"2023-04-04T14:30:00.671056+00:00\",\"2023-04-04T14:30:00.671245+00:00\",\"2023-04-04T14:30:00.716823+00:00\",\"2023-04-04T14:30:00.757748+00:00\",\"2023-04-04T14:30:00.799786+00:00\",\"2023-04-04T14:30:00.806693+00:00\",\"2023-04-04T14:30:00.819377+00:00\",\"2023-04-04T14:30:00.858828+00:00\",\"2023-04-04T14:30:00.867867+00:00\",\"2023-04-04T14:30:00.881823+00:00\",\"2023-04-04T14:30:00.889439+00:00\",\"2023-04-04T14:30:00.965966+00:00\",\"2023-04-04T14:30:00.966047+00:00\",\"2023-04-04T14:30:00.967895+00:00\",\"2023-04-04T14:30:00.967925+00:00\",\"2023-04-04T14:30:00.967959+00:00\",\"2023-04-04T14:30:00.968203+00:00\",\"2023-04-04T14:30:00.973999+00:00\",\"2023-04-04T14:30:00.978845+00:00\",\"2023-04-04T14:30:00.978883+00:00\",\"2023-04-04T14:30:00.979099+00:00\",\"2023-04-04T14:30:00.979132+00:00\",\"2023-04-04T14:30:00.979493+00:00\",\"2023-04-04T14:30:00.980069+00:00\",\"2023-04-04T14:30:00.980397+00:00\",\"2023-04-04T14:30:00.980451+00:00\",\"2023-04-04T14:30:00.980471+00:00\",\"2023-04-04T14:30:00.985407+00:00\",\"2023-04-04T14:30:01.121175+00:00\",\"2023-04-04T14:30:01.476129+00:00\",\"2023-04-04T14:30:01.499446+00:00\",\"2023-04-04T14:30:01.565383+00:00\",\"2023-04-04T14:30:01.931061+00:00\",\"2023-04-04T14:30:01.941225+00:00\",\"2023-04-04T14:30:02.112289+00:00\",\"2023-04-04T14:30:02.122123+00:00\",\"2023-04-04T14:30:02.317363+00:00\",\"2023-04-04T14:30:02.346180+00:00\",\"2023-04-04T14:30:02.444636+00:00\",\"2023-04-04T14:30:02.445649+00:00\",\"2023-04-04T14:30:02.528877+00:00\",\"2023-04-04T14:30:02.639489+00:00\",\"2023-04-04T14:30:02.791296+00:00\",\"2023-04-04T14:30:02.893853+00:00\",\"2023-04-04T14:30:02.895079+00:00\",\"2023-04-04T14:30:02.902127+00:00\",\"2023-04-04T14:30:03.011170+00:00\",\"2023-04-04T14:30:03.017046+00:00\",\"2023-04-04T14:30:03.017075+00:00\",\"2023-04-04T14:30:03.036611+00:00\",\"2023-04-04T14:30:03.037174+00:00\",\"2023-04-04T14:30:03.046352+00:00\",\"2023-04-04T14:30:03.046387+00:00\",\"2023-04-04T14:30:03.047567+00:00\",\"2023-04-04T14:30:03.091789+00:00\",\"2023-04-04T14:30:03.684572+00:00\",\"2023-04-04T14:30:03.684624+00:00\",\"2023-04-04T14:30:03.684632+00:00\",\"2023-04-04T14:30:03.684664+00:00\",\"2023-04-04T14:30:03.685496+00:00\",\"2023-04-04T14:30:03.685751+00:00\",\"2023-04-04T14:30:03.698837+00:00\",\"2023-04-04T14:30:03.905467+00:00\",\"2023-04-04T14:30:03.907487+00:00\",\"2023-04-04T14:30:03.913272+00:00\",\"2023-04-04T14:30:03.921293+00:00\",\"2023-04-04T14:30:03.952034+00:00\",\"2023-04-04T14:30:04.029106+00:00\",\"2023-04-04T14:30:04.041458+00:00\",\"2023-04-04T14:30:04.050200+00:00\",\"2023-04-04T14:30:04.151333+00:00\",\"2023-04-04T14:30:04.176375+00:00\",\"2023-04-04T14:30:04.457176+00:00\",\"2023-04-04T14:30:04.479637+00:00\",\"2023-04-04T14:30:04.628550+00:00\",\"2023-04-04T14:30:04.629234+00:00\",\"2023-04-04T14:30:04.645836+00:00\",\"2023-04-04T14:30:04.825585+00:00\",\"2023-04-04T14:30:04.836497+00:00\",\"2023-04-04T14:30:04.839221+00:00\",\"2023-04-04T14:30:05.018983+00:00\",\"2023-04-04T14:30:05.030146+00:00\",\"2023-04-04T14:30:05.030179+00:00\",\"2023-04-04T14:30:05.030255+00:00\",\"2023-04-04T14:30:05.030295+00:00\",\"2023-04-04T14:30:05.030707+00:00\",\"2023-04-04T14:30:05.054444+00:00\",\"2023-04-04T14:30:05.055088+00:00\",\"2023-04-04T14:30:05.055377+00:00\",\"2023-04-04T14:30:05.109279+00:00\",\"2023-04-04T14:30:05.142430+00:00\",\"2023-04-04T14:30:05.298623+00:00\",\"2023-04-04T14:30:05.491126+00:00\",\"2023-04-04T14:30:05.568996+00:00\",\"2023-04-04T14:30:05.753035+00:00\",\"2023-04-04T14:30:05.753355+00:00\",\"2023-04-04T14:30:05.755466+00:00\",\"2023-04-04T14:30:05.859010+00:00\",\"2023-04-04T14:30:06.078752+00:00\",\"2023-04-04T14:30:06.078822+00:00\",\"2023-04-04T14:30:06.078824+00:00\",\"2023-04-04T14:30:06.078836+00:00\",\"2023-04-04T14:30:06.078887+00:00\",\"2023-04-04T14:30:06.078921+00:00\",\"2023-04-04T14:30:06.078923+00:00\",\"2023-04-04T14:30:06.078926+00:00\",\"2023-04-04T14:30:06.078962+00:00\",\"2023-04-04T14:30:06.078962+00:00\",\"2023-04-04T14:30:06.078996+00:00\",\"2023-04-04T14:30:06.079020+00:00\",\"2023-04-04T14:30:06.079104+00:00\",\"2023-04-04T14:30:06.079330+00:00\",\"2023-04-04T14:30:06.079450+00:00\",\"2023-04-04T14:30:06.079630+00:00\",\"2023-04-04T14:30:06.079634+00:00\",\"2023-04-04T14:30:06.079634+00:00\",\"2023-04-04T14:30:06.079639+00:00\",\"2023-04-04T14:30:06.079639+00:00\",\"2023-04-04T14:30:06.079646+00:00\",\"2023-04-04T14:30:06.079649+00:00\",\"2023-04-04T14:30:06.079652+00:00\",\"2023-04-04T14:30:06.079657+00:00\",\"2023-04-04T14:30:06.079659+00:00\",\"2023-04-04T14:30:06.079664+00:00\",\"2023-04-04T14:30:06.079666+00:00\",\"2023-04-04T14:30:06.079673+00:00\",\"2023-04-04T14:30:06.079673+00:00\",\"2023-04-04T14:30:06.079678+00:00\",\"2023-04-04T14:30:06.079682+00:00\",\"2023-04-04T14:30:06.079682+00:00\",\"2023-04-04T14:30:06.079684+00:00\",\"2023-04-04T14:30:06.079687+00:00\",\"2023-04-04T14:30:06.079695+00:00\",\"2023-04-04T14:30:06.079695+00:00\",\"2023-04-04T14:30:06.079695+00:00\",\"2023-04-04T14:30:06.079699+00:00\",\"2023-04-04T14:30:06.079710+00:00\",\"2023-04-04T14:30:06.079717+00:00\",\"2023-04-04T14:30:06.079717+00:00\",\"2023-04-04T14:30:06.079743+00:00\",\"2023-04-04T14:30:06.079745+00:00\",\"2023-04-04T14:30:06.079825+00:00\",\"2023-04-04T14:30:06.079838+00:00\",\"2023-04-04T14:30:06.080132+00:00\",\"2023-04-04T14:30:06.082799+00:00\",\"2023-04-04T14:30:06.082832+00:00\",\"2023-04-04T14:30:06.084485+00:00\",\"2023-04-04T14:30:06.084486+00:00\",\"2023-04-04T14:30:06.084488+00:00\",\"2023-04-04T14:30:06.084490+00:00\",\"2023-04-04T14:30:06.084495+00:00\",\"2023-04-04T14:30:06.084495+00:00\",\"2023-04-04T14:30:06.084506+00:00\",\"2023-04-04T14:30:06.084506+00:00\",\"2023-04-04T14:30:06.084509+00:00\",\"2023-04-04T14:30:06.084509+00:00\",\"2023-04-04T14:30:06.084516+00:00\",\"2023-04-04T14:30:06.084516+00:00\",\"2023-04-04T14:30:06.084519+00:00\",\"2023-04-04T14:30:06.084519+00:00\",\"2023-04-04T14:30:06.084525+00:00\",\"2023-04-04T14:30:06.084529+00:00\",\"2023-04-04T14:30:06.084529+00:00\",\"2023-04-04T14:30:06.084529+00:00\",\"2023-04-04T14:30:06.084532+00:00\",\"2023-04-04T14:30:06.084539+00:00\",\"2023-04-04T14:30:06.084539+00:00\",\"2023-04-04T14:30:06.084541+00:00\",\"2023-04-04T14:30:06.084560+00:00\",\"2023-04-04T14:30:06.084560+00:00\",\"2023-04-04T14:30:06.084560+00:00\",\"2023-04-04T14:30:06.084560+00:00\",\"2023-04-04T14:30:06.084573+00:00\",\"2023-04-04T14:30:06.084741+00:00\",\"2023-04-04T14:30:06.084741+00:00\",\"2023-04-04T14:30:06.084744+00:00\",\"2023-04-04T14:30:06.084780+00:00\",\"2023-04-04T14:30:06.084782+00:00\",\"2023-04-04T14:30:06.084786+00:00\",\"2023-04-04T14:30:06.084786+00:00\",\"2023-04-04T14:30:06.084788+00:00\",\"2023-04-04T14:30:06.084790+00:00\",\"2023-04-04T14:30:06.084825+00:00\",\"2023-04-04T14:30:06.084829+00:00\",\"2023-04-04T14:30:06.084829+00:00\",\"2023-04-04T14:30:06.084845+00:00\",\"2023-04-04T14:30:06.084859+00:00\",\"2023-04-04T14:30:06.084864+00:00\",\"2023-04-04T14:30:06.084869+00:00\",\"2023-04-04T14:30:06.084869+00:00\",\"2023-04-04T14:30:06.084869+00:00\",\"2023-04-04T14:30:06.084875+00:00\",\"2023-04-04T14:30:06.084879+00:00\",\"2023-04-04T14:30:06.084879+00:00\",\"2023-04-04T14:30:06.084879+00:00\",\"2023-04-04T14:30:06.084882+00:00\",\"2023-04-04T14:30:06.084889+00:00\",\"2023-04-04T14:30:06.084889+00:00\",\"2023-04-04T14:30:06.084890+00:00\",\"2023-04-04T14:30:06.084894+00:00\",\"2023-04-04T14:30:06.084936+00:00\",\"2023-04-04T14:30:06.084937+00:00\",\"2023-04-04T14:30:06.084989+00:00\",\"2023-04-04T14:30:06.085019+00:00\",\"2023-04-04T14:30:06.085176+00:00\",\"2023-04-04T14:30:06.085181+00:00\",\"2023-04-04T14:30:06.085202+00:00\",\"2023-04-04T14:30:06.085645+00:00\",\"2023-04-04T14:30:06.085692+00:00\",\"2023-04-04T14:30:06.085722+00:00\",\"2023-04-04T14:30:06.086293+00:00\",\"2023-04-04T14:30:06.086620+00:00\",\"2023-04-04T14:30:06.086630+00:00\",\"2023-04-04T14:30:06.088588+00:00\",\"2023-04-04T14:30:06.091476+00:00\",\"2023-04-04T14:30:06.095558+00:00\",\"2023-04-04T14:30:06.095560+00:00\",\"2023-04-04T14:30:06.099799+00:00\",\"2023-04-04T14:30:06.139895+00:00\",\"2023-04-04T14:30:06.151688+00:00\",\"2023-04-04T14:30:06.151701+00:00\",\"2023-04-04T14:30:06.151713+00:00\",\"2023-04-04T14:30:06.151714+00:00\",\"2023-04-04T14:30:06.151743+00:00\",\"2023-04-04T14:30:06.151887+00:00\",\"2023-04-04T14:30:06.151914+00:00\",\"2023-04-04T14:30:06.166229+00:00\",\"2023-04-04T14:30:06.180006+00:00\",\"2023-04-04T14:30:06.209373+00:00\",\"2023-04-04T14:30:06.209597+00:00\",\"2023-04-04T14:30:06.232053+00:00\",\"2023-04-04T14:30:06.232313+00:00\",\"2023-04-04T14:30:06.462185+00:00\",\"2023-04-04T14:30:06.462463+00:00\",\"2023-04-04T14:30:06.462554+00:00\",\"2023-04-04T14:30:06.508981+00:00\",\"2023-04-04T14:30:06.508982+00:00\",\"2023-04-04T14:30:06.508984+00:00\",\"2023-04-04T14:30:06.509000+00:00\",\"2023-04-04T14:30:06.509009+00:00\",\"2023-04-04T14:30:06.509012+00:00\",\"2023-04-04T14:30:06.509019+00:00\",\"2023-04-04T14:30:06.509031+00:00\",\"2023-04-04T14:30:06.509049+00:00\",\"2023-04-04T14:30:06.509051+00:00\",\"2023-04-04T14:30:06.509053+00:00\",\"2023-04-04T14:30:06.509057+00:00\",\"2023-04-04T14:30:06.509057+00:00\",\"2023-04-04T14:30:06.509065+00:00\",\"2023-04-04T14:30:06.509065+00:00\",\"2023-04-04T14:30:06.509068+00:00\",\"2023-04-04T14:30:06.509068+00:00\",\"2023-04-04T14:30:06.509074+00:00\",\"2023-04-04T14:30:06.509077+00:00\",\"2023-04-04T14:30:06.509077+00:00\",\"2023-04-04T14:30:06.509078+00:00\",\"2023-04-04T14:30:06.509082+00:00\",\"2023-04-04T14:30:06.509087+00:00\",\"2023-04-04T14:30:06.509107+00:00\",\"2023-04-04T14:30:06.509110+00:00\",\"2023-04-04T14:30:06.509110+00:00\",\"2023-04-04T14:30:06.509112+00:00\",\"2023-04-04T14:30:06.509115+00:00\",\"2023-04-04T14:30:06.509118+00:00\",\"2023-04-04T14:30:06.509123+00:00\",\"2023-04-04T14:30:06.509123+00:00\",\"2023-04-04T14:30:06.509123+00:00\",\"2023-04-04T14:30:06.509126+00:00\",\"2023-04-04T14:30:06.509133+00:00\",\"2023-04-04T14:30:06.509133+00:00\",\"2023-04-04T14:30:06.509157+00:00\",\"2023-04-04T14:30:06.509159+00:00\",\"2023-04-04T14:30:06.509160+00:00\",\"2023-04-04T14:30:06.509204+00:00\",\"2023-04-04T14:30:06.509226+00:00\",\"2023-04-04T14:30:06.509260+00:00\",\"2023-04-04T14:30:06.509283+00:00\",\"2023-04-04T14:30:06.509952+00:00\",\"2023-04-04T14:30:06.510352+00:00\",\"2023-04-04T14:30:06.511033+00:00\",\"2023-04-04T14:30:06.512313+00:00\",\"2023-04-04T14:30:06.513005+00:00\",\"2023-04-04T14:30:06.513009+00:00\",\"2023-04-04T14:30:06.513806+00:00\",\"2023-04-04T14:30:06.514140+00:00\",\"2023-04-04T14:30:06.514372+00:00\",\"2023-04-04T14:30:06.514714+00:00\",\"2023-04-04T14:30:06.525504+00:00\",\"2023-04-04T14:30:06.539341+00:00\",\"2023-04-04T14:30:06.546483+00:00\",\"2023-04-04T14:30:06.548864+00:00\",\"2023-04-04T14:30:06.609113+00:00\",\"2023-04-04T14:30:06.682796+00:00\",\"2023-04-04T14:30:06.682938+00:00\",\"2023-04-04T14:30:06.682993+00:00\",\"2023-04-04T14:30:06.683007+00:00\",\"2023-04-04T14:30:06.683059+00:00\",\"2023-04-04T14:30:06.683102+00:00\",\"2023-04-04T14:30:06.683132+00:00\",\"2023-04-04T14:30:06.683134+00:00\",\"2023-04-04T14:30:06.683175+00:00\",\"2023-04-04T14:30:06.683185+00:00\",\"2023-04-04T14:30:06.683687+00:00\",\"2023-04-04T14:30:06.684121+00:00\",\"2023-04-04T14:30:06.684131+00:00\",\"2023-04-04T14:30:06.684421+00:00\",\"2023-04-04T14:30:06.688822+00:00\",\"2023-04-04T14:30:06.690306+00:00\",\"2023-04-04T14:30:06.696673+00:00\",\"2023-04-04T14:30:06.696690+00:00\",\"2023-04-04T14:30:06.696698+00:00\",\"2023-04-04T14:30:06.696700+00:00\",\"2023-04-04T14:30:06.696708+00:00\",\"2023-04-04T14:30:06.696710+00:00\",\"2023-04-04T14:30:06.696712+00:00\",\"2023-04-04T14:30:06.696714+00:00\",\"2023-04-04T14:30:06.696742+00:00\",\"2023-04-04T14:30:06.696750+00:00\",\"2023-04-04T14:30:06.697079+00:00\",\"2023-04-04T14:30:06.697235+00:00\",\"2023-04-04T14:30:06.698422+00:00\",\"2023-04-04T14:30:06.699708+00:00\",\"2023-04-04T14:30:06.699713+00:00\",\"2023-04-04T14:30:06.699759+00:00\",\"2023-04-04T14:30:06.700922+00:00\",\"2023-04-04T14:30:06.701489+00:00\",\"2023-04-04T14:30:06.702844+00:00\",\"2023-04-04T14:30:06.742667+00:00\",\"2023-04-04T14:30:06.842378+00:00\",\"2023-04-04T14:30:06.842386+00:00\",\"2023-04-04T14:30:06.884813+00:00\",\"2023-04-04T14:30:06.884848+00:00\",\"2023-04-04T14:30:06.884874+00:00\",\"2023-04-04T14:30:06.884880+00:00\",\"2023-04-04T14:30:06.884912+00:00\",\"2023-04-04T14:30:06.887735+00:00\",\"2023-04-04T14:30:06.992872+00:00\",\"2023-04-04T14:30:06.992894+00:00\",\"2023-04-04T14:30:07.542968+00:00\",\"2023-04-04T14:30:07.597499+00:00\",\"2023-04-04T14:30:07.684485+00:00\",\"2023-04-04T14:30:08.013860+00:00\",\"2023-04-04T14:30:08.013886+00:00\",\"2023-04-04T14:30:08.013928+00:00\",\"2023-04-04T14:30:08.014444+00:00\",\"2023-04-04T14:30:08.123135+00:00\",\"2023-04-04T14:30:08.124012+00:00\",\"2023-04-04T14:30:08.379998+00:00\",\"2023-04-04T14:30:08.393659+00:00\",\"2023-04-04T14:30:08.416229+00:00\",\"2023-04-04T14:30:09.010203+00:00\",\"2023-04-04T14:30:09.010381+00:00\",\"2023-04-04T14:30:09.010393+00:00\",\"2023-04-04T14:30:09.056126+00:00\",\"2023-04-04T14:30:09.657351+00:00\",\"2023-04-04T14:30:10.013409+00:00\",\"2023-04-04T14:30:10.013859+00:00\",\"2023-04-04T14:30:10.013933+00:00\",\"2023-04-04T14:30:10.015437+00:00\",\"2023-04-04T14:30:10.025163+00:00\",\"2023-04-04T14:30:10.032421+00:00\",\"2023-04-04T14:30:10.032455+00:00\",\"2023-04-04T14:30:10.169529+00:00\",\"2023-04-04T14:30:10.310272+00:00\",\"2023-04-04T14:30:10.313811+00:00\",\"2023-04-04T14:30:10.383698+00:00\",\"2023-04-04T14:30:10.411193+00:00\",\"2023-04-04T14:30:10.411546+00:00\",\"2023-04-04T14:30:10.412412+00:00\",\"2023-04-04T14:30:10.412422+00:00\",\"2023-04-04T14:30:10.413452+00:00\",\"2023-04-04T14:30:10.413482+00:00\",\"2023-04-04T14:30:10.773848+00:00\",\"2023-04-04T14:30:11.020467+00:00\",\"2023-04-04T14:30:11.190854+00:00\",\"2023-04-04T14:30:11.190887+00:00\",\"2023-04-04T14:30:11.195563+00:00\",\"2023-04-04T14:30:11.232397+00:00\",\"2023-04-04T14:30:11.444090+00:00\",\"2023-04-04T14:30:11.444298+00:00\",\"2023-04-04T14:30:11.480504+00:00\",\"2023-04-04T14:30:11.976810+00:00\",\"2023-04-04T14:30:12.021185+00:00\",\"2023-04-04T14:30:12.278770+00:00\",\"2023-04-04T14:30:12.278772+00:00\",\"2023-04-04T14:30:12.278774+00:00\",\"2023-04-04T14:30:12.278787+00:00\",\"2023-04-04T14:30:12.278806+00:00\",\"2023-04-04T14:30:12.278809+00:00\",\"2023-04-04T14:30:12.278809+00:00\",\"2023-04-04T14:30:12.278840+00:00\",\"2023-04-04T14:30:12.279016+00:00\",\"2023-04-04T14:30:12.279067+00:00\",\"2023-04-04T14:30:12.279074+00:00\",\"2023-04-04T14:30:12.279076+00:00\",\"2023-04-04T14:30:12.279079+00:00\",\"2023-04-04T14:30:12.279079+00:00\",\"2023-04-04T14:30:12.279085+00:00\",\"2023-04-04T14:30:12.279085+00:00\",\"2023-04-04T14:30:12.279089+00:00\",\"2023-04-04T14:30:12.279089+00:00\",\"2023-04-04T14:30:12.279096+00:00\",\"2023-04-04T14:30:12.279096+00:00\",\"2023-04-04T14:30:12.279098+00:00\",\"2023-04-04T14:30:12.279101+00:00\",\"2023-04-04T14:30:12.279110+00:00\",\"2023-04-04T14:30:12.279113+00:00\",\"2023-04-04T14:30:12.279113+00:00\",\"2023-04-04T14:30:12.279118+00:00\",\"2023-04-04T14:30:12.279122+00:00\",\"2023-04-04T14:30:12.279122+00:00\",\"2023-04-04T14:30:12.279125+00:00\",\"2023-04-04T14:30:12.279153+00:00\",\"2023-04-04T14:30:12.279175+00:00\",\"2023-04-04T14:30:12.279341+00:00\",\"2023-04-04T14:30:12.279358+00:00\",\"2023-04-04T14:30:12.279584+00:00\",\"2023-04-04T14:30:12.279760+00:00\",\"2023-04-04T14:30:12.279919+00:00\",\"2023-04-04T14:30:12.280273+00:00\",\"2023-04-04T14:30:12.280283+00:00\",\"2023-04-04T14:30:12.280301+00:00\",\"2023-04-04T14:30:12.283435+00:00\",\"2023-04-04T14:30:12.283436+00:00\",\"2023-04-04T14:30:12.283757+00:00\",\"2023-04-04T14:30:12.284309+00:00\",\"2023-04-04T14:30:12.300775+00:00\",\"2023-04-04T14:30:12.321502+00:00\",\"2023-04-04T14:30:12.357314+00:00\",\"2023-04-04T14:30:12.380681+00:00\",\"2023-04-04T14:30:12.492131+00:00\",\"2023-04-04T14:30:12.499463+00:00\",\"2023-04-04T14:30:12.500193+00:00\",\"2023-04-04T14:30:12.514868+00:00\",\"2023-04-04T14:30:12.549355+00:00\",\"2023-04-04T14:30:12.762817+00:00\",\"2023-04-04T14:30:13.007507+00:00\",\"2023-04-04T14:30:13.015847+00:00\",\"2023-04-04T14:30:13.015911+00:00\",\"2023-04-04T14:30:13.018783+00:00\",\"2023-04-04T14:30:13.018917+00:00\",\"2023-04-04T14:30:13.018917+00:00\",\"2023-04-04T14:30:13.018918+00:00\",\"2023-04-04T14:30:13.018929+00:00\",\"2023-04-04T14:30:13.018933+00:00\",\"2023-04-04T14:30:13.018937+00:00\",\"2023-04-04T14:30:13.018937+00:00\",\"2023-04-04T14:30:13.018940+00:00\",\"2023-04-04T14:30:13.018943+00:00\",\"2023-04-04T14:30:13.018950+00:00\",\"2023-04-04T14:30:13.018950+00:00\",\"2023-04-04T14:30:13.018950+00:00\",\"2023-04-04T14:30:13.018953+00:00\",\"2023-04-04T14:30:13.018959+00:00\",\"2023-04-04T14:30:13.018963+00:00\",\"2023-04-04T14:30:13.018963+00:00\",\"2023-04-04T14:30:13.018963+00:00\",\"2023-04-04T14:30:13.018968+00:00\",\"2023-04-04T14:30:13.018973+00:00\",\"2023-04-04T14:30:13.018977+00:00\",\"2023-04-04T14:30:13.018977+00:00\",\"2023-04-04T14:30:13.018977+00:00\",\"2023-04-04T14:30:13.018980+00:00\",\"2023-04-04T14:30:13.018992+00:00\",\"2023-04-04T14:30:13.018995+00:00\",\"2023-04-04T14:30:13.018995+00:00\",\"2023-04-04T14:30:13.018998+00:00\",\"2023-04-04T14:30:13.019001+00:00\",\"2023-04-04T14:30:13.019005+00:00\",\"2023-04-04T14:30:13.019011+00:00\",\"2023-04-04T14:30:13.019011+00:00\",\"2023-04-04T14:30:13.019011+00:00\",\"2023-04-04T14:30:13.019014+00:00\",\"2023-04-04T14:30:13.019025+00:00\",\"2023-04-04T14:30:13.019025+00:00\",\"2023-04-04T14:30:13.019025+00:00\",\"2023-04-04T14:30:13.019025+00:00\",\"2023-04-04T14:30:13.019036+00:00\",\"2023-04-04T14:30:13.019040+00:00\",\"2023-04-04T14:30:13.019049+00:00\",\"2023-04-04T14:30:13.019050+00:00\",\"2023-04-04T14:30:13.019064+00:00\",\"2023-04-04T14:30:13.019064+00:00\",\"2023-04-04T14:30:13.019067+00:00\",\"2023-04-04T14:30:13.019094+00:00\",\"2023-04-04T14:30:13.019095+00:00\",\"2023-04-04T14:30:13.019109+00:00\",\"2023-04-04T14:30:13.019109+00:00\",\"2023-04-04T14:30:13.019109+00:00\",\"2023-04-04T14:30:13.019192+00:00\",\"2023-04-04T14:30:13.019865+00:00\",\"2023-04-04T14:30:13.019965+00:00\",\"2023-04-04T14:30:13.019968+00:00\",\"2023-04-04T14:30:13.019981+00:00\",\"2023-04-04T14:30:13.020006+00:00\",\"2023-04-04T14:30:13.021513+00:00\",\"2023-04-04T14:30:13.022201+00:00\",\"2023-04-04T14:30:13.022693+00:00\",\"2023-04-04T14:30:13.023076+00:00\",\"2023-04-04T14:30:13.025508+00:00\",\"2023-04-04T14:30:13.028694+00:00\",\"2023-04-04T14:30:13.029068+00:00\",\"2023-04-04T14:30:13.049434+00:00\",\"2023-04-04T14:30:13.056381+00:00\",\"2023-04-04T14:30:13.119625+00:00\",\"2023-04-04T14:30:13.119663+00:00\",\"2023-04-04T14:30:13.119693+00:00\",\"2023-04-04T14:30:13.134984+00:00\",\"2023-04-04T14:30:13.254044+00:00\",\"2023-04-04T14:30:13.257661+00:00\",\"2023-04-04T14:30:13.289210+00:00\",\"2023-04-04T14:30:13.289296+00:00\",\"2023-04-04T14:30:13.289498+00:00\",\"2023-04-04T14:30:13.358045+00:00\",\"2023-04-04T14:30:13.691742+00:00\",\"2023-04-04T14:30:13.707412+00:00\",\"2023-04-04T14:30:13.999419+00:00\",\"2023-04-04T14:30:14.105455+00:00\",\"2023-04-04T14:30:14.105988+00:00\",\"2023-04-04T14:30:14.105996+00:00\",\"2023-04-04T14:30:14.107485+00:00\",\"2023-04-04T14:30:14.107860+00:00\",\"2023-04-04T14:30:14.109235+00:00\",\"2023-04-04T14:30:14.124627+00:00\",\"2023-04-04T14:30:14.125299+00:00\",\"2023-04-04T14:30:14.125329+00:00\",\"2023-04-04T14:30:14.144134+00:00\",\"2023-04-04T14:30:14.207551+00:00\",\"2023-04-04T14:30:14.208346+00:00\",\"2023-04-04T14:30:14.235232+00:00\",\"2023-04-04T14:30:14.235263+00:00\",\"2023-04-04T14:30:14.235947+00:00\",\"2023-04-04T14:30:14.236006+00:00\",\"2023-04-04T14:30:14.499370+00:00\",\"2023-04-04T14:30:14.500335+00:00\",\"2023-04-04T14:30:14.565632+00:00\",\"2023-04-04T14:30:14.565664+00:00\",\"2023-04-04T14:30:14.566373+00:00\",\"2023-04-04T14:30:14.583803+00:00\",\"2023-04-04T14:30:14.592482+00:00\",\"2023-04-04T14:30:14.643451+00:00\",\"2023-04-04T14:30:14.643954+00:00\",\"2023-04-04T14:30:14.644269+00:00\",\"2023-04-04T14:30:14.644318+00:00\",\"2023-04-04T14:30:14.645910+00:00\",\"2023-04-04T14:30:14.655178+00:00\",\"2023-04-04T14:30:14.660594+00:00\",\"2023-04-04T14:30:14.676251+00:00\",\"2023-04-04T14:30:14.712242+00:00\",\"2023-04-04T14:30:14.713015+00:00\",\"2023-04-04T14:30:14.713409+00:00\",\"2023-04-04T14:30:14.713439+00:00\",\"2023-04-04T14:30:14.722900+00:00\",\"2023-04-04T14:30:14.729776+00:00\",\"2023-04-04T14:30:14.846493+00:00\",\"2023-04-04T14:30:14.846524+00:00\",\"2023-04-04T14:30:15.500238+00:00\",\"2023-04-04T14:30:15.938052+00:00\",\"2023-04-04T14:30:15.938346+00:00\",\"2023-04-04T14:30:15.938963+00:00\",\"2023-04-04T14:30:15.939382+00:00\",\"2023-04-04T14:30:15.939382+00:00\",\"2023-04-04T14:30:15.939429+00:00\",\"2023-04-04T14:30:15.939512+00:00\",\"2023-04-04T14:30:15.939586+00:00\",\"2023-04-04T14:30:15.939659+00:00\",\"2023-04-04T14:30:15.939668+00:00\",\"2023-04-04T14:30:15.939734+00:00\",\"2023-04-04T14:30:15.939744+00:00\",\"2023-04-04T14:30:15.939744+00:00\",\"2023-04-04T14:30:15.939748+00:00\",\"2023-04-04T14:30:15.939749+00:00\",\"2023-04-04T14:30:15.939775+00:00\",\"2023-04-04T14:30:15.939783+00:00\",\"2023-04-04T14:30:15.939786+00:00\",\"2023-04-04T14:30:15.939786+00:00\",\"2023-04-04T14:30:15.939837+00:00\",\"2023-04-04T14:30:15.939837+00:00\",\"2023-04-04T14:30:15.939865+00:00\",\"2023-04-04T14:30:15.939865+00:00\",\"2023-04-04T14:30:15.939884+00:00\",\"2023-04-04T14:30:15.939932+00:00\",\"2023-04-04T14:30:15.939935+00:00\",\"2023-04-04T14:30:15.940046+00:00\",\"2023-04-04T14:30:15.940052+00:00\",\"2023-04-04T14:30:15.940072+00:00\",\"2023-04-04T14:30:15.940090+00:00\",\"2023-04-04T14:30:15.940125+00:00\",\"2023-04-04T14:30:15.940130+00:00\",\"2023-04-04T14:30:15.940133+00:00\",\"2023-04-04T14:30:15.940155+00:00\",\"2023-04-04T14:30:15.940331+00:00\",\"2023-04-04T14:30:15.940368+00:00\",\"2023-04-04T14:30:15.940537+00:00\",\"2023-04-04T14:30:15.940724+00:00\",\"2023-04-04T14:30:15.941247+00:00\",\"2023-04-04T14:30:15.941264+00:00\",\"2023-04-04T14:30:15.941295+00:00\",\"2023-04-04T14:30:15.941320+00:00\",\"2023-04-04T14:30:15.941386+00:00\",\"2023-04-04T14:30:15.941413+00:00\",\"2023-04-04T14:30:15.941442+00:00\",\"2023-04-04T14:30:15.941567+00:00\",\"2023-04-04T14:30:15.941806+00:00\",\"2023-04-04T14:30:15.941905+00:00\",\"2023-04-04T14:30:15.942436+00:00\",\"2023-04-04T14:30:15.942535+00:00\",\"2023-04-04T14:30:15.942799+00:00\",\"2023-04-04T14:30:15.942849+00:00\",\"2023-04-04T14:30:15.943509+00:00\",\"2023-04-04T14:30:15.944464+00:00\",\"2023-04-04T14:30:15.946582+00:00\",\"2023-04-04T14:30:15.946745+00:00\",\"2023-04-04T14:30:15.948531+00:00\",\"2023-04-04T14:30:15.948568+00:00\",\"2023-04-04T14:30:15.950630+00:00\",\"2023-04-04T14:30:15.953541+00:00\",\"2023-04-04T14:30:15.956659+00:00\",\"2023-04-04T14:30:15.956690+00:00\",\"2023-04-04T14:30:15.957228+00:00\",\"2023-04-04T14:30:15.978086+00:00\",\"2023-04-04T14:30:16.057138+00:00\",\"2023-04-04T14:30:16.057138+00:00\",\"2023-04-04T14:30:16.058752+00:00\",\"2023-04-04T14:30:16.065642+00:00\",\"2023-04-04T14:30:16.065882+00:00\",\"2023-04-04T14:30:16.065884+00:00\",\"2023-04-04T14:30:16.065957+00:00\",\"2023-04-04T14:30:16.066079+00:00\",\"2023-04-04T14:30:16.066735+00:00\",\"2023-04-04T14:30:16.069662+00:00\",\"2023-04-04T14:30:16.074012+00:00\",\"2023-04-04T14:30:16.074035+00:00\",\"2023-04-04T14:30:16.074071+00:00\",\"2023-04-04T14:30:16.074071+00:00\",\"2023-04-04T14:30:16.074075+00:00\",\"2023-04-04T14:30:16.074075+00:00\",\"2023-04-04T14:30:16.074083+00:00\",\"2023-04-04T14:30:16.074083+00:00\",\"2023-04-04T14:30:16.074089+00:00\",\"2023-04-04T14:30:16.074089+00:00\",\"2023-04-04T14:30:16.074093+00:00\",\"2023-04-04T14:30:16.074098+00:00\",\"2023-04-04T14:30:16.074098+00:00\",\"2023-04-04T14:30:16.074103+00:00\",\"2023-04-04T14:30:16.074103+00:00\",\"2023-04-04T14:30:16.074106+00:00\",\"2023-04-04T14:30:16.074112+00:00\",\"2023-04-04T14:30:16.074115+00:00\",\"2023-04-04T14:30:16.074119+00:00\",\"2023-04-04T14:30:16.074135+00:00\",\"2023-04-04T14:30:16.074336+00:00\",\"2023-04-04T14:30:16.074359+00:00\",\"2023-04-04T14:30:16.074531+00:00\",\"2023-04-04T14:30:16.074531+00:00\",\"2023-04-04T14:30:16.074614+00:00\",\"2023-04-04T14:30:16.074621+00:00\",\"2023-04-04T14:30:16.074626+00:00\",\"2023-04-04T14:30:16.074633+00:00\",\"2023-04-04T14:30:16.074635+00:00\",\"2023-04-04T14:30:16.074640+00:00\",\"2023-04-04T14:30:16.074667+00:00\",\"2023-04-04T14:30:16.074701+00:00\",\"2023-04-04T14:30:16.074705+00:00\",\"2023-04-04T14:30:16.074708+00:00\",\"2023-04-04T14:30:16.074708+00:00\",\"2023-04-04T14:30:16.074715+00:00\",\"2023-04-04T14:30:16.074715+00:00\",\"2023-04-04T14:30:16.074719+00:00\",\"2023-04-04T14:30:16.074719+00:00\",\"2023-04-04T14:30:16.074726+00:00\",\"2023-04-04T14:30:16.074726+00:00\",\"2023-04-04T14:30:16.074732+00:00\",\"2023-04-04T14:30:16.074732+00:00\",\"2023-04-04T14:30:16.074738+00:00\",\"2023-04-04T14:30:16.074738+00:00\",\"2023-04-04T14:30:16.074746+00:00\",\"2023-04-04T14:30:16.074776+00:00\",\"2023-04-04T14:30:16.074815+00:00\",\"2023-04-04T14:30:16.074847+00:00\",\"2023-04-04T14:30:16.074847+00:00\",\"2023-04-04T14:30:16.074847+00:00\",\"2023-04-04T14:30:16.074885+00:00\",\"2023-04-04T14:30:16.074979+00:00\",\"2023-04-04T14:30:16.075026+00:00\",\"2023-04-04T14:30:16.075209+00:00\",\"2023-04-04T14:30:16.075544+00:00\",\"2023-04-04T14:30:16.075769+00:00\",\"2023-04-04T14:30:16.076404+00:00\",\"2023-04-04T14:30:16.077665+00:00\",\"2023-04-04T14:30:16.077969+00:00\",\"2023-04-04T14:30:16.077974+00:00\",\"2023-04-04T14:30:16.078398+00:00\",\"2023-04-04T14:30:16.078400+00:00\",\"2023-04-04T14:30:16.078411+00:00\",\"2023-04-04T14:30:16.078873+00:00\",\"2023-04-04T14:30:16.078933+00:00\",\"2023-04-04T14:30:16.078985+00:00\",\"2023-04-04T14:30:16.079214+00:00\",\"2023-04-04T14:30:16.081178+00:00\",\"2023-04-04T14:30:16.081829+00:00\",\"2023-04-04T14:30:16.081829+00:00\",\"2023-04-04T14:30:16.087456+00:00\",\"2023-04-04T14:30:16.094247+00:00\",\"2023-04-04T14:30:16.094290+00:00\",\"2023-04-04T14:30:16.096955+00:00\",\"2023-04-04T14:30:16.096986+00:00\",\"2023-04-04T14:30:16.098664+00:00\",\"2023-04-04T14:30:16.107585+00:00\",\"2023-04-04T14:30:16.108645+00:00\",\"2023-04-04T14:30:16.110511+00:00\",\"2023-04-04T14:30:16.175866+00:00\",\"2023-04-04T14:30:16.176339+00:00\",\"2023-04-04T14:30:16.632086+00:00\",\"2023-04-04T14:30:16.719217+00:00\",\"2023-04-04T14:30:16.773454+00:00\",\"2023-04-04T14:30:16.773485+00:00\",\"2023-04-04T14:30:16.774038+00:00\",\"2023-04-04T14:30:16.774425+00:00\",\"2023-04-04T14:30:16.774522+00:00\",\"2023-04-04T14:30:16.775652+00:00\",\"2023-04-04T14:30:16.776111+00:00\",\"2023-04-04T14:30:16.776994+00:00\",\"2023-04-04T14:30:16.777354+00:00\",\"2023-04-04T14:30:16.777383+00:00\",\"2023-04-04T14:30:16.777590+00:00\",\"2023-04-04T14:30:16.794046+00:00\",\"2023-04-04T14:30:16.834922+00:00\",\"2023-04-04T14:30:16.834983+00:00\",\"2023-04-04T14:30:16.835013+00:00\",\"2023-04-04T14:30:16.835416+00:00\",\"2023-04-04T14:30:16.836715+00:00\",\"2023-04-04T14:30:16.852048+00:00\",\"2023-04-04T14:30:17.439171+00:00\",\"2023-04-04T14:30:17.449697+00:00\",\"2023-04-04T14:30:17.449760+00:00\",\"2023-04-04T14:30:17.452189+00:00\",\"2023-04-04T14:30:17.452257+00:00\",\"2023-04-04T14:30:17.452316+00:00\",\"2023-04-04T14:30:17.453530+00:00\",\"2023-04-04T14:30:17.453779+00:00\",\"2023-04-04T14:30:17.833976+00:00\",\"2023-04-04T14:30:18.047817+00:00\",\"2023-04-04T14:30:18.795927+00:00\",\"2023-04-04T14:30:18.795986+00:00\",\"2023-04-04T14:30:18.796120+00:00\",\"2023-04-04T14:30:18.796152+00:00\",\"2023-04-04T14:30:18.796165+00:00\",\"2023-04-04T14:30:18.796165+00:00\",\"2023-04-04T14:30:18.797338+00:00\",\"2023-04-04T14:30:18.797367+00:00\",\"2023-04-04T14:30:18.797919+00:00\",\"2023-04-04T14:30:18.801783+00:00\",\"2023-04-04T14:30:18.811944+00:00\",\"2023-04-04T14:30:18.874655+00:00\",\"2023-04-04T14:30:18.874914+00:00\",\"2023-04-04T14:30:18.875054+00:00\",\"2023-04-04T14:30:19.742504+00:00\",\"2023-04-04T14:30:19.742534+00:00\",\"2023-04-04T14:30:19.742566+00:00\",\"2023-04-04T14:30:19.742790+00:00\",\"2023-04-04T14:30:19.747132+00:00\",\"2023-04-04T14:30:19.747236+00:00\",\"2023-04-04T14:30:19.749927+00:00\",\"2023-04-04T14:30:19.750136+00:00\",\"2023-04-04T14:30:19.751035+00:00\",\"2023-04-04T14:30:19.787387+00:00\",\"2023-04-04T14:30:19.821504+00:00\",\"2023-04-04T14:30:19.821546+00:00\",\"2023-04-04T14:30:19.822295+00:00\",\"2023-04-04T14:30:19.822676+00:00\",\"2023-04-04T14:30:19.860626+00:00\",\"2023-04-04T14:30:19.860628+00:00\",\"2023-04-04T14:30:19.860631+00:00\",\"2023-04-04T14:30:19.860647+00:00\",\"2023-04-04T14:30:19.860649+00:00\",\"2023-04-04T14:30:19.860651+00:00\",\"2023-04-04T14:30:19.860677+00:00\",\"2023-04-04T14:30:19.860684+00:00\",\"2023-04-04T14:30:19.860684+00:00\",\"2023-04-04T14:30:19.860702+00:00\",\"2023-04-04T14:30:19.860964+00:00\",\"2023-04-04T14:30:19.861930+00:00\",\"2023-04-04T14:30:19.862816+00:00\",\"2023-04-04T14:30:19.862901+00:00\",\"2023-04-04T14:30:19.863011+00:00\",\"2023-04-04T14:30:19.863738+00:00\",\"2023-04-04T14:30:19.870475+00:00\",\"2023-04-04T14:30:19.870739+00:00\",\"2023-04-04T14:30:19.880355+00:00\",\"2023-04-04T14:30:19.880392+00:00\",\"2023-04-04T14:30:19.916569+00:00\",\"2023-04-04T14:30:19.982350+00:00\",\"2023-04-04T14:30:20.223325+00:00\",\"2023-04-04T14:30:20.232872+00:00\",\"2023-04-04T14:30:20.233336+00:00\",\"2023-04-04T14:30:20.234571+00:00\",\"2023-04-04T14:30:20.239579+00:00\",\"2023-04-04T14:30:20.240203+00:00\",\"2023-04-04T14:30:20.292526+00:00\",\"2023-04-04T14:30:20.298398+00:00\",\"2023-04-04T14:30:20.515331+00:00\",\"2023-04-04T14:30:20.618154+00:00\",\"2023-04-04T14:30:20.784501+00:00\",\"2023-04-04T14:30:20.809963+00:00\",\"2023-04-04T14:30:20.918104+00:00\",\"2023-04-04T14:30:21.050659+00:00\",\"2023-04-04T14:30:21.096621+00:00\",\"2023-04-04T14:30:21.096873+00:00\",\"2023-04-04T14:30:21.097479+00:00\",\"2023-04-04T14:30:21.121995+00:00\",\"2023-04-04T14:30:21.280677+00:00\",\"2023-04-04T14:30:21.513204+00:00\",\"2023-04-04T14:30:21.513204+00:00\",\"2023-04-04T14:30:21.513211+00:00\",\"2023-04-04T14:30:21.513214+00:00\",\"2023-04-04T14:30:21.513218+00:00\",\"2023-04-04T14:30:21.513218+00:00\",\"2023-04-04T14:30:21.513220+00:00\",\"2023-04-04T14:30:21.513224+00:00\",\"2023-04-04T14:30:21.513228+00:00\",\"2023-04-04T14:30:21.513231+00:00\",\"2023-04-04T14:30:21.513233+00:00\",\"2023-04-04T14:30:21.513240+00:00\",\"2023-04-04T14:30:21.513240+00:00\",\"2023-04-04T14:30:21.513240+00:00\",\"2023-04-04T14:30:21.513244+00:00\",\"2023-04-04T14:30:21.513249+00:00\",\"2023-04-04T14:30:21.513251+00:00\",\"2023-04-04T14:30:21.513251+00:00\",\"2023-04-04T14:30:21.513253+00:00\",\"2023-04-04T14:30:21.513257+00:00\",\"2023-04-04T14:30:21.513265+00:00\",\"2023-04-04T14:30:21.513265+00:00\",\"2023-04-04T14:30:21.513265+00:00\",\"2023-04-04T14:30:21.513274+00:00\",\"2023-04-04T14:30:21.513276+00:00\",\"2023-04-04T14:30:21.513300+00:00\",\"2023-04-04T14:30:21.513300+00:00\",\"2023-04-04T14:30:21.513306+00:00\",\"2023-04-04T14:30:21.513306+00:00\",\"2023-04-04T14:30:21.513310+00:00\",\"2023-04-04T14:30:21.513310+00:00\",\"2023-04-04T14:30:21.513315+00:00\",\"2023-04-04T14:30:21.513319+00:00\",\"2023-04-04T14:30:21.513319+00:00\",\"2023-04-04T14:30:21.513320+00:00\",\"2023-04-04T14:30:21.513323+00:00\",\"2023-04-04T14:30:21.513329+00:00\",\"2023-04-04T14:30:21.513330+00:00\",\"2023-04-04T14:30:21.513330+00:00\",\"2023-04-04T14:30:21.513332+00:00\",\"2023-04-04T14:30:21.513344+00:00\",\"2023-04-04T14:30:21.513345+00:00\",\"2023-04-04T14:30:21.513345+00:00\",\"2023-04-04T14:30:21.513345+00:00\",\"2023-04-04T14:30:21.513346+00:00\",\"2023-04-04T14:30:21.513355+00:00\",\"2023-04-04T14:30:21.513360+00:00\",\"2023-04-04T14:30:21.513365+00:00\",\"2023-04-04T14:30:21.513365+00:00\",\"2023-04-04T14:30:21.513368+00:00\",\"2023-04-04T14:30:21.513368+00:00\",\"2023-04-04T14:30:21.513385+00:00\",\"2023-04-04T14:30:21.513424+00:00\",\"2023-04-04T14:30:21.513451+00:00\",\"2023-04-04T14:30:21.513516+00:00\",\"2023-04-04T14:30:21.513573+00:00\",\"2023-04-04T14:30:21.513580+00:00\",\"2023-04-04T14:30:21.513584+00:00\",\"2023-04-04T14:30:21.514059+00:00\",\"2023-04-04T14:30:21.514204+00:00\",\"2023-04-04T14:30:21.514871+00:00\",\"2023-04-04T14:30:21.514894+00:00\",\"2023-04-04T14:30:21.514908+00:00\",\"2023-04-04T14:30:21.515303+00:00\",\"2023-04-04T14:30:21.515464+00:00\",\"2023-04-04T14:30:21.515665+00:00\",\"2023-04-04T14:30:21.515698+00:00\",\"2023-04-04T14:30:21.515766+00:00\",\"2023-04-04T14:30:21.517382+00:00\",\"2023-04-04T14:30:21.521182+00:00\",\"2023-04-04T14:30:21.538413+00:00\",\"2023-04-04T14:30:21.543820+00:00\",\"2023-04-04T14:30:21.543835+00:00\",\"2023-04-04T14:30:21.550661+00:00\",\"2023-04-04T14:30:21.580549+00:00\",\"2023-04-04T14:30:21.580580+00:00\",\"2023-04-04T14:30:21.665585+00:00\",\"2023-04-04T14:30:21.723276+00:00\",\"2023-04-04T14:30:21.725630+00:00\",\"2023-04-04T14:30:21.726005+00:00\",\"2023-04-04T14:30:21.726005+00:00\",\"2023-04-04T14:30:21.726382+00:00\",\"2023-04-04T14:30:21.726382+00:00\",\"2023-04-04T14:30:21.729660+00:00\",\"2023-04-04T14:30:21.731411+00:00\",\"2023-04-04T14:30:21.731971+00:00\",\"2023-04-04T14:30:21.732585+00:00\",\"2023-04-04T14:30:21.733487+00:00\",\"2023-04-04T14:30:21.734479+00:00\",\"2023-04-04T14:30:21.734479+00:00\",\"2023-04-04T14:30:21.734481+00:00\",\"2023-04-04T14:30:21.734519+00:00\",\"2023-04-04T14:30:21.734522+00:00\",\"2023-04-04T14:30:21.734522+00:00\",\"2023-04-04T14:30:21.734560+00:00\",\"2023-04-04T14:30:21.735947+00:00\",\"2023-04-04T14:30:21.740253+00:00\",\"2023-04-04T14:30:21.740996+00:00\",\"2023-04-04T14:30:21.745013+00:00\",\"2023-04-04T14:30:21.822121+00:00\",\"2023-04-04T14:30:21.859774+00:00\",\"2023-04-04T14:30:22.173103+00:00\",\"2023-04-04T14:30:22.173107+00:00\",\"2023-04-04T14:30:22.173108+00:00\",\"2023-04-04T14:30:22.173121+00:00\",\"2023-04-04T14:30:22.173132+00:00\",\"2023-04-04T14:30:22.173136+00:00\",\"2023-04-04T14:30:22.173136+00:00\",\"2023-04-04T14:30:22.173147+00:00\",\"2023-04-04T14:30:22.173560+00:00\",\"2023-04-04T14:30:22.174731+00:00\",\"2023-04-04T14:30:22.179981+00:00\",\"2023-04-04T14:30:22.661095+00:00\",\"2023-04-04T14:30:22.761682+00:00\",\"2023-04-04T14:30:22.761734+00:00\",\"2023-04-04T14:30:22.950980+00:00\"],\"xaxis\":\"x\",\"y\":[0.00999999999999801,0.00999999999999801,0.00999999999999801,0.00999999999999801,0.00999999999999801,0.00999999999999801,0.00999999999999801,0.00999999999999801,0.00999999999999801,0.00999999999999801,0.00999999999999801,0.00999999999999801,0.00999999999999801,0.00999999999999801,0.00999999999999801,0.00999999999999801,0.00999999999999801,0.00999999999999801,0.00999999999999801,0.00999999999999801,0.00999999999999801,0.00999999999999801,0.00999999999999801,0.00999999999999801,0.00999999999999801,0.00999999999999801,0.00999999999999801,0.00999999999999801,0.00999999999999801,0.00999999999999801,0.00999999999999801,0.00999999999999801,0.00999999999999801,0.00999999999999801,0.00999999999999801,0.00999999999999801,0.00999999999999801,0.00999999999999801,0.00999999999999801,0.00999999999999801,0.00999999999999801,0.00999999999999801,0.00999999999999801,0.00999999999999801,0.00999999999999801,0.00999999999999801,0.00999999999999801,0.00999999999999801,0.00999999999999801,0.00999999999999801,0.00999999999999801,0.00999999999999801,0.00999999999999801,0.00999999999999801,0.00999999999999801,0.00999999999999801,0.00999999999999801,0.00999999999999801,0.00999999999999801,0.00999999999999801,0.00999999999999801,0.00999999999999801,0.00999999999999801,0.00999999999999801,0.00999999999999801,0.00999999999999801,0.00999999999999801,0.00999999999999801,0.00999999999999801,0.00999999999999801,0.00999999999999801,0.00999999999999801,0.00999999999999801,0.00999999999999801,0.00999999999999801,0.00999999999999801,0.00999999999999801,0.00999999999999801,0.00999999999999801,0.00999999999999801,0.00999999999999801,0.00999999999999801,0.00999999999999801,0.00999999999999801,0.00999999999999801,0.00999999999999801,0.00999999999999801,0.00999999999999801,0.00999999999999801,0.00999999999999801,0.00999999999999801,0.00999999999999801,0.00999999999999801,0.00999999999999801,0.00999999999999801,0.00999999999999801,0.00999999999999801,0.00999999999999801,0.00999999999999801,0.00999999999999801,0.00999999999999801,0.00999999999999801,0.00999999999999801,0.00999999999999801,0.00999999999999801,0.00999999999999801,0.00999999999999801,0.00999999999999801,0.00999999999999801,0.00999999999999801,0.00999999999999801,0.00999999999999801,0.00999999999999801,0.00999999999999801,0.00999999999999801,0.00999999999999801,0.00999999999999801,0.00999999999999801,0.00999999999999801,0.00999999999999801,0.00999999999999801,0.00999999999999801,0.00999999999999801,0.00999999999999801,0.00999999999999801,0.00999999999999801,0.00999999999999801,0.00999999999999801,0.00999999999999801,0.00999999999999801,0.00999999999999801,0.00999999999999801,0.00999999999999801,0.00999999999999801,0.00999999999999801,0.00999999999999801,0.00999999999999801,0.00999999999999801,0.00999999999999801,0.00999999999999801,0.00999999999999801,0.00999999999999801,0.00999999999999801,0.00999999999999801,0.00999999999999801,0.00999999999999801,0.00999999999999801,0.00999999999999801,0.00999999999999801,0.00999999999999801,0.00999999999999801,0.00999999999999801,0.00999999999999801,0.00999999999999801,0.00999999999999801,0.00999999999999801,0.00999999999999801,0.00999999999999801,0.00999999999999801,0.00999999999999801,0.00999999999999801,0.00999999999999801,0.00999999999999801,0.00999999999999801,0.00999999999999801,0.00999999999999801,0.00999999999999801,0.00999999999999801,0.00999999999999801,0.00999999999999801,0.00999999999999801,0.00999999999999801,0.00999999999999801,0.00999999999999801,0.00999999999999801,0.00999999999999801,0.00999999999999801,0.00999999999999801,0.00999999999999801,0.00999999999999801,0.00999999999999801,0.00999999999999801,0.00999999999999801,0.00999999999999801,0.00999999999999801,0.00999999999999801,0.00999999999999801,0.00999999999999801,0.00999999999999801,0.00999999999999801,0.00999999999999801,0.00999999999999801,0.00999999999999801,0.00999999999999801,0.00999999999999801,0.00999999999999801,0.00999999999999801,0.00999999999999801,0.00999999999999801,0.00999999999999801,0.00999999999999801,0.00999999999999801,0.00999999999999801,0.00999999999999801,0.00999999999999801,0.00999999999999801,0.00999999999999801,0.00999999999999801,0.00999999999999801,0.00999999999999801,0.00999999999999801,0.00999999999999801,0.00999999999999801,0.00999999999999801,0.00999999999999801,0.00999999999999801,0.00999999999999801,0.00999999999999801,0.00999999999999801,0.00999999999999801,0.00999999999999801,0.00999999999999801,0.00999999999999801,0.00999999999999801,0.00999999999999801,0.00999999999999801,0.00999999999999801,0.00999999999999801,0.00999999999999801,0.00999999999999801,0.00999999999999801,0.00999999999999801,0.00999999999999801,0.00999999999999801,0.00999999999999801,0.00999999999999801,0.00999999999999801,0.00999999999999801,0.00999999999999801,0.00999999999999801,0.00999999999999801,0.00999999999999801,0.00999999999999801,0.00999999999999801,0.00999999999999801,0.00999999999999801,0.00999999999999801,0.00999999999999801,0.00999999999999801,0.00999999999999801,0.00999999999999801,0.00999999999999801,0.00999999999999801,0.00999999999999801,0.00999999999999801,0.00999999999999801,0.00999999999999801,0.0,0.0,0.0,0.0,0.0,0.0,0.0,0.0,0.0,0.0,0.0,0.0,0.0,0.0,0.0,0.0,0.0,0.0,0.00999999999999801,0.00999999999999801,0.00999999999999801,0.00999999999999801,0.00999999999999801,0.00999999999999801,0.00999999999999801,0.00999999999999801,0.00999999999999801,0.00999999999999801,0.00999999999999801,0.00999999999999801,0.00999999999999801,0.00999999999999801,0.00999999999999801,0.00999999999999801,0.00999999999999801,0.00999999999999801,0.00999999999999801,0.00999999999999801,0.00999999999999801,0.00999999999999801,0.00999999999999801,0.00999999999999801,0.00999999999999801,0.00999999999999801,0.00999999999999801,0.00999999999999801,0.00999999999999801,0.00999999999999801,0.00999999999999801,0.00999999999999801,0.00999999999999801,0.00999999999999801,0.00999999999999801,0.00999999999999801,0.00999999999999801,0.00999999999999801,0.00999999999999801,0.00999999999999801,0.00999999999999801,0.00999999999999801,0.00999999999999801,0.00999999999999801,0.00999999999999801,0.00999999999999801,0.00999999999999801,0.00999999999999801,0.00999999999999801,0.00999999999999801,0.00999999999999801,0.00999999999999801,0.00999999999999801,0.00999999999999801,0.0,0.0,0.0,0.0,0.0,0.0,0.0,0.0,0.0,0.0,0.0,0.0,0.0,0.0,0.0,0.0,0.0,0.00999999999999801,0.00999999999999801,0.00999999999999801,0.00999999999999801,0.00999999999999801,0.00999999999999801,0.00999999999999801,0.00999999999999801,0.00999999999999801,0.00999999999999801,0.00999999999999801,0.00999999999999801,0.00999999999999801,0.00999999999999801,0.00999999999999801,0.00999999999999801,0.00999999999999801,0.00999999999999801,0.00999999999999801,0.00999999999999801,0.00999999999999801,0.00999999999999801,0.00999999999999801,0.00999999999999801,0.00999999999999801,0.00999999999999801,0.00999999999999801,0.00999999999999801,0.00999999999999801,0.00999999999999801,0.00999999999999801,0.00999999999999801,0.00999999999999801,0.00999999999999801,0.00999999999999801,0.00999999999999801,0.00999999999999801,0.00999999999999801,0.00999999999999801,0.00999999999999801,0.00999999999999801,0.00999999999999801,0.00999999999999801,0.00999999999999801,0.00999999999999801,0.00999999999999801,0.00999999999999801,0.00999999999999801,0.00999999999999801,0.00999999999999801,0.00999999999999801,0.00999999999999801,0.00999999999999801,0.00999999999999801,0.00999999999999801,0.00999999999999801,0.00999999999999801,0.00999999999999801,0.00999999999999801,0.00999999999999801,0.00999999999999801,0.00999999999999801,0.00999999999999801,0.00999999999999801,0.00999999999999801,0.00999999999999801,0.00999999999999801,0.00999999999999801,0.00999999999999801,0.00999999999999801,0.00999999999999801,0.00999999999999801,0.00999999999999801,0.00999999999999801,0.00999999999999801,0.00999999999999801,0.00999999999999801,0.00999999999999801,0.00999999999999801,0.00999999999999801,0.00999999999999801,0.00999999999999801,0.00999999999999801,0.00999999999999801,0.00999999999999801,0.00999999999999801,0.00999999999999801,0.00999999999999801,0.00999999999999801,0.00999999999999801,0.00999999999999801,0.00999999999999801,0.00999999999999801,0.00999999999999801,0.00999999999999801,0.00999999999999801,0.00999999999999801,0.00999999999999801,0.00999999999999801,0.00999999999999801,0.00999999999999801,0.00999999999999801,0.00999999999999801,0.00999999999999801,0.00999999999999801,0.00999999999999801,0.00999999999999801,0.00999999999999801,0.00999999999999801,0.00999999999999801,0.00999999999999801,0.00999999999999801,0.00999999999999801,0.00999999999999801,0.00999999999999801,0.00999999999999801,0.00999999999999801,0.01999999999999602,0.00999999999999801,0.00999999999999801,0.00999999999999801,0.00999999999999801,0.00999999999999801,0.00999999999999801,0.00999999999999801,0.00999999999999801,0.00999999999999801,0.00999999999999801,0.00999999999999801,0.00999999999999801,0.00999999999999801,0.00999999999999801,0.00999999999999801,0.00999999999999801,0.00999999999999801,0.00999999999999801,0.00999999999999801,0.00999999999999801,0.00999999999999801,0.00999999999999801,0.00999999999999801,0.00999999999999801,0.00999999999999801,0.00999999999999801,0.00999999999999801,0.00999999999999801,0.00999999999999801,0.00999999999999801,0.00999999999999801,0.00999999999999801,0.00999999999999801,0.00999999999999801,0.00999999999999801,0.00999999999999801,0.00999999999999801,0.00999999999999801,0.00999999999999801,0.00999999999999801,0.00999999999999801,0.00999999999999801,0.00999999999999801,0.00999999999999801,0.00999999999999801,0.00999999999999801,0.00999999999999801,0.00999999999999801,0.00999999999999801,0.00999999999999801,0.00999999999999801,0.00999999999999801,0.00999999999999801,0.00999999999999801,0.00999999999999801,0.00999999999999801,0.00999999999999801,0.00999999999999801,0.00999999999999801,0.00999999999999801,0.00999999999999801,0.00999999999999801,0.00999999999999801,0.00999999999999801,0.00999999999999801,0.00999999999999801,0.00999999999999801,0.00999999999999801,0.0,0.0,0.0,0.0,0.0,0.0,0.0,0.0,0.0,0.0,0.0,0.0,0.0,0.0,0.0,0.0,0.0,0.0,0.0,0.0,0.0,0.0,0.0,0.0,0.00999999999999801,0.00999999999999801,0.00999999999999801,0.00999999999999801,0.00999999999999801,0.00999999999999801,0.00999999999999801,0.00999999999999801,0.00999999999999801,0.00999999999999801,0.00999999999999801,0.00999999999999801,0.00999999999999801,0.00999999999999801,0.00999999999999801,0.00999999999999801,0.00999999999999801,0.00999999999999801,0.00999999999999801,0.00999999999999801,0.00999999999999801,0.00999999999999801,0.00999999999999801,0.00999999999999801,0.00999999999999801,0.00999999999999801,0.00999999999999801,0.00999999999999801,0.00999999999999801,0.00999999999999801,0.00999999999999801,0.00999999999999801,0.00999999999999801,0.00999999999999801,0.00999999999999801,0.00999999999999801,0.00999999999999801,0.00999999999999801,0.00999999999999801,0.00999999999999801,0.00999999999999801,0.00999999999999801,0.00999999999999801,0.00999999999999801,0.00999999999999801,0.00999999999999801,0.00999999999999801,0.00999999999999801,0.00999999999999801,0.00999999999999801,0.00999999999999801,0.00999999999999801,0.00999999999999801,0.00999999999999801,0.00999999999999801,0.00999999999999801,0.00999999999999801,0.00999999999999801,0.00999999999999801,0.00999999999999801,0.00999999999999801,0.00999999999999801,0.00999999999999801,0.00999999999999801,0.00999999999999801,0.00999999999999801,0.00999999999999801,0.00999999999999801,0.00999999999999801,0.00999999999999801,0.00999999999999801,0.00999999999999801,0.00999999999999801,0.00999999999999801,0.00999999999999801,0.00999999999999801,0.00999999999999801,0.00999999999999801,0.00999999999999801,0.00999999999999801,0.00999999999999801,0.00999999999999801,0.020000000000003126,0.00999999999999801,0.00999999999999801,0.00999999999999801,0.00999999999999801,0.00999999999999801,0.00999999999999801,0.00999999999999801,0.00999999999999801,0.00999999999999801,0.00999999999999801,0.00999999999999801,0.00999999999999801,0.0,0.0,0.0,0.0,0.0,0.0,0.0,0.0,0.0,0.0,0.0,0.0,0.0,0.0,0.010000000000005116,0.010000000000005116,0.010000000000005116,0.010000000000005116,0.010000000000005116,0.010000000000005116,0.010000000000005116,0.010000000000005116,0.010000000000005116,0.010000000000005116,0.010000000000005116,0.010000000000005116,0.010000000000005116,0.010000000000005116,0.010000000000005116,0.010000000000005116,0.010000000000005116,0.010000000000005116,0.010000000000005116,0.010000000000005116,0.010000000000005116,0.010000000000005116,0.010000000000005116,0.010000000000005116,0.010000000000005116,0.010000000000005116,0.010000000000005116,0.010000000000005116,0.010000000000005116,0.010000000000005116,0.010000000000005116,0.010000000000005116,0.010000000000005116,0.010000000000005116,0.010000000000005116,0.010000000000005116,0.010000000000005116,0.010000000000005116,0.010000000000005116,0.010000000000005116,0.010000000000005116,0.010000000000005116,0.010000000000005116,0.010000000000005116,0.010000000000005116,0.010000000000005116,0.010000000000005116,0.010000000000005116,0.010000000000005116,0.010000000000005116,0.010000000000005116,0.010000000000005116,0.010000000000005116,0.010000000000005116,0.010000000000005116,0.010000000000005116,0.010000000000005116,0.010000000000005116,0.010000000000005116,0.010000000000005116,0.010000000000005116,0.010000000000005116,0.010000000000005116,0.0,0.0,0.0,0.0,0.0,0.00999999999999801,0.00999999999999801,0.00999999999999801,0.00999999999999801,0.00999999999999801,0.00999999999999801,0.00999999999999801,0.00999999999999801,0.00999999999999801,0.00999999999999801,0.00999999999999801,0.00999999999999801,0.00999999999999801,0.00999999999999801,0.00999999999999801,0.00999999999999801,0.00999999999999801,0.00999999999999801,0.00999999999999801,0.00999999999999801,0.00999999999999801,0.00999999999999801,0.00999999999999801,0.00999999999999801,0.00999999999999801,0.00999999999999801,0.00999999999999801,0.00999999999999801,0.00999999999999801,0.00999999999999801,0.00999999999999801,0.00999999999999801,0.00999999999999801,0.00999999999999801,0.00999999999999801,0.00999999999999801,0.00999999999999801,0.00999999999999801,0.00999999999999801,0.00999999999999801,0.00999999999999801,0.00999999999999801,0.00999999999999801,0.00999999999999801,0.00999999999999801,0.00999999999999801,0.00999999999999801,0.00999999999999801,0.00999999999999801,0.00999999999999801,0.00999999999999801,0.00999999999999801,0.00999999999999801,0.00999999999999801,0.00999999999999801,0.00999999999999801,0.00999999999999801,0.00999999999999801,0.00999999999999801,0.00999999999999801,0.00999999999999801,0.00999999999999801,0.00999999999999801,0.00999999999999801,0.00999999999999801,0.00999999999999801,0.00999999999999801,0.00999999999999801,0.00999999999999801,0.00999999999999801,0.00999999999999801,0.00999999999999801,0.00999999999999801,0.00999999999999801,0.00999999999999801,0.00999999999999801,0.00999999999999801,0.00999999999999801,0.00999999999999801,0.00999999999999801,0.00999999999999801,0.00999999999999801,0.00999999999999801,0.00999999999999801,0.00999999999999801,0.00999999999999801,0.00999999999999801,0.00999999999999801,0.00999999999999801,0.00999999999999801,0.00999999999999801,0.00999999999999801,0.00999999999999801,0.00999999999999801,0.00999999999999801,0.00999999999999801,0.00999999999999801,0.00999999999999801,0.00999999999999801,0.00999999999999801,0.00999999999999801,0.00999999999999801,0.00999999999999801,0.00999999999999801,0.00999999999999801,0.00999999999999801,0.00999999999999801,0.00999999999999801,0.00999999999999801,0.00999999999999801,0.00999999999999801,0.00999999999999801,0.00999999999999801,0.00999999999999801,0.00999999999999801,0.00999999999999801,0.00999999999999801,0.00999999999999801,0.00999999999999801,0.00999999999999801,0.00999999999999801,0.00999999999999801,0.00999999999999801,0.00999999999999801,0.00999999999999801,0.00999999999999801,0.00999999999999801,0.00999999999999801,0.00999999999999801,0.00999999999999801,0.00999999999999801,0.00999999999999801,0.00999999999999801,0.00999999999999801,0.00999999999999801,0.00999999999999801,0.00999999999999801,0.00999999999999801,0.00999999999999801,0.00999999999999801,0.00999999999999801,0.00999999999999801,0.00999999999999801,0.00999999999999801,0.00999999999999801,0.00999999999999801,0.00999999999999801,0.00999999999999801,0.00999999999999801,0.00999999999999801,0.00999999999999801,0.00999999999999801,0.00999999999999801,0.00999999999999801,0.00999999999999801,0.00999999999999801,0.00999999999999801,0.00999999999999801,0.00999999999999801,0.00999999999999801,0.00999999999999801,0.00999999999999801,0.00999999999999801,0.00999999999999801,0.00999999999999801,0.00999999999999801,0.00999999999999801,0.00999999999999801,0.00999999999999801,0.00999999999999801,0.00999999999999801,0.00999999999999801,0.00999999999999801,0.00999999999999801,0.0,0.0,0.0,0.0,0.0,0.0,0.0,0.0,0.0,0.0,0.0,0.0,0.0,0.0,0.0,0.0,0.0,0.0,0.0,0.0,0.0,0.0,0.0,0.0,0.0,0.0,0.0,0.0,0.0,0.0,0.0,0.0,0.0,0.00999999999999801,0.00999999999999801,0.00999999999999801,0.00999999999999801,0.00999999999999801,0.00999999999999801,0.00999999999999801,0.00999999999999801,0.00999999999999801,0.00999999999999801,0.00999999999999801,0.00999999999999801,0.00999999999999801,0.00999999999999801,0.00999999999999801,0.00999999999999801,0.00999999999999801,0.00999999999999801,0.00999999999999801,0.00999999999999801,0.00999999999999801,0.00999999999999801,0.00999999999999801,0.00999999999999801,0.00999999999999801,0.00999999999999801,0.00999999999999801,0.00999999999999801,0.00999999999999801,0.00999999999999801,0.00999999999999801,0.00999999999999801,0.00999999999999801,0.00999999999999801,0.00999999999999801,0.00999999999999801,0.00999999999999801,0.00999999999999801,0.00999999999999801,0.00999999999999801,0.00999999999999801,0.00999999999999801,0.00999999999999801,0.00999999999999801,0.00999999999999801,0.00999999999999801,0.00999999999999801,0.00999999999999801,0.00999999999999801,0.00999999999999801,0.00999999999999801,0.00999999999999801,0.00999999999999801,0.00999999999999801,0.00999999999999801,0.00999999999999801,0.00999999999999801,0.00999999999999801,0.00999999999999801,0.00999999999999801],\"yaxis\":\"y\",\"type\":\"scatter\"}],                        {\"template\":{\"data\":{\"histogram2dcontour\":[{\"type\":\"histogram2dcontour\",\"colorbar\":{\"outlinewidth\":0,\"ticks\":\"\"},\"colorscale\":[[0.0,\"#0d0887\"],[0.1111111111111111,\"#46039f\"],[0.2222222222222222,\"#7201a8\"],[0.3333333333333333,\"#9c179e\"],[0.4444444444444444,\"#bd3786\"],[0.5555555555555556,\"#d8576b\"],[0.6666666666666666,\"#ed7953\"],[0.7777777777777778,\"#fb9f3a\"],[0.8888888888888888,\"#fdca26\"],[1.0,\"#f0f921\"]]}],\"choropleth\":[{\"type\":\"choropleth\",\"colorbar\":{\"outlinewidth\":0,\"ticks\":\"\"}}],\"histogram2d\":[{\"type\":\"histogram2d\",\"colorbar\":{\"outlinewidth\":0,\"ticks\":\"\"},\"colorscale\":[[0.0,\"#0d0887\"],[0.1111111111111111,\"#46039f\"],[0.2222222222222222,\"#7201a8\"],[0.3333333333333333,\"#9c179e\"],[0.4444444444444444,\"#bd3786\"],[0.5555555555555556,\"#d8576b\"],[0.6666666666666666,\"#ed7953\"],[0.7777777777777778,\"#fb9f3a\"],[0.8888888888888888,\"#fdca26\"],[1.0,\"#f0f921\"]]}],\"heatmap\":[{\"type\":\"heatmap\",\"colorbar\":{\"outlinewidth\":0,\"ticks\":\"\"},\"colorscale\":[[0.0,\"#0d0887\"],[0.1111111111111111,\"#46039f\"],[0.2222222222222222,\"#7201a8\"],[0.3333333333333333,\"#9c179e\"],[0.4444444444444444,\"#bd3786\"],[0.5555555555555556,\"#d8576b\"],[0.6666666666666666,\"#ed7953\"],[0.7777777777777778,\"#fb9f3a\"],[0.8888888888888888,\"#fdca26\"],[1.0,\"#f0f921\"]]}],\"heatmapgl\":[{\"type\":\"heatmapgl\",\"colorbar\":{\"outlinewidth\":0,\"ticks\":\"\"},\"colorscale\":[[0.0,\"#0d0887\"],[0.1111111111111111,\"#46039f\"],[0.2222222222222222,\"#7201a8\"],[0.3333333333333333,\"#9c179e\"],[0.4444444444444444,\"#bd3786\"],[0.5555555555555556,\"#d8576b\"],[0.6666666666666666,\"#ed7953\"],[0.7777777777777778,\"#fb9f3a\"],[0.8888888888888888,\"#fdca26\"],[1.0,\"#f0f921\"]]}],\"contourcarpet\":[{\"type\":\"contourcarpet\",\"colorbar\":{\"outlinewidth\":0,\"ticks\":\"\"}}],\"contour\":[{\"type\":\"contour\",\"colorbar\":{\"outlinewidth\":0,\"ticks\":\"\"},\"colorscale\":[[0.0,\"#0d0887\"],[0.1111111111111111,\"#46039f\"],[0.2222222222222222,\"#7201a8\"],[0.3333333333333333,\"#9c179e\"],[0.4444444444444444,\"#bd3786\"],[0.5555555555555556,\"#d8576b\"],[0.6666666666666666,\"#ed7953\"],[0.7777777777777778,\"#fb9f3a\"],[0.8888888888888888,\"#fdca26\"],[1.0,\"#f0f921\"]]}],\"surface\":[{\"type\":\"surface\",\"colorbar\":{\"outlinewidth\":0,\"ticks\":\"\"},\"colorscale\":[[0.0,\"#0d0887\"],[0.1111111111111111,\"#46039f\"],[0.2222222222222222,\"#7201a8\"],[0.3333333333333333,\"#9c179e\"],[0.4444444444444444,\"#bd3786\"],[0.5555555555555556,\"#d8576b\"],[0.6666666666666666,\"#ed7953\"],[0.7777777777777778,\"#fb9f3a\"],[0.8888888888888888,\"#fdca26\"],[1.0,\"#f0f921\"]]}],\"mesh3d\":[{\"type\":\"mesh3d\",\"colorbar\":{\"outlinewidth\":0,\"ticks\":\"\"}}],\"scatter\":[{\"fillpattern\":{\"fillmode\":\"overlay\",\"size\":10,\"solidity\":0.2},\"type\":\"scatter\"}],\"parcoords\":[{\"type\":\"parcoords\",\"line\":{\"colorbar\":{\"outlinewidth\":0,\"ticks\":\"\"}}}],\"scatterpolargl\":[{\"type\":\"scatterpolargl\",\"marker\":{\"colorbar\":{\"outlinewidth\":0,\"ticks\":\"\"}}}],\"bar\":[{\"error_x\":{\"color\":\"#2a3f5f\"},\"error_y\":{\"color\":\"#2a3f5f\"},\"marker\":{\"line\":{\"color\":\"#E5ECF6\",\"width\":0.5},\"pattern\":{\"fillmode\":\"overlay\",\"size\":10,\"solidity\":0.2}},\"type\":\"bar\"}],\"scattergeo\":[{\"type\":\"scattergeo\",\"marker\":{\"colorbar\":{\"outlinewidth\":0,\"ticks\":\"\"}}}],\"scatterpolar\":[{\"type\":\"scatterpolar\",\"marker\":{\"colorbar\":{\"outlinewidth\":0,\"ticks\":\"\"}}}],\"histogram\":[{\"marker\":{\"pattern\":{\"fillmode\":\"overlay\",\"size\":10,\"solidity\":0.2}},\"type\":\"histogram\"}],\"scattergl\":[{\"type\":\"scattergl\",\"marker\":{\"colorbar\":{\"outlinewidth\":0,\"ticks\":\"\"}}}],\"scatter3d\":[{\"type\":\"scatter3d\",\"line\":{\"colorbar\":{\"outlinewidth\":0,\"ticks\":\"\"}},\"marker\":{\"colorbar\":{\"outlinewidth\":0,\"ticks\":\"\"}}}],\"scattermapbox\":[{\"type\":\"scattermapbox\",\"marker\":{\"colorbar\":{\"outlinewidth\":0,\"ticks\":\"\"}}}],\"scatterternary\":[{\"type\":\"scatterternary\",\"marker\":{\"colorbar\":{\"outlinewidth\":0,\"ticks\":\"\"}}}],\"scattercarpet\":[{\"type\":\"scattercarpet\",\"marker\":{\"colorbar\":{\"outlinewidth\":0,\"ticks\":\"\"}}}],\"carpet\":[{\"aaxis\":{\"endlinecolor\":\"#2a3f5f\",\"gridcolor\":\"white\",\"linecolor\":\"white\",\"minorgridcolor\":\"white\",\"startlinecolor\":\"#2a3f5f\"},\"baxis\":{\"endlinecolor\":\"#2a3f5f\",\"gridcolor\":\"white\",\"linecolor\":\"white\",\"minorgridcolor\":\"white\",\"startlinecolor\":\"#2a3f5f\"},\"type\":\"carpet\"}],\"table\":[{\"cells\":{\"fill\":{\"color\":\"#EBF0F8\"},\"line\":{\"color\":\"white\"}},\"header\":{\"fill\":{\"color\":\"#C8D4E3\"},\"line\":{\"color\":\"white\"}},\"type\":\"table\"}],\"barpolar\":[{\"marker\":{\"line\":{\"color\":\"#E5ECF6\",\"width\":0.5},\"pattern\":{\"fillmode\":\"overlay\",\"size\":10,\"solidity\":0.2}},\"type\":\"barpolar\"}],\"pie\":[{\"automargin\":true,\"type\":\"pie\"}]},\"layout\":{\"autotypenumbers\":\"strict\",\"colorway\":[\"#636efa\",\"#EF553B\",\"#00cc96\",\"#ab63fa\",\"#FFA15A\",\"#19d3f3\",\"#FF6692\",\"#B6E880\",\"#FF97FF\",\"#FECB52\"],\"font\":{\"color\":\"#2a3f5f\"},\"hovermode\":\"closest\",\"hoverlabel\":{\"align\":\"left\"},\"paper_bgcolor\":\"white\",\"plot_bgcolor\":\"#E5ECF6\",\"polar\":{\"bgcolor\":\"#E5ECF6\",\"angularaxis\":{\"gridcolor\":\"white\",\"linecolor\":\"white\",\"ticks\":\"\"},\"radialaxis\":{\"gridcolor\":\"white\",\"linecolor\":\"white\",\"ticks\":\"\"}},\"ternary\":{\"bgcolor\":\"#E5ECF6\",\"aaxis\":{\"gridcolor\":\"white\",\"linecolor\":\"white\",\"ticks\":\"\"},\"baxis\":{\"gridcolor\":\"white\",\"linecolor\":\"white\",\"ticks\":\"\"},\"caxis\":{\"gridcolor\":\"white\",\"linecolor\":\"white\",\"ticks\":\"\"}},\"coloraxis\":{\"colorbar\":{\"outlinewidth\":0,\"ticks\":\"\"}},\"colorscale\":{\"sequential\":[[0.0,\"#0d0887\"],[0.1111111111111111,\"#46039f\"],[0.2222222222222222,\"#7201a8\"],[0.3333333333333333,\"#9c179e\"],[0.4444444444444444,\"#bd3786\"],[0.5555555555555556,\"#d8576b\"],[0.6666666666666666,\"#ed7953\"],[0.7777777777777778,\"#fb9f3a\"],[0.8888888888888888,\"#fdca26\"],[1.0,\"#f0f921\"]],\"sequentialminus\":[[0.0,\"#0d0887\"],[0.1111111111111111,\"#46039f\"],[0.2222222222222222,\"#7201a8\"],[0.3333333333333333,\"#9c179e\"],[0.4444444444444444,\"#bd3786\"],[0.5555555555555556,\"#d8576b\"],[0.6666666666666666,\"#ed7953\"],[0.7777777777777778,\"#fb9f3a\"],[0.8888888888888888,\"#fdca26\"],[1.0,\"#f0f921\"]],\"diverging\":[[0,\"#8e0152\"],[0.1,\"#c51b7d\"],[0.2,\"#de77ae\"],[0.3,\"#f1b6da\"],[0.4,\"#fde0ef\"],[0.5,\"#f7f7f7\"],[0.6,\"#e6f5d0\"],[0.7,\"#b8e186\"],[0.8,\"#7fbc41\"],[0.9,\"#4d9221\"],[1,\"#276419\"]]},\"xaxis\":{\"gridcolor\":\"white\",\"linecolor\":\"white\",\"ticks\":\"\",\"title\":{\"standoff\":15},\"zerolinecolor\":\"white\",\"automargin\":true,\"zerolinewidth\":2},\"yaxis\":{\"gridcolor\":\"white\",\"linecolor\":\"white\",\"ticks\":\"\",\"title\":{\"standoff\":15},\"zerolinecolor\":\"white\",\"automargin\":true,\"zerolinewidth\":2},\"scene\":{\"xaxis\":{\"backgroundcolor\":\"#E5ECF6\",\"gridcolor\":\"white\",\"linecolor\":\"white\",\"showbackground\":true,\"ticks\":\"\",\"zerolinecolor\":\"white\",\"gridwidth\":2},\"yaxis\":{\"backgroundcolor\":\"#E5ECF6\",\"gridcolor\":\"white\",\"linecolor\":\"white\",\"showbackground\":true,\"ticks\":\"\",\"zerolinecolor\":\"white\",\"gridwidth\":2},\"zaxis\":{\"backgroundcolor\":\"#E5ECF6\",\"gridcolor\":\"white\",\"linecolor\":\"white\",\"showbackground\":true,\"ticks\":\"\",\"zerolinecolor\":\"white\",\"gridwidth\":2}},\"shapedefaults\":{\"line\":{\"color\":\"#2a3f5f\"}},\"annotationdefaults\":{\"arrowcolor\":\"#2a3f5f\",\"arrowhead\":0,\"arrowwidth\":1},\"geo\":{\"bgcolor\":\"white\",\"landcolor\":\"#E5ECF6\",\"subunitcolor\":\"white\",\"showland\":true,\"showlakes\":true,\"lakecolor\":\"white\"},\"title\":{\"x\":0.05},\"mapbox\":{\"style\":\"light\"}}},\"xaxis\":{\"anchor\":\"y\",\"domain\":[0.0,1.0],\"title\":{\"text\":\"Time of day\"}},\"yaxis\":{\"anchor\":\"x\",\"domain\":[0.0,1.0],\"title\":{\"text\":\"Bid-ask spread ($USD)\"}},\"legend\":{\"tracegroupgap\":0},\"margin\":{\"t\":60},\"title\":{\"text\":\"Bid-ask spread of $SHOP as a function of time\"}},                        {\"responsive\": true}                    ).then(function(){\n",
       "                            \n",
       "var gd = document.getElementById('9fd88de5-cb7f-4920-bafb-87202cdfdd93');\n",
       "var x = new MutationObserver(function (mutations, observer) {{\n",
       "        var display = window.getComputedStyle(gd).display;\n",
       "        if (!display || display === 'none') {{\n",
       "            console.log([gd, 'removed!']);\n",
       "            Plotly.purge(gd);\n",
       "            observer.disconnect();\n",
       "        }}\n",
       "}});\n",
       "\n",
       "// Listen for the removal of the full notebook cells\n",
       "var notebookContainer = gd.closest('#notebook-container');\n",
       "if (notebookContainer) {{\n",
       "    x.observe(notebookContainer, {childList: true});\n",
       "}}\n",
       "\n",
       "// Listen for the clearing of the current output cell\n",
       "var outputEl = gd.closest('.output');\n",
       "if (outputEl) {{\n",
       "    x.observe(outputEl, {childList: true});\n",
       "}}\n",
       "\n",
       "                        })                };                });            </script>        </div>"
      ]
     },
     "metadata": {},
     "output_type": "display_data"
    }
   ],
   "source": [
    "#Bid Ask Spread Analysis\n",
    "#Quote Analysis\n",
    "#Reference Alpaca API and Create General Bid Ask Chart Structures\n",
    "#From \n",
    "from dotenv import load_dotenv\n",
    "import plotly.graph_objects as go\n",
    "import plotly.express as px\n",
    "import alpaca_trade_api as api\n",
    "import os\n",
    "\n",
    "# First get the values of any environment variables we need\n",
    "load_dotenv('a.env')\n",
    "os.environ.get('ALPACA_KEY_ID')\n",
    "os.environ.get('ALPACA_SECRETS_ID')\n",
    "\n",
    "API_KEY = ALPACA_KEY_ID\n",
    "API_SECRET = ALPACA_SECRETS_ID\n",
    "alpaca = api.REST(API_KEY, API_SECRET)\n",
    "# Setting parameters before calling method\n",
    "\n",
    "\n",
    "\n",
    "# Setting parameters for method call\n",
    "symbol = \"INTC\"\n",
    "start = \"2023-04-04T14:30:00Z\"\n",
    "end = \"2023-04-18T21:00:00Z\"\n",
    "limit = 1000\n",
    "# Get Shopify quotes in a dataframe and print the first 5 rows\n",
    "shop_quotes = alpaca.get_quotes(symbol, start, end, limit).df\n",
    "\n",
    "\n",
    "quotes_spread = shop_quotes[\"ask_price\"] - shop_quotes[\"bid_price\"]\n",
    "spread_plot = px.line(shop_quotes, x=shop_quotes.index, y=quotes_spread)\n",
    "spread_plot.update_layout(\n",
    "    title=\"Bid-ask spread of $SHOP as a function of time\",\n",
    "    xaxis_title=\"Time of day\",\n",
    "    yaxis_title=\"Bid-ask spread ($USD)\"\n",
    ")\n",
    "spread_plot.show()"
   ]
  },
  {
   "cell_type": "code",
   "execution_count": null,
   "id": "35d4c3f6",
   "metadata": {},
   "outputs": [],
   "source": []
  }
 ],
 "metadata": {
  "kernelspec": {
   "display_name": "Python 3 (ipykernel)",
   "language": "python",
   "name": "python3"
  },
  "language_info": {
   "codemirror_mode": {
    "name": "ipython",
    "version": 3
   },
   "file_extension": ".py",
   "mimetype": "text/x-python",
   "name": "python",
   "nbconvert_exporter": "python",
   "pygments_lexer": "ipython3",
   "version": "3.10.9"
  }
 },
 "nbformat": 4,
 "nbformat_minor": 5
}
