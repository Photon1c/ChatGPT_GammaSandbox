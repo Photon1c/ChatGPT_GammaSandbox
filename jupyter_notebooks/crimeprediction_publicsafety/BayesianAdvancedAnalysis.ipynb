{
 "cells": [
  {
   "cell_type": "code",
   "execution_count": null,
   "id": "737d557a",
   "metadata": {},
   "outputs": [],
   "source": [
    "#Bayesian Markov Chain Monte Carlo algorithm on CSV file\n",
    "import pandas as pd\n",
    "import pymc3 as pm\n",
    "\n",
    "# Step 1: Read CSV file and select relevant columns\n",
    "data = pd.read_csv('D:\\master_osint\\osint_switchblade\\poirotbot\\challenge1\\data\\SHR76_21.csv', usecols=['VicAge', 'OffAge', 'VicSex', 'OffSex'])\n",
    "\n",
    "# Step 2: Define the probabilistic model using PyMC3\n",
    "with pm.Model() as model:\n",
    "    # Define prior distributions for your model parameters\n",
    "    parameter1 = pm.Uniform('parameter1', lower=0, upper=1)\n",
    "    parameter2 = pm.Normal('parameter2', mu=0, sd=1)\n",
    "\n",
    "    # Define likelihood or likelihood function using the selected columns from the CSV data\n",
    "    likelihood = pm.SomeLikelihood('likelihood', parameter1, parameter2, observed=data['column1'])\n",
    "\n",
    "    # Step 3: Perform MCMC sampling\n",
    "    trace = pm.sample(1000, tune=1000)\n",
    "\n",
    "# Step 4: Analyze the results of the MCMC sampling\n",
    "pm.summary(trace)  # Print summary statistics\n",
    "pm.traceplot(trace)  # Plot traces and posterior distributions\n",
    "pm.plot_posterior(trace)  # Plot posterior distributions\n",
    "\n",
    "# Additional steps can be taken to interpret and visualize the results further\n"
   ]
  },
  {
   "cell_type": "code",
   "execution_count": null,
   "id": "72b5829c",
   "metadata": {},
   "outputs": [],
   "source": [
    "import pandas as pd\n",
    "import pymc3 as pm\n",
    "\n",
    "# Step 1: Read CSV file and select relevant columns\n",
    "data = pd.read_csv('D:\\master_osint\\osint_switchblade\\poirotbot\\challenge1\\data\\SHR76_21.csv', usecols=['VicAge', 'OffAge', 'VicSex', 'OffSex'])\n",
    "data['VicSex'] = pd.to_numeric(data['VicSex'], errors='coerce')\n",
    "data['OffSex'] = pd.to_numeric(data['OffAge'], errors='coerce')\n",
    "# Step 2: Define the probabilistic model using PyMC3\n",
    "with pm.Model() as model:\n",
    "    # Define prior distributions for your model parameters\n",
    "    parameter1 = pm.Uniform('parameter1', lower=0, upper=1)\n",
    "    parameter2 = pm.Normal('parameter2', mu=0, sd=1)\n",
    "\n",
    "    # Define likelihood using the selected column from the CSV data\n",
    "    likelihood = pm.Normal('likelihood', mu=parameter1 * parameter2, sd=1, observed=data['VicSex'])\n",
    "\n",
    "    # Step 3: Perform MCMC sampling\n",
    "    trace = pm.sample(200, tune=200)\n",
    "\n",
    "# Step 4: Analyze the results of the MCMC sampling\n",
    "pm.summary(trace)  # Print summary statistics\n",
    "pm.traceplot(trace)  # Plot traces and posterior distributions\n",
    "pm.plot_posterior(trace)  # Plot posterior distributions\n"
   ]
  },
  {
   "cell_type": "code",
   "execution_count": null,
   "id": "47d9516c",
   "metadata": {},
   "outputs": [],
   "source": [
    "import pandas as pd\n",
    "import pymc3 as pm\n",
    "import matplotlib.pyplot as plt\n",
    "\n",
    "# Step 1: Read CSV file and select relevant columns\n",
    "data = pd.read_csv('D:\\master_osint\\osint_switchblade\\poirotbot\\challenge1\\data\\SHR76_21.csv', usecols=['VicAge', 'OffAge', 'VicSex', 'OffSex'])\n",
    "data['VicSex'] = pd.to_numeric(data['VicSex'], errors='coerce')\n",
    "data['OffSex'] = pd.to_numeric(data['OffAge'], errors='coerce')\n",
    "\n",
    "# Step 2: Define the probabilistic model using PyMC3\n",
    "with pm.Model() as model:\n",
    "    # Define prior distributions for your model parameters\n",
    "    parameter1 = pm.Uniform('parameter1', lower=0, upper=1)\n",
    "    parameter2 = pm.Normal('parameter2', mu=0, sd=1)\n",
    "\n",
    "    # Define likelihood using the selected column from the CSV data\n",
    "    likelihood = pm.Normal('likelihood', mu=parameter1 * parameter2, sd=1, observed=data['VicSex'])\n",
    "\n",
    "    # Step 3: Perform MCMC sampling\n",
    "    trace = pm.sample(200, tune=200, progressbar=True)  # Set progressbar=True for verbose output\n",
    "\n",
    "# Step 4: Analyze the results of the MCMC sampling\n",
    "pm.summary(trace)  # Print summary statistics\n",
    "\n",
    "# Plot traces and posterior distributions\n",
    "pm.traceplot(trace)\n",
    "plt.show()\n",
    "\n",
    "# Plot posterior distributions\n",
    "pm.plot_posterior(trace)\n",
    "plt.show()\n"
   ]
  },
  {
   "cell_type": "code",
   "execution_count": null,
   "id": "8f14e69b",
   "metadata": {},
   "outputs": [
    {
     "name": "stderr",
     "output_type": "stream",
     "text": [
      "D:\\Anaconda\\lib\\site-packages\\pymc3\\model.py:1755: ImputationWarning: Data in likelihood contains missing values and will be automatically imputed from the sampling distribution.\n",
      "  warnings.warn(impute_message, ImputationWarning)\n",
      "D:\\Anaconda\\lib\\site-packages\\deprecat\\classic.py:215: FutureWarning: In v4.0, pm.sample will return an `arviz.InferenceData` object instead of a `MultiTrace` by default. You can pass return_inferencedata=True or return_inferencedata=False to be safe and silence this warning.\n",
      "  return wrapped_(*args_, **kwargs_)\n",
      "Only 1 samples in chain.\n",
      "Sequential sampling (2 chains in 1 job)\n",
      "CompoundStep\n",
      ">Metropolis: [likelihood_missing]\n",
      ">Metropolis: [parameter2]\n",
      ">Metropolis: [parameter1]\n"
     ]
    },
    {
     "data": {
      "text/html": [
       "\n",
       "<style>\n",
       "    /* Turns off some styling */\n",
       "    progress {\n",
       "        /* gets rid of default border in Firefox and Opera. */\n",
       "        border: none;\n",
       "        /* Needs to be in here for Safari polyfill so background images work as expected. */\n",
       "        background-size: auto;\n",
       "    }\n",
       "    progress:not([value]), progress:not([value])::-webkit-progress-bar {\n",
       "        background: repeating-linear-gradient(45deg, #7e7e7e, #7e7e7e 10px, #5c5c5c 10px, #5c5c5c 20px);\n",
       "    }\n",
       "    .progress-bar-interrupted, .progress-bar-interrupted::-webkit-progress-bar {\n",
       "        background: #F44336;\n",
       "    }\n",
       "</style>\n"
      ],
      "text/plain": [
       "<IPython.core.display.HTML object>"
      ]
     },
     "metadata": {},
     "output_type": "display_data"
    },
    {
     "data": {
      "text/html": [
       "\n",
       "    <div>\n",
       "      <progress value='2' class='' max='2' style='width:300px; height:20px; vertical-align: middle;'></progress>\n",
       "      100.00% [2/2 01:18&lt;00:00 Sampling chain 0, 0 divergences]\n",
       "    </div>\n",
       "    "
      ],
      "text/plain": [
       "<IPython.core.display.HTML object>"
      ]
     },
     "metadata": {},
     "output_type": "display_data"
    },
    {
     "data": {
      "text/html": [
       "\n",
       "<style>\n",
       "    /* Turns off some styling */\n",
       "    progress {\n",
       "        /* gets rid of default border in Firefox and Opera. */\n",
       "        border: none;\n",
       "        /* Needs to be in here for Safari polyfill so background images work as expected. */\n",
       "        background-size: auto;\n",
       "    }\n",
       "    progress:not([value]), progress:not([value])::-webkit-progress-bar {\n",
       "        background: repeating-linear-gradient(45deg, #7e7e7e, #7e7e7e 10px, #5c5c5c 10px, #5c5c5c 20px);\n",
       "    }\n",
       "    .progress-bar-interrupted, .progress-bar-interrupted::-webkit-progress-bar {\n",
       "        background: #F44336;\n",
       "    }\n",
       "</style>\n"
      ],
      "text/plain": [
       "<IPython.core.display.HTML object>"
      ]
     },
     "metadata": {},
     "output_type": "display_data"
    },
    {
     "data": {
      "text/html": [
       "\n",
       "    <div>\n",
       "      <progress value='2' class='' max='2' style='width:300px; height:20px; vertical-align: middle;'></progress>\n",
       "      100.00% [2/2 01:14&lt;00:00 Sampling chain 1, 0 divergences]\n",
       "    </div>\n",
       "    "
      ],
      "text/plain": [
       "<IPython.core.display.HTML object>"
      ]
     },
     "metadata": {},
     "output_type": "display_data"
    },
    {
     "name": "stderr",
     "output_type": "stream",
     "text": [
      "Sampling 2 chains for 1 tune and 1 draw iterations (2 + 2 draws total) took 153 seconds.\n",
      "D:\\Anaconda\\lib\\site-packages\\arviz\\data\\base.py:220: UserWarning: More chains (2) than draws (1). Passed array should have shape (chains, draws, *shape)\n",
      "  warnings.warn(\n",
      "D:\\Anaconda\\lib\\site-packages\\pymc3\\sampling.py:659: UserWarning: The number of samples is too small to check convergence reliably.\n",
      "  warnings.warn(\"The number of samples is too small to check convergence reliably.\")\n",
      "Got error No model on context stack. trying to find log_likelihood in translation.\n",
      "D:\\Anaconda\\lib\\site-packages\\arviz\\data\\io_pymc3_3x.py:98: FutureWarning: Using `from_pymc3` without the model will be deprecated in a future release. Not using the model will return less accurate and less useful results. Make sure you use the model argument or call from_pymc3 within a model context.\n",
      "  warnings.warn(\n",
      "arviz - WARNING - Shape validation failed: input_shape: (2, 1), minimum_shape: (chains=1, draws=4)\n",
      "C:\\Users\\Spark\\AppData\\Local\\Temp\\ipykernel_15496\\3153169291.py:27: DeprecationWarning: The function `traceplot` from PyMC3 is just an alias for `plot_trace` from ArviZ. Please switch to `pymc3.plot_trace` or `arviz.plot_trace`.\n",
      "  pm.traceplot(trace)\n",
      "Got error No model on context stack. trying to find log_likelihood in translation.\n",
      "D:\\Anaconda\\lib\\site-packages\\arviz\\data\\io_pymc3_3x.py:98: FutureWarning: Using `from_pymc3` without the model will be deprecated in a future release. Not using the model will return less accurate and less useful results. Make sure you use the model argument or call from_pymc3 within a model context.\n",
      "  warnings.warn(\n",
      "D:\\Anaconda\\lib\\site-packages\\arviz\\data\\base.py:220: UserWarning: More chains (2) than draws (1). Passed array should have shape (chains, draws, *shape)\n",
      "  warnings.warn(\n",
      "Got error No model on context stack. trying to find log_likelihood in translation.\n",
      "D:\\Anaconda\\lib\\site-packages\\arviz\\stats\\density_utils.py:491: UserWarning: Your data appears to have a single value or no finite values\n",
      "  warnings.warn(\"Your data appears to have a single value or no finite values\")\n",
      "D:\\Anaconda\\lib\\site-packages\\arviz\\plots\\backends\\matplotlib\\traceplot.py:422: UserWarning: Attempting to set identical low and high xlims makes transformation singular; automatically expanding.\n",
      "  ax.set_xlim(left=data.draw.min(), right=data.draw.max())\n",
      "D:\\Anaconda\\lib\\site-packages\\arviz\\stats\\density_utils.py:491: UserWarning: Your data appears to have a single value or no finite values\n",
      "  warnings.warn(\"Your data appears to have a single value or no finite values\")\n"
     ]
    }
   ],
   "source": [
    "import pandas as pd\n",
    "import pymc3 as pm\n",
    "import matplotlib.pyplot as plt\n",
    "\n",
    "# Step 1: Read CSV file and select relevant columns\n",
    "data = pd.read_csv('D:\\master_osint\\osint_switchblade\\poirotbot\\challenge1\\data\\SHR76_21.csv', usecols=['VicAge', 'OffAge', 'VicSex', 'OffSex'])\n",
    "data['VicSex'] = pd.to_numeric(data['VicSex'], errors='coerce')\n",
    "data['OffSex'] = pd.to_numeric(data['OffAge'], errors='coerce')\n",
    "\n",
    "# Step 2: Define the probabilistic model using PyMC3\n",
    "with pm.Model() as model:\n",
    "    # Define prior distributions for your model parameters\n",
    "    parameter1 = pm.Uniform('parameter1', lower=0, upper=1)\n",
    "    parameter2 = pm.Normal('parameter2', mu=0, sd=1)\n",
    "\n",
    "    # Define likelihood using the selected column from the CSV data\n",
    "    likelihood = pm.Normal('likelihood', mu=parameter1 * parameter2, sd=1, observed=data['VicSex'])\n",
    "\n",
    "    # Step 3: Perform MCMC sampling\n",
    "    trace = pm.sample(1, tune=1, progressbar=True, cores=1, step=pm.Metropolis())\n",
    "\n",
    "\n",
    "# Step 4: Analyze the results of the MCMC sampling\n",
    "pm.summary(trace)  # Print summary statistics\n",
    "\n",
    "# Plot traces and posterior distributions\n",
    "pm.traceplot(trace)\n",
    "plt.show()\n",
    "\n",
    "# Plot posterior distributions\n",
    "pm.plot_posterior(trace)\n",
    "plt.show()\n"
   ]
  },
  {
   "cell_type": "code",
   "execution_count": null,
   "id": "3699aa2b",
   "metadata": {},
   "outputs": [],
   "source": []
  }
 ],
 "metadata": {
  "kernelspec": {
   "display_name": "Python 3 (ipykernel)",
   "language": "python",
   "name": "python3"
  },
  "language_info": {
   "codemirror_mode": {
    "name": "ipython",
    "version": 3
   },
   "file_extension": ".py",
   "mimetype": "text/x-python",
   "name": "python",
   "nbconvert_exporter": "python",
   "pygments_lexer": "ipython3",
   "version": "3.10.9"
  }
 },
 "nbformat": 4,
 "nbformat_minor": 5
}
