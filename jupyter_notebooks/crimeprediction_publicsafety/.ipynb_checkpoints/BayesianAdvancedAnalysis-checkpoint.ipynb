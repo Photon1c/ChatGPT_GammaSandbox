{
 "cells": [
  {
   "cell_type": "code",
   "execution_count": null,
   "id": "737d557a",
   "metadata": {},
   "outputs": [],
   "source": [
    "#Bayesian Markov Chain Monte Carlo algorithm on CSV file\n",
    "import pandas as pd\n",
    "import pymc3 as pm\n",
    "\n",
    "# Step 1: Read CSV file and select relevant columns\n",
    "data = pd.read_csv('D:\\master_osint\\osint_switchblade\\poirotbot\\challenge1\\data\\SHR76_21.csv', usecols=['VicAge', 'OffAge', 'VicSex', 'OffSex'])\n",
    "\n",
    "# Step 2: Define the probabilistic model using PyMC3\n",
    "with pm.Model() as model:\n",
    "    # Define prior distributions for your model parameters\n",
    "    parameter1 = pm.Uniform('parameter1', lower=0, upper=1)\n",
    "    parameter2 = pm.Normal('parameter2', mu=0, sd=1)\n",
    "\n",
    "    # Define likelihood or likelihood function using the selected columns from the CSV data\n",
    "    likelihood = pm.SomeLikelihood('likelihood', parameter1, parameter2, observed=data['column1'])\n",
    "\n",
    "    # Step 3: Perform MCMC sampling\n",
    "    trace = pm.sample(1000, tune=1000)\n",
    "\n",
    "# Step 4: Analyze the results of the MCMC sampling\n",
    "pm.summary(trace)  # Print summary statistics\n",
    "pm.traceplot(trace)  # Plot traces and posterior distributions\n",
    "pm.plot_posterior(trace)  # Plot posterior distributions\n",
    "\n",
    "# Additional steps can be taken to interpret and visualize the results further\n"
   ]
  },
  {
   "cell_type": "code",
   "execution_count": null,
   "id": "72b5829c",
   "metadata": {},
   "outputs": [],
   "source": [
    "import pandas as pd\n",
    "import pymc3 as pm\n",
    "\n",
    "# Step 1: Read CSV file and select relevant columns\n",
    "data = pd.read_csv('D:\\master_osint\\osint_switchblade\\poirotbot\\challenge1\\data\\SHR76_21.csv', usecols=['VicAge', 'OffAge', 'VicSex', 'OffSex'])\n",
    "data['VicSex'] = pd.to_numeric(data['VicSex'], errors='coerce')\n",
    "data['OffSex'] = pd.to_numeric(data['OffAge'], errors='coerce')\n",
    "# Step 2: Define the probabilistic model using PyMC3\n",
    "with pm.Model() as model:\n",
    "    # Define prior distributions for your model parameters\n",
    "    parameter1 = pm.Uniform('parameter1', lower=0, upper=1)\n",
    "    parameter2 = pm.Normal('parameter2', mu=0, sd=1)\n",
    "\n",
    "    # Define likelihood using the selected column from the CSV data\n",
    "    likelihood = pm.Normal('likelihood', mu=parameter1 * parameter2, sd=1, observed=data['VicSex'])\n",
    "\n",
    "    # Step 3: Perform MCMC sampling\n",
    "    trace = pm.sample(200, tune=200)\n",
    "\n",
    "# Step 4: Analyze the results of the MCMC sampling\n",
    "pm.summary(trace)  # Print summary statistics\n",
    "pm.traceplot(trace)  # Plot traces and posterior distributions\n",
    "pm.plot_posterior(trace)  # Plot posterior distributions\n"
   ]
  },
  {
   "cell_type": "code",
   "execution_count": null,
   "id": "47d9516c",
   "metadata": {},
   "outputs": [],
   "source": [
    "import pandas as pd\n",
    "import pymc3 as pm\n",
    "import matplotlib.pyplot as plt\n",
    "\n",
    "# Step 1: Read CSV file and select relevant columns\n",
    "data = pd.read_csv('D:\\master_osint\\osint_switchblade\\poirotbot\\challenge1\\data\\SHR76_21.csv', usecols=['VicAge', 'OffAge', 'VicSex', 'OffSex'])\n",
    "data['VicSex'] = pd.to_numeric(data['VicSex'], errors='coerce')\n",
    "data['OffSex'] = pd.to_numeric(data['OffAge'], errors='coerce')\n",
    "\n",
    "# Step 2: Define the probabilistic model using PyMC3\n",
    "with pm.Model() as model:\n",
    "    # Define prior distributions for your model parameters\n",
    "    parameter1 = pm.Uniform('parameter1', lower=0, upper=1)\n",
    "    parameter2 = pm.Normal('parameter2', mu=0, sd=1)\n",
    "\n",
    "    # Define likelihood using the selected column from the CSV data\n",
    "    likelihood = pm.Normal('likelihood', mu=parameter1 * parameter2, sd=1, observed=data['VicSex'])\n",
    "\n",
    "    # Step 3: Perform MCMC sampling\n",
    "    trace = pm.sample(200, tune=200, progressbar=True)  # Set progressbar=True for verbose output\n",
    "\n",
    "# Step 4: Analyze the results of the MCMC sampling\n",
    "pm.summary(trace)  # Print summary statistics\n",
    "\n",
    "# Plot traces and posterior distributions\n",
    "pm.traceplot(trace)\n",
    "plt.show()\n",
    "\n",
    "# Plot posterior distributions\n",
    "pm.plot_posterior(trace)\n",
    "plt.show()\n"
   ]
  },
  {
   "cell_type": "code",
   "execution_count": 1,
   "id": "8f14e69b",
   "metadata": {},
   "outputs": [
    {
     "name": "stdout",
     "output_type": "stream",
     "text": [
      "WARN: Could not locate executable g77\n",
      "WARN: Could not locate executable f77\n",
      "WARN: Could not locate executable ifort\n",
      "WARN: Could not locate executable ifl\n",
      "WARN: Could not locate executable f90\n",
      "WARN: Could not locate executable DF\n",
      "WARN: Could not locate executable efl\n",
      "WARN: Could not locate executable gfortran\n",
      "WARN: Could not locate executable f95\n",
      "WARN: Could not locate executable g95\n",
      "WARN: Could not locate executable efort\n",
      "WARN: Could not locate executable efc\n",
      "WARN: Could not locate executable flang\n",
      "WARN: don't know how to compile Fortran code on platform 'nt'\n"
     ]
    },
    {
     "name": "stderr",
     "output_type": "stream",
     "text": [
      "WARNING (theano.configdefaults): g++ not available, if using conda: `conda install m2w64-toolchain`\n",
      "WARNING (theano.configdefaults): g++ not detected ! Theano will be unable to execute optimized C-implementations (for both CPU and GPU) and will default to Python implementations. Performance will be severely degraded. To remove this warning, set Theano flags cxx to an empty string.\n",
      "WARNING (theano.tensor.blas): Using NumPy C-API based implementation for BLAS functions.\n",
      "D:\\Anaconda\\lib\\site-packages\\pymc3\\model.py:1755: ImputationWarning: Data in likelihood contains missing values and will be automatically imputed from the sampling distribution.\n",
      "  warnings.warn(impute_message, ImputationWarning)\n",
      "D:\\Anaconda\\lib\\site-packages\\deprecat\\classic.py:215: FutureWarning: In v4.0, pm.sample will return an `arviz.InferenceData` object instead of a `MultiTrace` by default. You can pass return_inferencedata=True or return_inferencedata=False to be safe and silence this warning.\n",
      "  return wrapped_(*args_, **kwargs_)\n",
      "Only 50 samples in chain.\n",
      "Sequential sampling (2 chains in 1 job)\n",
      "CompoundStep\n",
      ">Metropolis: [likelihood_missing]\n",
      ">Metropolis: [parameter2]\n",
      ">Metropolis: [parameter1]\n"
     ]
    },
    {
     "data": {
      "text/html": [
       "\n",
       "<style>\n",
       "    /* Turns off some styling */\n",
       "    progress {\n",
       "        /* gets rid of default border in Firefox and Opera. */\n",
       "        border: none;\n",
       "        /* Needs to be in here for Safari polyfill so background images work as expected. */\n",
       "        background-size: auto;\n",
       "    }\n",
       "    progress:not([value]), progress:not([value])::-webkit-progress-bar {\n",
       "        background: repeating-linear-gradient(45deg, #7e7e7e, #7e7e7e 10px, #5c5c5c 10px, #5c5c5c 20px);\n",
       "    }\n",
       "    .progress-bar-interrupted, .progress-bar-interrupted::-webkit-progress-bar {\n",
       "        background: #F44336;\n",
       "    }\n",
       "</style>\n"
      ],
      "text/plain": [
       "<IPython.core.display.HTML object>"
      ]
     },
     "metadata": {},
     "output_type": "display_data"
    },
    {
     "data": {
      "text/html": [
       "\n",
       "    <div>\n",
       "      <progress value='34' class='' max='100' style='width:300px; height:20px; vertical-align: middle;'></progress>\n",
       "      34.00% [34/100 19:50&lt;38:31 Sampling chain 0, 0 divergences]\n",
       "    </div>\n",
       "    "
      ],
      "text/plain": [
       "<IPython.core.display.HTML object>"
      ]
     },
     "metadata": {},
     "output_type": "display_data"
    },
    {
     "name": "stderr",
     "output_type": "stream",
     "text": [
      "Sampling 1 chain for 34 tune and 0 draw iterations (34 + 0 draws total) took 1215 seconds.\n",
      "D:\\Anaconda\\lib\\site-packages\\pymc3\\sampling.py:659: UserWarning: The number of samples is too small to check convergence reliably.\n",
      "  warnings.warn(\"The number of samples is too small to check convergence reliably.\")\n",
      "Got error No model on context stack. trying to find log_likelihood in translation.\n",
      "D:\\Anaconda\\lib\\site-packages\\arviz\\data\\io_pymc3_3x.py:98: FutureWarning: Using `from_pymc3` without the model will be deprecated in a future release. Not using the model will return less accurate and less useful results. Make sure you use the model argument or call from_pymc3 within a model context.\n",
      "  warnings.warn(\n"
     ]
    },
    {
     "ename": "ValueError",
     "evalue": "Can not extract posterior from <MultiTrace: 1 chains, 0 iterations, 4 variables>! See D:\\Anaconda\\lib\\site-packages\\arviz\\data\\converters.py for other conversion utilities.",
     "output_type": "error",
     "traceback": [
      "\u001b[1;31m---------------------------------------------------------------------------\u001b[0m",
      "\u001b[1;31mValueError\u001b[0m                                Traceback (most recent call last)",
      "Cell \u001b[1;32mIn[1], line 24\u001b[0m\n\u001b[0;32m     20\u001b[0m     trace \u001b[38;5;241m=\u001b[39m pm\u001b[38;5;241m.\u001b[39msample(\u001b[38;5;241m50\u001b[39m, tune\u001b[38;5;241m=\u001b[39m\u001b[38;5;241m50\u001b[39m, progressbar\u001b[38;5;241m=\u001b[39m\u001b[38;5;28;01mTrue\u001b[39;00m, cores\u001b[38;5;241m=\u001b[39m\u001b[38;5;241m1\u001b[39m, step\u001b[38;5;241m=\u001b[39mpm\u001b[38;5;241m.\u001b[39mMetropolis())\n\u001b[0;32m     23\u001b[0m \u001b[38;5;66;03m# Step 4: Analyze the results of the MCMC sampling\u001b[39;00m\n\u001b[1;32m---> 24\u001b[0m \u001b[43mpm\u001b[49m\u001b[38;5;241;43m.\u001b[39;49m\u001b[43msummary\u001b[49m\u001b[43m(\u001b[49m\u001b[43mtrace\u001b[49m\u001b[43m)\u001b[49m  \u001b[38;5;66;03m# Print summary statistics\u001b[39;00m\n\u001b[0;32m     26\u001b[0m \u001b[38;5;66;03m# Plot traces and posterior distributions\u001b[39;00m\n\u001b[0;32m     27\u001b[0m pm\u001b[38;5;241m.\u001b[39mtraceplot(trace)\n",
      "File \u001b[1;32mD:\\Anaconda\\lib\\site-packages\\arviz\\stats\\stats.py:1373\u001b[0m, in \u001b[0;36msummary\u001b[1;34m(data, var_names, filter_vars, group, fmt, kind, round_to, circ_var_names, stat_focus, stat_funcs, extend, hdi_prob, skipna, labeller, coords, index_origin, order)\u001b[0m\n\u001b[0;32m   1371\u001b[0m         dataset \u001b[38;5;241m=\u001b[39m data[group]\n\u001b[0;32m   1372\u001b[0m \u001b[38;5;28;01melse\u001b[39;00m:\n\u001b[1;32m-> 1373\u001b[0m     dataset \u001b[38;5;241m=\u001b[39m \u001b[43mconvert_to_dataset\u001b[49m\u001b[43m(\u001b[49m\u001b[43mdata\u001b[49m\u001b[43m,\u001b[49m\u001b[43m \u001b[49m\u001b[43mgroup\u001b[49m\u001b[38;5;241;43m=\u001b[39;49m\u001b[38;5;124;43m\"\u001b[39;49m\u001b[38;5;124;43mposterior\u001b[39;49m\u001b[38;5;124;43m\"\u001b[39;49m\u001b[43m)\u001b[49m\n\u001b[0;32m   1374\u001b[0m var_names \u001b[38;5;241m=\u001b[39m _var_names(var_names, dataset, filter_vars)\n\u001b[0;32m   1375\u001b[0m dataset \u001b[38;5;241m=\u001b[39m dataset \u001b[38;5;28;01mif\u001b[39;00m var_names \u001b[38;5;129;01mis\u001b[39;00m \u001b[38;5;28;01mNone\u001b[39;00m \u001b[38;5;28;01melse\u001b[39;00m dataset[var_names]\n",
      "File \u001b[1;32mD:\\Anaconda\\lib\\site-packages\\arviz\\data\\converters.py:182\u001b[0m, in \u001b[0;36mconvert_to_dataset\u001b[1;34m(obj, group, coords, dims)\u001b[0m\n\u001b[0;32m    180\u001b[0m dataset \u001b[38;5;241m=\u001b[39m \u001b[38;5;28mgetattr\u001b[39m(inference_data, group, \u001b[38;5;28;01mNone\u001b[39;00m)\n\u001b[0;32m    181\u001b[0m \u001b[38;5;28;01mif\u001b[39;00m dataset \u001b[38;5;129;01mis\u001b[39;00m \u001b[38;5;28;01mNone\u001b[39;00m:\n\u001b[1;32m--> 182\u001b[0m     \u001b[38;5;28;01mraise\u001b[39;00m \u001b[38;5;167;01mValueError\u001b[39;00m(\n\u001b[0;32m    183\u001b[0m         \u001b[38;5;124m\"\u001b[39m\u001b[38;5;124mCan not extract \u001b[39m\u001b[38;5;132;01m{group}\u001b[39;00m\u001b[38;5;124m from \u001b[39m\u001b[38;5;132;01m{obj}\u001b[39;00m\u001b[38;5;124m! See \u001b[39m\u001b[38;5;132;01m{filename}\u001b[39;00m\u001b[38;5;124m for other \u001b[39m\u001b[38;5;124m\"\u001b[39m\n\u001b[0;32m    184\u001b[0m         \u001b[38;5;124m\"\u001b[39m\u001b[38;5;124mconversion utilities.\u001b[39m\u001b[38;5;124m\"\u001b[39m\u001b[38;5;241m.\u001b[39mformat(group\u001b[38;5;241m=\u001b[39mgroup, obj\u001b[38;5;241m=\u001b[39mobj, filename\u001b[38;5;241m=\u001b[39m\u001b[38;5;18m__file__\u001b[39m)\n\u001b[0;32m    185\u001b[0m     )\n\u001b[0;32m    186\u001b[0m \u001b[38;5;28;01mreturn\u001b[39;00m dataset\n",
      "\u001b[1;31mValueError\u001b[0m: Can not extract posterior from <MultiTrace: 1 chains, 0 iterations, 4 variables>! See D:\\Anaconda\\lib\\site-packages\\arviz\\data\\converters.py for other conversion utilities."
     ]
    }
   ],
   "source": [
    "import pandas as pd\n",
    "import pymc3 as pm\n",
    "import matplotlib.pyplot as plt\n",
    "\n",
    "# Step 1: Read CSV file and select relevant columns\n",
    "data = pd.read_csv('D:\\master_osint\\osint_switchblade\\poirotbot\\challenge1\\data\\SHR76_21.csv', usecols=['VicAge', 'OffAge', 'VicSex', 'OffSex'])\n",
    "data['VicSex'] = pd.to_numeric(data['VicSex'], errors='coerce')\n",
    "data['OffSex'] = pd.to_numeric(data['OffAge'], errors='coerce')\n",
    "\n",
    "# Step 2: Define the probabilistic model using PyMC3\n",
    "with pm.Model() as model:\n",
    "    # Define prior distributions for your model parameters\n",
    "    parameter1 = pm.Uniform('parameter1', lower=0, upper=1)\n",
    "    parameter2 = pm.Normal('parameter2', mu=0, sd=1)\n",
    "\n",
    "    # Define likelihood using the selected column from the CSV data\n",
    "    likelihood = pm.Normal('likelihood', mu=parameter1 * parameter2, sd=1, observed=data['VicSex'])\n",
    "\n",
    "    # Step 3: Perform MCMC sampling\n",
    "    trace = pm.sample(1, tune=1, progressbar=True, cores=1, step=pm.Metropolis())\n",
    "\n",
    "\n",
    "# Step 4: Analyze the results of the MCMC sampling\n",
    "pm.summary(trace)  # Print summary statistics\n",
    "\n",
    "# Plot traces and posterior distributions\n",
    "pm.traceplot(trace)\n",
    "plt.show()\n",
    "\n",
    "# Plot posterior distributions\n",
    "pm.plot_posterior(trace)\n",
    "plt.show()\n"
   ]
  },
  {
   "cell_type": "code",
   "execution_count": null,
   "id": "3699aa2b",
   "metadata": {},
   "outputs": [],
   "source": []
  }
 ],
 "metadata": {
  "kernelspec": {
   "display_name": "Python 3 (ipykernel)",
   "language": "python",
   "name": "python3"
  },
  "language_info": {
   "codemirror_mode": {
    "name": "ipython",
    "version": 3
   },
   "file_extension": ".py",
   "mimetype": "text/x-python",
   "name": "python",
   "nbconvert_exporter": "python",
   "pygments_lexer": "ipython3",
   "version": "3.10.9"
  }
 },
 "nbformat": 4,
 "nbformat_minor": 5
}
