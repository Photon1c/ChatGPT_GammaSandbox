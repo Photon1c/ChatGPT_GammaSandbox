{
 "cells": [
  {
   "cell_type": "code",
   "execution_count": 1,
   "id": "adb1dafd",
   "metadata": {},
   "outputs": [
    {
     "ename": "NameError",
     "evalue": "name 'X_val' is not defined",
     "output_type": "error",
     "traceback": [
      "\u001b[1;31m---------------------------------------------------------------------------\u001b[0m",
      "\u001b[1;31mNameError\u001b[0m                                 Traceback (most recent call last)",
      "Cell \u001b[1;32mIn[1], line 48\u001b[0m\n\u001b[0;32m     46\u001b[0m \u001b[38;5;66;03m# Step 5: Adjust the model as needed\u001b[39;00m\n\u001b[0;32m     47\u001b[0m model \u001b[38;5;241m=\u001b[39m build_model()\n\u001b[1;32m---> 48\u001b[0m model, history \u001b[38;5;241m=\u001b[39m train_model(model, X_train, y_train, \u001b[43mX_val\u001b[49m, y_val)\n\u001b[0;32m     49\u001b[0m metrics \u001b[38;5;241m=\u001b[39m evaluate_model(model, X_test, y_test)\n\u001b[0;32m     51\u001b[0m \u001b[38;5;66;03m# Step 6: Deploy the model\u001b[39;00m\n",
      "\u001b[1;31mNameError\u001b[0m: name 'X_val' is not defined"
     ]
    }
   ],
   "source": [
    "#We explore how a natural system can explain crime rates using a balloon analogy. The \"bursting\" of the balloon occurs\n",
    "#when it is inflated and deflated beyond the threhold value.\n",
    "import numpy as np\n",
    "import pandas as pd\n",
    "from sklearn.model_selection import train_test_split\n",
    "from sklearn.preprocessing import StandardScaler\n",
    "from tensorflow.keras.models import Sequential\n",
    "from tensorflow.keras.layers import Dense\n",
    "from tensorflow.keras.optimizers import Adam\n",
    "\n",
    "# Step 1: Collect and preprocess data\n",
    "data = pd.read_csv('crime_data.csv')\n",
    "X = data.drop('crime_rate', axis=1)\n",
    "y = data['crime_rate']\n",
    "scaler = StandardScaler()\n",
    "X = scaler.fit_transform(X)\n",
    "X_train, X_test, y_train, y_test = train_test_split(X, y, test_size=0.2, random_state=42)\n",
    "\n",
    "# Step 2: Define the neural network architecture\n",
    "def build_model():\n",
    "    model = Sequential()\n",
    "    model.add(Dense(32, input_shape=(X_train.shape[1],), activation='relu'))\n",
    "    model.add(Dense(16, activation='relu'))\n",
    "    model.add(Dense(1, activation='linear'))\n",
    "    return model\n",
    "\n",
    "# Step 3: Train the neural network\n",
    "def train_neural_network(X_train, y_train, X_val, y_val, num_epochs=100, batch_size=32, learning_rate=0.01):\n",
    "    # Define the neural network architecture\n",
    "    model = Sequential()\n",
    "    model.add(Dense(16, input_dim=X_train.shape[1], activation='relu'))\n",
    "    model.add(Dense(1, activation='sigmoid'))\n",
    "\n",
    "    # Compile the model\n",
    "    optimizer = Adam(lr=learning_rate)\n",
    "    model.compile(loss='binary_crossentropy', optimizer=optimizer, metrics=['accuracy'])\n",
    "\n",
    "    # Train the model\n",
    "    history = model.fit(X_train, y_train, validation_data=(X_val, y_val), epochs=num_epochs, batch_size=batch_size, verbose=0)\n",
    "\n",
    "    return model, history\n",
    "\n",
    "\n",
    "# Step 4: Evaluate the performance of the model\n",
    "def evaluate_model(model, X_test, y_test):\n",
    "    loss = model.evaluate(X_test, y_test)\n",
    "    y_pred = model.predict(X_test)\n",
    "    metrics = {\n",
    "        'loss': loss,\n",
    "        'mae': np.mean(np.abs(y_pred - y_test)),\n",
    "        'mse': np.mean((y_pred - y_test) ** 2),\n",
    "        'rmse': np.sqrt(np.mean((y_pred - y_test) ** 2)),\n",
    "        'r2': 1 - np.sum((y_test - y_pred) ** 2) / np.sum((y_test - np.mean(y_test)) ** 2)\n",
    "    }\n",
    "    return metrics\n",
    "\n",
    "# Step 5: Adjust the model as needed\n",
    "model = build_model()\n",
    "model, history = train_model(model, X_train, y_train, X_val, y_val)\n",
    "metrics = evaluate_model(model, X_test, y_test)\n",
    "\n",
    "# Step 6: Deploy the model\n",
    "new_data = pd.read_csv('balloon_crime.csv')\n",
    "new_X = scaler.transform(new_data)\n",
    "new_y_pred = model.predict(new_X)\n"
   ]
  },
  {
   "cell_type": "code",
   "execution_count": null,
   "id": "421ec465",
   "metadata": {},
   "outputs": [],
   "source": []
  }
 ],
 "metadata": {
  "kernelspec": {
   "display_name": "Python 3 (ipykernel)",
   "language": "python",
   "name": "python3"
  },
  "language_info": {
   "codemirror_mode": {
    "name": "ipython",
    "version": 3
   },
   "file_extension": ".py",
   "mimetype": "text/x-python",
   "name": "python",
   "nbconvert_exporter": "python",
   "pygments_lexer": "ipython3",
   "version": "3.10.9"
  }
 },
 "nbformat": 4,
 "nbformat_minor": 5
}
