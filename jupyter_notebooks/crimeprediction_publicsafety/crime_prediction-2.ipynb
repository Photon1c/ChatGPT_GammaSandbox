{
 "cells": [
  {
   "cell_type": "code",
   "execution_count": 1,
   "id": "83aa2f57",
   "metadata": {},
   "outputs": [
    {
     "name": "stdout",
     "output_type": "stream",
     "text": [
      "Predicted crime rate: 6.61 per 1000 residents\n"
     ]
    }
   ],
   "source": [
    "import tensorflow as tf\n",
    "import pandas as pd\n",
    "import h5py\n",
    "\n",
    "class CrimePredictor:\n",
    "    class PositiveNumber:\n",
    "        def __init__(self, value):\n",
    "            self._value = value\n",
    "        \n",
    "        def __get__(self, instance, owner):\n",
    "            return self._value\n",
    "        \n",
    "        def __set__(self, instance, value):\n",
    "            if value < 0:\n",
    "                raise ValueError(\"Value must be positive\")\n",
    "            self._value = value\n",
    "\n",
    "    def __init__(self):\n",
    "        # Load the pre-trained neural network model\n",
    "        with h5py.File('crime_model.h5', 'r') as f:\n",
    "            self.model = tf.keras.models.load_model(f)\n",
    "        \n",
    "        # Define descriptors for each input feature\n",
    "        self.population = self.PositiveNumber(0)\n",
    "        self.median_income = self.PositiveNumber(0)\n",
    "        self.median_age = self.PositiveNumber(0)\n",
    "        self.housing_density = self.PositiveNumber(0)\n",
    "    \n",
    "    def predict_crime_rate(self, population, median_income, median_age, housing_density):\n",
    "        # Create a DataFrame with the input features\n",
    "        input_data = pd.DataFrame({\n",
    "            'population': [population],\n",
    "            'median_income': [median_income],\n",
    "            'median_age': [median_age],\n",
    "            'housing_density': [housing_density]\n",
    "        })\n",
    "        \n",
    "        # Normalize the input data\n",
    "        normalized_data = (input_data - self.mean) / self.std\n",
    "        \n",
    "        # Use the neural network model to make a prediction\n",
    "        prediction = self.model.predict(normalized_data)[0][0]\n",
    "        \n",
    "        return prediction\n",
    "    \n",
    "    @property\n",
    "    def mean(self):\n",
    "        return pd.Series({\n",
    "            'population': 10000,\n",
    "            'median_income': 50000,\n",
    "            'median_age': 40,\n",
    "            'housing_density': 1000\n",
    "        })\n",
    "    \n",
    "    @property\n",
    "    def std(self):\n",
    "        return pd.Series({\n",
    "            'population': 5000,\n",
    "            'median_income': 10000,\n",
    "            'median_age': 10,\n",
    "            'housing_density': 500\n",
    "        })\n",
    "\n",
    "# Create an instance of the CrimePredictor class\n",
    "predictor = CrimePredictor()\n",
    "\n",
    "# Make a prediction for a hypothetical city\n",
    "population = 100000\n",
    "median_income = 36811\n",
    "median_age = 36.2\n",
    "housing_density = 4689\n",
    "crime_rate = predictor.predict_crime_rate(population, median_income, median_age, housing_density)\n",
    "\n",
    "print(f\"Predicted crime rate: {crime_rate:.2f} per 1000 residents\")\n"
   ]
  },
  {
   "cell_type": "code",
   "execution_count": 6,
   "id": "bdc8565c",
   "metadata": {},
   "outputs": [],
   "source": [
    "import pandas as pd\n",
    "\n",
    "# Load the training data from the CSV file into a pandas DataFrame\n",
    "data = pd.read_csv('crime_data.csv')\n",
    "\n",
    "# Compute the mean and standard deviation of the housing_density feature\n",
    "housing_density_mean = data['housing_density'].mean()\n",
    "housing_density_std = data['housing_density'].std()\n"
   ]
  },
  {
   "cell_type": "code",
   "execution_count": 7,
   "id": "85d3dfc2",
   "metadata": {},
   "outputs": [
    {
     "name": "stdout",
     "output_type": "stream",
     "text": [
      "180.0 54.772255750516614\n"
     ]
    }
   ],
   "source": [
    "print(housing_density_mean, housing_density_std)"
   ]
  },
  {
   "cell_type": "code",
   "execution_count": null,
   "id": "8e70a7e6",
   "metadata": {},
   "outputs": [],
   "source": []
  }
 ],
 "metadata": {
  "kernelspec": {
   "display_name": "Python 3",
   "language": "python",
   "name": "python3"
  },
  "language_info": {
   "codemirror_mode": {
    "name": "ipython",
    "version": 3
   },
   "file_extension": ".py",
   "mimetype": "text/x-python",
   "name": "python",
   "nbconvert_exporter": "python",
   "pygments_lexer": "ipython3",
   "version": "3.8.8"
  }
 },
 "nbformat": 4,
 "nbformat_minor": 5
}
