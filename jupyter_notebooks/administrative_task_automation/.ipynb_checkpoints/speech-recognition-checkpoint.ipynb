{
 "cells": [
  {
   "cell_type": "code",
   "execution_count": null,
   "metadata": {},
   "outputs": [],
   "source": [
    "import speech_recognition as sr\n",
    "import pyttsx3\n",
    "\n",
    "# initialize the speech recognition engine and text-to-speech engine\n",
    "r = sr.Recognizer()\n",
    "engine = pyttsx3.init()\n",
    "\n",
    "# define a function to convert speech to text\n",
    "def recognize_speech():\n",
    "    with sr.Microphone() as source:\n",
    "        print(\"Say something!\")\n",
    "        audio = r.listen(source)\n",
    "        try:\n",
    "            text = r.recognize_google(audio)\n",
    "            print(\"You said: {}\".format(text))\n",
    "            return text\n",
    "        except sr.UnknownValueError:\n",
    "            print(\"Sorry, could not understand what you said.\")\n",
    "        except sr.RequestError as e:\n",
    "            print(\"Could not request results from Google Speech Recognition service; {0}\".format(e))\n",
    "\n",
    "# define a function to convert text to speech\n",
    "def speak_text(text):\n",
    "    engine.say(text)\n",
    "    engine.runAndWait()\n",
    "\n",
    "# use the functions in a loop\n",
    "while True:\n",
    "    text = recognize_speech()\n",
    "    if text:\n",
    "        speak_text(\"You said: {}\".format(text))\n"
   ]
  },
  {
   "cell_type": "code",
   "execution_count": null,
   "metadata": {},
   "outputs": [
    {
     "name": "stdout",
     "output_type": "stream",
     "text": [
      "Say something!\n",
      "I see, essentially what you said wasthis is a test\n",
      "Say something!\n",
      "Sorry, could not understand what you said.\n",
      "Say something!\n"
     ]
    }
   ],
   "source": [
    "#wokebot: repeats what was said by user, but in a different way\n",
    "#in honor of it's always sunny in philadelphia\n",
    "import speech_recognition as sr\n",
    "import pyttsx3\n",
    "\n",
    "# initialize the speech recognition engine and text-to-speech engine\n",
    "r = sr.Recognizer()\n",
    "engine = pyttsx3.init()\n",
    "\n",
    "# define a function to convert speech to text\n",
    "def recognize_speech():\n",
    "    with sr.Microphone() as source:\n",
    "        print(\"Say something!\")\n",
    "        audio = r.listen(source)\n",
    "        try:\n",
    "            text = r.recognize_google(audio)\n",
    "            print(\"I see, essentially what you said was: {}\".format(text))\n",
    "            return text\n",
    "        except sr.UnknownValueError:\n",
    "            print(\"Sorry, could not understand what you said.\")\n",
    "        except sr.RequestError as e:\n",
    "            print(\"Could not request results from Google Speech Recognition service; {0}\".format(e))\n",
    "\n",
    "# define a function to convert text to speech\n",
    "def speak_text(text):\n",
    "    engine.say(text)\n",
    "    engine.runAndWait()\n",
    "\n",
    "# use the functions in a loop\n",
    "while True:\n",
    "    text = recognize_speech()\n",
    "    if text:\n",
    "        speak_text(\"You said: {}\".format(text))\n"
   ]
  },
  {
   "cell_type": "code",
   "execution_count": null,
   "metadata": {},
   "outputs": [],
   "source": []
  },
  {
   "cell_type": "code",
   "execution_count": null,
   "metadata": {},
   "outputs": [],
   "source": []
  }
 ],
 "metadata": {
  "kernelspec": {
   "display_name": "Python 3 (ipykernel)",
   "language": "python",
   "name": "python3"
  },
  "language_info": {
   "codemirror_mode": {
    "name": "ipython",
    "version": 3
   },
   "file_extension": ".py",
   "mimetype": "text/x-python",
   "name": "python",
   "nbconvert_exporter": "python",
   "pygments_lexer": "ipython3",
   "version": "3.10.9"
  }
 },
 "nbformat": 4,
 "nbformat_minor": 4
}
