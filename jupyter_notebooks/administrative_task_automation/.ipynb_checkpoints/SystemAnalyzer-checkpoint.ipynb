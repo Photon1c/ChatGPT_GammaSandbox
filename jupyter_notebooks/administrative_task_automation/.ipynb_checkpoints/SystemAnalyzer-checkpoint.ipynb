{
 "cells": [
  {
   "cell_type": "code",
   "execution_count": 2,
   "id": "16e1fbbd",
   "metadata": {},
   "outputs": [
    {
     "name": "stdout",
     "output_type": "stream",
     "text": [
      "D:\\mainline\\machinelearning\\ChatGPT_ThetaSandbox\\jupyter_notebooks\\administrative_task_automation\\SystemAnalyzer.ipynb\n",
      "D:\\mainline\\machinelearning\\ChatGPT_ThetaSandbox\\jupyter_notebooks\\administrative_task_automation\\.ipynb_checkpoints\\SystemAnalyzer-checkpoint.ipynb\n",
      "D:\\mainline\\machinelearning\\Exercises\\GoogleMapsTesting.ipynb\n",
      "D:\\mainline\\machinelearning\\Exercises\\.ipynb_checkpoints\\GoogleMapsTesting-checkpoint.ipynb\n",
      "D:\\mainline\\machinelearning\\AutoGPTGUI\\build\\index.js\n",
      "D:\\mainline\\machinelearning\\AutoGPTGUI\\build\\index.js.map\n",
      "D:\\mainline\\machinelearning\\Auto-GPT\\autogpt\\speech\\__pycache__\\macos_tts.cpython-38.pyc\n",
      "D:\\mainline\\machinelearning\\Auto-GPT\\autogpt\\speech\\__pycache__\\gtts.cpython-38.pyc\n",
      "D:\\mainline\\machinelearning\\Auto-GPT\\autogpt\\speech\\__pycache__\\eleven_labs.cpython-38.pyc\n",
      "D:\\mainline\\machinelearning\\Auto-GPT\\autogpt\\speech\\__pycache__\\brian.cpython-38.pyc\n",
      "D:\\mainline\\machinelearning\\Auto-GPT\\autogpt\\speech\\__pycache__\\base.cpython-38.pyc\n",
      "D:\\mainline\\machinelearning\\Auto-GPT\\autogpt\\speech\\__pycache__\\say.cpython-38.pyc\n",
      "D:\\mainline\\machinelearning\\Auto-GPT\\autogpt\\speech\\__pycache__\\__init__.cpython-38.pyc\n",
      "D:\\mainline\\machinelearning\\Auto-GPT\\autogpt\\log_cycle\\__pycache__\\json_handler.cpython-38.pyc\n",
      "D:\\mainline\\machinelearning\\Auto-GPT\\autogpt\\log_cycle\\__pycache__\\__init__.cpython-38.pyc\n",
      "D:\\mainline\\machinelearning\\Auto-GPT\\autogpt\\__pycache__\\logs.cpython-38.pyc\n",
      "D:\\mainline\\machinelearning\\Auto-GPT\\autogpt\\llm\\__pycache__\\modelsinfo.cpython-38.pyc\n",
      "D:\\mainline\\machinelearning\\Auto-GPT\\autogpt\\llm\\__pycache__\\api_manager.cpython-38.pyc\n",
      "D:\\mainline\\machinelearning\\Auto-GPT\\autogpt\\llm\\__pycache__\\chat.cpython-38.pyc\n",
      "D:\\mainline\\machinelearning\\Auto-GPT\\autogpt\\llm\\__pycache__\\base.cpython-38.pyc\n",
      "D:\\mainline\\machinelearning\\Auto-GPT\\autogpt\\llm\\__pycache__\\__init__.cpython-38.pyc\n",
      "D:\\mainline\\machinelearning\\Auto-GPT\\autogpt\\__pycache__\\singleton.cpython-38.pyc\n",
      "D:\\mainline\\machinelearning\\Auto-GPT\\autogpt\\config\\__pycache__\\config.cpython-38.pyc\n",
      "D:\\mainline\\machinelearning\\Auto-GPT\\autogpt\\config\\__pycache__\\ai_config.cpython-38.pyc\n",
      "D:\\mainline\\machinelearning\\Auto-GPT\\autogpt\\config\\__pycache__\\__init__.cpython-38.pyc\n"
     ]
    }
   ],
   "source": [
    "import os\n",
    "import glob\n",
    "import heapq\n",
    "\n",
    "def get_recent_files(directory, count):\n",
    "    file_list = []\n",
    "    for root, dirs, files in os.walk(directory):\n",
    "        for file in files:\n",
    "            file_path = os.path.join(root, file)\n",
    "            try:\n",
    "                file_list.append((os.path.getmtime(file_path), file_path))\n",
    "            except OSError:\n",
    "                print(f\"Error accessing file: {file_path}\")\n",
    "    \n",
    "    recent_files = heapq.nlargest(count, file_list)\n",
    "    return recent_files\n",
    "\n",
    "# Provide the directory path and the desired count of recent files\n",
    "directory_path = 'D:\\mainline\\machinelearning\\Auto-GPT\\autogpt'\n",
    "count = 25\n",
    "\n",
    "# Get the recent files\n",
    "recent_files = get_recent_files(directory_path, count)\n",
    "\n",
    "# Print the recent files\n",
    "for file in recent_files:\n",
    "    print(file[1])  # Print the file path\n"
   ]
  },
  {
   "cell_type": "code",
   "execution_count": null,
   "id": "2dbbc55a",
   "metadata": {},
   "outputs": [],
   "source": []
  }
 ],
 "metadata": {
  "kernelspec": {
   "display_name": "Python 3 (ipykernel)",
   "language": "python",
   "name": "python3"
  },
  "language_info": {
   "codemirror_mode": {
    "name": "ipython",
    "version": 3
   },
   "file_extension": ".py",
   "mimetype": "text/x-python",
   "name": "python",
   "nbconvert_exporter": "python",
   "pygments_lexer": "ipython3",
   "version": "3.10.9"
  }
 },
 "nbformat": 4,
 "nbformat_minor": 5
}
