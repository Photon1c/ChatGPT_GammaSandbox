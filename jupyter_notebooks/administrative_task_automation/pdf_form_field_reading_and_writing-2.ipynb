{
 "cells": [
  {
   "cell_type": "code",
   "execution_count": 22,
   "metadata": {},
   "outputs": [
    {
     "name": "stdout",
     "output_type": "stream",
     "text": [
      "D:20190301144942-08'00'\n"
     ]
    }
   ],
   "source": [
    "import PyPDF2\n",
    "import datetime as dt\n",
    "\n",
    "# Open PDF file\n",
    "pdf_file = open('closingdispo.pdf', 'rb')\n",
    "\n",
    "# Create PDF reader object\n",
    "pdf_reader = PyPDF2.PdfReader(pdf_file)\n",
    "\n",
    "# Get form fields\n",
    "form_fields = pdf_reader.get_fields()\n",
    "\n",
    "# Print form fields\n",
    "#for field in form_fields:\n",
    "   #print(field)\n",
    "\n",
    "\n",
    "get_doc_info = pdf_reader.metadata   \n",
    "\n",
    "#print(get_doc_info)\n",
    "\n",
    "new_date = get_doc_info['/CreationDate']\n",
    "\n",
    "#new_date_formatted = dt.datetime(new_date)\n",
    "\n",
    "print(new_date)\n"
   ]
  },
  {
   "cell_type": "code",
   "execution_count": 4,
   "metadata": {},
   "outputs": [
    {
     "ename": "FileNotFoundError",
     "evalue": "[Errno 2] No such file or directory: 'data.csv'",
     "output_type": "error",
     "traceback": [
      "\u001b[1;31m---------------------------------------------------------------------------\u001b[0m",
      "\u001b[1;31mFileNotFoundError\u001b[0m                         Traceback (most recent call last)",
      "\u001b[1;32m<ipython-input-4-d2073386f2df>\u001b[0m in \u001b[0;36m<module>\u001b[1;34m\u001b[0m\n\u001b[0;32m     19\u001b[0m \u001b[1;33m\u001b[0m\u001b[0m\n\u001b[0;32m     20\u001b[0m     \u001b[1;31m# Open the CSV file\u001b[0m\u001b[1;33m\u001b[0m\u001b[1;33m\u001b[0m\u001b[1;33m\u001b[0m\u001b[0m\n\u001b[1;32m---> 21\u001b[1;33m     \u001b[1;32mwith\u001b[0m \u001b[0mopen\u001b[0m\u001b[1;33m(\u001b[0m\u001b[0mcsv_path\u001b[0m\u001b[1;33m,\u001b[0m \u001b[1;34m'r'\u001b[0m\u001b[1;33m)\u001b[0m \u001b[1;32mas\u001b[0m \u001b[0mcsv_file\u001b[0m\u001b[1;33m:\u001b[0m\u001b[1;33m\u001b[0m\u001b[1;33m\u001b[0m\u001b[0m\n\u001b[0m\u001b[0;32m     22\u001b[0m         \u001b[1;31m# Create a CSV reader object\u001b[0m\u001b[1;33m\u001b[0m\u001b[1;33m\u001b[0m\u001b[1;33m\u001b[0m\u001b[0m\n\u001b[0;32m     23\u001b[0m         \u001b[0mcsv_reader\u001b[0m \u001b[1;33m=\u001b[0m \u001b[0mcsv\u001b[0m\u001b[1;33m.\u001b[0m\u001b[0mDictReader\u001b[0m\u001b[1;33m(\u001b[0m\u001b[0mcsv_file\u001b[0m\u001b[1;33m)\u001b[0m\u001b[1;33m\u001b[0m\u001b[1;33m\u001b[0m\u001b[0m\n",
      "\u001b[1;31mFileNotFoundError\u001b[0m: [Errno 2] No such file or directory: 'data.csv'"
     ]
    }
   ],
   "source": [
    "import csv\n",
    "import os\n",
    "import PyPDF2\n",
    "\n",
    "# Set the paths for the input PDF and the CSV file\n",
    "pdf_path = 'closingdispo.pdf'\n",
    "csv_path = 'data.csv'\n",
    "\n",
    "# Open the PDF file\n",
    "with open(pdf_path, 'rb') as pdf_file:\n",
    "    # Create a PDF reader object\n",
    "    pdf_reader = PyPDF2.PdfReader(pdf_file)\n",
    "\n",
    "    # Get the first page of the PDF\n",
    "    pdf_page = pdf_reader.pages[0]\n",
    "\n",
    "    # Get the form fields\n",
    "    pdf_form = pdf_reader.get_fields()\n",
    "\n",
    "    # Open the CSV file\n",
    "    with open(csv_path, 'r') as csv_file:\n",
    "        # Create a CSV reader object\n",
    "        csv_reader = csv.DictReader(csv_file)\n",
    "\n",
    "        # Loop through each row in the CSV file\n",
    "        for row in csv_reader:\n",
    "            # Loop through each field in the form\n",
    "            for field in pdf_form:\n",
    "                # If the field name matches a column header in the CSV file, fill in the value\n",
    "                if field in row:\n",
    "                    pdf_form[field].update({NameObject('/V'): str(row[field])})\n",
    "\n",
    "    # Write the filled-out form to a new PDF file\n",
    "    with open('closingdispo_filledout.pdf', 'wb') as output_file:\n",
    "        pdf_writer = PyPDF2.PdfWriter()\n",
    "        pdf_writer.add_page(pdf_page)\n",
    "        pdf_writer.write(output_file)\n"
   ]
  },
  {
   "cell_type": "code",
   "execution_count": 3,
   "metadata": {},
   "outputs": [
    {
     "name": "stdout",
     "output_type": "stream",
     "text": [
      "Collecting PyPDF2\n",
      "  Downloading pypdf2-3.0.1-py3-none-any.whl (232 kB)\n",
      "Collecting typing_extensions>=3.10.0.0; python_version < \"3.10\"\n",
      "  Downloading typing_extensions-4.5.0-py3-none-any.whl (27 kB)\n",
      "Installing collected packages: typing-extensions, PyPDF2\n",
      "  Attempting uninstall: typing-extensions\n",
      "    Found existing installation: typing-extensions 3.7.4.3\n",
      "    Uninstalling typing-extensions-3.7.4.3:\n",
      "      Successfully uninstalled typing-extensions-3.7.4.3\n",
      "Successfully installed PyPDF2-3.0.1 typing-extensions-4.5.0\n",
      "Note: you may need to restart the kernel to use updated packages.\n"
     ]
    }
   ],
   "source": [
    "pip install PyPDF2"
   ]
  },
  {
   "cell_type": "code",
   "execution_count": null,
   "metadata": {},
   "outputs": [],
   "source": []
  }
 ],
 "metadata": {
  "kernelspec": {
   "display_name": "Python 3",
   "language": "python",
   "name": "python3"
  },
  "language_info": {
   "codemirror_mode": {
    "name": "ipython",
    "version": 3
   },
   "file_extension": ".py",
   "mimetype": "text/x-python",
   "name": "python",
   "nbconvert_exporter": "python",
   "pygments_lexer": "ipython3",
   "version": "3.8.5"
  }
 },
 "nbformat": 4,
 "nbformat_minor": 5
}
