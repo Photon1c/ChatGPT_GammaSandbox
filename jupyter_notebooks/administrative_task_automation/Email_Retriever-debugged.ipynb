{
 "cells": [
  {
   "cell_type": "code",
   "execution_count": 3,
   "metadata": {},
   "outputs": [],
   "source": [
    "import win32com.client as win32\n",
    "\n",
    "outlook = win32.Dispatch('Outlook.Application')\n",
    "folder = outlook.GetNamespace('MAPI').GetDefaultFolder(3)\n",
    "messages = folder.Items\n",
    "\n",
    "# create a new Excel workbook and add a worksheet\n",
    "excel = win32.Dispatch('Excel.Application')\n",
    "workbook = excel.Workbooks.Add()\n",
    "worksheet = workbook.Worksheets.Add()\n",
    "\n",
    "# write headers to the worksheet\n",
    "worksheet.Cells(1,1).Value = 'Subject'\n",
    "worksheet.Cells(1,2).Value = 'Sender'\n",
    "worksheet.Cells(1,3).Value = 'Received Time'\n",
    "\n",
    "row = 2  # start writing data from row 2\n",
    "\n",
    "for message in messages:\n",
    "    try:\n",
    "        subject = message.Subject\n",
    "        sender = message.SenderName\n",
    "        received_time = message.ReceivedTime\n",
    "        \n",
    "        worksheet.Cells(row,1).Value = subject\n",
    "        worksheet.Cells(row,2).Value = sender\n",
    "        worksheet.Cells(row,3).Value = received_time\n",
    "        \n",
    "        row += 1  # move to the next row\n",
    "    except AttributeError:\n",
    "        print(f'Error: Could not retrieve data for email with subject \"{message.Subject}\"')\n",
    "        continue\n",
    "\n",
    "# save and close the workbook\n",
    "workbook.SaveAs(r'H:\\projects\\scripts\\gptscripts\\email_data.xlsx')\n",
    "workbook.Close()\n",
    "\n",
    "# quit the Excel and Outlook applications\n",
    "excel.Quit()\n",
    "outlook.Quit()\n"
   ]
  },
  {
   "cell_type": "code",
   "execution_count": null,
   "metadata": {},
   "outputs": [],
   "source": []
  }
 ],
 "metadata": {
  "kernelspec": {
   "display_name": "Python 3",
   "language": "python",
   "name": "python3"
  },
  "language_info": {
   "codemirror_mode": {
    "name": "ipython",
    "version": 3
   },
   "file_extension": ".py",
   "mimetype": "text/x-python",
   "name": "python",
   "nbconvert_exporter": "python",
   "pygments_lexer": "ipython3",
   "version": "3.8.5"
  }
 },
 "nbformat": 4,
 "nbformat_minor": 4
}
