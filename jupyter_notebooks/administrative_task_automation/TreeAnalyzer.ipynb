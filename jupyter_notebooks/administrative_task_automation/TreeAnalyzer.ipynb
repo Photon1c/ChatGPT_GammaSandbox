{
 "cells": [
  {
   "cell_type": "code",
   "execution_count": null,
   "id": "0d3aa876",
   "metadata": {},
   "outputs": [],
   "source": [
    "#Lists out tree structure for a directory\n",
    "import os\n",
    "\n",
    "def generate_tree_structure(path, indent=''):\n",
    "    try:\n",
    "        items = os.listdir(path)\n",
    "    except OSError:\n",
    "        return\n",
    "\n",
    "    for item in sorted(items):\n",
    "        item_path = os.path.join(path, item)\n",
    "        if os.path.isdir(item_path):\n",
    "            print(indent + f'[{item}]')\n",
    "            generate_tree_structure(item_path, indent + '    ')\n",
    "        else:\n",
    "            print(indent + item)\n",
    "\n",
    "if __name__ == '__main__':\n",
    "    project_path = 'D:\\'  # Replace with your actual project path\n",
    "    generate_tree_structure(project_path)\n"
   ]
  },
  {
   "cell_type": "code",
   "execution_count": null,
   "id": "f2a2d720",
   "metadata": {},
   "outputs": [],
   "source": [
    "import os\n",
    "\n",
    "def generate_clean_tree_structure(path, indent=''):\n",
    "    excluded_dirs = ['.ipynb_checkpoints', 'node_modules', '.parcel-cache', 'dist']\n",
    "    excluded_files = ['.ipynb_checkpoints', '.parcel-cache', '*.ipynb']\n",
    "\n",
    "    try:\n",
    "        items = os.listdir(path)\n",
    "    except OSError:\n",
    "        return\n",
    "\n",
    "    for item in sorted(items):\n",
    "        item_path = os.path.join(path, item)\n",
    "        if os.path.isdir(item_path) and item not in excluded_dirs:\n",
    "            print(indent + f'[{item}]')\n",
    "            generate_clean_tree_structure(item_path, indent + '    ')\n",
    "        elif item not in excluded_files:\n",
    "            print(indent + item)\n",
    "\n",
    "if __name__ == '__main__':\n",
    "    project_path = 'D:\\'  # Replace with your actual project path\n",
    "    generate_clean_tree_structure(project_path)\n"
   ]
  },
  {
   "cell_type": "code",
   "execution_count": null,
   "id": "6be815cd",
   "metadata": {},
   "outputs": [],
   "source": [
    "import os\n",
    "\n",
    "def remove_redundant_terminal_files(path):\n",
    "    for root, dirs, files in os.walk(path):\n",
    "        for file in files:\n",
    "            if file == \"terminal.js\" and root != \"/working\":\n",
    "                file_path = os.path.join(root, file)\n",
    "                os.remove(file_path)\n",
    "                print(f\"Removed: {file_path}\")\n",
    "\n",
    "if __name__ == \"__main__\":\n",
    "    project_path = \"D:\\\"  # Replace with your actual project path\n",
    "    remove_redundant_terminal_files(project_path)\n"
   ]
  }
 ],
 "metadata": {
  "kernelspec": {
   "display_name": "Python 3 (ipykernel)",
   "language": "python",
   "name": "python3"
  },
  "language_info": {
   "codemirror_mode": {
    "name": "ipython",
    "version": 3
   },
   "file_extension": ".py",
   "mimetype": "text/x-python",
   "name": "python",
   "nbconvert_exporter": "python",
   "pygments_lexer": "ipython3",
   "version": "3.10.9"
  }
 },
 "nbformat": 4,
 "nbformat_minor": 5
}
