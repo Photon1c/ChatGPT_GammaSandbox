{
 "cells": [
  {
   "cell_type": "code",
   "execution_count": 2,
   "id": "16e1fbbd",
   "metadata": {},
   "outputs": [],
   "source": [
    "import os\n",
    "import glob\n",
    "import heapq\n",
    "\n",
    "def get_recent_files(directory, count):\n",
    "    file_list = []\n",
    "    for root, dirs, files in os.walk(directory):\n",
    "        for file in files:\n",
    "            file_path = os.path.join(root, file)\n",
    "            try:\n",
    "                file_list.append((os.path.getmtime(file_path), file_path))\n",
    "            except OSError:\n",
    "                print(f\"Error accessing file: {file_path}\")\n",
    "    \n",
    "    recent_files = heapq.nlargest(count, file_list)\n",
    "    return recent_files\n",
    "\n",
    "# Provide the directory path and the desired count of recent files\n",
    "directory_path = 'D:\\mainline\\machinelearning\\Auto-GPT\\autogpt'\n",
    "count = 25\n",
    "\n",
    "# Get the recent files\n",
    "recent_files = get_recent_files(directory_path, count)\n",
    "\n",
    "# Print the recent files\n",
    "for file in recent_files:\n",
    "    print(file[1])  # Print the file path\n"
   ]
  },
  {
   "cell_type": "code",
   "execution_count": null,
   "id": "2dbbc55a",
   "metadata": {},
   "outputs": [],
   "source": []
  }
 ],
 "metadata": {
  "kernelspec": {
   "display_name": "Python 3 (ipykernel)",
   "language": "python",
   "name": "python3"
  },
  "language_info": {
   "codemirror_mode": {
    "name": "ipython",
    "version": 3
   },
   "file_extension": ".py",
   "mimetype": "text/x-python",
   "name": "python",
   "nbconvert_exporter": "python",
   "pygments_lexer": "ipython3",
   "version": "3.10.9"
  }
 },
 "nbformat": 4,
 "nbformat_minor": 5
}
