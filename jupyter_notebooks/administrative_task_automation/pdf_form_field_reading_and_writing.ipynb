{
 "cells": [
  {
   "cell_type": "code",
   "execution_count": 19,
   "id": "83aa2f57",
   "metadata": {},
   "outputs": [
    {
     "ename": "AttributeError",
     "evalue": "'TextStringObject' object has no attribute 'values'",
     "output_type": "error",
     "traceback": [
      "\u001b[1;31m---------------------------------------------------------------------------\u001b[0m",
      "\u001b[1;31mAttributeError\u001b[0m                            Traceback (most recent call last)",
      "Cell \u001b[1;32mIn[19], line 14\u001b[0m\n\u001b[0;32m     12\u001b[0m \u001b[38;5;66;03m# Print form fields\u001b[39;00m\n\u001b[0;32m     13\u001b[0m \u001b[38;5;28;01mfor\u001b[39;00m field \u001b[38;5;129;01min\u001b[39;00m form_fields:\n\u001b[1;32m---> 14\u001b[0m     \u001b[38;5;28mprint\u001b[39m(\u001b[43mfield\u001b[49m\u001b[38;5;241;43m.\u001b[39;49m\u001b[43mvalues\u001b[49m())\n",
      "\u001b[1;31mAttributeError\u001b[0m: 'TextStringObject' object has no attribute 'values'"
     ]
    }
   ],
   "source": [
    "import PyPDF2\n",
    "\n",
    "# Open PDF file\n",
    "pdf_file = open('closingdispo.pdf', 'rb')\n",
    "\n",
    "# Create PDF reader object\n",
    "pdf_reader = PyPDF2.PdfReader(pdf_file)\n",
    "\n",
    "# Get form fields\n",
    "form_fields = pdf_reader.get_fields()\n",
    "\n",
    "# Print form fields\n",
    "for field in form_fields:\n",
    "    print(fields)\n"
   ]
  },
  {
   "cell_type": "code",
   "execution_count": 26,
   "id": "f09520a0",
   "metadata": {},
   "outputs": [],
   "source": [
    "import csv\n",
    "import os\n",
    "import PyPDF2\n",
    "\n",
    "# Set the paths for the input PDF and the CSV file\n",
    "pdf_path = 'closingdispo.pdf'\n",
    "csv_path = 'data.csv'\n",
    "\n",
    "# Open the PDF file\n",
    "with open(pdf_path, 'rb') as pdf_file:\n",
    "    # Create a PDF reader object\n",
    "    pdf_reader = PyPDF2.PdfReader(pdf_file)\n",
    "\n",
    "    # Get the first page of the PDF\n",
    "    pdf_page = pdf_reader.pages[0]\n",
    "\n",
    "    # Get the form fields\n",
    "    pdf_form = pdf_reader.get_fields()\n",
    "\n",
    "    # Open the CSV file\n",
    "    with open(csv_path, 'r') as csv_file:\n",
    "        # Create a CSV reader object\n",
    "        csv_reader = csv.DictReader(csv_file)\n",
    "\n",
    "        # Loop through each row in the CSV file\n",
    "        for row in csv_reader:\n",
    "            # Loop through each field in the form\n",
    "            for field in pdf_form:\n",
    "                # If the field name matches a column header in the CSV file, fill in the value\n",
    "                if field in row:\n",
    "                    pdf_form[field].update({NameObject('/V'): str(row[field])})\n",
    "\n",
    "    # Write the filled-out form to a new PDF file\n",
    "    with open('closingdispo_filledout.pdf', 'wb') as output_file:\n",
    "        pdf_writer = PyPDF2.PdfWriter()\n",
    "        pdf_writer.add_page(pdf_page)\n",
    "        pdf_writer.write(output_file)\n"
   ]
  },
  {
   "cell_type": "code",
   "execution_count": 10,
   "id": "cf91f861",
   "metadata": {},
   "outputs": [
    {
     "name": "stdout",
     "output_type": "stream",
     "text": [
      "Collecting pdfplumber\n",
      "  Downloading pdfplumber-0.8.0-py3-none-any.whl (43 kB)\n",
      "     ---------------------------------------- 43.7/43.7 kB 2.1 MB/s eta 0:00:00\n",
      "Requirement already satisfied: Pillow>=9.1 in c:\\users\\spark\\appdata\\roaming\\python\\python38\\site-packages (from pdfplumber) (9.1.1)\n",
      "Collecting Wand>=0.6.10\n",
      "  Downloading Wand-0.6.11-py2.py3-none-any.whl (143 kB)\n",
      "     -------------------------------------- 143.6/143.6 kB 8.3 MB/s eta 0:00:00\n",
      "Collecting pdfminer.six==20221105\n",
      "  Downloading pdfminer.six-20221105-py3-none-any.whl (5.6 MB)\n",
      "     ---------------------------------------- 5.6/5.6 MB 14.9 MB/s eta 0:00:00\n",
      "Requirement already satisfied: cryptography>=36.0.0 in c:\\users\\spark\\appdata\\roaming\\python\\python38\\site-packages (from pdfminer.six==20221105->pdfplumber) (37.0.2)\n",
      "Requirement already satisfied: charset-normalizer>=2.0.0 in d:\\anaconda\\lib\\site-packages (from pdfminer.six==20221105->pdfplumber) (2.0.12)\n",
      "Requirement already satisfied: cffi>=1.12 in c:\\users\\spark\\appdata\\roaming\\python\\python38\\site-packages (from cryptography>=36.0.0->pdfminer.six==20221105->pdfplumber) (1.15.0)\n",
      "Requirement already satisfied: pycparser in d:\\anaconda\\lib\\site-packages (from cffi>=1.12->cryptography>=36.0.0->pdfminer.six==20221105->pdfplumber) (2.21)\n",
      "Installing collected packages: Wand, pdfminer.six, pdfplumber\n",
      "  Attempting uninstall: pdfminer.six\n",
      "    Found existing installation: pdfminer.six 20220319\n",
      "    Uninstalling pdfminer.six-20220319:\n",
      "      Successfully uninstalled pdfminer.six-20220319\n",
      "Successfully installed Wand-0.6.11 pdfminer.six-20221105 pdfplumber-0.8.0\n",
      "\n",
      "[notice] A new release of pip available: 22.1.2 -> 23.0.1\n",
      "[notice] To update, run: python.exe -m pip install --upgrade pip\n",
      "Note: you may need to restart the kernel to use updated packages.\n"
     ]
    },
    {
     "name": "stderr",
     "output_type": "stream",
     "text": [
      "WARNING: Ignoring invalid distribution -etuptools (d:\\anaconda\\lib\\site-packages)\n",
      "WARNING: Ignoring invalid distribution -andas (d:\\anaconda\\lib\\site-packages)\n",
      "WARNING: Ignoring invalid distribution -etuptools (d:\\anaconda\\lib\\site-packages)\n",
      "WARNING: Ignoring invalid distribution -andas (d:\\anaconda\\lib\\site-packages)\n",
      "WARNING: Ignoring invalid distribution -etuptools (d:\\anaconda\\lib\\site-packages)\n",
      "WARNING: Ignoring invalid distribution -andas (d:\\anaconda\\lib\\site-packages)\n",
      "WARNING: Ignoring invalid distribution -etuptools (d:\\anaconda\\lib\\site-packages)\n",
      "WARNING: Ignoring invalid distribution -andas (d:\\anaconda\\lib\\site-packages)\n",
      "WARNING: Ignoring invalid distribution -etuptools (d:\\anaconda\\lib\\site-packages)\n",
      "WARNING: Ignoring invalid distribution -andas (d:\\anaconda\\lib\\site-packages)\n",
      "WARNING: Ignoring invalid distribution -etuptools (d:\\anaconda\\lib\\site-packages)\n",
      "WARNING: Ignoring invalid distribution -andas (d:\\anaconda\\lib\\site-packages)\n",
      "ERROR: pip's dependency resolver does not currently take into account all the packages that are installed. This behaviour is the source of the following dependency conflicts.\n",
      "seleniumbase 3.2.9 requires ipython==7.34.0; python_version >= \"3.7\", but you have ipython 8.7.0 which is incompatible.\n",
      "seleniumbase 3.2.9 requires pdfminer.six==20220319; python_version >= \"3.7\", but you have pdfminer-six 20221105 which is incompatible.\n",
      "seleniumbase 3.2.9 requires pytest==7.1.2; python_version >= \"3.7\", but you have pytest 6.2.5 which is incompatible.\n",
      "seleniumbase 3.2.9 requires requests==2.27.1; python_version >= \"3.6\", but you have requests 2.28.1 which is incompatible.\n",
      "seleniumbase 3.2.9 requires typing-extensions==4.0.0; python_version >= \"3.6\" and python_version < \"3.9\", but you have typing-extensions 4.4.0 which is incompatible.\n",
      "WARNING: Ignoring invalid distribution -etuptools (d:\\anaconda\\lib\\site-packages)\n",
      "WARNING: Ignoring invalid distribution -andas (d:\\anaconda\\lib\\site-packages)\n"
     ]
    }
   ],
   "source": [
    "pip install pdfplumber"
   ]
  },
  {
   "cell_type": "code",
   "execution_count": null,
   "id": "f9af20da",
   "metadata": {},
   "outputs": [],
   "source": []
  }
 ],
 "metadata": {
  "kernelspec": {
   "display_name": "Python 3",
   "language": "python",
   "name": "python3"
  },
  "language_info": {
   "codemirror_mode": {
    "name": "ipython",
    "version": 3
   },
   "file_extension": ".py",
   "mimetype": "text/x-python",
   "name": "python",
   "nbconvert_exporter": "python",
   "pygments_lexer": "ipython3",
   "version": "3.8.8"
  }
 },
 "nbformat": 4,
 "nbformat_minor": 5
}
