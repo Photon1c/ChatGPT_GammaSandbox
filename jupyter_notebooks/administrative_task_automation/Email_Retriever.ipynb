{
 "cells": [
  {
   "cell_type": "code",
   "execution_count": 3,
   "metadata": {},
   "outputs": [
    {
     "ename": "AttributeError",
     "evalue": "<unknown>.SenderName",
     "output_type": "error",
     "traceback": [
      "\u001b[1;31m---------------------------------------------------------------------------\u001b[0m",
      "\u001b[1;31mAttributeError\u001b[0m                            Traceback (most recent call last)",
      "\u001b[1;32m<ipython-input-3-43cdaa7a293d>\u001b[0m in \u001b[0;36m<module>\u001b[1;34m\u001b[0m\n\u001b[0;32m     32\u001b[0m     \u001b[1;31m# Get the email data\u001b[0m\u001b[1;33m\u001b[0m\u001b[1;33m\u001b[0m\u001b[1;33m\u001b[0m\u001b[0m\n\u001b[0;32m     33\u001b[0m     \u001b[0msubject\u001b[0m \u001b[1;33m=\u001b[0m \u001b[0memail\u001b[0m\u001b[1;33m.\u001b[0m\u001b[0mSubject\u001b[0m\u001b[1;33m\u001b[0m\u001b[1;33m\u001b[0m\u001b[0m\n\u001b[1;32m---> 34\u001b[1;33m     \u001b[0msender\u001b[0m \u001b[1;33m=\u001b[0m \u001b[0memail\u001b[0m\u001b[1;33m.\u001b[0m\u001b[0mSenderName\u001b[0m\u001b[1;33m\u001b[0m\u001b[1;33m\u001b[0m\u001b[0m\n\u001b[0m\u001b[0;32m     35\u001b[0m     \u001b[0mreceived\u001b[0m \u001b[1;33m=\u001b[0m \u001b[0memail\u001b[0m\u001b[1;33m.\u001b[0m\u001b[0mReceivedTime\u001b[0m\u001b[1;33m.\u001b[0m\u001b[0mstrftime\u001b[0m\u001b[1;33m(\u001b[0m\u001b[1;34m\"%m/%d/%Y %H:%M:%S\"\u001b[0m\u001b[1;33m)\u001b[0m\u001b[1;33m\u001b[0m\u001b[1;33m\u001b[0m\u001b[0m\n\u001b[0;32m     36\u001b[0m     \u001b[0mbody\u001b[0m \u001b[1;33m=\u001b[0m \u001b[0memail\u001b[0m\u001b[1;33m.\u001b[0m\u001b[0mBody\u001b[0m\u001b[1;33m\u001b[0m\u001b[1;33m\u001b[0m\u001b[0m\n",
      "\u001b[1;32m~\\Anaconda3\\lib\\site-packages\\win32com\\client\\dynamic.py\u001b[0m in \u001b[0;36m__getattr__\u001b[1;34m(self, attr)\u001b[0m\n\u001b[0;32m    525\u001b[0m \u001b[1;33m\u001b[0m\u001b[0m\n\u001b[0;32m    526\u001b[0m                 \u001b[1;31m# no where else to look.\u001b[0m\u001b[1;33m\u001b[0m\u001b[1;33m\u001b[0m\u001b[1;33m\u001b[0m\u001b[0m\n\u001b[1;32m--> 527\u001b[1;33m                 \u001b[1;32mraise\u001b[0m \u001b[0mAttributeError\u001b[0m\u001b[1;33m(\u001b[0m\u001b[1;34m\"%s.%s\"\u001b[0m \u001b[1;33m%\u001b[0m \u001b[1;33m(\u001b[0m\u001b[0mself\u001b[0m\u001b[1;33m.\u001b[0m\u001b[0m_username_\u001b[0m\u001b[1;33m,\u001b[0m \u001b[0mattr\u001b[0m\u001b[1;33m)\u001b[0m\u001b[1;33m)\u001b[0m\u001b[1;33m\u001b[0m\u001b[1;33m\u001b[0m\u001b[0m\n\u001b[0m\u001b[0;32m    528\u001b[0m \u001b[1;33m\u001b[0m\u001b[0m\n\u001b[0;32m    529\u001b[0m         \u001b[1;32mdef\u001b[0m \u001b[0m__setattr__\u001b[0m\u001b[1;33m(\u001b[0m\u001b[0mself\u001b[0m\u001b[1;33m,\u001b[0m \u001b[0mattr\u001b[0m\u001b[1;33m,\u001b[0m \u001b[0mvalue\u001b[0m\u001b[1;33m)\u001b[0m\u001b[1;33m:\u001b[0m\u001b[1;33m\u001b[0m\u001b[1;33m\u001b[0m\u001b[0m\n",
      "\u001b[1;31mAttributeError\u001b[0m: <unknown>.SenderName"
     ]
    }
   ],
   "source": [
    "import win32com.client\n",
    "import datetime\n",
    "import openpyxl\n",
    "\n",
    "# Create an instance of the Outlook application\n",
    "outlook = win32com.client.Dispatch(\"Outlook.Application\").GetNamespace(\"MAPI\")\n",
    "\n",
    "# Get the inbox folder\n",
    "\n",
    "messages1 = outlook.Folders(\"Leslie.Cuadra@kingcounty.gov\").Folders(\"Inbox\")#your email address\n",
    "messages2 = messages1.Folders(\"TestTube\")#your subdirectory inside your Inbox\n",
    "messages3 = messages2.Folders(\"Cobot-SMC closing\").Items#additional subdirectory within subdirectory\n",
    "\n",
    "\n",
    "\n",
    "# Get the email items in the inbox folder\n",
    "\n",
    "\n",
    "# Create an Excel workbook and worksheet to store the data\n",
    "workbook = openpyxl.Workbook()\n",
    "worksheet = workbook.active\n",
    "\n",
    "# Add headers to the worksheet\n",
    "worksheet[\"A1\"] = \"Subject\"\n",
    "worksheet[\"B1\"] = \"Sender\"\n",
    "worksheet[\"C1\"] = \"Received\"\n",
    "worksheet[\"D1\"] = \"Body\"\n",
    "worksheet[\"E1\"] = \"Attachments\"\n",
    "\n",
    "# Iterate through the emails in the inbox folder\n",
    "for i, email in enumerate(messages3):\n",
    "    # Get the email data\n",
    "    subject = email.Subject\n",
    "    sender = email.SenderName\n",
    "    received = email.ReceivedTime.strftime(\"%m/%d/%Y %H:%M:%S\")\n",
    "    body = email.Body\n",
    "    attachments = len(email.Attachments)\n",
    "    \n",
    "    # Write the email data to the worksheet\n",
    "    worksheet[\"A\" + str(i+2)] = subject\n",
    "    worksheet[\"B\" + str(i+2)] = sender\n",
    "    worksheet[\"C\" + str(i+2)] = received\n",
    "    worksheet[\"D\" + str(i+2)] = body\n",
    "    worksheet[\"E\" + str(i+2)] = attachments\n",
    "\n",
    "# Save the workbook\n",
    "workbook.save(\"email_data.xlsx\")\n",
    "\n",
    "# Close the Outlook application\n",
    "#outlook.Quit()\n"
   ]
  },
  {
   "cell_type": "code",
   "execution_count": null,
   "metadata": {},
   "outputs": [],
   "source": []
  }
 ],
 "metadata": {
  "kernelspec": {
   "display_name": "Python 3",
   "language": "python",
   "name": "python3"
  },
  "language_info": {
   "codemirror_mode": {
    "name": "ipython",
    "version": 3
   },
   "file_extension": ".py",
   "mimetype": "text/x-python",
   "name": "python",
   "nbconvert_exporter": "python",
   "pygments_lexer": "ipython3",
   "version": "3.8.5"
  }
 },
 "nbformat": 4,
 "nbformat_minor": 4
}
