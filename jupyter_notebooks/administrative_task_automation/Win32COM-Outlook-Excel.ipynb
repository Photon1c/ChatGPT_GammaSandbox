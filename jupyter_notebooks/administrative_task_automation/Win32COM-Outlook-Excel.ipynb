{
 "cells": [
  {
   "cell_type": "code",
   "execution_count": null,
   "id": "fb71bb88",
   "metadata": {},
   "outputs": [],
   "source": [
    "import win32com.client\n",
    "import os\n",
    "import xlwt\n",
    "from xlwt import Formula\n",
    "\n",
    "outlook = win32com.client.Dispatch(\"Outlook.Application\").GetNamespace(\"MAPI\")\n",
    "inbox = outlook.GetDefaultFolder(6)  # 6 refers to the index of the inbox folder\n",
    "\n",
    "# Define the Excel spreadsheet\n",
    "book = xlwt.Workbook(encoding=\"utf-8\")\n",
    "sheet1 = book.add_sheet(\"Sheet 1\")\n",
    "sheet1.write(0, 0, \"Subject\")\n",
    "sheet1.write(0, 1, \"Received Time\")\n",
    "sheet1.write(0, 2, \"Attachment Received\")\n",
    "\n",
    "# Iterate over each email in the inbox folder\n",
    "row = 1\n",
    "for message in inbox.Items:\n",
    "    subject = message.Subject\n",
    "    received_time = message.ReceivedTime.strftime(\"%m/%d/%Y %H:%M:%S\")\n",
    "    attachment_received = \"No\"\n",
    "    attachment_hyperlink = \"\"\n",
    "    \n",
    "    if message.Attachments.Count > 0:\n",
    "        attachment_received = \"Yes\"\n",
    "        attachment_hyperlink = Formula(f'HYPERLINK(\"{message.Attachments.Item(1).Path}\",\"{message.Attachments.Item(1).FileName}\")')\n",
    "    \n",
    "    # Write the email data to the Excel spreadsheet\n",
    "    sheet1.write(row, 0, subject)\n",
    "    sheet1.write(row, 1, received_time)\n",
    "    sheet1.write(row, 2, attachment_hyperlink)\n",
    "    \n",
    "    row += 1\n",
    "\n",
    "# Save the Excel spreadsheet\n",
    "book.save(os.path.join(os.path.expanduser(\"~\"), \"Desktop\", \"Emails.xls\"))\n"
   ]
  }
 ],
 "metadata": {
  "kernelspec": {
   "display_name": "Python 3",
   "language": "python",
   "name": "python3"
  },
  "language_info": {
   "codemirror_mode": {
    "name": "ipython",
    "version": 3
   },
   "file_extension": ".py",
   "mimetype": "text/x-python",
   "name": "python",
   "nbconvert_exporter": "python",
   "pygments_lexer": "ipython3",
   "version": "3.8.8"
  }
 },
 "nbformat": 4,
 "nbformat_minor": 5
}
